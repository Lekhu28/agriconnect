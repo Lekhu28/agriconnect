{
 "cells": [
  {
   "cell_type": "markdown",
   "metadata": {
    "id": "CJq8MoKhqxu6"
   },
   "source": [
    "# Importing the Libraries"
   ]
  },
  {
   "cell_type": "code",
   "execution_count": 1,
   "metadata": {
    "colab": {
     "base_uri": "https://localhost:8080/"
    },
    "executionInfo": {
     "elapsed": 30913,
     "status": "ok",
     "timestamp": 1712206412737,
     "user": {
      "displayName": "TruProjects yolo",
      "userId": "18414174829652366032"
     },
     "user_tz": -330
    },
    "id": "ff2uQGhz11k7",
    "outputId": "9ccbda03-455a-44ef-c75b-9c398a9d300e"
   },
   "outputs": [
    {
     "name": "stdout",
     "output_type": "stream",
     "text": [
      "Mounted at /content/drive\n"
     ]
    }
   ],
   "source": [
    "from google.colab import drive\n",
    "drive.mount('/content/drive')"
   ]
  },
  {
   "cell_type": "code",
   "execution_count": 1,
   "metadata": {
    "executionInfo": {
     "elapsed": 2,
     "status": "ok",
     "timestamp": 1712206412738,
     "user": {
      "displayName": "TruProjects yolo",
      "userId": "18414174829652366032"
     },
     "user_tz": -330
    },
    "id": "cfg31-yDPYOo"
   },
   "outputs": [],
   "source": [
    "import warnings\n",
    "warnings.filterwarnings('ignore')"
   ]
  },
  {
   "cell_type": "code",
   "execution_count": 3,
   "metadata": {
    "executionInfo": {
     "elapsed": 3410,
     "status": "ok",
     "timestamp": 1712206416146,
     "user": {
      "displayName": "TruProjects yolo",
      "userId": "18414174829652366032"
     },
     "user_tz": -330
    },
    "id": "-Yq5H80Zqxvb"
   },
   "outputs": [],
   "source": [
    "import torch\n",
    "from IPython.display import Image\n",
    "import shutil\n",
    "import os\n",
    "from random import choice"
   ]
  },
  {
   "cell_type": "code",
   "execution_count": 4,
   "metadata": {
    "colab": {
     "base_uri": "https://localhost:8080/"
    },
    "executionInfo": {
     "elapsed": 7799,
     "status": "ok",
     "timestamp": 1712205478428,
     "user": {
      "displayName": "TruProjects yolo",
      "userId": "18414174829652366032"
     },
     "user_tz": -330
    },
    "id": "AMqChL9yiWgu",
    "outputId": "a0e627c5-3e20-4c90-c331-9f6d500d95a6"
   },
   "outputs": [
    {
     "name": "stdout",
     "output_type": "stream",
     "text": [
      "Archive:  /content/drive/MyDrive/crop/waste_management.v1i.yolov5pytorch.zip\n",
      " extracting: /content/drive/MyDrive/crop/yolov5/README.dataset.txt  \n",
      " extracting: /content/drive/MyDrive/crop/yolov5/README.roboflow.txt  \n",
      " extracting: /content/drive/MyDrive/crop/yolov5/data.yaml  \n",
      "   creating: /content/drive/MyDrive/crop/yolov5/train/\n",
      "   creating: /content/drive/MyDrive/crop/yolov5/train/images/\n",
      " extracting: /content/drive/MyDrive/crop/yolov5/train/images/00007_jpg.rf.d76cc7ce4000efc627611eb2d71c1265.jpg  \n",
      " extracting: /content/drive/MyDrive/crop/yolov5/train/images/00016_jpg.rf.c491af2178640bf3de455f243631424b.jpg  \n",
      " extracting: /content/drive/MyDrive/crop/yolov5/train/images/00017_jpg.rf.ea8e9aa8a56afe315785707023c875e9.jpg  \n",
      " extracting: /content/drive/MyDrive/crop/yolov5/train/images/00018_jpg.rf.f48aadd64e01e5691acacc00d2b4e18c.jpg  \n",
      " extracting: /content/drive/MyDrive/crop/yolov5/train/images/00022_jpg.rf.757e1db6fcf965af3ce548eb44cc3194.jpg  \n",
      " extracting: /content/drive/MyDrive/crop/yolov5/train/images/00024_jpg.rf.3ceed35e0dd6ed26a6bf4f529ffec2ab.jpg  \n",
      " extracting: /content/drive/MyDrive/crop/yolov5/train/images/00029_jpg.rf.76bcc6dca11c3406e8da3edfcb99f6b9.jpg  \n",
      " extracting: /content/drive/MyDrive/crop/yolov5/train/images/00030_jpg.rf.bc60cf6ca9601cf873994b96fa675ed1.jpg  \n",
      " extracting: /content/drive/MyDrive/crop/yolov5/train/images/00032_jpg.rf.d1f1d158cfcf3a138b519294576a62cb.jpg  \n",
      " extracting: /content/drive/MyDrive/crop/yolov5/train/images/00035_jpg.rf.d3f3511c334272ece8cf50126f390ddc.jpg  \n",
      " extracting: /content/drive/MyDrive/crop/yolov5/train/images/00038_jpg.rf.5c4f4d02d54ef96112f0f62a669b6e21.jpg  \n",
      " extracting: /content/drive/MyDrive/crop/yolov5/train/images/00039_jpg.rf.e3286f9b22fbd2a1aab5248469bb70fc.jpg  \n",
      " extracting: /content/drive/MyDrive/crop/yolov5/train/images/00042_jpg.rf.d9a8532993d9bc8fe43d519fc42c9c3c.jpg  \n",
      " extracting: /content/drive/MyDrive/crop/yolov5/train/images/00045_jpg.rf.51a7d60ffc93a716b566d8ed4b56d8d5.jpg  \n",
      " extracting: /content/drive/MyDrive/crop/yolov5/train/images/00048_jpg.rf.217cad0f39fd0ce81da44d408c9a0101.jpg  \n",
      " extracting: /content/drive/MyDrive/crop/yolov5/train/images/00049_jpg.rf.ffc8ac0995bfad806e7236073190a3e1.jpg  \n",
      " extracting: /content/drive/MyDrive/crop/yolov5/train/images/00052_jpg.rf.46cb0ffb38c7fd1e6d2f04c6b25f91cf.jpg  \n",
      " extracting: /content/drive/MyDrive/crop/yolov5/train/images/00056_jpg.rf.73796e2d699e4fca9858443a4d188b53.jpg  \n",
      " extracting: /content/drive/MyDrive/crop/yolov5/train/images/00060_jpg.rf.060f90966f753b2a07214169a3398655.jpg  \n",
      " extracting: /content/drive/MyDrive/crop/yolov5/train/images/00078_jpg.rf.f5b53602f8205cc62a4458199bc68f7b.jpg  \n",
      " extracting: /content/drive/MyDrive/crop/yolov5/train/images/00087_jpg.rf.38ed3c8ac8ff648ffbc2b1d0d5f3e1ba.jpg  \n",
      " extracting: /content/drive/MyDrive/crop/yolov5/train/images/00088_jpg.rf.69c7b5a8f00c4ac4cfc86bf606e66714.jpg  \n",
      " extracting: /content/drive/MyDrive/crop/yolov5/train/images/00093_jpg.rf.cb496e8cb050f9a64324618bb14ff2dd.jpg  \n",
      " extracting: /content/drive/MyDrive/crop/yolov5/train/images/00095_jpg.rf.f82ff597688c62dadd0fa086693c98fe.jpg  \n",
      " extracting: /content/drive/MyDrive/crop/yolov5/train/images/00096_jpg.rf.7932b9d2ef7eec2659a531b5b56306e5.jpg  \n",
      " extracting: /content/drive/MyDrive/crop/yolov5/train/images/00098_jpg.rf.871ec33ed4cab48d682bd1088100a60e.jpg  \n",
      " extracting: /content/drive/MyDrive/crop/yolov5/train/images/00107_jpg.rf.4c6018aa08ced90ebe3abf668339df36.jpg  \n",
      " extracting: /content/drive/MyDrive/crop/yolov5/train/images/00114_jpg.rf.8d35eebcc174d0f11ec1912f24ee72a7.jpg  \n",
      " extracting: /content/drive/MyDrive/crop/yolov5/train/images/00117_jpg.rf.fe01ad80144c4185ec1bd27dab7252c5.jpg  \n",
      " extracting: /content/drive/MyDrive/crop/yolov5/train/images/0011f8d9-614_jpg.rf.8912e154b5ce56d962602c169ba03ba1.jpg  \n",
      " extracting: /content/drive/MyDrive/crop/yolov5/train/images/00122_jpg.rf.40098e533547992b917e103e158ad8d8.jpg  \n",
      " extracting: /content/drive/MyDrive/crop/yolov5/train/images/00125_jpg.rf.1881b921954b773a5bedd69d916f3812.jpg  \n",
      " extracting: /content/drive/MyDrive/crop/yolov5/train/images/00128_jpg.rf.c9f3636094f21993247e65b5edbe5c19.jpg  \n",
      " extracting: /content/drive/MyDrive/crop/yolov5/train/images/00136_jpg.rf.efc9a8a94dd15796e5ce402cec6f90cd.jpg  \n",
      " extracting: /content/drive/MyDrive/crop/yolov5/train/images/00141_jpg.rf.0ea0b8805540ea1a305842bdf39ec82d.jpg  \n",
      " extracting: /content/drive/MyDrive/crop/yolov5/train/images/00142_jpg.rf.df25d40c00dc00adf35a12263cdc9834.jpg  \n",
      " extracting: /content/drive/MyDrive/crop/yolov5/train/images/00147_jpg.rf.d1a4361e7074368082a453e7b6eb2542.jpg  \n",
      " extracting: /content/drive/MyDrive/crop/yolov5/train/images/00150_jpg.rf.e3e7b0d9d1d8172eaac363061e98a813.jpg  \n",
      " extracting: /content/drive/MyDrive/crop/yolov5/train/images/00160_jpg.rf.bc82795474847c531e127d77c19572e5.jpg  \n",
      " extracting: /content/drive/MyDrive/crop/yolov5/train/images/00166_jpg.rf.d2d7710ff83b986a165cea03ccd13236.jpg  \n",
      " extracting: /content/drive/MyDrive/crop/yolov5/train/images/00177_jpg.rf.8255f3982314eea8736e2635b9612c30.jpg  \n",
      " extracting: /content/drive/MyDrive/crop/yolov5/train/images/00189_jpg.rf.e8e4cb4ebce5636521dc01ff4b328e40.jpg  \n",
      " extracting: /content/drive/MyDrive/crop/yolov5/train/images/00190_jpg.rf.c7dbf4bd368e1381a48fdf41219407a9.jpg  \n",
      " extracting: /content/drive/MyDrive/crop/yolov5/train/images/00197_jpg.rf.9437cd7c0b0765e8a63d3b0f44c4a67c.jpg  \n",
      " extracting: /content/drive/MyDrive/crop/yolov5/train/images/00200_jpg.rf.c44d166629944e40c05ab3af6b36a705.jpg  \n",
      " extracting: /content/drive/MyDrive/crop/yolov5/train/images/00208_jpg.rf.8e52c370895fececaf0c4cb129ee2c09.jpg  \n",
      " extracting: /content/drive/MyDrive/crop/yolov5/train/images/00209_jpg.rf.913d46b226d0aab231603f39b3f86518.jpg  \n",
      " extracting: /content/drive/MyDrive/crop/yolov5/train/images/00211_jpg.rf.7e0b7bc8ad8e6f709e82763bdbe99ceb.jpg  \n",
      " extracting: /content/drive/MyDrive/crop/yolov5/train/images/00217_jpg.rf.ba226766ea7efe7067b151903f4c0023.jpg  \n",
      " extracting: /content/drive/MyDrive/crop/yolov5/train/images/00230_jpg.rf.1f34197b93fb5ccd2c5b49f4bc8fda3a.jpg  \n",
      " extracting: /content/drive/MyDrive/crop/yolov5/train/images/00237_jpg.rf.8151b4a678d2d37adb5033283b43c0f8.jpg  \n",
      " extracting: /content/drive/MyDrive/crop/yolov5/train/images/00249_jpg.rf.d420cdd4bd5e53abb6dcb0a0dd435447.jpg  \n",
      " extracting: /content/drive/MyDrive/crop/yolov5/train/images/00251_jpg.rf.e5a6e29550b27cd66338ec16795bc646.jpg  \n",
      " extracting: /content/drive/MyDrive/crop/yolov5/train/images/00284_jpg.rf.7ed236fab8e4524d3fd183852b026ac8.jpg  \n",
      " extracting: /content/drive/MyDrive/crop/yolov5/train/images/00285_jpg.rf.7b0c9858b8bcc81e32b75054af1741ef.jpg  \n",
      " extracting: /content/drive/MyDrive/crop/yolov5/train/images/00286_jpg.rf.b732a616472fbf108dd9661a8b315903.jpg  \n",
      " extracting: /content/drive/MyDrive/crop/yolov5/train/images/00308_jpg.rf.414e26d72d2747b40d9e4b6c15b55c53.jpg  \n",
      " extracting: /content/drive/MyDrive/crop/yolov5/train/images/00310_jpg.rf.0d9783b53b4e1e9b7282dc6c04d29713.jpg  \n",
      " extracting: /content/drive/MyDrive/crop/yolov5/train/images/00322_jpg.rf.0dd7c6e5f7dc9f8f84c42656fd336fc6.jpg  \n",
      " extracting: /content/drive/MyDrive/crop/yolov5/train/images/00333_jpg.rf.d1eb02ed8230afa79f6763bce31d676c.jpg  \n",
      " extracting: /content/drive/MyDrive/crop/yolov5/train/images/00334_jpg.rf.4f764a2f7024fff1a1650b87f75f8fcc.jpg  \n",
      " extracting: /content/drive/MyDrive/crop/yolov5/train/images/00335_jpg.rf.892dc843542909e11cdffd126f93599a.jpg  \n",
      " extracting: /content/drive/MyDrive/crop/yolov5/train/images/00358_jpg.rf.5627c531573a19c7594aa2772dd8751e.jpg  \n",
      " extracting: /content/drive/MyDrive/crop/yolov5/train/images/00361_jpg.rf.0b42430c8963e01a38aa49221a824032.jpg  \n",
      " extracting: /content/drive/MyDrive/crop/yolov5/train/images/00373_jpg.rf.1899ffe973e15649b3019be850c0e444.jpg  \n",
      " extracting: /content/drive/MyDrive/crop/yolov5/train/images/00384_jpg.rf.f6ceeea4a213b4f2a0094d5099cfe080.jpg  \n",
      " extracting: /content/drive/MyDrive/crop/yolov5/train/images/00388_jpg.rf.88d2ed8d336fea4bfd884d01996044a8.jpg  \n",
      " extracting: /content/drive/MyDrive/crop/yolov5/train/images/00394_jpg.rf.34fad1a60c5c03a4b0129b73b540d35e.jpg  \n",
      " extracting: /content/drive/MyDrive/crop/yolov5/train/images/00395_jpg.rf.fee91f02f61a6e3904a4d25f932ca41c.jpg  \n",
      " extracting: /content/drive/MyDrive/crop/yolov5/train/images/00405_jpg.rf.b575cc2a4be2022070560e7a5e3b5e20.jpg  \n",
      " extracting: /content/drive/MyDrive/crop/yolov5/train/images/00407_jpg.rf.9f4e52a08f0bde325c17e33360392b9a.jpg  \n",
      " extracting: /content/drive/MyDrive/crop/yolov5/train/images/00410_jpg.rf.d01bd2d12707a21fd83808240e56ddfb.jpg  \n",
      " extracting: /content/drive/MyDrive/crop/yolov5/train/images/00416_jpg.rf.54f7abe3de1def426f2d4ea5541660f4.jpg  \n",
      " extracting: /content/drive/MyDrive/crop/yolov5/train/images/00418_jpg.rf.fe5cd4961cf9903dfe819c7afae553fc.jpg  \n",
      " extracting: /content/drive/MyDrive/crop/yolov5/train/images/00427_jpg.rf.e0131da62111d7674573034e568c5e93.jpg  \n",
      " extracting: /content/drive/MyDrive/crop/yolov5/train/images/00429_jpg.rf.928cd2868430074e3ed54032e4c29502.jpg  \n",
      " extracting: /content/drive/MyDrive/crop/yolov5/train/images/00448_jpg.rf.b765c6db2a5d565d3c3f76aae5b194ee.jpg  \n",
      " extracting: /content/drive/MyDrive/crop/yolov5/train/images/00453_jpg.rf.6dd5d25e2bca32601babbe20134aea6a.jpg  \n",
      " extracting: /content/drive/MyDrive/crop/yolov5/train/images/00454_jpg.rf.230c42716af958ea7756da6e40dd76e8.jpg  \n",
      " extracting: /content/drive/MyDrive/crop/yolov5/train/images/00459_jpg.rf.6d997099f36fe9bd74725e660a0a5ee0.jpg  \n",
      " extracting: /content/drive/MyDrive/crop/yolov5/train/images/00466_jpg.rf.ee9d7f435b9ef989d98495c10acbf23c.jpg  \n",
      " extracting: /content/drive/MyDrive/crop/yolov5/train/images/00474_jpg.rf.a9f1031ebe6692bee32053a685f2011f.jpg  \n",
      " extracting: /content/drive/MyDrive/crop/yolov5/train/images/00483_jpg.rf.733ee8178d27ac79e27d5dc197f99557.jpg  \n",
      " extracting: /content/drive/MyDrive/crop/yolov5/train/images/00493_jpg.rf.ed639ce4d568ad879448f5f7e023ff44.jpg  \n",
      " extracting: /content/drive/MyDrive/crop/yolov5/train/images/00496_jpg.rf.6405e00a3f2d53f563c08c3fce9ca53f.jpg  \n",
      " extracting: /content/drive/MyDrive/crop/yolov5/train/images/00498_jpg.rf.338423d9de8f9bece626b66721306a60.jpg  \n",
      " extracting: /content/drive/MyDrive/crop/yolov5/train/images/00502_jpg.rf.9de1717b6f2bb50bd6880948d8057c33.jpg  \n",
      " extracting: /content/drive/MyDrive/crop/yolov5/train/images/00515_jpg.rf.4b4834f083d4ad258e56762412f83b20.jpg  \n",
      " extracting: /content/drive/MyDrive/crop/yolov5/train/images/00521_jpg.rf.f0d35f986304af254281a2e8142dd002.jpg  \n",
      " extracting: /content/drive/MyDrive/crop/yolov5/train/images/00539_jpg.rf.932b6fbafd95ee384972a5c01bb0e79d.jpg  \n",
      " extracting: /content/drive/MyDrive/crop/yolov5/train/images/00565_jpg.rf.e308627a12c322d23271a029b31d2fce.jpg  \n",
      " extracting: /content/drive/MyDrive/crop/yolov5/train/images/00574_jpg.rf.d143db315c85a8941abf85cfc3245fb0.jpg  \n",
      " extracting: /content/drive/MyDrive/crop/yolov5/train/images/00581_jpg.rf.0a099d6446559f7e59e5a7d4b5ada678.jpg  \n",
      " extracting: /content/drive/MyDrive/crop/yolov5/train/images/00590_jpg.rf.a1c265fcd9f0f1c61149326340112657.jpg  \n",
      " extracting: /content/drive/MyDrive/crop/yolov5/train/images/00595_jpg.rf.ec1697f37a5d5905d083e491fd1cac7f.jpg  \n",
      " extracting: /content/drive/MyDrive/crop/yolov5/train/images/00598_jpg.rf.c34dc186cc644ff328a1377b43ad2e06.jpg  \n",
      " extracting: /content/drive/MyDrive/crop/yolov5/train/images/00608_jpg.rf.f1fe8d5dc28f53d5e80db31c50229e61.jpg  \n",
      " extracting: /content/drive/MyDrive/crop/yolov5/train/images/00648_jpg.rf.0a9fe287711da0ab98ef48bbe88a74e1.jpg  \n",
      " extracting: /content/drive/MyDrive/crop/yolov5/train/images/00662_jpg.rf.2512197e7fc29e2437d7c559de06e13d.jpg  \n",
      " extracting: /content/drive/MyDrive/crop/yolov5/train/images/00668_jpg.rf.9b6fa2e015207000b0ff62b1d666f7e7.jpg  \n",
      " extracting: /content/drive/MyDrive/crop/yolov5/train/images/00674_jpg.rf.7b8d9859b317bc2a1d5887166c5ff25d.jpg  \n",
      " extracting: /content/drive/MyDrive/crop/yolov5/train/images/00693_jpg.rf.f2a90c16b774a6e24b769a89ef9c26b7.jpg  \n",
      " extracting: /content/drive/MyDrive/crop/yolov5/train/images/00698_jpg.rf.bd49d20c16af4f0af44f90b1ea24f4fd.jpg  \n",
      " extracting: /content/drive/MyDrive/crop/yolov5/train/images/00699_jpg.rf.95f59e1d8449f5c7dc7378dcd822c8ea.jpg  \n",
      " extracting: /content/drive/MyDrive/crop/yolov5/train/images/00707_jpg.rf.c556b421650ef9ee5a2e7165e6cfbc71.jpg  \n",
      " extracting: /content/drive/MyDrive/crop/yolov5/train/images/00709_jpg.rf.45eade9882ddf1361d1c16e30b8a009d.jpg  \n",
      " extracting: /content/drive/MyDrive/crop/yolov5/train/images/00710_jpg.rf.6665283c302705eeae4893198365ffee.jpg  \n",
      " extracting: /content/drive/MyDrive/crop/yolov5/train/images/00711_jpg.rf.a6bb248bbeecf2dec51d3eacb10ebb83.jpg  \n",
      " extracting: /content/drive/MyDrive/crop/yolov5/train/images/00719_jpg.rf.cf1284a37b12234fd1ad075816b0a0ee.jpg  \n",
      " extracting: /content/drive/MyDrive/crop/yolov5/train/images/00721_jpg.rf.62f5e6f7470861c2b6bc9245b7516ebf.jpg  \n",
      " extracting: /content/drive/MyDrive/crop/yolov5/train/images/00722_jpg.rf.818871c1eccf84081fd46da68416cc8c.jpg  \n",
      " extracting: /content/drive/MyDrive/crop/yolov5/train/images/00723_jpg.rf.fbc699c598d62a818b5ef64593d01eff.jpg  \n",
      " extracting: /content/drive/MyDrive/crop/yolov5/train/images/00726_jpg.rf.cee287ec2c08db6689a0e5580bc7a8bd.jpg  \n",
      " extracting: /content/drive/MyDrive/crop/yolov5/train/images/00730_jpg.rf.d721d3f2637a6f7bd33384e9008f069e.jpg  \n",
      " extracting: /content/drive/MyDrive/crop/yolov5/train/images/00731_jpg.rf.07975ad5ced81a125f69e983ba898762.jpg  \n",
      " extracting: /content/drive/MyDrive/crop/yolov5/train/images/00732_jpg.rf.3c2bb1aceb68c633f790fb9fe9c1254a.jpg  \n",
      " extracting: /content/drive/MyDrive/crop/yolov5/train/images/00740_jpg.rf.15c5ac0e27ecfdae86500cfb3a451408.jpg  \n",
      " extracting: /content/drive/MyDrive/crop/yolov5/train/images/00742_jpg.rf.0b851b396eb1219249c0b15162b09c42.jpg  \n",
      " extracting: /content/drive/MyDrive/crop/yolov5/train/images/00746_jpg.rf.a2161d3081301b4a6d2748f62f629d7d.jpg  \n",
      " extracting: /content/drive/MyDrive/crop/yolov5/train/images/00747_jpg.rf.32d134e364d0f161a6f0cb92643eaec6.jpg  \n",
      " extracting: /content/drive/MyDrive/crop/yolov5/train/images/00748_jpg.rf.6a278900c61dc004fefe96ce60c9060f.jpg  \n",
      " extracting: /content/drive/MyDrive/crop/yolov5/train/images/00749_jpg.rf.7eb11172255a6c85923c0cf517c6fdfe.jpg  \n",
      " extracting: /content/drive/MyDrive/crop/yolov5/train/images/00765_jpg.rf.bb7c733a51b2e683bb3dc7db7d8b2f08.jpg  \n",
      " extracting: /content/drive/MyDrive/crop/yolov5/train/images/00767_jpg.rf.ef2a9662c250f51ba52fbd8237019446.jpg  \n",
      " extracting: /content/drive/MyDrive/crop/yolov5/train/images/00769_jpg.rf.1ed88e3e6cbe482c4d01d809f7a208bb.jpg  \n",
      " extracting: /content/drive/MyDrive/crop/yolov5/train/images/00774_jpg.rf.2ce6d39e8f2d51c3281572d1d0e8e150.jpg  \n",
      " extracting: /content/drive/MyDrive/crop/yolov5/train/images/00790_jpg.rf.4420440b75520d4d7bf8896e8c640303.jpg  \n",
      " extracting: /content/drive/MyDrive/crop/yolov5/train/images/00801_jpg.rf.2bc6ebc755ba41fef9ae599e5573cf86.jpg  \n",
      " extracting: /content/drive/MyDrive/crop/yolov5/train/images/00805_jpg.rf.6c6cbbfca09df17e3476d40498bf9fc1.jpg  \n",
      " extracting: /content/drive/MyDrive/crop/yolov5/train/images/00808_jpg.rf.b973d47d6912d9f3e69d85a118f69abe.jpg  \n",
      " extracting: /content/drive/MyDrive/crop/yolov5/train/images/00813_jpg.rf.7198a8aadb991231b7d4009ad4be27a6.jpg  \n",
      " extracting: /content/drive/MyDrive/crop/yolov5/train/images/00816_jpg.rf.3b0aceffd843752a50fdf18e0f77176d.jpg  \n",
      " extracting: /content/drive/MyDrive/crop/yolov5/train/images/00818_jpg.rf.7f99ddff8e4048c583c6e9f297c5f1bc.jpg  \n",
      " extracting: /content/drive/MyDrive/crop/yolov5/train/images/00819_jpg.rf.0fa4e4408baf4ad8f86d71f2620f982e.jpg  \n",
      " extracting: /content/drive/MyDrive/crop/yolov5/train/images/00820_jpg.rf.df897ba95dc658184f77ab44f87875ff.jpg  \n",
      " extracting: /content/drive/MyDrive/crop/yolov5/train/images/1000_F_407431057_UtfWgF7jPj79fyvOYinn7Tsfu2eQuKZE_jpg.rf.5d9ecd383a21fcce5e2ce26d3017686d.jpg  \n",
      " extracting: /content/drive/MyDrive/crop/yolov5/train/images/10_jpg.rf.a8dc045cd2f9c3b6d8ccef042f8dada7.jpg  \n",
      " extracting: /content/drive/MyDrive/crop/yolov5/train/images/12_jpg.rf.c26fedebd2bd28e06f07729965083b39.jpg  \n",
      " extracting: /content/drive/MyDrive/crop/yolov5/train/images/130287-before-image_jpeg.rf.bef3fdb757b9ba510ede9cf1d994a6cc.jpg  \n",
      " extracting: /content/drive/MyDrive/crop/yolov5/train/images/13_jpg.rf.12d955e949446091ac6f3f272d9e407f.jpg  \n",
      " extracting: /content/drive/MyDrive/crop/yolov5/train/images/14_jpg.rf.5dc3e9ff88dfe1f5c6f99950ca859d51.jpg  \n",
      " extracting: /content/drive/MyDrive/crop/yolov5/train/images/15_jpg.rf.905cf42dfcb7179e782b8bf8a511f304.jpg  \n",
      " extracting: /content/drive/MyDrive/crop/yolov5/train/images/1683557010653_jpg.rf.4a2e6eb9c971008bcc02bfe8a568cc0a.jpg  \n",
      " extracting: /content/drive/MyDrive/crop/yolov5/train/images/16_jpg.rf.108bd8ef55ccd5d76e47c604df085a48.jpg  \n",
      " extracting: /content/drive/MyDrive/crop/yolov5/train/images/17_jpg.rf.8372f8383e919794840055e66ec33da9.jpg  \n",
      " extracting: /content/drive/MyDrive/crop/yolov5/train/images/182fe0ef910b4914901ce0ed6af803f8_jpg.rf.7b4cfd21b4fc9cfd282c1e3aff9b53e6.jpg  \n",
      " extracting: /content/drive/MyDrive/crop/yolov5/train/images/189025_jpg.rf.54d41f497467170613969f4f03568354.jpg  \n",
      " extracting: /content/drive/MyDrive/crop/yolov5/train/images/19_jpg.rf.47bbee0e678c4e57d5b7eeb747be6402.jpg  \n",
      " extracting: /content/drive/MyDrive/crop/yolov5/train/images/2-3_jpg.rf.e83a609a993db24ce4371952ce59bc87.jpg  \n",
      " extracting: /content/drive/MyDrive/crop/yolov5/train/images/2-string-wheat-4-oif1do4m8g18cqn5ny1thlfh8mlqcgubbq20ybwoso_jpg.rf.098966a64c512f9ffb84338a8d1d1cbb.jpg  \n",
      " extracting: /content/drive/MyDrive/crop/yolov5/train/images/2017spring-waste-not-1optA_jpg.rf.004dc5e11ceb7e3ce063b3d729b9829f.jpg  \n",
      " extracting: /content/drive/MyDrive/crop/yolov5/train/images/20230622_172326_jpg.rf.8a6e9d8ea393124ad35dc2cbab7f9083.jpg  \n",
      " extracting: /content/drive/MyDrive/crop/yolov5/train/images/21_jpg.rf.f3d442b45a2b2c400480358eff16f131.jpg  \n",
      " extracting: /content/drive/MyDrive/crop/yolov5/train/images/23_jpg.rf.97e17652d96f0b201d42c54799614ad7.jpg  \n",
      " extracting: /content/drive/MyDrive/crop/yolov5/train/images/24_jpg.rf.3234f8a51e32c1af901798c99d805664.jpg  \n",
      " extracting: /content/drive/MyDrive/crop/yolov5/train/images/25_jpg.rf.1f26fd8757007e2f67a7f8574736b9ec.jpg  \n",
      " extracting: /content/drive/MyDrive/crop/yolov5/train/images/26_jpg.rf.57e018f55397841d763af55c21619b97.jpg  \n",
      " extracting: /content/drive/MyDrive/crop/yolov5/train/images/28_jpg.rf.bc56976fbd2f2c173c3e0c227f2a4841.jpg  \n",
      " extracting: /content/drive/MyDrive/crop/yolov5/train/images/29867428_1705680188_jpg.rf.9f97eeb808fb4d26c0910cc37d9bb107.jpg  \n",
      " extracting: /content/drive/MyDrive/crop/yolov5/train/images/29_jpg.rf.9d781b14080cceaa132257fa6c396098.jpg  \n",
      " extracting: /content/drive/MyDrive/crop/yolov5/train/images/2_jpg.rf.1f98372fcd6d55c9c565b43b2cfc0755.jpg  \n",
      " extracting: /content/drive/MyDrive/crop/yolov5/train/images/30_jpg.rf.ce9e31b1429a79e62913cfd0a7c7a693.jpg  \n",
      " extracting: /content/drive/MyDrive/crop/yolov5/train/images/31_jpg.rf.55f9d3dd39f3bdefa2690db4c4161c0a.jpg  \n",
      " extracting: /content/drive/MyDrive/crop/yolov5/train/images/32_jpg.rf.502655a0e6888345ba3df3265e8987cb.jpg  \n",
      " extracting: /content/drive/MyDrive/crop/yolov5/train/images/348s_jpg.rf.664b0ac96c892c208729a871602591d7.jpg  \n",
      " extracting: /content/drive/MyDrive/crop/yolov5/train/images/35_jpg.rf.802bff04d54cd37a86b4a84600eaa184.jpg  \n",
      " extracting: /content/drive/MyDrive/crop/yolov5/train/images/360_F_288121842_oey4mLF9YAzVNRcFyaEJjIxkuQufahfE_jpg.rf.30b630e42fc5a3fb54bcb72cd8b9b9b6.jpg  \n",
      " extracting: /content/drive/MyDrive/crop/yolov5/train/images/360_F_32059997_HzT7QS1yfhcIp1FYQRMsLckK3GfJ40qC_jpg.rf.36962a64f91b157a797734f0d77ce609.jpg  \n",
      " extracting: /content/drive/MyDrive/crop/yolov5/train/images/360_F_414644443_71rQd5Y5pzQ63tu5C61GXeORWOjtMmZJ_jpg.rf.e2aa09229da7facde2b7a7cb7389a6b2.jpg  \n",
      " extracting: /content/drive/MyDrive/crop/yolov5/train/images/360_F_515211232_lMF4n7w3AoMxELPjMMEClLzQcpRcRLLj_jpg.rf.4c67e5bc4de5c42c16532bf5dd100908.jpg  \n",
      " extracting: /content/drive/MyDrive/crop/yolov5/train/images/37573_1_jpg.rf.dd9961544b33f1da4ba048937491df9f.jpg  \n",
      " extracting: /content/drive/MyDrive/crop/yolov5/train/images/3_jpg.rf.e71b043ebcdddbc799e3c2f9d74ea29b.jpg  \n",
      " extracting: /content/drive/MyDrive/crop/yolov5/train/images/42744_1_jpg.rf.c4f3f1c48ced1e279638d707a4ed6aff.jpg  \n",
      " extracting: /content/drive/MyDrive/crop/yolov5/train/images/4_jpg.rf.7407bdfcbcc82dc32e6321d38bb379a8.jpg  \n",
      " extracting: /content/drive/MyDrive/crop/yolov5/train/images/5GHQCAVEE5RJZB54YDMHNXR7IQ_jpg.rf.85bae030a004a580bee48fbcc81a198f.jpg  \n",
      " extracting: /content/drive/MyDrive/crop/yolov5/train/images/5MNMDRZBKALKPLU2OSP5X3IV7M_jpg.rf.481c50f19fc4531f0380838d43cc8bc6.jpg  \n",
      " extracting: /content/drive/MyDrive/crop/yolov5/train/images/5_jpg.rf.3c3c8af160db079dcadc2bbeba2d425c.jpg  \n",
      " extracting: /content/drive/MyDrive/crop/yolov5/train/images/5d9f672144e50-image_jpg.rf.46e41affc3dfce0eec652e6c4b79f392.jpg  \n",
      " extracting: /content/drive/MyDrive/crop/yolov5/train/images/5edff99fe51497455cc8f8db48a38966_XL_jpg.rf.66b62bc31bcf5bdcda7735a4be6a674a.jpg  \n",
      " extracting: /content/drive/MyDrive/crop/yolov5/train/images/638036765484770000_jpg.rf.a6d9045deb44260d2606337834c0dad4.jpg  \n",
      " extracting: /content/drive/MyDrive/crop/yolov5/train/images/644638fd-08c6-48de-881b-1660ef852969-e889a2a_jpg.rf.fdcb36873dd1526e21464652943e58eb.jpg  \n",
      " extracting: /content/drive/MyDrive/crop/yolov5/train/images/6_jpg.rf.1a349e9a6c6ee6a95d0f396d808431c5.jpg  \n",
      " extracting: /content/drive/MyDrive/crop/yolov5/train/images/719VTcbYeeL-_AC_UF1000-1000_QL80__jpg.rf.8eccdf4c752139ccf4dc5c12b72035c1.jpg  \n",
      " extracting: /content/drive/MyDrive/crop/yolov5/train/images/7498571b98_jpg.rf.585da9ed1ae831a9235e05fc5c8c3130.jpg  \n",
      " extracting: /content/drive/MyDrive/crop/yolov5/train/images/7_jpg.rf.c6e1657173cb214f4dc915a6ac7d3fdc.jpg  \n",
      " extracting: /content/drive/MyDrive/crop/yolov5/train/images/86fafcc16cfb3eb0f77dd2397efad850_jpg.rf.ffeeb51c79acb15ed21448878c7bd31c.jpg  \n",
      " extracting: /content/drive/MyDrive/crop/yolov5/train/images/8cf631f09ff0ff636f2726e3ba8d51a1_jpeg.rf.d00367ed8691bb42ea7b6eea60b65c5b.jpg  \n",
      " extracting: /content/drive/MyDrive/crop/yolov5/train/images/9781410388308_00084_jpg.rf.b18212a3bd41aed1326b385faf4f0bf9.jpg  \n",
      " extracting: /content/drive/MyDrive/crop/yolov5/train/images/98349541-bent-palm-tree-dead-palm-dry-dead-palm-leaves-with-blue-vibrant-sky_jpg.rf.0aed86a536a9b95559722005f9f4a7fa.jpg  \n",
      " extracting: /content/drive/MyDrive/crop/yolov5/train/images/9_jpg.rf.c065bef3be1adccfc89253b64eb1b6eb.jpg  \n",
      " extracting: /content/drive/MyDrive/crop/yolov5/train/images/Bagasse_jpg.rf.8ff56463a271f27241fb1446d0622d7c.jpg  \n",
      " extracting: /content/drive/MyDrive/crop/yolov5/train/images/Coco-Husk_Blog_WW_1300x625_jpg.rf.95b3eebaab3ef37e8942f4342e97a507.jpg  \n",
      " extracting: /content/drive/MyDrive/crop/yolov5/train/images/Document_jpg.rf.e5fc5a08965759383b5776606608f797.jpg  \n",
      " extracting: /content/drive/MyDrive/crop/yolov5/train/images/FAO-officials-condemn-unnecessary-loss-and-waste-of-good-food_jpg.rf.af439f9ad6df88481135a2a5cfe947ff.jpg  \n",
      " extracting: /content/drive/MyDrive/crop/yolov5/train/images/Food-waste-EPA_jpg.rf.800065a6ba4927e4d9a85281131ca67f.jpg  \n",
      " extracting: /content/drive/MyDrive/crop/yolov5/train/images/Food-waste-pic1_jpg.rf.c9a53e80e60448a388a1f9fa15b67c41.jpg  \n",
      " extracting: /content/drive/MyDrive/crop/yolov5/train/images/IICT-s-initiative-to-turn-dry-leaves-into-soil-conditioner_jpg.rf.1e52d0c4734ae3bc5fc29f95d08671dd.jpg  \n",
      " extracting: /content/drive/MyDrive/crop/yolov5/train/images/Jessica-Toth-Image-1-Grocer_s-produce-dumpster-of-food-for-disposal-Solana_jpg.rf.3b22fb17aaaf455fcc3c3c2f45f6db3d.jpg  \n",
      " extracting: /content/drive/MyDrive/crop/yolov5/train/images/Madagascar_Deforestation_jpg.rf.ace26042866d614390b55400f50c7d76.jpg  \n",
      " extracting: /content/drive/MyDrive/crop/yolov5/train/images/NJ_Food-Waste_jpg.rf.15fb193732f5603ba8aaf9124e6cb12e.jpg  \n",
      " extracting: /content/drive/MyDrive/crop/yolov5/train/images/Net-Zero-Waste-Abbotsford-Air-Filter_jpg.rf.55295e03c81ae6a979ab30342739cf19.jpg  \n",
      " extracting: /content/drive/MyDrive/crop/yolov5/train/images/Oil-Palm-Tree-Wastes-5-Uses-of-the-palm-pressed-fiber_jpg.rf.b75085b62f48b0d294e3cdcd31ecdcca.jpg  \n",
      " extracting: /content/drive/MyDrive/crop/yolov5/train/images/OilPalmFiber027-1-_jpg.rf.5c44b1e172b4e3837b95ed5b30fd5411.jpg  \n",
      " extracting: /content/drive/MyDrive/crop/yolov5/train/images/Organic-waste-recycled-scaled-1-1-_jpeg.rf.64fad0d72a29c5f3d7a041bd462e4de3.jpg  \n",
      " extracting: /content/drive/MyDrive/crop/yolov5/train/images/Palm-Tree-Waste-4-1_jpg.rf.e01aa3109ba4acb7905b0255c5ae9f0e.jpg  \n",
      " extracting: /content/drive/MyDrive/crop/yolov5/train/images/Tree-Farm-Licence-44-wood-waste_TJ_Watt_jpg.rf.1d7d5ef2a3c0baea2dc4817bfa38cdac.jpg  \n",
      " extracting: /content/drive/MyDrive/crop/yolov5/train/images/WHEAT-STRAW-_jpg.rf.211077b28bc6ed93778a9331b048bd8d.jpg  \n",
      " extracting: /content/drive/MyDrive/crop/yolov5/train/images/a_jpg.rf.5fdbb612a74fdc04568a1cf28a3e1794.jpg  \n",
      " extracting: /content/drive/MyDrive/crop/yolov5/train/images/agricultural-field-with-corn-photo_jpg.rf.5b89f4181237d1ff60b4a63564794dd9.jpg  \n",
      " extracting: /content/drive/MyDrive/crop/yolov5/train/images/b_jpg.rf.64a5e8d6bb4ef6dac24e5862d47df748.jpg  \n",
      " extracting: /content/drive/MyDrive/crop/yolov5/train/images/bagasse-300x207_jpeg.rf.2758ee2a30b823d7e4cb0520eb2fc804.jpg  \n",
      " extracting: /content/drive/MyDrive/crop/yolov5/train/images/bagasses_jpg.rf.ecbe46b7373b9a36ad2dd7369fd67b44.jpg  \n",
      " extracting: /content/drive/MyDrive/crop/yolov5/train/images/c_jpg.rf.c8924013dc21e8671148fe905e4dddb4.jpg  \n",
      " extracting: /content/drive/MyDrive/crop/yolov5/train/images/christmas-tree-old-1024x683_jpeg.rf.aa0f015afdf2b580b381ac010e8f1a64.jpg  \n",
      " extracting: /content/drive/MyDrive/crop/yolov5/train/images/close-up-of-dry-banana-leaves-or-banana-plant-free-photo_jpg.rf.8dd2320fb2e9621a29fca497a472b33c.jpg  \n",
      " extracting: /content/drive/MyDrive/crop/yolov5/train/images/closeup-palm-trunk-steam-texture-natural-tropical-background_97889-441_jpg.rf.9fccd06d4678bf597222e39afd63de00.jpg  \n",
      " extracting: /content/drive/MyDrive/crop/yolov5/train/images/coconut-shell-waste-1662969020-6534537_jpeg.rf.ed179371af19b1a4407cdd59eee5411f.jpg  \n",
      " extracting: /content/drive/MyDrive/crop/yolov5/train/images/compost-heap-irc-1024x683_jpg.rf.34f6259bebe4c4e6b2a9e8e449eed3d8.jpg  \n",
      " extracting: /content/drive/MyDrive/crop/yolov5/train/images/compost-layers-1024x681_jpg.rf.037e360dd0027308b6804ecccc88290e.jpg  \n",
      " extracting: /content/drive/MyDrive/crop/yolov5/train/images/compost_intro_image3259135916375310554_jpg.rf.a646a528bf2be4b6f760bd6c2846a381.jpg  \n",
      " extracting: /content/drive/MyDrive/crop/yolov5/train/images/composting-waste_jpg.rf.74a72fc0be3262503b5d769d8f0833a2.jpg  \n",
      " extracting: /content/drive/MyDrive/crop/yolov5/train/images/cornwall-r-transformando-o-residuo-do-milho-em-um-material-inovador-de-base-biologica_6_jpg.rf.dcb26e78cc5973185b36ba5763e0b38f.jpg  \n",
      " extracting: /content/drive/MyDrive/crop/yolov5/train/images/depositphotos_466922904-stock-photo-vertical-shot-broken-tree-barks_jpg.rf.04d644d9bbb3e4bcf050b1cc7d4dd19b.jpg  \n",
      " extracting: /content/drive/MyDrive/crop/yolov5/train/images/depositphotos_697441596-stock-photo-tree-sections-plant-waste-wood_jpg.rf.d47986bed6f37154b4dc928b9d7fdcfd.jpg  \n",
      " extracting: /content/drive/MyDrive/crop/yolov5/train/images/depositphotos_83363910-stock-photo-tree-branches_jpg.rf.3eb3c844893e3ec477f0b9e3e2152d93.jpg  \n",
      " extracting: /content/drive/MyDrive/crop/yolov5/train/images/discarded-carrots-left-left-in-field-after-harvest-FF0CYK_jpg.rf.4ff772940470d3267e6b01523c6b312e.jpg  \n",
      " extracting: /content/drive/MyDrive/crop/yolov5/train/images/download-3-_jpg.rf.8bcb852fad5f923ffb9586f500a111cf.jpg  \n",
      " extracting: /content/drive/MyDrive/crop/yolov5/train/images/dwqq9mr7p6281_jpg.rf.fe5d61b058ed48fbf16ed21313640742.jpg  \n",
      " extracting: /content/drive/MyDrive/crop/yolov5/train/images/empty-fruit-bunch_jpg.rf.f0c7089be5838e6a0a0a79aca4fd3eae.jpg  \n",
      " extracting: /content/drive/MyDrive/crop/yolov5/train/images/emptyfruitbunch_jpg.rf.90a6d72a8add1b36391405094cbd91ca.jpg  \n",
      " extracting: /content/drive/MyDrive/crop/yolov5/train/images/engineered-yeast-turn-agricultural-waste-into-biofuels-and-more-376484-640x360_jpg.rf.d7d1f75fd4a7a19bc8d8f90fb823c58d.jpg  \n",
      " extracting: /content/drive/MyDrive/crop/yolov5/train/images/everything-you-need-to-know-about-composting-garden-getty-0523-a926f282527a47d0a76ffd792247ec9a_jpg.rf.78ad5bf13ba56a6d8554345e86d64443.jpg  \n",
      " extracting: /content/drive/MyDrive/crop/yolov5/train/images/f46837222f3be6274635dd457d4184c9_jpg.rf.5bb243692a76c639809355c410e0dda8.jpg  \n",
      " extracting: /content/drive/MyDrive/crop/yolov5/train/images/f_jpg.rf.e8b3082411050c0b3a8221ee933c9b88.jpg  \n",
      " extracting: /content/drive/MyDrive/crop/yolov5/train/images/facilities_24_jpg.rf.9114ba43ce99ef73c5889fdf8e25f68c.jpg  \n",
      " extracting: /content/drive/MyDrive/crop/yolov5/train/images/food_scraps_pile_jpg.rf.31e3208575764056f906eafd75e6d113.jpg  \n",
      " extracting: /content/drive/MyDrive/crop/yolov5/train/images/food_waste_on_ground_jpg.rf.a92f7891f29af24e9382b08646ba3a51.jpg  \n",
      " extracting: /content/drive/MyDrive/crop/yolov5/train/images/g_jpg.rf.9847b0293a412d4fab03286b538a15f2.jpg  \n",
      " extracting: /content/drive/MyDrive/crop/yolov5/train/images/garden-waste-in-the-backyard_jpg.rf.7073c5300706b3f381a3d5b988925c16.jpg  \n",
      " extracting: /content/drive/MyDrive/crop/yolov5/train/images/gehakseld_tarwestro_groot_jpg.rf.30bec30569209208d48364a91aadfc26.jpg  \n",
      " extracting: /content/drive/MyDrive/crop/yolov5/train/images/h5pn3iq79t031_jpg.rf.76f63a7cd706341e3f55ebda9f251d96.jpg  \n",
      " extracting: /content/drive/MyDrive/crop/yolov5/train/images/h_jpg.rf.e3bd30b9b44512f9f422accf3a594f39.jpg  \n",
      " extracting: /content/drive/MyDrive/crop/yolov5/train/images/holihavmj327z36242d3b0349c9_jpg.rf.d897e8716d69bcb2482512927457565e.jpg  \n",
      " extracting: /content/drive/MyDrive/crop/yolov5/train/images/image-35469-green-palm-farms-saudi-arabia-beauty-palm-trees-beautiful-search_large_jpg.rf.f57bf90c2918cc93b20e8f340a84c208.jpg  \n",
      " extracting: /content/drive/MyDrive/crop/yolov5/train/images/image_750x_5e5a5b984db0b_jpg.rf.73337884dd0673ac1732ca6fc966de8e.jpg  \n",
      " extracting: /content/drive/MyDrive/crop/yolov5/train/images/image_750x_5eac1e63bfe29_jpg.rf.bd35ebf6dee9cabcfcf7890cd2162e24.jpg  \n",
      " extracting: /content/drive/MyDrive/crop/yolov5/train/images/images-1-_jpg.rf.21b17cfeeb56a655bca99a73a1fbfd1a.jpg  \n",
      " extracting: /content/drive/MyDrive/crop/yolov5/train/images/images-3-_jpg.rf.1dcc327d7484895ff6c5aceb27a7b9f9.jpg  \n",
      " extracting: /content/drive/MyDrive/crop/yolov5/train/images/images-4-_jpg.rf.7584370366ff9b933ca37cb1e75b6d4a.jpg  \n",
      " extracting: /content/drive/MyDrive/crop/yolov5/train/images/images-5-_jpg.rf.f4a6a50660a5fefeb1032df4f4b07b67.jpg  \n",
      " extracting: /content/drive/MyDrive/crop/yolov5/train/images/images-6-_jpg.rf.9bbbb84b1bb1e37ec17ae5461a1acd58.jpg  \n",
      " extracting: /content/drive/MyDrive/crop/yolov5/train/images/images-8-_jpg.rf.fcfaadee939bd5ef04780a4ba2258758.jpg  \n",
      " extracting: /content/drive/MyDrive/crop/yolov5/train/images/istockphoto-1221147234-612x612_jpg.rf.f9f53498736109e860cdd598b6618427.jpg  \n",
      " extracting: /content/drive/MyDrive/crop/yolov5/train/images/istockphoto-1302362708-612x612_jpg.rf.caf5b50a746bded695b27016dbbbfa36.jpg  \n",
      " extracting: /content/drive/MyDrive/crop/yolov5/train/images/istockphoto-1312046155-612x612_jpg.rf.dc59adb5649c4d47ab2ac008326f9e96.jpg  \n",
      " extracting: /content/drive/MyDrive/crop/yolov5/train/images/istockphoto-1313936811-612x612_jpg.rf.b3c3098b27bb6d0ed322e1dfbd578f3f.jpg  \n",
      " extracting: /content/drive/MyDrive/crop/yolov5/train/images/istockphoto-1351818643-170667a_jpg.rf.0fb3fbaac20ee35d4fd253e3289dee84.jpg  \n",
      " extracting: /content/drive/MyDrive/crop/yolov5/train/images/istockphoto-1424540849-612x612_jpg.rf.7084c851c6a6472e5a4f60696c9007fe.jpg  \n",
      " extracting: /content/drive/MyDrive/crop/yolov5/train/images/istockphoto-1425232271-612x612_jpg.rf.19e4a13e6a03a4c7cf300f43d981018e.jpg  \n",
      " extracting: /content/drive/MyDrive/crop/yolov5/train/images/istockphoto-1492025718-612x612_jpg.rf.278734c8ca21d77e8f3e8e0bca2c42e8.jpg  \n",
      " extracting: /content/drive/MyDrive/crop/yolov5/train/images/istockphoto-504305466-612x612_jpg.rf.a860981dd4fa7f2546c0748a8f2312da.jpg  \n",
      " extracting: /content/drive/MyDrive/crop/yolov5/train/images/istockphoto-544796392-612x612_jpg.rf.0d87ccff7f89f234467b129137f85c71.jpg  \n",
      " extracting: /content/drive/MyDrive/crop/yolov5/train/images/istockphoto-868730660-612x612_jpg.rf.81da1cec3b82af242cc581138adbcfd4.jpg  \n",
      " extracting: /content/drive/MyDrive/crop/yolov5/train/images/j_jpg.rf.4542dbe07a86df5bb85e6ea021896582.jpg  \n",
      " extracting: /content/drive/MyDrive/crop/yolov5/train/images/kucha-derevyannyh-palok-ili-vetok-0003231484-preview_jpg.rf.d3a36d1ef34db6bab6dea3e2eb2f3a90.jpg  \n",
      " extracting: /content/drive/MyDrive/crop/yolov5/train/images/l_jpg.rf.c26578fc091bb55712a53f844e678d25.jpg  \n",
      " extracting: /content/drive/MyDrive/crop/yolov5/train/images/limbah-batang-sawit_jpg.rf.d6a68fc8f9e511f306e3c331753c3078.jpg  \n",
      " extracting: /content/drive/MyDrive/crop/yolov5/train/images/m_jpg.rf.36da2b4cfc3943dc9fe20c4a578607b1.jpg  \n",
      " extracting: /content/drive/MyDrive/crop/yolov5/train/images/main-qimg-c605e14c95cf2cdf378a8c651e016f1a-pjlq_jpg.rf.4181850420e8b99336b5f3e463bce047.jpg  \n",
      " extracting: /content/drive/MyDrive/crop/yolov5/train/images/main-qimg-ece593a68ae3e8daf0af2c7e3e53d8cd-lq_jpg.rf.247760cddd2e6b940de7268af388971e.jpg  \n",
      " extracting: /content/drive/MyDrive/crop/yolov5/train/images/maize-waste_jpg.rf.3e34fa8fc51a43420d12e56d914465bd.jpg  \n",
      " extracting: /content/drive/MyDrive/crop/yolov5/train/images/maxresdefault_jpg.rf.65f35c7a2854cd2e331dce0d564e1204.jpg  \n",
      " extracting: /content/drive/MyDrive/crop/yolov5/train/images/model2bio-supports-reuse-of-food-industry-waste-streams-2000x1200_jpg.rf.c99a002fc620c73a563d5e654786a513.jpg  \n",
      " extracting: /content/drive/MyDrive/crop/yolov5/train/images/mqdefault_jpg.rf.2165bee78e71c7c58c81e833aefbf3c7.jpg  \n",
      " extracting: /content/drive/MyDrive/crop/yolov5/train/images/n_jpg.rf.7b95937f289a002567c713d0eb35ea77.jpg  \n",
      " extracting: /content/drive/MyDrive/crop/yolov5/train/images/o_jpg.rf.21164f4190a7d851a2b603c4df43a01f.jpg  \n",
      " extracting: /content/drive/MyDrive/crop/yolov5/train/images/oilpalm01_jpg.rf.55ddb281d5a86c368816b304cb9a1e25.jpg  \n",
      " extracting: /content/drive/MyDrive/crop/yolov5/train/images/ompost_jpg.rf.280238f0c890364a7a82992196d5c73f.jpg  \n",
      " extracting: /content/drive/MyDrive/crop/yolov5/train/images/organic-fertilizers-rife-with-microplastics-study-t_jpg.rf.fd6659a73092b8e0950f454b1a7c1c3e.jpg  \n",
      " extracting: /content/drive/MyDrive/crop/yolov5/train/images/orgfarm_recycling-of-farm-waste_clip_image002_jpg.rf.cc7253c5640c3f06fa238d439ea1e249.jpg  \n",
      " extracting: /content/drive/MyDrive/crop/yolov5/train/images/original_jpg.rf.f8607f2790636f0f3f32de9909699340.jpg  \n",
      " extracting: /content/drive/MyDrive/crop/yolov5/train/images/p_jpg.rf.ffba0f2a8b5e66b755719c04c020bd17.jpg  \n",
      " extracting: /content/drive/MyDrive/crop/yolov5/train/images/palm-fronds-1-800_jpg.rf.2fd830cb33b3ee234abc42f69dd1f8a8.jpg  \n",
      " extracting: /content/drive/MyDrive/crop/yolov5/train/images/palm-tree-fronds-tim-hester_jpg.rf.58c9f7879e0a73556df47db3e6d38a15.jpg  \n",
      " extracting: /content/drive/MyDrive/crop/yolov5/train/images/pasted-ivkvhjkvhjkhjkmage-0_jpg.rf.839ee3286f0a51ade24b46c4f7c72a7c.jpg  \n",
      " extracting: /content/drive/MyDrive/crop/yolov5/train/images/pexels-yan-krukov-5479034_jpg.rf.17ce9083fe893208d1e4811bdd73cbfc.jpg  \n",
      " extracting: /content/drive/MyDrive/crop/yolov5/train/images/pngtree-compost-heap-outside-with-vegetables-and-seeds-picture-image_2791222_jpg.rf.45d6ef58217c608cef2c65385e7f724c.jpg  \n",
      " extracting: /content/drive/MyDrive/crop/yolov5/train/images/principal_jpeg.rf.639dd43cb644847cadd9d7e117c39674.jpg  \n",
      " extracting: /content/drive/MyDrive/crop/yolov5/train/images/q_jpg.rf.69168b18d5d9c87de017dc7a3920154d.jpg  \n",
      " extracting: /content/drive/MyDrive/crop/yolov5/train/images/r_jpg.rf.85a3033bb442726bd38fb8ab8f390591.jpg  \n",
      " extracting: /content/drive/MyDrive/crop/yolov5/train/images/reducing-food-waste-1_jpg.rf.651ca166bd5c82d07fa59ed6337360f6.jpg  \n",
      " extracting: /content/drive/MyDrive/crop/yolov5/train/images/s_jpg.rf.3c8959b988e805a75f78719752244aa9.jpg  \n",
      " extracting: /content/drive/MyDrive/crop/yolov5/train/images/sdbej0h_Thumb_thumb_jpg.rf.ecef86e46caede374fdf6bff43a84aee.jpg  \n",
      " extracting: /content/drive/MyDrive/crop/yolov5/train/images/shutterstock_1392829997_resized_jpg.rf.8046f1642f5b19bc16d68a05e38be607.jpg  \n",
      " extracting: /content/drive/MyDrive/crop/yolov5/train/images/shutterstock_2195383459_jpg.rf.5de9891b6ddf8b96bde34d29719e6939.jpg  \n",
      " extracting: /content/drive/MyDrive/crop/yolov5/train/images/stock-photo-a-fallen-dry-tree-the-branches-stick-out-different-sides-1739808293_jpg.rf.2f4af5a2f1fe1a8b28932f491c420592.jpg  \n",
      " extracting: /content/drive/MyDrive/crop/yolov5/train/images/stopfoodwasteday_jpeg.rf.33b8797f633d756393929091afbf4bbb.jpg  \n",
      " extracting: /content/drive/MyDrive/crop/yolov5/train/images/stubblefield2_jpg.rf.8bbc90ac5f402a3c24cb86df7578f8fe.jpg  \n",
      " extracting: /content/drive/MyDrive/crop/yolov5/train/images/sugarcane-bagasse-1616574825-5765719_jpeg.rf.33c2ec20bb5cdcbbe61ddd14bf4e21c6.jpg  \n",
      " extracting: /content/drive/MyDrive/crop/yolov5/train/images/sugarcane-waste_20180255500_jpg.rf.f8f77d363a8fe9b30842519436d7a5db.jpg  \n",
      " extracting: /content/drive/MyDrive/crop/yolov5/train/images/sugarcane_bagasse_cuba_jpg.rf.c8aefa384b0dfbede3517a0d3fea7fe3.jpg  \n",
      " extracting: /content/drive/MyDrive/crop/yolov5/train/images/t_jpg.rf.b6430d2e91ac8afff3efdb75694abcf3.jpg  \n",
      " extracting: /content/drive/MyDrive/crop/yolov5/train/images/trash-bell-138_jpg.rf.6e879b970b38aac9da5ec886c12eb436.jpg  \n",
      " extracting: /content/drive/MyDrive/crop/yolov5/train/images/u_jpg.rf.eab0ca90214bb4ad72b4f64c0415da6e.jpg  \n",
      " extracting: /content/drive/MyDrive/crop/yolov5/train/images/v_jpg.rf.7f7f55dbb2eb01827aa7db77e5aabd60.jpg  \n",
      " extracting: /content/drive/MyDrive/crop/yolov5/train/images/vam_output_16-JPG-1ed43de33dc07b74_jpeg.rf.130b76d51fda4d2804d784299aa04ce3.jpg  \n",
      " extracting: /content/drive/MyDrive/crop/yolov5/train/images/w_jpg.rf.78a2f6670ad92a7ff442e469b811aa33.jpg  \n",
      " extracting: /content/drive/MyDrive/crop/yolov5/train/images/waste-left-after-harvest-and-some-corn-cobs-E5BW8M_jpg.rf.7a37d4d8ff2b7d7ab72d19089d77c5b3.jpg  \n",
      " extracting: /content/drive/MyDrive/crop/yolov5/train/images/wheat-straw-1558932302-4925459_jpeg.rf.040941c34bd8278fbfd5292b7a49a61f.jpg  \n",
      " extracting: /content/drive/MyDrive/crop/yolov5/train/images/wood_materials_jpg.rf.468fad69665f4349122677efb0465a6b.jpg  \n",
      " extracting: /content/drive/MyDrive/crop/yolov5/train/images/y_jpg.rf.36e72a05a248ec02d44303c5e3c5d086.jpg  \n",
      " extracting: /content/drive/MyDrive/crop/yolov5/train/images/yard-cleanup-and-waste-removal-service-company-orange-county-ny_jpg.rf.9588005f2b10b7f3b6ba8c5a9e80c6e4.jpg  \n",
      " extracting: /content/drive/MyDrive/crop/yolov5/train/images/z_jpg.rf.9737657dac6a5383f16876fe3c4d093c.jpg  \n",
      "   creating: /content/drive/MyDrive/crop/yolov5/train/labels/\n",
      " extracting: /content/drive/MyDrive/crop/yolov5/train/labels/00007_jpg.rf.d76cc7ce4000efc627611eb2d71c1265.txt  \n",
      " extracting: /content/drive/MyDrive/crop/yolov5/train/labels/00016_jpg.rf.c491af2178640bf3de455f243631424b.txt  \n",
      " extracting: /content/drive/MyDrive/crop/yolov5/train/labels/00017_jpg.rf.ea8e9aa8a56afe315785707023c875e9.txt  \n",
      " extracting: /content/drive/MyDrive/crop/yolov5/train/labels/00018_jpg.rf.f48aadd64e01e5691acacc00d2b4e18c.txt  \n",
      " extracting: /content/drive/MyDrive/crop/yolov5/train/labels/00022_jpg.rf.757e1db6fcf965af3ce548eb44cc3194.txt  \n",
      " extracting: /content/drive/MyDrive/crop/yolov5/train/labels/00024_jpg.rf.3ceed35e0dd6ed26a6bf4f529ffec2ab.txt  \n",
      " extracting: /content/drive/MyDrive/crop/yolov5/train/labels/00029_jpg.rf.76bcc6dca11c3406e8da3edfcb99f6b9.txt  \n",
      " extracting: /content/drive/MyDrive/crop/yolov5/train/labels/00030_jpg.rf.bc60cf6ca9601cf873994b96fa675ed1.txt  \n",
      " extracting: /content/drive/MyDrive/crop/yolov5/train/labels/00032_jpg.rf.d1f1d158cfcf3a138b519294576a62cb.txt  \n",
      " extracting: /content/drive/MyDrive/crop/yolov5/train/labels/00035_jpg.rf.d3f3511c334272ece8cf50126f390ddc.txt  \n",
      " extracting: /content/drive/MyDrive/crop/yolov5/train/labels/00038_jpg.rf.5c4f4d02d54ef96112f0f62a669b6e21.txt  \n",
      " extracting: /content/drive/MyDrive/crop/yolov5/train/labels/00039_jpg.rf.e3286f9b22fbd2a1aab5248469bb70fc.txt  \n",
      " extracting: /content/drive/MyDrive/crop/yolov5/train/labels/00042_jpg.rf.d9a8532993d9bc8fe43d519fc42c9c3c.txt  \n",
      " extracting: /content/drive/MyDrive/crop/yolov5/train/labels/00045_jpg.rf.51a7d60ffc93a716b566d8ed4b56d8d5.txt  \n",
      " extracting: /content/drive/MyDrive/crop/yolov5/train/labels/00048_jpg.rf.217cad0f39fd0ce81da44d408c9a0101.txt  \n",
      " extracting: /content/drive/MyDrive/crop/yolov5/train/labels/00049_jpg.rf.ffc8ac0995bfad806e7236073190a3e1.txt  \n",
      " extracting: /content/drive/MyDrive/crop/yolov5/train/labels/00052_jpg.rf.46cb0ffb38c7fd1e6d2f04c6b25f91cf.txt  \n",
      " extracting: /content/drive/MyDrive/crop/yolov5/train/labels/00056_jpg.rf.73796e2d699e4fca9858443a4d188b53.txt  \n",
      " extracting: /content/drive/MyDrive/crop/yolov5/train/labels/00060_jpg.rf.060f90966f753b2a07214169a3398655.txt  \n",
      " extracting: /content/drive/MyDrive/crop/yolov5/train/labels/00078_jpg.rf.f5b53602f8205cc62a4458199bc68f7b.txt  \n",
      " extracting: /content/drive/MyDrive/crop/yolov5/train/labels/00087_jpg.rf.38ed3c8ac8ff648ffbc2b1d0d5f3e1ba.txt  \n",
      " extracting: /content/drive/MyDrive/crop/yolov5/train/labels/00088_jpg.rf.69c7b5a8f00c4ac4cfc86bf606e66714.txt  \n",
      " extracting: /content/drive/MyDrive/crop/yolov5/train/labels/00093_jpg.rf.cb496e8cb050f9a64324618bb14ff2dd.txt  \n",
      " extracting: /content/drive/MyDrive/crop/yolov5/train/labels/00095_jpg.rf.f82ff597688c62dadd0fa086693c98fe.txt  \n",
      " extracting: /content/drive/MyDrive/crop/yolov5/train/labels/00096_jpg.rf.7932b9d2ef7eec2659a531b5b56306e5.txt  \n",
      " extracting: /content/drive/MyDrive/crop/yolov5/train/labels/00098_jpg.rf.871ec33ed4cab48d682bd1088100a60e.txt  \n",
      " extracting: /content/drive/MyDrive/crop/yolov5/train/labels/00107_jpg.rf.4c6018aa08ced90ebe3abf668339df36.txt  \n",
      " extracting: /content/drive/MyDrive/crop/yolov5/train/labels/00114_jpg.rf.8d35eebcc174d0f11ec1912f24ee72a7.txt  \n",
      " extracting: /content/drive/MyDrive/crop/yolov5/train/labels/00117_jpg.rf.fe01ad80144c4185ec1bd27dab7252c5.txt  \n",
      " extracting: /content/drive/MyDrive/crop/yolov5/train/labels/0011f8d9-614_jpg.rf.8912e154b5ce56d962602c169ba03ba1.txt  \n",
      " extracting: /content/drive/MyDrive/crop/yolov5/train/labels/00122_jpg.rf.40098e533547992b917e103e158ad8d8.txt  \n",
      " extracting: /content/drive/MyDrive/crop/yolov5/train/labels/00125_jpg.rf.1881b921954b773a5bedd69d916f3812.txt  \n",
      " extracting: /content/drive/MyDrive/crop/yolov5/train/labels/00128_jpg.rf.c9f3636094f21993247e65b5edbe5c19.txt  \n",
      " extracting: /content/drive/MyDrive/crop/yolov5/train/labels/00136_jpg.rf.efc9a8a94dd15796e5ce402cec6f90cd.txt  \n",
      " extracting: /content/drive/MyDrive/crop/yolov5/train/labels/00141_jpg.rf.0ea0b8805540ea1a305842bdf39ec82d.txt  \n",
      " extracting: /content/drive/MyDrive/crop/yolov5/train/labels/00142_jpg.rf.df25d40c00dc00adf35a12263cdc9834.txt  \n",
      " extracting: /content/drive/MyDrive/crop/yolov5/train/labels/00147_jpg.rf.d1a4361e7074368082a453e7b6eb2542.txt  \n",
      " extracting: /content/drive/MyDrive/crop/yolov5/train/labels/00150_jpg.rf.e3e7b0d9d1d8172eaac363061e98a813.txt  \n",
      " extracting: /content/drive/MyDrive/crop/yolov5/train/labels/00160_jpg.rf.bc82795474847c531e127d77c19572e5.txt  \n",
      " extracting: /content/drive/MyDrive/crop/yolov5/train/labels/00166_jpg.rf.d2d7710ff83b986a165cea03ccd13236.txt  \n",
      " extracting: /content/drive/MyDrive/crop/yolov5/train/labels/00177_jpg.rf.8255f3982314eea8736e2635b9612c30.txt  \n",
      " extracting: /content/drive/MyDrive/crop/yolov5/train/labels/00189_jpg.rf.e8e4cb4ebce5636521dc01ff4b328e40.txt  \n",
      " extracting: /content/drive/MyDrive/crop/yolov5/train/labels/00190_jpg.rf.c7dbf4bd368e1381a48fdf41219407a9.txt  \n",
      " extracting: /content/drive/MyDrive/crop/yolov5/train/labels/00197_jpg.rf.9437cd7c0b0765e8a63d3b0f44c4a67c.txt  \n",
      " extracting: /content/drive/MyDrive/crop/yolov5/train/labels/00200_jpg.rf.c44d166629944e40c05ab3af6b36a705.txt  \n",
      " extracting: /content/drive/MyDrive/crop/yolov5/train/labels/00208_jpg.rf.8e52c370895fececaf0c4cb129ee2c09.txt  \n",
      " extracting: /content/drive/MyDrive/crop/yolov5/train/labels/00209_jpg.rf.913d46b226d0aab231603f39b3f86518.txt  \n",
      " extracting: /content/drive/MyDrive/crop/yolov5/train/labels/00211_jpg.rf.7e0b7bc8ad8e6f709e82763bdbe99ceb.txt  \n",
      " extracting: /content/drive/MyDrive/crop/yolov5/train/labels/00217_jpg.rf.ba226766ea7efe7067b151903f4c0023.txt  \n",
      " extracting: /content/drive/MyDrive/crop/yolov5/train/labels/00230_jpg.rf.1f34197b93fb5ccd2c5b49f4bc8fda3a.txt  \n",
      " extracting: /content/drive/MyDrive/crop/yolov5/train/labels/00237_jpg.rf.8151b4a678d2d37adb5033283b43c0f8.txt  \n",
      " extracting: /content/drive/MyDrive/crop/yolov5/train/labels/00249_jpg.rf.d420cdd4bd5e53abb6dcb0a0dd435447.txt  \n",
      " extracting: /content/drive/MyDrive/crop/yolov5/train/labels/00251_jpg.rf.e5a6e29550b27cd66338ec16795bc646.txt  \n",
      " extracting: /content/drive/MyDrive/crop/yolov5/train/labels/00284_jpg.rf.7ed236fab8e4524d3fd183852b026ac8.txt  \n",
      " extracting: /content/drive/MyDrive/crop/yolov5/train/labels/00285_jpg.rf.7b0c9858b8bcc81e32b75054af1741ef.txt  \n",
      " extracting: /content/drive/MyDrive/crop/yolov5/train/labels/00286_jpg.rf.b732a616472fbf108dd9661a8b315903.txt  \n",
      " extracting: /content/drive/MyDrive/crop/yolov5/train/labels/00308_jpg.rf.414e26d72d2747b40d9e4b6c15b55c53.txt  \n",
      " extracting: /content/drive/MyDrive/crop/yolov5/train/labels/00310_jpg.rf.0d9783b53b4e1e9b7282dc6c04d29713.txt  \n",
      " extracting: /content/drive/MyDrive/crop/yolov5/train/labels/00322_jpg.rf.0dd7c6e5f7dc9f8f84c42656fd336fc6.txt  \n",
      " extracting: /content/drive/MyDrive/crop/yolov5/train/labels/00333_jpg.rf.d1eb02ed8230afa79f6763bce31d676c.txt  \n",
      " extracting: /content/drive/MyDrive/crop/yolov5/train/labels/00334_jpg.rf.4f764a2f7024fff1a1650b87f75f8fcc.txt  \n",
      " extracting: /content/drive/MyDrive/crop/yolov5/train/labels/00335_jpg.rf.892dc843542909e11cdffd126f93599a.txt  \n",
      " extracting: /content/drive/MyDrive/crop/yolov5/train/labels/00358_jpg.rf.5627c531573a19c7594aa2772dd8751e.txt  \n",
      " extracting: /content/drive/MyDrive/crop/yolov5/train/labels/00361_jpg.rf.0b42430c8963e01a38aa49221a824032.txt  \n",
      " extracting: /content/drive/MyDrive/crop/yolov5/train/labels/00373_jpg.rf.1899ffe973e15649b3019be850c0e444.txt  \n",
      " extracting: /content/drive/MyDrive/crop/yolov5/train/labels/00384_jpg.rf.f6ceeea4a213b4f2a0094d5099cfe080.txt  \n",
      " extracting: /content/drive/MyDrive/crop/yolov5/train/labels/00388_jpg.rf.88d2ed8d336fea4bfd884d01996044a8.txt  \n",
      " extracting: /content/drive/MyDrive/crop/yolov5/train/labels/00394_jpg.rf.34fad1a60c5c03a4b0129b73b540d35e.txt  \n",
      " extracting: /content/drive/MyDrive/crop/yolov5/train/labels/00395_jpg.rf.fee91f02f61a6e3904a4d25f932ca41c.txt  \n",
      " extracting: /content/drive/MyDrive/crop/yolov5/train/labels/00405_jpg.rf.b575cc2a4be2022070560e7a5e3b5e20.txt  \n",
      " extracting: /content/drive/MyDrive/crop/yolov5/train/labels/00407_jpg.rf.9f4e52a08f0bde325c17e33360392b9a.txt  \n",
      " extracting: /content/drive/MyDrive/crop/yolov5/train/labels/00410_jpg.rf.d01bd2d12707a21fd83808240e56ddfb.txt  \n",
      " extracting: /content/drive/MyDrive/crop/yolov5/train/labels/00416_jpg.rf.54f7abe3de1def426f2d4ea5541660f4.txt  \n",
      " extracting: /content/drive/MyDrive/crop/yolov5/train/labels/00418_jpg.rf.fe5cd4961cf9903dfe819c7afae553fc.txt  \n",
      " extracting: /content/drive/MyDrive/crop/yolov5/train/labels/00427_jpg.rf.e0131da62111d7674573034e568c5e93.txt  \n",
      " extracting: /content/drive/MyDrive/crop/yolov5/train/labels/00429_jpg.rf.928cd2868430074e3ed54032e4c29502.txt  \n",
      " extracting: /content/drive/MyDrive/crop/yolov5/train/labels/00448_jpg.rf.b765c6db2a5d565d3c3f76aae5b194ee.txt  \n",
      " extracting: /content/drive/MyDrive/crop/yolov5/train/labels/00453_jpg.rf.6dd5d25e2bca32601babbe20134aea6a.txt  \n",
      " extracting: /content/drive/MyDrive/crop/yolov5/train/labels/00454_jpg.rf.230c42716af958ea7756da6e40dd76e8.txt  \n",
      " extracting: /content/drive/MyDrive/crop/yolov5/train/labels/00459_jpg.rf.6d997099f36fe9bd74725e660a0a5ee0.txt  \n",
      " extracting: /content/drive/MyDrive/crop/yolov5/train/labels/00466_jpg.rf.ee9d7f435b9ef989d98495c10acbf23c.txt  \n",
      " extracting: /content/drive/MyDrive/crop/yolov5/train/labels/00474_jpg.rf.a9f1031ebe6692bee32053a685f2011f.txt  \n",
      " extracting: /content/drive/MyDrive/crop/yolov5/train/labels/00483_jpg.rf.733ee8178d27ac79e27d5dc197f99557.txt  \n",
      " extracting: /content/drive/MyDrive/crop/yolov5/train/labels/00493_jpg.rf.ed639ce4d568ad879448f5f7e023ff44.txt  \n",
      " extracting: /content/drive/MyDrive/crop/yolov5/train/labels/00496_jpg.rf.6405e00a3f2d53f563c08c3fce9ca53f.txt  \n",
      " extracting: /content/drive/MyDrive/crop/yolov5/train/labels/00498_jpg.rf.338423d9de8f9bece626b66721306a60.txt  \n",
      " extracting: /content/drive/MyDrive/crop/yolov5/train/labels/00502_jpg.rf.9de1717b6f2bb50bd6880948d8057c33.txt  \n",
      " extracting: /content/drive/MyDrive/crop/yolov5/train/labels/00515_jpg.rf.4b4834f083d4ad258e56762412f83b20.txt  \n",
      " extracting: /content/drive/MyDrive/crop/yolov5/train/labels/00521_jpg.rf.f0d35f986304af254281a2e8142dd002.txt  \n",
      " extracting: /content/drive/MyDrive/crop/yolov5/train/labels/00539_jpg.rf.932b6fbafd95ee384972a5c01bb0e79d.txt  \n",
      " extracting: /content/drive/MyDrive/crop/yolov5/train/labels/00565_jpg.rf.e308627a12c322d23271a029b31d2fce.txt  \n",
      " extracting: /content/drive/MyDrive/crop/yolov5/train/labels/00574_jpg.rf.d143db315c85a8941abf85cfc3245fb0.txt  \n",
      " extracting: /content/drive/MyDrive/crop/yolov5/train/labels/00581_jpg.rf.0a099d6446559f7e59e5a7d4b5ada678.txt  \n",
      " extracting: /content/drive/MyDrive/crop/yolov5/train/labels/00590_jpg.rf.a1c265fcd9f0f1c61149326340112657.txt  \n",
      " extracting: /content/drive/MyDrive/crop/yolov5/train/labels/00595_jpg.rf.ec1697f37a5d5905d083e491fd1cac7f.txt  \n",
      " extracting: /content/drive/MyDrive/crop/yolov5/train/labels/00598_jpg.rf.c34dc186cc644ff328a1377b43ad2e06.txt  \n",
      " extracting: /content/drive/MyDrive/crop/yolov5/train/labels/00608_jpg.rf.f1fe8d5dc28f53d5e80db31c50229e61.txt  \n",
      " extracting: /content/drive/MyDrive/crop/yolov5/train/labels/00648_jpg.rf.0a9fe287711da0ab98ef48bbe88a74e1.txt  \n",
      " extracting: /content/drive/MyDrive/crop/yolov5/train/labels/00662_jpg.rf.2512197e7fc29e2437d7c559de06e13d.txt  \n",
      " extracting: /content/drive/MyDrive/crop/yolov5/train/labels/00668_jpg.rf.9b6fa2e015207000b0ff62b1d666f7e7.txt  \n",
      " extracting: /content/drive/MyDrive/crop/yolov5/train/labels/00674_jpg.rf.7b8d9859b317bc2a1d5887166c5ff25d.txt  \n",
      " extracting: /content/drive/MyDrive/crop/yolov5/train/labels/00693_jpg.rf.f2a90c16b774a6e24b769a89ef9c26b7.txt  \n",
      " extracting: /content/drive/MyDrive/crop/yolov5/train/labels/00698_jpg.rf.bd49d20c16af4f0af44f90b1ea24f4fd.txt  \n",
      " extracting: /content/drive/MyDrive/crop/yolov5/train/labels/00699_jpg.rf.95f59e1d8449f5c7dc7378dcd822c8ea.txt  \n",
      " extracting: /content/drive/MyDrive/crop/yolov5/train/labels/00707_jpg.rf.c556b421650ef9ee5a2e7165e6cfbc71.txt  \n",
      " extracting: /content/drive/MyDrive/crop/yolov5/train/labels/00709_jpg.rf.45eade9882ddf1361d1c16e30b8a009d.txt  \n",
      " extracting: /content/drive/MyDrive/crop/yolov5/train/labels/00710_jpg.rf.6665283c302705eeae4893198365ffee.txt  \n",
      " extracting: /content/drive/MyDrive/crop/yolov5/train/labels/00711_jpg.rf.a6bb248bbeecf2dec51d3eacb10ebb83.txt  \n",
      " extracting: /content/drive/MyDrive/crop/yolov5/train/labels/00719_jpg.rf.cf1284a37b12234fd1ad075816b0a0ee.txt  \n",
      " extracting: /content/drive/MyDrive/crop/yolov5/train/labels/00721_jpg.rf.62f5e6f7470861c2b6bc9245b7516ebf.txt  \n",
      " extracting: /content/drive/MyDrive/crop/yolov5/train/labels/00722_jpg.rf.818871c1eccf84081fd46da68416cc8c.txt  \n",
      " extracting: /content/drive/MyDrive/crop/yolov5/train/labels/00723_jpg.rf.fbc699c598d62a818b5ef64593d01eff.txt  \n",
      " extracting: /content/drive/MyDrive/crop/yolov5/train/labels/00726_jpg.rf.cee287ec2c08db6689a0e5580bc7a8bd.txt  \n",
      " extracting: /content/drive/MyDrive/crop/yolov5/train/labels/00730_jpg.rf.d721d3f2637a6f7bd33384e9008f069e.txt  \n",
      " extracting: /content/drive/MyDrive/crop/yolov5/train/labels/00731_jpg.rf.07975ad5ced81a125f69e983ba898762.txt  \n",
      " extracting: /content/drive/MyDrive/crop/yolov5/train/labels/00732_jpg.rf.3c2bb1aceb68c633f790fb9fe9c1254a.txt  \n",
      " extracting: /content/drive/MyDrive/crop/yolov5/train/labels/00740_jpg.rf.15c5ac0e27ecfdae86500cfb3a451408.txt  \n",
      " extracting: /content/drive/MyDrive/crop/yolov5/train/labels/00742_jpg.rf.0b851b396eb1219249c0b15162b09c42.txt  \n",
      " extracting: /content/drive/MyDrive/crop/yolov5/train/labels/00746_jpg.rf.a2161d3081301b4a6d2748f62f629d7d.txt  \n",
      " extracting: /content/drive/MyDrive/crop/yolov5/train/labels/00747_jpg.rf.32d134e364d0f161a6f0cb92643eaec6.txt  \n",
      " extracting: /content/drive/MyDrive/crop/yolov5/train/labels/00748_jpg.rf.6a278900c61dc004fefe96ce60c9060f.txt  \n",
      " extracting: /content/drive/MyDrive/crop/yolov5/train/labels/00749_jpg.rf.7eb11172255a6c85923c0cf517c6fdfe.txt  \n",
      " extracting: /content/drive/MyDrive/crop/yolov5/train/labels/00765_jpg.rf.bb7c733a51b2e683bb3dc7db7d8b2f08.txt  \n",
      " extracting: /content/drive/MyDrive/crop/yolov5/train/labels/00767_jpg.rf.ef2a9662c250f51ba52fbd8237019446.txt  \n",
      " extracting: /content/drive/MyDrive/crop/yolov5/train/labels/00769_jpg.rf.1ed88e3e6cbe482c4d01d809f7a208bb.txt  \n",
      " extracting: /content/drive/MyDrive/crop/yolov5/train/labels/00774_jpg.rf.2ce6d39e8f2d51c3281572d1d0e8e150.txt  \n",
      " extracting: /content/drive/MyDrive/crop/yolov5/train/labels/00790_jpg.rf.4420440b75520d4d7bf8896e8c640303.txt  \n",
      " extracting: /content/drive/MyDrive/crop/yolov5/train/labels/00801_jpg.rf.2bc6ebc755ba41fef9ae599e5573cf86.txt  \n",
      " extracting: /content/drive/MyDrive/crop/yolov5/train/labels/00805_jpg.rf.6c6cbbfca09df17e3476d40498bf9fc1.txt  \n",
      " extracting: /content/drive/MyDrive/crop/yolov5/train/labels/00808_jpg.rf.b973d47d6912d9f3e69d85a118f69abe.txt  \n",
      " extracting: /content/drive/MyDrive/crop/yolov5/train/labels/00813_jpg.rf.7198a8aadb991231b7d4009ad4be27a6.txt  \n",
      " extracting: /content/drive/MyDrive/crop/yolov5/train/labels/00816_jpg.rf.3b0aceffd843752a50fdf18e0f77176d.txt  \n",
      " extracting: /content/drive/MyDrive/crop/yolov5/train/labels/00818_jpg.rf.7f99ddff8e4048c583c6e9f297c5f1bc.txt  \n",
      " extracting: /content/drive/MyDrive/crop/yolov5/train/labels/00819_jpg.rf.0fa4e4408baf4ad8f86d71f2620f982e.txt  \n",
      " extracting: /content/drive/MyDrive/crop/yolov5/train/labels/00820_jpg.rf.df897ba95dc658184f77ab44f87875ff.txt  \n",
      " extracting: /content/drive/MyDrive/crop/yolov5/train/labels/1000_F_407431057_UtfWgF7jPj79fyvOYinn7Tsfu2eQuKZE_jpg.rf.5d9ecd383a21fcce5e2ce26d3017686d.txt  \n",
      " extracting: /content/drive/MyDrive/crop/yolov5/train/labels/10_jpg.rf.a8dc045cd2f9c3b6d8ccef042f8dada7.txt  \n",
      " extracting: /content/drive/MyDrive/crop/yolov5/train/labels/12_jpg.rf.c26fedebd2bd28e06f07729965083b39.txt  \n",
      " extracting: /content/drive/MyDrive/crop/yolov5/train/labels/130287-before-image_jpeg.rf.bef3fdb757b9ba510ede9cf1d994a6cc.txt  \n",
      " extracting: /content/drive/MyDrive/crop/yolov5/train/labels/13_jpg.rf.12d955e949446091ac6f3f272d9e407f.txt  \n",
      " extracting: /content/drive/MyDrive/crop/yolov5/train/labels/14_jpg.rf.5dc3e9ff88dfe1f5c6f99950ca859d51.txt  \n",
      " extracting: /content/drive/MyDrive/crop/yolov5/train/labels/15_jpg.rf.905cf42dfcb7179e782b8bf8a511f304.txt  \n",
      " extracting: /content/drive/MyDrive/crop/yolov5/train/labels/1683557010653_jpg.rf.4a2e6eb9c971008bcc02bfe8a568cc0a.txt  \n",
      " extracting: /content/drive/MyDrive/crop/yolov5/train/labels/16_jpg.rf.108bd8ef55ccd5d76e47c604df085a48.txt  \n",
      " extracting: /content/drive/MyDrive/crop/yolov5/train/labels/17_jpg.rf.8372f8383e919794840055e66ec33da9.txt  \n",
      " extracting: /content/drive/MyDrive/crop/yolov5/train/labels/182fe0ef910b4914901ce0ed6af803f8_jpg.rf.7b4cfd21b4fc9cfd282c1e3aff9b53e6.txt  \n",
      " extracting: /content/drive/MyDrive/crop/yolov5/train/labels/189025_jpg.rf.54d41f497467170613969f4f03568354.txt  \n",
      " extracting: /content/drive/MyDrive/crop/yolov5/train/labels/19_jpg.rf.47bbee0e678c4e57d5b7eeb747be6402.txt  \n",
      " extracting: /content/drive/MyDrive/crop/yolov5/train/labels/2-3_jpg.rf.e83a609a993db24ce4371952ce59bc87.txt  \n",
      " extracting: /content/drive/MyDrive/crop/yolov5/train/labels/2-string-wheat-4-oif1do4m8g18cqn5ny1thlfh8mlqcgubbq20ybwoso_jpg.rf.098966a64c512f9ffb84338a8d1d1cbb.txt  \n",
      " extracting: /content/drive/MyDrive/crop/yolov5/train/labels/2017spring-waste-not-1optA_jpg.rf.004dc5e11ceb7e3ce063b3d729b9829f.txt  \n",
      " extracting: /content/drive/MyDrive/crop/yolov5/train/labels/20230622_172326_jpg.rf.8a6e9d8ea393124ad35dc2cbab7f9083.txt  \n",
      " extracting: /content/drive/MyDrive/crop/yolov5/train/labels/21_jpg.rf.f3d442b45a2b2c400480358eff16f131.txt  \n",
      " extracting: /content/drive/MyDrive/crop/yolov5/train/labels/23_jpg.rf.97e17652d96f0b201d42c54799614ad7.txt  \n",
      " extracting: /content/drive/MyDrive/crop/yolov5/train/labels/24_jpg.rf.3234f8a51e32c1af901798c99d805664.txt  \n",
      " extracting: /content/drive/MyDrive/crop/yolov5/train/labels/25_jpg.rf.1f26fd8757007e2f67a7f8574736b9ec.txt  \n",
      " extracting: /content/drive/MyDrive/crop/yolov5/train/labels/26_jpg.rf.57e018f55397841d763af55c21619b97.txt  \n",
      " extracting: /content/drive/MyDrive/crop/yolov5/train/labels/28_jpg.rf.bc56976fbd2f2c173c3e0c227f2a4841.txt  \n",
      " extracting: /content/drive/MyDrive/crop/yolov5/train/labels/29867428_1705680188_jpg.rf.9f97eeb808fb4d26c0910cc37d9bb107.txt  \n",
      " extracting: /content/drive/MyDrive/crop/yolov5/train/labels/29_jpg.rf.9d781b14080cceaa132257fa6c396098.txt  \n",
      " extracting: /content/drive/MyDrive/crop/yolov5/train/labels/2_jpg.rf.1f98372fcd6d55c9c565b43b2cfc0755.txt  \n",
      " extracting: /content/drive/MyDrive/crop/yolov5/train/labels/30_jpg.rf.ce9e31b1429a79e62913cfd0a7c7a693.txt  \n",
      " extracting: /content/drive/MyDrive/crop/yolov5/train/labels/31_jpg.rf.55f9d3dd39f3bdefa2690db4c4161c0a.txt  \n",
      " extracting: /content/drive/MyDrive/crop/yolov5/train/labels/32_jpg.rf.502655a0e6888345ba3df3265e8987cb.txt  \n",
      " extracting: /content/drive/MyDrive/crop/yolov5/train/labels/348s_jpg.rf.664b0ac96c892c208729a871602591d7.txt  \n",
      " extracting: /content/drive/MyDrive/crop/yolov5/train/labels/35_jpg.rf.802bff04d54cd37a86b4a84600eaa184.txt  \n",
      " extracting: /content/drive/MyDrive/crop/yolov5/train/labels/360_F_288121842_oey4mLF9YAzVNRcFyaEJjIxkuQufahfE_jpg.rf.30b630e42fc5a3fb54bcb72cd8b9b9b6.txt  \n",
      " extracting: /content/drive/MyDrive/crop/yolov5/train/labels/360_F_32059997_HzT7QS1yfhcIp1FYQRMsLckK3GfJ40qC_jpg.rf.36962a64f91b157a797734f0d77ce609.txt  \n",
      " extracting: /content/drive/MyDrive/crop/yolov5/train/labels/360_F_414644443_71rQd5Y5pzQ63tu5C61GXeORWOjtMmZJ_jpg.rf.e2aa09229da7facde2b7a7cb7389a6b2.txt  \n",
      " extracting: /content/drive/MyDrive/crop/yolov5/train/labels/360_F_515211232_lMF4n7w3AoMxELPjMMEClLzQcpRcRLLj_jpg.rf.4c67e5bc4de5c42c16532bf5dd100908.txt  \n",
      " extracting: /content/drive/MyDrive/crop/yolov5/train/labels/37573_1_jpg.rf.dd9961544b33f1da4ba048937491df9f.txt  \n",
      " extracting: /content/drive/MyDrive/crop/yolov5/train/labels/3_jpg.rf.e71b043ebcdddbc799e3c2f9d74ea29b.txt  \n",
      " extracting: /content/drive/MyDrive/crop/yolov5/train/labels/42744_1_jpg.rf.c4f3f1c48ced1e279638d707a4ed6aff.txt  \n",
      " extracting: /content/drive/MyDrive/crop/yolov5/train/labels/4_jpg.rf.7407bdfcbcc82dc32e6321d38bb379a8.txt  \n",
      " extracting: /content/drive/MyDrive/crop/yolov5/train/labels/5GHQCAVEE5RJZB54YDMHNXR7IQ_jpg.rf.85bae030a004a580bee48fbcc81a198f.txt  \n",
      " extracting: /content/drive/MyDrive/crop/yolov5/train/labels/5MNMDRZBKALKPLU2OSP5X3IV7M_jpg.rf.481c50f19fc4531f0380838d43cc8bc6.txt  \n",
      " extracting: /content/drive/MyDrive/crop/yolov5/train/labels/5_jpg.rf.3c3c8af160db079dcadc2bbeba2d425c.txt  \n",
      " extracting: /content/drive/MyDrive/crop/yolov5/train/labels/5d9f672144e50-image_jpg.rf.46e41affc3dfce0eec652e6c4b79f392.txt  \n",
      " extracting: /content/drive/MyDrive/crop/yolov5/train/labels/5edff99fe51497455cc8f8db48a38966_XL_jpg.rf.66b62bc31bcf5bdcda7735a4be6a674a.txt  \n",
      " extracting: /content/drive/MyDrive/crop/yolov5/train/labels/638036765484770000_jpg.rf.a6d9045deb44260d2606337834c0dad4.txt  \n",
      " extracting: /content/drive/MyDrive/crop/yolov5/train/labels/644638fd-08c6-48de-881b-1660ef852969-e889a2a_jpg.rf.fdcb36873dd1526e21464652943e58eb.txt  \n",
      " extracting: /content/drive/MyDrive/crop/yolov5/train/labels/6_jpg.rf.1a349e9a6c6ee6a95d0f396d808431c5.txt  \n",
      " extracting: /content/drive/MyDrive/crop/yolov5/train/labels/719VTcbYeeL-_AC_UF1000-1000_QL80__jpg.rf.8eccdf4c752139ccf4dc5c12b72035c1.txt  \n",
      " extracting: /content/drive/MyDrive/crop/yolov5/train/labels/7498571b98_jpg.rf.585da9ed1ae831a9235e05fc5c8c3130.txt  \n",
      " extracting: /content/drive/MyDrive/crop/yolov5/train/labels/7_jpg.rf.c6e1657173cb214f4dc915a6ac7d3fdc.txt  \n",
      " extracting: /content/drive/MyDrive/crop/yolov5/train/labels/86fafcc16cfb3eb0f77dd2397efad850_jpg.rf.ffeeb51c79acb15ed21448878c7bd31c.txt  \n",
      " extracting: /content/drive/MyDrive/crop/yolov5/train/labels/8cf631f09ff0ff636f2726e3ba8d51a1_jpeg.rf.d00367ed8691bb42ea7b6eea60b65c5b.txt  \n",
      " extracting: /content/drive/MyDrive/crop/yolov5/train/labels/9781410388308_00084_jpg.rf.b18212a3bd41aed1326b385faf4f0bf9.txt  \n",
      " extracting: /content/drive/MyDrive/crop/yolov5/train/labels/98349541-bent-palm-tree-dead-palm-dry-dead-palm-leaves-with-blue-vibrant-sky_jpg.rf.0aed86a536a9b95559722005f9f4a7fa.txt  \n",
      " extracting: /content/drive/MyDrive/crop/yolov5/train/labels/9_jpg.rf.c065bef3be1adccfc89253b64eb1b6eb.txt  \n",
      " extracting: /content/drive/MyDrive/crop/yolov5/train/labels/Bagasse_jpg.rf.8ff56463a271f27241fb1446d0622d7c.txt  \n",
      " extracting: /content/drive/MyDrive/crop/yolov5/train/labels/Coco-Husk_Blog_WW_1300x625_jpg.rf.95b3eebaab3ef37e8942f4342e97a507.txt  \n",
      " extracting: /content/drive/MyDrive/crop/yolov5/train/labels/Document_jpg.rf.e5fc5a08965759383b5776606608f797.txt  \n",
      " extracting: /content/drive/MyDrive/crop/yolov5/train/labels/FAO-officials-condemn-unnecessary-loss-and-waste-of-good-food_jpg.rf.af439f9ad6df88481135a2a5cfe947ff.txt  \n",
      " extracting: /content/drive/MyDrive/crop/yolov5/train/labels/Food-waste-EPA_jpg.rf.800065a6ba4927e4d9a85281131ca67f.txt  \n",
      " extracting: /content/drive/MyDrive/crop/yolov5/train/labels/Food-waste-pic1_jpg.rf.c9a53e80e60448a388a1f9fa15b67c41.txt  \n",
      " extracting: /content/drive/MyDrive/crop/yolov5/train/labels/IICT-s-initiative-to-turn-dry-leaves-into-soil-conditioner_jpg.rf.1e52d0c4734ae3bc5fc29f95d08671dd.txt  \n",
      " extracting: /content/drive/MyDrive/crop/yolov5/train/labels/Jessica-Toth-Image-1-Grocer_s-produce-dumpster-of-food-for-disposal-Solana_jpg.rf.3b22fb17aaaf455fcc3c3c2f45f6db3d.txt  \n",
      " extracting: /content/drive/MyDrive/crop/yolov5/train/labels/Madagascar_Deforestation_jpg.rf.ace26042866d614390b55400f50c7d76.txt  \n",
      " extracting: /content/drive/MyDrive/crop/yolov5/train/labels/NJ_Food-Waste_jpg.rf.15fb193732f5603ba8aaf9124e6cb12e.txt  \n",
      " extracting: /content/drive/MyDrive/crop/yolov5/train/labels/Net-Zero-Waste-Abbotsford-Air-Filter_jpg.rf.55295e03c81ae6a979ab30342739cf19.txt  \n",
      " extracting: /content/drive/MyDrive/crop/yolov5/train/labels/Oil-Palm-Tree-Wastes-5-Uses-of-the-palm-pressed-fiber_jpg.rf.b75085b62f48b0d294e3cdcd31ecdcca.txt  \n",
      " extracting: /content/drive/MyDrive/crop/yolov5/train/labels/OilPalmFiber027-1-_jpg.rf.5c44b1e172b4e3837b95ed5b30fd5411.txt  \n",
      " extracting: /content/drive/MyDrive/crop/yolov5/train/labels/Organic-waste-recycled-scaled-1-1-_jpeg.rf.64fad0d72a29c5f3d7a041bd462e4de3.txt  \n",
      " extracting: /content/drive/MyDrive/crop/yolov5/train/labels/Palm-Tree-Waste-4-1_jpg.rf.e01aa3109ba4acb7905b0255c5ae9f0e.txt  \n",
      " extracting: /content/drive/MyDrive/crop/yolov5/train/labels/Tree-Farm-Licence-44-wood-waste_TJ_Watt_jpg.rf.1d7d5ef2a3c0baea2dc4817bfa38cdac.txt  \n",
      " extracting: /content/drive/MyDrive/crop/yolov5/train/labels/WHEAT-STRAW-_jpg.rf.211077b28bc6ed93778a9331b048bd8d.txt  \n",
      " extracting: /content/drive/MyDrive/crop/yolov5/train/labels/a_jpg.rf.5fdbb612a74fdc04568a1cf28a3e1794.txt  \n",
      " extracting: /content/drive/MyDrive/crop/yolov5/train/labels/agricultural-field-with-corn-photo_jpg.rf.5b89f4181237d1ff60b4a63564794dd9.txt  \n",
      " extracting: /content/drive/MyDrive/crop/yolov5/train/labels/b_jpg.rf.64a5e8d6bb4ef6dac24e5862d47df748.txt  \n",
      " extracting: /content/drive/MyDrive/crop/yolov5/train/labels/bagasse-300x207_jpeg.rf.2758ee2a30b823d7e4cb0520eb2fc804.txt  \n",
      " extracting: /content/drive/MyDrive/crop/yolov5/train/labels/bagasses_jpg.rf.ecbe46b7373b9a36ad2dd7369fd67b44.txt  \n",
      " extracting: /content/drive/MyDrive/crop/yolov5/train/labels/c_jpg.rf.c8924013dc21e8671148fe905e4dddb4.txt  \n",
      " extracting: /content/drive/MyDrive/crop/yolov5/train/labels/christmas-tree-old-1024x683_jpeg.rf.aa0f015afdf2b580b381ac010e8f1a64.txt  \n",
      " extracting: /content/drive/MyDrive/crop/yolov5/train/labels/close-up-of-dry-banana-leaves-or-banana-plant-free-photo_jpg.rf.8dd2320fb2e9621a29fca497a472b33c.txt  \n",
      " extracting: /content/drive/MyDrive/crop/yolov5/train/labels/closeup-palm-trunk-steam-texture-natural-tropical-background_97889-441_jpg.rf.9fccd06d4678bf597222e39afd63de00.txt  \n",
      " extracting: /content/drive/MyDrive/crop/yolov5/train/labels/coconut-shell-waste-1662969020-6534537_jpeg.rf.ed179371af19b1a4407cdd59eee5411f.txt  \n",
      " extracting: /content/drive/MyDrive/crop/yolov5/train/labels/compost-heap-irc-1024x683_jpg.rf.34f6259bebe4c4e6b2a9e8e449eed3d8.txt  \n",
      " extracting: /content/drive/MyDrive/crop/yolov5/train/labels/compost-layers-1024x681_jpg.rf.037e360dd0027308b6804ecccc88290e.txt  \n",
      " extracting: /content/drive/MyDrive/crop/yolov5/train/labels/compost_intro_image3259135916375310554_jpg.rf.a646a528bf2be4b6f760bd6c2846a381.txt  \n",
      " extracting: /content/drive/MyDrive/crop/yolov5/train/labels/composting-waste_jpg.rf.74a72fc0be3262503b5d769d8f0833a2.txt  \n",
      " extracting: /content/drive/MyDrive/crop/yolov5/train/labels/cornwall-r-transformando-o-residuo-do-milho-em-um-material-inovador-de-base-biologica_6_jpg.rf.dcb26e78cc5973185b36ba5763e0b38f.txt  \n",
      " extracting: /content/drive/MyDrive/crop/yolov5/train/labels/depositphotos_466922904-stock-photo-vertical-shot-broken-tree-barks_jpg.rf.04d644d9bbb3e4bcf050b1cc7d4dd19b.txt  \n",
      " extracting: /content/drive/MyDrive/crop/yolov5/train/labels/depositphotos_697441596-stock-photo-tree-sections-plant-waste-wood_jpg.rf.d47986bed6f37154b4dc928b9d7fdcfd.txt  \n",
      " extracting: /content/drive/MyDrive/crop/yolov5/train/labels/depositphotos_83363910-stock-photo-tree-branches_jpg.rf.3eb3c844893e3ec477f0b9e3e2152d93.txt  \n",
      " extracting: /content/drive/MyDrive/crop/yolov5/train/labels/discarded-carrots-left-left-in-field-after-harvest-FF0CYK_jpg.rf.4ff772940470d3267e6b01523c6b312e.txt  \n",
      " extracting: /content/drive/MyDrive/crop/yolov5/train/labels/download-3-_jpg.rf.8bcb852fad5f923ffb9586f500a111cf.txt  \n",
      " extracting: /content/drive/MyDrive/crop/yolov5/train/labels/dwqq9mr7p6281_jpg.rf.fe5d61b058ed48fbf16ed21313640742.txt  \n",
      " extracting: /content/drive/MyDrive/crop/yolov5/train/labels/empty-fruit-bunch_jpg.rf.f0c7089be5838e6a0a0a79aca4fd3eae.txt  \n",
      " extracting: /content/drive/MyDrive/crop/yolov5/train/labels/emptyfruitbunch_jpg.rf.90a6d72a8add1b36391405094cbd91ca.txt  \n",
      " extracting: /content/drive/MyDrive/crop/yolov5/train/labels/engineered-yeast-turn-agricultural-waste-into-biofuels-and-more-376484-640x360_jpg.rf.d7d1f75fd4a7a19bc8d8f90fb823c58d.txt  \n",
      " extracting: /content/drive/MyDrive/crop/yolov5/train/labels/everything-you-need-to-know-about-composting-garden-getty-0523-a926f282527a47d0a76ffd792247ec9a_jpg.rf.78ad5bf13ba56a6d8554345e86d64443.txt  \n",
      " extracting: /content/drive/MyDrive/crop/yolov5/train/labels/f46837222f3be6274635dd457d4184c9_jpg.rf.5bb243692a76c639809355c410e0dda8.txt  \n",
      " extracting: /content/drive/MyDrive/crop/yolov5/train/labels/f_jpg.rf.e8b3082411050c0b3a8221ee933c9b88.txt  \n",
      " extracting: /content/drive/MyDrive/crop/yolov5/train/labels/facilities_24_jpg.rf.9114ba43ce99ef73c5889fdf8e25f68c.txt  \n",
      " extracting: /content/drive/MyDrive/crop/yolov5/train/labels/food_scraps_pile_jpg.rf.31e3208575764056f906eafd75e6d113.txt  \n",
      " extracting: /content/drive/MyDrive/crop/yolov5/train/labels/food_waste_on_ground_jpg.rf.a92f7891f29af24e9382b08646ba3a51.txt  \n",
      " extracting: /content/drive/MyDrive/crop/yolov5/train/labels/g_jpg.rf.9847b0293a412d4fab03286b538a15f2.txt  \n",
      " extracting: /content/drive/MyDrive/crop/yolov5/train/labels/garden-waste-in-the-backyard_jpg.rf.7073c5300706b3f381a3d5b988925c16.txt  \n",
      " extracting: /content/drive/MyDrive/crop/yolov5/train/labels/gehakseld_tarwestro_groot_jpg.rf.30bec30569209208d48364a91aadfc26.txt  \n",
      " extracting: /content/drive/MyDrive/crop/yolov5/train/labels/h5pn3iq79t031_jpg.rf.76f63a7cd706341e3f55ebda9f251d96.txt  \n",
      " extracting: /content/drive/MyDrive/crop/yolov5/train/labels/h_jpg.rf.e3bd30b9b44512f9f422accf3a594f39.txt  \n",
      " extracting: /content/drive/MyDrive/crop/yolov5/train/labels/holihavmj327z36242d3b0349c9_jpg.rf.d897e8716d69bcb2482512927457565e.txt  \n",
      " extracting: /content/drive/MyDrive/crop/yolov5/train/labels/image-35469-green-palm-farms-saudi-arabia-beauty-palm-trees-beautiful-search_large_jpg.rf.f57bf90c2918cc93b20e8f340a84c208.txt  \n",
      " extracting: /content/drive/MyDrive/crop/yolov5/train/labels/image_750x_5e5a5b984db0b_jpg.rf.73337884dd0673ac1732ca6fc966de8e.txt  \n",
      " extracting: /content/drive/MyDrive/crop/yolov5/train/labels/image_750x_5eac1e63bfe29_jpg.rf.bd35ebf6dee9cabcfcf7890cd2162e24.txt  \n",
      " extracting: /content/drive/MyDrive/crop/yolov5/train/labels/images-1-_jpg.rf.21b17cfeeb56a655bca99a73a1fbfd1a.txt  \n",
      " extracting: /content/drive/MyDrive/crop/yolov5/train/labels/images-3-_jpg.rf.1dcc327d7484895ff6c5aceb27a7b9f9.txt  \n",
      " extracting: /content/drive/MyDrive/crop/yolov5/train/labels/images-4-_jpg.rf.7584370366ff9b933ca37cb1e75b6d4a.txt  \n",
      " extracting: /content/drive/MyDrive/crop/yolov5/train/labels/images-5-_jpg.rf.f4a6a50660a5fefeb1032df4f4b07b67.txt  \n",
      " extracting: /content/drive/MyDrive/crop/yolov5/train/labels/images-6-_jpg.rf.9bbbb84b1bb1e37ec17ae5461a1acd58.txt  \n",
      " extracting: /content/drive/MyDrive/crop/yolov5/train/labels/images-8-_jpg.rf.fcfaadee939bd5ef04780a4ba2258758.txt  \n",
      " extracting: /content/drive/MyDrive/crop/yolov5/train/labels/istockphoto-1221147234-612x612_jpg.rf.f9f53498736109e860cdd598b6618427.txt  \n",
      " extracting: /content/drive/MyDrive/crop/yolov5/train/labels/istockphoto-1302362708-612x612_jpg.rf.caf5b50a746bded695b27016dbbbfa36.txt  \n",
      " extracting: /content/drive/MyDrive/crop/yolov5/train/labels/istockphoto-1312046155-612x612_jpg.rf.dc59adb5649c4d47ab2ac008326f9e96.txt  \n",
      " extracting: /content/drive/MyDrive/crop/yolov5/train/labels/istockphoto-1313936811-612x612_jpg.rf.b3c3098b27bb6d0ed322e1dfbd578f3f.txt  \n",
      " extracting: /content/drive/MyDrive/crop/yolov5/train/labels/istockphoto-1351818643-170667a_jpg.rf.0fb3fbaac20ee35d4fd253e3289dee84.txt  \n",
      " extracting: /content/drive/MyDrive/crop/yolov5/train/labels/istockphoto-1424540849-612x612_jpg.rf.7084c851c6a6472e5a4f60696c9007fe.txt  \n",
      " extracting: /content/drive/MyDrive/crop/yolov5/train/labels/istockphoto-1425232271-612x612_jpg.rf.19e4a13e6a03a4c7cf300f43d981018e.txt  \n",
      " extracting: /content/drive/MyDrive/crop/yolov5/train/labels/istockphoto-1492025718-612x612_jpg.rf.278734c8ca21d77e8f3e8e0bca2c42e8.txt  \n",
      " extracting: /content/drive/MyDrive/crop/yolov5/train/labels/istockphoto-504305466-612x612_jpg.rf.a860981dd4fa7f2546c0748a8f2312da.txt  \n",
      " extracting: /content/drive/MyDrive/crop/yolov5/train/labels/istockphoto-544796392-612x612_jpg.rf.0d87ccff7f89f234467b129137f85c71.txt  \n",
      " extracting: /content/drive/MyDrive/crop/yolov5/train/labels/istockphoto-868730660-612x612_jpg.rf.81da1cec3b82af242cc581138adbcfd4.txt  \n",
      " extracting: /content/drive/MyDrive/crop/yolov5/train/labels/j_jpg.rf.4542dbe07a86df5bb85e6ea021896582.txt  \n",
      " extracting: /content/drive/MyDrive/crop/yolov5/train/labels/kucha-derevyannyh-palok-ili-vetok-0003231484-preview_jpg.rf.d3a36d1ef34db6bab6dea3e2eb2f3a90.txt  \n",
      " extracting: /content/drive/MyDrive/crop/yolov5/train/labels/l_jpg.rf.c26578fc091bb55712a53f844e678d25.txt  \n",
      " extracting: /content/drive/MyDrive/crop/yolov5/train/labels/limbah-batang-sawit_jpg.rf.d6a68fc8f9e511f306e3c331753c3078.txt  \n",
      " extracting: /content/drive/MyDrive/crop/yolov5/train/labels/m_jpg.rf.36da2b4cfc3943dc9fe20c4a578607b1.txt  \n",
      " extracting: /content/drive/MyDrive/crop/yolov5/train/labels/main-qimg-c605e14c95cf2cdf378a8c651e016f1a-pjlq_jpg.rf.4181850420e8b99336b5f3e463bce047.txt  \n",
      " extracting: /content/drive/MyDrive/crop/yolov5/train/labels/main-qimg-ece593a68ae3e8daf0af2c7e3e53d8cd-lq_jpg.rf.247760cddd2e6b940de7268af388971e.txt  \n",
      " extracting: /content/drive/MyDrive/crop/yolov5/train/labels/maize-waste_jpg.rf.3e34fa8fc51a43420d12e56d914465bd.txt  \n",
      " extracting: /content/drive/MyDrive/crop/yolov5/train/labels/maxresdefault_jpg.rf.65f35c7a2854cd2e331dce0d564e1204.txt  \n",
      " extracting: /content/drive/MyDrive/crop/yolov5/train/labels/model2bio-supports-reuse-of-food-industry-waste-streams-2000x1200_jpg.rf.c99a002fc620c73a563d5e654786a513.txt  \n",
      " extracting: /content/drive/MyDrive/crop/yolov5/train/labels/mqdefault_jpg.rf.2165bee78e71c7c58c81e833aefbf3c7.txt  \n",
      " extracting: /content/drive/MyDrive/crop/yolov5/train/labels/n_jpg.rf.7b95937f289a002567c713d0eb35ea77.txt  \n",
      " extracting: /content/drive/MyDrive/crop/yolov5/train/labels/o_jpg.rf.21164f4190a7d851a2b603c4df43a01f.txt  \n",
      " extracting: /content/drive/MyDrive/crop/yolov5/train/labels/oilpalm01_jpg.rf.55ddb281d5a86c368816b304cb9a1e25.txt  \n",
      " extracting: /content/drive/MyDrive/crop/yolov5/train/labels/ompost_jpg.rf.280238f0c890364a7a82992196d5c73f.txt  \n",
      " extracting: /content/drive/MyDrive/crop/yolov5/train/labels/organic-fertilizers-rife-with-microplastics-study-t_jpg.rf.fd6659a73092b8e0950f454b1a7c1c3e.txt  \n",
      " extracting: /content/drive/MyDrive/crop/yolov5/train/labels/orgfarm_recycling-of-farm-waste_clip_image002_jpg.rf.cc7253c5640c3f06fa238d439ea1e249.txt  \n",
      " extracting: /content/drive/MyDrive/crop/yolov5/train/labels/original_jpg.rf.f8607f2790636f0f3f32de9909699340.txt  \n",
      " extracting: /content/drive/MyDrive/crop/yolov5/train/labels/p_jpg.rf.ffba0f2a8b5e66b755719c04c020bd17.txt  \n",
      " extracting: /content/drive/MyDrive/crop/yolov5/train/labels/palm-fronds-1-800_jpg.rf.2fd830cb33b3ee234abc42f69dd1f8a8.txt  \n",
      " extracting: /content/drive/MyDrive/crop/yolov5/train/labels/palm-tree-fronds-tim-hester_jpg.rf.58c9f7879e0a73556df47db3e6d38a15.txt  \n",
      " extracting: /content/drive/MyDrive/crop/yolov5/train/labels/pasted-ivkvhjkvhjkhjkmage-0_jpg.rf.839ee3286f0a51ade24b46c4f7c72a7c.txt  \n",
      " extracting: /content/drive/MyDrive/crop/yolov5/train/labels/pexels-yan-krukov-5479034_jpg.rf.17ce9083fe893208d1e4811bdd73cbfc.txt  \n",
      " extracting: /content/drive/MyDrive/crop/yolov5/train/labels/pngtree-compost-heap-outside-with-vegetables-and-seeds-picture-image_2791222_jpg.rf.45d6ef58217c608cef2c65385e7f724c.txt  \n",
      " extracting: /content/drive/MyDrive/crop/yolov5/train/labels/principal_jpeg.rf.639dd43cb644847cadd9d7e117c39674.txt  \n",
      " extracting: /content/drive/MyDrive/crop/yolov5/train/labels/q_jpg.rf.69168b18d5d9c87de017dc7a3920154d.txt  \n",
      " extracting: /content/drive/MyDrive/crop/yolov5/train/labels/r_jpg.rf.85a3033bb442726bd38fb8ab8f390591.txt  \n",
      " extracting: /content/drive/MyDrive/crop/yolov5/train/labels/reducing-food-waste-1_jpg.rf.651ca166bd5c82d07fa59ed6337360f6.txt  \n",
      " extracting: /content/drive/MyDrive/crop/yolov5/train/labels/s_jpg.rf.3c8959b988e805a75f78719752244aa9.txt  \n",
      " extracting: /content/drive/MyDrive/crop/yolov5/train/labels/sdbej0h_Thumb_thumb_jpg.rf.ecef86e46caede374fdf6bff43a84aee.txt  \n",
      " extracting: /content/drive/MyDrive/crop/yolov5/train/labels/shutterstock_1392829997_resized_jpg.rf.8046f1642f5b19bc16d68a05e38be607.txt  \n",
      " extracting: /content/drive/MyDrive/crop/yolov5/train/labels/shutterstock_2195383459_jpg.rf.5de9891b6ddf8b96bde34d29719e6939.txt  \n",
      " extracting: /content/drive/MyDrive/crop/yolov5/train/labels/stock-photo-a-fallen-dry-tree-the-branches-stick-out-different-sides-1739808293_jpg.rf.2f4af5a2f1fe1a8b28932f491c420592.txt  \n",
      " extracting: /content/drive/MyDrive/crop/yolov5/train/labels/stopfoodwasteday_jpeg.rf.33b8797f633d756393929091afbf4bbb.txt  \n",
      " extracting: /content/drive/MyDrive/crop/yolov5/train/labels/stubblefield2_jpg.rf.8bbc90ac5f402a3c24cb86df7578f8fe.txt  \n",
      " extracting: /content/drive/MyDrive/crop/yolov5/train/labels/sugarcane-bagasse-1616574825-5765719_jpeg.rf.33c2ec20bb5cdcbbe61ddd14bf4e21c6.txt  \n",
      " extracting: /content/drive/MyDrive/crop/yolov5/train/labels/sugarcane-waste_20180255500_jpg.rf.f8f77d363a8fe9b30842519436d7a5db.txt  \n",
      " extracting: /content/drive/MyDrive/crop/yolov5/train/labels/sugarcane_bagasse_cuba_jpg.rf.c8aefa384b0dfbede3517a0d3fea7fe3.txt  \n",
      " extracting: /content/drive/MyDrive/crop/yolov5/train/labels/t_jpg.rf.b6430d2e91ac8afff3efdb75694abcf3.txt  \n",
      " extracting: /content/drive/MyDrive/crop/yolov5/train/labels/trash-bell-138_jpg.rf.6e879b970b38aac9da5ec886c12eb436.txt  \n",
      " extracting: /content/drive/MyDrive/crop/yolov5/train/labels/u_jpg.rf.eab0ca90214bb4ad72b4f64c0415da6e.txt  \n",
      " extracting: /content/drive/MyDrive/crop/yolov5/train/labels/v_jpg.rf.7f7f55dbb2eb01827aa7db77e5aabd60.txt  \n",
      " extracting: /content/drive/MyDrive/crop/yolov5/train/labels/vam_output_16-JPG-1ed43de33dc07b74_jpeg.rf.130b76d51fda4d2804d784299aa04ce3.txt  \n",
      " extracting: /content/drive/MyDrive/crop/yolov5/train/labels/w_jpg.rf.78a2f6670ad92a7ff442e469b811aa33.txt  \n",
      " extracting: /content/drive/MyDrive/crop/yolov5/train/labels/waste-left-after-harvest-and-some-corn-cobs-E5BW8M_jpg.rf.7a37d4d8ff2b7d7ab72d19089d77c5b3.txt  \n",
      " extracting: /content/drive/MyDrive/crop/yolov5/train/labels/wheat-straw-1558932302-4925459_jpeg.rf.040941c34bd8278fbfd5292b7a49a61f.txt  \n",
      " extracting: /content/drive/MyDrive/crop/yolov5/train/labels/wood_materials_jpg.rf.468fad69665f4349122677efb0465a6b.txt  \n",
      " extracting: /content/drive/MyDrive/crop/yolov5/train/labels/y_jpg.rf.36e72a05a248ec02d44303c5e3c5d086.txt  \n",
      " extracting: /content/drive/MyDrive/crop/yolov5/train/labels/yard-cleanup-and-waste-removal-service-company-orange-county-ny_jpg.rf.9588005f2b10b7f3b6ba8c5a9e80c6e4.txt  \n",
      " extracting: /content/drive/MyDrive/crop/yolov5/train/labels/z_jpg.rf.9737657dac6a5383f16876fe3c4d093c.txt  \n",
      "   creating: /content/drive/MyDrive/crop/yolov5/valid/\n",
      "   creating: /content/drive/MyDrive/crop/yolov5/valid/images/\n",
      " extracting: /content/drive/MyDrive/crop/yolov5/valid/images/00002_jpg.rf.d05a19e2eca1ee4467d603555d0fe533.jpg  \n",
      " extracting: /content/drive/MyDrive/crop/yolov5/valid/images/00006_jpg.rf.f5bdd9348d99121c8041c4ca5c00e199.jpg  \n",
      " extracting: /content/drive/MyDrive/crop/yolov5/valid/images/00009_jpg.rf.3243d94a489f5c5aa4742fa0363407e2.jpg  \n",
      " extracting: /content/drive/MyDrive/crop/yolov5/valid/images/00013_jpg.rf.9d17245e4eb68cbea8cade59ea260a8e.jpg  \n",
      " extracting: /content/drive/MyDrive/crop/yolov5/valid/images/00046_jpg.rf.cbc300abd986c6f381bda0a1c040252c.jpg  \n",
      " extracting: /content/drive/MyDrive/crop/yolov5/valid/images/00058_jpg.rf.2eb7a97f41f2af28c3ea94ab9809ab35.jpg  \n",
      " extracting: /content/drive/MyDrive/crop/yolov5/valid/images/00070_jpg.rf.7be7986a92768e8b5aed47a438e69efb.jpg  \n",
      " extracting: /content/drive/MyDrive/crop/yolov5/valid/images/00073_jpg.rf.233b7f7536fa63975543d28482bff5dd.jpg  \n",
      " extracting: /content/drive/MyDrive/crop/yolov5/valid/images/00135_jpg.rf.693d67a7c20755524f177d793d3a557a.jpg  \n",
      " extracting: /content/drive/MyDrive/crop/yolov5/valid/images/00137_jpg.rf.59bc174500254bf04000b7b60a73c39b.jpg  \n",
      " extracting: /content/drive/MyDrive/crop/yolov5/valid/images/00138_jpg.rf.8a152c6875e0d00731746c2c383fc434.jpg  \n",
      " extracting: /content/drive/MyDrive/crop/yolov5/valid/images/00146_jpg.rf.7d0220f441d75fa8a4127734d62f7aff.jpg  \n",
      " extracting: /content/drive/MyDrive/crop/yolov5/valid/images/00154_jpg.rf.dba2b56bef42d61b78ab671d615acdd3.jpg  \n",
      " extracting: /content/drive/MyDrive/crop/yolov5/valid/images/00224_jpg.rf.551ff865539798f0049aac6e88d34cdb.jpg  \n",
      " extracting: /content/drive/MyDrive/crop/yolov5/valid/images/00238_jpg.rf.9011c6e1975e831169e4ddb36eb38961.jpg  \n",
      " extracting: /content/drive/MyDrive/crop/yolov5/valid/images/00261_jpg.rf.d679f9b55ceb9ad6c67f136d85a2e3c0.jpg  \n",
      " extracting: /content/drive/MyDrive/crop/yolov5/valid/images/00298_jpg.rf.b27c0f9578af65722dd0c0ac19e9062e.jpg  \n",
      " extracting: /content/drive/MyDrive/crop/yolov5/valid/images/00311_jpg.rf.63b71032b55da8adb8095bb06e016a48.jpg  \n",
      " extracting: /content/drive/MyDrive/crop/yolov5/valid/images/00320_jpg.rf.4e619f45cc7acd9877ccbef302ca8922.jpg  \n",
      " extracting: /content/drive/MyDrive/crop/yolov5/valid/images/00332_jpg.rf.1566f341832ceed169e3d18d8350e6d9.jpg  \n",
      " extracting: /content/drive/MyDrive/crop/yolov5/valid/images/00359_jpg.rf.2b049c67ae8e2c64bac85395bbd4b9c0.jpg  \n",
      " extracting: /content/drive/MyDrive/crop/yolov5/valid/images/00389_jpg.rf.9957281416b25e005531e185a35b38a9.jpg  \n",
      " extracting: /content/drive/MyDrive/crop/yolov5/valid/images/00477_jpg.rf.16f440806f84a6a6158951269a2d9897.jpg  \n",
      " extracting: /content/drive/MyDrive/crop/yolov5/valid/images/00501_jpg.rf.6000d5a9500973fe703517ef02719ce7.jpg  \n",
      " extracting: /content/drive/MyDrive/crop/yolov5/valid/images/00513_jpg.rf.4be973250e052104a74f3d8d43ab832c.jpg  \n",
      " extracting: /content/drive/MyDrive/crop/yolov5/valid/images/00570_jpg.rf.e435452469670a250b534dc467c7941c.jpg  \n",
      " extracting: /content/drive/MyDrive/crop/yolov5/valid/images/00695_jpg.rf.19ac9546fb0e08813defd336a56a9a5a.jpg  \n",
      " extracting: /content/drive/MyDrive/crop/yolov5/valid/images/00744_jpg.rf.163fa36b7779a91cae1dff10aac598e0.jpg  \n",
      " extracting: /content/drive/MyDrive/crop/yolov5/valid/images/00792_jpg.rf.1b9957dd4499467cc93d664ccfbdf568.jpg  \n",
      " extracting: /content/drive/MyDrive/crop/yolov5/valid/images/00796_jpg.rf.cb1115ff08480222dc0001a566343f21.jpg  \n",
      " extracting: /content/drive/MyDrive/crop/yolov5/valid/images/1000_F_560431999_2XIdtSrldyDkzComXgfwOIgqa2qjCv7E_jpg.rf.1c93ed1f2d16ddf32b694ab2cf1399d4.jpg  \n",
      " extracting: /content/drive/MyDrive/crop/yolov5/valid/images/11_jpg.rf.e040004d87db47d39348a9b62ed1c38a.jpg  \n",
      " extracting: /content/drive/MyDrive/crop/yolov5/valid/images/127-195350-fighting-pollution-fuel-shortages-clean-energy-4_jpeg.rf.2796cb01939e400454c1a31f9cf3de32.jpg  \n",
      " extracting: /content/drive/MyDrive/crop/yolov5/valid/images/140901-17503434_jpg.rf.cd4d895b66f10b0c4f03f31b48aa7bb3.jpg  \n",
      " extracting: /content/drive/MyDrive/crop/yolov5/valid/images/14b3e6b9-8f07-449e-be71-f017b27693e6_jpg.rf.538bef1a62549cf8d8ff1f513d349479.jpg  \n",
      " extracting: /content/drive/MyDrive/crop/yolov5/valid/images/18_jpg.rf.53f13baf5ced16233907e5f1d3b1a710.jpg  \n",
      " extracting: /content/drive/MyDrive/crop/yolov5/valid/images/1_jpg.rf.e1670fdd044209e4bb7de2801a18b07f.jpg  \n",
      " extracting: /content/drive/MyDrive/crop/yolov5/valid/images/20_jpg.rf.7e211c66ba73ed42b0df20dd6ed90281.jpg  \n",
      " extracting: /content/drive/MyDrive/crop/yolov5/valid/images/21987222-wastes-composed-of-plant-and-household-waste-in-a-bin_jpg.rf.441091284b00c1f1fb90395793ab09d8.jpg  \n",
      " extracting: /content/drive/MyDrive/crop/yolov5/valid/images/22_jpg.rf.dff5e74053e661ad7fb9e4df0870cc5d.jpg  \n",
      " extracting: /content/drive/MyDrive/crop/yolov5/valid/images/27_jpg.rf.591959a3a435e3f0ea68d9446d4ddfe6.jpg  \n",
      " extracting: /content/drive/MyDrive/crop/yolov5/valid/images/33_jpg.rf.f4e45b457a3b95e9b73dc8e4ae467303.jpg  \n",
      " extracting: /content/drive/MyDrive/crop/yolov5/valid/images/34_jpg.rf.93511a3f4945993325a4b9f5e5f47cd4.jpg  \n",
      " extracting: /content/drive/MyDrive/crop/yolov5/valid/images/36_jpg.rf.981232364ec63523f30eae05c148e85c.jpg  \n",
      " extracting: /content/drive/MyDrive/crop/yolov5/valid/images/37_jpg.rf.cab65c18ef88e4b7ce22ddffc48e111b.jpg  \n",
      " extracting: /content/drive/MyDrive/crop/yolov5/valid/images/51062846001_49f4cea7fb_z_jpg.rf.258ea90d672ebe7debdca11873ebd4e7.jpg  \n",
      " extracting: /content/drive/MyDrive/crop/yolov5/valid/images/8_jpg.rf.f8a805ab96a7773cf4a782b453124eea.jpg  \n",
      " extracting: /content/drive/MyDrive/crop/yolov5/valid/images/8c5010f0-9b1c-42fb-99cf-e1cd9c3836c0-largeScale_thumbnail_Image4_jpg.rf.dbbf8683cc0489e51e378d7fe796c437.jpg  \n",
      " extracting: /content/drive/MyDrive/crop/yolov5/valid/images/DSA06898ekrb789_jpg.rf.b21bd5434efbfd255ac4f52c78d3796b.jpg  \n",
      " extracting: /content/drive/MyDrive/crop/yolov5/valid/images/EwnwCUoWYA8rzyW_jpg.rf.7f51a4a1446ba464e0df8cc741f66978.jpg  \n",
      " extracting: /content/drive/MyDrive/crop/yolov5/valid/images/HeroSeekingChemicalBuilding_0_jpg.rf.e762434dbbed4c81df2603d45d6192cd.jpg  \n",
      " extracting: /content/drive/MyDrive/crop/yolov5/valid/images/IMG_8283-1024x683_jpg.rf.1254fd4fb65f74afa60ab135fb8e727a.jpg  \n",
      " extracting: /content/drive/MyDrive/crop/yolov5/valid/images/Sugarcane_Trash_jpg.rf.300bc1bf8e346c63c24b8498824802e4.jpg  \n",
      " extracting: /content/drive/MyDrive/crop/yolov5/valid/images/Waste_To_Wealth_Bhubaneswar-based_Artist_Crafts_Accessories_Items_Of_Decor_Using_Waste_Coconut_Shells_istock_660x30_jpg.rf.1ba28f350534129eaaba3df98e6e8f4b.jpg  \n",
      " extracting: /content/drive/MyDrive/crop/yolov5/valid/images/Waste_wood_crushed-scaled_jpg.rf.85692d2b12b2044d504ae82424696930.jpg  \n",
      " extracting: /content/drive/MyDrive/crop/yolov5/valid/images/Wasted-veggies-950_jpg.rf.2d0b16bde8df923f8f0bc3e5f10c6738.jpg  \n",
      " extracting: /content/drive/MyDrive/crop/yolov5/valid/images/a-Sustainable-Way-to-Manage-Organic-Waste_jpg.rf.23ff9864c797454b99f8fc5c2450d49a.jpg  \n",
      " extracting: /content/drive/MyDrive/crop/yolov5/valid/images/bigstock-Residue-From-Sugar-Cane-Juice-275035999_jpg.rf.6dcbd46bd9670e29ba0adc5908f3435a.jpg  \n",
      " extracting: /content/drive/MyDrive/crop/yolov5/valid/images/corn-stubble-with-frost-dsc00023-rl-edit-800x600_jpg.rf.55181a22d738e785ccbffa77ef8e10cb.jpg  \n",
      " extracting: /content/drive/MyDrive/crop/yolov5/valid/images/d149cead1a312d7d6a1345311de1b4fe_jpeg.rf.c90f2a5c0ba2cad386980e64ce3655fa.jpg  \n",
      " extracting: /content/drive/MyDrive/crop/yolov5/valid/images/depositphotos_124511218-stock-photo-palm-bark-texture-nature-background_jpg.rf.142a9fbfa4f783eeb7ed9d9538c887ff.jpg  \n",
      " extracting: /content/drive/MyDrive/crop/yolov5/valid/images/depositphotos_7438293-stock-photo-coconut-palm-cocos-nucifera-trunk_jpg.rf.8b0aa2bfde883a287def72f4a9619aeb.jpg  \n",
      " extracting: /content/drive/MyDrive/crop/yolov5/valid/images/download-1-_jpg.rf.c74f93904b235fba9d49f4dd6a6f451a.jpg  \n",
      " extracting: /content/drive/MyDrive/crop/yolov5/valid/images/e_jpg.rf.4afe68546a2e81a81e901e62fd04dbce.jpg  \n",
      " extracting: /content/drive/MyDrive/crop/yolov5/valid/images/edited_compostingboy_jpg.rf.2a2d30ec0a44fc264e0e2044e60ad407.jpg  \n",
      " extracting: /content/drive/MyDrive/crop/yolov5/valid/images/fa99f4e190f4d5758cb95ce3af8b7a2609eb852a_jpg.rf.d0a9683f036e498c9cc14b1252472643.jpg  \n",
      " extracting: /content/drive/MyDrive/crop/yolov5/valid/images/i285134164461510091-_szw480h1280__jpg.rf.945691c6a64edda05294a0225b74a306.jpg  \n",
      " extracting: /content/drive/MyDrive/crop/yolov5/valid/images/i_jpg.rf.cb9ccbd10b71ee149c3044df471ac5fd.jpg  \n",
      " extracting: /content/drive/MyDrive/crop/yolov5/valid/images/image1_jpg.rf.2cfe941afc8deee835ce90eeb09df833.jpg  \n",
      " extracting: /content/drive/MyDrive/crop/yolov5/valid/images/images-7-_jpg.rf.425819fe249c7a6fbfc1ffbbaf77a768.jpg  \n",
      " extracting: /content/drive/MyDrive/crop/yolov5/valid/images/istockphoto-1438352232-612x612_jpg.rf.36ddf20c68c39b46dc32a2137d260371.jpg  \n",
      " extracting: /content/drive/MyDrive/crop/yolov5/valid/images/k_jpg.rf.64446e161123c1c50e7beced7ce8dd20.jpg  \n",
      " extracting: /content/drive/MyDrive/crop/yolov5/valid/images/kitchen-waste-added-to-a-compost-pile-TA35P6_jpg.rf.bd3d451f8c27f837c88028b714c4df43.jpg  \n",
      " extracting: /content/drive/MyDrive/crop/yolov5/valid/images/paille-de-ble-zoom-2-1-scaled_jpg.rf.8fb95a8ea2831dce426b9364c682d219.jpg  \n",
      " extracting: /content/drive/MyDrive/crop/yolov5/valid/images/s-l1200_jpg.rf.edbe03f447b9fd2c0e166c9b6d98116d.jpg  \n",
      " extracting: /content/drive/MyDrive/crop/yolov5/valid/images/strawberry-waste-from-commercial-agriculture-2PC84H5_jpg.rf.19eff031e24c396bfe5496c5f8aaf0b5.jpg  \n",
      " extracting: /content/drive/MyDrive/crop/yolov5/valid/images/t_11d4f9fbb25c4d6588547c1b78865d61_name_image_jpg.rf.bf467b0fc04b76b1551b1c8cc7f38d0b.jpg  \n",
      " extracting: /content/drive/MyDrive/crop/yolov5/valid/images/x_jpg.rf.03e75180594faf1d594b22c991dc6750.jpg  \n",
      "   creating: /content/drive/MyDrive/crop/yolov5/valid/labels/\n",
      " extracting: /content/drive/MyDrive/crop/yolov5/valid/labels/00002_jpg.rf.d05a19e2eca1ee4467d603555d0fe533.txt  \n",
      " extracting: /content/drive/MyDrive/crop/yolov5/valid/labels/00006_jpg.rf.f5bdd9348d99121c8041c4ca5c00e199.txt  \n",
      " extracting: /content/drive/MyDrive/crop/yolov5/valid/labels/00009_jpg.rf.3243d94a489f5c5aa4742fa0363407e2.txt  \n",
      " extracting: /content/drive/MyDrive/crop/yolov5/valid/labels/00013_jpg.rf.9d17245e4eb68cbea8cade59ea260a8e.txt  \n",
      " extracting: /content/drive/MyDrive/crop/yolov5/valid/labels/00046_jpg.rf.cbc300abd986c6f381bda0a1c040252c.txt  \n",
      " extracting: /content/drive/MyDrive/crop/yolov5/valid/labels/00058_jpg.rf.2eb7a97f41f2af28c3ea94ab9809ab35.txt  \n",
      " extracting: /content/drive/MyDrive/crop/yolov5/valid/labels/00070_jpg.rf.7be7986a92768e8b5aed47a438e69efb.txt  \n",
      " extracting: /content/drive/MyDrive/crop/yolov5/valid/labels/00073_jpg.rf.233b7f7536fa63975543d28482bff5dd.txt  \n",
      " extracting: /content/drive/MyDrive/crop/yolov5/valid/labels/00135_jpg.rf.693d67a7c20755524f177d793d3a557a.txt  \n",
      " extracting: /content/drive/MyDrive/crop/yolov5/valid/labels/00137_jpg.rf.59bc174500254bf04000b7b60a73c39b.txt  \n",
      " extracting: /content/drive/MyDrive/crop/yolov5/valid/labels/00138_jpg.rf.8a152c6875e0d00731746c2c383fc434.txt  \n",
      " extracting: /content/drive/MyDrive/crop/yolov5/valid/labels/00146_jpg.rf.7d0220f441d75fa8a4127734d62f7aff.txt  \n",
      " extracting: /content/drive/MyDrive/crop/yolov5/valid/labels/00154_jpg.rf.dba2b56bef42d61b78ab671d615acdd3.txt  \n",
      " extracting: /content/drive/MyDrive/crop/yolov5/valid/labels/00224_jpg.rf.551ff865539798f0049aac6e88d34cdb.txt  \n",
      " extracting: /content/drive/MyDrive/crop/yolov5/valid/labels/00238_jpg.rf.9011c6e1975e831169e4ddb36eb38961.txt  \n",
      " extracting: /content/drive/MyDrive/crop/yolov5/valid/labels/00261_jpg.rf.d679f9b55ceb9ad6c67f136d85a2e3c0.txt  \n",
      " extracting: /content/drive/MyDrive/crop/yolov5/valid/labels/00298_jpg.rf.b27c0f9578af65722dd0c0ac19e9062e.txt  \n",
      " extracting: /content/drive/MyDrive/crop/yolov5/valid/labels/00311_jpg.rf.63b71032b55da8adb8095bb06e016a48.txt  \n",
      " extracting: /content/drive/MyDrive/crop/yolov5/valid/labels/00320_jpg.rf.4e619f45cc7acd9877ccbef302ca8922.txt  \n",
      " extracting: /content/drive/MyDrive/crop/yolov5/valid/labels/00332_jpg.rf.1566f341832ceed169e3d18d8350e6d9.txt  \n",
      " extracting: /content/drive/MyDrive/crop/yolov5/valid/labels/00359_jpg.rf.2b049c67ae8e2c64bac85395bbd4b9c0.txt  \n",
      " extracting: /content/drive/MyDrive/crop/yolov5/valid/labels/00389_jpg.rf.9957281416b25e005531e185a35b38a9.txt  \n",
      " extracting: /content/drive/MyDrive/crop/yolov5/valid/labels/00477_jpg.rf.16f440806f84a6a6158951269a2d9897.txt  \n",
      " extracting: /content/drive/MyDrive/crop/yolov5/valid/labels/00501_jpg.rf.6000d5a9500973fe703517ef02719ce7.txt  \n",
      " extracting: /content/drive/MyDrive/crop/yolov5/valid/labels/00513_jpg.rf.4be973250e052104a74f3d8d43ab832c.txt  \n",
      " extracting: /content/drive/MyDrive/crop/yolov5/valid/labels/00570_jpg.rf.e435452469670a250b534dc467c7941c.txt  \n",
      " extracting: /content/drive/MyDrive/crop/yolov5/valid/labels/00695_jpg.rf.19ac9546fb0e08813defd336a56a9a5a.txt  \n",
      " extracting: /content/drive/MyDrive/crop/yolov5/valid/labels/00744_jpg.rf.163fa36b7779a91cae1dff10aac598e0.txt  \n",
      " extracting: /content/drive/MyDrive/crop/yolov5/valid/labels/00792_jpg.rf.1b9957dd4499467cc93d664ccfbdf568.txt  \n",
      " extracting: /content/drive/MyDrive/crop/yolov5/valid/labels/00796_jpg.rf.cb1115ff08480222dc0001a566343f21.txt  \n",
      " extracting: /content/drive/MyDrive/crop/yolov5/valid/labels/1000_F_560431999_2XIdtSrldyDkzComXgfwOIgqa2qjCv7E_jpg.rf.1c93ed1f2d16ddf32b694ab2cf1399d4.txt  \n",
      " extracting: /content/drive/MyDrive/crop/yolov5/valid/labels/11_jpg.rf.e040004d87db47d39348a9b62ed1c38a.txt  \n",
      " extracting: /content/drive/MyDrive/crop/yolov5/valid/labels/127-195350-fighting-pollution-fuel-shortages-clean-energy-4_jpeg.rf.2796cb01939e400454c1a31f9cf3de32.txt  \n",
      " extracting: /content/drive/MyDrive/crop/yolov5/valid/labels/140901-17503434_jpg.rf.cd4d895b66f10b0c4f03f31b48aa7bb3.txt  \n",
      " extracting: /content/drive/MyDrive/crop/yolov5/valid/labels/14b3e6b9-8f07-449e-be71-f017b27693e6_jpg.rf.538bef1a62549cf8d8ff1f513d349479.txt  \n",
      " extracting: /content/drive/MyDrive/crop/yolov5/valid/labels/18_jpg.rf.53f13baf5ced16233907e5f1d3b1a710.txt  \n",
      " extracting: /content/drive/MyDrive/crop/yolov5/valid/labels/1_jpg.rf.e1670fdd044209e4bb7de2801a18b07f.txt  \n",
      " extracting: /content/drive/MyDrive/crop/yolov5/valid/labels/20_jpg.rf.7e211c66ba73ed42b0df20dd6ed90281.txt  \n",
      " extracting: /content/drive/MyDrive/crop/yolov5/valid/labels/21987222-wastes-composed-of-plant-and-household-waste-in-a-bin_jpg.rf.441091284b00c1f1fb90395793ab09d8.txt  \n",
      " extracting: /content/drive/MyDrive/crop/yolov5/valid/labels/22_jpg.rf.dff5e74053e661ad7fb9e4df0870cc5d.txt  \n",
      " extracting: /content/drive/MyDrive/crop/yolov5/valid/labels/27_jpg.rf.591959a3a435e3f0ea68d9446d4ddfe6.txt  \n",
      " extracting: /content/drive/MyDrive/crop/yolov5/valid/labels/33_jpg.rf.f4e45b457a3b95e9b73dc8e4ae467303.txt  \n",
      " extracting: /content/drive/MyDrive/crop/yolov5/valid/labels/34_jpg.rf.93511a3f4945993325a4b9f5e5f47cd4.txt  \n",
      " extracting: /content/drive/MyDrive/crop/yolov5/valid/labels/36_jpg.rf.981232364ec63523f30eae05c148e85c.txt  \n",
      " extracting: /content/drive/MyDrive/crop/yolov5/valid/labels/37_jpg.rf.cab65c18ef88e4b7ce22ddffc48e111b.txt  \n",
      " extracting: /content/drive/MyDrive/crop/yolov5/valid/labels/51062846001_49f4cea7fb_z_jpg.rf.258ea90d672ebe7debdca11873ebd4e7.txt  \n",
      " extracting: /content/drive/MyDrive/crop/yolov5/valid/labels/8_jpg.rf.f8a805ab96a7773cf4a782b453124eea.txt  \n",
      " extracting: /content/drive/MyDrive/crop/yolov5/valid/labels/8c5010f0-9b1c-42fb-99cf-e1cd9c3836c0-largeScale_thumbnail_Image4_jpg.rf.dbbf8683cc0489e51e378d7fe796c437.txt  \n",
      " extracting: /content/drive/MyDrive/crop/yolov5/valid/labels/DSA06898ekrb789_jpg.rf.b21bd5434efbfd255ac4f52c78d3796b.txt  \n",
      " extracting: /content/drive/MyDrive/crop/yolov5/valid/labels/EwnwCUoWYA8rzyW_jpg.rf.7f51a4a1446ba464e0df8cc741f66978.txt  \n",
      " extracting: /content/drive/MyDrive/crop/yolov5/valid/labels/HeroSeekingChemicalBuilding_0_jpg.rf.e762434dbbed4c81df2603d45d6192cd.txt  \n",
      " extracting: /content/drive/MyDrive/crop/yolov5/valid/labels/IMG_8283-1024x683_jpg.rf.1254fd4fb65f74afa60ab135fb8e727a.txt  \n",
      " extracting: /content/drive/MyDrive/crop/yolov5/valid/labels/Sugarcane_Trash_jpg.rf.300bc1bf8e346c63c24b8498824802e4.txt  \n",
      " extracting: /content/drive/MyDrive/crop/yolov5/valid/labels/Waste_To_Wealth_Bhubaneswar-based_Artist_Crafts_Accessories_Items_Of_Decor_Using_Waste_Coconut_Shells_istock_660x30_jpg.rf.1ba28f350534129eaaba3df98e6e8f4b.txt  \n",
      " extracting: /content/drive/MyDrive/crop/yolov5/valid/labels/Waste_wood_crushed-scaled_jpg.rf.85692d2b12b2044d504ae82424696930.txt  \n",
      " extracting: /content/drive/MyDrive/crop/yolov5/valid/labels/Wasted-veggies-950_jpg.rf.2d0b16bde8df923f8f0bc3e5f10c6738.txt  \n",
      " extracting: /content/drive/MyDrive/crop/yolov5/valid/labels/a-Sustainable-Way-to-Manage-Organic-Waste_jpg.rf.23ff9864c797454b99f8fc5c2450d49a.txt  \n",
      " extracting: /content/drive/MyDrive/crop/yolov5/valid/labels/bigstock-Residue-From-Sugar-Cane-Juice-275035999_jpg.rf.6dcbd46bd9670e29ba0adc5908f3435a.txt  \n",
      " extracting: /content/drive/MyDrive/crop/yolov5/valid/labels/corn-stubble-with-frost-dsc00023-rl-edit-800x600_jpg.rf.55181a22d738e785ccbffa77ef8e10cb.txt  \n",
      " extracting: /content/drive/MyDrive/crop/yolov5/valid/labels/d149cead1a312d7d6a1345311de1b4fe_jpeg.rf.c90f2a5c0ba2cad386980e64ce3655fa.txt  \n",
      " extracting: /content/drive/MyDrive/crop/yolov5/valid/labels/depositphotos_124511218-stock-photo-palm-bark-texture-nature-background_jpg.rf.142a9fbfa4f783eeb7ed9d9538c887ff.txt  \n",
      " extracting: /content/drive/MyDrive/crop/yolov5/valid/labels/depositphotos_7438293-stock-photo-coconut-palm-cocos-nucifera-trunk_jpg.rf.8b0aa2bfde883a287def72f4a9619aeb.txt  \n",
      " extracting: /content/drive/MyDrive/crop/yolov5/valid/labels/download-1-_jpg.rf.c74f93904b235fba9d49f4dd6a6f451a.txt  \n",
      " extracting: /content/drive/MyDrive/crop/yolov5/valid/labels/e_jpg.rf.4afe68546a2e81a81e901e62fd04dbce.txt  \n",
      " extracting: /content/drive/MyDrive/crop/yolov5/valid/labels/edited_compostingboy_jpg.rf.2a2d30ec0a44fc264e0e2044e60ad407.txt  \n",
      " extracting: /content/drive/MyDrive/crop/yolov5/valid/labels/fa99f4e190f4d5758cb95ce3af8b7a2609eb852a_jpg.rf.d0a9683f036e498c9cc14b1252472643.txt  \n",
      " extracting: /content/drive/MyDrive/crop/yolov5/valid/labels/i285134164461510091-_szw480h1280__jpg.rf.945691c6a64edda05294a0225b74a306.txt  \n",
      " extracting: /content/drive/MyDrive/crop/yolov5/valid/labels/i_jpg.rf.cb9ccbd10b71ee149c3044df471ac5fd.txt  \n",
      " extracting: /content/drive/MyDrive/crop/yolov5/valid/labels/image1_jpg.rf.2cfe941afc8deee835ce90eeb09df833.txt  \n",
      " extracting: /content/drive/MyDrive/crop/yolov5/valid/labels/images-7-_jpg.rf.425819fe249c7a6fbfc1ffbbaf77a768.txt  \n",
      " extracting: /content/drive/MyDrive/crop/yolov5/valid/labels/istockphoto-1438352232-612x612_jpg.rf.36ddf20c68c39b46dc32a2137d260371.txt  \n",
      " extracting: /content/drive/MyDrive/crop/yolov5/valid/labels/k_jpg.rf.64446e161123c1c50e7beced7ce8dd20.txt  \n",
      " extracting: /content/drive/MyDrive/crop/yolov5/valid/labels/kitchen-waste-added-to-a-compost-pile-TA35P6_jpg.rf.bd3d451f8c27f837c88028b714c4df43.txt  \n",
      " extracting: /content/drive/MyDrive/crop/yolov5/valid/labels/paille-de-ble-zoom-2-1-scaled_jpg.rf.8fb95a8ea2831dce426b9364c682d219.txt  \n",
      " extracting: /content/drive/MyDrive/crop/yolov5/valid/labels/s-l1200_jpg.rf.edbe03f447b9fd2c0e166c9b6d98116d.txt  \n",
      " extracting: /content/drive/MyDrive/crop/yolov5/valid/labels/strawberry-waste-from-commercial-agriculture-2PC84H5_jpg.rf.19eff031e24c396bfe5496c5f8aaf0b5.txt  \n",
      " extracting: /content/drive/MyDrive/crop/yolov5/valid/labels/t_11d4f9fbb25c4d6588547c1b78865d61_name_image_jpg.rf.bf467b0fc04b76b1551b1c8cc7f38d0b.txt  \n",
      " extracting: /content/drive/MyDrive/crop/yolov5/valid/labels/x_jpg.rf.03e75180594faf1d594b22c991dc6750.txt  \n"
     ]
    }
   ],
   "source": [
    "!unzip \"/content/drive/MyDrive/crop/waste_management.v1i.yolov5pytorch.zip\" -d \"/content/drive/MyDrive/crop/yolov5\""
   ]
  },
  {
   "cell_type": "code",
   "execution_count": 5,
   "metadata": {
    "colab": {
     "base_uri": "https://localhost:8080/"
    },
    "executionInfo": {
     "elapsed": 8398,
     "status": "ok",
     "timestamp": 1712205486825,
     "user": {
      "displayName": "TruProjects yolo",
      "userId": "18414174829652366032"
     },
     "user_tz": -330
    },
    "id": "ggvirUzHiWkZ",
    "outputId": "45b69b97-d9e4-46d0-b927-0cbc24a73a3e"
   },
   "outputs": [
    {
     "name": "stdout",
     "output_type": "stream",
     "text": [
      "Archive:  /content/drive/MyDrive/crop/waste_management.v1i.yolov7pytorch.zip\n",
      " extracting: /content/drive/MyDrive/crop/yolov7/README.dataset.txt  \n",
      " extracting: /content/drive/MyDrive/crop/yolov7/README.roboflow.txt  \n",
      " extracting: /content/drive/MyDrive/crop/yolov7/data.yaml  \n",
      "   creating: /content/drive/MyDrive/crop/yolov7/train/\n",
      "   creating: /content/drive/MyDrive/crop/yolov7/train/images/\n",
      " extracting: /content/drive/MyDrive/crop/yolov7/train/images/00007_jpg.rf.d76cc7ce4000efc627611eb2d71c1265.jpg  \n",
      " extracting: /content/drive/MyDrive/crop/yolov7/train/images/00016_jpg.rf.c491af2178640bf3de455f243631424b.jpg  \n",
      " extracting: /content/drive/MyDrive/crop/yolov7/train/images/00017_jpg.rf.ea8e9aa8a56afe315785707023c875e9.jpg  \n",
      " extracting: /content/drive/MyDrive/crop/yolov7/train/images/00018_jpg.rf.f48aadd64e01e5691acacc00d2b4e18c.jpg  \n",
      " extracting: /content/drive/MyDrive/crop/yolov7/train/images/00022_jpg.rf.757e1db6fcf965af3ce548eb44cc3194.jpg  \n",
      " extracting: /content/drive/MyDrive/crop/yolov7/train/images/00024_jpg.rf.3ceed35e0dd6ed26a6bf4f529ffec2ab.jpg  \n",
      " extracting: /content/drive/MyDrive/crop/yolov7/train/images/00029_jpg.rf.76bcc6dca11c3406e8da3edfcb99f6b9.jpg  \n",
      " extracting: /content/drive/MyDrive/crop/yolov7/train/images/00030_jpg.rf.bc60cf6ca9601cf873994b96fa675ed1.jpg  \n",
      " extracting: /content/drive/MyDrive/crop/yolov7/train/images/00032_jpg.rf.d1f1d158cfcf3a138b519294576a62cb.jpg  \n",
      " extracting: /content/drive/MyDrive/crop/yolov7/train/images/00035_jpg.rf.d3f3511c334272ece8cf50126f390ddc.jpg  \n",
      " extracting: /content/drive/MyDrive/crop/yolov7/train/images/00038_jpg.rf.5c4f4d02d54ef96112f0f62a669b6e21.jpg  \n",
      " extracting: /content/drive/MyDrive/crop/yolov7/train/images/00039_jpg.rf.e3286f9b22fbd2a1aab5248469bb70fc.jpg  \n",
      " extracting: /content/drive/MyDrive/crop/yolov7/train/images/00042_jpg.rf.d9a8532993d9bc8fe43d519fc42c9c3c.jpg  \n",
      " extracting: /content/drive/MyDrive/crop/yolov7/train/images/00045_jpg.rf.51a7d60ffc93a716b566d8ed4b56d8d5.jpg  \n",
      " extracting: /content/drive/MyDrive/crop/yolov7/train/images/00048_jpg.rf.217cad0f39fd0ce81da44d408c9a0101.jpg  \n",
      " extracting: /content/drive/MyDrive/crop/yolov7/train/images/00049_jpg.rf.ffc8ac0995bfad806e7236073190a3e1.jpg  \n",
      " extracting: /content/drive/MyDrive/crop/yolov7/train/images/00052_jpg.rf.46cb0ffb38c7fd1e6d2f04c6b25f91cf.jpg  \n",
      " extracting: /content/drive/MyDrive/crop/yolov7/train/images/00056_jpg.rf.73796e2d699e4fca9858443a4d188b53.jpg  \n",
      " extracting: /content/drive/MyDrive/crop/yolov7/train/images/00060_jpg.rf.060f90966f753b2a07214169a3398655.jpg  \n",
      " extracting: /content/drive/MyDrive/crop/yolov7/train/images/00078_jpg.rf.f5b53602f8205cc62a4458199bc68f7b.jpg  \n",
      " extracting: /content/drive/MyDrive/crop/yolov7/train/images/00087_jpg.rf.38ed3c8ac8ff648ffbc2b1d0d5f3e1ba.jpg  \n",
      " extracting: /content/drive/MyDrive/crop/yolov7/train/images/00088_jpg.rf.69c7b5a8f00c4ac4cfc86bf606e66714.jpg  \n",
      " extracting: /content/drive/MyDrive/crop/yolov7/train/images/00093_jpg.rf.cb496e8cb050f9a64324618bb14ff2dd.jpg  \n",
      " extracting: /content/drive/MyDrive/crop/yolov7/train/images/00095_jpg.rf.f82ff597688c62dadd0fa086693c98fe.jpg  \n",
      " extracting: /content/drive/MyDrive/crop/yolov7/train/images/00096_jpg.rf.7932b9d2ef7eec2659a531b5b56306e5.jpg  \n",
      " extracting: /content/drive/MyDrive/crop/yolov7/train/images/00098_jpg.rf.871ec33ed4cab48d682bd1088100a60e.jpg  \n",
      " extracting: /content/drive/MyDrive/crop/yolov7/train/images/00107_jpg.rf.4c6018aa08ced90ebe3abf668339df36.jpg  \n",
      " extracting: /content/drive/MyDrive/crop/yolov7/train/images/00114_jpg.rf.8d35eebcc174d0f11ec1912f24ee72a7.jpg  \n",
      " extracting: /content/drive/MyDrive/crop/yolov7/train/images/00117_jpg.rf.fe01ad80144c4185ec1bd27dab7252c5.jpg  \n",
      " extracting: /content/drive/MyDrive/crop/yolov7/train/images/0011f8d9-614_jpg.rf.8912e154b5ce56d962602c169ba03ba1.jpg  \n",
      " extracting: /content/drive/MyDrive/crop/yolov7/train/images/00122_jpg.rf.40098e533547992b917e103e158ad8d8.jpg  \n",
      " extracting: /content/drive/MyDrive/crop/yolov7/train/images/00125_jpg.rf.1881b921954b773a5bedd69d916f3812.jpg  \n",
      " extracting: /content/drive/MyDrive/crop/yolov7/train/images/00128_jpg.rf.c9f3636094f21993247e65b5edbe5c19.jpg  \n",
      " extracting: /content/drive/MyDrive/crop/yolov7/train/images/00136_jpg.rf.efc9a8a94dd15796e5ce402cec6f90cd.jpg  \n",
      " extracting: /content/drive/MyDrive/crop/yolov7/train/images/00141_jpg.rf.0ea0b8805540ea1a305842bdf39ec82d.jpg  \n",
      " extracting: /content/drive/MyDrive/crop/yolov7/train/images/00142_jpg.rf.df25d40c00dc00adf35a12263cdc9834.jpg  \n",
      " extracting: /content/drive/MyDrive/crop/yolov7/train/images/00147_jpg.rf.d1a4361e7074368082a453e7b6eb2542.jpg  \n",
      " extracting: /content/drive/MyDrive/crop/yolov7/train/images/00150_jpg.rf.e3e7b0d9d1d8172eaac363061e98a813.jpg  \n",
      " extracting: /content/drive/MyDrive/crop/yolov7/train/images/00160_jpg.rf.bc82795474847c531e127d77c19572e5.jpg  \n",
      " extracting: /content/drive/MyDrive/crop/yolov7/train/images/00166_jpg.rf.d2d7710ff83b986a165cea03ccd13236.jpg  \n",
      " extracting: /content/drive/MyDrive/crop/yolov7/train/images/00177_jpg.rf.8255f3982314eea8736e2635b9612c30.jpg  \n",
      " extracting: /content/drive/MyDrive/crop/yolov7/train/images/00189_jpg.rf.e8e4cb4ebce5636521dc01ff4b328e40.jpg  \n",
      " extracting: /content/drive/MyDrive/crop/yolov7/train/images/00190_jpg.rf.c7dbf4bd368e1381a48fdf41219407a9.jpg  \n",
      " extracting: /content/drive/MyDrive/crop/yolov7/train/images/00197_jpg.rf.9437cd7c0b0765e8a63d3b0f44c4a67c.jpg  \n",
      " extracting: /content/drive/MyDrive/crop/yolov7/train/images/00200_jpg.rf.c44d166629944e40c05ab3af6b36a705.jpg  \n",
      " extracting: /content/drive/MyDrive/crop/yolov7/train/images/00208_jpg.rf.8e52c370895fececaf0c4cb129ee2c09.jpg  \n",
      " extracting: /content/drive/MyDrive/crop/yolov7/train/images/00209_jpg.rf.913d46b226d0aab231603f39b3f86518.jpg  \n",
      " extracting: /content/drive/MyDrive/crop/yolov7/train/images/00211_jpg.rf.7e0b7bc8ad8e6f709e82763bdbe99ceb.jpg  \n",
      " extracting: /content/drive/MyDrive/crop/yolov7/train/images/00217_jpg.rf.ba226766ea7efe7067b151903f4c0023.jpg  \n",
      " extracting: /content/drive/MyDrive/crop/yolov7/train/images/00230_jpg.rf.1f34197b93fb5ccd2c5b49f4bc8fda3a.jpg  \n",
      " extracting: /content/drive/MyDrive/crop/yolov7/train/images/00237_jpg.rf.8151b4a678d2d37adb5033283b43c0f8.jpg  \n",
      " extracting: /content/drive/MyDrive/crop/yolov7/train/images/00249_jpg.rf.d420cdd4bd5e53abb6dcb0a0dd435447.jpg  \n",
      " extracting: /content/drive/MyDrive/crop/yolov7/train/images/00251_jpg.rf.e5a6e29550b27cd66338ec16795bc646.jpg  \n",
      " extracting: /content/drive/MyDrive/crop/yolov7/train/images/00284_jpg.rf.7ed236fab8e4524d3fd183852b026ac8.jpg  \n",
      " extracting: /content/drive/MyDrive/crop/yolov7/train/images/00285_jpg.rf.7b0c9858b8bcc81e32b75054af1741ef.jpg  \n",
      " extracting: /content/drive/MyDrive/crop/yolov7/train/images/00286_jpg.rf.b732a616472fbf108dd9661a8b315903.jpg  \n",
      " extracting: /content/drive/MyDrive/crop/yolov7/train/images/00308_jpg.rf.414e26d72d2747b40d9e4b6c15b55c53.jpg  \n",
      " extracting: /content/drive/MyDrive/crop/yolov7/train/images/00310_jpg.rf.0d9783b53b4e1e9b7282dc6c04d29713.jpg  \n",
      " extracting: /content/drive/MyDrive/crop/yolov7/train/images/00322_jpg.rf.0dd7c6e5f7dc9f8f84c42656fd336fc6.jpg  \n",
      " extracting: /content/drive/MyDrive/crop/yolov7/train/images/00333_jpg.rf.d1eb02ed8230afa79f6763bce31d676c.jpg  \n",
      " extracting: /content/drive/MyDrive/crop/yolov7/train/images/00334_jpg.rf.4f764a2f7024fff1a1650b87f75f8fcc.jpg  \n",
      " extracting: /content/drive/MyDrive/crop/yolov7/train/images/00335_jpg.rf.892dc843542909e11cdffd126f93599a.jpg  \n",
      " extracting: /content/drive/MyDrive/crop/yolov7/train/images/00358_jpg.rf.5627c531573a19c7594aa2772dd8751e.jpg  \n",
      " extracting: /content/drive/MyDrive/crop/yolov7/train/images/00361_jpg.rf.0b42430c8963e01a38aa49221a824032.jpg  \n",
      " extracting: /content/drive/MyDrive/crop/yolov7/train/images/00373_jpg.rf.1899ffe973e15649b3019be850c0e444.jpg  \n",
      " extracting: /content/drive/MyDrive/crop/yolov7/train/images/00384_jpg.rf.f6ceeea4a213b4f2a0094d5099cfe080.jpg  \n",
      " extracting: /content/drive/MyDrive/crop/yolov7/train/images/00388_jpg.rf.88d2ed8d336fea4bfd884d01996044a8.jpg  \n",
      " extracting: /content/drive/MyDrive/crop/yolov7/train/images/00394_jpg.rf.34fad1a60c5c03a4b0129b73b540d35e.jpg  \n",
      " extracting: /content/drive/MyDrive/crop/yolov7/train/images/00395_jpg.rf.fee91f02f61a6e3904a4d25f932ca41c.jpg  \n",
      " extracting: /content/drive/MyDrive/crop/yolov7/train/images/00405_jpg.rf.b575cc2a4be2022070560e7a5e3b5e20.jpg  \n",
      " extracting: /content/drive/MyDrive/crop/yolov7/train/images/00407_jpg.rf.9f4e52a08f0bde325c17e33360392b9a.jpg  \n",
      " extracting: /content/drive/MyDrive/crop/yolov7/train/images/00410_jpg.rf.d01bd2d12707a21fd83808240e56ddfb.jpg  \n",
      " extracting: /content/drive/MyDrive/crop/yolov7/train/images/00416_jpg.rf.54f7abe3de1def426f2d4ea5541660f4.jpg  \n",
      " extracting: /content/drive/MyDrive/crop/yolov7/train/images/00418_jpg.rf.fe5cd4961cf9903dfe819c7afae553fc.jpg  \n",
      " extracting: /content/drive/MyDrive/crop/yolov7/train/images/00427_jpg.rf.e0131da62111d7674573034e568c5e93.jpg  \n",
      " extracting: /content/drive/MyDrive/crop/yolov7/train/images/00429_jpg.rf.928cd2868430074e3ed54032e4c29502.jpg  \n",
      " extracting: /content/drive/MyDrive/crop/yolov7/train/images/00448_jpg.rf.b765c6db2a5d565d3c3f76aae5b194ee.jpg  \n",
      " extracting: /content/drive/MyDrive/crop/yolov7/train/images/00453_jpg.rf.6dd5d25e2bca32601babbe20134aea6a.jpg  \n",
      " extracting: /content/drive/MyDrive/crop/yolov7/train/images/00454_jpg.rf.230c42716af958ea7756da6e40dd76e8.jpg  \n",
      " extracting: /content/drive/MyDrive/crop/yolov7/train/images/00459_jpg.rf.6d997099f36fe9bd74725e660a0a5ee0.jpg  \n",
      " extracting: /content/drive/MyDrive/crop/yolov7/train/images/00466_jpg.rf.ee9d7f435b9ef989d98495c10acbf23c.jpg  \n",
      " extracting: /content/drive/MyDrive/crop/yolov7/train/images/00474_jpg.rf.a9f1031ebe6692bee32053a685f2011f.jpg  \n",
      " extracting: /content/drive/MyDrive/crop/yolov7/train/images/00483_jpg.rf.733ee8178d27ac79e27d5dc197f99557.jpg  \n",
      " extracting: /content/drive/MyDrive/crop/yolov7/train/images/00493_jpg.rf.ed639ce4d568ad879448f5f7e023ff44.jpg  \n",
      " extracting: /content/drive/MyDrive/crop/yolov7/train/images/00496_jpg.rf.6405e00a3f2d53f563c08c3fce9ca53f.jpg  \n",
      " extracting: /content/drive/MyDrive/crop/yolov7/train/images/00498_jpg.rf.338423d9de8f9bece626b66721306a60.jpg  \n",
      " extracting: /content/drive/MyDrive/crop/yolov7/train/images/00502_jpg.rf.9de1717b6f2bb50bd6880948d8057c33.jpg  \n",
      " extracting: /content/drive/MyDrive/crop/yolov7/train/images/00515_jpg.rf.4b4834f083d4ad258e56762412f83b20.jpg  \n",
      " extracting: /content/drive/MyDrive/crop/yolov7/train/images/00521_jpg.rf.f0d35f986304af254281a2e8142dd002.jpg  \n",
      " extracting: /content/drive/MyDrive/crop/yolov7/train/images/00539_jpg.rf.932b6fbafd95ee384972a5c01bb0e79d.jpg  \n",
      " extracting: /content/drive/MyDrive/crop/yolov7/train/images/00565_jpg.rf.e308627a12c322d23271a029b31d2fce.jpg  \n",
      " extracting: /content/drive/MyDrive/crop/yolov7/train/images/00574_jpg.rf.d143db315c85a8941abf85cfc3245fb0.jpg  \n",
      " extracting: /content/drive/MyDrive/crop/yolov7/train/images/00581_jpg.rf.0a099d6446559f7e59e5a7d4b5ada678.jpg  \n",
      " extracting: /content/drive/MyDrive/crop/yolov7/train/images/00590_jpg.rf.a1c265fcd9f0f1c61149326340112657.jpg  \n",
      " extracting: /content/drive/MyDrive/crop/yolov7/train/images/00595_jpg.rf.ec1697f37a5d5905d083e491fd1cac7f.jpg  \n",
      " extracting: /content/drive/MyDrive/crop/yolov7/train/images/00598_jpg.rf.c34dc186cc644ff328a1377b43ad2e06.jpg  \n",
      " extracting: /content/drive/MyDrive/crop/yolov7/train/images/00608_jpg.rf.f1fe8d5dc28f53d5e80db31c50229e61.jpg  \n",
      " extracting: /content/drive/MyDrive/crop/yolov7/train/images/00648_jpg.rf.0a9fe287711da0ab98ef48bbe88a74e1.jpg  \n",
      " extracting: /content/drive/MyDrive/crop/yolov7/train/images/00662_jpg.rf.2512197e7fc29e2437d7c559de06e13d.jpg  \n",
      " extracting: /content/drive/MyDrive/crop/yolov7/train/images/00668_jpg.rf.9b6fa2e015207000b0ff62b1d666f7e7.jpg  \n",
      " extracting: /content/drive/MyDrive/crop/yolov7/train/images/00674_jpg.rf.7b8d9859b317bc2a1d5887166c5ff25d.jpg  \n",
      " extracting: /content/drive/MyDrive/crop/yolov7/train/images/00693_jpg.rf.f2a90c16b774a6e24b769a89ef9c26b7.jpg  \n",
      " extracting: /content/drive/MyDrive/crop/yolov7/train/images/00698_jpg.rf.bd49d20c16af4f0af44f90b1ea24f4fd.jpg  \n",
      " extracting: /content/drive/MyDrive/crop/yolov7/train/images/00699_jpg.rf.95f59e1d8449f5c7dc7378dcd822c8ea.jpg  \n",
      " extracting: /content/drive/MyDrive/crop/yolov7/train/images/00707_jpg.rf.c556b421650ef9ee5a2e7165e6cfbc71.jpg  \n",
      " extracting: /content/drive/MyDrive/crop/yolov7/train/images/00709_jpg.rf.45eade9882ddf1361d1c16e30b8a009d.jpg  \n",
      " extracting: /content/drive/MyDrive/crop/yolov7/train/images/00710_jpg.rf.6665283c302705eeae4893198365ffee.jpg  \n",
      " extracting: /content/drive/MyDrive/crop/yolov7/train/images/00711_jpg.rf.a6bb248bbeecf2dec51d3eacb10ebb83.jpg  \n",
      " extracting: /content/drive/MyDrive/crop/yolov7/train/images/00719_jpg.rf.cf1284a37b12234fd1ad075816b0a0ee.jpg  \n",
      " extracting: /content/drive/MyDrive/crop/yolov7/train/images/00721_jpg.rf.62f5e6f7470861c2b6bc9245b7516ebf.jpg  \n",
      " extracting: /content/drive/MyDrive/crop/yolov7/train/images/00722_jpg.rf.818871c1eccf84081fd46da68416cc8c.jpg  \n",
      " extracting: /content/drive/MyDrive/crop/yolov7/train/images/00723_jpg.rf.fbc699c598d62a818b5ef64593d01eff.jpg  \n",
      " extracting: /content/drive/MyDrive/crop/yolov7/train/images/00726_jpg.rf.cee287ec2c08db6689a0e5580bc7a8bd.jpg  \n",
      " extracting: /content/drive/MyDrive/crop/yolov7/train/images/00730_jpg.rf.d721d3f2637a6f7bd33384e9008f069e.jpg  \n",
      " extracting: /content/drive/MyDrive/crop/yolov7/train/images/00731_jpg.rf.07975ad5ced81a125f69e983ba898762.jpg  \n",
      " extracting: /content/drive/MyDrive/crop/yolov7/train/images/00732_jpg.rf.3c2bb1aceb68c633f790fb9fe9c1254a.jpg  \n",
      " extracting: /content/drive/MyDrive/crop/yolov7/train/images/00740_jpg.rf.15c5ac0e27ecfdae86500cfb3a451408.jpg  \n",
      " extracting: /content/drive/MyDrive/crop/yolov7/train/images/00742_jpg.rf.0b851b396eb1219249c0b15162b09c42.jpg  \n",
      " extracting: /content/drive/MyDrive/crop/yolov7/train/images/00746_jpg.rf.a2161d3081301b4a6d2748f62f629d7d.jpg  \n",
      " extracting: /content/drive/MyDrive/crop/yolov7/train/images/00747_jpg.rf.32d134e364d0f161a6f0cb92643eaec6.jpg  \n",
      " extracting: /content/drive/MyDrive/crop/yolov7/train/images/00748_jpg.rf.6a278900c61dc004fefe96ce60c9060f.jpg  \n",
      " extracting: /content/drive/MyDrive/crop/yolov7/train/images/00749_jpg.rf.7eb11172255a6c85923c0cf517c6fdfe.jpg  \n",
      " extracting: /content/drive/MyDrive/crop/yolov7/train/images/00765_jpg.rf.bb7c733a51b2e683bb3dc7db7d8b2f08.jpg  \n",
      " extracting: /content/drive/MyDrive/crop/yolov7/train/images/00767_jpg.rf.ef2a9662c250f51ba52fbd8237019446.jpg  \n",
      " extracting: /content/drive/MyDrive/crop/yolov7/train/images/00769_jpg.rf.1ed88e3e6cbe482c4d01d809f7a208bb.jpg  \n",
      " extracting: /content/drive/MyDrive/crop/yolov7/train/images/00774_jpg.rf.2ce6d39e8f2d51c3281572d1d0e8e150.jpg  \n",
      " extracting: /content/drive/MyDrive/crop/yolov7/train/images/00790_jpg.rf.4420440b75520d4d7bf8896e8c640303.jpg  \n",
      " extracting: /content/drive/MyDrive/crop/yolov7/train/images/00801_jpg.rf.2bc6ebc755ba41fef9ae599e5573cf86.jpg  \n",
      " extracting: /content/drive/MyDrive/crop/yolov7/train/images/00805_jpg.rf.6c6cbbfca09df17e3476d40498bf9fc1.jpg  \n",
      " extracting: /content/drive/MyDrive/crop/yolov7/train/images/00808_jpg.rf.b973d47d6912d9f3e69d85a118f69abe.jpg  \n",
      " extracting: /content/drive/MyDrive/crop/yolov7/train/images/00813_jpg.rf.7198a8aadb991231b7d4009ad4be27a6.jpg  \n",
      " extracting: /content/drive/MyDrive/crop/yolov7/train/images/00816_jpg.rf.3b0aceffd843752a50fdf18e0f77176d.jpg  \n",
      " extracting: /content/drive/MyDrive/crop/yolov7/train/images/00818_jpg.rf.7f99ddff8e4048c583c6e9f297c5f1bc.jpg  \n",
      " extracting: /content/drive/MyDrive/crop/yolov7/train/images/00819_jpg.rf.0fa4e4408baf4ad8f86d71f2620f982e.jpg  \n",
      " extracting: /content/drive/MyDrive/crop/yolov7/train/images/00820_jpg.rf.df897ba95dc658184f77ab44f87875ff.jpg  \n",
      " extracting: /content/drive/MyDrive/crop/yolov7/train/images/1000_F_407431057_UtfWgF7jPj79fyvOYinn7Tsfu2eQuKZE_jpg.rf.5d9ecd383a21fcce5e2ce26d3017686d.jpg  \n",
      " extracting: /content/drive/MyDrive/crop/yolov7/train/images/10_jpg.rf.a8dc045cd2f9c3b6d8ccef042f8dada7.jpg  \n",
      " extracting: /content/drive/MyDrive/crop/yolov7/train/images/12_jpg.rf.c26fedebd2bd28e06f07729965083b39.jpg  \n",
      " extracting: /content/drive/MyDrive/crop/yolov7/train/images/130287-before-image_jpeg.rf.bef3fdb757b9ba510ede9cf1d994a6cc.jpg  \n",
      " extracting: /content/drive/MyDrive/crop/yolov7/train/images/13_jpg.rf.12d955e949446091ac6f3f272d9e407f.jpg  \n",
      " extracting: /content/drive/MyDrive/crop/yolov7/train/images/14_jpg.rf.5dc3e9ff88dfe1f5c6f99950ca859d51.jpg  \n",
      " extracting: /content/drive/MyDrive/crop/yolov7/train/images/15_jpg.rf.905cf42dfcb7179e782b8bf8a511f304.jpg  \n",
      " extracting: /content/drive/MyDrive/crop/yolov7/train/images/1683557010653_jpg.rf.4a2e6eb9c971008bcc02bfe8a568cc0a.jpg  \n",
      " extracting: /content/drive/MyDrive/crop/yolov7/train/images/16_jpg.rf.108bd8ef55ccd5d76e47c604df085a48.jpg  \n",
      " extracting: /content/drive/MyDrive/crop/yolov7/train/images/17_jpg.rf.8372f8383e919794840055e66ec33da9.jpg  \n",
      " extracting: /content/drive/MyDrive/crop/yolov7/train/images/182fe0ef910b4914901ce0ed6af803f8_jpg.rf.7b4cfd21b4fc9cfd282c1e3aff9b53e6.jpg  \n",
      " extracting: /content/drive/MyDrive/crop/yolov7/train/images/189025_jpg.rf.54d41f497467170613969f4f03568354.jpg  \n",
      " extracting: /content/drive/MyDrive/crop/yolov7/train/images/19_jpg.rf.47bbee0e678c4e57d5b7eeb747be6402.jpg  \n",
      " extracting: /content/drive/MyDrive/crop/yolov7/train/images/2-3_jpg.rf.e83a609a993db24ce4371952ce59bc87.jpg  \n",
      " extracting: /content/drive/MyDrive/crop/yolov7/train/images/2-string-wheat-4-oif1do4m8g18cqn5ny1thlfh8mlqcgubbq20ybwoso_jpg.rf.098966a64c512f9ffb84338a8d1d1cbb.jpg  \n",
      " extracting: /content/drive/MyDrive/crop/yolov7/train/images/2017spring-waste-not-1optA_jpg.rf.004dc5e11ceb7e3ce063b3d729b9829f.jpg  \n",
      " extracting: /content/drive/MyDrive/crop/yolov7/train/images/20230622_172326_jpg.rf.8a6e9d8ea393124ad35dc2cbab7f9083.jpg  \n",
      " extracting: /content/drive/MyDrive/crop/yolov7/train/images/21_jpg.rf.f3d442b45a2b2c400480358eff16f131.jpg  \n",
      " extracting: /content/drive/MyDrive/crop/yolov7/train/images/23_jpg.rf.97e17652d96f0b201d42c54799614ad7.jpg  \n",
      " extracting: /content/drive/MyDrive/crop/yolov7/train/images/24_jpg.rf.3234f8a51e32c1af901798c99d805664.jpg  \n",
      " extracting: /content/drive/MyDrive/crop/yolov7/train/images/25_jpg.rf.1f26fd8757007e2f67a7f8574736b9ec.jpg  \n",
      " extracting: /content/drive/MyDrive/crop/yolov7/train/images/26_jpg.rf.57e018f55397841d763af55c21619b97.jpg  \n",
      " extracting: /content/drive/MyDrive/crop/yolov7/train/images/28_jpg.rf.bc56976fbd2f2c173c3e0c227f2a4841.jpg  \n",
      " extracting: /content/drive/MyDrive/crop/yolov7/train/images/29867428_1705680188_jpg.rf.9f97eeb808fb4d26c0910cc37d9bb107.jpg  \n",
      " extracting: /content/drive/MyDrive/crop/yolov7/train/images/29_jpg.rf.9d781b14080cceaa132257fa6c396098.jpg  \n",
      " extracting: /content/drive/MyDrive/crop/yolov7/train/images/2_jpg.rf.1f98372fcd6d55c9c565b43b2cfc0755.jpg  \n",
      " extracting: /content/drive/MyDrive/crop/yolov7/train/images/30_jpg.rf.ce9e31b1429a79e62913cfd0a7c7a693.jpg  \n",
      " extracting: /content/drive/MyDrive/crop/yolov7/train/images/31_jpg.rf.55f9d3dd39f3bdefa2690db4c4161c0a.jpg  \n",
      " extracting: /content/drive/MyDrive/crop/yolov7/train/images/32_jpg.rf.502655a0e6888345ba3df3265e8987cb.jpg  \n",
      " extracting: /content/drive/MyDrive/crop/yolov7/train/images/348s_jpg.rf.664b0ac96c892c208729a871602591d7.jpg  \n",
      " extracting: /content/drive/MyDrive/crop/yolov7/train/images/35_jpg.rf.802bff04d54cd37a86b4a84600eaa184.jpg  \n",
      " extracting: /content/drive/MyDrive/crop/yolov7/train/images/360_F_288121842_oey4mLF9YAzVNRcFyaEJjIxkuQufahfE_jpg.rf.30b630e42fc5a3fb54bcb72cd8b9b9b6.jpg  \n",
      " extracting: /content/drive/MyDrive/crop/yolov7/train/images/360_F_32059997_HzT7QS1yfhcIp1FYQRMsLckK3GfJ40qC_jpg.rf.36962a64f91b157a797734f0d77ce609.jpg  \n",
      " extracting: /content/drive/MyDrive/crop/yolov7/train/images/360_F_414644443_71rQd5Y5pzQ63tu5C61GXeORWOjtMmZJ_jpg.rf.e2aa09229da7facde2b7a7cb7389a6b2.jpg  \n",
      " extracting: /content/drive/MyDrive/crop/yolov7/train/images/360_F_515211232_lMF4n7w3AoMxELPjMMEClLzQcpRcRLLj_jpg.rf.4c67e5bc4de5c42c16532bf5dd100908.jpg  \n",
      " extracting: /content/drive/MyDrive/crop/yolov7/train/images/37573_1_jpg.rf.dd9961544b33f1da4ba048937491df9f.jpg  \n",
      " extracting: /content/drive/MyDrive/crop/yolov7/train/images/3_jpg.rf.e71b043ebcdddbc799e3c2f9d74ea29b.jpg  \n",
      " extracting: /content/drive/MyDrive/crop/yolov7/train/images/42744_1_jpg.rf.c4f3f1c48ced1e279638d707a4ed6aff.jpg  \n",
      " extracting: /content/drive/MyDrive/crop/yolov7/train/images/4_jpg.rf.7407bdfcbcc82dc32e6321d38bb379a8.jpg  \n",
      " extracting: /content/drive/MyDrive/crop/yolov7/train/images/5GHQCAVEE5RJZB54YDMHNXR7IQ_jpg.rf.85bae030a004a580bee48fbcc81a198f.jpg  \n",
      " extracting: /content/drive/MyDrive/crop/yolov7/train/images/5MNMDRZBKALKPLU2OSP5X3IV7M_jpg.rf.481c50f19fc4531f0380838d43cc8bc6.jpg  \n",
      " extracting: /content/drive/MyDrive/crop/yolov7/train/images/5_jpg.rf.3c3c8af160db079dcadc2bbeba2d425c.jpg  \n",
      " extracting: /content/drive/MyDrive/crop/yolov7/train/images/5d9f672144e50-image_jpg.rf.46e41affc3dfce0eec652e6c4b79f392.jpg  \n",
      " extracting: /content/drive/MyDrive/crop/yolov7/train/images/5edff99fe51497455cc8f8db48a38966_XL_jpg.rf.66b62bc31bcf5bdcda7735a4be6a674a.jpg  \n",
      " extracting: /content/drive/MyDrive/crop/yolov7/train/images/638036765484770000_jpg.rf.a6d9045deb44260d2606337834c0dad4.jpg  \n",
      " extracting: /content/drive/MyDrive/crop/yolov7/train/images/644638fd-08c6-48de-881b-1660ef852969-e889a2a_jpg.rf.fdcb36873dd1526e21464652943e58eb.jpg  \n",
      " extracting: /content/drive/MyDrive/crop/yolov7/train/images/6_jpg.rf.1a349e9a6c6ee6a95d0f396d808431c5.jpg  \n",
      " extracting: /content/drive/MyDrive/crop/yolov7/train/images/719VTcbYeeL-_AC_UF1000-1000_QL80__jpg.rf.8eccdf4c752139ccf4dc5c12b72035c1.jpg  \n",
      " extracting: /content/drive/MyDrive/crop/yolov7/train/images/7498571b98_jpg.rf.585da9ed1ae831a9235e05fc5c8c3130.jpg  \n",
      " extracting: /content/drive/MyDrive/crop/yolov7/train/images/7_jpg.rf.c6e1657173cb214f4dc915a6ac7d3fdc.jpg  \n",
      " extracting: /content/drive/MyDrive/crop/yolov7/train/images/86fafcc16cfb3eb0f77dd2397efad850_jpg.rf.ffeeb51c79acb15ed21448878c7bd31c.jpg  \n",
      " extracting: /content/drive/MyDrive/crop/yolov7/train/images/8cf631f09ff0ff636f2726e3ba8d51a1_jpeg.rf.d00367ed8691bb42ea7b6eea60b65c5b.jpg  \n",
      " extracting: /content/drive/MyDrive/crop/yolov7/train/images/9781410388308_00084_jpg.rf.b18212a3bd41aed1326b385faf4f0bf9.jpg  \n",
      " extracting: /content/drive/MyDrive/crop/yolov7/train/images/98349541-bent-palm-tree-dead-palm-dry-dead-palm-leaves-with-blue-vibrant-sky_jpg.rf.0aed86a536a9b95559722005f9f4a7fa.jpg  \n",
      " extracting: /content/drive/MyDrive/crop/yolov7/train/images/9_jpg.rf.c065bef3be1adccfc89253b64eb1b6eb.jpg  \n",
      " extracting: /content/drive/MyDrive/crop/yolov7/train/images/Bagasse_jpg.rf.8ff56463a271f27241fb1446d0622d7c.jpg  \n",
      " extracting: /content/drive/MyDrive/crop/yolov7/train/images/Coco-Husk_Blog_WW_1300x625_jpg.rf.95b3eebaab3ef37e8942f4342e97a507.jpg  \n",
      " extracting: /content/drive/MyDrive/crop/yolov7/train/images/Document_jpg.rf.e5fc5a08965759383b5776606608f797.jpg  \n",
      " extracting: /content/drive/MyDrive/crop/yolov7/train/images/FAO-officials-condemn-unnecessary-loss-and-waste-of-good-food_jpg.rf.af439f9ad6df88481135a2a5cfe947ff.jpg  \n",
      " extracting: /content/drive/MyDrive/crop/yolov7/train/images/Food-waste-EPA_jpg.rf.800065a6ba4927e4d9a85281131ca67f.jpg  \n",
      " extracting: /content/drive/MyDrive/crop/yolov7/train/images/Food-waste-pic1_jpg.rf.c9a53e80e60448a388a1f9fa15b67c41.jpg  \n",
      " extracting: /content/drive/MyDrive/crop/yolov7/train/images/IICT-s-initiative-to-turn-dry-leaves-into-soil-conditioner_jpg.rf.1e52d0c4734ae3bc5fc29f95d08671dd.jpg  \n",
      " extracting: /content/drive/MyDrive/crop/yolov7/train/images/Jessica-Toth-Image-1-Grocer_s-produce-dumpster-of-food-for-disposal-Solana_jpg.rf.3b22fb17aaaf455fcc3c3c2f45f6db3d.jpg  \n",
      " extracting: /content/drive/MyDrive/crop/yolov7/train/images/Madagascar_Deforestation_jpg.rf.ace26042866d614390b55400f50c7d76.jpg  \n",
      " extracting: /content/drive/MyDrive/crop/yolov7/train/images/NJ_Food-Waste_jpg.rf.15fb193732f5603ba8aaf9124e6cb12e.jpg  \n",
      " extracting: /content/drive/MyDrive/crop/yolov7/train/images/Net-Zero-Waste-Abbotsford-Air-Filter_jpg.rf.55295e03c81ae6a979ab30342739cf19.jpg  \n",
      " extracting: /content/drive/MyDrive/crop/yolov7/train/images/Oil-Palm-Tree-Wastes-5-Uses-of-the-palm-pressed-fiber_jpg.rf.b75085b62f48b0d294e3cdcd31ecdcca.jpg  \n",
      " extracting: /content/drive/MyDrive/crop/yolov7/train/images/OilPalmFiber027-1-_jpg.rf.5c44b1e172b4e3837b95ed5b30fd5411.jpg  \n",
      " extracting: /content/drive/MyDrive/crop/yolov7/train/images/Organic-waste-recycled-scaled-1-1-_jpeg.rf.64fad0d72a29c5f3d7a041bd462e4de3.jpg  \n",
      " extracting: /content/drive/MyDrive/crop/yolov7/train/images/Palm-Tree-Waste-4-1_jpg.rf.e01aa3109ba4acb7905b0255c5ae9f0e.jpg  \n",
      " extracting: /content/drive/MyDrive/crop/yolov7/train/images/Tree-Farm-Licence-44-wood-waste_TJ_Watt_jpg.rf.1d7d5ef2a3c0baea2dc4817bfa38cdac.jpg  \n",
      " extracting: /content/drive/MyDrive/crop/yolov7/train/images/WHEAT-STRAW-_jpg.rf.211077b28bc6ed93778a9331b048bd8d.jpg  \n",
      " extracting: /content/drive/MyDrive/crop/yolov7/train/images/a_jpg.rf.5fdbb612a74fdc04568a1cf28a3e1794.jpg  \n",
      " extracting: /content/drive/MyDrive/crop/yolov7/train/images/agricultural-field-with-corn-photo_jpg.rf.5b89f4181237d1ff60b4a63564794dd9.jpg  \n",
      " extracting: /content/drive/MyDrive/crop/yolov7/train/images/b_jpg.rf.64a5e8d6bb4ef6dac24e5862d47df748.jpg  \n",
      " extracting: /content/drive/MyDrive/crop/yolov7/train/images/bagasse-300x207_jpeg.rf.2758ee2a30b823d7e4cb0520eb2fc804.jpg  \n",
      " extracting: /content/drive/MyDrive/crop/yolov7/train/images/bagasses_jpg.rf.ecbe46b7373b9a36ad2dd7369fd67b44.jpg  \n",
      " extracting: /content/drive/MyDrive/crop/yolov7/train/images/c_jpg.rf.c8924013dc21e8671148fe905e4dddb4.jpg  \n",
      " extracting: /content/drive/MyDrive/crop/yolov7/train/images/christmas-tree-old-1024x683_jpeg.rf.aa0f015afdf2b580b381ac010e8f1a64.jpg  \n",
      " extracting: /content/drive/MyDrive/crop/yolov7/train/images/close-up-of-dry-banana-leaves-or-banana-plant-free-photo_jpg.rf.8dd2320fb2e9621a29fca497a472b33c.jpg  \n",
      " extracting: /content/drive/MyDrive/crop/yolov7/train/images/closeup-palm-trunk-steam-texture-natural-tropical-background_97889-441_jpg.rf.9fccd06d4678bf597222e39afd63de00.jpg  \n",
      " extracting: /content/drive/MyDrive/crop/yolov7/train/images/coconut-shell-waste-1662969020-6534537_jpeg.rf.ed179371af19b1a4407cdd59eee5411f.jpg  \n",
      " extracting: /content/drive/MyDrive/crop/yolov7/train/images/compost-heap-irc-1024x683_jpg.rf.34f6259bebe4c4e6b2a9e8e449eed3d8.jpg  \n",
      " extracting: /content/drive/MyDrive/crop/yolov7/train/images/compost-layers-1024x681_jpg.rf.037e360dd0027308b6804ecccc88290e.jpg  \n",
      " extracting: /content/drive/MyDrive/crop/yolov7/train/images/compost_intro_image3259135916375310554_jpg.rf.a646a528bf2be4b6f760bd6c2846a381.jpg  \n",
      " extracting: /content/drive/MyDrive/crop/yolov7/train/images/composting-waste_jpg.rf.74a72fc0be3262503b5d769d8f0833a2.jpg  \n",
      " extracting: /content/drive/MyDrive/crop/yolov7/train/images/cornwall-r-transformando-o-residuo-do-milho-em-um-material-inovador-de-base-biologica_6_jpg.rf.dcb26e78cc5973185b36ba5763e0b38f.jpg  \n",
      " extracting: /content/drive/MyDrive/crop/yolov7/train/images/depositphotos_466922904-stock-photo-vertical-shot-broken-tree-barks_jpg.rf.04d644d9bbb3e4bcf050b1cc7d4dd19b.jpg  \n",
      " extracting: /content/drive/MyDrive/crop/yolov7/train/images/depositphotos_697441596-stock-photo-tree-sections-plant-waste-wood_jpg.rf.d47986bed6f37154b4dc928b9d7fdcfd.jpg  \n",
      " extracting: /content/drive/MyDrive/crop/yolov7/train/images/depositphotos_83363910-stock-photo-tree-branches_jpg.rf.3eb3c844893e3ec477f0b9e3e2152d93.jpg  \n",
      " extracting: /content/drive/MyDrive/crop/yolov7/train/images/discarded-carrots-left-left-in-field-after-harvest-FF0CYK_jpg.rf.4ff772940470d3267e6b01523c6b312e.jpg  \n",
      " extracting: /content/drive/MyDrive/crop/yolov7/train/images/download-3-_jpg.rf.8bcb852fad5f923ffb9586f500a111cf.jpg  \n",
      " extracting: /content/drive/MyDrive/crop/yolov7/train/images/dwqq9mr7p6281_jpg.rf.fe5d61b058ed48fbf16ed21313640742.jpg  \n",
      " extracting: /content/drive/MyDrive/crop/yolov7/train/images/empty-fruit-bunch_jpg.rf.f0c7089be5838e6a0a0a79aca4fd3eae.jpg  \n",
      " extracting: /content/drive/MyDrive/crop/yolov7/train/images/emptyfruitbunch_jpg.rf.90a6d72a8add1b36391405094cbd91ca.jpg  \n",
      " extracting: /content/drive/MyDrive/crop/yolov7/train/images/engineered-yeast-turn-agricultural-waste-into-biofuels-and-more-376484-640x360_jpg.rf.d7d1f75fd4a7a19bc8d8f90fb823c58d.jpg  \n",
      " extracting: /content/drive/MyDrive/crop/yolov7/train/images/everything-you-need-to-know-about-composting-garden-getty-0523-a926f282527a47d0a76ffd792247ec9a_jpg.rf.78ad5bf13ba56a6d8554345e86d64443.jpg  \n",
      " extracting: /content/drive/MyDrive/crop/yolov7/train/images/f46837222f3be6274635dd457d4184c9_jpg.rf.5bb243692a76c639809355c410e0dda8.jpg  \n",
      " extracting: /content/drive/MyDrive/crop/yolov7/train/images/f_jpg.rf.e8b3082411050c0b3a8221ee933c9b88.jpg  \n",
      " extracting: /content/drive/MyDrive/crop/yolov7/train/images/facilities_24_jpg.rf.9114ba43ce99ef73c5889fdf8e25f68c.jpg  \n",
      " extracting: /content/drive/MyDrive/crop/yolov7/train/images/food_scraps_pile_jpg.rf.31e3208575764056f906eafd75e6d113.jpg  \n",
      " extracting: /content/drive/MyDrive/crop/yolov7/train/images/food_waste_on_ground_jpg.rf.a92f7891f29af24e9382b08646ba3a51.jpg  \n",
      " extracting: /content/drive/MyDrive/crop/yolov7/train/images/g_jpg.rf.9847b0293a412d4fab03286b538a15f2.jpg  \n",
      " extracting: /content/drive/MyDrive/crop/yolov7/train/images/garden-waste-in-the-backyard_jpg.rf.7073c5300706b3f381a3d5b988925c16.jpg  \n",
      " extracting: /content/drive/MyDrive/crop/yolov7/train/images/gehakseld_tarwestro_groot_jpg.rf.30bec30569209208d48364a91aadfc26.jpg  \n",
      " extracting: /content/drive/MyDrive/crop/yolov7/train/images/h5pn3iq79t031_jpg.rf.76f63a7cd706341e3f55ebda9f251d96.jpg  \n",
      " extracting: /content/drive/MyDrive/crop/yolov7/train/images/h_jpg.rf.e3bd30b9b44512f9f422accf3a594f39.jpg  \n",
      " extracting: /content/drive/MyDrive/crop/yolov7/train/images/holihavmj327z36242d3b0349c9_jpg.rf.d897e8716d69bcb2482512927457565e.jpg  \n",
      " extracting: /content/drive/MyDrive/crop/yolov7/train/images/image-35469-green-palm-farms-saudi-arabia-beauty-palm-trees-beautiful-search_large_jpg.rf.f57bf90c2918cc93b20e8f340a84c208.jpg  \n",
      " extracting: /content/drive/MyDrive/crop/yolov7/train/images/image_750x_5e5a5b984db0b_jpg.rf.73337884dd0673ac1732ca6fc966de8e.jpg  \n",
      " extracting: /content/drive/MyDrive/crop/yolov7/train/images/image_750x_5eac1e63bfe29_jpg.rf.bd35ebf6dee9cabcfcf7890cd2162e24.jpg  \n",
      " extracting: /content/drive/MyDrive/crop/yolov7/train/images/images-1-_jpg.rf.21b17cfeeb56a655bca99a73a1fbfd1a.jpg  \n",
      " extracting: /content/drive/MyDrive/crop/yolov7/train/images/images-3-_jpg.rf.1dcc327d7484895ff6c5aceb27a7b9f9.jpg  \n",
      " extracting: /content/drive/MyDrive/crop/yolov7/train/images/images-4-_jpg.rf.7584370366ff9b933ca37cb1e75b6d4a.jpg  \n",
      " extracting: /content/drive/MyDrive/crop/yolov7/train/images/images-5-_jpg.rf.f4a6a50660a5fefeb1032df4f4b07b67.jpg  \n",
      " extracting: /content/drive/MyDrive/crop/yolov7/train/images/images-6-_jpg.rf.9bbbb84b1bb1e37ec17ae5461a1acd58.jpg  \n",
      " extracting: /content/drive/MyDrive/crop/yolov7/train/images/images-8-_jpg.rf.fcfaadee939bd5ef04780a4ba2258758.jpg  \n",
      " extracting: /content/drive/MyDrive/crop/yolov7/train/images/istockphoto-1221147234-612x612_jpg.rf.f9f53498736109e860cdd598b6618427.jpg  \n",
      " extracting: /content/drive/MyDrive/crop/yolov7/train/images/istockphoto-1302362708-612x612_jpg.rf.caf5b50a746bded695b27016dbbbfa36.jpg  \n",
      " extracting: /content/drive/MyDrive/crop/yolov7/train/images/istockphoto-1312046155-612x612_jpg.rf.dc59adb5649c4d47ab2ac008326f9e96.jpg  \n",
      " extracting: /content/drive/MyDrive/crop/yolov7/train/images/istockphoto-1313936811-612x612_jpg.rf.b3c3098b27bb6d0ed322e1dfbd578f3f.jpg  \n",
      " extracting: /content/drive/MyDrive/crop/yolov7/train/images/istockphoto-1351818643-170667a_jpg.rf.0fb3fbaac20ee35d4fd253e3289dee84.jpg  \n",
      " extracting: /content/drive/MyDrive/crop/yolov7/train/images/istockphoto-1424540849-612x612_jpg.rf.7084c851c6a6472e5a4f60696c9007fe.jpg  \n",
      " extracting: /content/drive/MyDrive/crop/yolov7/train/images/istockphoto-1425232271-612x612_jpg.rf.19e4a13e6a03a4c7cf300f43d981018e.jpg  \n",
      " extracting: /content/drive/MyDrive/crop/yolov7/train/images/istockphoto-1492025718-612x612_jpg.rf.278734c8ca21d77e8f3e8e0bca2c42e8.jpg  \n",
      " extracting: /content/drive/MyDrive/crop/yolov7/train/images/istockphoto-504305466-612x612_jpg.rf.a860981dd4fa7f2546c0748a8f2312da.jpg  \n",
      " extracting: /content/drive/MyDrive/crop/yolov7/train/images/istockphoto-544796392-612x612_jpg.rf.0d87ccff7f89f234467b129137f85c71.jpg  \n",
      " extracting: /content/drive/MyDrive/crop/yolov7/train/images/istockphoto-868730660-612x612_jpg.rf.81da1cec3b82af242cc581138adbcfd4.jpg  \n",
      " extracting: /content/drive/MyDrive/crop/yolov7/train/images/j_jpg.rf.4542dbe07a86df5bb85e6ea021896582.jpg  \n",
      " extracting: /content/drive/MyDrive/crop/yolov7/train/images/kucha-derevyannyh-palok-ili-vetok-0003231484-preview_jpg.rf.d3a36d1ef34db6bab6dea3e2eb2f3a90.jpg  \n",
      " extracting: /content/drive/MyDrive/crop/yolov7/train/images/l_jpg.rf.c26578fc091bb55712a53f844e678d25.jpg  \n",
      " extracting: /content/drive/MyDrive/crop/yolov7/train/images/limbah-batang-sawit_jpg.rf.d6a68fc8f9e511f306e3c331753c3078.jpg  \n",
      " extracting: /content/drive/MyDrive/crop/yolov7/train/images/m_jpg.rf.36da2b4cfc3943dc9fe20c4a578607b1.jpg  \n",
      " extracting: /content/drive/MyDrive/crop/yolov7/train/images/main-qimg-c605e14c95cf2cdf378a8c651e016f1a-pjlq_jpg.rf.4181850420e8b99336b5f3e463bce047.jpg  \n",
      " extracting: /content/drive/MyDrive/crop/yolov7/train/images/main-qimg-ece593a68ae3e8daf0af2c7e3e53d8cd-lq_jpg.rf.247760cddd2e6b940de7268af388971e.jpg  \n",
      " extracting: /content/drive/MyDrive/crop/yolov7/train/images/maize-waste_jpg.rf.3e34fa8fc51a43420d12e56d914465bd.jpg  \n",
      " extracting: /content/drive/MyDrive/crop/yolov7/train/images/maxresdefault_jpg.rf.65f35c7a2854cd2e331dce0d564e1204.jpg  \n",
      " extracting: /content/drive/MyDrive/crop/yolov7/train/images/model2bio-supports-reuse-of-food-industry-waste-streams-2000x1200_jpg.rf.c99a002fc620c73a563d5e654786a513.jpg  \n",
      " extracting: /content/drive/MyDrive/crop/yolov7/train/images/mqdefault_jpg.rf.2165bee78e71c7c58c81e833aefbf3c7.jpg  \n",
      " extracting: /content/drive/MyDrive/crop/yolov7/train/images/n_jpg.rf.7b95937f289a002567c713d0eb35ea77.jpg  \n",
      " extracting: /content/drive/MyDrive/crop/yolov7/train/images/o_jpg.rf.21164f4190a7d851a2b603c4df43a01f.jpg  \n",
      " extracting: /content/drive/MyDrive/crop/yolov7/train/images/oilpalm01_jpg.rf.55ddb281d5a86c368816b304cb9a1e25.jpg  \n",
      " extracting: /content/drive/MyDrive/crop/yolov7/train/images/ompost_jpg.rf.280238f0c890364a7a82992196d5c73f.jpg  \n",
      " extracting: /content/drive/MyDrive/crop/yolov7/train/images/organic-fertilizers-rife-with-microplastics-study-t_jpg.rf.fd6659a73092b8e0950f454b1a7c1c3e.jpg  \n",
      " extracting: /content/drive/MyDrive/crop/yolov7/train/images/orgfarm_recycling-of-farm-waste_clip_image002_jpg.rf.cc7253c5640c3f06fa238d439ea1e249.jpg  \n",
      " extracting: /content/drive/MyDrive/crop/yolov7/train/images/original_jpg.rf.f8607f2790636f0f3f32de9909699340.jpg  \n",
      " extracting: /content/drive/MyDrive/crop/yolov7/train/images/p_jpg.rf.ffba0f2a8b5e66b755719c04c020bd17.jpg  \n",
      " extracting: /content/drive/MyDrive/crop/yolov7/train/images/palm-fronds-1-800_jpg.rf.2fd830cb33b3ee234abc42f69dd1f8a8.jpg  \n",
      " extracting: /content/drive/MyDrive/crop/yolov7/train/images/palm-tree-fronds-tim-hester_jpg.rf.58c9f7879e0a73556df47db3e6d38a15.jpg  \n",
      " extracting: /content/drive/MyDrive/crop/yolov7/train/images/pasted-ivkvhjkvhjkhjkmage-0_jpg.rf.839ee3286f0a51ade24b46c4f7c72a7c.jpg  \n",
      " extracting: /content/drive/MyDrive/crop/yolov7/train/images/pexels-yan-krukov-5479034_jpg.rf.17ce9083fe893208d1e4811bdd73cbfc.jpg  \n",
      " extracting: /content/drive/MyDrive/crop/yolov7/train/images/pngtree-compost-heap-outside-with-vegetables-and-seeds-picture-image_2791222_jpg.rf.45d6ef58217c608cef2c65385e7f724c.jpg  \n",
      " extracting: /content/drive/MyDrive/crop/yolov7/train/images/principal_jpeg.rf.639dd43cb644847cadd9d7e117c39674.jpg  \n",
      " extracting: /content/drive/MyDrive/crop/yolov7/train/images/q_jpg.rf.69168b18d5d9c87de017dc7a3920154d.jpg  \n",
      " extracting: /content/drive/MyDrive/crop/yolov7/train/images/r_jpg.rf.85a3033bb442726bd38fb8ab8f390591.jpg  \n",
      " extracting: /content/drive/MyDrive/crop/yolov7/train/images/reducing-food-waste-1_jpg.rf.651ca166bd5c82d07fa59ed6337360f6.jpg  \n",
      " extracting: /content/drive/MyDrive/crop/yolov7/train/images/s_jpg.rf.3c8959b988e805a75f78719752244aa9.jpg  \n",
      " extracting: /content/drive/MyDrive/crop/yolov7/train/images/sdbej0h_Thumb_thumb_jpg.rf.ecef86e46caede374fdf6bff43a84aee.jpg  \n",
      " extracting: /content/drive/MyDrive/crop/yolov7/train/images/shutterstock_1392829997_resized_jpg.rf.8046f1642f5b19bc16d68a05e38be607.jpg  \n",
      " extracting: /content/drive/MyDrive/crop/yolov7/train/images/shutterstock_2195383459_jpg.rf.5de9891b6ddf8b96bde34d29719e6939.jpg  \n",
      " extracting: /content/drive/MyDrive/crop/yolov7/train/images/stock-photo-a-fallen-dry-tree-the-branches-stick-out-different-sides-1739808293_jpg.rf.2f4af5a2f1fe1a8b28932f491c420592.jpg  \n",
      " extracting: /content/drive/MyDrive/crop/yolov7/train/images/stopfoodwasteday_jpeg.rf.33b8797f633d756393929091afbf4bbb.jpg  \n",
      " extracting: /content/drive/MyDrive/crop/yolov7/train/images/stubblefield2_jpg.rf.8bbc90ac5f402a3c24cb86df7578f8fe.jpg  \n",
      " extracting: /content/drive/MyDrive/crop/yolov7/train/images/sugarcane-bagasse-1616574825-5765719_jpeg.rf.33c2ec20bb5cdcbbe61ddd14bf4e21c6.jpg  \n",
      " extracting: /content/drive/MyDrive/crop/yolov7/train/images/sugarcane-waste_20180255500_jpg.rf.f8f77d363a8fe9b30842519436d7a5db.jpg  \n",
      " extracting: /content/drive/MyDrive/crop/yolov7/train/images/sugarcane_bagasse_cuba_jpg.rf.c8aefa384b0dfbede3517a0d3fea7fe3.jpg  \n",
      " extracting: /content/drive/MyDrive/crop/yolov7/train/images/t_jpg.rf.b6430d2e91ac8afff3efdb75694abcf3.jpg  \n",
      " extracting: /content/drive/MyDrive/crop/yolov7/train/images/trash-bell-138_jpg.rf.6e879b970b38aac9da5ec886c12eb436.jpg  \n",
      " extracting: /content/drive/MyDrive/crop/yolov7/train/images/u_jpg.rf.eab0ca90214bb4ad72b4f64c0415da6e.jpg  \n",
      " extracting: /content/drive/MyDrive/crop/yolov7/train/images/v_jpg.rf.7f7f55dbb2eb01827aa7db77e5aabd60.jpg  \n",
      " extracting: /content/drive/MyDrive/crop/yolov7/train/images/vam_output_16-JPG-1ed43de33dc07b74_jpeg.rf.130b76d51fda4d2804d784299aa04ce3.jpg  \n",
      " extracting: /content/drive/MyDrive/crop/yolov7/train/images/w_jpg.rf.78a2f6670ad92a7ff442e469b811aa33.jpg  \n",
      " extracting: /content/drive/MyDrive/crop/yolov7/train/images/waste-left-after-harvest-and-some-corn-cobs-E5BW8M_jpg.rf.7a37d4d8ff2b7d7ab72d19089d77c5b3.jpg  \n",
      " extracting: /content/drive/MyDrive/crop/yolov7/train/images/wheat-straw-1558932302-4925459_jpeg.rf.040941c34bd8278fbfd5292b7a49a61f.jpg  \n",
      " extracting: /content/drive/MyDrive/crop/yolov7/train/images/wood_materials_jpg.rf.468fad69665f4349122677efb0465a6b.jpg  \n",
      " extracting: /content/drive/MyDrive/crop/yolov7/train/images/y_jpg.rf.36e72a05a248ec02d44303c5e3c5d086.jpg  \n",
      " extracting: /content/drive/MyDrive/crop/yolov7/train/images/yard-cleanup-and-waste-removal-service-company-orange-county-ny_jpg.rf.9588005f2b10b7f3b6ba8c5a9e80c6e4.jpg  \n",
      " extracting: /content/drive/MyDrive/crop/yolov7/train/images/z_jpg.rf.9737657dac6a5383f16876fe3c4d093c.jpg  \n",
      "   creating: /content/drive/MyDrive/crop/yolov7/train/labels/\n",
      " extracting: /content/drive/MyDrive/crop/yolov7/train/labels/00007_jpg.rf.d76cc7ce4000efc627611eb2d71c1265.txt  \n",
      " extracting: /content/drive/MyDrive/crop/yolov7/train/labels/00016_jpg.rf.c491af2178640bf3de455f243631424b.txt  \n",
      " extracting: /content/drive/MyDrive/crop/yolov7/train/labels/00017_jpg.rf.ea8e9aa8a56afe315785707023c875e9.txt  \n",
      " extracting: /content/drive/MyDrive/crop/yolov7/train/labels/00018_jpg.rf.f48aadd64e01e5691acacc00d2b4e18c.txt  \n",
      " extracting: /content/drive/MyDrive/crop/yolov7/train/labels/00022_jpg.rf.757e1db6fcf965af3ce548eb44cc3194.txt  \n",
      " extracting: /content/drive/MyDrive/crop/yolov7/train/labels/00024_jpg.rf.3ceed35e0dd6ed26a6bf4f529ffec2ab.txt  \n",
      " extracting: /content/drive/MyDrive/crop/yolov7/train/labels/00029_jpg.rf.76bcc6dca11c3406e8da3edfcb99f6b9.txt  \n",
      " extracting: /content/drive/MyDrive/crop/yolov7/train/labels/00030_jpg.rf.bc60cf6ca9601cf873994b96fa675ed1.txt  \n",
      " extracting: /content/drive/MyDrive/crop/yolov7/train/labels/00032_jpg.rf.d1f1d158cfcf3a138b519294576a62cb.txt  \n",
      " extracting: /content/drive/MyDrive/crop/yolov7/train/labels/00035_jpg.rf.d3f3511c334272ece8cf50126f390ddc.txt  \n",
      " extracting: /content/drive/MyDrive/crop/yolov7/train/labels/00038_jpg.rf.5c4f4d02d54ef96112f0f62a669b6e21.txt  \n",
      " extracting: /content/drive/MyDrive/crop/yolov7/train/labels/00039_jpg.rf.e3286f9b22fbd2a1aab5248469bb70fc.txt  \n",
      " extracting: /content/drive/MyDrive/crop/yolov7/train/labels/00042_jpg.rf.d9a8532993d9bc8fe43d519fc42c9c3c.txt  \n",
      " extracting: /content/drive/MyDrive/crop/yolov7/train/labels/00045_jpg.rf.51a7d60ffc93a716b566d8ed4b56d8d5.txt  \n",
      " extracting: /content/drive/MyDrive/crop/yolov7/train/labels/00048_jpg.rf.217cad0f39fd0ce81da44d408c9a0101.txt  \n",
      " extracting: /content/drive/MyDrive/crop/yolov7/train/labels/00049_jpg.rf.ffc8ac0995bfad806e7236073190a3e1.txt  \n",
      " extracting: /content/drive/MyDrive/crop/yolov7/train/labels/00052_jpg.rf.46cb0ffb38c7fd1e6d2f04c6b25f91cf.txt  \n",
      " extracting: /content/drive/MyDrive/crop/yolov7/train/labels/00056_jpg.rf.73796e2d699e4fca9858443a4d188b53.txt  \n",
      " extracting: /content/drive/MyDrive/crop/yolov7/train/labels/00060_jpg.rf.060f90966f753b2a07214169a3398655.txt  \n",
      " extracting: /content/drive/MyDrive/crop/yolov7/train/labels/00078_jpg.rf.f5b53602f8205cc62a4458199bc68f7b.txt  \n",
      " extracting: /content/drive/MyDrive/crop/yolov7/train/labels/00087_jpg.rf.38ed3c8ac8ff648ffbc2b1d0d5f3e1ba.txt  \n",
      " extracting: /content/drive/MyDrive/crop/yolov7/train/labels/00088_jpg.rf.69c7b5a8f00c4ac4cfc86bf606e66714.txt  \n",
      " extracting: /content/drive/MyDrive/crop/yolov7/train/labels/00093_jpg.rf.cb496e8cb050f9a64324618bb14ff2dd.txt  \n",
      " extracting: /content/drive/MyDrive/crop/yolov7/train/labels/00095_jpg.rf.f82ff597688c62dadd0fa086693c98fe.txt  \n",
      " extracting: /content/drive/MyDrive/crop/yolov7/train/labels/00096_jpg.rf.7932b9d2ef7eec2659a531b5b56306e5.txt  \n",
      " extracting: /content/drive/MyDrive/crop/yolov7/train/labels/00098_jpg.rf.871ec33ed4cab48d682bd1088100a60e.txt  \n",
      " extracting: /content/drive/MyDrive/crop/yolov7/train/labels/00107_jpg.rf.4c6018aa08ced90ebe3abf668339df36.txt  \n",
      " extracting: /content/drive/MyDrive/crop/yolov7/train/labels/00114_jpg.rf.8d35eebcc174d0f11ec1912f24ee72a7.txt  \n",
      " extracting: /content/drive/MyDrive/crop/yolov7/train/labels/00117_jpg.rf.fe01ad80144c4185ec1bd27dab7252c5.txt  \n",
      " extracting: /content/drive/MyDrive/crop/yolov7/train/labels/0011f8d9-614_jpg.rf.8912e154b5ce56d962602c169ba03ba1.txt  \n",
      " extracting: /content/drive/MyDrive/crop/yolov7/train/labels/00122_jpg.rf.40098e533547992b917e103e158ad8d8.txt  \n",
      " extracting: /content/drive/MyDrive/crop/yolov7/train/labels/00125_jpg.rf.1881b921954b773a5bedd69d916f3812.txt  \n",
      " extracting: /content/drive/MyDrive/crop/yolov7/train/labels/00128_jpg.rf.c9f3636094f21993247e65b5edbe5c19.txt  \n",
      " extracting: /content/drive/MyDrive/crop/yolov7/train/labels/00136_jpg.rf.efc9a8a94dd15796e5ce402cec6f90cd.txt  \n",
      " extracting: /content/drive/MyDrive/crop/yolov7/train/labels/00141_jpg.rf.0ea0b8805540ea1a305842bdf39ec82d.txt  \n",
      " extracting: /content/drive/MyDrive/crop/yolov7/train/labels/00142_jpg.rf.df25d40c00dc00adf35a12263cdc9834.txt  \n",
      " extracting: /content/drive/MyDrive/crop/yolov7/train/labels/00147_jpg.rf.d1a4361e7074368082a453e7b6eb2542.txt  \n",
      " extracting: /content/drive/MyDrive/crop/yolov7/train/labels/00150_jpg.rf.e3e7b0d9d1d8172eaac363061e98a813.txt  \n",
      " extracting: /content/drive/MyDrive/crop/yolov7/train/labels/00160_jpg.rf.bc82795474847c531e127d77c19572e5.txt  \n",
      " extracting: /content/drive/MyDrive/crop/yolov7/train/labels/00166_jpg.rf.d2d7710ff83b986a165cea03ccd13236.txt  \n",
      " extracting: /content/drive/MyDrive/crop/yolov7/train/labels/00177_jpg.rf.8255f3982314eea8736e2635b9612c30.txt  \n",
      " extracting: /content/drive/MyDrive/crop/yolov7/train/labels/00189_jpg.rf.e8e4cb4ebce5636521dc01ff4b328e40.txt  \n",
      " extracting: /content/drive/MyDrive/crop/yolov7/train/labels/00190_jpg.rf.c7dbf4bd368e1381a48fdf41219407a9.txt  \n",
      " extracting: /content/drive/MyDrive/crop/yolov7/train/labels/00197_jpg.rf.9437cd7c0b0765e8a63d3b0f44c4a67c.txt  \n",
      " extracting: /content/drive/MyDrive/crop/yolov7/train/labels/00200_jpg.rf.c44d166629944e40c05ab3af6b36a705.txt  \n",
      " extracting: /content/drive/MyDrive/crop/yolov7/train/labels/00208_jpg.rf.8e52c370895fececaf0c4cb129ee2c09.txt  \n",
      " extracting: /content/drive/MyDrive/crop/yolov7/train/labels/00209_jpg.rf.913d46b226d0aab231603f39b3f86518.txt  \n",
      " extracting: /content/drive/MyDrive/crop/yolov7/train/labels/00211_jpg.rf.7e0b7bc8ad8e6f709e82763bdbe99ceb.txt  \n",
      " extracting: /content/drive/MyDrive/crop/yolov7/train/labels/00217_jpg.rf.ba226766ea7efe7067b151903f4c0023.txt  \n",
      " extracting: /content/drive/MyDrive/crop/yolov7/train/labels/00230_jpg.rf.1f34197b93fb5ccd2c5b49f4bc8fda3a.txt  \n",
      " extracting: /content/drive/MyDrive/crop/yolov7/train/labels/00237_jpg.rf.8151b4a678d2d37adb5033283b43c0f8.txt  \n",
      " extracting: /content/drive/MyDrive/crop/yolov7/train/labels/00249_jpg.rf.d420cdd4bd5e53abb6dcb0a0dd435447.txt  \n",
      " extracting: /content/drive/MyDrive/crop/yolov7/train/labels/00251_jpg.rf.e5a6e29550b27cd66338ec16795bc646.txt  \n",
      " extracting: /content/drive/MyDrive/crop/yolov7/train/labels/00284_jpg.rf.7ed236fab8e4524d3fd183852b026ac8.txt  \n",
      " extracting: /content/drive/MyDrive/crop/yolov7/train/labels/00285_jpg.rf.7b0c9858b8bcc81e32b75054af1741ef.txt  \n",
      " extracting: /content/drive/MyDrive/crop/yolov7/train/labels/00286_jpg.rf.b732a616472fbf108dd9661a8b315903.txt  \n",
      " extracting: /content/drive/MyDrive/crop/yolov7/train/labels/00308_jpg.rf.414e26d72d2747b40d9e4b6c15b55c53.txt  \n",
      " extracting: /content/drive/MyDrive/crop/yolov7/train/labels/00310_jpg.rf.0d9783b53b4e1e9b7282dc6c04d29713.txt  \n",
      " extracting: /content/drive/MyDrive/crop/yolov7/train/labels/00322_jpg.rf.0dd7c6e5f7dc9f8f84c42656fd336fc6.txt  \n",
      " extracting: /content/drive/MyDrive/crop/yolov7/train/labels/00333_jpg.rf.d1eb02ed8230afa79f6763bce31d676c.txt  \n",
      " extracting: /content/drive/MyDrive/crop/yolov7/train/labels/00334_jpg.rf.4f764a2f7024fff1a1650b87f75f8fcc.txt  \n",
      " extracting: /content/drive/MyDrive/crop/yolov7/train/labels/00335_jpg.rf.892dc843542909e11cdffd126f93599a.txt  \n",
      " extracting: /content/drive/MyDrive/crop/yolov7/train/labels/00358_jpg.rf.5627c531573a19c7594aa2772dd8751e.txt  \n",
      " extracting: /content/drive/MyDrive/crop/yolov7/train/labels/00361_jpg.rf.0b42430c8963e01a38aa49221a824032.txt  \n",
      " extracting: /content/drive/MyDrive/crop/yolov7/train/labels/00373_jpg.rf.1899ffe973e15649b3019be850c0e444.txt  \n",
      " extracting: /content/drive/MyDrive/crop/yolov7/train/labels/00384_jpg.rf.f6ceeea4a213b4f2a0094d5099cfe080.txt  \n",
      " extracting: /content/drive/MyDrive/crop/yolov7/train/labels/00388_jpg.rf.88d2ed8d336fea4bfd884d01996044a8.txt  \n",
      " extracting: /content/drive/MyDrive/crop/yolov7/train/labels/00394_jpg.rf.34fad1a60c5c03a4b0129b73b540d35e.txt  \n",
      " extracting: /content/drive/MyDrive/crop/yolov7/train/labels/00395_jpg.rf.fee91f02f61a6e3904a4d25f932ca41c.txt  \n",
      " extracting: /content/drive/MyDrive/crop/yolov7/train/labels/00405_jpg.rf.b575cc2a4be2022070560e7a5e3b5e20.txt  \n",
      " extracting: /content/drive/MyDrive/crop/yolov7/train/labels/00407_jpg.rf.9f4e52a08f0bde325c17e33360392b9a.txt  \n",
      " extracting: /content/drive/MyDrive/crop/yolov7/train/labels/00410_jpg.rf.d01bd2d12707a21fd83808240e56ddfb.txt  \n",
      " extracting: /content/drive/MyDrive/crop/yolov7/train/labels/00416_jpg.rf.54f7abe3de1def426f2d4ea5541660f4.txt  \n",
      " extracting: /content/drive/MyDrive/crop/yolov7/train/labels/00418_jpg.rf.fe5cd4961cf9903dfe819c7afae553fc.txt  \n",
      " extracting: /content/drive/MyDrive/crop/yolov7/train/labels/00427_jpg.rf.e0131da62111d7674573034e568c5e93.txt  \n",
      " extracting: /content/drive/MyDrive/crop/yolov7/train/labels/00429_jpg.rf.928cd2868430074e3ed54032e4c29502.txt  \n",
      " extracting: /content/drive/MyDrive/crop/yolov7/train/labels/00448_jpg.rf.b765c6db2a5d565d3c3f76aae5b194ee.txt  \n",
      " extracting: /content/drive/MyDrive/crop/yolov7/train/labels/00453_jpg.rf.6dd5d25e2bca32601babbe20134aea6a.txt  \n",
      " extracting: /content/drive/MyDrive/crop/yolov7/train/labels/00454_jpg.rf.230c42716af958ea7756da6e40dd76e8.txt  \n",
      " extracting: /content/drive/MyDrive/crop/yolov7/train/labels/00459_jpg.rf.6d997099f36fe9bd74725e660a0a5ee0.txt  \n",
      " extracting: /content/drive/MyDrive/crop/yolov7/train/labels/00466_jpg.rf.ee9d7f435b9ef989d98495c10acbf23c.txt  \n",
      " extracting: /content/drive/MyDrive/crop/yolov7/train/labels/00474_jpg.rf.a9f1031ebe6692bee32053a685f2011f.txt  \n",
      " extracting: /content/drive/MyDrive/crop/yolov7/train/labels/00483_jpg.rf.733ee8178d27ac79e27d5dc197f99557.txt  \n",
      " extracting: /content/drive/MyDrive/crop/yolov7/train/labels/00493_jpg.rf.ed639ce4d568ad879448f5f7e023ff44.txt  \n",
      " extracting: /content/drive/MyDrive/crop/yolov7/train/labels/00496_jpg.rf.6405e00a3f2d53f563c08c3fce9ca53f.txt  \n",
      " extracting: /content/drive/MyDrive/crop/yolov7/train/labels/00498_jpg.rf.338423d9de8f9bece626b66721306a60.txt  \n",
      " extracting: /content/drive/MyDrive/crop/yolov7/train/labels/00502_jpg.rf.9de1717b6f2bb50bd6880948d8057c33.txt  \n",
      " extracting: /content/drive/MyDrive/crop/yolov7/train/labels/00515_jpg.rf.4b4834f083d4ad258e56762412f83b20.txt  \n",
      " extracting: /content/drive/MyDrive/crop/yolov7/train/labels/00521_jpg.rf.f0d35f986304af254281a2e8142dd002.txt  \n",
      " extracting: /content/drive/MyDrive/crop/yolov7/train/labels/00539_jpg.rf.932b6fbafd95ee384972a5c01bb0e79d.txt  \n",
      " extracting: /content/drive/MyDrive/crop/yolov7/train/labels/00565_jpg.rf.e308627a12c322d23271a029b31d2fce.txt  \n",
      " extracting: /content/drive/MyDrive/crop/yolov7/train/labels/00574_jpg.rf.d143db315c85a8941abf85cfc3245fb0.txt  \n",
      " extracting: /content/drive/MyDrive/crop/yolov7/train/labels/00581_jpg.rf.0a099d6446559f7e59e5a7d4b5ada678.txt  \n",
      " extracting: /content/drive/MyDrive/crop/yolov7/train/labels/00590_jpg.rf.a1c265fcd9f0f1c61149326340112657.txt  \n",
      " extracting: /content/drive/MyDrive/crop/yolov7/train/labels/00595_jpg.rf.ec1697f37a5d5905d083e491fd1cac7f.txt  \n",
      " extracting: /content/drive/MyDrive/crop/yolov7/train/labels/00598_jpg.rf.c34dc186cc644ff328a1377b43ad2e06.txt  \n",
      " extracting: /content/drive/MyDrive/crop/yolov7/train/labels/00608_jpg.rf.f1fe8d5dc28f53d5e80db31c50229e61.txt  \n",
      " extracting: /content/drive/MyDrive/crop/yolov7/train/labels/00648_jpg.rf.0a9fe287711da0ab98ef48bbe88a74e1.txt  \n",
      " extracting: /content/drive/MyDrive/crop/yolov7/train/labels/00662_jpg.rf.2512197e7fc29e2437d7c559de06e13d.txt  \n",
      " extracting: /content/drive/MyDrive/crop/yolov7/train/labels/00668_jpg.rf.9b6fa2e015207000b0ff62b1d666f7e7.txt  \n",
      " extracting: /content/drive/MyDrive/crop/yolov7/train/labels/00674_jpg.rf.7b8d9859b317bc2a1d5887166c5ff25d.txt  \n",
      " extracting: /content/drive/MyDrive/crop/yolov7/train/labels/00693_jpg.rf.f2a90c16b774a6e24b769a89ef9c26b7.txt  \n",
      " extracting: /content/drive/MyDrive/crop/yolov7/train/labels/00698_jpg.rf.bd49d20c16af4f0af44f90b1ea24f4fd.txt  \n",
      " extracting: /content/drive/MyDrive/crop/yolov7/train/labels/00699_jpg.rf.95f59e1d8449f5c7dc7378dcd822c8ea.txt  \n",
      " extracting: /content/drive/MyDrive/crop/yolov7/train/labels/00707_jpg.rf.c556b421650ef9ee5a2e7165e6cfbc71.txt  \n",
      " extracting: /content/drive/MyDrive/crop/yolov7/train/labels/00709_jpg.rf.45eade9882ddf1361d1c16e30b8a009d.txt  \n",
      " extracting: /content/drive/MyDrive/crop/yolov7/train/labels/00710_jpg.rf.6665283c302705eeae4893198365ffee.txt  \n",
      " extracting: /content/drive/MyDrive/crop/yolov7/train/labels/00711_jpg.rf.a6bb248bbeecf2dec51d3eacb10ebb83.txt  \n",
      " extracting: /content/drive/MyDrive/crop/yolov7/train/labels/00719_jpg.rf.cf1284a37b12234fd1ad075816b0a0ee.txt  \n",
      " extracting: /content/drive/MyDrive/crop/yolov7/train/labels/00721_jpg.rf.62f5e6f7470861c2b6bc9245b7516ebf.txt  \n",
      " extracting: /content/drive/MyDrive/crop/yolov7/train/labels/00722_jpg.rf.818871c1eccf84081fd46da68416cc8c.txt  \n",
      " extracting: /content/drive/MyDrive/crop/yolov7/train/labels/00723_jpg.rf.fbc699c598d62a818b5ef64593d01eff.txt  \n",
      " extracting: /content/drive/MyDrive/crop/yolov7/train/labels/00726_jpg.rf.cee287ec2c08db6689a0e5580bc7a8bd.txt  \n",
      " extracting: /content/drive/MyDrive/crop/yolov7/train/labels/00730_jpg.rf.d721d3f2637a6f7bd33384e9008f069e.txt  \n",
      " extracting: /content/drive/MyDrive/crop/yolov7/train/labels/00731_jpg.rf.07975ad5ced81a125f69e983ba898762.txt  \n",
      " extracting: /content/drive/MyDrive/crop/yolov7/train/labels/00732_jpg.rf.3c2bb1aceb68c633f790fb9fe9c1254a.txt  \n",
      " extracting: /content/drive/MyDrive/crop/yolov7/train/labels/00740_jpg.rf.15c5ac0e27ecfdae86500cfb3a451408.txt  \n",
      " extracting: /content/drive/MyDrive/crop/yolov7/train/labels/00742_jpg.rf.0b851b396eb1219249c0b15162b09c42.txt  \n",
      " extracting: /content/drive/MyDrive/crop/yolov7/train/labels/00746_jpg.rf.a2161d3081301b4a6d2748f62f629d7d.txt  \n",
      " extracting: /content/drive/MyDrive/crop/yolov7/train/labels/00747_jpg.rf.32d134e364d0f161a6f0cb92643eaec6.txt  \n",
      " extracting: /content/drive/MyDrive/crop/yolov7/train/labels/00748_jpg.rf.6a278900c61dc004fefe96ce60c9060f.txt  \n",
      " extracting: /content/drive/MyDrive/crop/yolov7/train/labels/00749_jpg.rf.7eb11172255a6c85923c0cf517c6fdfe.txt  \n",
      " extracting: /content/drive/MyDrive/crop/yolov7/train/labels/00765_jpg.rf.bb7c733a51b2e683bb3dc7db7d8b2f08.txt  \n",
      " extracting: /content/drive/MyDrive/crop/yolov7/train/labels/00767_jpg.rf.ef2a9662c250f51ba52fbd8237019446.txt  \n",
      " extracting: /content/drive/MyDrive/crop/yolov7/train/labels/00769_jpg.rf.1ed88e3e6cbe482c4d01d809f7a208bb.txt  \n",
      " extracting: /content/drive/MyDrive/crop/yolov7/train/labels/00774_jpg.rf.2ce6d39e8f2d51c3281572d1d0e8e150.txt  \n",
      " extracting: /content/drive/MyDrive/crop/yolov7/train/labels/00790_jpg.rf.4420440b75520d4d7bf8896e8c640303.txt  \n",
      " extracting: /content/drive/MyDrive/crop/yolov7/train/labels/00801_jpg.rf.2bc6ebc755ba41fef9ae599e5573cf86.txt  \n",
      " extracting: /content/drive/MyDrive/crop/yolov7/train/labels/00805_jpg.rf.6c6cbbfca09df17e3476d40498bf9fc1.txt  \n",
      " extracting: /content/drive/MyDrive/crop/yolov7/train/labels/00808_jpg.rf.b973d47d6912d9f3e69d85a118f69abe.txt  \n",
      " extracting: /content/drive/MyDrive/crop/yolov7/train/labels/00813_jpg.rf.7198a8aadb991231b7d4009ad4be27a6.txt  \n",
      " extracting: /content/drive/MyDrive/crop/yolov7/train/labels/00816_jpg.rf.3b0aceffd843752a50fdf18e0f77176d.txt  \n",
      " extracting: /content/drive/MyDrive/crop/yolov7/train/labels/00818_jpg.rf.7f99ddff8e4048c583c6e9f297c5f1bc.txt  \n",
      " extracting: /content/drive/MyDrive/crop/yolov7/train/labels/00819_jpg.rf.0fa4e4408baf4ad8f86d71f2620f982e.txt  \n",
      " extracting: /content/drive/MyDrive/crop/yolov7/train/labels/00820_jpg.rf.df897ba95dc658184f77ab44f87875ff.txt  \n",
      " extracting: /content/drive/MyDrive/crop/yolov7/train/labels/1000_F_407431057_UtfWgF7jPj79fyvOYinn7Tsfu2eQuKZE_jpg.rf.5d9ecd383a21fcce5e2ce26d3017686d.txt  \n",
      " extracting: /content/drive/MyDrive/crop/yolov7/train/labels/10_jpg.rf.a8dc045cd2f9c3b6d8ccef042f8dada7.txt  \n",
      " extracting: /content/drive/MyDrive/crop/yolov7/train/labels/12_jpg.rf.c26fedebd2bd28e06f07729965083b39.txt  \n",
      " extracting: /content/drive/MyDrive/crop/yolov7/train/labels/130287-before-image_jpeg.rf.bef3fdb757b9ba510ede9cf1d994a6cc.txt  \n",
      " extracting: /content/drive/MyDrive/crop/yolov7/train/labels/13_jpg.rf.12d955e949446091ac6f3f272d9e407f.txt  \n",
      " extracting: /content/drive/MyDrive/crop/yolov7/train/labels/14_jpg.rf.5dc3e9ff88dfe1f5c6f99950ca859d51.txt  \n",
      " extracting: /content/drive/MyDrive/crop/yolov7/train/labels/15_jpg.rf.905cf42dfcb7179e782b8bf8a511f304.txt  \n",
      " extracting: /content/drive/MyDrive/crop/yolov7/train/labels/1683557010653_jpg.rf.4a2e6eb9c971008bcc02bfe8a568cc0a.txt  \n",
      " extracting: /content/drive/MyDrive/crop/yolov7/train/labels/16_jpg.rf.108bd8ef55ccd5d76e47c604df085a48.txt  \n",
      " extracting: /content/drive/MyDrive/crop/yolov7/train/labels/17_jpg.rf.8372f8383e919794840055e66ec33da9.txt  \n",
      " extracting: /content/drive/MyDrive/crop/yolov7/train/labels/182fe0ef910b4914901ce0ed6af803f8_jpg.rf.7b4cfd21b4fc9cfd282c1e3aff9b53e6.txt  \n",
      " extracting: /content/drive/MyDrive/crop/yolov7/train/labels/189025_jpg.rf.54d41f497467170613969f4f03568354.txt  \n",
      " extracting: /content/drive/MyDrive/crop/yolov7/train/labels/19_jpg.rf.47bbee0e678c4e57d5b7eeb747be6402.txt  \n",
      " extracting: /content/drive/MyDrive/crop/yolov7/train/labels/2-3_jpg.rf.e83a609a993db24ce4371952ce59bc87.txt  \n",
      " extracting: /content/drive/MyDrive/crop/yolov7/train/labels/2-string-wheat-4-oif1do4m8g18cqn5ny1thlfh8mlqcgubbq20ybwoso_jpg.rf.098966a64c512f9ffb84338a8d1d1cbb.txt  \n",
      " extracting: /content/drive/MyDrive/crop/yolov7/train/labels/2017spring-waste-not-1optA_jpg.rf.004dc5e11ceb7e3ce063b3d729b9829f.txt  \n",
      " extracting: /content/drive/MyDrive/crop/yolov7/train/labels/20230622_172326_jpg.rf.8a6e9d8ea393124ad35dc2cbab7f9083.txt  \n",
      " extracting: /content/drive/MyDrive/crop/yolov7/train/labels/21_jpg.rf.f3d442b45a2b2c400480358eff16f131.txt  \n",
      " extracting: /content/drive/MyDrive/crop/yolov7/train/labels/23_jpg.rf.97e17652d96f0b201d42c54799614ad7.txt  \n",
      " extracting: /content/drive/MyDrive/crop/yolov7/train/labels/24_jpg.rf.3234f8a51e32c1af901798c99d805664.txt  \n",
      " extracting: /content/drive/MyDrive/crop/yolov7/train/labels/25_jpg.rf.1f26fd8757007e2f67a7f8574736b9ec.txt  \n",
      " extracting: /content/drive/MyDrive/crop/yolov7/train/labels/26_jpg.rf.57e018f55397841d763af55c21619b97.txt  \n",
      " extracting: /content/drive/MyDrive/crop/yolov7/train/labels/28_jpg.rf.bc56976fbd2f2c173c3e0c227f2a4841.txt  \n",
      " extracting: /content/drive/MyDrive/crop/yolov7/train/labels/29867428_1705680188_jpg.rf.9f97eeb808fb4d26c0910cc37d9bb107.txt  \n",
      " extracting: /content/drive/MyDrive/crop/yolov7/train/labels/29_jpg.rf.9d781b14080cceaa132257fa6c396098.txt  \n",
      " extracting: /content/drive/MyDrive/crop/yolov7/train/labels/2_jpg.rf.1f98372fcd6d55c9c565b43b2cfc0755.txt  \n",
      " extracting: /content/drive/MyDrive/crop/yolov7/train/labels/30_jpg.rf.ce9e31b1429a79e62913cfd0a7c7a693.txt  \n",
      " extracting: /content/drive/MyDrive/crop/yolov7/train/labels/31_jpg.rf.55f9d3dd39f3bdefa2690db4c4161c0a.txt  \n",
      " extracting: /content/drive/MyDrive/crop/yolov7/train/labels/32_jpg.rf.502655a0e6888345ba3df3265e8987cb.txt  \n",
      " extracting: /content/drive/MyDrive/crop/yolov7/train/labels/348s_jpg.rf.664b0ac96c892c208729a871602591d7.txt  \n",
      " extracting: /content/drive/MyDrive/crop/yolov7/train/labels/35_jpg.rf.802bff04d54cd37a86b4a84600eaa184.txt  \n",
      " extracting: /content/drive/MyDrive/crop/yolov7/train/labels/360_F_288121842_oey4mLF9YAzVNRcFyaEJjIxkuQufahfE_jpg.rf.30b630e42fc5a3fb54bcb72cd8b9b9b6.txt  \n",
      " extracting: /content/drive/MyDrive/crop/yolov7/train/labels/360_F_32059997_HzT7QS1yfhcIp1FYQRMsLckK3GfJ40qC_jpg.rf.36962a64f91b157a797734f0d77ce609.txt  \n",
      " extracting: /content/drive/MyDrive/crop/yolov7/train/labels/360_F_414644443_71rQd5Y5pzQ63tu5C61GXeORWOjtMmZJ_jpg.rf.e2aa09229da7facde2b7a7cb7389a6b2.txt  \n",
      " extracting: /content/drive/MyDrive/crop/yolov7/train/labels/360_F_515211232_lMF4n7w3AoMxELPjMMEClLzQcpRcRLLj_jpg.rf.4c67e5bc4de5c42c16532bf5dd100908.txt  \n",
      " extracting: /content/drive/MyDrive/crop/yolov7/train/labels/37573_1_jpg.rf.dd9961544b33f1da4ba048937491df9f.txt  \n",
      " extracting: /content/drive/MyDrive/crop/yolov7/train/labels/3_jpg.rf.e71b043ebcdddbc799e3c2f9d74ea29b.txt  \n",
      " extracting: /content/drive/MyDrive/crop/yolov7/train/labels/42744_1_jpg.rf.c4f3f1c48ced1e279638d707a4ed6aff.txt  \n",
      " extracting: /content/drive/MyDrive/crop/yolov7/train/labels/4_jpg.rf.7407bdfcbcc82dc32e6321d38bb379a8.txt  \n",
      " extracting: /content/drive/MyDrive/crop/yolov7/train/labels/5GHQCAVEE5RJZB54YDMHNXR7IQ_jpg.rf.85bae030a004a580bee48fbcc81a198f.txt  \n",
      " extracting: /content/drive/MyDrive/crop/yolov7/train/labels/5MNMDRZBKALKPLU2OSP5X3IV7M_jpg.rf.481c50f19fc4531f0380838d43cc8bc6.txt  \n",
      " extracting: /content/drive/MyDrive/crop/yolov7/train/labels/5_jpg.rf.3c3c8af160db079dcadc2bbeba2d425c.txt  \n",
      " extracting: /content/drive/MyDrive/crop/yolov7/train/labels/5d9f672144e50-image_jpg.rf.46e41affc3dfce0eec652e6c4b79f392.txt  \n",
      " extracting: /content/drive/MyDrive/crop/yolov7/train/labels/5edff99fe51497455cc8f8db48a38966_XL_jpg.rf.66b62bc31bcf5bdcda7735a4be6a674a.txt  \n",
      " extracting: /content/drive/MyDrive/crop/yolov7/train/labels/638036765484770000_jpg.rf.a6d9045deb44260d2606337834c0dad4.txt  \n",
      " extracting: /content/drive/MyDrive/crop/yolov7/train/labels/644638fd-08c6-48de-881b-1660ef852969-e889a2a_jpg.rf.fdcb36873dd1526e21464652943e58eb.txt  \n",
      " extracting: /content/drive/MyDrive/crop/yolov7/train/labels/6_jpg.rf.1a349e9a6c6ee6a95d0f396d808431c5.txt  \n",
      " extracting: /content/drive/MyDrive/crop/yolov7/train/labels/719VTcbYeeL-_AC_UF1000-1000_QL80__jpg.rf.8eccdf4c752139ccf4dc5c12b72035c1.txt  \n",
      " extracting: /content/drive/MyDrive/crop/yolov7/train/labels/7498571b98_jpg.rf.585da9ed1ae831a9235e05fc5c8c3130.txt  \n",
      " extracting: /content/drive/MyDrive/crop/yolov7/train/labels/7_jpg.rf.c6e1657173cb214f4dc915a6ac7d3fdc.txt  \n",
      " extracting: /content/drive/MyDrive/crop/yolov7/train/labels/86fafcc16cfb3eb0f77dd2397efad850_jpg.rf.ffeeb51c79acb15ed21448878c7bd31c.txt  \n",
      " extracting: /content/drive/MyDrive/crop/yolov7/train/labels/8cf631f09ff0ff636f2726e3ba8d51a1_jpeg.rf.d00367ed8691bb42ea7b6eea60b65c5b.txt  \n",
      " extracting: /content/drive/MyDrive/crop/yolov7/train/labels/9781410388308_00084_jpg.rf.b18212a3bd41aed1326b385faf4f0bf9.txt  \n",
      " extracting: /content/drive/MyDrive/crop/yolov7/train/labels/98349541-bent-palm-tree-dead-palm-dry-dead-palm-leaves-with-blue-vibrant-sky_jpg.rf.0aed86a536a9b95559722005f9f4a7fa.txt  \n",
      " extracting: /content/drive/MyDrive/crop/yolov7/train/labels/9_jpg.rf.c065bef3be1adccfc89253b64eb1b6eb.txt  \n",
      " extracting: /content/drive/MyDrive/crop/yolov7/train/labels/Bagasse_jpg.rf.8ff56463a271f27241fb1446d0622d7c.txt  \n",
      " extracting: /content/drive/MyDrive/crop/yolov7/train/labels/Coco-Husk_Blog_WW_1300x625_jpg.rf.95b3eebaab3ef37e8942f4342e97a507.txt  \n",
      " extracting: /content/drive/MyDrive/crop/yolov7/train/labels/Document_jpg.rf.e5fc5a08965759383b5776606608f797.txt  \n",
      " extracting: /content/drive/MyDrive/crop/yolov7/train/labels/FAO-officials-condemn-unnecessary-loss-and-waste-of-good-food_jpg.rf.af439f9ad6df88481135a2a5cfe947ff.txt  \n",
      " extracting: /content/drive/MyDrive/crop/yolov7/train/labels/Food-waste-EPA_jpg.rf.800065a6ba4927e4d9a85281131ca67f.txt  \n",
      " extracting: /content/drive/MyDrive/crop/yolov7/train/labels/Food-waste-pic1_jpg.rf.c9a53e80e60448a388a1f9fa15b67c41.txt  \n",
      " extracting: /content/drive/MyDrive/crop/yolov7/train/labels/IICT-s-initiative-to-turn-dry-leaves-into-soil-conditioner_jpg.rf.1e52d0c4734ae3bc5fc29f95d08671dd.txt  \n",
      " extracting: /content/drive/MyDrive/crop/yolov7/train/labels/Jessica-Toth-Image-1-Grocer_s-produce-dumpster-of-food-for-disposal-Solana_jpg.rf.3b22fb17aaaf455fcc3c3c2f45f6db3d.txt  \n",
      " extracting: /content/drive/MyDrive/crop/yolov7/train/labels/Madagascar_Deforestation_jpg.rf.ace26042866d614390b55400f50c7d76.txt  \n",
      " extracting: /content/drive/MyDrive/crop/yolov7/train/labels/NJ_Food-Waste_jpg.rf.15fb193732f5603ba8aaf9124e6cb12e.txt  \n",
      " extracting: /content/drive/MyDrive/crop/yolov7/train/labels/Net-Zero-Waste-Abbotsford-Air-Filter_jpg.rf.55295e03c81ae6a979ab30342739cf19.txt  \n",
      " extracting: /content/drive/MyDrive/crop/yolov7/train/labels/Oil-Palm-Tree-Wastes-5-Uses-of-the-palm-pressed-fiber_jpg.rf.b75085b62f48b0d294e3cdcd31ecdcca.txt  \n",
      " extracting: /content/drive/MyDrive/crop/yolov7/train/labels/OilPalmFiber027-1-_jpg.rf.5c44b1e172b4e3837b95ed5b30fd5411.txt  \n",
      " extracting: /content/drive/MyDrive/crop/yolov7/train/labels/Organic-waste-recycled-scaled-1-1-_jpeg.rf.64fad0d72a29c5f3d7a041bd462e4de3.txt  \n",
      " extracting: /content/drive/MyDrive/crop/yolov7/train/labels/Palm-Tree-Waste-4-1_jpg.rf.e01aa3109ba4acb7905b0255c5ae9f0e.txt  \n",
      " extracting: /content/drive/MyDrive/crop/yolov7/train/labels/Tree-Farm-Licence-44-wood-waste_TJ_Watt_jpg.rf.1d7d5ef2a3c0baea2dc4817bfa38cdac.txt  \n",
      " extracting: /content/drive/MyDrive/crop/yolov7/train/labels/WHEAT-STRAW-_jpg.rf.211077b28bc6ed93778a9331b048bd8d.txt  \n",
      " extracting: /content/drive/MyDrive/crop/yolov7/train/labels/a_jpg.rf.5fdbb612a74fdc04568a1cf28a3e1794.txt  \n",
      " extracting: /content/drive/MyDrive/crop/yolov7/train/labels/agricultural-field-with-corn-photo_jpg.rf.5b89f4181237d1ff60b4a63564794dd9.txt  \n",
      " extracting: /content/drive/MyDrive/crop/yolov7/train/labels/b_jpg.rf.64a5e8d6bb4ef6dac24e5862d47df748.txt  \n",
      " extracting: /content/drive/MyDrive/crop/yolov7/train/labels/bagasse-300x207_jpeg.rf.2758ee2a30b823d7e4cb0520eb2fc804.txt  \n",
      " extracting: /content/drive/MyDrive/crop/yolov7/train/labels/bagasses_jpg.rf.ecbe46b7373b9a36ad2dd7369fd67b44.txt  \n",
      " extracting: /content/drive/MyDrive/crop/yolov7/train/labels/c_jpg.rf.c8924013dc21e8671148fe905e4dddb4.txt  \n",
      " extracting: /content/drive/MyDrive/crop/yolov7/train/labels/christmas-tree-old-1024x683_jpeg.rf.aa0f015afdf2b580b381ac010e8f1a64.txt  \n",
      " extracting: /content/drive/MyDrive/crop/yolov7/train/labels/close-up-of-dry-banana-leaves-or-banana-plant-free-photo_jpg.rf.8dd2320fb2e9621a29fca497a472b33c.txt  \n",
      " extracting: /content/drive/MyDrive/crop/yolov7/train/labels/closeup-palm-trunk-steam-texture-natural-tropical-background_97889-441_jpg.rf.9fccd06d4678bf597222e39afd63de00.txt  \n",
      " extracting: /content/drive/MyDrive/crop/yolov7/train/labels/coconut-shell-waste-1662969020-6534537_jpeg.rf.ed179371af19b1a4407cdd59eee5411f.txt  \n",
      " extracting: /content/drive/MyDrive/crop/yolov7/train/labels/compost-heap-irc-1024x683_jpg.rf.34f6259bebe4c4e6b2a9e8e449eed3d8.txt  \n",
      " extracting: /content/drive/MyDrive/crop/yolov7/train/labels/compost-layers-1024x681_jpg.rf.037e360dd0027308b6804ecccc88290e.txt  \n",
      " extracting: /content/drive/MyDrive/crop/yolov7/train/labels/compost_intro_image3259135916375310554_jpg.rf.a646a528bf2be4b6f760bd6c2846a381.txt  \n",
      " extracting: /content/drive/MyDrive/crop/yolov7/train/labels/composting-waste_jpg.rf.74a72fc0be3262503b5d769d8f0833a2.txt  \n",
      " extracting: /content/drive/MyDrive/crop/yolov7/train/labels/cornwall-r-transformando-o-residuo-do-milho-em-um-material-inovador-de-base-biologica_6_jpg.rf.dcb26e78cc5973185b36ba5763e0b38f.txt  \n",
      " extracting: /content/drive/MyDrive/crop/yolov7/train/labels/depositphotos_466922904-stock-photo-vertical-shot-broken-tree-barks_jpg.rf.04d644d9bbb3e4bcf050b1cc7d4dd19b.txt  \n",
      " extracting: /content/drive/MyDrive/crop/yolov7/train/labels/depositphotos_697441596-stock-photo-tree-sections-plant-waste-wood_jpg.rf.d47986bed6f37154b4dc928b9d7fdcfd.txt  \n",
      " extracting: /content/drive/MyDrive/crop/yolov7/train/labels/depositphotos_83363910-stock-photo-tree-branches_jpg.rf.3eb3c844893e3ec477f0b9e3e2152d93.txt  \n",
      " extracting: /content/drive/MyDrive/crop/yolov7/train/labels/discarded-carrots-left-left-in-field-after-harvest-FF0CYK_jpg.rf.4ff772940470d3267e6b01523c6b312e.txt  \n",
      " extracting: /content/drive/MyDrive/crop/yolov7/train/labels/download-3-_jpg.rf.8bcb852fad5f923ffb9586f500a111cf.txt  \n",
      " extracting: /content/drive/MyDrive/crop/yolov7/train/labels/dwqq9mr7p6281_jpg.rf.fe5d61b058ed48fbf16ed21313640742.txt  \n",
      " extracting: /content/drive/MyDrive/crop/yolov7/train/labels/empty-fruit-bunch_jpg.rf.f0c7089be5838e6a0a0a79aca4fd3eae.txt  \n",
      " extracting: /content/drive/MyDrive/crop/yolov7/train/labels/emptyfruitbunch_jpg.rf.90a6d72a8add1b36391405094cbd91ca.txt  \n",
      " extracting: /content/drive/MyDrive/crop/yolov7/train/labels/engineered-yeast-turn-agricultural-waste-into-biofuels-and-more-376484-640x360_jpg.rf.d7d1f75fd4a7a19bc8d8f90fb823c58d.txt  \n",
      " extracting: /content/drive/MyDrive/crop/yolov7/train/labels/everything-you-need-to-know-about-composting-garden-getty-0523-a926f282527a47d0a76ffd792247ec9a_jpg.rf.78ad5bf13ba56a6d8554345e86d64443.txt  \n",
      " extracting: /content/drive/MyDrive/crop/yolov7/train/labels/f46837222f3be6274635dd457d4184c9_jpg.rf.5bb243692a76c639809355c410e0dda8.txt  \n",
      " extracting: /content/drive/MyDrive/crop/yolov7/train/labels/f_jpg.rf.e8b3082411050c0b3a8221ee933c9b88.txt  \n",
      " extracting: /content/drive/MyDrive/crop/yolov7/train/labels/facilities_24_jpg.rf.9114ba43ce99ef73c5889fdf8e25f68c.txt  \n",
      " extracting: /content/drive/MyDrive/crop/yolov7/train/labels/food_scraps_pile_jpg.rf.31e3208575764056f906eafd75e6d113.txt  \n",
      " extracting: /content/drive/MyDrive/crop/yolov7/train/labels/food_waste_on_ground_jpg.rf.a92f7891f29af24e9382b08646ba3a51.txt  \n",
      " extracting: /content/drive/MyDrive/crop/yolov7/train/labels/g_jpg.rf.9847b0293a412d4fab03286b538a15f2.txt  \n",
      " extracting: /content/drive/MyDrive/crop/yolov7/train/labels/garden-waste-in-the-backyard_jpg.rf.7073c5300706b3f381a3d5b988925c16.txt  \n",
      " extracting: /content/drive/MyDrive/crop/yolov7/train/labels/gehakseld_tarwestro_groot_jpg.rf.30bec30569209208d48364a91aadfc26.txt  \n",
      " extracting: /content/drive/MyDrive/crop/yolov7/train/labels/h5pn3iq79t031_jpg.rf.76f63a7cd706341e3f55ebda9f251d96.txt  \n",
      " extracting: /content/drive/MyDrive/crop/yolov7/train/labels/h_jpg.rf.e3bd30b9b44512f9f422accf3a594f39.txt  \n",
      " extracting: /content/drive/MyDrive/crop/yolov7/train/labels/holihavmj327z36242d3b0349c9_jpg.rf.d897e8716d69bcb2482512927457565e.txt  \n",
      " extracting: /content/drive/MyDrive/crop/yolov7/train/labels/image-35469-green-palm-farms-saudi-arabia-beauty-palm-trees-beautiful-search_large_jpg.rf.f57bf90c2918cc93b20e8f340a84c208.txt  \n",
      " extracting: /content/drive/MyDrive/crop/yolov7/train/labels/image_750x_5e5a5b984db0b_jpg.rf.73337884dd0673ac1732ca6fc966de8e.txt  \n",
      " extracting: /content/drive/MyDrive/crop/yolov7/train/labels/image_750x_5eac1e63bfe29_jpg.rf.bd35ebf6dee9cabcfcf7890cd2162e24.txt  \n",
      " extracting: /content/drive/MyDrive/crop/yolov7/train/labels/images-1-_jpg.rf.21b17cfeeb56a655bca99a73a1fbfd1a.txt  \n",
      " extracting: /content/drive/MyDrive/crop/yolov7/train/labels/images-3-_jpg.rf.1dcc327d7484895ff6c5aceb27a7b9f9.txt  \n",
      " extracting: /content/drive/MyDrive/crop/yolov7/train/labels/images-4-_jpg.rf.7584370366ff9b933ca37cb1e75b6d4a.txt  \n",
      " extracting: /content/drive/MyDrive/crop/yolov7/train/labels/images-5-_jpg.rf.f4a6a50660a5fefeb1032df4f4b07b67.txt  \n",
      " extracting: /content/drive/MyDrive/crop/yolov7/train/labels/images-6-_jpg.rf.9bbbb84b1bb1e37ec17ae5461a1acd58.txt  \n",
      " extracting: /content/drive/MyDrive/crop/yolov7/train/labels/images-8-_jpg.rf.fcfaadee939bd5ef04780a4ba2258758.txt  \n",
      " extracting: /content/drive/MyDrive/crop/yolov7/train/labels/istockphoto-1221147234-612x612_jpg.rf.f9f53498736109e860cdd598b6618427.txt  \n",
      " extracting: /content/drive/MyDrive/crop/yolov7/train/labels/istockphoto-1302362708-612x612_jpg.rf.caf5b50a746bded695b27016dbbbfa36.txt  \n",
      " extracting: /content/drive/MyDrive/crop/yolov7/train/labels/istockphoto-1312046155-612x612_jpg.rf.dc59adb5649c4d47ab2ac008326f9e96.txt  \n",
      " extracting: /content/drive/MyDrive/crop/yolov7/train/labels/istockphoto-1313936811-612x612_jpg.rf.b3c3098b27bb6d0ed322e1dfbd578f3f.txt  \n",
      " extracting: /content/drive/MyDrive/crop/yolov7/train/labels/istockphoto-1351818643-170667a_jpg.rf.0fb3fbaac20ee35d4fd253e3289dee84.txt  \n",
      " extracting: /content/drive/MyDrive/crop/yolov7/train/labels/istockphoto-1424540849-612x612_jpg.rf.7084c851c6a6472e5a4f60696c9007fe.txt  \n",
      " extracting: /content/drive/MyDrive/crop/yolov7/train/labels/istockphoto-1425232271-612x612_jpg.rf.19e4a13e6a03a4c7cf300f43d981018e.txt  \n",
      " extracting: /content/drive/MyDrive/crop/yolov7/train/labels/istockphoto-1492025718-612x612_jpg.rf.278734c8ca21d77e8f3e8e0bca2c42e8.txt  \n",
      " extracting: /content/drive/MyDrive/crop/yolov7/train/labels/istockphoto-504305466-612x612_jpg.rf.a860981dd4fa7f2546c0748a8f2312da.txt  \n",
      " extracting: /content/drive/MyDrive/crop/yolov7/train/labels/istockphoto-544796392-612x612_jpg.rf.0d87ccff7f89f234467b129137f85c71.txt  \n",
      " extracting: /content/drive/MyDrive/crop/yolov7/train/labels/istockphoto-868730660-612x612_jpg.rf.81da1cec3b82af242cc581138adbcfd4.txt  \n",
      " extracting: /content/drive/MyDrive/crop/yolov7/train/labels/j_jpg.rf.4542dbe07a86df5bb85e6ea021896582.txt  \n",
      " extracting: /content/drive/MyDrive/crop/yolov7/train/labels/kucha-derevyannyh-palok-ili-vetok-0003231484-preview_jpg.rf.d3a36d1ef34db6bab6dea3e2eb2f3a90.txt  \n",
      " extracting: /content/drive/MyDrive/crop/yolov7/train/labels/l_jpg.rf.c26578fc091bb55712a53f844e678d25.txt  \n",
      " extracting: /content/drive/MyDrive/crop/yolov7/train/labels/limbah-batang-sawit_jpg.rf.d6a68fc8f9e511f306e3c331753c3078.txt  \n",
      " extracting: /content/drive/MyDrive/crop/yolov7/train/labels/m_jpg.rf.36da2b4cfc3943dc9fe20c4a578607b1.txt  \n",
      " extracting: /content/drive/MyDrive/crop/yolov7/train/labels/main-qimg-c605e14c95cf2cdf378a8c651e016f1a-pjlq_jpg.rf.4181850420e8b99336b5f3e463bce047.txt  \n",
      " extracting: /content/drive/MyDrive/crop/yolov7/train/labels/main-qimg-ece593a68ae3e8daf0af2c7e3e53d8cd-lq_jpg.rf.247760cddd2e6b940de7268af388971e.txt  \n",
      " extracting: /content/drive/MyDrive/crop/yolov7/train/labels/maize-waste_jpg.rf.3e34fa8fc51a43420d12e56d914465bd.txt  \n",
      " extracting: /content/drive/MyDrive/crop/yolov7/train/labels/maxresdefault_jpg.rf.65f35c7a2854cd2e331dce0d564e1204.txt  \n",
      " extracting: /content/drive/MyDrive/crop/yolov7/train/labels/model2bio-supports-reuse-of-food-industry-waste-streams-2000x1200_jpg.rf.c99a002fc620c73a563d5e654786a513.txt  \n",
      " extracting: /content/drive/MyDrive/crop/yolov7/train/labels/mqdefault_jpg.rf.2165bee78e71c7c58c81e833aefbf3c7.txt  \n",
      " extracting: /content/drive/MyDrive/crop/yolov7/train/labels/n_jpg.rf.7b95937f289a002567c713d0eb35ea77.txt  \n",
      " extracting: /content/drive/MyDrive/crop/yolov7/train/labels/o_jpg.rf.21164f4190a7d851a2b603c4df43a01f.txt  \n",
      " extracting: /content/drive/MyDrive/crop/yolov7/train/labels/oilpalm01_jpg.rf.55ddb281d5a86c368816b304cb9a1e25.txt  \n",
      " extracting: /content/drive/MyDrive/crop/yolov7/train/labels/ompost_jpg.rf.280238f0c890364a7a82992196d5c73f.txt  \n",
      " extracting: /content/drive/MyDrive/crop/yolov7/train/labels/organic-fertilizers-rife-with-microplastics-study-t_jpg.rf.fd6659a73092b8e0950f454b1a7c1c3e.txt  \n",
      " extracting: /content/drive/MyDrive/crop/yolov7/train/labels/orgfarm_recycling-of-farm-waste_clip_image002_jpg.rf.cc7253c5640c3f06fa238d439ea1e249.txt  \n",
      " extracting: /content/drive/MyDrive/crop/yolov7/train/labels/original_jpg.rf.f8607f2790636f0f3f32de9909699340.txt  \n",
      " extracting: /content/drive/MyDrive/crop/yolov7/train/labels/p_jpg.rf.ffba0f2a8b5e66b755719c04c020bd17.txt  \n",
      " extracting: /content/drive/MyDrive/crop/yolov7/train/labels/palm-fronds-1-800_jpg.rf.2fd830cb33b3ee234abc42f69dd1f8a8.txt  \n",
      " extracting: /content/drive/MyDrive/crop/yolov7/train/labels/palm-tree-fronds-tim-hester_jpg.rf.58c9f7879e0a73556df47db3e6d38a15.txt  \n",
      " extracting: /content/drive/MyDrive/crop/yolov7/train/labels/pasted-ivkvhjkvhjkhjkmage-0_jpg.rf.839ee3286f0a51ade24b46c4f7c72a7c.txt  \n",
      " extracting: /content/drive/MyDrive/crop/yolov7/train/labels/pexels-yan-krukov-5479034_jpg.rf.17ce9083fe893208d1e4811bdd73cbfc.txt  \n",
      " extracting: /content/drive/MyDrive/crop/yolov7/train/labels/pngtree-compost-heap-outside-with-vegetables-and-seeds-picture-image_2791222_jpg.rf.45d6ef58217c608cef2c65385e7f724c.txt  \n",
      " extracting: /content/drive/MyDrive/crop/yolov7/train/labels/principal_jpeg.rf.639dd43cb644847cadd9d7e117c39674.txt  \n",
      " extracting: /content/drive/MyDrive/crop/yolov7/train/labels/q_jpg.rf.69168b18d5d9c87de017dc7a3920154d.txt  \n",
      " extracting: /content/drive/MyDrive/crop/yolov7/train/labels/r_jpg.rf.85a3033bb442726bd38fb8ab8f390591.txt  \n",
      " extracting: /content/drive/MyDrive/crop/yolov7/train/labels/reducing-food-waste-1_jpg.rf.651ca166bd5c82d07fa59ed6337360f6.txt  \n",
      " extracting: /content/drive/MyDrive/crop/yolov7/train/labels/s_jpg.rf.3c8959b988e805a75f78719752244aa9.txt  \n",
      " extracting: /content/drive/MyDrive/crop/yolov7/train/labels/sdbej0h_Thumb_thumb_jpg.rf.ecef86e46caede374fdf6bff43a84aee.txt  \n",
      " extracting: /content/drive/MyDrive/crop/yolov7/train/labels/shutterstock_1392829997_resized_jpg.rf.8046f1642f5b19bc16d68a05e38be607.txt  \n",
      " extracting: /content/drive/MyDrive/crop/yolov7/train/labels/shutterstock_2195383459_jpg.rf.5de9891b6ddf8b96bde34d29719e6939.txt  \n",
      " extracting: /content/drive/MyDrive/crop/yolov7/train/labels/stock-photo-a-fallen-dry-tree-the-branches-stick-out-different-sides-1739808293_jpg.rf.2f4af5a2f1fe1a8b28932f491c420592.txt  \n",
      " extracting: /content/drive/MyDrive/crop/yolov7/train/labels/stopfoodwasteday_jpeg.rf.33b8797f633d756393929091afbf4bbb.txt  \n",
      " extracting: /content/drive/MyDrive/crop/yolov7/train/labels/stubblefield2_jpg.rf.8bbc90ac5f402a3c24cb86df7578f8fe.txt  \n",
      " extracting: /content/drive/MyDrive/crop/yolov7/train/labels/sugarcane-bagasse-1616574825-5765719_jpeg.rf.33c2ec20bb5cdcbbe61ddd14bf4e21c6.txt  \n",
      " extracting: /content/drive/MyDrive/crop/yolov7/train/labels/sugarcane-waste_20180255500_jpg.rf.f8f77d363a8fe9b30842519436d7a5db.txt  \n",
      " extracting: /content/drive/MyDrive/crop/yolov7/train/labels/sugarcane_bagasse_cuba_jpg.rf.c8aefa384b0dfbede3517a0d3fea7fe3.txt  \n",
      " extracting: /content/drive/MyDrive/crop/yolov7/train/labels/t_jpg.rf.b6430d2e91ac8afff3efdb75694abcf3.txt  \n",
      " extracting: /content/drive/MyDrive/crop/yolov7/train/labels/trash-bell-138_jpg.rf.6e879b970b38aac9da5ec886c12eb436.txt  \n",
      " extracting: /content/drive/MyDrive/crop/yolov7/train/labels/u_jpg.rf.eab0ca90214bb4ad72b4f64c0415da6e.txt  \n",
      " extracting: /content/drive/MyDrive/crop/yolov7/train/labels/v_jpg.rf.7f7f55dbb2eb01827aa7db77e5aabd60.txt  \n",
      " extracting: /content/drive/MyDrive/crop/yolov7/train/labels/vam_output_16-JPG-1ed43de33dc07b74_jpeg.rf.130b76d51fda4d2804d784299aa04ce3.txt  \n",
      " extracting: /content/drive/MyDrive/crop/yolov7/train/labels/w_jpg.rf.78a2f6670ad92a7ff442e469b811aa33.txt  \n",
      " extracting: /content/drive/MyDrive/crop/yolov7/train/labels/waste-left-after-harvest-and-some-corn-cobs-E5BW8M_jpg.rf.7a37d4d8ff2b7d7ab72d19089d77c5b3.txt  \n",
      " extracting: /content/drive/MyDrive/crop/yolov7/train/labels/wheat-straw-1558932302-4925459_jpeg.rf.040941c34bd8278fbfd5292b7a49a61f.txt  \n",
      " extracting: /content/drive/MyDrive/crop/yolov7/train/labels/wood_materials_jpg.rf.468fad69665f4349122677efb0465a6b.txt  \n",
      " extracting: /content/drive/MyDrive/crop/yolov7/train/labels/y_jpg.rf.36e72a05a248ec02d44303c5e3c5d086.txt  \n",
      " extracting: /content/drive/MyDrive/crop/yolov7/train/labels/yard-cleanup-and-waste-removal-service-company-orange-county-ny_jpg.rf.9588005f2b10b7f3b6ba8c5a9e80c6e4.txt  \n",
      " extracting: /content/drive/MyDrive/crop/yolov7/train/labels/z_jpg.rf.9737657dac6a5383f16876fe3c4d093c.txt  \n",
      "   creating: /content/drive/MyDrive/crop/yolov7/valid/\n",
      "   creating: /content/drive/MyDrive/crop/yolov7/valid/images/\n",
      " extracting: /content/drive/MyDrive/crop/yolov7/valid/images/00002_jpg.rf.d05a19e2eca1ee4467d603555d0fe533.jpg  \n",
      " extracting: /content/drive/MyDrive/crop/yolov7/valid/images/00006_jpg.rf.f5bdd9348d99121c8041c4ca5c00e199.jpg  \n",
      " extracting: /content/drive/MyDrive/crop/yolov7/valid/images/00009_jpg.rf.3243d94a489f5c5aa4742fa0363407e2.jpg  \n",
      " extracting: /content/drive/MyDrive/crop/yolov7/valid/images/00013_jpg.rf.9d17245e4eb68cbea8cade59ea260a8e.jpg  \n",
      " extracting: /content/drive/MyDrive/crop/yolov7/valid/images/00046_jpg.rf.cbc300abd986c6f381bda0a1c040252c.jpg  \n",
      " extracting: /content/drive/MyDrive/crop/yolov7/valid/images/00058_jpg.rf.2eb7a97f41f2af28c3ea94ab9809ab35.jpg  \n",
      " extracting: /content/drive/MyDrive/crop/yolov7/valid/images/00070_jpg.rf.7be7986a92768e8b5aed47a438e69efb.jpg  \n",
      " extracting: /content/drive/MyDrive/crop/yolov7/valid/images/00073_jpg.rf.233b7f7536fa63975543d28482bff5dd.jpg  \n",
      " extracting: /content/drive/MyDrive/crop/yolov7/valid/images/00135_jpg.rf.693d67a7c20755524f177d793d3a557a.jpg  \n",
      " extracting: /content/drive/MyDrive/crop/yolov7/valid/images/00137_jpg.rf.59bc174500254bf04000b7b60a73c39b.jpg  \n",
      " extracting: /content/drive/MyDrive/crop/yolov7/valid/images/00138_jpg.rf.8a152c6875e0d00731746c2c383fc434.jpg  \n",
      " extracting: /content/drive/MyDrive/crop/yolov7/valid/images/00146_jpg.rf.7d0220f441d75fa8a4127734d62f7aff.jpg  \n",
      " extracting: /content/drive/MyDrive/crop/yolov7/valid/images/00154_jpg.rf.dba2b56bef42d61b78ab671d615acdd3.jpg  \n",
      " extracting: /content/drive/MyDrive/crop/yolov7/valid/images/00224_jpg.rf.551ff865539798f0049aac6e88d34cdb.jpg  \n",
      " extracting: /content/drive/MyDrive/crop/yolov7/valid/images/00238_jpg.rf.9011c6e1975e831169e4ddb36eb38961.jpg  \n",
      " extracting: /content/drive/MyDrive/crop/yolov7/valid/images/00261_jpg.rf.d679f9b55ceb9ad6c67f136d85a2e3c0.jpg  \n",
      " extracting: /content/drive/MyDrive/crop/yolov7/valid/images/00298_jpg.rf.b27c0f9578af65722dd0c0ac19e9062e.jpg  \n",
      " extracting: /content/drive/MyDrive/crop/yolov7/valid/images/00311_jpg.rf.63b71032b55da8adb8095bb06e016a48.jpg  \n",
      " extracting: /content/drive/MyDrive/crop/yolov7/valid/images/00320_jpg.rf.4e619f45cc7acd9877ccbef302ca8922.jpg  \n",
      " extracting: /content/drive/MyDrive/crop/yolov7/valid/images/00332_jpg.rf.1566f341832ceed169e3d18d8350e6d9.jpg  \n",
      " extracting: /content/drive/MyDrive/crop/yolov7/valid/images/00359_jpg.rf.2b049c67ae8e2c64bac85395bbd4b9c0.jpg  \n",
      " extracting: /content/drive/MyDrive/crop/yolov7/valid/images/00389_jpg.rf.9957281416b25e005531e185a35b38a9.jpg  \n",
      " extracting: /content/drive/MyDrive/crop/yolov7/valid/images/00477_jpg.rf.16f440806f84a6a6158951269a2d9897.jpg  \n",
      " extracting: /content/drive/MyDrive/crop/yolov7/valid/images/00501_jpg.rf.6000d5a9500973fe703517ef02719ce7.jpg  \n",
      " extracting: /content/drive/MyDrive/crop/yolov7/valid/images/00513_jpg.rf.4be973250e052104a74f3d8d43ab832c.jpg  \n",
      " extracting: /content/drive/MyDrive/crop/yolov7/valid/images/00570_jpg.rf.e435452469670a250b534dc467c7941c.jpg  \n",
      " extracting: /content/drive/MyDrive/crop/yolov7/valid/images/00695_jpg.rf.19ac9546fb0e08813defd336a56a9a5a.jpg  \n",
      " extracting: /content/drive/MyDrive/crop/yolov7/valid/images/00744_jpg.rf.163fa36b7779a91cae1dff10aac598e0.jpg  \n",
      " extracting: /content/drive/MyDrive/crop/yolov7/valid/images/00792_jpg.rf.1b9957dd4499467cc93d664ccfbdf568.jpg  \n",
      " extracting: /content/drive/MyDrive/crop/yolov7/valid/images/00796_jpg.rf.cb1115ff08480222dc0001a566343f21.jpg  \n",
      " extracting: /content/drive/MyDrive/crop/yolov7/valid/images/1000_F_560431999_2XIdtSrldyDkzComXgfwOIgqa2qjCv7E_jpg.rf.1c93ed1f2d16ddf32b694ab2cf1399d4.jpg  \n",
      " extracting: /content/drive/MyDrive/crop/yolov7/valid/images/11_jpg.rf.e040004d87db47d39348a9b62ed1c38a.jpg  \n",
      " extracting: /content/drive/MyDrive/crop/yolov7/valid/images/127-195350-fighting-pollution-fuel-shortages-clean-energy-4_jpeg.rf.2796cb01939e400454c1a31f9cf3de32.jpg  \n",
      " extracting: /content/drive/MyDrive/crop/yolov7/valid/images/140901-17503434_jpg.rf.cd4d895b66f10b0c4f03f31b48aa7bb3.jpg  \n",
      " extracting: /content/drive/MyDrive/crop/yolov7/valid/images/14b3e6b9-8f07-449e-be71-f017b27693e6_jpg.rf.538bef1a62549cf8d8ff1f513d349479.jpg  \n",
      " extracting: /content/drive/MyDrive/crop/yolov7/valid/images/18_jpg.rf.53f13baf5ced16233907e5f1d3b1a710.jpg  \n",
      " extracting: /content/drive/MyDrive/crop/yolov7/valid/images/1_jpg.rf.e1670fdd044209e4bb7de2801a18b07f.jpg  \n",
      " extracting: /content/drive/MyDrive/crop/yolov7/valid/images/20_jpg.rf.7e211c66ba73ed42b0df20dd6ed90281.jpg  \n",
      " extracting: /content/drive/MyDrive/crop/yolov7/valid/images/21987222-wastes-composed-of-plant-and-household-waste-in-a-bin_jpg.rf.441091284b00c1f1fb90395793ab09d8.jpg  \n",
      " extracting: /content/drive/MyDrive/crop/yolov7/valid/images/22_jpg.rf.dff5e74053e661ad7fb9e4df0870cc5d.jpg  \n",
      " extracting: /content/drive/MyDrive/crop/yolov7/valid/images/27_jpg.rf.591959a3a435e3f0ea68d9446d4ddfe6.jpg  \n",
      " extracting: /content/drive/MyDrive/crop/yolov7/valid/images/33_jpg.rf.f4e45b457a3b95e9b73dc8e4ae467303.jpg  \n",
      " extracting: /content/drive/MyDrive/crop/yolov7/valid/images/34_jpg.rf.93511a3f4945993325a4b9f5e5f47cd4.jpg  \n",
      " extracting: /content/drive/MyDrive/crop/yolov7/valid/images/36_jpg.rf.981232364ec63523f30eae05c148e85c.jpg  \n",
      " extracting: /content/drive/MyDrive/crop/yolov7/valid/images/37_jpg.rf.cab65c18ef88e4b7ce22ddffc48e111b.jpg  \n",
      " extracting: /content/drive/MyDrive/crop/yolov7/valid/images/51062846001_49f4cea7fb_z_jpg.rf.258ea90d672ebe7debdca11873ebd4e7.jpg  \n",
      " extracting: /content/drive/MyDrive/crop/yolov7/valid/images/8_jpg.rf.f8a805ab96a7773cf4a782b453124eea.jpg  \n",
      " extracting: /content/drive/MyDrive/crop/yolov7/valid/images/8c5010f0-9b1c-42fb-99cf-e1cd9c3836c0-largeScale_thumbnail_Image4_jpg.rf.dbbf8683cc0489e51e378d7fe796c437.jpg  \n",
      " extracting: /content/drive/MyDrive/crop/yolov7/valid/images/DSA06898ekrb789_jpg.rf.b21bd5434efbfd255ac4f52c78d3796b.jpg  \n",
      " extracting: /content/drive/MyDrive/crop/yolov7/valid/images/EwnwCUoWYA8rzyW_jpg.rf.7f51a4a1446ba464e0df8cc741f66978.jpg  \n",
      " extracting: /content/drive/MyDrive/crop/yolov7/valid/images/HeroSeekingChemicalBuilding_0_jpg.rf.e762434dbbed4c81df2603d45d6192cd.jpg  \n",
      " extracting: /content/drive/MyDrive/crop/yolov7/valid/images/IMG_8283-1024x683_jpg.rf.1254fd4fb65f74afa60ab135fb8e727a.jpg  \n",
      " extracting: /content/drive/MyDrive/crop/yolov7/valid/images/Sugarcane_Trash_jpg.rf.300bc1bf8e346c63c24b8498824802e4.jpg  \n",
      " extracting: /content/drive/MyDrive/crop/yolov7/valid/images/Waste_To_Wealth_Bhubaneswar-based_Artist_Crafts_Accessories_Items_Of_Decor_Using_Waste_Coconut_Shells_istock_660x30_jpg.rf.1ba28f350534129eaaba3df98e6e8f4b.jpg  \n",
      " extracting: /content/drive/MyDrive/crop/yolov7/valid/images/Waste_wood_crushed-scaled_jpg.rf.85692d2b12b2044d504ae82424696930.jpg  \n",
      " extracting: /content/drive/MyDrive/crop/yolov7/valid/images/Wasted-veggies-950_jpg.rf.2d0b16bde8df923f8f0bc3e5f10c6738.jpg  \n",
      " extracting: /content/drive/MyDrive/crop/yolov7/valid/images/a-Sustainable-Way-to-Manage-Organic-Waste_jpg.rf.23ff9864c797454b99f8fc5c2450d49a.jpg  \n",
      " extracting: /content/drive/MyDrive/crop/yolov7/valid/images/bigstock-Residue-From-Sugar-Cane-Juice-275035999_jpg.rf.6dcbd46bd9670e29ba0adc5908f3435a.jpg  \n",
      " extracting: /content/drive/MyDrive/crop/yolov7/valid/images/corn-stubble-with-frost-dsc00023-rl-edit-800x600_jpg.rf.55181a22d738e785ccbffa77ef8e10cb.jpg  \n",
      " extracting: /content/drive/MyDrive/crop/yolov7/valid/images/d149cead1a312d7d6a1345311de1b4fe_jpeg.rf.c90f2a5c0ba2cad386980e64ce3655fa.jpg  \n",
      " extracting: /content/drive/MyDrive/crop/yolov7/valid/images/depositphotos_124511218-stock-photo-palm-bark-texture-nature-background_jpg.rf.142a9fbfa4f783eeb7ed9d9538c887ff.jpg  \n",
      " extracting: /content/drive/MyDrive/crop/yolov7/valid/images/depositphotos_7438293-stock-photo-coconut-palm-cocos-nucifera-trunk_jpg.rf.8b0aa2bfde883a287def72f4a9619aeb.jpg  \n",
      " extracting: /content/drive/MyDrive/crop/yolov7/valid/images/download-1-_jpg.rf.c74f93904b235fba9d49f4dd6a6f451a.jpg  \n",
      " extracting: /content/drive/MyDrive/crop/yolov7/valid/images/e_jpg.rf.4afe68546a2e81a81e901e62fd04dbce.jpg  \n",
      " extracting: /content/drive/MyDrive/crop/yolov7/valid/images/edited_compostingboy_jpg.rf.2a2d30ec0a44fc264e0e2044e60ad407.jpg  \n",
      " extracting: /content/drive/MyDrive/crop/yolov7/valid/images/fa99f4e190f4d5758cb95ce3af8b7a2609eb852a_jpg.rf.d0a9683f036e498c9cc14b1252472643.jpg  \n",
      " extracting: /content/drive/MyDrive/crop/yolov7/valid/images/i285134164461510091-_szw480h1280__jpg.rf.945691c6a64edda05294a0225b74a306.jpg  \n",
      " extracting: /content/drive/MyDrive/crop/yolov7/valid/images/i_jpg.rf.cb9ccbd10b71ee149c3044df471ac5fd.jpg  \n",
      " extracting: /content/drive/MyDrive/crop/yolov7/valid/images/image1_jpg.rf.2cfe941afc8deee835ce90eeb09df833.jpg  \n",
      " extracting: /content/drive/MyDrive/crop/yolov7/valid/images/images-7-_jpg.rf.425819fe249c7a6fbfc1ffbbaf77a768.jpg  \n",
      " extracting: /content/drive/MyDrive/crop/yolov7/valid/images/istockphoto-1438352232-612x612_jpg.rf.36ddf20c68c39b46dc32a2137d260371.jpg  \n",
      " extracting: /content/drive/MyDrive/crop/yolov7/valid/images/k_jpg.rf.64446e161123c1c50e7beced7ce8dd20.jpg  \n",
      " extracting: /content/drive/MyDrive/crop/yolov7/valid/images/kitchen-waste-added-to-a-compost-pile-TA35P6_jpg.rf.bd3d451f8c27f837c88028b714c4df43.jpg  \n",
      " extracting: /content/drive/MyDrive/crop/yolov7/valid/images/paille-de-ble-zoom-2-1-scaled_jpg.rf.8fb95a8ea2831dce426b9364c682d219.jpg  \n",
      " extracting: /content/drive/MyDrive/crop/yolov7/valid/images/s-l1200_jpg.rf.edbe03f447b9fd2c0e166c9b6d98116d.jpg  \n",
      " extracting: /content/drive/MyDrive/crop/yolov7/valid/images/strawberry-waste-from-commercial-agriculture-2PC84H5_jpg.rf.19eff031e24c396bfe5496c5f8aaf0b5.jpg  \n",
      " extracting: /content/drive/MyDrive/crop/yolov7/valid/images/t_11d4f9fbb25c4d6588547c1b78865d61_name_image_jpg.rf.bf467b0fc04b76b1551b1c8cc7f38d0b.jpg  \n",
      " extracting: /content/drive/MyDrive/crop/yolov7/valid/images/x_jpg.rf.03e75180594faf1d594b22c991dc6750.jpg  \n",
      "   creating: /content/drive/MyDrive/crop/yolov7/valid/labels/\n",
      " extracting: /content/drive/MyDrive/crop/yolov7/valid/labels/00002_jpg.rf.d05a19e2eca1ee4467d603555d0fe533.txt  \n",
      " extracting: /content/drive/MyDrive/crop/yolov7/valid/labels/00006_jpg.rf.f5bdd9348d99121c8041c4ca5c00e199.txt  \n",
      " extracting: /content/drive/MyDrive/crop/yolov7/valid/labels/00009_jpg.rf.3243d94a489f5c5aa4742fa0363407e2.txt  \n",
      " extracting: /content/drive/MyDrive/crop/yolov7/valid/labels/00013_jpg.rf.9d17245e4eb68cbea8cade59ea260a8e.txt  \n",
      " extracting: /content/drive/MyDrive/crop/yolov7/valid/labels/00046_jpg.rf.cbc300abd986c6f381bda0a1c040252c.txt  \n",
      " extracting: /content/drive/MyDrive/crop/yolov7/valid/labels/00058_jpg.rf.2eb7a97f41f2af28c3ea94ab9809ab35.txt  \n",
      " extracting: /content/drive/MyDrive/crop/yolov7/valid/labels/00070_jpg.rf.7be7986a92768e8b5aed47a438e69efb.txt  \n",
      " extracting: /content/drive/MyDrive/crop/yolov7/valid/labels/00073_jpg.rf.233b7f7536fa63975543d28482bff5dd.txt  \n",
      " extracting: /content/drive/MyDrive/crop/yolov7/valid/labels/00135_jpg.rf.693d67a7c20755524f177d793d3a557a.txt  \n",
      " extracting: /content/drive/MyDrive/crop/yolov7/valid/labels/00137_jpg.rf.59bc174500254bf04000b7b60a73c39b.txt  \n",
      " extracting: /content/drive/MyDrive/crop/yolov7/valid/labels/00138_jpg.rf.8a152c6875e0d00731746c2c383fc434.txt  \n",
      " extracting: /content/drive/MyDrive/crop/yolov7/valid/labels/00146_jpg.rf.7d0220f441d75fa8a4127734d62f7aff.txt  \n",
      " extracting: /content/drive/MyDrive/crop/yolov7/valid/labels/00154_jpg.rf.dba2b56bef42d61b78ab671d615acdd3.txt  \n",
      " extracting: /content/drive/MyDrive/crop/yolov7/valid/labels/00224_jpg.rf.551ff865539798f0049aac6e88d34cdb.txt  \n",
      " extracting: /content/drive/MyDrive/crop/yolov7/valid/labels/00238_jpg.rf.9011c6e1975e831169e4ddb36eb38961.txt  \n",
      " extracting: /content/drive/MyDrive/crop/yolov7/valid/labels/00261_jpg.rf.d679f9b55ceb9ad6c67f136d85a2e3c0.txt  \n",
      " extracting: /content/drive/MyDrive/crop/yolov7/valid/labels/00298_jpg.rf.b27c0f9578af65722dd0c0ac19e9062e.txt  \n",
      " extracting: /content/drive/MyDrive/crop/yolov7/valid/labels/00311_jpg.rf.63b71032b55da8adb8095bb06e016a48.txt  \n",
      " extracting: /content/drive/MyDrive/crop/yolov7/valid/labels/00320_jpg.rf.4e619f45cc7acd9877ccbef302ca8922.txt  \n",
      " extracting: /content/drive/MyDrive/crop/yolov7/valid/labels/00332_jpg.rf.1566f341832ceed169e3d18d8350e6d9.txt  \n",
      " extracting: /content/drive/MyDrive/crop/yolov7/valid/labels/00359_jpg.rf.2b049c67ae8e2c64bac85395bbd4b9c0.txt  \n",
      " extracting: /content/drive/MyDrive/crop/yolov7/valid/labels/00389_jpg.rf.9957281416b25e005531e185a35b38a9.txt  \n",
      " extracting: /content/drive/MyDrive/crop/yolov7/valid/labels/00477_jpg.rf.16f440806f84a6a6158951269a2d9897.txt  \n",
      " extracting: /content/drive/MyDrive/crop/yolov7/valid/labels/00501_jpg.rf.6000d5a9500973fe703517ef02719ce7.txt  \n",
      " extracting: /content/drive/MyDrive/crop/yolov7/valid/labels/00513_jpg.rf.4be973250e052104a74f3d8d43ab832c.txt  \n",
      " extracting: /content/drive/MyDrive/crop/yolov7/valid/labels/00570_jpg.rf.e435452469670a250b534dc467c7941c.txt  \n",
      " extracting: /content/drive/MyDrive/crop/yolov7/valid/labels/00695_jpg.rf.19ac9546fb0e08813defd336a56a9a5a.txt  \n",
      " extracting: /content/drive/MyDrive/crop/yolov7/valid/labels/00744_jpg.rf.163fa36b7779a91cae1dff10aac598e0.txt  \n",
      " extracting: /content/drive/MyDrive/crop/yolov7/valid/labels/00792_jpg.rf.1b9957dd4499467cc93d664ccfbdf568.txt  \n",
      " extracting: /content/drive/MyDrive/crop/yolov7/valid/labels/00796_jpg.rf.cb1115ff08480222dc0001a566343f21.txt  \n",
      " extracting: /content/drive/MyDrive/crop/yolov7/valid/labels/1000_F_560431999_2XIdtSrldyDkzComXgfwOIgqa2qjCv7E_jpg.rf.1c93ed1f2d16ddf32b694ab2cf1399d4.txt  \n",
      " extracting: /content/drive/MyDrive/crop/yolov7/valid/labels/11_jpg.rf.e040004d87db47d39348a9b62ed1c38a.txt  \n",
      " extracting: /content/drive/MyDrive/crop/yolov7/valid/labels/127-195350-fighting-pollution-fuel-shortages-clean-energy-4_jpeg.rf.2796cb01939e400454c1a31f9cf3de32.txt  \n",
      " extracting: /content/drive/MyDrive/crop/yolov7/valid/labels/140901-17503434_jpg.rf.cd4d895b66f10b0c4f03f31b48aa7bb3.txt  \n",
      " extracting: /content/drive/MyDrive/crop/yolov7/valid/labels/14b3e6b9-8f07-449e-be71-f017b27693e6_jpg.rf.538bef1a62549cf8d8ff1f513d349479.txt  \n",
      " extracting: /content/drive/MyDrive/crop/yolov7/valid/labels/18_jpg.rf.53f13baf5ced16233907e5f1d3b1a710.txt  \n",
      " extracting: /content/drive/MyDrive/crop/yolov7/valid/labels/1_jpg.rf.e1670fdd044209e4bb7de2801a18b07f.txt  \n",
      " extracting: /content/drive/MyDrive/crop/yolov7/valid/labels/20_jpg.rf.7e211c66ba73ed42b0df20dd6ed90281.txt  \n",
      " extracting: /content/drive/MyDrive/crop/yolov7/valid/labels/21987222-wastes-composed-of-plant-and-household-waste-in-a-bin_jpg.rf.441091284b00c1f1fb90395793ab09d8.txt  \n",
      " extracting: /content/drive/MyDrive/crop/yolov7/valid/labels/22_jpg.rf.dff5e74053e661ad7fb9e4df0870cc5d.txt  \n",
      " extracting: /content/drive/MyDrive/crop/yolov7/valid/labels/27_jpg.rf.591959a3a435e3f0ea68d9446d4ddfe6.txt  \n",
      " extracting: /content/drive/MyDrive/crop/yolov7/valid/labels/33_jpg.rf.f4e45b457a3b95e9b73dc8e4ae467303.txt  \n",
      " extracting: /content/drive/MyDrive/crop/yolov7/valid/labels/34_jpg.rf.93511a3f4945993325a4b9f5e5f47cd4.txt  \n",
      " extracting: /content/drive/MyDrive/crop/yolov7/valid/labels/36_jpg.rf.981232364ec63523f30eae05c148e85c.txt  \n",
      " extracting: /content/drive/MyDrive/crop/yolov7/valid/labels/37_jpg.rf.cab65c18ef88e4b7ce22ddffc48e111b.txt  \n",
      " extracting: /content/drive/MyDrive/crop/yolov7/valid/labels/51062846001_49f4cea7fb_z_jpg.rf.258ea90d672ebe7debdca11873ebd4e7.txt  \n",
      " extracting: /content/drive/MyDrive/crop/yolov7/valid/labels/8_jpg.rf.f8a805ab96a7773cf4a782b453124eea.txt  \n",
      " extracting: /content/drive/MyDrive/crop/yolov7/valid/labels/8c5010f0-9b1c-42fb-99cf-e1cd9c3836c0-largeScale_thumbnail_Image4_jpg.rf.dbbf8683cc0489e51e378d7fe796c437.txt  \n",
      " extracting: /content/drive/MyDrive/crop/yolov7/valid/labels/DSA06898ekrb789_jpg.rf.b21bd5434efbfd255ac4f52c78d3796b.txt  \n",
      " extracting: /content/drive/MyDrive/crop/yolov7/valid/labels/EwnwCUoWYA8rzyW_jpg.rf.7f51a4a1446ba464e0df8cc741f66978.txt  \n",
      " extracting: /content/drive/MyDrive/crop/yolov7/valid/labels/HeroSeekingChemicalBuilding_0_jpg.rf.e762434dbbed4c81df2603d45d6192cd.txt  \n",
      " extracting: /content/drive/MyDrive/crop/yolov7/valid/labels/IMG_8283-1024x683_jpg.rf.1254fd4fb65f74afa60ab135fb8e727a.txt  \n",
      " extracting: /content/drive/MyDrive/crop/yolov7/valid/labels/Sugarcane_Trash_jpg.rf.300bc1bf8e346c63c24b8498824802e4.txt  \n",
      " extracting: /content/drive/MyDrive/crop/yolov7/valid/labels/Waste_To_Wealth_Bhubaneswar-based_Artist_Crafts_Accessories_Items_Of_Decor_Using_Waste_Coconut_Shells_istock_660x30_jpg.rf.1ba28f350534129eaaba3df98e6e8f4b.txt  \n",
      " extracting: /content/drive/MyDrive/crop/yolov7/valid/labels/Waste_wood_crushed-scaled_jpg.rf.85692d2b12b2044d504ae82424696930.txt  \n",
      " extracting: /content/drive/MyDrive/crop/yolov7/valid/labels/Wasted-veggies-950_jpg.rf.2d0b16bde8df923f8f0bc3e5f10c6738.txt  \n",
      " extracting: /content/drive/MyDrive/crop/yolov7/valid/labels/a-Sustainable-Way-to-Manage-Organic-Waste_jpg.rf.23ff9864c797454b99f8fc5c2450d49a.txt  \n",
      " extracting: /content/drive/MyDrive/crop/yolov7/valid/labels/bigstock-Residue-From-Sugar-Cane-Juice-275035999_jpg.rf.6dcbd46bd9670e29ba0adc5908f3435a.txt  \n",
      " extracting: /content/drive/MyDrive/crop/yolov7/valid/labels/corn-stubble-with-frost-dsc00023-rl-edit-800x600_jpg.rf.55181a22d738e785ccbffa77ef8e10cb.txt  \n",
      " extracting: /content/drive/MyDrive/crop/yolov7/valid/labels/d149cead1a312d7d6a1345311de1b4fe_jpeg.rf.c90f2a5c0ba2cad386980e64ce3655fa.txt  \n",
      " extracting: /content/drive/MyDrive/crop/yolov7/valid/labels/depositphotos_124511218-stock-photo-palm-bark-texture-nature-background_jpg.rf.142a9fbfa4f783eeb7ed9d9538c887ff.txt  \n",
      " extracting: /content/drive/MyDrive/crop/yolov7/valid/labels/depositphotos_7438293-stock-photo-coconut-palm-cocos-nucifera-trunk_jpg.rf.8b0aa2bfde883a287def72f4a9619aeb.txt  \n",
      " extracting: /content/drive/MyDrive/crop/yolov7/valid/labels/download-1-_jpg.rf.c74f93904b235fba9d49f4dd6a6f451a.txt  \n",
      " extracting: /content/drive/MyDrive/crop/yolov7/valid/labels/e_jpg.rf.4afe68546a2e81a81e901e62fd04dbce.txt  \n",
      " extracting: /content/drive/MyDrive/crop/yolov7/valid/labels/edited_compostingboy_jpg.rf.2a2d30ec0a44fc264e0e2044e60ad407.txt  \n",
      " extracting: /content/drive/MyDrive/crop/yolov7/valid/labels/fa99f4e190f4d5758cb95ce3af8b7a2609eb852a_jpg.rf.d0a9683f036e498c9cc14b1252472643.txt  \n",
      " extracting: /content/drive/MyDrive/crop/yolov7/valid/labels/i285134164461510091-_szw480h1280__jpg.rf.945691c6a64edda05294a0225b74a306.txt  \n",
      " extracting: /content/drive/MyDrive/crop/yolov7/valid/labels/i_jpg.rf.cb9ccbd10b71ee149c3044df471ac5fd.txt  \n",
      " extracting: /content/drive/MyDrive/crop/yolov7/valid/labels/image1_jpg.rf.2cfe941afc8deee835ce90eeb09df833.txt  \n",
      " extracting: /content/drive/MyDrive/crop/yolov7/valid/labels/images-7-_jpg.rf.425819fe249c7a6fbfc1ffbbaf77a768.txt  \n",
      " extracting: /content/drive/MyDrive/crop/yolov7/valid/labels/istockphoto-1438352232-612x612_jpg.rf.36ddf20c68c39b46dc32a2137d260371.txt  \n",
      " extracting: /content/drive/MyDrive/crop/yolov7/valid/labels/k_jpg.rf.64446e161123c1c50e7beced7ce8dd20.txt  \n",
      " extracting: /content/drive/MyDrive/crop/yolov7/valid/labels/kitchen-waste-added-to-a-compost-pile-TA35P6_jpg.rf.bd3d451f8c27f837c88028b714c4df43.txt  \n",
      " extracting: /content/drive/MyDrive/crop/yolov7/valid/labels/paille-de-ble-zoom-2-1-scaled_jpg.rf.8fb95a8ea2831dce426b9364c682d219.txt  \n",
      " extracting: /content/drive/MyDrive/crop/yolov7/valid/labels/s-l1200_jpg.rf.edbe03f447b9fd2c0e166c9b6d98116d.txt  \n",
      " extracting: /content/drive/MyDrive/crop/yolov7/valid/labels/strawberry-waste-from-commercial-agriculture-2PC84H5_jpg.rf.19eff031e24c396bfe5496c5f8aaf0b5.txt  \n",
      " extracting: /content/drive/MyDrive/crop/yolov7/valid/labels/t_11d4f9fbb25c4d6588547c1b78865d61_name_image_jpg.rf.bf467b0fc04b76b1551b1c8cc7f38d0b.txt  \n",
      " extracting: /content/drive/MyDrive/crop/yolov7/valid/labels/x_jpg.rf.03e75180594faf1d594b22c991dc6750.txt  \n"
     ]
    }
   ],
   "source": [
    "!unzip \"/content/drive/MyDrive/crop/waste_management.v1i.yolov7pytorch.zip\" -d \"/content/drive/MyDrive/crop/yolov7\""
   ]
  },
  {
   "cell_type": "code",
   "execution_count": 6,
   "metadata": {
    "colab": {
     "base_uri": "https://localhost:8080/"
    },
    "executionInfo": {
     "elapsed": 8566,
     "status": "ok",
     "timestamp": 1712205495390,
     "user": {
      "displayName": "TruProjects yolo",
      "userId": "18414174829652366032"
     },
     "user_tz": -330
    },
    "id": "BE3PL_zViWos",
    "outputId": "39de2623-bf6e-4f97-ff26-65a4ea97962a"
   },
   "outputs": [
    {
     "name": "stdout",
     "output_type": "stream",
     "text": [
      "Archive:  /content/drive/MyDrive/crop/waste_management.v1i.yolov8.zip\n",
      " extracting: /content/drive/MyDrive/crop/yolov8/README.dataset.txt  \n",
      " extracting: /content/drive/MyDrive/crop/yolov8/README.roboflow.txt  \n",
      " extracting: /content/drive/MyDrive/crop/yolov8/data.yaml  \n",
      "   creating: /content/drive/MyDrive/crop/yolov8/train/\n",
      "   creating: /content/drive/MyDrive/crop/yolov8/train/images/\n",
      " extracting: /content/drive/MyDrive/crop/yolov8/train/images/00007_jpg.rf.d76cc7ce4000efc627611eb2d71c1265.jpg  \n",
      " extracting: /content/drive/MyDrive/crop/yolov8/train/images/00016_jpg.rf.c491af2178640bf3de455f243631424b.jpg  \n",
      " extracting: /content/drive/MyDrive/crop/yolov8/train/images/00017_jpg.rf.ea8e9aa8a56afe315785707023c875e9.jpg  \n",
      " extracting: /content/drive/MyDrive/crop/yolov8/train/images/00018_jpg.rf.f48aadd64e01e5691acacc00d2b4e18c.jpg  \n",
      " extracting: /content/drive/MyDrive/crop/yolov8/train/images/00022_jpg.rf.757e1db6fcf965af3ce548eb44cc3194.jpg  \n",
      " extracting: /content/drive/MyDrive/crop/yolov8/train/images/00024_jpg.rf.3ceed35e0dd6ed26a6bf4f529ffec2ab.jpg  \n",
      " extracting: /content/drive/MyDrive/crop/yolov8/train/images/00029_jpg.rf.76bcc6dca11c3406e8da3edfcb99f6b9.jpg  \n",
      " extracting: /content/drive/MyDrive/crop/yolov8/train/images/00030_jpg.rf.bc60cf6ca9601cf873994b96fa675ed1.jpg  \n",
      " extracting: /content/drive/MyDrive/crop/yolov8/train/images/00032_jpg.rf.d1f1d158cfcf3a138b519294576a62cb.jpg  \n",
      " extracting: /content/drive/MyDrive/crop/yolov8/train/images/00035_jpg.rf.d3f3511c334272ece8cf50126f390ddc.jpg  \n",
      " extracting: /content/drive/MyDrive/crop/yolov8/train/images/00038_jpg.rf.5c4f4d02d54ef96112f0f62a669b6e21.jpg  \n",
      " extracting: /content/drive/MyDrive/crop/yolov8/train/images/00039_jpg.rf.e3286f9b22fbd2a1aab5248469bb70fc.jpg  \n",
      " extracting: /content/drive/MyDrive/crop/yolov8/train/images/00042_jpg.rf.d9a8532993d9bc8fe43d519fc42c9c3c.jpg  \n",
      " extracting: /content/drive/MyDrive/crop/yolov8/train/images/00045_jpg.rf.51a7d60ffc93a716b566d8ed4b56d8d5.jpg  \n",
      " extracting: /content/drive/MyDrive/crop/yolov8/train/images/00048_jpg.rf.217cad0f39fd0ce81da44d408c9a0101.jpg  \n",
      " extracting: /content/drive/MyDrive/crop/yolov8/train/images/00049_jpg.rf.ffc8ac0995bfad806e7236073190a3e1.jpg  \n",
      " extracting: /content/drive/MyDrive/crop/yolov8/train/images/00052_jpg.rf.46cb0ffb38c7fd1e6d2f04c6b25f91cf.jpg  \n",
      " extracting: /content/drive/MyDrive/crop/yolov8/train/images/00056_jpg.rf.73796e2d699e4fca9858443a4d188b53.jpg  \n",
      " extracting: /content/drive/MyDrive/crop/yolov8/train/images/00060_jpg.rf.060f90966f753b2a07214169a3398655.jpg  \n",
      " extracting: /content/drive/MyDrive/crop/yolov8/train/images/00078_jpg.rf.f5b53602f8205cc62a4458199bc68f7b.jpg  \n",
      " extracting: /content/drive/MyDrive/crop/yolov8/train/images/00087_jpg.rf.38ed3c8ac8ff648ffbc2b1d0d5f3e1ba.jpg  \n",
      " extracting: /content/drive/MyDrive/crop/yolov8/train/images/00088_jpg.rf.69c7b5a8f00c4ac4cfc86bf606e66714.jpg  \n",
      " extracting: /content/drive/MyDrive/crop/yolov8/train/images/00093_jpg.rf.cb496e8cb050f9a64324618bb14ff2dd.jpg  \n",
      " extracting: /content/drive/MyDrive/crop/yolov8/train/images/00095_jpg.rf.f82ff597688c62dadd0fa086693c98fe.jpg  \n",
      " extracting: /content/drive/MyDrive/crop/yolov8/train/images/00096_jpg.rf.7932b9d2ef7eec2659a531b5b56306e5.jpg  \n",
      " extracting: /content/drive/MyDrive/crop/yolov8/train/images/00098_jpg.rf.871ec33ed4cab48d682bd1088100a60e.jpg  \n",
      " extracting: /content/drive/MyDrive/crop/yolov8/train/images/00107_jpg.rf.4c6018aa08ced90ebe3abf668339df36.jpg  \n",
      " extracting: /content/drive/MyDrive/crop/yolov8/train/images/00114_jpg.rf.8d35eebcc174d0f11ec1912f24ee72a7.jpg  \n",
      " extracting: /content/drive/MyDrive/crop/yolov8/train/images/00117_jpg.rf.fe01ad80144c4185ec1bd27dab7252c5.jpg  \n",
      " extracting: /content/drive/MyDrive/crop/yolov8/train/images/0011f8d9-614_jpg.rf.8912e154b5ce56d962602c169ba03ba1.jpg  \n",
      " extracting: /content/drive/MyDrive/crop/yolov8/train/images/00122_jpg.rf.40098e533547992b917e103e158ad8d8.jpg  \n",
      " extracting: /content/drive/MyDrive/crop/yolov8/train/images/00125_jpg.rf.1881b921954b773a5bedd69d916f3812.jpg  \n",
      " extracting: /content/drive/MyDrive/crop/yolov8/train/images/00128_jpg.rf.c9f3636094f21993247e65b5edbe5c19.jpg  \n",
      " extracting: /content/drive/MyDrive/crop/yolov8/train/images/00136_jpg.rf.efc9a8a94dd15796e5ce402cec6f90cd.jpg  \n",
      " extracting: /content/drive/MyDrive/crop/yolov8/train/images/00141_jpg.rf.0ea0b8805540ea1a305842bdf39ec82d.jpg  \n",
      " extracting: /content/drive/MyDrive/crop/yolov8/train/images/00142_jpg.rf.df25d40c00dc00adf35a12263cdc9834.jpg  \n",
      " extracting: /content/drive/MyDrive/crop/yolov8/train/images/00147_jpg.rf.d1a4361e7074368082a453e7b6eb2542.jpg  \n",
      " extracting: /content/drive/MyDrive/crop/yolov8/train/images/00150_jpg.rf.e3e7b0d9d1d8172eaac363061e98a813.jpg  \n",
      " extracting: /content/drive/MyDrive/crop/yolov8/train/images/00160_jpg.rf.bc82795474847c531e127d77c19572e5.jpg  \n",
      " extracting: /content/drive/MyDrive/crop/yolov8/train/images/00166_jpg.rf.d2d7710ff83b986a165cea03ccd13236.jpg  \n",
      " extracting: /content/drive/MyDrive/crop/yolov8/train/images/00177_jpg.rf.8255f3982314eea8736e2635b9612c30.jpg  \n",
      " extracting: /content/drive/MyDrive/crop/yolov8/train/images/00189_jpg.rf.e8e4cb4ebce5636521dc01ff4b328e40.jpg  \n",
      " extracting: /content/drive/MyDrive/crop/yolov8/train/images/00190_jpg.rf.c7dbf4bd368e1381a48fdf41219407a9.jpg  \n",
      " extracting: /content/drive/MyDrive/crop/yolov8/train/images/00197_jpg.rf.9437cd7c0b0765e8a63d3b0f44c4a67c.jpg  \n",
      " extracting: /content/drive/MyDrive/crop/yolov8/train/images/00200_jpg.rf.c44d166629944e40c05ab3af6b36a705.jpg  \n",
      " extracting: /content/drive/MyDrive/crop/yolov8/train/images/00208_jpg.rf.8e52c370895fececaf0c4cb129ee2c09.jpg  \n",
      " extracting: /content/drive/MyDrive/crop/yolov8/train/images/00209_jpg.rf.913d46b226d0aab231603f39b3f86518.jpg  \n",
      " extracting: /content/drive/MyDrive/crop/yolov8/train/images/00211_jpg.rf.7e0b7bc8ad8e6f709e82763bdbe99ceb.jpg  \n",
      " extracting: /content/drive/MyDrive/crop/yolov8/train/images/00217_jpg.rf.ba226766ea7efe7067b151903f4c0023.jpg  \n",
      " extracting: /content/drive/MyDrive/crop/yolov8/train/images/00230_jpg.rf.1f34197b93fb5ccd2c5b49f4bc8fda3a.jpg  \n",
      " extracting: /content/drive/MyDrive/crop/yolov8/train/images/00237_jpg.rf.8151b4a678d2d37adb5033283b43c0f8.jpg  \n",
      " extracting: /content/drive/MyDrive/crop/yolov8/train/images/00249_jpg.rf.d420cdd4bd5e53abb6dcb0a0dd435447.jpg  \n",
      " extracting: /content/drive/MyDrive/crop/yolov8/train/images/00251_jpg.rf.e5a6e29550b27cd66338ec16795bc646.jpg  \n",
      " extracting: /content/drive/MyDrive/crop/yolov8/train/images/00284_jpg.rf.7ed236fab8e4524d3fd183852b026ac8.jpg  \n",
      " extracting: /content/drive/MyDrive/crop/yolov8/train/images/00285_jpg.rf.7b0c9858b8bcc81e32b75054af1741ef.jpg  \n",
      " extracting: /content/drive/MyDrive/crop/yolov8/train/images/00286_jpg.rf.b732a616472fbf108dd9661a8b315903.jpg  \n",
      " extracting: /content/drive/MyDrive/crop/yolov8/train/images/00308_jpg.rf.414e26d72d2747b40d9e4b6c15b55c53.jpg  \n",
      " extracting: /content/drive/MyDrive/crop/yolov8/train/images/00310_jpg.rf.0d9783b53b4e1e9b7282dc6c04d29713.jpg  \n",
      " extracting: /content/drive/MyDrive/crop/yolov8/train/images/00322_jpg.rf.0dd7c6e5f7dc9f8f84c42656fd336fc6.jpg  \n",
      " extracting: /content/drive/MyDrive/crop/yolov8/train/images/00333_jpg.rf.d1eb02ed8230afa79f6763bce31d676c.jpg  \n",
      " extracting: /content/drive/MyDrive/crop/yolov8/train/images/00334_jpg.rf.4f764a2f7024fff1a1650b87f75f8fcc.jpg  \n",
      " extracting: /content/drive/MyDrive/crop/yolov8/train/images/00335_jpg.rf.892dc843542909e11cdffd126f93599a.jpg  \n",
      " extracting: /content/drive/MyDrive/crop/yolov8/train/images/00358_jpg.rf.5627c531573a19c7594aa2772dd8751e.jpg  \n",
      " extracting: /content/drive/MyDrive/crop/yolov8/train/images/00361_jpg.rf.0b42430c8963e01a38aa49221a824032.jpg  \n",
      " extracting: /content/drive/MyDrive/crop/yolov8/train/images/00373_jpg.rf.1899ffe973e15649b3019be850c0e444.jpg  \n",
      " extracting: /content/drive/MyDrive/crop/yolov8/train/images/00384_jpg.rf.f6ceeea4a213b4f2a0094d5099cfe080.jpg  \n",
      " extracting: /content/drive/MyDrive/crop/yolov8/train/images/00388_jpg.rf.88d2ed8d336fea4bfd884d01996044a8.jpg  \n",
      " extracting: /content/drive/MyDrive/crop/yolov8/train/images/00394_jpg.rf.34fad1a60c5c03a4b0129b73b540d35e.jpg  \n",
      " extracting: /content/drive/MyDrive/crop/yolov8/train/images/00395_jpg.rf.fee91f02f61a6e3904a4d25f932ca41c.jpg  \n",
      " extracting: /content/drive/MyDrive/crop/yolov8/train/images/00405_jpg.rf.b575cc2a4be2022070560e7a5e3b5e20.jpg  \n",
      " extracting: /content/drive/MyDrive/crop/yolov8/train/images/00407_jpg.rf.9f4e52a08f0bde325c17e33360392b9a.jpg  \n",
      " extracting: /content/drive/MyDrive/crop/yolov8/train/images/00410_jpg.rf.d01bd2d12707a21fd83808240e56ddfb.jpg  \n",
      " extracting: /content/drive/MyDrive/crop/yolov8/train/images/00416_jpg.rf.54f7abe3de1def426f2d4ea5541660f4.jpg  \n",
      " extracting: /content/drive/MyDrive/crop/yolov8/train/images/00418_jpg.rf.fe5cd4961cf9903dfe819c7afae553fc.jpg  \n",
      " extracting: /content/drive/MyDrive/crop/yolov8/train/images/00427_jpg.rf.e0131da62111d7674573034e568c5e93.jpg  \n",
      " extracting: /content/drive/MyDrive/crop/yolov8/train/images/00429_jpg.rf.928cd2868430074e3ed54032e4c29502.jpg  \n",
      " extracting: /content/drive/MyDrive/crop/yolov8/train/images/00448_jpg.rf.b765c6db2a5d565d3c3f76aae5b194ee.jpg  \n",
      " extracting: /content/drive/MyDrive/crop/yolov8/train/images/00453_jpg.rf.6dd5d25e2bca32601babbe20134aea6a.jpg  \n",
      " extracting: /content/drive/MyDrive/crop/yolov8/train/images/00454_jpg.rf.230c42716af958ea7756da6e40dd76e8.jpg  \n",
      " extracting: /content/drive/MyDrive/crop/yolov8/train/images/00459_jpg.rf.6d997099f36fe9bd74725e660a0a5ee0.jpg  \n",
      " extracting: /content/drive/MyDrive/crop/yolov8/train/images/00466_jpg.rf.ee9d7f435b9ef989d98495c10acbf23c.jpg  \n",
      " extracting: /content/drive/MyDrive/crop/yolov8/train/images/00474_jpg.rf.a9f1031ebe6692bee32053a685f2011f.jpg  \n",
      " extracting: /content/drive/MyDrive/crop/yolov8/train/images/00483_jpg.rf.733ee8178d27ac79e27d5dc197f99557.jpg  \n",
      " extracting: /content/drive/MyDrive/crop/yolov8/train/images/00493_jpg.rf.ed639ce4d568ad879448f5f7e023ff44.jpg  \n",
      " extracting: /content/drive/MyDrive/crop/yolov8/train/images/00496_jpg.rf.6405e00a3f2d53f563c08c3fce9ca53f.jpg  \n",
      " extracting: /content/drive/MyDrive/crop/yolov8/train/images/00498_jpg.rf.338423d9de8f9bece626b66721306a60.jpg  \n",
      " extracting: /content/drive/MyDrive/crop/yolov8/train/images/00502_jpg.rf.9de1717b6f2bb50bd6880948d8057c33.jpg  \n",
      " extracting: /content/drive/MyDrive/crop/yolov8/train/images/00515_jpg.rf.4b4834f083d4ad258e56762412f83b20.jpg  \n",
      " extracting: /content/drive/MyDrive/crop/yolov8/train/images/00521_jpg.rf.f0d35f986304af254281a2e8142dd002.jpg  \n",
      " extracting: /content/drive/MyDrive/crop/yolov8/train/images/00539_jpg.rf.932b6fbafd95ee384972a5c01bb0e79d.jpg  \n",
      " extracting: /content/drive/MyDrive/crop/yolov8/train/images/00565_jpg.rf.e308627a12c322d23271a029b31d2fce.jpg  \n",
      " extracting: /content/drive/MyDrive/crop/yolov8/train/images/00574_jpg.rf.d143db315c85a8941abf85cfc3245fb0.jpg  \n",
      " extracting: /content/drive/MyDrive/crop/yolov8/train/images/00581_jpg.rf.0a099d6446559f7e59e5a7d4b5ada678.jpg  \n",
      " extracting: /content/drive/MyDrive/crop/yolov8/train/images/00590_jpg.rf.a1c265fcd9f0f1c61149326340112657.jpg  \n",
      " extracting: /content/drive/MyDrive/crop/yolov8/train/images/00595_jpg.rf.ec1697f37a5d5905d083e491fd1cac7f.jpg  \n",
      " extracting: /content/drive/MyDrive/crop/yolov8/train/images/00598_jpg.rf.c34dc186cc644ff328a1377b43ad2e06.jpg  \n",
      " extracting: /content/drive/MyDrive/crop/yolov8/train/images/00608_jpg.rf.f1fe8d5dc28f53d5e80db31c50229e61.jpg  \n",
      " extracting: /content/drive/MyDrive/crop/yolov8/train/images/00648_jpg.rf.0a9fe287711da0ab98ef48bbe88a74e1.jpg  \n",
      " extracting: /content/drive/MyDrive/crop/yolov8/train/images/00662_jpg.rf.2512197e7fc29e2437d7c559de06e13d.jpg  \n",
      " extracting: /content/drive/MyDrive/crop/yolov8/train/images/00668_jpg.rf.9b6fa2e015207000b0ff62b1d666f7e7.jpg  \n",
      " extracting: /content/drive/MyDrive/crop/yolov8/train/images/00674_jpg.rf.7b8d9859b317bc2a1d5887166c5ff25d.jpg  \n",
      " extracting: /content/drive/MyDrive/crop/yolov8/train/images/00693_jpg.rf.f2a90c16b774a6e24b769a89ef9c26b7.jpg  \n",
      " extracting: /content/drive/MyDrive/crop/yolov8/train/images/00698_jpg.rf.bd49d20c16af4f0af44f90b1ea24f4fd.jpg  \n",
      " extracting: /content/drive/MyDrive/crop/yolov8/train/images/00699_jpg.rf.95f59e1d8449f5c7dc7378dcd822c8ea.jpg  \n",
      " extracting: /content/drive/MyDrive/crop/yolov8/train/images/00707_jpg.rf.c556b421650ef9ee5a2e7165e6cfbc71.jpg  \n",
      " extracting: /content/drive/MyDrive/crop/yolov8/train/images/00709_jpg.rf.45eade9882ddf1361d1c16e30b8a009d.jpg  \n",
      " extracting: /content/drive/MyDrive/crop/yolov8/train/images/00710_jpg.rf.6665283c302705eeae4893198365ffee.jpg  \n",
      " extracting: /content/drive/MyDrive/crop/yolov8/train/images/00711_jpg.rf.a6bb248bbeecf2dec51d3eacb10ebb83.jpg  \n",
      " extracting: /content/drive/MyDrive/crop/yolov8/train/images/00719_jpg.rf.cf1284a37b12234fd1ad075816b0a0ee.jpg  \n",
      " extracting: /content/drive/MyDrive/crop/yolov8/train/images/00721_jpg.rf.62f5e6f7470861c2b6bc9245b7516ebf.jpg  \n",
      " extracting: /content/drive/MyDrive/crop/yolov8/train/images/00722_jpg.rf.818871c1eccf84081fd46da68416cc8c.jpg  \n",
      " extracting: /content/drive/MyDrive/crop/yolov8/train/images/00723_jpg.rf.fbc699c598d62a818b5ef64593d01eff.jpg  \n",
      " extracting: /content/drive/MyDrive/crop/yolov8/train/images/00726_jpg.rf.cee287ec2c08db6689a0e5580bc7a8bd.jpg  \n",
      " extracting: /content/drive/MyDrive/crop/yolov8/train/images/00730_jpg.rf.d721d3f2637a6f7bd33384e9008f069e.jpg  \n",
      " extracting: /content/drive/MyDrive/crop/yolov8/train/images/00731_jpg.rf.07975ad5ced81a125f69e983ba898762.jpg  \n",
      " extracting: /content/drive/MyDrive/crop/yolov8/train/images/00732_jpg.rf.3c2bb1aceb68c633f790fb9fe9c1254a.jpg  \n",
      " extracting: /content/drive/MyDrive/crop/yolov8/train/images/00740_jpg.rf.15c5ac0e27ecfdae86500cfb3a451408.jpg  \n",
      " extracting: /content/drive/MyDrive/crop/yolov8/train/images/00742_jpg.rf.0b851b396eb1219249c0b15162b09c42.jpg  \n",
      " extracting: /content/drive/MyDrive/crop/yolov8/train/images/00746_jpg.rf.a2161d3081301b4a6d2748f62f629d7d.jpg  \n",
      " extracting: /content/drive/MyDrive/crop/yolov8/train/images/00747_jpg.rf.32d134e364d0f161a6f0cb92643eaec6.jpg  \n",
      " extracting: /content/drive/MyDrive/crop/yolov8/train/images/00748_jpg.rf.6a278900c61dc004fefe96ce60c9060f.jpg  \n",
      " extracting: /content/drive/MyDrive/crop/yolov8/train/images/00749_jpg.rf.7eb11172255a6c85923c0cf517c6fdfe.jpg  \n",
      " extracting: /content/drive/MyDrive/crop/yolov8/train/images/00765_jpg.rf.bb7c733a51b2e683bb3dc7db7d8b2f08.jpg  \n",
      " extracting: /content/drive/MyDrive/crop/yolov8/train/images/00767_jpg.rf.ef2a9662c250f51ba52fbd8237019446.jpg  \n",
      " extracting: /content/drive/MyDrive/crop/yolov8/train/images/00769_jpg.rf.1ed88e3e6cbe482c4d01d809f7a208bb.jpg  \n",
      " extracting: /content/drive/MyDrive/crop/yolov8/train/images/00774_jpg.rf.2ce6d39e8f2d51c3281572d1d0e8e150.jpg  \n",
      " extracting: /content/drive/MyDrive/crop/yolov8/train/images/00790_jpg.rf.4420440b75520d4d7bf8896e8c640303.jpg  \n",
      " extracting: /content/drive/MyDrive/crop/yolov8/train/images/00801_jpg.rf.2bc6ebc755ba41fef9ae599e5573cf86.jpg  \n",
      " extracting: /content/drive/MyDrive/crop/yolov8/train/images/00805_jpg.rf.6c6cbbfca09df17e3476d40498bf9fc1.jpg  \n",
      " extracting: /content/drive/MyDrive/crop/yolov8/train/images/00808_jpg.rf.b973d47d6912d9f3e69d85a118f69abe.jpg  \n",
      " extracting: /content/drive/MyDrive/crop/yolov8/train/images/00813_jpg.rf.7198a8aadb991231b7d4009ad4be27a6.jpg  \n",
      " extracting: /content/drive/MyDrive/crop/yolov8/train/images/00816_jpg.rf.3b0aceffd843752a50fdf18e0f77176d.jpg  \n",
      " extracting: /content/drive/MyDrive/crop/yolov8/train/images/00818_jpg.rf.7f99ddff8e4048c583c6e9f297c5f1bc.jpg  \n",
      " extracting: /content/drive/MyDrive/crop/yolov8/train/images/00819_jpg.rf.0fa4e4408baf4ad8f86d71f2620f982e.jpg  \n",
      " extracting: /content/drive/MyDrive/crop/yolov8/train/images/00820_jpg.rf.df897ba95dc658184f77ab44f87875ff.jpg  \n",
      " extracting: /content/drive/MyDrive/crop/yolov8/train/images/1000_F_407431057_UtfWgF7jPj79fyvOYinn7Tsfu2eQuKZE_jpg.rf.5d9ecd383a21fcce5e2ce26d3017686d.jpg  \n",
      " extracting: /content/drive/MyDrive/crop/yolov8/train/images/10_jpg.rf.a8dc045cd2f9c3b6d8ccef042f8dada7.jpg  \n",
      " extracting: /content/drive/MyDrive/crop/yolov8/train/images/12_jpg.rf.c26fedebd2bd28e06f07729965083b39.jpg  \n",
      " extracting: /content/drive/MyDrive/crop/yolov8/train/images/130287-before-image_jpeg.rf.bef3fdb757b9ba510ede9cf1d994a6cc.jpg  \n",
      " extracting: /content/drive/MyDrive/crop/yolov8/train/images/13_jpg.rf.12d955e949446091ac6f3f272d9e407f.jpg  \n",
      " extracting: /content/drive/MyDrive/crop/yolov8/train/images/14_jpg.rf.5dc3e9ff88dfe1f5c6f99950ca859d51.jpg  \n",
      " extracting: /content/drive/MyDrive/crop/yolov8/train/images/15_jpg.rf.905cf42dfcb7179e782b8bf8a511f304.jpg  \n",
      " extracting: /content/drive/MyDrive/crop/yolov8/train/images/1683557010653_jpg.rf.4a2e6eb9c971008bcc02bfe8a568cc0a.jpg  \n",
      " extracting: /content/drive/MyDrive/crop/yolov8/train/images/16_jpg.rf.108bd8ef55ccd5d76e47c604df085a48.jpg  \n",
      " extracting: /content/drive/MyDrive/crop/yolov8/train/images/17_jpg.rf.8372f8383e919794840055e66ec33da9.jpg  \n",
      " extracting: /content/drive/MyDrive/crop/yolov8/train/images/182fe0ef910b4914901ce0ed6af803f8_jpg.rf.7b4cfd21b4fc9cfd282c1e3aff9b53e6.jpg  \n",
      " extracting: /content/drive/MyDrive/crop/yolov8/train/images/189025_jpg.rf.54d41f497467170613969f4f03568354.jpg  \n",
      " extracting: /content/drive/MyDrive/crop/yolov8/train/images/19_jpg.rf.47bbee0e678c4e57d5b7eeb747be6402.jpg  \n",
      " extracting: /content/drive/MyDrive/crop/yolov8/train/images/2-3_jpg.rf.e83a609a993db24ce4371952ce59bc87.jpg  \n",
      " extracting: /content/drive/MyDrive/crop/yolov8/train/images/2-string-wheat-4-oif1do4m8g18cqn5ny1thlfh8mlqcgubbq20ybwoso_jpg.rf.098966a64c512f9ffb84338a8d1d1cbb.jpg  \n",
      " extracting: /content/drive/MyDrive/crop/yolov8/train/images/2017spring-waste-not-1optA_jpg.rf.004dc5e11ceb7e3ce063b3d729b9829f.jpg  \n",
      " extracting: /content/drive/MyDrive/crop/yolov8/train/images/20230622_172326_jpg.rf.8a6e9d8ea393124ad35dc2cbab7f9083.jpg  \n",
      " extracting: /content/drive/MyDrive/crop/yolov8/train/images/21_jpg.rf.f3d442b45a2b2c400480358eff16f131.jpg  \n",
      " extracting: /content/drive/MyDrive/crop/yolov8/train/images/23_jpg.rf.97e17652d96f0b201d42c54799614ad7.jpg  \n",
      " extracting: /content/drive/MyDrive/crop/yolov8/train/images/24_jpg.rf.3234f8a51e32c1af901798c99d805664.jpg  \n",
      " extracting: /content/drive/MyDrive/crop/yolov8/train/images/25_jpg.rf.1f26fd8757007e2f67a7f8574736b9ec.jpg  \n",
      " extracting: /content/drive/MyDrive/crop/yolov8/train/images/26_jpg.rf.57e018f55397841d763af55c21619b97.jpg  \n",
      " extracting: /content/drive/MyDrive/crop/yolov8/train/images/28_jpg.rf.bc56976fbd2f2c173c3e0c227f2a4841.jpg  \n",
      " extracting: /content/drive/MyDrive/crop/yolov8/train/images/29867428_1705680188_jpg.rf.9f97eeb808fb4d26c0910cc37d9bb107.jpg  \n",
      " extracting: /content/drive/MyDrive/crop/yolov8/train/images/29_jpg.rf.9d781b14080cceaa132257fa6c396098.jpg  \n",
      " extracting: /content/drive/MyDrive/crop/yolov8/train/images/2_jpg.rf.1f98372fcd6d55c9c565b43b2cfc0755.jpg  \n",
      " extracting: /content/drive/MyDrive/crop/yolov8/train/images/30_jpg.rf.ce9e31b1429a79e62913cfd0a7c7a693.jpg  \n",
      " extracting: /content/drive/MyDrive/crop/yolov8/train/images/31_jpg.rf.55f9d3dd39f3bdefa2690db4c4161c0a.jpg  \n",
      " extracting: /content/drive/MyDrive/crop/yolov8/train/images/32_jpg.rf.502655a0e6888345ba3df3265e8987cb.jpg  \n",
      " extracting: /content/drive/MyDrive/crop/yolov8/train/images/348s_jpg.rf.664b0ac96c892c208729a871602591d7.jpg  \n",
      " extracting: /content/drive/MyDrive/crop/yolov8/train/images/35_jpg.rf.802bff04d54cd37a86b4a84600eaa184.jpg  \n",
      " extracting: /content/drive/MyDrive/crop/yolov8/train/images/360_F_288121842_oey4mLF9YAzVNRcFyaEJjIxkuQufahfE_jpg.rf.30b630e42fc5a3fb54bcb72cd8b9b9b6.jpg  \n",
      " extracting: /content/drive/MyDrive/crop/yolov8/train/images/360_F_32059997_HzT7QS1yfhcIp1FYQRMsLckK3GfJ40qC_jpg.rf.36962a64f91b157a797734f0d77ce609.jpg  \n",
      " extracting: /content/drive/MyDrive/crop/yolov8/train/images/360_F_414644443_71rQd5Y5pzQ63tu5C61GXeORWOjtMmZJ_jpg.rf.e2aa09229da7facde2b7a7cb7389a6b2.jpg  \n",
      " extracting: /content/drive/MyDrive/crop/yolov8/train/images/360_F_515211232_lMF4n7w3AoMxELPjMMEClLzQcpRcRLLj_jpg.rf.4c67e5bc4de5c42c16532bf5dd100908.jpg  \n",
      " extracting: /content/drive/MyDrive/crop/yolov8/train/images/37573_1_jpg.rf.dd9961544b33f1da4ba048937491df9f.jpg  \n",
      " extracting: /content/drive/MyDrive/crop/yolov8/train/images/3_jpg.rf.e71b043ebcdddbc799e3c2f9d74ea29b.jpg  \n",
      " extracting: /content/drive/MyDrive/crop/yolov8/train/images/42744_1_jpg.rf.c4f3f1c48ced1e279638d707a4ed6aff.jpg  \n",
      " extracting: /content/drive/MyDrive/crop/yolov8/train/images/4_jpg.rf.7407bdfcbcc82dc32e6321d38bb379a8.jpg  \n",
      " extracting: /content/drive/MyDrive/crop/yolov8/train/images/5GHQCAVEE5RJZB54YDMHNXR7IQ_jpg.rf.85bae030a004a580bee48fbcc81a198f.jpg  \n",
      " extracting: /content/drive/MyDrive/crop/yolov8/train/images/5MNMDRZBKALKPLU2OSP5X3IV7M_jpg.rf.481c50f19fc4531f0380838d43cc8bc6.jpg  \n",
      " extracting: /content/drive/MyDrive/crop/yolov8/train/images/5_jpg.rf.3c3c8af160db079dcadc2bbeba2d425c.jpg  \n",
      " extracting: /content/drive/MyDrive/crop/yolov8/train/images/5d9f672144e50-image_jpg.rf.46e41affc3dfce0eec652e6c4b79f392.jpg  \n",
      " extracting: /content/drive/MyDrive/crop/yolov8/train/images/5edff99fe51497455cc8f8db48a38966_XL_jpg.rf.66b62bc31bcf5bdcda7735a4be6a674a.jpg  \n",
      " extracting: /content/drive/MyDrive/crop/yolov8/train/images/638036765484770000_jpg.rf.a6d9045deb44260d2606337834c0dad4.jpg  \n",
      " extracting: /content/drive/MyDrive/crop/yolov8/train/images/644638fd-08c6-48de-881b-1660ef852969-e889a2a_jpg.rf.fdcb36873dd1526e21464652943e58eb.jpg  \n",
      " extracting: /content/drive/MyDrive/crop/yolov8/train/images/6_jpg.rf.1a349e9a6c6ee6a95d0f396d808431c5.jpg  \n",
      " extracting: /content/drive/MyDrive/crop/yolov8/train/images/719VTcbYeeL-_AC_UF1000-1000_QL80__jpg.rf.8eccdf4c752139ccf4dc5c12b72035c1.jpg  \n",
      " extracting: /content/drive/MyDrive/crop/yolov8/train/images/7498571b98_jpg.rf.585da9ed1ae831a9235e05fc5c8c3130.jpg  \n",
      " extracting: /content/drive/MyDrive/crop/yolov8/train/images/7_jpg.rf.c6e1657173cb214f4dc915a6ac7d3fdc.jpg  \n",
      " extracting: /content/drive/MyDrive/crop/yolov8/train/images/86fafcc16cfb3eb0f77dd2397efad850_jpg.rf.ffeeb51c79acb15ed21448878c7bd31c.jpg  \n",
      " extracting: /content/drive/MyDrive/crop/yolov8/train/images/8cf631f09ff0ff636f2726e3ba8d51a1_jpeg.rf.d00367ed8691bb42ea7b6eea60b65c5b.jpg  \n",
      " extracting: /content/drive/MyDrive/crop/yolov8/train/images/9781410388308_00084_jpg.rf.b18212a3bd41aed1326b385faf4f0bf9.jpg  \n",
      " extracting: /content/drive/MyDrive/crop/yolov8/train/images/98349541-bent-palm-tree-dead-palm-dry-dead-palm-leaves-with-blue-vibrant-sky_jpg.rf.0aed86a536a9b95559722005f9f4a7fa.jpg  \n",
      " extracting: /content/drive/MyDrive/crop/yolov8/train/images/9_jpg.rf.c065bef3be1adccfc89253b64eb1b6eb.jpg  \n",
      " extracting: /content/drive/MyDrive/crop/yolov8/train/images/Bagasse_jpg.rf.8ff56463a271f27241fb1446d0622d7c.jpg  \n",
      " extracting: /content/drive/MyDrive/crop/yolov8/train/images/Coco-Husk_Blog_WW_1300x625_jpg.rf.95b3eebaab3ef37e8942f4342e97a507.jpg  \n",
      " extracting: /content/drive/MyDrive/crop/yolov8/train/images/Document_jpg.rf.e5fc5a08965759383b5776606608f797.jpg  \n",
      " extracting: /content/drive/MyDrive/crop/yolov8/train/images/FAO-officials-condemn-unnecessary-loss-and-waste-of-good-food_jpg.rf.af439f9ad6df88481135a2a5cfe947ff.jpg  \n",
      " extracting: /content/drive/MyDrive/crop/yolov8/train/images/Food-waste-EPA_jpg.rf.800065a6ba4927e4d9a85281131ca67f.jpg  \n",
      " extracting: /content/drive/MyDrive/crop/yolov8/train/images/Food-waste-pic1_jpg.rf.c9a53e80e60448a388a1f9fa15b67c41.jpg  \n",
      " extracting: /content/drive/MyDrive/crop/yolov8/train/images/IICT-s-initiative-to-turn-dry-leaves-into-soil-conditioner_jpg.rf.1e52d0c4734ae3bc5fc29f95d08671dd.jpg  \n",
      " extracting: /content/drive/MyDrive/crop/yolov8/train/images/Jessica-Toth-Image-1-Grocer_s-produce-dumpster-of-food-for-disposal-Solana_jpg.rf.3b22fb17aaaf455fcc3c3c2f45f6db3d.jpg  \n",
      " extracting: /content/drive/MyDrive/crop/yolov8/train/images/Madagascar_Deforestation_jpg.rf.ace26042866d614390b55400f50c7d76.jpg  \n",
      " extracting: /content/drive/MyDrive/crop/yolov8/train/images/NJ_Food-Waste_jpg.rf.15fb193732f5603ba8aaf9124e6cb12e.jpg  \n",
      " extracting: /content/drive/MyDrive/crop/yolov8/train/images/Net-Zero-Waste-Abbotsford-Air-Filter_jpg.rf.55295e03c81ae6a979ab30342739cf19.jpg  \n",
      " extracting: /content/drive/MyDrive/crop/yolov8/train/images/Oil-Palm-Tree-Wastes-5-Uses-of-the-palm-pressed-fiber_jpg.rf.b75085b62f48b0d294e3cdcd31ecdcca.jpg  \n",
      " extracting: /content/drive/MyDrive/crop/yolov8/train/images/OilPalmFiber027-1-_jpg.rf.5c44b1e172b4e3837b95ed5b30fd5411.jpg  \n",
      " extracting: /content/drive/MyDrive/crop/yolov8/train/images/Organic-waste-recycled-scaled-1-1-_jpeg.rf.64fad0d72a29c5f3d7a041bd462e4de3.jpg  \n",
      " extracting: /content/drive/MyDrive/crop/yolov8/train/images/Palm-Tree-Waste-4-1_jpg.rf.e01aa3109ba4acb7905b0255c5ae9f0e.jpg  \n",
      " extracting: /content/drive/MyDrive/crop/yolov8/train/images/Tree-Farm-Licence-44-wood-waste_TJ_Watt_jpg.rf.1d7d5ef2a3c0baea2dc4817bfa38cdac.jpg  \n",
      " extracting: /content/drive/MyDrive/crop/yolov8/train/images/WHEAT-STRAW-_jpg.rf.211077b28bc6ed93778a9331b048bd8d.jpg  \n",
      " extracting: /content/drive/MyDrive/crop/yolov8/train/images/a_jpg.rf.5fdbb612a74fdc04568a1cf28a3e1794.jpg  \n",
      " extracting: /content/drive/MyDrive/crop/yolov8/train/images/agricultural-field-with-corn-photo_jpg.rf.5b89f4181237d1ff60b4a63564794dd9.jpg  \n",
      " extracting: /content/drive/MyDrive/crop/yolov8/train/images/b_jpg.rf.64a5e8d6bb4ef6dac24e5862d47df748.jpg  \n",
      " extracting: /content/drive/MyDrive/crop/yolov8/train/images/bagasse-300x207_jpeg.rf.2758ee2a30b823d7e4cb0520eb2fc804.jpg  \n",
      " extracting: /content/drive/MyDrive/crop/yolov8/train/images/bagasses_jpg.rf.ecbe46b7373b9a36ad2dd7369fd67b44.jpg  \n",
      " extracting: /content/drive/MyDrive/crop/yolov8/train/images/c_jpg.rf.c8924013dc21e8671148fe905e4dddb4.jpg  \n",
      " extracting: /content/drive/MyDrive/crop/yolov8/train/images/christmas-tree-old-1024x683_jpeg.rf.aa0f015afdf2b580b381ac010e8f1a64.jpg  \n",
      " extracting: /content/drive/MyDrive/crop/yolov8/train/images/close-up-of-dry-banana-leaves-or-banana-plant-free-photo_jpg.rf.8dd2320fb2e9621a29fca497a472b33c.jpg  \n",
      " extracting: /content/drive/MyDrive/crop/yolov8/train/images/closeup-palm-trunk-steam-texture-natural-tropical-background_97889-441_jpg.rf.9fccd06d4678bf597222e39afd63de00.jpg  \n",
      " extracting: /content/drive/MyDrive/crop/yolov8/train/images/coconut-shell-waste-1662969020-6534537_jpeg.rf.ed179371af19b1a4407cdd59eee5411f.jpg  \n",
      " extracting: /content/drive/MyDrive/crop/yolov8/train/images/compost-heap-irc-1024x683_jpg.rf.34f6259bebe4c4e6b2a9e8e449eed3d8.jpg  \n",
      " extracting: /content/drive/MyDrive/crop/yolov8/train/images/compost-layers-1024x681_jpg.rf.037e360dd0027308b6804ecccc88290e.jpg  \n",
      " extracting: /content/drive/MyDrive/crop/yolov8/train/images/compost_intro_image3259135916375310554_jpg.rf.a646a528bf2be4b6f760bd6c2846a381.jpg  \n",
      " extracting: /content/drive/MyDrive/crop/yolov8/train/images/composting-waste_jpg.rf.74a72fc0be3262503b5d769d8f0833a2.jpg  \n",
      " extracting: /content/drive/MyDrive/crop/yolov8/train/images/cornwall-r-transformando-o-residuo-do-milho-em-um-material-inovador-de-base-biologica_6_jpg.rf.dcb26e78cc5973185b36ba5763e0b38f.jpg  \n",
      " extracting: /content/drive/MyDrive/crop/yolov8/train/images/depositphotos_466922904-stock-photo-vertical-shot-broken-tree-barks_jpg.rf.04d644d9bbb3e4bcf050b1cc7d4dd19b.jpg  \n",
      " extracting: /content/drive/MyDrive/crop/yolov8/train/images/depositphotos_697441596-stock-photo-tree-sections-plant-waste-wood_jpg.rf.d47986bed6f37154b4dc928b9d7fdcfd.jpg  \n",
      " extracting: /content/drive/MyDrive/crop/yolov8/train/images/depositphotos_83363910-stock-photo-tree-branches_jpg.rf.3eb3c844893e3ec477f0b9e3e2152d93.jpg  \n",
      " extracting: /content/drive/MyDrive/crop/yolov8/train/images/discarded-carrots-left-left-in-field-after-harvest-FF0CYK_jpg.rf.4ff772940470d3267e6b01523c6b312e.jpg  \n",
      " extracting: /content/drive/MyDrive/crop/yolov8/train/images/download-3-_jpg.rf.8bcb852fad5f923ffb9586f500a111cf.jpg  \n",
      " extracting: /content/drive/MyDrive/crop/yolov8/train/images/dwqq9mr7p6281_jpg.rf.fe5d61b058ed48fbf16ed21313640742.jpg  \n",
      " extracting: /content/drive/MyDrive/crop/yolov8/train/images/empty-fruit-bunch_jpg.rf.f0c7089be5838e6a0a0a79aca4fd3eae.jpg  \n",
      " extracting: /content/drive/MyDrive/crop/yolov8/train/images/emptyfruitbunch_jpg.rf.90a6d72a8add1b36391405094cbd91ca.jpg  \n",
      " extracting: /content/drive/MyDrive/crop/yolov8/train/images/engineered-yeast-turn-agricultural-waste-into-biofuels-and-more-376484-640x360_jpg.rf.d7d1f75fd4a7a19bc8d8f90fb823c58d.jpg  \n",
      " extracting: /content/drive/MyDrive/crop/yolov8/train/images/everything-you-need-to-know-about-composting-garden-getty-0523-a926f282527a47d0a76ffd792247ec9a_jpg.rf.78ad5bf13ba56a6d8554345e86d64443.jpg  \n",
      " extracting: /content/drive/MyDrive/crop/yolov8/train/images/f46837222f3be6274635dd457d4184c9_jpg.rf.5bb243692a76c639809355c410e0dda8.jpg  \n",
      " extracting: /content/drive/MyDrive/crop/yolov8/train/images/f_jpg.rf.e8b3082411050c0b3a8221ee933c9b88.jpg  \n",
      " extracting: /content/drive/MyDrive/crop/yolov8/train/images/facilities_24_jpg.rf.9114ba43ce99ef73c5889fdf8e25f68c.jpg  \n",
      " extracting: /content/drive/MyDrive/crop/yolov8/train/images/food_scraps_pile_jpg.rf.31e3208575764056f906eafd75e6d113.jpg  \n",
      " extracting: /content/drive/MyDrive/crop/yolov8/train/images/food_waste_on_ground_jpg.rf.a92f7891f29af24e9382b08646ba3a51.jpg  \n",
      " extracting: /content/drive/MyDrive/crop/yolov8/train/images/g_jpg.rf.9847b0293a412d4fab03286b538a15f2.jpg  \n",
      " extracting: /content/drive/MyDrive/crop/yolov8/train/images/garden-waste-in-the-backyard_jpg.rf.7073c5300706b3f381a3d5b988925c16.jpg  \n",
      " extracting: /content/drive/MyDrive/crop/yolov8/train/images/gehakseld_tarwestro_groot_jpg.rf.30bec30569209208d48364a91aadfc26.jpg  \n",
      " extracting: /content/drive/MyDrive/crop/yolov8/train/images/h5pn3iq79t031_jpg.rf.76f63a7cd706341e3f55ebda9f251d96.jpg  \n",
      " extracting: /content/drive/MyDrive/crop/yolov8/train/images/h_jpg.rf.e3bd30b9b44512f9f422accf3a594f39.jpg  \n",
      " extracting: /content/drive/MyDrive/crop/yolov8/train/images/holihavmj327z36242d3b0349c9_jpg.rf.d897e8716d69bcb2482512927457565e.jpg  \n",
      " extracting: /content/drive/MyDrive/crop/yolov8/train/images/image-35469-green-palm-farms-saudi-arabia-beauty-palm-trees-beautiful-search_large_jpg.rf.f57bf90c2918cc93b20e8f340a84c208.jpg  \n",
      " extracting: /content/drive/MyDrive/crop/yolov8/train/images/image_750x_5e5a5b984db0b_jpg.rf.73337884dd0673ac1732ca6fc966de8e.jpg  \n",
      " extracting: /content/drive/MyDrive/crop/yolov8/train/images/image_750x_5eac1e63bfe29_jpg.rf.bd35ebf6dee9cabcfcf7890cd2162e24.jpg  \n",
      " extracting: /content/drive/MyDrive/crop/yolov8/train/images/images-1-_jpg.rf.21b17cfeeb56a655bca99a73a1fbfd1a.jpg  \n",
      " extracting: /content/drive/MyDrive/crop/yolov8/train/images/images-3-_jpg.rf.1dcc327d7484895ff6c5aceb27a7b9f9.jpg  \n",
      " extracting: /content/drive/MyDrive/crop/yolov8/train/images/images-4-_jpg.rf.7584370366ff9b933ca37cb1e75b6d4a.jpg  \n",
      " extracting: /content/drive/MyDrive/crop/yolov8/train/images/images-5-_jpg.rf.f4a6a50660a5fefeb1032df4f4b07b67.jpg  \n",
      " extracting: /content/drive/MyDrive/crop/yolov8/train/images/images-6-_jpg.rf.9bbbb84b1bb1e37ec17ae5461a1acd58.jpg  \n",
      " extracting: /content/drive/MyDrive/crop/yolov8/train/images/images-8-_jpg.rf.fcfaadee939bd5ef04780a4ba2258758.jpg  \n",
      " extracting: /content/drive/MyDrive/crop/yolov8/train/images/istockphoto-1221147234-612x612_jpg.rf.f9f53498736109e860cdd598b6618427.jpg  \n",
      " extracting: /content/drive/MyDrive/crop/yolov8/train/images/istockphoto-1302362708-612x612_jpg.rf.caf5b50a746bded695b27016dbbbfa36.jpg  \n",
      " extracting: /content/drive/MyDrive/crop/yolov8/train/images/istockphoto-1312046155-612x612_jpg.rf.dc59adb5649c4d47ab2ac008326f9e96.jpg  \n",
      " extracting: /content/drive/MyDrive/crop/yolov8/train/images/istockphoto-1313936811-612x612_jpg.rf.b3c3098b27bb6d0ed322e1dfbd578f3f.jpg  \n",
      " extracting: /content/drive/MyDrive/crop/yolov8/train/images/istockphoto-1351818643-170667a_jpg.rf.0fb3fbaac20ee35d4fd253e3289dee84.jpg  \n",
      " extracting: /content/drive/MyDrive/crop/yolov8/train/images/istockphoto-1424540849-612x612_jpg.rf.7084c851c6a6472e5a4f60696c9007fe.jpg  \n",
      " extracting: /content/drive/MyDrive/crop/yolov8/train/images/istockphoto-1425232271-612x612_jpg.rf.19e4a13e6a03a4c7cf300f43d981018e.jpg  \n",
      " extracting: /content/drive/MyDrive/crop/yolov8/train/images/istockphoto-1492025718-612x612_jpg.rf.278734c8ca21d77e8f3e8e0bca2c42e8.jpg  \n",
      " extracting: /content/drive/MyDrive/crop/yolov8/train/images/istockphoto-504305466-612x612_jpg.rf.a860981dd4fa7f2546c0748a8f2312da.jpg  \n",
      " extracting: /content/drive/MyDrive/crop/yolov8/train/images/istockphoto-544796392-612x612_jpg.rf.0d87ccff7f89f234467b129137f85c71.jpg  \n",
      " extracting: /content/drive/MyDrive/crop/yolov8/train/images/istockphoto-868730660-612x612_jpg.rf.81da1cec3b82af242cc581138adbcfd4.jpg  \n",
      " extracting: /content/drive/MyDrive/crop/yolov8/train/images/j_jpg.rf.4542dbe07a86df5bb85e6ea021896582.jpg  \n",
      " extracting: /content/drive/MyDrive/crop/yolov8/train/images/kucha-derevyannyh-palok-ili-vetok-0003231484-preview_jpg.rf.d3a36d1ef34db6bab6dea3e2eb2f3a90.jpg  \n",
      " extracting: /content/drive/MyDrive/crop/yolov8/train/images/l_jpg.rf.c26578fc091bb55712a53f844e678d25.jpg  \n",
      " extracting: /content/drive/MyDrive/crop/yolov8/train/images/limbah-batang-sawit_jpg.rf.d6a68fc8f9e511f306e3c331753c3078.jpg  \n",
      " extracting: /content/drive/MyDrive/crop/yolov8/train/images/m_jpg.rf.36da2b4cfc3943dc9fe20c4a578607b1.jpg  \n",
      " extracting: /content/drive/MyDrive/crop/yolov8/train/images/main-qimg-c605e14c95cf2cdf378a8c651e016f1a-pjlq_jpg.rf.4181850420e8b99336b5f3e463bce047.jpg  \n",
      " extracting: /content/drive/MyDrive/crop/yolov8/train/images/main-qimg-ece593a68ae3e8daf0af2c7e3e53d8cd-lq_jpg.rf.247760cddd2e6b940de7268af388971e.jpg  \n",
      " extracting: /content/drive/MyDrive/crop/yolov8/train/images/maize-waste_jpg.rf.3e34fa8fc51a43420d12e56d914465bd.jpg  \n",
      " extracting: /content/drive/MyDrive/crop/yolov8/train/images/maxresdefault_jpg.rf.65f35c7a2854cd2e331dce0d564e1204.jpg  \n",
      " extracting: /content/drive/MyDrive/crop/yolov8/train/images/model2bio-supports-reuse-of-food-industry-waste-streams-2000x1200_jpg.rf.c99a002fc620c73a563d5e654786a513.jpg  \n",
      " extracting: /content/drive/MyDrive/crop/yolov8/train/images/mqdefault_jpg.rf.2165bee78e71c7c58c81e833aefbf3c7.jpg  \n",
      " extracting: /content/drive/MyDrive/crop/yolov8/train/images/n_jpg.rf.7b95937f289a002567c713d0eb35ea77.jpg  \n",
      " extracting: /content/drive/MyDrive/crop/yolov8/train/images/o_jpg.rf.21164f4190a7d851a2b603c4df43a01f.jpg  \n",
      " extracting: /content/drive/MyDrive/crop/yolov8/train/images/oilpalm01_jpg.rf.55ddb281d5a86c368816b304cb9a1e25.jpg  \n",
      " extracting: /content/drive/MyDrive/crop/yolov8/train/images/ompost_jpg.rf.280238f0c890364a7a82992196d5c73f.jpg  \n",
      " extracting: /content/drive/MyDrive/crop/yolov8/train/images/organic-fertilizers-rife-with-microplastics-study-t_jpg.rf.fd6659a73092b8e0950f454b1a7c1c3e.jpg  \n",
      " extracting: /content/drive/MyDrive/crop/yolov8/train/images/orgfarm_recycling-of-farm-waste_clip_image002_jpg.rf.cc7253c5640c3f06fa238d439ea1e249.jpg  \n",
      " extracting: /content/drive/MyDrive/crop/yolov8/train/images/original_jpg.rf.f8607f2790636f0f3f32de9909699340.jpg  \n",
      " extracting: /content/drive/MyDrive/crop/yolov8/train/images/p_jpg.rf.ffba0f2a8b5e66b755719c04c020bd17.jpg  \n",
      " extracting: /content/drive/MyDrive/crop/yolov8/train/images/palm-fronds-1-800_jpg.rf.2fd830cb33b3ee234abc42f69dd1f8a8.jpg  \n",
      " extracting: /content/drive/MyDrive/crop/yolov8/train/images/palm-tree-fronds-tim-hester_jpg.rf.58c9f7879e0a73556df47db3e6d38a15.jpg  \n",
      " extracting: /content/drive/MyDrive/crop/yolov8/train/images/pasted-ivkvhjkvhjkhjkmage-0_jpg.rf.839ee3286f0a51ade24b46c4f7c72a7c.jpg  \n",
      " extracting: /content/drive/MyDrive/crop/yolov8/train/images/pexels-yan-krukov-5479034_jpg.rf.17ce9083fe893208d1e4811bdd73cbfc.jpg  \n",
      " extracting: /content/drive/MyDrive/crop/yolov8/train/images/pngtree-compost-heap-outside-with-vegetables-and-seeds-picture-image_2791222_jpg.rf.45d6ef58217c608cef2c65385e7f724c.jpg  \n",
      " extracting: /content/drive/MyDrive/crop/yolov8/train/images/principal_jpeg.rf.639dd43cb644847cadd9d7e117c39674.jpg  \n",
      " extracting: /content/drive/MyDrive/crop/yolov8/train/images/q_jpg.rf.69168b18d5d9c87de017dc7a3920154d.jpg  \n",
      " extracting: /content/drive/MyDrive/crop/yolov8/train/images/r_jpg.rf.85a3033bb442726bd38fb8ab8f390591.jpg  \n",
      " extracting: /content/drive/MyDrive/crop/yolov8/train/images/reducing-food-waste-1_jpg.rf.651ca166bd5c82d07fa59ed6337360f6.jpg  \n",
      " extracting: /content/drive/MyDrive/crop/yolov8/train/images/s_jpg.rf.3c8959b988e805a75f78719752244aa9.jpg  \n",
      " extracting: /content/drive/MyDrive/crop/yolov8/train/images/sdbej0h_Thumb_thumb_jpg.rf.ecef86e46caede374fdf6bff43a84aee.jpg  \n",
      " extracting: /content/drive/MyDrive/crop/yolov8/train/images/shutterstock_1392829997_resized_jpg.rf.8046f1642f5b19bc16d68a05e38be607.jpg  \n",
      " extracting: /content/drive/MyDrive/crop/yolov8/train/images/shutterstock_2195383459_jpg.rf.5de9891b6ddf8b96bde34d29719e6939.jpg  \n",
      " extracting: /content/drive/MyDrive/crop/yolov8/train/images/stock-photo-a-fallen-dry-tree-the-branches-stick-out-different-sides-1739808293_jpg.rf.2f4af5a2f1fe1a8b28932f491c420592.jpg  \n",
      " extracting: /content/drive/MyDrive/crop/yolov8/train/images/stopfoodwasteday_jpeg.rf.33b8797f633d756393929091afbf4bbb.jpg  \n",
      " extracting: /content/drive/MyDrive/crop/yolov8/train/images/stubblefield2_jpg.rf.8bbc90ac5f402a3c24cb86df7578f8fe.jpg  \n",
      " extracting: /content/drive/MyDrive/crop/yolov8/train/images/sugarcane-bagasse-1616574825-5765719_jpeg.rf.33c2ec20bb5cdcbbe61ddd14bf4e21c6.jpg  \n",
      " extracting: /content/drive/MyDrive/crop/yolov8/train/images/sugarcane-waste_20180255500_jpg.rf.f8f77d363a8fe9b30842519436d7a5db.jpg  \n",
      " extracting: /content/drive/MyDrive/crop/yolov8/train/images/sugarcane_bagasse_cuba_jpg.rf.c8aefa384b0dfbede3517a0d3fea7fe3.jpg  \n",
      " extracting: /content/drive/MyDrive/crop/yolov8/train/images/t_jpg.rf.b6430d2e91ac8afff3efdb75694abcf3.jpg  \n",
      " extracting: /content/drive/MyDrive/crop/yolov8/train/images/trash-bell-138_jpg.rf.6e879b970b38aac9da5ec886c12eb436.jpg  \n",
      " extracting: /content/drive/MyDrive/crop/yolov8/train/images/u_jpg.rf.eab0ca90214bb4ad72b4f64c0415da6e.jpg  \n",
      " extracting: /content/drive/MyDrive/crop/yolov8/train/images/v_jpg.rf.7f7f55dbb2eb01827aa7db77e5aabd60.jpg  \n",
      " extracting: /content/drive/MyDrive/crop/yolov8/train/images/vam_output_16-JPG-1ed43de33dc07b74_jpeg.rf.130b76d51fda4d2804d784299aa04ce3.jpg  \n",
      " extracting: /content/drive/MyDrive/crop/yolov8/train/images/w_jpg.rf.78a2f6670ad92a7ff442e469b811aa33.jpg  \n",
      " extracting: /content/drive/MyDrive/crop/yolov8/train/images/waste-left-after-harvest-and-some-corn-cobs-E5BW8M_jpg.rf.7a37d4d8ff2b7d7ab72d19089d77c5b3.jpg  \n",
      " extracting: /content/drive/MyDrive/crop/yolov8/train/images/wheat-straw-1558932302-4925459_jpeg.rf.040941c34bd8278fbfd5292b7a49a61f.jpg  \n",
      " extracting: /content/drive/MyDrive/crop/yolov8/train/images/wood_materials_jpg.rf.468fad69665f4349122677efb0465a6b.jpg  \n",
      " extracting: /content/drive/MyDrive/crop/yolov8/train/images/y_jpg.rf.36e72a05a248ec02d44303c5e3c5d086.jpg  \n",
      " extracting: /content/drive/MyDrive/crop/yolov8/train/images/yard-cleanup-and-waste-removal-service-company-orange-county-ny_jpg.rf.9588005f2b10b7f3b6ba8c5a9e80c6e4.jpg  \n",
      " extracting: /content/drive/MyDrive/crop/yolov8/train/images/z_jpg.rf.9737657dac6a5383f16876fe3c4d093c.jpg  \n",
      "   creating: /content/drive/MyDrive/crop/yolov8/train/labels/\n",
      " extracting: /content/drive/MyDrive/crop/yolov8/train/labels/00007_jpg.rf.d76cc7ce4000efc627611eb2d71c1265.txt  \n",
      " extracting: /content/drive/MyDrive/crop/yolov8/train/labels/00016_jpg.rf.c491af2178640bf3de455f243631424b.txt  \n",
      " extracting: /content/drive/MyDrive/crop/yolov8/train/labels/00017_jpg.rf.ea8e9aa8a56afe315785707023c875e9.txt  \n",
      " extracting: /content/drive/MyDrive/crop/yolov8/train/labels/00018_jpg.rf.f48aadd64e01e5691acacc00d2b4e18c.txt  \n",
      " extracting: /content/drive/MyDrive/crop/yolov8/train/labels/00022_jpg.rf.757e1db6fcf965af3ce548eb44cc3194.txt  \n",
      " extracting: /content/drive/MyDrive/crop/yolov8/train/labels/00024_jpg.rf.3ceed35e0dd6ed26a6bf4f529ffec2ab.txt  \n",
      " extracting: /content/drive/MyDrive/crop/yolov8/train/labels/00029_jpg.rf.76bcc6dca11c3406e8da3edfcb99f6b9.txt  \n",
      " extracting: /content/drive/MyDrive/crop/yolov8/train/labels/00030_jpg.rf.bc60cf6ca9601cf873994b96fa675ed1.txt  \n",
      " extracting: /content/drive/MyDrive/crop/yolov8/train/labels/00032_jpg.rf.d1f1d158cfcf3a138b519294576a62cb.txt  \n",
      " extracting: /content/drive/MyDrive/crop/yolov8/train/labels/00035_jpg.rf.d3f3511c334272ece8cf50126f390ddc.txt  \n",
      " extracting: /content/drive/MyDrive/crop/yolov8/train/labels/00038_jpg.rf.5c4f4d02d54ef96112f0f62a669b6e21.txt  \n",
      " extracting: /content/drive/MyDrive/crop/yolov8/train/labels/00039_jpg.rf.e3286f9b22fbd2a1aab5248469bb70fc.txt  \n",
      " extracting: /content/drive/MyDrive/crop/yolov8/train/labels/00042_jpg.rf.d9a8532993d9bc8fe43d519fc42c9c3c.txt  \n",
      " extracting: /content/drive/MyDrive/crop/yolov8/train/labels/00045_jpg.rf.51a7d60ffc93a716b566d8ed4b56d8d5.txt  \n",
      " extracting: /content/drive/MyDrive/crop/yolov8/train/labels/00048_jpg.rf.217cad0f39fd0ce81da44d408c9a0101.txt  \n",
      " extracting: /content/drive/MyDrive/crop/yolov8/train/labels/00049_jpg.rf.ffc8ac0995bfad806e7236073190a3e1.txt  \n",
      " extracting: /content/drive/MyDrive/crop/yolov8/train/labels/00052_jpg.rf.46cb0ffb38c7fd1e6d2f04c6b25f91cf.txt  \n",
      " extracting: /content/drive/MyDrive/crop/yolov8/train/labels/00056_jpg.rf.73796e2d699e4fca9858443a4d188b53.txt  \n",
      " extracting: /content/drive/MyDrive/crop/yolov8/train/labels/00060_jpg.rf.060f90966f753b2a07214169a3398655.txt  \n",
      " extracting: /content/drive/MyDrive/crop/yolov8/train/labels/00078_jpg.rf.f5b53602f8205cc62a4458199bc68f7b.txt  \n",
      " extracting: /content/drive/MyDrive/crop/yolov8/train/labels/00087_jpg.rf.38ed3c8ac8ff648ffbc2b1d0d5f3e1ba.txt  \n",
      " extracting: /content/drive/MyDrive/crop/yolov8/train/labels/00088_jpg.rf.69c7b5a8f00c4ac4cfc86bf606e66714.txt  \n",
      " extracting: /content/drive/MyDrive/crop/yolov8/train/labels/00093_jpg.rf.cb496e8cb050f9a64324618bb14ff2dd.txt  \n",
      " extracting: /content/drive/MyDrive/crop/yolov8/train/labels/00095_jpg.rf.f82ff597688c62dadd0fa086693c98fe.txt  \n",
      " extracting: /content/drive/MyDrive/crop/yolov8/train/labels/00096_jpg.rf.7932b9d2ef7eec2659a531b5b56306e5.txt  \n",
      " extracting: /content/drive/MyDrive/crop/yolov8/train/labels/00098_jpg.rf.871ec33ed4cab48d682bd1088100a60e.txt  \n",
      " extracting: /content/drive/MyDrive/crop/yolov8/train/labels/00107_jpg.rf.4c6018aa08ced90ebe3abf668339df36.txt  \n",
      " extracting: /content/drive/MyDrive/crop/yolov8/train/labels/00114_jpg.rf.8d35eebcc174d0f11ec1912f24ee72a7.txt  \n",
      " extracting: /content/drive/MyDrive/crop/yolov8/train/labels/00117_jpg.rf.fe01ad80144c4185ec1bd27dab7252c5.txt  \n",
      " extracting: /content/drive/MyDrive/crop/yolov8/train/labels/0011f8d9-614_jpg.rf.8912e154b5ce56d962602c169ba03ba1.txt  \n",
      " extracting: /content/drive/MyDrive/crop/yolov8/train/labels/00122_jpg.rf.40098e533547992b917e103e158ad8d8.txt  \n",
      " extracting: /content/drive/MyDrive/crop/yolov8/train/labels/00125_jpg.rf.1881b921954b773a5bedd69d916f3812.txt  \n",
      " extracting: /content/drive/MyDrive/crop/yolov8/train/labels/00128_jpg.rf.c9f3636094f21993247e65b5edbe5c19.txt  \n",
      " extracting: /content/drive/MyDrive/crop/yolov8/train/labels/00136_jpg.rf.efc9a8a94dd15796e5ce402cec6f90cd.txt  \n",
      " extracting: /content/drive/MyDrive/crop/yolov8/train/labels/00141_jpg.rf.0ea0b8805540ea1a305842bdf39ec82d.txt  \n",
      " extracting: /content/drive/MyDrive/crop/yolov8/train/labels/00142_jpg.rf.df25d40c00dc00adf35a12263cdc9834.txt  \n",
      " extracting: /content/drive/MyDrive/crop/yolov8/train/labels/00147_jpg.rf.d1a4361e7074368082a453e7b6eb2542.txt  \n",
      " extracting: /content/drive/MyDrive/crop/yolov8/train/labels/00150_jpg.rf.e3e7b0d9d1d8172eaac363061e98a813.txt  \n",
      " extracting: /content/drive/MyDrive/crop/yolov8/train/labels/00160_jpg.rf.bc82795474847c531e127d77c19572e5.txt  \n",
      " extracting: /content/drive/MyDrive/crop/yolov8/train/labels/00166_jpg.rf.d2d7710ff83b986a165cea03ccd13236.txt  \n",
      " extracting: /content/drive/MyDrive/crop/yolov8/train/labels/00177_jpg.rf.8255f3982314eea8736e2635b9612c30.txt  \n",
      " extracting: /content/drive/MyDrive/crop/yolov8/train/labels/00189_jpg.rf.e8e4cb4ebce5636521dc01ff4b328e40.txt  \n",
      " extracting: /content/drive/MyDrive/crop/yolov8/train/labels/00190_jpg.rf.c7dbf4bd368e1381a48fdf41219407a9.txt  \n",
      " extracting: /content/drive/MyDrive/crop/yolov8/train/labels/00197_jpg.rf.9437cd7c0b0765e8a63d3b0f44c4a67c.txt  \n",
      " extracting: /content/drive/MyDrive/crop/yolov8/train/labels/00200_jpg.rf.c44d166629944e40c05ab3af6b36a705.txt  \n",
      " extracting: /content/drive/MyDrive/crop/yolov8/train/labels/00208_jpg.rf.8e52c370895fececaf0c4cb129ee2c09.txt  \n",
      " extracting: /content/drive/MyDrive/crop/yolov8/train/labels/00209_jpg.rf.913d46b226d0aab231603f39b3f86518.txt  \n",
      " extracting: /content/drive/MyDrive/crop/yolov8/train/labels/00211_jpg.rf.7e0b7bc8ad8e6f709e82763bdbe99ceb.txt  \n",
      " extracting: /content/drive/MyDrive/crop/yolov8/train/labels/00217_jpg.rf.ba226766ea7efe7067b151903f4c0023.txt  \n",
      " extracting: /content/drive/MyDrive/crop/yolov8/train/labels/00230_jpg.rf.1f34197b93fb5ccd2c5b49f4bc8fda3a.txt  \n",
      " extracting: /content/drive/MyDrive/crop/yolov8/train/labels/00237_jpg.rf.8151b4a678d2d37adb5033283b43c0f8.txt  \n",
      " extracting: /content/drive/MyDrive/crop/yolov8/train/labels/00249_jpg.rf.d420cdd4bd5e53abb6dcb0a0dd435447.txt  \n",
      " extracting: /content/drive/MyDrive/crop/yolov8/train/labels/00251_jpg.rf.e5a6e29550b27cd66338ec16795bc646.txt  \n",
      " extracting: /content/drive/MyDrive/crop/yolov8/train/labels/00284_jpg.rf.7ed236fab8e4524d3fd183852b026ac8.txt  \n",
      " extracting: /content/drive/MyDrive/crop/yolov8/train/labels/00285_jpg.rf.7b0c9858b8bcc81e32b75054af1741ef.txt  \n",
      " extracting: /content/drive/MyDrive/crop/yolov8/train/labels/00286_jpg.rf.b732a616472fbf108dd9661a8b315903.txt  \n",
      " extracting: /content/drive/MyDrive/crop/yolov8/train/labels/00308_jpg.rf.414e26d72d2747b40d9e4b6c15b55c53.txt  \n",
      " extracting: /content/drive/MyDrive/crop/yolov8/train/labels/00310_jpg.rf.0d9783b53b4e1e9b7282dc6c04d29713.txt  \n",
      " extracting: /content/drive/MyDrive/crop/yolov8/train/labels/00322_jpg.rf.0dd7c6e5f7dc9f8f84c42656fd336fc6.txt  \n",
      " extracting: /content/drive/MyDrive/crop/yolov8/train/labels/00333_jpg.rf.d1eb02ed8230afa79f6763bce31d676c.txt  \n",
      " extracting: /content/drive/MyDrive/crop/yolov8/train/labels/00334_jpg.rf.4f764a2f7024fff1a1650b87f75f8fcc.txt  \n",
      " extracting: /content/drive/MyDrive/crop/yolov8/train/labels/00335_jpg.rf.892dc843542909e11cdffd126f93599a.txt  \n",
      " extracting: /content/drive/MyDrive/crop/yolov8/train/labels/00358_jpg.rf.5627c531573a19c7594aa2772dd8751e.txt  \n",
      " extracting: /content/drive/MyDrive/crop/yolov8/train/labels/00361_jpg.rf.0b42430c8963e01a38aa49221a824032.txt  \n",
      " extracting: /content/drive/MyDrive/crop/yolov8/train/labels/00373_jpg.rf.1899ffe973e15649b3019be850c0e444.txt  \n",
      " extracting: /content/drive/MyDrive/crop/yolov8/train/labels/00384_jpg.rf.f6ceeea4a213b4f2a0094d5099cfe080.txt  \n",
      " extracting: /content/drive/MyDrive/crop/yolov8/train/labels/00388_jpg.rf.88d2ed8d336fea4bfd884d01996044a8.txt  \n",
      " extracting: /content/drive/MyDrive/crop/yolov8/train/labels/00394_jpg.rf.34fad1a60c5c03a4b0129b73b540d35e.txt  \n",
      " extracting: /content/drive/MyDrive/crop/yolov8/train/labels/00395_jpg.rf.fee91f02f61a6e3904a4d25f932ca41c.txt  \n",
      " extracting: /content/drive/MyDrive/crop/yolov8/train/labels/00405_jpg.rf.b575cc2a4be2022070560e7a5e3b5e20.txt  \n",
      " extracting: /content/drive/MyDrive/crop/yolov8/train/labels/00407_jpg.rf.9f4e52a08f0bde325c17e33360392b9a.txt  \n",
      " extracting: /content/drive/MyDrive/crop/yolov8/train/labels/00410_jpg.rf.d01bd2d12707a21fd83808240e56ddfb.txt  \n",
      " extracting: /content/drive/MyDrive/crop/yolov8/train/labels/00416_jpg.rf.54f7abe3de1def426f2d4ea5541660f4.txt  \n",
      " extracting: /content/drive/MyDrive/crop/yolov8/train/labels/00418_jpg.rf.fe5cd4961cf9903dfe819c7afae553fc.txt  \n",
      " extracting: /content/drive/MyDrive/crop/yolov8/train/labels/00427_jpg.rf.e0131da62111d7674573034e568c5e93.txt  \n",
      " extracting: /content/drive/MyDrive/crop/yolov8/train/labels/00429_jpg.rf.928cd2868430074e3ed54032e4c29502.txt  \n",
      " extracting: /content/drive/MyDrive/crop/yolov8/train/labels/00448_jpg.rf.b765c6db2a5d565d3c3f76aae5b194ee.txt  \n",
      " extracting: /content/drive/MyDrive/crop/yolov8/train/labels/00453_jpg.rf.6dd5d25e2bca32601babbe20134aea6a.txt  \n",
      " extracting: /content/drive/MyDrive/crop/yolov8/train/labels/00454_jpg.rf.230c42716af958ea7756da6e40dd76e8.txt  \n",
      " extracting: /content/drive/MyDrive/crop/yolov8/train/labels/00459_jpg.rf.6d997099f36fe9bd74725e660a0a5ee0.txt  \n",
      " extracting: /content/drive/MyDrive/crop/yolov8/train/labels/00466_jpg.rf.ee9d7f435b9ef989d98495c10acbf23c.txt  \n",
      " extracting: /content/drive/MyDrive/crop/yolov8/train/labels/00474_jpg.rf.a9f1031ebe6692bee32053a685f2011f.txt  \n",
      " extracting: /content/drive/MyDrive/crop/yolov8/train/labels/00483_jpg.rf.733ee8178d27ac79e27d5dc197f99557.txt  \n",
      " extracting: /content/drive/MyDrive/crop/yolov8/train/labels/00493_jpg.rf.ed639ce4d568ad879448f5f7e023ff44.txt  \n",
      " extracting: /content/drive/MyDrive/crop/yolov8/train/labels/00496_jpg.rf.6405e00a3f2d53f563c08c3fce9ca53f.txt  \n",
      " extracting: /content/drive/MyDrive/crop/yolov8/train/labels/00498_jpg.rf.338423d9de8f9bece626b66721306a60.txt  \n",
      " extracting: /content/drive/MyDrive/crop/yolov8/train/labels/00502_jpg.rf.9de1717b6f2bb50bd6880948d8057c33.txt  \n",
      " extracting: /content/drive/MyDrive/crop/yolov8/train/labels/00515_jpg.rf.4b4834f083d4ad258e56762412f83b20.txt  \n",
      " extracting: /content/drive/MyDrive/crop/yolov8/train/labels/00521_jpg.rf.f0d35f986304af254281a2e8142dd002.txt  \n",
      " extracting: /content/drive/MyDrive/crop/yolov8/train/labels/00539_jpg.rf.932b6fbafd95ee384972a5c01bb0e79d.txt  \n",
      " extracting: /content/drive/MyDrive/crop/yolov8/train/labels/00565_jpg.rf.e308627a12c322d23271a029b31d2fce.txt  \n",
      " extracting: /content/drive/MyDrive/crop/yolov8/train/labels/00574_jpg.rf.d143db315c85a8941abf85cfc3245fb0.txt  \n",
      " extracting: /content/drive/MyDrive/crop/yolov8/train/labels/00581_jpg.rf.0a099d6446559f7e59e5a7d4b5ada678.txt  \n",
      " extracting: /content/drive/MyDrive/crop/yolov8/train/labels/00590_jpg.rf.a1c265fcd9f0f1c61149326340112657.txt  \n",
      " extracting: /content/drive/MyDrive/crop/yolov8/train/labels/00595_jpg.rf.ec1697f37a5d5905d083e491fd1cac7f.txt  \n",
      " extracting: /content/drive/MyDrive/crop/yolov8/train/labels/00598_jpg.rf.c34dc186cc644ff328a1377b43ad2e06.txt  \n",
      " extracting: /content/drive/MyDrive/crop/yolov8/train/labels/00608_jpg.rf.f1fe8d5dc28f53d5e80db31c50229e61.txt  \n",
      " extracting: /content/drive/MyDrive/crop/yolov8/train/labels/00648_jpg.rf.0a9fe287711da0ab98ef48bbe88a74e1.txt  \n",
      " extracting: /content/drive/MyDrive/crop/yolov8/train/labels/00662_jpg.rf.2512197e7fc29e2437d7c559de06e13d.txt  \n",
      " extracting: /content/drive/MyDrive/crop/yolov8/train/labels/00668_jpg.rf.9b6fa2e015207000b0ff62b1d666f7e7.txt  \n",
      " extracting: /content/drive/MyDrive/crop/yolov8/train/labels/00674_jpg.rf.7b8d9859b317bc2a1d5887166c5ff25d.txt  \n",
      " extracting: /content/drive/MyDrive/crop/yolov8/train/labels/00693_jpg.rf.f2a90c16b774a6e24b769a89ef9c26b7.txt  \n",
      " extracting: /content/drive/MyDrive/crop/yolov8/train/labels/00698_jpg.rf.bd49d20c16af4f0af44f90b1ea24f4fd.txt  \n",
      " extracting: /content/drive/MyDrive/crop/yolov8/train/labels/00699_jpg.rf.95f59e1d8449f5c7dc7378dcd822c8ea.txt  \n",
      " extracting: /content/drive/MyDrive/crop/yolov8/train/labels/00707_jpg.rf.c556b421650ef9ee5a2e7165e6cfbc71.txt  \n",
      " extracting: /content/drive/MyDrive/crop/yolov8/train/labels/00709_jpg.rf.45eade9882ddf1361d1c16e30b8a009d.txt  \n",
      " extracting: /content/drive/MyDrive/crop/yolov8/train/labels/00710_jpg.rf.6665283c302705eeae4893198365ffee.txt  \n",
      " extracting: /content/drive/MyDrive/crop/yolov8/train/labels/00711_jpg.rf.a6bb248bbeecf2dec51d3eacb10ebb83.txt  \n",
      " extracting: /content/drive/MyDrive/crop/yolov8/train/labels/00719_jpg.rf.cf1284a37b12234fd1ad075816b0a0ee.txt  \n",
      " extracting: /content/drive/MyDrive/crop/yolov8/train/labels/00721_jpg.rf.62f5e6f7470861c2b6bc9245b7516ebf.txt  \n",
      " extracting: /content/drive/MyDrive/crop/yolov8/train/labels/00722_jpg.rf.818871c1eccf84081fd46da68416cc8c.txt  \n",
      " extracting: /content/drive/MyDrive/crop/yolov8/train/labels/00723_jpg.rf.fbc699c598d62a818b5ef64593d01eff.txt  \n",
      " extracting: /content/drive/MyDrive/crop/yolov8/train/labels/00726_jpg.rf.cee287ec2c08db6689a0e5580bc7a8bd.txt  \n",
      " extracting: /content/drive/MyDrive/crop/yolov8/train/labels/00730_jpg.rf.d721d3f2637a6f7bd33384e9008f069e.txt  \n",
      " extracting: /content/drive/MyDrive/crop/yolov8/train/labels/00731_jpg.rf.07975ad5ced81a125f69e983ba898762.txt  \n",
      " extracting: /content/drive/MyDrive/crop/yolov8/train/labels/00732_jpg.rf.3c2bb1aceb68c633f790fb9fe9c1254a.txt  \n",
      " extracting: /content/drive/MyDrive/crop/yolov8/train/labels/00740_jpg.rf.15c5ac0e27ecfdae86500cfb3a451408.txt  \n",
      " extracting: /content/drive/MyDrive/crop/yolov8/train/labels/00742_jpg.rf.0b851b396eb1219249c0b15162b09c42.txt  \n",
      " extracting: /content/drive/MyDrive/crop/yolov8/train/labels/00746_jpg.rf.a2161d3081301b4a6d2748f62f629d7d.txt  \n",
      " extracting: /content/drive/MyDrive/crop/yolov8/train/labels/00747_jpg.rf.32d134e364d0f161a6f0cb92643eaec6.txt  \n",
      " extracting: /content/drive/MyDrive/crop/yolov8/train/labels/00748_jpg.rf.6a278900c61dc004fefe96ce60c9060f.txt  \n",
      " extracting: /content/drive/MyDrive/crop/yolov8/train/labels/00749_jpg.rf.7eb11172255a6c85923c0cf517c6fdfe.txt  \n",
      " extracting: /content/drive/MyDrive/crop/yolov8/train/labels/00765_jpg.rf.bb7c733a51b2e683bb3dc7db7d8b2f08.txt  \n",
      " extracting: /content/drive/MyDrive/crop/yolov8/train/labels/00767_jpg.rf.ef2a9662c250f51ba52fbd8237019446.txt  \n",
      " extracting: /content/drive/MyDrive/crop/yolov8/train/labels/00769_jpg.rf.1ed88e3e6cbe482c4d01d809f7a208bb.txt  \n",
      " extracting: /content/drive/MyDrive/crop/yolov8/train/labels/00774_jpg.rf.2ce6d39e8f2d51c3281572d1d0e8e150.txt  \n",
      " extracting: /content/drive/MyDrive/crop/yolov8/train/labels/00790_jpg.rf.4420440b75520d4d7bf8896e8c640303.txt  \n",
      " extracting: /content/drive/MyDrive/crop/yolov8/train/labels/00801_jpg.rf.2bc6ebc755ba41fef9ae599e5573cf86.txt  \n",
      " extracting: /content/drive/MyDrive/crop/yolov8/train/labels/00805_jpg.rf.6c6cbbfca09df17e3476d40498bf9fc1.txt  \n",
      " extracting: /content/drive/MyDrive/crop/yolov8/train/labels/00808_jpg.rf.b973d47d6912d9f3e69d85a118f69abe.txt  \n",
      " extracting: /content/drive/MyDrive/crop/yolov8/train/labels/00813_jpg.rf.7198a8aadb991231b7d4009ad4be27a6.txt  \n",
      " extracting: /content/drive/MyDrive/crop/yolov8/train/labels/00816_jpg.rf.3b0aceffd843752a50fdf18e0f77176d.txt  \n",
      " extracting: /content/drive/MyDrive/crop/yolov8/train/labels/00818_jpg.rf.7f99ddff8e4048c583c6e9f297c5f1bc.txt  \n",
      " extracting: /content/drive/MyDrive/crop/yolov8/train/labels/00819_jpg.rf.0fa4e4408baf4ad8f86d71f2620f982e.txt  \n",
      " extracting: /content/drive/MyDrive/crop/yolov8/train/labels/00820_jpg.rf.df897ba95dc658184f77ab44f87875ff.txt  \n",
      " extracting: /content/drive/MyDrive/crop/yolov8/train/labels/1000_F_407431057_UtfWgF7jPj79fyvOYinn7Tsfu2eQuKZE_jpg.rf.5d9ecd383a21fcce5e2ce26d3017686d.txt  \n",
      " extracting: /content/drive/MyDrive/crop/yolov8/train/labels/10_jpg.rf.a8dc045cd2f9c3b6d8ccef042f8dada7.txt  \n",
      " extracting: /content/drive/MyDrive/crop/yolov8/train/labels/12_jpg.rf.c26fedebd2bd28e06f07729965083b39.txt  \n",
      " extracting: /content/drive/MyDrive/crop/yolov8/train/labels/130287-before-image_jpeg.rf.bef3fdb757b9ba510ede9cf1d994a6cc.txt  \n",
      " extracting: /content/drive/MyDrive/crop/yolov8/train/labels/13_jpg.rf.12d955e949446091ac6f3f272d9e407f.txt  \n",
      " extracting: /content/drive/MyDrive/crop/yolov8/train/labels/14_jpg.rf.5dc3e9ff88dfe1f5c6f99950ca859d51.txt  \n",
      " extracting: /content/drive/MyDrive/crop/yolov8/train/labels/15_jpg.rf.905cf42dfcb7179e782b8bf8a511f304.txt  \n",
      " extracting: /content/drive/MyDrive/crop/yolov8/train/labels/1683557010653_jpg.rf.4a2e6eb9c971008bcc02bfe8a568cc0a.txt  \n",
      " extracting: /content/drive/MyDrive/crop/yolov8/train/labels/16_jpg.rf.108bd8ef55ccd5d76e47c604df085a48.txt  \n",
      " extracting: /content/drive/MyDrive/crop/yolov8/train/labels/17_jpg.rf.8372f8383e919794840055e66ec33da9.txt  \n",
      " extracting: /content/drive/MyDrive/crop/yolov8/train/labels/182fe0ef910b4914901ce0ed6af803f8_jpg.rf.7b4cfd21b4fc9cfd282c1e3aff9b53e6.txt  \n",
      " extracting: /content/drive/MyDrive/crop/yolov8/train/labels/189025_jpg.rf.54d41f497467170613969f4f03568354.txt  \n",
      " extracting: /content/drive/MyDrive/crop/yolov8/train/labels/19_jpg.rf.47bbee0e678c4e57d5b7eeb747be6402.txt  \n",
      " extracting: /content/drive/MyDrive/crop/yolov8/train/labels/2-3_jpg.rf.e83a609a993db24ce4371952ce59bc87.txt  \n",
      " extracting: /content/drive/MyDrive/crop/yolov8/train/labels/2-string-wheat-4-oif1do4m8g18cqn5ny1thlfh8mlqcgubbq20ybwoso_jpg.rf.098966a64c512f9ffb84338a8d1d1cbb.txt  \n",
      " extracting: /content/drive/MyDrive/crop/yolov8/train/labels/2017spring-waste-not-1optA_jpg.rf.004dc5e11ceb7e3ce063b3d729b9829f.txt  \n",
      " extracting: /content/drive/MyDrive/crop/yolov8/train/labels/20230622_172326_jpg.rf.8a6e9d8ea393124ad35dc2cbab7f9083.txt  \n",
      " extracting: /content/drive/MyDrive/crop/yolov8/train/labels/21_jpg.rf.f3d442b45a2b2c400480358eff16f131.txt  \n",
      " extracting: /content/drive/MyDrive/crop/yolov8/train/labels/23_jpg.rf.97e17652d96f0b201d42c54799614ad7.txt  \n",
      " extracting: /content/drive/MyDrive/crop/yolov8/train/labels/24_jpg.rf.3234f8a51e32c1af901798c99d805664.txt  \n",
      " extracting: /content/drive/MyDrive/crop/yolov8/train/labels/25_jpg.rf.1f26fd8757007e2f67a7f8574736b9ec.txt  \n",
      " extracting: /content/drive/MyDrive/crop/yolov8/train/labels/26_jpg.rf.57e018f55397841d763af55c21619b97.txt  \n",
      " extracting: /content/drive/MyDrive/crop/yolov8/train/labels/28_jpg.rf.bc56976fbd2f2c173c3e0c227f2a4841.txt  \n",
      " extracting: /content/drive/MyDrive/crop/yolov8/train/labels/29867428_1705680188_jpg.rf.9f97eeb808fb4d26c0910cc37d9bb107.txt  \n",
      " extracting: /content/drive/MyDrive/crop/yolov8/train/labels/29_jpg.rf.9d781b14080cceaa132257fa6c396098.txt  \n",
      " extracting: /content/drive/MyDrive/crop/yolov8/train/labels/2_jpg.rf.1f98372fcd6d55c9c565b43b2cfc0755.txt  \n",
      " extracting: /content/drive/MyDrive/crop/yolov8/train/labels/30_jpg.rf.ce9e31b1429a79e62913cfd0a7c7a693.txt  \n",
      " extracting: /content/drive/MyDrive/crop/yolov8/train/labels/31_jpg.rf.55f9d3dd39f3bdefa2690db4c4161c0a.txt  \n",
      " extracting: /content/drive/MyDrive/crop/yolov8/train/labels/32_jpg.rf.502655a0e6888345ba3df3265e8987cb.txt  \n",
      " extracting: /content/drive/MyDrive/crop/yolov8/train/labels/348s_jpg.rf.664b0ac96c892c208729a871602591d7.txt  \n",
      " extracting: /content/drive/MyDrive/crop/yolov8/train/labels/35_jpg.rf.802bff04d54cd37a86b4a84600eaa184.txt  \n",
      " extracting: /content/drive/MyDrive/crop/yolov8/train/labels/360_F_288121842_oey4mLF9YAzVNRcFyaEJjIxkuQufahfE_jpg.rf.30b630e42fc5a3fb54bcb72cd8b9b9b6.txt  \n",
      " extracting: /content/drive/MyDrive/crop/yolov8/train/labels/360_F_32059997_HzT7QS1yfhcIp1FYQRMsLckK3GfJ40qC_jpg.rf.36962a64f91b157a797734f0d77ce609.txt  \n",
      " extracting: /content/drive/MyDrive/crop/yolov8/train/labels/360_F_414644443_71rQd5Y5pzQ63tu5C61GXeORWOjtMmZJ_jpg.rf.e2aa09229da7facde2b7a7cb7389a6b2.txt  \n",
      " extracting: /content/drive/MyDrive/crop/yolov8/train/labels/360_F_515211232_lMF4n7w3AoMxELPjMMEClLzQcpRcRLLj_jpg.rf.4c67e5bc4de5c42c16532bf5dd100908.txt  \n",
      " extracting: /content/drive/MyDrive/crop/yolov8/train/labels/37573_1_jpg.rf.dd9961544b33f1da4ba048937491df9f.txt  \n",
      " extracting: /content/drive/MyDrive/crop/yolov8/train/labels/3_jpg.rf.e71b043ebcdddbc799e3c2f9d74ea29b.txt  \n",
      " extracting: /content/drive/MyDrive/crop/yolov8/train/labels/42744_1_jpg.rf.c4f3f1c48ced1e279638d707a4ed6aff.txt  \n",
      " extracting: /content/drive/MyDrive/crop/yolov8/train/labels/4_jpg.rf.7407bdfcbcc82dc32e6321d38bb379a8.txt  \n",
      " extracting: /content/drive/MyDrive/crop/yolov8/train/labels/5GHQCAVEE5RJZB54YDMHNXR7IQ_jpg.rf.85bae030a004a580bee48fbcc81a198f.txt  \n",
      " extracting: /content/drive/MyDrive/crop/yolov8/train/labels/5MNMDRZBKALKPLU2OSP5X3IV7M_jpg.rf.481c50f19fc4531f0380838d43cc8bc6.txt  \n",
      " extracting: /content/drive/MyDrive/crop/yolov8/train/labels/5_jpg.rf.3c3c8af160db079dcadc2bbeba2d425c.txt  \n",
      " extracting: /content/drive/MyDrive/crop/yolov8/train/labels/5d9f672144e50-image_jpg.rf.46e41affc3dfce0eec652e6c4b79f392.txt  \n",
      " extracting: /content/drive/MyDrive/crop/yolov8/train/labels/5edff99fe51497455cc8f8db48a38966_XL_jpg.rf.66b62bc31bcf5bdcda7735a4be6a674a.txt  \n",
      " extracting: /content/drive/MyDrive/crop/yolov8/train/labels/638036765484770000_jpg.rf.a6d9045deb44260d2606337834c0dad4.txt  \n",
      " extracting: /content/drive/MyDrive/crop/yolov8/train/labels/644638fd-08c6-48de-881b-1660ef852969-e889a2a_jpg.rf.fdcb36873dd1526e21464652943e58eb.txt  \n",
      " extracting: /content/drive/MyDrive/crop/yolov8/train/labels/6_jpg.rf.1a349e9a6c6ee6a95d0f396d808431c5.txt  \n",
      " extracting: /content/drive/MyDrive/crop/yolov8/train/labels/719VTcbYeeL-_AC_UF1000-1000_QL80__jpg.rf.8eccdf4c752139ccf4dc5c12b72035c1.txt  \n",
      " extracting: /content/drive/MyDrive/crop/yolov8/train/labels/7498571b98_jpg.rf.585da9ed1ae831a9235e05fc5c8c3130.txt  \n",
      " extracting: /content/drive/MyDrive/crop/yolov8/train/labels/7_jpg.rf.c6e1657173cb214f4dc915a6ac7d3fdc.txt  \n",
      " extracting: /content/drive/MyDrive/crop/yolov8/train/labels/86fafcc16cfb3eb0f77dd2397efad850_jpg.rf.ffeeb51c79acb15ed21448878c7bd31c.txt  \n",
      " extracting: /content/drive/MyDrive/crop/yolov8/train/labels/8cf631f09ff0ff636f2726e3ba8d51a1_jpeg.rf.d00367ed8691bb42ea7b6eea60b65c5b.txt  \n",
      " extracting: /content/drive/MyDrive/crop/yolov8/train/labels/9781410388308_00084_jpg.rf.b18212a3bd41aed1326b385faf4f0bf9.txt  \n",
      " extracting: /content/drive/MyDrive/crop/yolov8/train/labels/98349541-bent-palm-tree-dead-palm-dry-dead-palm-leaves-with-blue-vibrant-sky_jpg.rf.0aed86a536a9b95559722005f9f4a7fa.txt  \n",
      " extracting: /content/drive/MyDrive/crop/yolov8/train/labels/9_jpg.rf.c065bef3be1adccfc89253b64eb1b6eb.txt  \n",
      " extracting: /content/drive/MyDrive/crop/yolov8/train/labels/Bagasse_jpg.rf.8ff56463a271f27241fb1446d0622d7c.txt  \n",
      " extracting: /content/drive/MyDrive/crop/yolov8/train/labels/Coco-Husk_Blog_WW_1300x625_jpg.rf.95b3eebaab3ef37e8942f4342e97a507.txt  \n",
      " extracting: /content/drive/MyDrive/crop/yolov8/train/labels/Document_jpg.rf.e5fc5a08965759383b5776606608f797.txt  \n",
      " extracting: /content/drive/MyDrive/crop/yolov8/train/labels/FAO-officials-condemn-unnecessary-loss-and-waste-of-good-food_jpg.rf.af439f9ad6df88481135a2a5cfe947ff.txt  \n",
      " extracting: /content/drive/MyDrive/crop/yolov8/train/labels/Food-waste-EPA_jpg.rf.800065a6ba4927e4d9a85281131ca67f.txt  \n",
      " extracting: /content/drive/MyDrive/crop/yolov8/train/labels/Food-waste-pic1_jpg.rf.c9a53e80e60448a388a1f9fa15b67c41.txt  \n",
      " extracting: /content/drive/MyDrive/crop/yolov8/train/labels/IICT-s-initiative-to-turn-dry-leaves-into-soil-conditioner_jpg.rf.1e52d0c4734ae3bc5fc29f95d08671dd.txt  \n",
      " extracting: /content/drive/MyDrive/crop/yolov8/train/labels/Jessica-Toth-Image-1-Grocer_s-produce-dumpster-of-food-for-disposal-Solana_jpg.rf.3b22fb17aaaf455fcc3c3c2f45f6db3d.txt  \n",
      " extracting: /content/drive/MyDrive/crop/yolov8/train/labels/Madagascar_Deforestation_jpg.rf.ace26042866d614390b55400f50c7d76.txt  \n",
      " extracting: /content/drive/MyDrive/crop/yolov8/train/labels/NJ_Food-Waste_jpg.rf.15fb193732f5603ba8aaf9124e6cb12e.txt  \n",
      " extracting: /content/drive/MyDrive/crop/yolov8/train/labels/Net-Zero-Waste-Abbotsford-Air-Filter_jpg.rf.55295e03c81ae6a979ab30342739cf19.txt  \n",
      " extracting: /content/drive/MyDrive/crop/yolov8/train/labels/Oil-Palm-Tree-Wastes-5-Uses-of-the-palm-pressed-fiber_jpg.rf.b75085b62f48b0d294e3cdcd31ecdcca.txt  \n",
      " extracting: /content/drive/MyDrive/crop/yolov8/train/labels/OilPalmFiber027-1-_jpg.rf.5c44b1e172b4e3837b95ed5b30fd5411.txt  \n",
      " extracting: /content/drive/MyDrive/crop/yolov8/train/labels/Organic-waste-recycled-scaled-1-1-_jpeg.rf.64fad0d72a29c5f3d7a041bd462e4de3.txt  \n",
      " extracting: /content/drive/MyDrive/crop/yolov8/train/labels/Palm-Tree-Waste-4-1_jpg.rf.e01aa3109ba4acb7905b0255c5ae9f0e.txt  \n",
      " extracting: /content/drive/MyDrive/crop/yolov8/train/labels/Tree-Farm-Licence-44-wood-waste_TJ_Watt_jpg.rf.1d7d5ef2a3c0baea2dc4817bfa38cdac.txt  \n",
      " extracting: /content/drive/MyDrive/crop/yolov8/train/labels/WHEAT-STRAW-_jpg.rf.211077b28bc6ed93778a9331b048bd8d.txt  \n",
      " extracting: /content/drive/MyDrive/crop/yolov8/train/labels/a_jpg.rf.5fdbb612a74fdc04568a1cf28a3e1794.txt  \n",
      " extracting: /content/drive/MyDrive/crop/yolov8/train/labels/agricultural-field-with-corn-photo_jpg.rf.5b89f4181237d1ff60b4a63564794dd9.txt  \n",
      " extracting: /content/drive/MyDrive/crop/yolov8/train/labels/b_jpg.rf.64a5e8d6bb4ef6dac24e5862d47df748.txt  \n",
      " extracting: /content/drive/MyDrive/crop/yolov8/train/labels/bagasse-300x207_jpeg.rf.2758ee2a30b823d7e4cb0520eb2fc804.txt  \n",
      " extracting: /content/drive/MyDrive/crop/yolov8/train/labels/bagasses_jpg.rf.ecbe46b7373b9a36ad2dd7369fd67b44.txt  \n",
      " extracting: /content/drive/MyDrive/crop/yolov8/train/labels/c_jpg.rf.c8924013dc21e8671148fe905e4dddb4.txt  \n",
      " extracting: /content/drive/MyDrive/crop/yolov8/train/labels/christmas-tree-old-1024x683_jpeg.rf.aa0f015afdf2b580b381ac010e8f1a64.txt  \n",
      " extracting: /content/drive/MyDrive/crop/yolov8/train/labels/close-up-of-dry-banana-leaves-or-banana-plant-free-photo_jpg.rf.8dd2320fb2e9621a29fca497a472b33c.txt  \n",
      " extracting: /content/drive/MyDrive/crop/yolov8/train/labels/closeup-palm-trunk-steam-texture-natural-tropical-background_97889-441_jpg.rf.9fccd06d4678bf597222e39afd63de00.txt  \n",
      " extracting: /content/drive/MyDrive/crop/yolov8/train/labels/coconut-shell-waste-1662969020-6534537_jpeg.rf.ed179371af19b1a4407cdd59eee5411f.txt  \n",
      " extracting: /content/drive/MyDrive/crop/yolov8/train/labels/compost-heap-irc-1024x683_jpg.rf.34f6259bebe4c4e6b2a9e8e449eed3d8.txt  \n",
      " extracting: /content/drive/MyDrive/crop/yolov8/train/labels/compost-layers-1024x681_jpg.rf.037e360dd0027308b6804ecccc88290e.txt  \n",
      " extracting: /content/drive/MyDrive/crop/yolov8/train/labels/compost_intro_image3259135916375310554_jpg.rf.a646a528bf2be4b6f760bd6c2846a381.txt  \n",
      " extracting: /content/drive/MyDrive/crop/yolov8/train/labels/composting-waste_jpg.rf.74a72fc0be3262503b5d769d8f0833a2.txt  \n",
      " extracting: /content/drive/MyDrive/crop/yolov8/train/labels/cornwall-r-transformando-o-residuo-do-milho-em-um-material-inovador-de-base-biologica_6_jpg.rf.dcb26e78cc5973185b36ba5763e0b38f.txt  \n",
      " extracting: /content/drive/MyDrive/crop/yolov8/train/labels/depositphotos_466922904-stock-photo-vertical-shot-broken-tree-barks_jpg.rf.04d644d9bbb3e4bcf050b1cc7d4dd19b.txt  \n",
      " extracting: /content/drive/MyDrive/crop/yolov8/train/labels/depositphotos_697441596-stock-photo-tree-sections-plant-waste-wood_jpg.rf.d47986bed6f37154b4dc928b9d7fdcfd.txt  \n",
      " extracting: /content/drive/MyDrive/crop/yolov8/train/labels/depositphotos_83363910-stock-photo-tree-branches_jpg.rf.3eb3c844893e3ec477f0b9e3e2152d93.txt  \n",
      " extracting: /content/drive/MyDrive/crop/yolov8/train/labels/discarded-carrots-left-left-in-field-after-harvest-FF0CYK_jpg.rf.4ff772940470d3267e6b01523c6b312e.txt  \n",
      " extracting: /content/drive/MyDrive/crop/yolov8/train/labels/download-3-_jpg.rf.8bcb852fad5f923ffb9586f500a111cf.txt  \n",
      " extracting: /content/drive/MyDrive/crop/yolov8/train/labels/dwqq9mr7p6281_jpg.rf.fe5d61b058ed48fbf16ed21313640742.txt  \n",
      " extracting: /content/drive/MyDrive/crop/yolov8/train/labels/empty-fruit-bunch_jpg.rf.f0c7089be5838e6a0a0a79aca4fd3eae.txt  \n",
      " extracting: /content/drive/MyDrive/crop/yolov8/train/labels/emptyfruitbunch_jpg.rf.90a6d72a8add1b36391405094cbd91ca.txt  \n",
      " extracting: /content/drive/MyDrive/crop/yolov8/train/labels/engineered-yeast-turn-agricultural-waste-into-biofuels-and-more-376484-640x360_jpg.rf.d7d1f75fd4a7a19bc8d8f90fb823c58d.txt  \n",
      " extracting: /content/drive/MyDrive/crop/yolov8/train/labels/everything-you-need-to-know-about-composting-garden-getty-0523-a926f282527a47d0a76ffd792247ec9a_jpg.rf.78ad5bf13ba56a6d8554345e86d64443.txt  \n",
      " extracting: /content/drive/MyDrive/crop/yolov8/train/labels/f46837222f3be6274635dd457d4184c9_jpg.rf.5bb243692a76c639809355c410e0dda8.txt  \n",
      " extracting: /content/drive/MyDrive/crop/yolov8/train/labels/f_jpg.rf.e8b3082411050c0b3a8221ee933c9b88.txt  \n",
      " extracting: /content/drive/MyDrive/crop/yolov8/train/labels/facilities_24_jpg.rf.9114ba43ce99ef73c5889fdf8e25f68c.txt  \n",
      " extracting: /content/drive/MyDrive/crop/yolov8/train/labels/food_scraps_pile_jpg.rf.31e3208575764056f906eafd75e6d113.txt  \n",
      " extracting: /content/drive/MyDrive/crop/yolov8/train/labels/food_waste_on_ground_jpg.rf.a92f7891f29af24e9382b08646ba3a51.txt  \n",
      " extracting: /content/drive/MyDrive/crop/yolov8/train/labels/g_jpg.rf.9847b0293a412d4fab03286b538a15f2.txt  \n",
      " extracting: /content/drive/MyDrive/crop/yolov8/train/labels/garden-waste-in-the-backyard_jpg.rf.7073c5300706b3f381a3d5b988925c16.txt  \n",
      " extracting: /content/drive/MyDrive/crop/yolov8/train/labels/gehakseld_tarwestro_groot_jpg.rf.30bec30569209208d48364a91aadfc26.txt  \n",
      " extracting: /content/drive/MyDrive/crop/yolov8/train/labels/h5pn3iq79t031_jpg.rf.76f63a7cd706341e3f55ebda9f251d96.txt  \n",
      " extracting: /content/drive/MyDrive/crop/yolov8/train/labels/h_jpg.rf.e3bd30b9b44512f9f422accf3a594f39.txt  \n",
      " extracting: /content/drive/MyDrive/crop/yolov8/train/labels/holihavmj327z36242d3b0349c9_jpg.rf.d897e8716d69bcb2482512927457565e.txt  \n",
      " extracting: /content/drive/MyDrive/crop/yolov8/train/labels/image-35469-green-palm-farms-saudi-arabia-beauty-palm-trees-beautiful-search_large_jpg.rf.f57bf90c2918cc93b20e8f340a84c208.txt  \n",
      " extracting: /content/drive/MyDrive/crop/yolov8/train/labels/image_750x_5e5a5b984db0b_jpg.rf.73337884dd0673ac1732ca6fc966de8e.txt  \n",
      " extracting: /content/drive/MyDrive/crop/yolov8/train/labels/image_750x_5eac1e63bfe29_jpg.rf.bd35ebf6dee9cabcfcf7890cd2162e24.txt  \n",
      " extracting: /content/drive/MyDrive/crop/yolov8/train/labels/images-1-_jpg.rf.21b17cfeeb56a655bca99a73a1fbfd1a.txt  \n",
      " extracting: /content/drive/MyDrive/crop/yolov8/train/labels/images-3-_jpg.rf.1dcc327d7484895ff6c5aceb27a7b9f9.txt  \n",
      " extracting: /content/drive/MyDrive/crop/yolov8/train/labels/images-4-_jpg.rf.7584370366ff9b933ca37cb1e75b6d4a.txt  \n",
      " extracting: /content/drive/MyDrive/crop/yolov8/train/labels/images-5-_jpg.rf.f4a6a50660a5fefeb1032df4f4b07b67.txt  \n",
      " extracting: /content/drive/MyDrive/crop/yolov8/train/labels/images-6-_jpg.rf.9bbbb84b1bb1e37ec17ae5461a1acd58.txt  \n",
      " extracting: /content/drive/MyDrive/crop/yolov8/train/labels/images-8-_jpg.rf.fcfaadee939bd5ef04780a4ba2258758.txt  \n",
      " extracting: /content/drive/MyDrive/crop/yolov8/train/labels/istockphoto-1221147234-612x612_jpg.rf.f9f53498736109e860cdd598b6618427.txt  \n",
      " extracting: /content/drive/MyDrive/crop/yolov8/train/labels/istockphoto-1302362708-612x612_jpg.rf.caf5b50a746bded695b27016dbbbfa36.txt  \n",
      " extracting: /content/drive/MyDrive/crop/yolov8/train/labels/istockphoto-1312046155-612x612_jpg.rf.dc59adb5649c4d47ab2ac008326f9e96.txt  \n",
      " extracting: /content/drive/MyDrive/crop/yolov8/train/labels/istockphoto-1313936811-612x612_jpg.rf.b3c3098b27bb6d0ed322e1dfbd578f3f.txt  \n",
      " extracting: /content/drive/MyDrive/crop/yolov8/train/labels/istockphoto-1351818643-170667a_jpg.rf.0fb3fbaac20ee35d4fd253e3289dee84.txt  \n",
      " extracting: /content/drive/MyDrive/crop/yolov8/train/labels/istockphoto-1424540849-612x612_jpg.rf.7084c851c6a6472e5a4f60696c9007fe.txt  \n",
      " extracting: /content/drive/MyDrive/crop/yolov8/train/labels/istockphoto-1425232271-612x612_jpg.rf.19e4a13e6a03a4c7cf300f43d981018e.txt  \n",
      " extracting: /content/drive/MyDrive/crop/yolov8/train/labels/istockphoto-1492025718-612x612_jpg.rf.278734c8ca21d77e8f3e8e0bca2c42e8.txt  \n",
      " extracting: /content/drive/MyDrive/crop/yolov8/train/labels/istockphoto-504305466-612x612_jpg.rf.a860981dd4fa7f2546c0748a8f2312da.txt  \n",
      " extracting: /content/drive/MyDrive/crop/yolov8/train/labels/istockphoto-544796392-612x612_jpg.rf.0d87ccff7f89f234467b129137f85c71.txt  \n",
      " extracting: /content/drive/MyDrive/crop/yolov8/train/labels/istockphoto-868730660-612x612_jpg.rf.81da1cec3b82af242cc581138adbcfd4.txt  \n",
      " extracting: /content/drive/MyDrive/crop/yolov8/train/labels/j_jpg.rf.4542dbe07a86df5bb85e6ea021896582.txt  \n",
      " extracting: /content/drive/MyDrive/crop/yolov8/train/labels/kucha-derevyannyh-palok-ili-vetok-0003231484-preview_jpg.rf.d3a36d1ef34db6bab6dea3e2eb2f3a90.txt  \n",
      " extracting: /content/drive/MyDrive/crop/yolov8/train/labels/l_jpg.rf.c26578fc091bb55712a53f844e678d25.txt  \n",
      " extracting: /content/drive/MyDrive/crop/yolov8/train/labels/limbah-batang-sawit_jpg.rf.d6a68fc8f9e511f306e3c331753c3078.txt  \n",
      " extracting: /content/drive/MyDrive/crop/yolov8/train/labels/m_jpg.rf.36da2b4cfc3943dc9fe20c4a578607b1.txt  \n",
      " extracting: /content/drive/MyDrive/crop/yolov8/train/labels/main-qimg-c605e14c95cf2cdf378a8c651e016f1a-pjlq_jpg.rf.4181850420e8b99336b5f3e463bce047.txt  \n",
      " extracting: /content/drive/MyDrive/crop/yolov8/train/labels/main-qimg-ece593a68ae3e8daf0af2c7e3e53d8cd-lq_jpg.rf.247760cddd2e6b940de7268af388971e.txt  \n",
      " extracting: /content/drive/MyDrive/crop/yolov8/train/labels/maize-waste_jpg.rf.3e34fa8fc51a43420d12e56d914465bd.txt  \n",
      " extracting: /content/drive/MyDrive/crop/yolov8/train/labels/maxresdefault_jpg.rf.65f35c7a2854cd2e331dce0d564e1204.txt  \n",
      " extracting: /content/drive/MyDrive/crop/yolov8/train/labels/model2bio-supports-reuse-of-food-industry-waste-streams-2000x1200_jpg.rf.c99a002fc620c73a563d5e654786a513.txt  \n",
      " extracting: /content/drive/MyDrive/crop/yolov8/train/labels/mqdefault_jpg.rf.2165bee78e71c7c58c81e833aefbf3c7.txt  \n",
      " extracting: /content/drive/MyDrive/crop/yolov8/train/labels/n_jpg.rf.7b95937f289a002567c713d0eb35ea77.txt  \n",
      " extracting: /content/drive/MyDrive/crop/yolov8/train/labels/o_jpg.rf.21164f4190a7d851a2b603c4df43a01f.txt  \n",
      " extracting: /content/drive/MyDrive/crop/yolov8/train/labels/oilpalm01_jpg.rf.55ddb281d5a86c368816b304cb9a1e25.txt  \n",
      " extracting: /content/drive/MyDrive/crop/yolov8/train/labels/ompost_jpg.rf.280238f0c890364a7a82992196d5c73f.txt  \n",
      " extracting: /content/drive/MyDrive/crop/yolov8/train/labels/organic-fertilizers-rife-with-microplastics-study-t_jpg.rf.fd6659a73092b8e0950f454b1a7c1c3e.txt  \n",
      " extracting: /content/drive/MyDrive/crop/yolov8/train/labels/orgfarm_recycling-of-farm-waste_clip_image002_jpg.rf.cc7253c5640c3f06fa238d439ea1e249.txt  \n",
      " extracting: /content/drive/MyDrive/crop/yolov8/train/labels/original_jpg.rf.f8607f2790636f0f3f32de9909699340.txt  \n",
      " extracting: /content/drive/MyDrive/crop/yolov8/train/labels/p_jpg.rf.ffba0f2a8b5e66b755719c04c020bd17.txt  \n",
      " extracting: /content/drive/MyDrive/crop/yolov8/train/labels/palm-fronds-1-800_jpg.rf.2fd830cb33b3ee234abc42f69dd1f8a8.txt  \n",
      " extracting: /content/drive/MyDrive/crop/yolov8/train/labels/palm-tree-fronds-tim-hester_jpg.rf.58c9f7879e0a73556df47db3e6d38a15.txt  \n",
      " extracting: /content/drive/MyDrive/crop/yolov8/train/labels/pasted-ivkvhjkvhjkhjkmage-0_jpg.rf.839ee3286f0a51ade24b46c4f7c72a7c.txt  \n",
      " extracting: /content/drive/MyDrive/crop/yolov8/train/labels/pexels-yan-krukov-5479034_jpg.rf.17ce9083fe893208d1e4811bdd73cbfc.txt  \n",
      " extracting: /content/drive/MyDrive/crop/yolov8/train/labels/pngtree-compost-heap-outside-with-vegetables-and-seeds-picture-image_2791222_jpg.rf.45d6ef58217c608cef2c65385e7f724c.txt  \n",
      " extracting: /content/drive/MyDrive/crop/yolov8/train/labels/principal_jpeg.rf.639dd43cb644847cadd9d7e117c39674.txt  \n",
      " extracting: /content/drive/MyDrive/crop/yolov8/train/labels/q_jpg.rf.69168b18d5d9c87de017dc7a3920154d.txt  \n",
      " extracting: /content/drive/MyDrive/crop/yolov8/train/labels/r_jpg.rf.85a3033bb442726bd38fb8ab8f390591.txt  \n",
      " extracting: /content/drive/MyDrive/crop/yolov8/train/labels/reducing-food-waste-1_jpg.rf.651ca166bd5c82d07fa59ed6337360f6.txt  \n",
      " extracting: /content/drive/MyDrive/crop/yolov8/train/labels/s_jpg.rf.3c8959b988e805a75f78719752244aa9.txt  \n",
      " extracting: /content/drive/MyDrive/crop/yolov8/train/labels/sdbej0h_Thumb_thumb_jpg.rf.ecef86e46caede374fdf6bff43a84aee.txt  \n",
      " extracting: /content/drive/MyDrive/crop/yolov8/train/labels/shutterstock_1392829997_resized_jpg.rf.8046f1642f5b19bc16d68a05e38be607.txt  \n",
      " extracting: /content/drive/MyDrive/crop/yolov8/train/labels/shutterstock_2195383459_jpg.rf.5de9891b6ddf8b96bde34d29719e6939.txt  \n",
      " extracting: /content/drive/MyDrive/crop/yolov8/train/labels/stock-photo-a-fallen-dry-tree-the-branches-stick-out-different-sides-1739808293_jpg.rf.2f4af5a2f1fe1a8b28932f491c420592.txt  \n",
      " extracting: /content/drive/MyDrive/crop/yolov8/train/labels/stopfoodwasteday_jpeg.rf.33b8797f633d756393929091afbf4bbb.txt  \n",
      " extracting: /content/drive/MyDrive/crop/yolov8/train/labels/stubblefield2_jpg.rf.8bbc90ac5f402a3c24cb86df7578f8fe.txt  \n",
      " extracting: /content/drive/MyDrive/crop/yolov8/train/labels/sugarcane-bagasse-1616574825-5765719_jpeg.rf.33c2ec20bb5cdcbbe61ddd14bf4e21c6.txt  \n",
      " extracting: /content/drive/MyDrive/crop/yolov8/train/labels/sugarcane-waste_20180255500_jpg.rf.f8f77d363a8fe9b30842519436d7a5db.txt  \n",
      " extracting: /content/drive/MyDrive/crop/yolov8/train/labels/sugarcane_bagasse_cuba_jpg.rf.c8aefa384b0dfbede3517a0d3fea7fe3.txt  \n",
      " extracting: /content/drive/MyDrive/crop/yolov8/train/labels/t_jpg.rf.b6430d2e91ac8afff3efdb75694abcf3.txt  \n",
      " extracting: /content/drive/MyDrive/crop/yolov8/train/labels/trash-bell-138_jpg.rf.6e879b970b38aac9da5ec886c12eb436.txt  \n",
      " extracting: /content/drive/MyDrive/crop/yolov8/train/labels/u_jpg.rf.eab0ca90214bb4ad72b4f64c0415da6e.txt  \n",
      " extracting: /content/drive/MyDrive/crop/yolov8/train/labels/v_jpg.rf.7f7f55dbb2eb01827aa7db77e5aabd60.txt  \n",
      " extracting: /content/drive/MyDrive/crop/yolov8/train/labels/vam_output_16-JPG-1ed43de33dc07b74_jpeg.rf.130b76d51fda4d2804d784299aa04ce3.txt  \n",
      " extracting: /content/drive/MyDrive/crop/yolov8/train/labels/w_jpg.rf.78a2f6670ad92a7ff442e469b811aa33.txt  \n",
      " extracting: /content/drive/MyDrive/crop/yolov8/train/labels/waste-left-after-harvest-and-some-corn-cobs-E5BW8M_jpg.rf.7a37d4d8ff2b7d7ab72d19089d77c5b3.txt  \n",
      " extracting: /content/drive/MyDrive/crop/yolov8/train/labels/wheat-straw-1558932302-4925459_jpeg.rf.040941c34bd8278fbfd5292b7a49a61f.txt  \n",
      " extracting: /content/drive/MyDrive/crop/yolov8/train/labels/wood_materials_jpg.rf.468fad69665f4349122677efb0465a6b.txt  \n",
      " extracting: /content/drive/MyDrive/crop/yolov8/train/labels/y_jpg.rf.36e72a05a248ec02d44303c5e3c5d086.txt  \n",
      " extracting: /content/drive/MyDrive/crop/yolov8/train/labels/yard-cleanup-and-waste-removal-service-company-orange-county-ny_jpg.rf.9588005f2b10b7f3b6ba8c5a9e80c6e4.txt  \n",
      " extracting: /content/drive/MyDrive/crop/yolov8/train/labels/z_jpg.rf.9737657dac6a5383f16876fe3c4d093c.txt  \n",
      "   creating: /content/drive/MyDrive/crop/yolov8/valid/\n",
      "   creating: /content/drive/MyDrive/crop/yolov8/valid/images/\n",
      " extracting: /content/drive/MyDrive/crop/yolov8/valid/images/00002_jpg.rf.d05a19e2eca1ee4467d603555d0fe533.jpg  \n",
      " extracting: /content/drive/MyDrive/crop/yolov8/valid/images/00006_jpg.rf.f5bdd9348d99121c8041c4ca5c00e199.jpg  \n",
      " extracting: /content/drive/MyDrive/crop/yolov8/valid/images/00009_jpg.rf.3243d94a489f5c5aa4742fa0363407e2.jpg  \n",
      " extracting: /content/drive/MyDrive/crop/yolov8/valid/images/00013_jpg.rf.9d17245e4eb68cbea8cade59ea260a8e.jpg  \n",
      " extracting: /content/drive/MyDrive/crop/yolov8/valid/images/00046_jpg.rf.cbc300abd986c6f381bda0a1c040252c.jpg  \n",
      " extracting: /content/drive/MyDrive/crop/yolov8/valid/images/00058_jpg.rf.2eb7a97f41f2af28c3ea94ab9809ab35.jpg  \n",
      " extracting: /content/drive/MyDrive/crop/yolov8/valid/images/00070_jpg.rf.7be7986a92768e8b5aed47a438e69efb.jpg  \n",
      " extracting: /content/drive/MyDrive/crop/yolov8/valid/images/00073_jpg.rf.233b7f7536fa63975543d28482bff5dd.jpg  \n",
      " extracting: /content/drive/MyDrive/crop/yolov8/valid/images/00135_jpg.rf.693d67a7c20755524f177d793d3a557a.jpg  \n",
      " extracting: /content/drive/MyDrive/crop/yolov8/valid/images/00137_jpg.rf.59bc174500254bf04000b7b60a73c39b.jpg  \n",
      " extracting: /content/drive/MyDrive/crop/yolov8/valid/images/00138_jpg.rf.8a152c6875e0d00731746c2c383fc434.jpg  \n",
      " extracting: /content/drive/MyDrive/crop/yolov8/valid/images/00146_jpg.rf.7d0220f441d75fa8a4127734d62f7aff.jpg  \n",
      " extracting: /content/drive/MyDrive/crop/yolov8/valid/images/00154_jpg.rf.dba2b56bef42d61b78ab671d615acdd3.jpg  \n",
      " extracting: /content/drive/MyDrive/crop/yolov8/valid/images/00224_jpg.rf.551ff865539798f0049aac6e88d34cdb.jpg  \n",
      " extracting: /content/drive/MyDrive/crop/yolov8/valid/images/00238_jpg.rf.9011c6e1975e831169e4ddb36eb38961.jpg  \n",
      " extracting: /content/drive/MyDrive/crop/yolov8/valid/images/00261_jpg.rf.d679f9b55ceb9ad6c67f136d85a2e3c0.jpg  \n",
      " extracting: /content/drive/MyDrive/crop/yolov8/valid/images/00298_jpg.rf.b27c0f9578af65722dd0c0ac19e9062e.jpg  \n",
      " extracting: /content/drive/MyDrive/crop/yolov8/valid/images/00311_jpg.rf.63b71032b55da8adb8095bb06e016a48.jpg  \n",
      " extracting: /content/drive/MyDrive/crop/yolov8/valid/images/00320_jpg.rf.4e619f45cc7acd9877ccbef302ca8922.jpg  \n",
      " extracting: /content/drive/MyDrive/crop/yolov8/valid/images/00332_jpg.rf.1566f341832ceed169e3d18d8350e6d9.jpg  \n",
      " extracting: /content/drive/MyDrive/crop/yolov8/valid/images/00359_jpg.rf.2b049c67ae8e2c64bac85395bbd4b9c0.jpg  \n",
      " extracting: /content/drive/MyDrive/crop/yolov8/valid/images/00389_jpg.rf.9957281416b25e005531e185a35b38a9.jpg  \n",
      " extracting: /content/drive/MyDrive/crop/yolov8/valid/images/00477_jpg.rf.16f440806f84a6a6158951269a2d9897.jpg  \n",
      " extracting: /content/drive/MyDrive/crop/yolov8/valid/images/00501_jpg.rf.6000d5a9500973fe703517ef02719ce7.jpg  \n",
      " extracting: /content/drive/MyDrive/crop/yolov8/valid/images/00513_jpg.rf.4be973250e052104a74f3d8d43ab832c.jpg  \n",
      " extracting: /content/drive/MyDrive/crop/yolov8/valid/images/00570_jpg.rf.e435452469670a250b534dc467c7941c.jpg  \n",
      " extracting: /content/drive/MyDrive/crop/yolov8/valid/images/00695_jpg.rf.19ac9546fb0e08813defd336a56a9a5a.jpg  \n",
      " extracting: /content/drive/MyDrive/crop/yolov8/valid/images/00744_jpg.rf.163fa36b7779a91cae1dff10aac598e0.jpg  \n",
      " extracting: /content/drive/MyDrive/crop/yolov8/valid/images/00792_jpg.rf.1b9957dd4499467cc93d664ccfbdf568.jpg  \n",
      " extracting: /content/drive/MyDrive/crop/yolov8/valid/images/00796_jpg.rf.cb1115ff08480222dc0001a566343f21.jpg  \n",
      " extracting: /content/drive/MyDrive/crop/yolov8/valid/images/1000_F_560431999_2XIdtSrldyDkzComXgfwOIgqa2qjCv7E_jpg.rf.1c93ed1f2d16ddf32b694ab2cf1399d4.jpg  \n",
      " extracting: /content/drive/MyDrive/crop/yolov8/valid/images/11_jpg.rf.e040004d87db47d39348a9b62ed1c38a.jpg  \n",
      " extracting: /content/drive/MyDrive/crop/yolov8/valid/images/127-195350-fighting-pollution-fuel-shortages-clean-energy-4_jpeg.rf.2796cb01939e400454c1a31f9cf3de32.jpg  \n",
      " extracting: /content/drive/MyDrive/crop/yolov8/valid/images/140901-17503434_jpg.rf.cd4d895b66f10b0c4f03f31b48aa7bb3.jpg  \n",
      " extracting: /content/drive/MyDrive/crop/yolov8/valid/images/14b3e6b9-8f07-449e-be71-f017b27693e6_jpg.rf.538bef1a62549cf8d8ff1f513d349479.jpg  \n",
      " extracting: /content/drive/MyDrive/crop/yolov8/valid/images/18_jpg.rf.53f13baf5ced16233907e5f1d3b1a710.jpg  \n",
      " extracting: /content/drive/MyDrive/crop/yolov8/valid/images/1_jpg.rf.e1670fdd044209e4bb7de2801a18b07f.jpg  \n",
      " extracting: /content/drive/MyDrive/crop/yolov8/valid/images/20_jpg.rf.7e211c66ba73ed42b0df20dd6ed90281.jpg  \n",
      " extracting: /content/drive/MyDrive/crop/yolov8/valid/images/21987222-wastes-composed-of-plant-and-household-waste-in-a-bin_jpg.rf.441091284b00c1f1fb90395793ab09d8.jpg  \n",
      " extracting: /content/drive/MyDrive/crop/yolov8/valid/images/22_jpg.rf.dff5e74053e661ad7fb9e4df0870cc5d.jpg  \n",
      " extracting: /content/drive/MyDrive/crop/yolov8/valid/images/27_jpg.rf.591959a3a435e3f0ea68d9446d4ddfe6.jpg  \n",
      " extracting: /content/drive/MyDrive/crop/yolov8/valid/images/33_jpg.rf.f4e45b457a3b95e9b73dc8e4ae467303.jpg  \n",
      " extracting: /content/drive/MyDrive/crop/yolov8/valid/images/34_jpg.rf.93511a3f4945993325a4b9f5e5f47cd4.jpg  \n",
      " extracting: /content/drive/MyDrive/crop/yolov8/valid/images/36_jpg.rf.981232364ec63523f30eae05c148e85c.jpg  \n",
      " extracting: /content/drive/MyDrive/crop/yolov8/valid/images/37_jpg.rf.cab65c18ef88e4b7ce22ddffc48e111b.jpg  \n",
      " extracting: /content/drive/MyDrive/crop/yolov8/valid/images/51062846001_49f4cea7fb_z_jpg.rf.258ea90d672ebe7debdca11873ebd4e7.jpg  \n",
      " extracting: /content/drive/MyDrive/crop/yolov8/valid/images/8_jpg.rf.f8a805ab96a7773cf4a782b453124eea.jpg  \n",
      " extracting: /content/drive/MyDrive/crop/yolov8/valid/images/8c5010f0-9b1c-42fb-99cf-e1cd9c3836c0-largeScale_thumbnail_Image4_jpg.rf.dbbf8683cc0489e51e378d7fe796c437.jpg  \n",
      " extracting: /content/drive/MyDrive/crop/yolov8/valid/images/DSA06898ekrb789_jpg.rf.b21bd5434efbfd255ac4f52c78d3796b.jpg  \n",
      " extracting: /content/drive/MyDrive/crop/yolov8/valid/images/EwnwCUoWYA8rzyW_jpg.rf.7f51a4a1446ba464e0df8cc741f66978.jpg  \n",
      " extracting: /content/drive/MyDrive/crop/yolov8/valid/images/HeroSeekingChemicalBuilding_0_jpg.rf.e762434dbbed4c81df2603d45d6192cd.jpg  \n",
      " extracting: /content/drive/MyDrive/crop/yolov8/valid/images/IMG_8283-1024x683_jpg.rf.1254fd4fb65f74afa60ab135fb8e727a.jpg  \n",
      " extracting: /content/drive/MyDrive/crop/yolov8/valid/images/Sugarcane_Trash_jpg.rf.300bc1bf8e346c63c24b8498824802e4.jpg  \n",
      " extracting: /content/drive/MyDrive/crop/yolov8/valid/images/Waste_To_Wealth_Bhubaneswar-based_Artist_Crafts_Accessories_Items_Of_Decor_Using_Waste_Coconut_Shells_istock_660x30_jpg.rf.1ba28f350534129eaaba3df98e6e8f4b.jpg  \n",
      " extracting: /content/drive/MyDrive/crop/yolov8/valid/images/Waste_wood_crushed-scaled_jpg.rf.85692d2b12b2044d504ae82424696930.jpg  \n",
      " extracting: /content/drive/MyDrive/crop/yolov8/valid/images/Wasted-veggies-950_jpg.rf.2d0b16bde8df923f8f0bc3e5f10c6738.jpg  \n",
      " extracting: /content/drive/MyDrive/crop/yolov8/valid/images/a-Sustainable-Way-to-Manage-Organic-Waste_jpg.rf.23ff9864c797454b99f8fc5c2450d49a.jpg  \n",
      " extracting: /content/drive/MyDrive/crop/yolov8/valid/images/bigstock-Residue-From-Sugar-Cane-Juice-275035999_jpg.rf.6dcbd46bd9670e29ba0adc5908f3435a.jpg  \n",
      " extracting: /content/drive/MyDrive/crop/yolov8/valid/images/corn-stubble-with-frost-dsc00023-rl-edit-800x600_jpg.rf.55181a22d738e785ccbffa77ef8e10cb.jpg  \n",
      " extracting: /content/drive/MyDrive/crop/yolov8/valid/images/d149cead1a312d7d6a1345311de1b4fe_jpeg.rf.c90f2a5c0ba2cad386980e64ce3655fa.jpg  \n",
      " extracting: /content/drive/MyDrive/crop/yolov8/valid/images/depositphotos_124511218-stock-photo-palm-bark-texture-nature-background_jpg.rf.142a9fbfa4f783eeb7ed9d9538c887ff.jpg  \n",
      " extracting: /content/drive/MyDrive/crop/yolov8/valid/images/depositphotos_7438293-stock-photo-coconut-palm-cocos-nucifera-trunk_jpg.rf.8b0aa2bfde883a287def72f4a9619aeb.jpg  \n",
      " extracting: /content/drive/MyDrive/crop/yolov8/valid/images/download-1-_jpg.rf.c74f93904b235fba9d49f4dd6a6f451a.jpg  \n",
      " extracting: /content/drive/MyDrive/crop/yolov8/valid/images/e_jpg.rf.4afe68546a2e81a81e901e62fd04dbce.jpg  \n",
      " extracting: /content/drive/MyDrive/crop/yolov8/valid/images/edited_compostingboy_jpg.rf.2a2d30ec0a44fc264e0e2044e60ad407.jpg  \n",
      " extracting: /content/drive/MyDrive/crop/yolov8/valid/images/fa99f4e190f4d5758cb95ce3af8b7a2609eb852a_jpg.rf.d0a9683f036e498c9cc14b1252472643.jpg  \n",
      " extracting: /content/drive/MyDrive/crop/yolov8/valid/images/i285134164461510091-_szw480h1280__jpg.rf.945691c6a64edda05294a0225b74a306.jpg  \n",
      " extracting: /content/drive/MyDrive/crop/yolov8/valid/images/i_jpg.rf.cb9ccbd10b71ee149c3044df471ac5fd.jpg  \n",
      " extracting: /content/drive/MyDrive/crop/yolov8/valid/images/image1_jpg.rf.2cfe941afc8deee835ce90eeb09df833.jpg  \n",
      " extracting: /content/drive/MyDrive/crop/yolov8/valid/images/images-7-_jpg.rf.425819fe249c7a6fbfc1ffbbaf77a768.jpg  \n",
      " extracting: /content/drive/MyDrive/crop/yolov8/valid/images/istockphoto-1438352232-612x612_jpg.rf.36ddf20c68c39b46dc32a2137d260371.jpg  \n",
      " extracting: /content/drive/MyDrive/crop/yolov8/valid/images/k_jpg.rf.64446e161123c1c50e7beced7ce8dd20.jpg  \n",
      " extracting: /content/drive/MyDrive/crop/yolov8/valid/images/kitchen-waste-added-to-a-compost-pile-TA35P6_jpg.rf.bd3d451f8c27f837c88028b714c4df43.jpg  \n",
      " extracting: /content/drive/MyDrive/crop/yolov8/valid/images/paille-de-ble-zoom-2-1-scaled_jpg.rf.8fb95a8ea2831dce426b9364c682d219.jpg  \n",
      " extracting: /content/drive/MyDrive/crop/yolov8/valid/images/s-l1200_jpg.rf.edbe03f447b9fd2c0e166c9b6d98116d.jpg  \n",
      " extracting: /content/drive/MyDrive/crop/yolov8/valid/images/strawberry-waste-from-commercial-agriculture-2PC84H5_jpg.rf.19eff031e24c396bfe5496c5f8aaf0b5.jpg  \n",
      " extracting: /content/drive/MyDrive/crop/yolov8/valid/images/t_11d4f9fbb25c4d6588547c1b78865d61_name_image_jpg.rf.bf467b0fc04b76b1551b1c8cc7f38d0b.jpg  \n",
      " extracting: /content/drive/MyDrive/crop/yolov8/valid/images/x_jpg.rf.03e75180594faf1d594b22c991dc6750.jpg  \n",
      "   creating: /content/drive/MyDrive/crop/yolov8/valid/labels/\n",
      " extracting: /content/drive/MyDrive/crop/yolov8/valid/labels/00002_jpg.rf.d05a19e2eca1ee4467d603555d0fe533.txt  \n",
      " extracting: /content/drive/MyDrive/crop/yolov8/valid/labels/00006_jpg.rf.f5bdd9348d99121c8041c4ca5c00e199.txt  \n",
      " extracting: /content/drive/MyDrive/crop/yolov8/valid/labels/00009_jpg.rf.3243d94a489f5c5aa4742fa0363407e2.txt  \n",
      " extracting: /content/drive/MyDrive/crop/yolov8/valid/labels/00013_jpg.rf.9d17245e4eb68cbea8cade59ea260a8e.txt  \n",
      " extracting: /content/drive/MyDrive/crop/yolov8/valid/labels/00046_jpg.rf.cbc300abd986c6f381bda0a1c040252c.txt  \n",
      " extracting: /content/drive/MyDrive/crop/yolov8/valid/labels/00058_jpg.rf.2eb7a97f41f2af28c3ea94ab9809ab35.txt  \n",
      " extracting: /content/drive/MyDrive/crop/yolov8/valid/labels/00070_jpg.rf.7be7986a92768e8b5aed47a438e69efb.txt  \n",
      " extracting: /content/drive/MyDrive/crop/yolov8/valid/labels/00073_jpg.rf.233b7f7536fa63975543d28482bff5dd.txt  \n",
      " extracting: /content/drive/MyDrive/crop/yolov8/valid/labels/00135_jpg.rf.693d67a7c20755524f177d793d3a557a.txt  \n",
      " extracting: /content/drive/MyDrive/crop/yolov8/valid/labels/00137_jpg.rf.59bc174500254bf04000b7b60a73c39b.txt  \n",
      " extracting: /content/drive/MyDrive/crop/yolov8/valid/labels/00138_jpg.rf.8a152c6875e0d00731746c2c383fc434.txt  \n",
      " extracting: /content/drive/MyDrive/crop/yolov8/valid/labels/00146_jpg.rf.7d0220f441d75fa8a4127734d62f7aff.txt  \n",
      " extracting: /content/drive/MyDrive/crop/yolov8/valid/labels/00154_jpg.rf.dba2b56bef42d61b78ab671d615acdd3.txt  \n",
      " extracting: /content/drive/MyDrive/crop/yolov8/valid/labels/00224_jpg.rf.551ff865539798f0049aac6e88d34cdb.txt  \n",
      " extracting: /content/drive/MyDrive/crop/yolov8/valid/labels/00238_jpg.rf.9011c6e1975e831169e4ddb36eb38961.txt  \n",
      " extracting: /content/drive/MyDrive/crop/yolov8/valid/labels/00261_jpg.rf.d679f9b55ceb9ad6c67f136d85a2e3c0.txt  \n",
      " extracting: /content/drive/MyDrive/crop/yolov8/valid/labels/00298_jpg.rf.b27c0f9578af65722dd0c0ac19e9062e.txt  \n",
      " extracting: /content/drive/MyDrive/crop/yolov8/valid/labels/00311_jpg.rf.63b71032b55da8adb8095bb06e016a48.txt  \n",
      " extracting: /content/drive/MyDrive/crop/yolov8/valid/labels/00320_jpg.rf.4e619f45cc7acd9877ccbef302ca8922.txt  \n",
      " extracting: /content/drive/MyDrive/crop/yolov8/valid/labels/00332_jpg.rf.1566f341832ceed169e3d18d8350e6d9.txt  \n",
      " extracting: /content/drive/MyDrive/crop/yolov8/valid/labels/00359_jpg.rf.2b049c67ae8e2c64bac85395bbd4b9c0.txt  \n",
      " extracting: /content/drive/MyDrive/crop/yolov8/valid/labels/00389_jpg.rf.9957281416b25e005531e185a35b38a9.txt  \n",
      " extracting: /content/drive/MyDrive/crop/yolov8/valid/labels/00477_jpg.rf.16f440806f84a6a6158951269a2d9897.txt  \n",
      " extracting: /content/drive/MyDrive/crop/yolov8/valid/labels/00501_jpg.rf.6000d5a9500973fe703517ef02719ce7.txt  \n",
      " extracting: /content/drive/MyDrive/crop/yolov8/valid/labels/00513_jpg.rf.4be973250e052104a74f3d8d43ab832c.txt  \n",
      " extracting: /content/drive/MyDrive/crop/yolov8/valid/labels/00570_jpg.rf.e435452469670a250b534dc467c7941c.txt  \n",
      " extracting: /content/drive/MyDrive/crop/yolov8/valid/labels/00695_jpg.rf.19ac9546fb0e08813defd336a56a9a5a.txt  \n",
      " extracting: /content/drive/MyDrive/crop/yolov8/valid/labels/00744_jpg.rf.163fa36b7779a91cae1dff10aac598e0.txt  \n",
      " extracting: /content/drive/MyDrive/crop/yolov8/valid/labels/00792_jpg.rf.1b9957dd4499467cc93d664ccfbdf568.txt  \n",
      " extracting: /content/drive/MyDrive/crop/yolov8/valid/labels/00796_jpg.rf.cb1115ff08480222dc0001a566343f21.txt  \n",
      " extracting: /content/drive/MyDrive/crop/yolov8/valid/labels/1000_F_560431999_2XIdtSrldyDkzComXgfwOIgqa2qjCv7E_jpg.rf.1c93ed1f2d16ddf32b694ab2cf1399d4.txt  \n",
      " extracting: /content/drive/MyDrive/crop/yolov8/valid/labels/11_jpg.rf.e040004d87db47d39348a9b62ed1c38a.txt  \n",
      " extracting: /content/drive/MyDrive/crop/yolov8/valid/labels/127-195350-fighting-pollution-fuel-shortages-clean-energy-4_jpeg.rf.2796cb01939e400454c1a31f9cf3de32.txt  \n",
      " extracting: /content/drive/MyDrive/crop/yolov8/valid/labels/140901-17503434_jpg.rf.cd4d895b66f10b0c4f03f31b48aa7bb3.txt  \n",
      " extracting: /content/drive/MyDrive/crop/yolov8/valid/labels/14b3e6b9-8f07-449e-be71-f017b27693e6_jpg.rf.538bef1a62549cf8d8ff1f513d349479.txt  \n",
      " extracting: /content/drive/MyDrive/crop/yolov8/valid/labels/18_jpg.rf.53f13baf5ced16233907e5f1d3b1a710.txt  \n",
      " extracting: /content/drive/MyDrive/crop/yolov8/valid/labels/1_jpg.rf.e1670fdd044209e4bb7de2801a18b07f.txt  \n",
      " extracting: /content/drive/MyDrive/crop/yolov8/valid/labels/20_jpg.rf.7e211c66ba73ed42b0df20dd6ed90281.txt  \n",
      " extracting: /content/drive/MyDrive/crop/yolov8/valid/labels/21987222-wastes-composed-of-plant-and-household-waste-in-a-bin_jpg.rf.441091284b00c1f1fb90395793ab09d8.txt  \n",
      " extracting: /content/drive/MyDrive/crop/yolov8/valid/labels/22_jpg.rf.dff5e74053e661ad7fb9e4df0870cc5d.txt  \n",
      " extracting: /content/drive/MyDrive/crop/yolov8/valid/labels/27_jpg.rf.591959a3a435e3f0ea68d9446d4ddfe6.txt  \n",
      " extracting: /content/drive/MyDrive/crop/yolov8/valid/labels/33_jpg.rf.f4e45b457a3b95e9b73dc8e4ae467303.txt  \n",
      " extracting: /content/drive/MyDrive/crop/yolov8/valid/labels/34_jpg.rf.93511a3f4945993325a4b9f5e5f47cd4.txt  \n",
      " extracting: /content/drive/MyDrive/crop/yolov8/valid/labels/36_jpg.rf.981232364ec63523f30eae05c148e85c.txt  \n",
      " extracting: /content/drive/MyDrive/crop/yolov8/valid/labels/37_jpg.rf.cab65c18ef88e4b7ce22ddffc48e111b.txt  \n",
      " extracting: /content/drive/MyDrive/crop/yolov8/valid/labels/51062846001_49f4cea7fb_z_jpg.rf.258ea90d672ebe7debdca11873ebd4e7.txt  \n",
      " extracting: /content/drive/MyDrive/crop/yolov8/valid/labels/8_jpg.rf.f8a805ab96a7773cf4a782b453124eea.txt  \n",
      " extracting: /content/drive/MyDrive/crop/yolov8/valid/labels/8c5010f0-9b1c-42fb-99cf-e1cd9c3836c0-largeScale_thumbnail_Image4_jpg.rf.dbbf8683cc0489e51e378d7fe796c437.txt  \n",
      " extracting: /content/drive/MyDrive/crop/yolov8/valid/labels/DSA06898ekrb789_jpg.rf.b21bd5434efbfd255ac4f52c78d3796b.txt  \n",
      " extracting: /content/drive/MyDrive/crop/yolov8/valid/labels/EwnwCUoWYA8rzyW_jpg.rf.7f51a4a1446ba464e0df8cc741f66978.txt  \n",
      " extracting: /content/drive/MyDrive/crop/yolov8/valid/labels/HeroSeekingChemicalBuilding_0_jpg.rf.e762434dbbed4c81df2603d45d6192cd.txt  \n",
      " extracting: /content/drive/MyDrive/crop/yolov8/valid/labels/IMG_8283-1024x683_jpg.rf.1254fd4fb65f74afa60ab135fb8e727a.txt  \n",
      " extracting: /content/drive/MyDrive/crop/yolov8/valid/labels/Sugarcane_Trash_jpg.rf.300bc1bf8e346c63c24b8498824802e4.txt  \n",
      " extracting: /content/drive/MyDrive/crop/yolov8/valid/labels/Waste_To_Wealth_Bhubaneswar-based_Artist_Crafts_Accessories_Items_Of_Decor_Using_Waste_Coconut_Shells_istock_660x30_jpg.rf.1ba28f350534129eaaba3df98e6e8f4b.txt  \n",
      " extracting: /content/drive/MyDrive/crop/yolov8/valid/labels/Waste_wood_crushed-scaled_jpg.rf.85692d2b12b2044d504ae82424696930.txt  \n",
      " extracting: /content/drive/MyDrive/crop/yolov8/valid/labels/Wasted-veggies-950_jpg.rf.2d0b16bde8df923f8f0bc3e5f10c6738.txt  \n",
      " extracting: /content/drive/MyDrive/crop/yolov8/valid/labels/a-Sustainable-Way-to-Manage-Organic-Waste_jpg.rf.23ff9864c797454b99f8fc5c2450d49a.txt  \n",
      " extracting: /content/drive/MyDrive/crop/yolov8/valid/labels/bigstock-Residue-From-Sugar-Cane-Juice-275035999_jpg.rf.6dcbd46bd9670e29ba0adc5908f3435a.txt  \n",
      " extracting: /content/drive/MyDrive/crop/yolov8/valid/labels/corn-stubble-with-frost-dsc00023-rl-edit-800x600_jpg.rf.55181a22d738e785ccbffa77ef8e10cb.txt  \n",
      " extracting: /content/drive/MyDrive/crop/yolov8/valid/labels/d149cead1a312d7d6a1345311de1b4fe_jpeg.rf.c90f2a5c0ba2cad386980e64ce3655fa.txt  \n",
      " extracting: /content/drive/MyDrive/crop/yolov8/valid/labels/depositphotos_124511218-stock-photo-palm-bark-texture-nature-background_jpg.rf.142a9fbfa4f783eeb7ed9d9538c887ff.txt  \n",
      " extracting: /content/drive/MyDrive/crop/yolov8/valid/labels/depositphotos_7438293-stock-photo-coconut-palm-cocos-nucifera-trunk_jpg.rf.8b0aa2bfde883a287def72f4a9619aeb.txt  \n",
      " extracting: /content/drive/MyDrive/crop/yolov8/valid/labels/download-1-_jpg.rf.c74f93904b235fba9d49f4dd6a6f451a.txt  \n",
      " extracting: /content/drive/MyDrive/crop/yolov8/valid/labels/e_jpg.rf.4afe68546a2e81a81e901e62fd04dbce.txt  \n",
      " extracting: /content/drive/MyDrive/crop/yolov8/valid/labels/edited_compostingboy_jpg.rf.2a2d30ec0a44fc264e0e2044e60ad407.txt  \n",
      " extracting: /content/drive/MyDrive/crop/yolov8/valid/labels/fa99f4e190f4d5758cb95ce3af8b7a2609eb852a_jpg.rf.d0a9683f036e498c9cc14b1252472643.txt  \n",
      " extracting: /content/drive/MyDrive/crop/yolov8/valid/labels/i285134164461510091-_szw480h1280__jpg.rf.945691c6a64edda05294a0225b74a306.txt  \n",
      " extracting: /content/drive/MyDrive/crop/yolov8/valid/labels/i_jpg.rf.cb9ccbd10b71ee149c3044df471ac5fd.txt  \n",
      " extracting: /content/drive/MyDrive/crop/yolov8/valid/labels/image1_jpg.rf.2cfe941afc8deee835ce90eeb09df833.txt  \n",
      " extracting: /content/drive/MyDrive/crop/yolov8/valid/labels/images-7-_jpg.rf.425819fe249c7a6fbfc1ffbbaf77a768.txt  \n",
      " extracting: /content/drive/MyDrive/crop/yolov8/valid/labels/istockphoto-1438352232-612x612_jpg.rf.36ddf20c68c39b46dc32a2137d260371.txt  \n",
      " extracting: /content/drive/MyDrive/crop/yolov8/valid/labels/k_jpg.rf.64446e161123c1c50e7beced7ce8dd20.txt  \n",
      " extracting: /content/drive/MyDrive/crop/yolov8/valid/labels/kitchen-waste-added-to-a-compost-pile-TA35P6_jpg.rf.bd3d451f8c27f837c88028b714c4df43.txt  \n",
      " extracting: /content/drive/MyDrive/crop/yolov8/valid/labels/paille-de-ble-zoom-2-1-scaled_jpg.rf.8fb95a8ea2831dce426b9364c682d219.txt  \n",
      " extracting: /content/drive/MyDrive/crop/yolov8/valid/labels/s-l1200_jpg.rf.edbe03f447b9fd2c0e166c9b6d98116d.txt  \n",
      " extracting: /content/drive/MyDrive/crop/yolov8/valid/labels/strawberry-waste-from-commercial-agriculture-2PC84H5_jpg.rf.19eff031e24c396bfe5496c5f8aaf0b5.txt  \n",
      " extracting: /content/drive/MyDrive/crop/yolov8/valid/labels/t_11d4f9fbb25c4d6588547c1b78865d61_name_image_jpg.rf.bf467b0fc04b76b1551b1c8cc7f38d0b.txt  \n",
      " extracting: /content/drive/MyDrive/crop/yolov8/valid/labels/x_jpg.rf.03e75180594faf1d594b22c991dc6750.txt  \n"
     ]
    }
   ],
   "source": [
    "!unzip \"/content/drive/MyDrive/crop/waste_management.v1i.yolov8.zip\" -d \"/content/drive/MyDrive/crop/yolov8\""
   ]
  },
  {
   "cell_type": "markdown",
   "metadata": {
    "id": "aJxdjVIrqxvq"
   },
   "source": [
    "# Cloning YoloV5 git Repo"
   ]
  },
  {
   "cell_type": "code",
   "execution_count": 4,
   "metadata": {
    "colab": {
     "base_uri": "https://localhost:8080/"
    },
    "executionInfo": {
     "elapsed": 3293,
     "status": "ok",
     "timestamp": 1712206419437,
     "user": {
      "displayName": "TruProjects yolo",
      "userId": "18414174829652366032"
     },
     "user_tz": -330
    },
    "id": "w_KSsW1yqxvs",
    "outputId": "b2597b98-bd5e-4dee-e1ff-b557f47fa6b7"
   },
   "outputs": [
    {
     "name": "stdout",
     "output_type": "stream",
     "text": [
      "Cloning into 'yolov5'...\n",
      "remote: Enumerating objects: 16525, done.\u001b[K\n",
      "remote: Total 16525 (delta 0), reused 0 (delta 0), pack-reused 16525\u001b[K\n",
      "Receiving objects: 100% (16525/16525), 15.06 MiB | 15.35 MiB/s, done.\n",
      "Resolving deltas: 100% (11359/11359), done.\n"
     ]
    }
   ],
   "source": [
    "!git clone https://github.com/ultralytics/yolov5"
   ]
  },
  {
   "cell_type": "code",
   "execution_count": 5,
   "metadata": {
    "colab": {
     "base_uri": "https://localhost:8080/"
    },
    "executionInfo": {
     "elapsed": 3,
     "status": "ok",
     "timestamp": 1712206419438,
     "user": {
      "displayName": "TruProjects yolo",
      "userId": "18414174829652366032"
     },
     "user_tz": -330
    },
    "id": "J2Jx_x-Hqxvy",
    "outputId": "661c32f5-7c62-4033-ea21-97d3657409bf"
   },
   "outputs": [
    {
     "name": "stdout",
     "output_type": "stream",
     "text": [
      "/content/yolov5\n"
     ]
    }
   ],
   "source": [
    "%cd /content/yolov5/"
   ]
  },
  {
   "cell_type": "markdown",
   "metadata": {
    "id": "m_Ns3cQsqxv3"
   },
   "source": [
    "# Installing YoloV5 requirements files"
   ]
  },
  {
   "cell_type": "code",
   "execution_count": 6,
   "metadata": {
    "colab": {
     "base_uri": "https://localhost:8080/"
    },
    "executionInfo": {
     "elapsed": 69291,
     "status": "ok",
     "timestamp": 1712206488726,
     "user": {
      "displayName": "TruProjects yolo",
      "userId": "18414174829652366032"
     },
     "user_tz": -330
    },
    "id": "S8YmlL2nqxv6",
    "outputId": "9c1d786a-f77f-49c9-d514-bec1cef76b71"
   },
   "outputs": [
    {
     "name": "stdout",
     "output_type": "stream",
     "text": [
      "Collecting gitpython>=3.1.30 (from -r requirements.txt (line 5))\n",
      "  Downloading GitPython-3.1.43-py3-none-any.whl (207 kB)\n",
      "\u001b[?25l     \u001b[90m━━━━━━━━━━━━━━━━━━━━━━━━━━━━━━━━━━━━━━━━\u001b[0m \u001b[32m0.0/207.3 kB\u001b[0m \u001b[31m?\u001b[0m eta \u001b[36m-:--:--\u001b[0m\r",
      "\u001b[2K     \u001b[91m━━━━━━━━━━━━━━━━━━━━━━━━━━━━━━━\u001b[0m\u001b[91m╸\u001b[0m\u001b[90m━━━━━━━━\u001b[0m \u001b[32m163.8/207.3 kB\u001b[0m \u001b[31m4.9 MB/s\u001b[0m eta \u001b[36m0:00:01\u001b[0m\r",
      "\u001b[2K     \u001b[90m━━━━━━━━━━━━━━━━━━━━━━━━━━━━━━━━━━━━━━━━\u001b[0m \u001b[32m207.3/207.3 kB\u001b[0m \u001b[31m4.1 MB/s\u001b[0m eta \u001b[36m0:00:00\u001b[0m\n",
      "\u001b[?25hRequirement already satisfied: matplotlib>=3.3 in /usr/local/lib/python3.10/dist-packages (from -r requirements.txt (line 6)) (3.7.1)\n",
      "Requirement already satisfied: numpy>=1.23.5 in /usr/local/lib/python3.10/dist-packages (from -r requirements.txt (line 7)) (1.25.2)\n",
      "Requirement already satisfied: opencv-python>=4.1.1 in /usr/local/lib/python3.10/dist-packages (from -r requirements.txt (line 8)) (4.8.0.76)\n",
      "Requirement already satisfied: Pillow>=9.4.0 in /usr/local/lib/python3.10/dist-packages (from -r requirements.txt (line 9)) (9.4.0)\n",
      "Requirement already satisfied: psutil in /usr/local/lib/python3.10/dist-packages (from -r requirements.txt (line 10)) (5.9.5)\n",
      "Requirement already satisfied: PyYAML>=5.3.1 in /usr/local/lib/python3.10/dist-packages (from -r requirements.txt (line 11)) (6.0.1)\n",
      "Requirement already satisfied: requests>=2.23.0 in /usr/local/lib/python3.10/dist-packages (from -r requirements.txt (line 12)) (2.31.0)\n",
      "Requirement already satisfied: scipy>=1.4.1 in /usr/local/lib/python3.10/dist-packages (from -r requirements.txt (line 13)) (1.11.4)\n",
      "Collecting thop>=0.1.1 (from -r requirements.txt (line 14))\n",
      "  Downloading thop-0.1.1.post2209072238-py3-none-any.whl (15 kB)\n",
      "Requirement already satisfied: torch>=1.8.0 in /usr/local/lib/python3.10/dist-packages (from -r requirements.txt (line 15)) (2.2.1+cu121)\n",
      "Requirement already satisfied: torchvision>=0.9.0 in /usr/local/lib/python3.10/dist-packages (from -r requirements.txt (line 16)) (0.17.1+cu121)\n",
      "Requirement already satisfied: tqdm>=4.64.0 in /usr/local/lib/python3.10/dist-packages (from -r requirements.txt (line 17)) (4.66.2)\n",
      "Collecting ultralytics>=8.0.232 (from -r requirements.txt (line 18))\n",
      "  Downloading ultralytics-8.1.42-py3-none-any.whl (749 kB)\n",
      "\u001b[2K     \u001b[90m━━━━━━━━━━━━━━━━━━━━━━━━━━━━━━━━━━━━━━━━\u001b[0m \u001b[32m749.1/749.1 kB\u001b[0m \u001b[31m59.5 MB/s\u001b[0m eta \u001b[36m0:00:00\u001b[0m\n",
      "\u001b[?25hRequirement already satisfied: pandas>=1.1.4 in /usr/local/lib/python3.10/dist-packages (from -r requirements.txt (line 27)) (2.0.3)\n",
      "Requirement already satisfied: seaborn>=0.11.0 in /usr/local/lib/python3.10/dist-packages (from -r requirements.txt (line 28)) (0.13.1)\n",
      "Requirement already satisfied: setuptools>=65.5.1 in /usr/local/lib/python3.10/dist-packages (from -r requirements.txt (line 42)) (67.7.2)\n",
      "Requirement already satisfied: wheel>=0.38.0 in /usr/local/lib/python3.10/dist-packages (from -r requirements.txt (line 50)) (0.43.0)\n",
      "Collecting gitdb<5,>=4.0.1 (from gitpython>=3.1.30->-r requirements.txt (line 5))\n",
      "  Downloading gitdb-4.0.11-py3-none-any.whl (62 kB)\n",
      "\u001b[2K     \u001b[90m━━━━━━━━━━━━━━━━━━━━━━━━━━━━━━━━━━━━━━━━\u001b[0m \u001b[32m62.7/62.7 kB\u001b[0m \u001b[31m10.2 MB/s\u001b[0m eta \u001b[36m0:00:00\u001b[0m\n",
      "\u001b[?25hRequirement already satisfied: contourpy>=1.0.1 in /usr/local/lib/python3.10/dist-packages (from matplotlib>=3.3->-r requirements.txt (line 6)) (1.2.0)\n",
      "Requirement already satisfied: cycler>=0.10 in /usr/local/lib/python3.10/dist-packages (from matplotlib>=3.3->-r requirements.txt (line 6)) (0.12.1)\n",
      "Requirement already satisfied: fonttools>=4.22.0 in /usr/local/lib/python3.10/dist-packages (from matplotlib>=3.3->-r requirements.txt (line 6)) (4.50.0)\n",
      "Requirement already satisfied: kiwisolver>=1.0.1 in /usr/local/lib/python3.10/dist-packages (from matplotlib>=3.3->-r requirements.txt (line 6)) (1.4.5)\n",
      "Requirement already satisfied: packaging>=20.0 in /usr/local/lib/python3.10/dist-packages (from matplotlib>=3.3->-r requirements.txt (line 6)) (24.0)\n",
      "Requirement already satisfied: pyparsing>=2.3.1 in /usr/local/lib/python3.10/dist-packages (from matplotlib>=3.3->-r requirements.txt (line 6)) (3.1.2)\n",
      "Requirement already satisfied: python-dateutil>=2.7 in /usr/local/lib/python3.10/dist-packages (from matplotlib>=3.3->-r requirements.txt (line 6)) (2.8.2)\n",
      "Requirement already satisfied: charset-normalizer<4,>=2 in /usr/local/lib/python3.10/dist-packages (from requests>=2.23.0->-r requirements.txt (line 12)) (3.3.2)\n",
      "Requirement already satisfied: idna<4,>=2.5 in /usr/local/lib/python3.10/dist-packages (from requests>=2.23.0->-r requirements.txt (line 12)) (3.6)\n",
      "Requirement already satisfied: urllib3<3,>=1.21.1 in /usr/local/lib/python3.10/dist-packages (from requests>=2.23.0->-r requirements.txt (line 12)) (2.0.7)\n",
      "Requirement already satisfied: certifi>=2017.4.17 in /usr/local/lib/python3.10/dist-packages (from requests>=2.23.0->-r requirements.txt (line 12)) (2024.2.2)\n",
      "Requirement already satisfied: filelock in /usr/local/lib/python3.10/dist-packages (from torch>=1.8.0->-r requirements.txt (line 15)) (3.13.3)\n",
      "Requirement already satisfied: typing-extensions>=4.8.0 in /usr/local/lib/python3.10/dist-packages (from torch>=1.8.0->-r requirements.txt (line 15)) (4.10.0)\n",
      "Requirement already satisfied: sympy in /usr/local/lib/python3.10/dist-packages (from torch>=1.8.0->-r requirements.txt (line 15)) (1.12)\n",
      "Requirement already satisfied: networkx in /usr/local/lib/python3.10/dist-packages (from torch>=1.8.0->-r requirements.txt (line 15)) (3.2.1)\n",
      "Requirement already satisfied: jinja2 in /usr/local/lib/python3.10/dist-packages (from torch>=1.8.0->-r requirements.txt (line 15)) (3.1.3)\n",
      "Requirement already satisfied: fsspec in /usr/local/lib/python3.10/dist-packages (from torch>=1.8.0->-r requirements.txt (line 15)) (2023.6.0)\n",
      "Collecting nvidia-cuda-nvrtc-cu12==12.1.105 (from torch>=1.8.0->-r requirements.txt (line 15))\n",
      "  Downloading nvidia_cuda_nvrtc_cu12-12.1.105-py3-none-manylinux1_x86_64.whl (23.7 MB)\n",
      "\u001b[2K     \u001b[90m━━━━━━━━━━━━━━━━━━━━━━━━━━━━━━━━━━━━━━━━\u001b[0m \u001b[32m23.7/23.7 MB\u001b[0m \u001b[31m69.2 MB/s\u001b[0m eta \u001b[36m0:00:00\u001b[0m\n",
      "\u001b[?25hCollecting nvidia-cuda-runtime-cu12==12.1.105 (from torch>=1.8.0->-r requirements.txt (line 15))\n",
      "  Downloading nvidia_cuda_runtime_cu12-12.1.105-py3-none-manylinux1_x86_64.whl (823 kB)\n",
      "\u001b[2K     \u001b[90m━━━━━━━━━━━━━━━━━━━━━━━━━━━━━━━━━━━━━━━━\u001b[0m \u001b[32m823.6/823.6 kB\u001b[0m \u001b[31m66.4 MB/s\u001b[0m eta \u001b[36m0:00:00\u001b[0m\n",
      "\u001b[?25hCollecting nvidia-cuda-cupti-cu12==12.1.105 (from torch>=1.8.0->-r requirements.txt (line 15))\n",
      "  Downloading nvidia_cuda_cupti_cu12-12.1.105-py3-none-manylinux1_x86_64.whl (14.1 MB)\n",
      "\u001b[2K     \u001b[90m━━━━━━━━━━━━━━━━━━━━━━━━━━━━━━━━━━━━━━━━\u001b[0m \u001b[32m14.1/14.1 MB\u001b[0m \u001b[31m89.5 MB/s\u001b[0m eta \u001b[36m0:00:00\u001b[0m\n",
      "\u001b[?25hCollecting nvidia-cudnn-cu12==8.9.2.26 (from torch>=1.8.0->-r requirements.txt (line 15))\n",
      "  Downloading nvidia_cudnn_cu12-8.9.2.26-py3-none-manylinux1_x86_64.whl (731.7 MB)\n",
      "\u001b[2K     \u001b[90m━━━━━━━━━━━━━━━━━━━━━━━━━━━━━━━━━━━━━━━━\u001b[0m \u001b[32m731.7/731.7 MB\u001b[0m \u001b[31m2.1 MB/s\u001b[0m eta \u001b[36m0:00:00\u001b[0m\n",
      "\u001b[?25hCollecting nvidia-cublas-cu12==12.1.3.1 (from torch>=1.8.0->-r requirements.txt (line 15))\n",
      "  Downloading nvidia_cublas_cu12-12.1.3.1-py3-none-manylinux1_x86_64.whl (410.6 MB)\n",
      "\u001b[2K     \u001b[90m━━━━━━━━━━━━━━━━━━━━━━━━━━━━━━━━━━━━━━━━\u001b[0m \u001b[32m410.6/410.6 MB\u001b[0m \u001b[31m2.8 MB/s\u001b[0m eta \u001b[36m0:00:00\u001b[0m\n",
      "\u001b[?25hCollecting nvidia-cufft-cu12==11.0.2.54 (from torch>=1.8.0->-r requirements.txt (line 15))\n",
      "  Downloading nvidia_cufft_cu12-11.0.2.54-py3-none-manylinux1_x86_64.whl (121.6 MB)\n",
      "\u001b[2K     \u001b[90m━━━━━━━━━━━━━━━━━━━━━━━━━━━━━━━━━━━━━━━━\u001b[0m \u001b[32m121.6/121.6 MB\u001b[0m \u001b[31m14.0 MB/s\u001b[0m eta \u001b[36m0:00:00\u001b[0m\n",
      "\u001b[?25hCollecting nvidia-curand-cu12==10.3.2.106 (from torch>=1.8.0->-r requirements.txt (line 15))\n",
      "  Downloading nvidia_curand_cu12-10.3.2.106-py3-none-manylinux1_x86_64.whl (56.5 MB)\n",
      "\u001b[2K     \u001b[90m━━━━━━━━━━━━━━━━━━━━━━━━━━━━━━━━━━━━━━━━\u001b[0m \u001b[32m56.5/56.5 MB\u001b[0m \u001b[31m29.5 MB/s\u001b[0m eta \u001b[36m0:00:00\u001b[0m\n",
      "\u001b[?25hCollecting nvidia-cusolver-cu12==11.4.5.107 (from torch>=1.8.0->-r requirements.txt (line 15))\n",
      "  Downloading nvidia_cusolver_cu12-11.4.5.107-py3-none-manylinux1_x86_64.whl (124.2 MB)\n",
      "\u001b[2K     \u001b[90m━━━━━━━━━━━━━━━━━━━━━━━━━━━━━━━━━━━━━━━━\u001b[0m \u001b[32m124.2/124.2 MB\u001b[0m \u001b[31m7.1 MB/s\u001b[0m eta \u001b[36m0:00:00\u001b[0m\n",
      "\u001b[?25hCollecting nvidia-cusparse-cu12==12.1.0.106 (from torch>=1.8.0->-r requirements.txt (line 15))\n",
      "  Downloading nvidia_cusparse_cu12-12.1.0.106-py3-none-manylinux1_x86_64.whl (196.0 MB)\n",
      "\u001b[2K     \u001b[90m━━━━━━━━━━━━━━━━━━━━━━━━━━━━━━━━━━━━━━━━\u001b[0m \u001b[32m196.0/196.0 MB\u001b[0m \u001b[31m8.8 MB/s\u001b[0m eta \u001b[36m0:00:00\u001b[0m\n",
      "\u001b[?25hCollecting nvidia-nccl-cu12==2.19.3 (from torch>=1.8.0->-r requirements.txt (line 15))\n",
      "  Downloading nvidia_nccl_cu12-2.19.3-py3-none-manylinux1_x86_64.whl (166.0 MB)\n",
      "\u001b[2K     \u001b[90m━━━━━━━━━━━━━━━━━━━━━━━━━━━━━━━━━━━━━━━━\u001b[0m \u001b[32m166.0/166.0 MB\u001b[0m \u001b[31m9.7 MB/s\u001b[0m eta \u001b[36m0:00:00\u001b[0m\n",
      "\u001b[?25hCollecting nvidia-nvtx-cu12==12.1.105 (from torch>=1.8.0->-r requirements.txt (line 15))\n",
      "  Downloading nvidia_nvtx_cu12-12.1.105-py3-none-manylinux1_x86_64.whl (99 kB)\n",
      "\u001b[2K     \u001b[90m━━━━━━━━━━━━━━━━━━━━━━━━━━━━━━━━━━━━━━━━\u001b[0m \u001b[32m99.1/99.1 kB\u001b[0m \u001b[31m15.2 MB/s\u001b[0m eta \u001b[36m0:00:00\u001b[0m\n",
      "\u001b[?25hRequirement already satisfied: triton==2.2.0 in /usr/local/lib/python3.10/dist-packages (from torch>=1.8.0->-r requirements.txt (line 15)) (2.2.0)\n",
      "Collecting nvidia-nvjitlink-cu12 (from nvidia-cusolver-cu12==11.4.5.107->torch>=1.8.0->-r requirements.txt (line 15))\n",
      "  Downloading nvidia_nvjitlink_cu12-12.4.127-py3-none-manylinux2014_x86_64.whl (21.1 MB)\n",
      "\u001b[2K     \u001b[90m━━━━━━━━━━━━━━━━━━━━━━━━━━━━━━━━━━━━━━━━\u001b[0m \u001b[32m21.1/21.1 MB\u001b[0m \u001b[31m82.9 MB/s\u001b[0m eta \u001b[36m0:00:00\u001b[0m\n",
      "\u001b[?25hRequirement already satisfied: py-cpuinfo in /usr/local/lib/python3.10/dist-packages (from ultralytics>=8.0.232->-r requirements.txt (line 18)) (9.0.0)\n",
      "Requirement already satisfied: pytz>=2020.1 in /usr/local/lib/python3.10/dist-packages (from pandas>=1.1.4->-r requirements.txt (line 27)) (2023.4)\n",
      "Requirement already satisfied: tzdata>=2022.1 in /usr/local/lib/python3.10/dist-packages (from pandas>=1.1.4->-r requirements.txt (line 27)) (2024.1)\n",
      "Collecting smmap<6,>=3.0.1 (from gitdb<5,>=4.0.1->gitpython>=3.1.30->-r requirements.txt (line 5))\n",
      "  Downloading smmap-5.0.1-py3-none-any.whl (24 kB)\n",
      "Requirement already satisfied: six>=1.5 in /usr/local/lib/python3.10/dist-packages (from python-dateutil>=2.7->matplotlib>=3.3->-r requirements.txt (line 6)) (1.16.0)\n",
      "Requirement already satisfied: MarkupSafe>=2.0 in /usr/local/lib/python3.10/dist-packages (from jinja2->torch>=1.8.0->-r requirements.txt (line 15)) (2.1.5)\n",
      "Requirement already satisfied: mpmath>=0.19 in /usr/local/lib/python3.10/dist-packages (from sympy->torch>=1.8.0->-r requirements.txt (line 15)) (1.3.0)\n",
      "Installing collected packages: smmap, nvidia-nvtx-cu12, nvidia-nvjitlink-cu12, nvidia-nccl-cu12, nvidia-curand-cu12, nvidia-cufft-cu12, nvidia-cuda-runtime-cu12, nvidia-cuda-nvrtc-cu12, nvidia-cuda-cupti-cu12, nvidia-cublas-cu12, nvidia-cusparse-cu12, nvidia-cudnn-cu12, gitdb, nvidia-cusolver-cu12, gitpython, thop, ultralytics\n",
      "Successfully installed gitdb-4.0.11 gitpython-3.1.43 nvidia-cublas-cu12-12.1.3.1 nvidia-cuda-cupti-cu12-12.1.105 nvidia-cuda-nvrtc-cu12-12.1.105 nvidia-cuda-runtime-cu12-12.1.105 nvidia-cudnn-cu12-8.9.2.26 nvidia-cufft-cu12-11.0.2.54 nvidia-curand-cu12-10.3.2.106 nvidia-cusolver-cu12-11.4.5.107 nvidia-cusparse-cu12-12.1.0.106 nvidia-nccl-cu12-2.19.3 nvidia-nvjitlink-cu12-12.4.127 nvidia-nvtx-cu12-12.1.105 smmap-5.0.1 thop-0.1.1.post2209072238 ultralytics-8.1.42\n"
     ]
    }
   ],
   "source": [
    "!pip install -r requirements.txt"
   ]
  },
  {
   "cell_type": "code",
   "execution_count": 7,
   "metadata": {
    "colab": {
     "base_uri": "https://localhost:8080/"
    },
    "executionInfo": {
     "elapsed": 1020,
     "status": "ok",
     "timestamp": 1712206489743,
     "user": {
      "displayName": "TruProjects yolo",
      "userId": "18414174829652366032"
     },
     "user_tz": -330
    },
    "id": "mW1RMPJpqxwY",
    "outputId": "1c6652f3-7591-42a1-8245-c119b31eeb73"
   },
   "outputs": [
    {
     "name": "stdout",
     "output_type": "stream",
     "text": [
      "['train: /content/drive/MyDrive/crop/yolov5/train/images\\n', 'val: /content/drive/MyDrive/crop/yolov5/valid/images\\n', '\\n', '\\n', 'nc: 5\\n', \"names: ['dry_waste', 'fruits - vegetables_waste', 'others', 'plastic_waste', 'stubble_waste']\\n\", '\\n', 'roboflow:\\n', '  workspace: trafficproject-vj9l8\\n', '  project: waste_management-vxlxt\\n', '  version: 1\\n', '  license: CC BY 4.0\\n', '  url: https://universe.roboflow.com/trafficproject-vj9l8/waste_management-vxlxt/dataset/1']\n"
     ]
    }
   ],
   "source": [
    "with open(r'/content/drive/MyDrive/crop/yolov5/data.yaml', 'r') as file:\n",
    "    lines = file.readlines()\n",
    "    print(lines)"
   ]
  },
  {
   "cell_type": "code",
   "execution_count": 2,
   "metadata": {
    "id": "4OslgLFKiGPq"
   },
   "outputs": [],
   "source": [
    "ML_Model = []\n",
    "precision = []\n",
    "recall = []\n",
    "mAP = []\n",
    "\n",
    "#function to call for storing the results\n",
    "def storeResults(model, a,b,c):\n",
    "    ML_Model.append(model)\n",
    "    precision.append(round(a, 3))\n",
    "    recall.append(round(b, 3))\n",
    "    mAP.append(round(c, 3))"
   ]
  },
  {
   "cell_type": "markdown",
   "metadata": {
    "id": "duW43cw0FbSK"
   },
   "source": [
    "# YoloV5x6"
   ]
  },
  {
   "cell_type": "code",
   "execution_count": 8,
   "metadata": {
    "colab": {
     "base_uri": "https://localhost:8080/"
    },
    "executionInfo": {
     "elapsed": 1542483,
     "status": "ok",
     "timestamp": 1712208032224,
     "user": {
      "displayName": "TruProjects yolo",
      "userId": "18414174829652366032"
     },
     "user_tz": -330
    },
    "id": "a9hs_tFQFbSK",
    "outputId": "e08ec4e5-6911-4f42-dc22-e2dcaea845f7"
   },
   "outputs": [
    {
     "name": "stdout",
     "output_type": "stream",
     "text": [
      "/bin/bash: line 1: wandb: command not found\n",
      "2024-04-04 04:54:58.759105: E external/local_xla/xla/stream_executor/cuda/cuda_dnn.cc:9261] Unable to register cuDNN factory: Attempting to register factory for plugin cuDNN when one has already been registered\n",
      "2024-04-04 04:54:58.759160: E external/local_xla/xla/stream_executor/cuda/cuda_fft.cc:607] Unable to register cuFFT factory: Attempting to register factory for plugin cuFFT when one has already been registered\n",
      "2024-04-04 04:54:58.761043: E external/local_xla/xla/stream_executor/cuda/cuda_blas.cc:1515] Unable to register cuBLAS factory: Attempting to register factory for plugin cuBLAS when one has already been registered\n",
      "\u001b[34m\u001b[1mtrain: \u001b[0mweights=yolov5x6.pt, cfg=, data=/content/drive/MyDrive/crop/yolov5/data.yaml, hyp=data/hyps/hyp.scratch-low.yaml, epochs=200, batch_size=16, imgsz=416, rect=False, resume=False, nosave=False, noval=False, noautoanchor=False, noplots=False, evolve=None, evolve_population=data/hyps, resume_evolve=None, bucket=, cache=ram, image_weights=False, device=, multi_scale=False, single_cls=False, optimizer=SGD, sync_bn=False, workers=2, project=runs/train, name=exp, exist_ok=False, quad=False, cos_lr=False, label_smoothing=0.0, patience=100, freeze=[0], save_period=-1, seed=0, local_rank=-1, entity=None, upload_dataset=False, bbox_interval=-1, artifact_alias=latest, ndjson_console=False, ndjson_file=False\n",
      "\u001b[34m\u001b[1mgithub: \u001b[0mup to date with https://github.com/ultralytics/yolov5 ✅\n",
      "YOLOv5 🚀 v7.0-295-gac6c4383 Python-3.10.12 torch-2.2.1+cu121 CUDA:0 (NVIDIA A100-SXM4-40GB, 40514MiB)\n",
      "\n",
      "\u001b[34m\u001b[1mhyperparameters: \u001b[0mlr0=0.01, lrf=0.01, momentum=0.937, weight_decay=0.0005, warmup_epochs=3.0, warmup_momentum=0.8, warmup_bias_lr=0.1, box=0.05, cls=0.5, cls_pw=1.0, obj=1.0, obj_pw=1.0, iou_t=0.2, anchor_t=4.0, fl_gamma=0.0, hsv_h=0.015, hsv_s=0.7, hsv_v=0.4, degrees=0.0, translate=0.1, scale=0.5, shear=0.0, perspective=0.0, flipud=0.0, fliplr=0.5, mosaic=1.0, mixup=0.0, copy_paste=0.0\n",
      "\u001b[34m\u001b[1mComet: \u001b[0mrun 'pip install comet_ml' to automatically track and visualize YOLOv5 🚀 runs in Comet\n",
      "\u001b[34m\u001b[1mTensorBoard: \u001b[0mStart with 'tensorboard --logdir runs/train', view at http://localhost:6006/\n",
      "Downloading https://ultralytics.com/assets/Arial.ttf to /root/.config/Ultralytics/Arial.ttf...\n",
      "100% 755k/755k [00:00<00:00, 109MB/s]\n",
      "Downloading https://github.com/ultralytics/yolov5/releases/download/v7.0/yolov5x6.pt to yolov5x6.pt...\n",
      "100% 270M/270M [00:00<00:00, 382MB/s]\n",
      "\n",
      "Overriding model.yaml nc=80 with nc=5\n",
      "\n",
      "                 from  n    params  module                                  arguments                     \n",
      "  0                -1  1      8800  models.common.Conv                      [3, 80, 6, 2, 2]              \n",
      "  1                -1  1    115520  models.common.Conv                      [80, 160, 3, 2]               \n",
      "  2                -1  4    309120  models.common.C3                        [160, 160, 4]                 \n",
      "  3                -1  1    461440  models.common.Conv                      [160, 320, 3, 2]              \n",
      "  4                -1  8   2259200  models.common.C3                        [320, 320, 8]                 \n",
      "  5                -1  1   1844480  models.common.Conv                      [320, 640, 3, 2]              \n",
      "  6                -1 12  13125120  models.common.C3                        [640, 640, 12]                \n",
      "  7                -1  1   5531520  models.common.Conv                      [640, 960, 3, 2]              \n",
      "  8                -1  4  11070720  models.common.C3                        [960, 960, 4]                 \n",
      "  9                -1  1  11061760  models.common.Conv                      [960, 1280, 3, 2]             \n",
      " 10                -1  4  19676160  models.common.C3                        [1280, 1280, 4]               \n",
      " 11                -1  1   4099840  models.common.SPPF                      [1280, 1280, 5]               \n",
      " 12                -1  1   1230720  models.common.Conv                      [1280, 960, 1, 1]             \n",
      " 13                -1  1         0  torch.nn.modules.upsampling.Upsample    [None, 2, 'nearest']          \n",
      " 14           [-1, 8]  1         0  models.common.Concat                    [1]                           \n",
      " 15                -1  4  11992320  models.common.C3                        [1920, 960, 4, False]         \n",
      " 16                -1  1    615680  models.common.Conv                      [960, 640, 1, 1]              \n",
      " 17                -1  1         0  torch.nn.modules.upsampling.Upsample    [None, 2, 'nearest']          \n",
      " 18           [-1, 6]  1         0  models.common.Concat                    [1]                           \n",
      " 19                -1  4   5332480  models.common.C3                        [1280, 640, 4, False]         \n",
      " 20                -1  1    205440  models.common.Conv                      [640, 320, 1, 1]              \n",
      " 21                -1  1         0  torch.nn.modules.upsampling.Upsample    [None, 2, 'nearest']          \n",
      " 22           [-1, 4]  1         0  models.common.Concat                    [1]                           \n",
      " 23                -1  4   1335040  models.common.C3                        [640, 320, 4, False]          \n",
      " 24                -1  1    922240  models.common.Conv                      [320, 320, 3, 2]              \n",
      " 25          [-1, 20]  1         0  models.common.Concat                    [1]                           \n",
      " 26                -1  4   4922880  models.common.C3                        [640, 640, 4, False]          \n",
      " 27                -1  1   3687680  models.common.Conv                      [640, 640, 3, 2]              \n",
      " 28          [-1, 16]  1         0  models.common.Concat                    [1]                           \n",
      " 29                -1  4  11377920  models.common.C3                        [1280, 960, 4, False]         \n",
      " 30                -1  1   8296320  models.common.Conv                      [960, 960, 3, 2]              \n",
      " 31          [-1, 12]  1         0  models.common.Concat                    [1]                           \n",
      " 32                -1  4  20495360  models.common.C3                        [1920, 1280, 4, False]        \n",
      " 33  [23, 26, 29, 32]  1     96120  models.yolo.Detect                      [5, [[19, 27, 44, 40, 38, 94], [96, 68, 86, 152, 180, 137], [140, 301, 303, 264, 238, 542], [436, 615, 739, 380, 925, 792]], [320, 640, 960, 1280]]\n",
      "Model summary: 575 layers, 140073880 parameters, 140073880 gradients, 208.8 GFLOPs\n",
      "\n",
      "Transferred 955/963 items from yolov5x6.pt\n",
      "\u001b[34m\u001b[1mAMP: \u001b[0mchecks passed ✅\n",
      "WARNING ⚠️ --img-size 416 must be multiple of max stride 64, updating to 448\n",
      "\u001b[34m\u001b[1moptimizer:\u001b[0m SGD(lr=0.01) with parameter groups 159 weight(decay=0.0), 163 weight(decay=0.0005), 163 bias\n",
      "\u001b[34m\u001b[1malbumentations: \u001b[0mBlur(p=0.01, blur_limit=(3, 7)), MedianBlur(p=0.01, blur_limit=(3, 7)), ToGray(p=0.01), CLAHE(p=0.01, clip_limit=(1, 4.0), tile_grid_size=(8, 8))\n",
      "\u001b[34m\u001b[1mtrain: \u001b[0mScanning /content/drive/MyDrive/crop/yolov5/train/labels.cache... 313 images, 0 backgrounds, 0 corrupt: 100% 313/313 [00:00<?, ?it/s]\n",
      "\u001b[34m\u001b[1mtrain: \u001b[0mCaching images (0.2GB ram): 100% 313/313 [00:00<00:00, 461.81it/s]\n",
      "\u001b[34m\u001b[1mval: \u001b[0mScanning /content/drive/MyDrive/crop/yolov5/valid/labels.cache... 78 images, 0 backgrounds, 0 corrupt: 100% 78/78 [00:00<?, ?it/s]\n",
      "\u001b[34m\u001b[1mval: \u001b[0mCaching images (0.0GB ram): 100% 78/78 [00:34<00:00,  2.29it/s]\n",
      "\n",
      "\u001b[34m\u001b[1mAutoAnchor: \u001b[0m6.93 anchors/target, 1.000 Best Possible Recall (BPR). Current anchors are a good fit to dataset ✅\n",
      "Plotting labels to runs/train/exp/labels.jpg... \n",
      "Image sizes 448 train, 448 val\n",
      "Using 2 dataloader workers\n",
      "Logging results to \u001b[1mruns/train/exp\u001b[0m\n",
      "Starting training for 200 epochs...\n",
      "\n",
      "      Epoch    GPU_mem   box_loss   obj_loss   cls_loss  Instances       Size\n",
      "      0/199      7.67G     0.1137    0.02337    0.05005         63        448:   0% 0/20 [00:01<?, ?it/s]WARNING ⚠️ TensorBoard graph visualization failure Sizes of tensors must match except in dimension 1. Expected size 14 but got size 13 for tensor number 1 in the list.\n",
      "      0/199      8.56G     0.1055    0.02537    0.04998         32        448: 100% 20/20 [00:08<00:00,  2.40it/s]\n",
      "                 Class     Images  Instances          P          R      mAP50   mAP50-95: 100% 3/3 [00:02<00:00,  1.27it/s]\n",
      "                   all         78        193    0.00386      0.511     0.0069    0.00189\n",
      "\n",
      "      Epoch    GPU_mem   box_loss   obj_loss   cls_loss  Instances       Size\n",
      "      1/199      9.74G    0.08756    0.03248    0.04758         28        448: 100% 20/20 [00:03<00:00,  5.55it/s]\n",
      "                 Class     Images  Instances          P          R      mAP50   mAP50-95: 100% 3/3 [00:00<00:00,  3.49it/s]\n",
      "                   all         78        193    0.00385      0.499     0.0167    0.00397\n",
      "\n",
      "      Epoch    GPU_mem   box_loss   obj_loss   cls_loss  Instances       Size\n",
      "      2/199      9.74G    0.07247    0.03529    0.04439         43        448: 100% 20/20 [00:03<00:00,  5.78it/s]\n",
      "                 Class     Images  Instances          P          R      mAP50   mAP50-95: 100% 3/3 [00:00<00:00,  3.32it/s]\n",
      "                   all         78        193      0.423      0.138     0.0444     0.0117\n",
      "\n",
      "      Epoch    GPU_mem   box_loss   obj_loss   cls_loss  Instances       Size\n",
      "      3/199      9.74G    0.06794    0.03567     0.0397         36        448: 100% 20/20 [00:03<00:00,  6.12it/s]\n",
      "                 Class     Images  Instances          P          R      mAP50   mAP50-95: 100% 3/3 [00:01<00:00,  2.72it/s]\n",
      "                   all         78        193      0.923     0.0323     0.0839     0.0274\n",
      "\n",
      "      Epoch    GPU_mem   box_loss   obj_loss   cls_loss  Instances       Size\n",
      "      4/199      9.74G    0.06616    0.03651    0.03685         52        448: 100% 20/20 [00:03<00:00,  5.93it/s]\n",
      "                 Class     Images  Instances          P          R      mAP50   mAP50-95: 100% 3/3 [00:01<00:00,  2.27it/s]\n",
      "                   all         78        193      0.225      0.203     0.0666     0.0192\n",
      "\n",
      "      Epoch    GPU_mem   box_loss   obj_loss   cls_loss  Instances       Size\n",
      "      5/199      9.74G    0.06428    0.03315    0.03179         44        448: 100% 20/20 [00:03<00:00,  6.09it/s]\n",
      "                 Class     Images  Instances          P          R      mAP50   mAP50-95: 100% 3/3 [00:01<00:00,  2.35it/s]\n",
      "                   all         78        193      0.243       0.25       0.12     0.0397\n",
      "\n",
      "      Epoch    GPU_mem   box_loss   obj_loss   cls_loss  Instances       Size\n",
      "      6/199      9.74G    0.06142    0.03234    0.02962         21        448: 100% 20/20 [00:03<00:00,  6.16it/s]\n",
      "                 Class     Images  Instances          P          R      mAP50   mAP50-95: 100% 3/3 [00:01<00:00,  2.85it/s]\n",
      "                   all         78        193      0.113      0.374      0.158     0.0657\n",
      "\n",
      "      Epoch    GPU_mem   box_loss   obj_loss   cls_loss  Instances       Size\n",
      "      7/199      9.74G    0.05807    0.03108    0.02829         29        448: 100% 20/20 [00:03<00:00,  6.05it/s]\n",
      "                 Class     Images  Instances          P          R      mAP50   mAP50-95: 100% 3/3 [00:00<00:00,  3.43it/s]\n",
      "                   all         78        193      0.119      0.296      0.106     0.0318\n",
      "\n",
      "      Epoch    GPU_mem   box_loss   obj_loss   cls_loss  Instances       Size\n",
      "      8/199      9.74G    0.05581    0.03089    0.02679         43        448: 100% 20/20 [00:03<00:00,  6.14it/s]\n",
      "                 Class     Images  Instances          P          R      mAP50   mAP50-95: 100% 3/3 [00:00<00:00,  3.64it/s]\n",
      "                   all         78        193      0.172      0.395       0.19     0.0707\n",
      "\n",
      "      Epoch    GPU_mem   box_loss   obj_loss   cls_loss  Instances       Size\n",
      "      9/199      9.74G    0.05299     0.0311    0.02507         36        448: 100% 20/20 [00:03<00:00,  6.12it/s]\n",
      "                 Class     Images  Instances          P          R      mAP50   mAP50-95: 100% 3/3 [00:00<00:00,  3.69it/s]\n",
      "                   all         78        193      0.111      0.283      0.151     0.0511\n",
      "\n",
      "      Epoch    GPU_mem   box_loss   obj_loss   cls_loss  Instances       Size\n",
      "     10/199      9.74G    0.05043    0.02969    0.02281         35        448: 100% 20/20 [00:03<00:00,  6.03it/s]\n",
      "                 Class     Images  Instances          P          R      mAP50   mAP50-95: 100% 3/3 [00:00<00:00,  3.78it/s]\n",
      "                   all         78        193      0.375      0.293       0.18     0.0669\n",
      "\n",
      "      Epoch    GPU_mem   box_loss   obj_loss   cls_loss  Instances       Size\n",
      "     11/199      9.74G    0.04983    0.02936    0.02125         32        448: 100% 20/20 [00:03<00:00,  6.09it/s]\n",
      "                 Class     Images  Instances          P          R      mAP50   mAP50-95: 100% 3/3 [00:00<00:00,  4.06it/s]\n",
      "                   all         78        193      0.129      0.287      0.111     0.0387\n",
      "\n",
      "      Epoch    GPU_mem   box_loss   obj_loss   cls_loss  Instances       Size\n",
      "     12/199      9.74G    0.04892     0.0302    0.02002         46        448: 100% 20/20 [00:03<00:00,  6.13it/s]\n",
      "                 Class     Images  Instances          P          R      mAP50   mAP50-95: 100% 3/3 [00:00<00:00,  4.27it/s]\n",
      "                   all         78        193      0.186      0.264      0.201     0.0845\n",
      "\n",
      "      Epoch    GPU_mem   box_loss   obj_loss   cls_loss  Instances       Size\n",
      "     13/199      9.74G     0.0469     0.0288    0.01879         31        448: 100% 20/20 [00:03<00:00,  6.10it/s]\n",
      "                 Class     Images  Instances          P          R      mAP50   mAP50-95: 100% 3/3 [00:00<00:00,  4.37it/s]\n",
      "                   all         78        193      0.208      0.272      0.171     0.0543\n",
      "\n",
      "      Epoch    GPU_mem   box_loss   obj_loss   cls_loss  Instances       Size\n",
      "     14/199      9.74G    0.04528    0.02866    0.01919         31        448: 100% 20/20 [00:03<00:00,  5.96it/s]\n",
      "                 Class     Images  Instances          P          R      mAP50   mAP50-95: 100% 3/3 [00:00<00:00,  4.42it/s]\n",
      "                   all         78        193        0.3      0.223      0.202     0.0713\n",
      "\n",
      "      Epoch    GPU_mem   box_loss   obj_loss   cls_loss  Instances       Size\n",
      "     15/199      9.74G    0.04362    0.02734    0.01772         41        448: 100% 20/20 [00:03<00:00,  6.14it/s]\n",
      "                 Class     Images  Instances          P          R      mAP50   mAP50-95: 100% 3/3 [00:00<00:00,  4.46it/s]\n",
      "                   all         78        193      0.225      0.265       0.22     0.0723\n",
      "\n",
      "      Epoch    GPU_mem   box_loss   obj_loss   cls_loss  Instances       Size\n",
      "     16/199      9.74G    0.04327    0.02693    0.01743         38        448: 100% 20/20 [00:03<00:00,  6.09it/s]\n",
      "                 Class     Images  Instances          P          R      mAP50   mAP50-95: 100% 3/3 [00:00<00:00,  4.47it/s]\n",
      "                   all         78        193      0.332      0.348      0.257      0.104\n",
      "\n",
      "      Epoch    GPU_mem   box_loss   obj_loss   cls_loss  Instances       Size\n",
      "     17/199      9.74G    0.04424     0.0282    0.01396         44        448: 100% 20/20 [00:03<00:00,  5.89it/s]\n",
      "                 Class     Images  Instances          P          R      mAP50   mAP50-95: 100% 3/3 [00:00<00:00,  4.25it/s]\n",
      "                   all         78        193      0.234      0.329      0.196     0.0858\n",
      "\n",
      "      Epoch    GPU_mem   box_loss   obj_loss   cls_loss  Instances       Size\n",
      "     18/199      9.74G    0.04269    0.02781    0.01333         31        448: 100% 20/20 [00:03<00:00,  6.09it/s]\n",
      "                 Class     Images  Instances          P          R      mAP50   mAP50-95: 100% 3/3 [00:00<00:00,  4.21it/s]\n",
      "                   all         78        193      0.504      0.231      0.218     0.0776\n",
      "\n",
      "      Epoch    GPU_mem   box_loss   obj_loss   cls_loss  Instances       Size\n",
      "     19/199      9.74G    0.04253    0.02654     0.0132         45        448: 100% 20/20 [00:03<00:00,  6.02it/s]\n",
      "                 Class     Images  Instances          P          R      mAP50   mAP50-95: 100% 3/3 [00:00<00:00,  4.28it/s]\n",
      "                   all         78        193      0.245      0.346      0.245      0.103\n",
      "\n",
      "      Epoch    GPU_mem   box_loss   obj_loss   cls_loss  Instances       Size\n",
      "     20/199      9.74G    0.03973    0.02661    0.01317         33        448: 100% 20/20 [00:03<00:00,  6.06it/s]\n",
      "                 Class     Images  Instances          P          R      mAP50   mAP50-95: 100% 3/3 [00:00<00:00,  4.30it/s]\n",
      "                   all         78        193      0.228      0.282      0.211     0.0727\n",
      "\n",
      "      Epoch    GPU_mem   box_loss   obj_loss   cls_loss  Instances       Size\n",
      "     21/199      9.74G    0.03964    0.02596    0.01249         43        448: 100% 20/20 [00:03<00:00,  6.09it/s]\n",
      "                 Class     Images  Instances          P          R      mAP50   mAP50-95: 100% 3/3 [00:00<00:00,  4.44it/s]\n",
      "                   all         78        193      0.386      0.335      0.265     0.0955\n",
      "\n",
      "      Epoch    GPU_mem   box_loss   obj_loss   cls_loss  Instances       Size\n",
      "     22/199      9.74G     0.0388    0.02516    0.01211         30        448: 100% 20/20 [00:03<00:00,  6.02it/s]\n",
      "                 Class     Images  Instances          P          R      mAP50   mAP50-95: 100% 3/3 [00:00<00:00,  4.31it/s]\n",
      "                   all         78        193      0.309      0.275      0.247      0.109\n",
      "\n",
      "      Epoch    GPU_mem   box_loss   obj_loss   cls_loss  Instances       Size\n",
      "     23/199      9.74G    0.03941    0.02406     0.0105         40        448: 100% 20/20 [00:03<00:00,  6.02it/s]\n",
      "                 Class     Images  Instances          P          R      mAP50   mAP50-95: 100% 3/3 [00:00<00:00,  4.37it/s]\n",
      "                   all         78        193      0.212      0.283      0.204     0.0685\n",
      "\n",
      "      Epoch    GPU_mem   box_loss   obj_loss   cls_loss  Instances       Size\n",
      "     24/199      9.74G    0.03878    0.02278    0.01002         27        448: 100% 20/20 [00:03<00:00,  6.08it/s]\n",
      "                 Class     Images  Instances          P          R      mAP50   mAP50-95: 100% 3/3 [00:00<00:00,  4.38it/s]\n",
      "                   all         78        193      0.348      0.365      0.288      0.122\n",
      "\n",
      "      Epoch    GPU_mem   box_loss   obj_loss   cls_loss  Instances       Size\n",
      "     25/199      9.74G    0.03788    0.02286   0.008382         35        448: 100% 20/20 [00:03<00:00,  6.03it/s]\n",
      "                 Class     Images  Instances          P          R      mAP50   mAP50-95: 100% 3/3 [00:00<00:00,  4.32it/s]\n",
      "                   all         78        193      0.314      0.396       0.28      0.108\n",
      "\n",
      "      Epoch    GPU_mem   box_loss   obj_loss   cls_loss  Instances       Size\n",
      "     26/199      9.74G    0.03709    0.02403   0.008404         38        448: 100% 20/20 [00:03<00:00,  6.16it/s]\n",
      "                 Class     Images  Instances          P          R      mAP50   mAP50-95: 100% 3/3 [00:00<00:00,  4.40it/s]\n",
      "                   all         78        193      0.385       0.38      0.327       0.13\n",
      "\n",
      "      Epoch    GPU_mem   box_loss   obj_loss   cls_loss  Instances       Size\n",
      "     27/199      9.74G    0.03665    0.02374   0.009235         22        448: 100% 20/20 [00:03<00:00,  6.16it/s]\n",
      "                 Class     Images  Instances          P          R      mAP50   mAP50-95: 100% 3/3 [00:00<00:00,  4.52it/s]\n",
      "                   all         78        193      0.439      0.293      0.301      0.127\n",
      "\n",
      "      Epoch    GPU_mem   box_loss   obj_loss   cls_loss  Instances       Size\n",
      "     28/199      9.74G    0.03498    0.02317    0.01007         37        448: 100% 20/20 [00:03<00:00,  6.12it/s]\n",
      "                 Class     Images  Instances          P          R      mAP50   mAP50-95: 100% 3/3 [00:00<00:00,  4.27it/s]\n",
      "                   all         78        193      0.361      0.275      0.217     0.0812\n",
      "\n",
      "      Epoch    GPU_mem   box_loss   obj_loss   cls_loss  Instances       Size\n",
      "     29/199      9.74G    0.03534    0.02255   0.009907         34        448: 100% 20/20 [00:03<00:00,  5.97it/s]\n",
      "                 Class     Images  Instances          P          R      mAP50   mAP50-95: 100% 3/3 [00:00<00:00,  4.46it/s]\n",
      "                   all         78        193      0.316      0.265      0.243     0.0944\n",
      "\n",
      "      Epoch    GPU_mem   box_loss   obj_loss   cls_loss  Instances       Size\n",
      "     30/199      9.74G     0.0351    0.02277   0.009453         27        448: 100% 20/20 [00:03<00:00,  5.66it/s]\n",
      "                 Class     Images  Instances          P          R      mAP50   mAP50-95: 100% 3/3 [00:00<00:00,  4.49it/s]\n",
      "                   all         78        193      0.354      0.224       0.24     0.0969\n",
      "\n",
      "      Epoch    GPU_mem   box_loss   obj_loss   cls_loss  Instances       Size\n",
      "     31/199      9.74G    0.03377    0.02447    0.01127         42        448: 100% 20/20 [00:03<00:00,  5.99it/s]\n",
      "                 Class     Images  Instances          P          R      mAP50   mAP50-95: 100% 3/3 [00:00<00:00,  4.43it/s]\n",
      "                   all         78        193      0.169      0.255      0.178     0.0623\n",
      "\n",
      "      Epoch    GPU_mem   box_loss   obj_loss   cls_loss  Instances       Size\n",
      "     32/199      9.74G    0.03424    0.02309   0.007912         36        448: 100% 20/20 [00:03<00:00,  6.03it/s]\n",
      "                 Class     Images  Instances          P          R      mAP50   mAP50-95: 100% 3/3 [00:00<00:00,  4.31it/s]\n",
      "                   all         78        193      0.325      0.265      0.242     0.0969\n",
      "\n",
      "      Epoch    GPU_mem   box_loss   obj_loss   cls_loss  Instances       Size\n",
      "     33/199      9.74G    0.03479    0.02248   0.007398         30        448: 100% 20/20 [00:03<00:00,  6.00it/s]\n",
      "                 Class     Images  Instances          P          R      mAP50   mAP50-95: 100% 3/3 [00:00<00:00,  4.44it/s]\n",
      "                   all         78        193      0.329      0.324      0.257     0.0899\n",
      "\n",
      "      Epoch    GPU_mem   box_loss   obj_loss   cls_loss  Instances       Size\n",
      "     34/199      9.74G    0.03403    0.02263    0.00821         28        448: 100% 20/20 [00:03<00:00,  5.99it/s]\n",
      "                 Class     Images  Instances          P          R      mAP50   mAP50-95: 100% 3/3 [00:00<00:00,  4.19it/s]\n",
      "                   all         78        193      0.322      0.359      0.305      0.126\n",
      "\n",
      "      Epoch    GPU_mem   box_loss   obj_loss   cls_loss  Instances       Size\n",
      "     35/199      9.74G    0.03416    0.02203   0.006336         44        448: 100% 20/20 [00:03<00:00,  5.94it/s]\n",
      "                 Class     Images  Instances          P          R      mAP50   mAP50-95: 100% 3/3 [00:00<00:00,  4.55it/s]\n",
      "                   all         78        193      0.255      0.333      0.217      0.087\n",
      "\n",
      "      Epoch    GPU_mem   box_loss   obj_loss   cls_loss  Instances       Size\n",
      "     36/199      9.74G    0.03391    0.02171   0.006611         24        448: 100% 20/20 [00:03<00:00,  6.01it/s]\n",
      "                 Class     Images  Instances          P          R      mAP50   mAP50-95: 100% 3/3 [00:00<00:00,  4.58it/s]\n",
      "                   all         78        193      0.305      0.313      0.241      0.103\n",
      "\n",
      "      Epoch    GPU_mem   box_loss   obj_loss   cls_loss  Instances       Size\n",
      "     37/199      9.74G    0.03408    0.02252   0.006699         37        448: 100% 20/20 [00:03<00:00,  6.20it/s]\n",
      "                 Class     Images  Instances          P          R      mAP50   mAP50-95: 100% 3/3 [00:00<00:00,  4.64it/s]\n",
      "                   all         78        193      0.255      0.249      0.179     0.0681\n",
      "\n",
      "      Epoch    GPU_mem   box_loss   obj_loss   cls_loss  Instances       Size\n",
      "     38/199      9.74G    0.03271    0.02179   0.006131         50        448: 100% 20/20 [00:03<00:00,  6.01it/s]\n",
      "                 Class     Images  Instances          P          R      mAP50   mAP50-95: 100% 3/3 [00:00<00:00,  4.58it/s]\n",
      "                   all         78        193      0.224      0.311      0.202     0.0817\n",
      "\n",
      "      Epoch    GPU_mem   box_loss   obj_loss   cls_loss  Instances       Size\n",
      "     39/199      9.74G    0.03201    0.01987   0.006445         35        448: 100% 20/20 [00:03<00:00,  6.15it/s]\n",
      "                 Class     Images  Instances          P          R      mAP50   mAP50-95: 100% 3/3 [00:00<00:00,  4.59it/s]\n",
      "                   all         78        193      0.268      0.306      0.241      0.104\n",
      "\n",
      "      Epoch    GPU_mem   box_loss   obj_loss   cls_loss  Instances       Size\n",
      "     40/199      9.74G    0.03183    0.01977   0.005543         36        448: 100% 20/20 [00:03<00:00,  6.17it/s]\n",
      "                 Class     Images  Instances          P          R      mAP50   mAP50-95: 100% 3/3 [00:00<00:00,  4.50it/s]\n",
      "                   all         78        193      0.271      0.349      0.264     0.0947\n",
      "\n",
      "      Epoch    GPU_mem   box_loss   obj_loss   cls_loss  Instances       Size\n",
      "     41/199      9.74G     0.0314    0.02037   0.005967         31        448: 100% 20/20 [00:03<00:00,  6.04it/s]\n",
      "                 Class     Images  Instances          P          R      mAP50   mAP50-95: 100% 3/3 [00:00<00:00,  4.40it/s]\n",
      "                   all         78        193      0.305      0.329      0.246      0.101\n",
      "\n",
      "      Epoch    GPU_mem   box_loss   obj_loss   cls_loss  Instances       Size\n",
      "     42/199      9.74G    0.03142    0.02077   0.005379         37        448: 100% 20/20 [00:03<00:00,  6.09it/s]\n",
      "                 Class     Images  Instances          P          R      mAP50   mAP50-95: 100% 3/3 [00:00<00:00,  4.38it/s]\n",
      "                   all         78        193      0.315      0.355      0.263        0.1\n",
      "\n",
      "      Epoch    GPU_mem   box_loss   obj_loss   cls_loss  Instances       Size\n",
      "     43/199      9.74G    0.02912    0.02054   0.006862         49        448: 100% 20/20 [00:03<00:00,  6.10it/s]\n",
      "                 Class     Images  Instances          P          R      mAP50   mAP50-95: 100% 3/3 [00:00<00:00,  4.25it/s]\n",
      "                   all         78        193      0.263      0.306      0.219     0.0908\n",
      "\n",
      "      Epoch    GPU_mem   box_loss   obj_loss   cls_loss  Instances       Size\n",
      "     44/199      9.74G     0.0303     0.0194   0.006094         39        448: 100% 20/20 [00:03<00:00,  6.09it/s]\n",
      "                 Class     Images  Instances          P          R      mAP50   mAP50-95: 100% 3/3 [00:00<00:00,  4.55it/s]\n",
      "                   all         78        193      0.374      0.345      0.299      0.126\n",
      "\n",
      "      Epoch    GPU_mem   box_loss   obj_loss   cls_loss  Instances       Size\n",
      "     45/199      9.74G    0.03075    0.01984   0.005567         40        448: 100% 20/20 [00:03<00:00,  6.14it/s]\n",
      "                 Class     Images  Instances          P          R      mAP50   mAP50-95: 100% 3/3 [00:00<00:00,  4.51it/s]\n",
      "                   all         78        193      0.355      0.254       0.25     0.0989\n",
      "\n",
      "      Epoch    GPU_mem   box_loss   obj_loss   cls_loss  Instances       Size\n",
      "     46/199      9.74G    0.03001    0.01931   0.005479         35        448: 100% 20/20 [00:03<00:00,  6.16it/s]\n",
      "                 Class     Images  Instances          P          R      mAP50   mAP50-95: 100% 3/3 [00:00<00:00,  4.67it/s]\n",
      "                   all         78        193       0.25      0.286      0.258      0.107\n",
      "\n",
      "      Epoch    GPU_mem   box_loss   obj_loss   cls_loss  Instances       Size\n",
      "     47/199      9.74G    0.03008    0.01984    0.00536         32        448: 100% 20/20 [00:03<00:00,  6.01it/s]\n",
      "                 Class     Images  Instances          P          R      mAP50   mAP50-95: 100% 3/3 [00:00<00:00,  4.53it/s]\n",
      "                   all         78        193      0.298      0.281      0.244      0.102\n",
      "\n",
      "      Epoch    GPU_mem   box_loss   obj_loss   cls_loss  Instances       Size\n",
      "     48/199      9.74G    0.02942    0.01762   0.006464         28        448: 100% 20/20 [00:03<00:00,  6.02it/s]\n",
      "                 Class     Images  Instances          P          R      mAP50   mAP50-95: 100% 3/3 [00:00<00:00,  4.57it/s]\n",
      "                   all         78        193      0.282      0.339      0.267     0.0992\n",
      "\n",
      "      Epoch    GPU_mem   box_loss   obj_loss   cls_loss  Instances       Size\n",
      "     49/199      9.74G    0.02871    0.01871   0.005273         37        448: 100% 20/20 [00:03<00:00,  5.79it/s]\n",
      "                 Class     Images  Instances          P          R      mAP50   mAP50-95: 100% 3/3 [00:00<00:00,  4.43it/s]\n",
      "                   all         78        193      0.274       0.33      0.249      0.105\n",
      "\n",
      "      Epoch    GPU_mem   box_loss   obj_loss   cls_loss  Instances       Size\n",
      "     50/199      9.74G    0.02971    0.02027   0.005693         28        448: 100% 20/20 [00:03<00:00,  6.13it/s]\n",
      "                 Class     Images  Instances          P          R      mAP50   mAP50-95: 100% 3/3 [00:00<00:00,  4.68it/s]\n",
      "                   all         78        193      0.311      0.272      0.231     0.0872\n",
      "\n",
      "      Epoch    GPU_mem   box_loss   obj_loss   cls_loss  Instances       Size\n",
      "     51/199      9.74G    0.02854    0.01933   0.005909         35        448: 100% 20/20 [00:03<00:00,  6.19it/s]\n",
      "                 Class     Images  Instances          P          R      mAP50   mAP50-95: 100% 3/3 [00:00<00:00,  4.50it/s]\n",
      "                   all         78        193      0.357      0.322      0.272      0.106\n",
      "\n",
      "      Epoch    GPU_mem   box_loss   obj_loss   cls_loss  Instances       Size\n",
      "     52/199      9.74G    0.02737    0.01872   0.004462         47        448: 100% 20/20 [00:03<00:00,  6.10it/s]\n",
      "                 Class     Images  Instances          P          R      mAP50   mAP50-95: 100% 3/3 [00:00<00:00,  4.40it/s]\n",
      "                   all         78        193      0.351      0.305      0.271      0.106\n",
      "\n",
      "      Epoch    GPU_mem   box_loss   obj_loss   cls_loss  Instances       Size\n",
      "     53/199      9.74G    0.02812    0.01781   0.004941         22        448: 100% 20/20 [00:03<00:00,  6.14it/s]\n",
      "                 Class     Images  Instances          P          R      mAP50   mAP50-95: 100% 3/3 [00:00<00:00,  4.57it/s]\n",
      "                   all         78        193       0.37      0.272      0.277      0.124\n",
      "\n",
      "      Epoch    GPU_mem   box_loss   obj_loss   cls_loss  Instances       Size\n",
      "     54/199      9.74G    0.02798     0.0181   0.005466         30        448: 100% 20/20 [00:03<00:00,  6.13it/s]\n",
      "                 Class     Images  Instances          P          R      mAP50   mAP50-95: 100% 3/3 [00:00<00:00,  4.48it/s]\n",
      "                   all         78        193      0.328      0.301      0.249     0.0974\n",
      "\n",
      "      Epoch    GPU_mem   box_loss   obj_loss   cls_loss  Instances       Size\n",
      "     55/199      9.74G    0.02834    0.01846   0.004974         26        448: 100% 20/20 [00:03<00:00,  6.12it/s]\n",
      "                 Class     Images  Instances          P          R      mAP50   mAP50-95: 100% 3/3 [00:00<00:00,  4.50it/s]\n",
      "                   all         78        193      0.343      0.236      0.223     0.0801\n",
      "\n",
      "      Epoch    GPU_mem   box_loss   obj_loss   cls_loss  Instances       Size\n",
      "     56/199      9.74G    0.02783     0.0178   0.003747         28        448: 100% 20/20 [00:03<00:00,  5.88it/s]\n",
      "                 Class     Images  Instances          P          R      mAP50   mAP50-95: 100% 3/3 [00:00<00:00,  4.70it/s]\n",
      "                   all         78        193      0.267      0.283      0.212     0.0896\n",
      "\n",
      "      Epoch    GPU_mem   box_loss   obj_loss   cls_loss  Instances       Size\n",
      "     57/199      9.74G    0.02721     0.0178   0.004804         47        448: 100% 20/20 [00:03<00:00,  6.00it/s]\n",
      "                 Class     Images  Instances          P          R      mAP50   mAP50-95: 100% 3/3 [00:00<00:00,  4.47it/s]\n",
      "                   all         78        193      0.309      0.342      0.239     0.0983\n",
      "\n",
      "      Epoch    GPU_mem   box_loss   obj_loss   cls_loss  Instances       Size\n",
      "     58/199      9.74G    0.02718    0.01704   0.004523         33        448: 100% 20/20 [00:03<00:00,  6.09it/s]\n",
      "                 Class     Images  Instances          P          R      mAP50   mAP50-95: 100% 3/3 [00:00<00:00,  4.58it/s]\n",
      "                   all         78        193      0.321      0.354      0.269      0.113\n",
      "\n",
      "      Epoch    GPU_mem   box_loss   obj_loss   cls_loss  Instances       Size\n",
      "     59/199      9.74G    0.02752     0.0164   0.004762         31        448: 100% 20/20 [00:03<00:00,  6.18it/s]\n",
      "                 Class     Images  Instances          P          R      mAP50   mAP50-95: 100% 3/3 [00:00<00:00,  4.73it/s]\n",
      "                   all         78        193      0.431      0.266      0.257      0.111\n",
      "\n",
      "      Epoch    GPU_mem   box_loss   obj_loss   cls_loss  Instances       Size\n",
      "     60/199      9.74G    0.02627    0.01795   0.004552         38        448: 100% 20/20 [00:03<00:00,  6.15it/s]\n",
      "                 Class     Images  Instances          P          R      mAP50   mAP50-95: 100% 3/3 [00:00<00:00,  4.46it/s]\n",
      "                   all         78        193      0.414      0.266      0.235      0.104\n",
      "\n",
      "      Epoch    GPU_mem   box_loss   obj_loss   cls_loss  Instances       Size\n",
      "     61/199      9.74G    0.02594    0.01748   0.004896         41        448: 100% 20/20 [00:03<00:00,  6.03it/s]\n",
      "                 Class     Images  Instances          P          R      mAP50   mAP50-95: 100% 3/3 [00:00<00:00,  4.82it/s]\n",
      "                   all         78        193      0.345      0.215      0.194     0.0809\n",
      "\n",
      "      Epoch    GPU_mem   box_loss   obj_loss   cls_loss  Instances       Size\n",
      "     62/199      9.74G     0.0264    0.01793   0.004019         37        448: 100% 20/20 [00:03<00:00,  6.19it/s]\n",
      "                 Class     Images  Instances          P          R      mAP50   mAP50-95: 100% 3/3 [00:00<00:00,  4.75it/s]\n",
      "                   all         78        193      0.273      0.242      0.201     0.0779\n",
      "\n",
      "      Epoch    GPU_mem   box_loss   obj_loss   cls_loss  Instances       Size\n",
      "     63/199      9.74G    0.02556    0.01673    0.00443         46        448: 100% 20/20 [00:03<00:00,  6.11it/s]\n",
      "                 Class     Images  Instances          P          R      mAP50   mAP50-95: 100% 3/3 [00:00<00:00,  4.58it/s]\n",
      "                   all         78        193      0.401      0.282      0.274      0.104\n",
      "\n",
      "      Epoch    GPU_mem   box_loss   obj_loss   cls_loss  Instances       Size\n",
      "     64/199      9.74G    0.02568    0.01673   0.004406         35        448: 100% 20/20 [00:03<00:00,  6.18it/s]\n",
      "                 Class     Images  Instances          P          R      mAP50   mAP50-95: 100% 3/3 [00:00<00:00,  4.68it/s]\n",
      "                   all         78        193      0.307      0.293      0.237      0.105\n",
      "\n",
      "      Epoch    GPU_mem   box_loss   obj_loss   cls_loss  Instances       Size\n",
      "     65/199      9.74G     0.0253    0.01733   0.003667         33        448: 100% 20/20 [00:03<00:00,  5.95it/s]\n",
      "                 Class     Images  Instances          P          R      mAP50   mAP50-95: 100% 3/3 [00:00<00:00,  4.71it/s]\n",
      "                   all         78        193      0.328      0.292      0.244      0.109\n",
      "\n",
      "      Epoch    GPU_mem   box_loss   obj_loss   cls_loss  Instances       Size\n",
      "     66/199      9.74G    0.02494     0.0164   0.003411         26        448: 100% 20/20 [00:03<00:00,  5.85it/s]\n",
      "                 Class     Images  Instances          P          R      mAP50   mAP50-95: 100% 3/3 [00:00<00:00,  4.72it/s]\n",
      "                   all         78        193      0.323      0.313      0.241      0.116\n",
      "\n",
      "      Epoch    GPU_mem   box_loss   obj_loss   cls_loss  Instances       Size\n",
      "     67/199      9.74G    0.02552    0.01642   0.003813         42        448: 100% 20/20 [00:03<00:00,  6.06it/s]\n",
      "                 Class     Images  Instances          P          R      mAP50   mAP50-95: 100% 3/3 [00:00<00:00,  4.62it/s]\n",
      "                   all         78        193      0.429        0.3      0.263      0.111\n",
      "\n",
      "      Epoch    GPU_mem   box_loss   obj_loss   cls_loss  Instances       Size\n",
      "     68/199      9.74G     0.0262    0.01556   0.004209         33        448: 100% 20/20 [00:03<00:00,  6.06it/s]\n",
      "                 Class     Images  Instances          P          R      mAP50   mAP50-95: 100% 3/3 [00:00<00:00,  4.56it/s]\n",
      "                   all         78        193      0.348      0.342      0.296      0.132\n",
      "\n",
      "      Epoch    GPU_mem   box_loss   obj_loss   cls_loss  Instances       Size\n",
      "     69/199      9.74G    0.02476      0.016   0.003467         42        448: 100% 20/20 [00:03<00:00,  6.16it/s]\n",
      "                 Class     Images  Instances          P          R      mAP50   mAP50-95: 100% 3/3 [00:00<00:00,  4.67it/s]\n",
      "                   all         78        193      0.345       0.38      0.321      0.131\n",
      "\n",
      "      Epoch    GPU_mem   box_loss   obj_loss   cls_loss  Instances       Size\n",
      "     70/199      9.74G    0.02512    0.01542   0.003851         37        448: 100% 20/20 [00:03<00:00,  6.09it/s]\n",
      "                 Class     Images  Instances          P          R      mAP50   mAP50-95: 100% 3/3 [00:00<00:00,  4.53it/s]\n",
      "                   all         78        193      0.527      0.254      0.303      0.135\n",
      "\n",
      "      Epoch    GPU_mem   box_loss   obj_loss   cls_loss  Instances       Size\n",
      "     71/199      9.74G    0.02466    0.01661   0.003086         27        448: 100% 20/20 [00:03<00:00,  6.01it/s]\n",
      "                 Class     Images  Instances          P          R      mAP50   mAP50-95: 100% 3/3 [00:00<00:00,  4.26it/s]\n",
      "                   all         78        193      0.384      0.243       0.26      0.101\n",
      "\n",
      "      Epoch    GPU_mem   box_loss   obj_loss   cls_loss  Instances       Size\n",
      "     72/199      9.74G    0.02335    0.01563   0.003351         55        448: 100% 20/20 [00:03<00:00,  6.05it/s]\n",
      "                 Class     Images  Instances          P          R      mAP50   mAP50-95: 100% 3/3 [00:00<00:00,  4.68it/s]\n",
      "                   all         78        193       0.32       0.33      0.268      0.115\n",
      "\n",
      "      Epoch    GPU_mem   box_loss   obj_loss   cls_loss  Instances       Size\n",
      "     73/199      9.74G    0.02268    0.01547    0.00346         42        448: 100% 20/20 [00:03<00:00,  5.95it/s]\n",
      "                 Class     Images  Instances          P          R      mAP50   mAP50-95: 100% 3/3 [00:00<00:00,  4.72it/s]\n",
      "                   all         78        193       0.37      0.328      0.279      0.111\n",
      "\n",
      "      Epoch    GPU_mem   box_loss   obj_loss   cls_loss  Instances       Size\n",
      "     74/199      9.74G    0.02433     0.0144   0.003205         38        448: 100% 20/20 [00:03<00:00,  5.90it/s]\n",
      "                 Class     Images  Instances          P          R      mAP50   mAP50-95: 100% 3/3 [00:00<00:00,  4.58it/s]\n",
      "                   all         78        193      0.278      0.294      0.227      0.101\n",
      "\n",
      "      Epoch    GPU_mem   box_loss   obj_loss   cls_loss  Instances       Size\n",
      "     75/199      9.74G     0.0236     0.0154   0.003933         43        448: 100% 20/20 [00:03<00:00,  6.05it/s]\n",
      "                 Class     Images  Instances          P          R      mAP50   mAP50-95: 100% 3/3 [00:00<00:00,  4.45it/s]\n",
      "                   all         78        193      0.259       0.28      0.207     0.0892\n",
      "\n",
      "      Epoch    GPU_mem   box_loss   obj_loss   cls_loss  Instances       Size\n",
      "     76/199      9.74G    0.02217    0.01538   0.004621         35        448: 100% 20/20 [00:03<00:00,  6.04it/s]\n",
      "                 Class     Images  Instances          P          R      mAP50   mAP50-95: 100% 3/3 [00:00<00:00,  4.33it/s]\n",
      "                   all         78        193      0.368      0.354      0.265      0.112\n",
      "\n",
      "      Epoch    GPU_mem   box_loss   obj_loss   cls_loss  Instances       Size\n",
      "     77/199      9.74G    0.02229    0.01486   0.004367         37        448: 100% 20/20 [00:03<00:00,  6.01it/s]\n",
      "                 Class     Images  Instances          P          R      mAP50   mAP50-95: 100% 3/3 [00:00<00:00,  4.64it/s]\n",
      "                   all         78        193      0.457      0.237      0.231      0.103\n",
      "\n",
      "      Epoch    GPU_mem   box_loss   obj_loss   cls_loss  Instances       Size\n",
      "     78/199      9.74G    0.02279     0.0147   0.003735         45        448: 100% 20/20 [00:03<00:00,  6.11it/s]\n",
      "                 Class     Images  Instances          P          R      mAP50   mAP50-95: 100% 3/3 [00:00<00:00,  4.68it/s]\n",
      "                   all         78        193       0.33      0.309      0.249      0.111\n",
      "\n",
      "      Epoch    GPU_mem   box_loss   obj_loss   cls_loss  Instances       Size\n",
      "     79/199      9.74G    0.02294    0.01544   0.003718         40        448: 100% 20/20 [00:03<00:00,  6.12it/s]\n",
      "                 Class     Images  Instances          P          R      mAP50   mAP50-95: 100% 3/3 [00:00<00:00,  4.77it/s]\n",
      "                   all         78        193      0.319      0.271      0.231     0.0866\n",
      "\n",
      "      Epoch    GPU_mem   box_loss   obj_loss   cls_loss  Instances       Size\n",
      "     80/199      9.74G    0.02287    0.01498   0.004018         33        448: 100% 20/20 [00:03<00:00,  6.01it/s]\n",
      "                 Class     Images  Instances          P          R      mAP50   mAP50-95: 100% 3/3 [00:00<00:00,  4.69it/s]\n",
      "                   all         78        193      0.359      0.282      0.252      0.107\n",
      "\n",
      "      Epoch    GPU_mem   box_loss   obj_loss   cls_loss  Instances       Size\n",
      "     81/199      9.74G    0.02204    0.01547   0.003264         31        448: 100% 20/20 [00:03<00:00,  5.66it/s]\n",
      "                 Class     Images  Instances          P          R      mAP50   mAP50-95: 100% 3/3 [00:00<00:00,  4.61it/s]\n",
      "                   all         78        193      0.268      0.332      0.243      0.104\n",
      "\n",
      "      Epoch    GPU_mem   box_loss   obj_loss   cls_loss  Instances       Size\n",
      "     82/199      9.74G      0.022     0.0146   0.003559         34        448: 100% 20/20 [00:03<00:00,  6.09it/s]\n",
      "                 Class     Images  Instances          P          R      mAP50   mAP50-95: 100% 3/3 [00:00<00:00,  4.75it/s]\n",
      "                   all         78        193      0.303      0.299      0.238      0.108\n",
      "\n",
      "      Epoch    GPU_mem   box_loss   obj_loss   cls_loss  Instances       Size\n",
      "     83/199      9.74G    0.02185    0.01498   0.003307         43        448: 100% 20/20 [00:03<00:00,  6.15it/s]\n",
      "                 Class     Images  Instances          P          R      mAP50   mAP50-95: 100% 3/3 [00:00<00:00,  4.68it/s]\n",
      "                   all         78        193      0.295      0.314      0.246      0.116\n",
      "\n",
      "      Epoch    GPU_mem   box_loss   obj_loss   cls_loss  Instances       Size\n",
      "     84/199      9.74G    0.02179    0.01492   0.003196         52        448: 100% 20/20 [00:03<00:00,  6.06it/s]\n",
      "                 Class     Images  Instances          P          R      mAP50   mAP50-95: 100% 3/3 [00:00<00:00,  4.57it/s]\n",
      "                   all         78        193      0.286      0.291      0.239      0.107\n",
      "\n",
      "      Epoch    GPU_mem   box_loss   obj_loss   cls_loss  Instances       Size\n",
      "     85/199      9.74G    0.02242    0.01431   0.002746         39        448: 100% 20/20 [00:03<00:00,  6.13it/s]\n",
      "                 Class     Images  Instances          P          R      mAP50   mAP50-95: 100% 3/3 [00:00<00:00,  4.68it/s]\n",
      "                   all         78        193      0.334       0.34      0.264      0.122\n",
      "\n",
      "      Epoch    GPU_mem   box_loss   obj_loss   cls_loss  Instances       Size\n",
      "     86/199      9.74G    0.02245    0.01362   0.003138         39        448: 100% 20/20 [00:03<00:00,  6.18it/s]\n",
      "                 Class     Images  Instances          P          R      mAP50   mAP50-95: 100% 3/3 [00:00<00:00,  4.64it/s]\n",
      "                   all         78        193      0.338      0.314      0.244      0.101\n",
      "\n",
      "      Epoch    GPU_mem   box_loss   obj_loss   cls_loss  Instances       Size\n",
      "     87/199      9.74G    0.02109    0.01496   0.003268         55        448: 100% 20/20 [00:03<00:00,  6.17it/s]\n",
      "                 Class     Images  Instances          P          R      mAP50   mAP50-95: 100% 3/3 [00:00<00:00,  4.75it/s]\n",
      "                   all         78        193      0.392       0.25      0.269      0.125\n",
      "\n",
      "      Epoch    GPU_mem   box_loss   obj_loss   cls_loss  Instances       Size\n",
      "     88/199      9.74G    0.02168    0.01466   0.003086         40        448: 100% 20/20 [00:03<00:00,  5.95it/s]\n",
      "                 Class     Images  Instances          P          R      mAP50   mAP50-95: 100% 3/3 [00:00<00:00,  4.77it/s]\n",
      "                   all         78        193      0.363      0.283      0.264      0.125\n",
      "\n",
      "      Epoch    GPU_mem   box_loss   obj_loss   cls_loss  Instances       Size\n",
      "     89/199      9.74G    0.02074    0.01334   0.003208         37        448: 100% 20/20 [00:03<00:00,  6.03it/s]\n",
      "                 Class     Images  Instances          P          R      mAP50   mAP50-95: 100% 3/3 [00:00<00:00,  4.31it/s]\n",
      "                   all         78        193      0.392      0.317      0.285      0.141\n",
      "\n",
      "      Epoch    GPU_mem   box_loss   obj_loss   cls_loss  Instances       Size\n",
      "     90/199      9.74G    0.02078     0.0141   0.004281         37        448: 100% 20/20 [00:03<00:00,  6.02it/s]\n",
      "                 Class     Images  Instances          P          R      mAP50   mAP50-95: 100% 3/3 [00:00<00:00,  4.73it/s]\n",
      "                   all         78        193      0.328      0.288      0.251      0.125\n",
      "\n",
      "      Epoch    GPU_mem   box_loss   obj_loss   cls_loss  Instances       Size\n",
      "     91/199      9.74G    0.02086    0.01386   0.003312         39        448: 100% 20/20 [00:03<00:00,  5.98it/s]\n",
      "                 Class     Images  Instances          P          R      mAP50   mAP50-95: 100% 3/3 [00:00<00:00,  4.55it/s]\n",
      "                   all         78        193      0.376      0.283      0.266      0.121\n",
      "\n",
      "      Epoch    GPU_mem   box_loss   obj_loss   cls_loss  Instances       Size\n",
      "     92/199      9.74G    0.02068     0.0132   0.003063         34        448: 100% 20/20 [00:03<00:00,  5.99it/s]\n",
      "                 Class     Images  Instances          P          R      mAP50   mAP50-95: 100% 3/3 [00:00<00:00,  4.58it/s]\n",
      "                   all         78        193      0.325        0.3      0.267      0.107\n",
      "\n",
      "      Epoch    GPU_mem   box_loss   obj_loss   cls_loss  Instances       Size\n",
      "     93/199      9.74G    0.02037    0.01338   0.003622         28        448: 100% 20/20 [00:03<00:00,  5.98it/s]\n",
      "                 Class     Images  Instances          P          R      mAP50   mAP50-95: 100% 3/3 [00:00<00:00,  4.63it/s]\n",
      "                   all         78        193      0.327      0.306      0.277      0.121\n",
      "\n",
      "      Epoch    GPU_mem   box_loss   obj_loss   cls_loss  Instances       Size\n",
      "     94/199      9.74G    0.02064    0.01367   0.003518         37        448: 100% 20/20 [00:03<00:00,  6.05it/s]\n",
      "                 Class     Images  Instances          P          R      mAP50   mAP50-95: 100% 3/3 [00:00<00:00,  4.79it/s]\n",
      "                   all         78        193      0.377      0.292      0.252      0.112\n",
      "\n",
      "      Epoch    GPU_mem   box_loss   obj_loss   cls_loss  Instances       Size\n",
      "     95/199      9.74G    0.01969     0.0132    0.00298         33        448: 100% 20/20 [00:03<00:00,  6.06it/s]\n",
      "                 Class     Images  Instances          P          R      mAP50   mAP50-95: 100% 3/3 [00:00<00:00,  4.71it/s]\n",
      "                   all         78        193      0.313       0.33      0.267      0.118\n",
      "\n",
      "      Epoch    GPU_mem   box_loss   obj_loss   cls_loss  Instances       Size\n",
      "     96/199      9.74G    0.01953     0.0134   0.003591         31        448: 100% 20/20 [00:03<00:00,  5.99it/s]\n",
      "                 Class     Images  Instances          P          R      mAP50   mAP50-95: 100% 3/3 [00:00<00:00,  4.42it/s]\n",
      "                   all         78        193      0.398      0.349       0.31      0.132\n",
      "\n",
      "      Epoch    GPU_mem   box_loss   obj_loss   cls_loss  Instances       Size\n",
      "     97/199      9.74G    0.01965    0.01332   0.002334         55        448: 100% 20/20 [00:03<00:00,  6.07it/s]\n",
      "                 Class     Images  Instances          P          R      mAP50   mAP50-95: 100% 3/3 [00:00<00:00,  4.85it/s]\n",
      "                   all         78        193      0.421      0.336      0.314      0.126\n",
      "\n",
      "      Epoch    GPU_mem   box_loss   obj_loss   cls_loss  Instances       Size\n",
      "     98/199      9.74G    0.01992    0.01399   0.002726         45        448: 100% 20/20 [00:03<00:00,  6.04it/s]\n",
      "                 Class     Images  Instances          P          R      mAP50   mAP50-95: 100% 3/3 [00:00<00:00,  4.81it/s]\n",
      "                   all         78        193      0.395       0.31        0.3      0.139\n",
      "\n",
      "      Epoch    GPU_mem   box_loss   obj_loss   cls_loss  Instances       Size\n",
      "     99/199      9.74G    0.01978    0.01301   0.002939         38        448: 100% 20/20 [00:03<00:00,  6.15it/s]\n",
      "                 Class     Images  Instances          P          R      mAP50   mAP50-95: 100% 3/3 [00:00<00:00,  4.65it/s]\n",
      "                   all         78        193      0.451      0.291      0.297      0.137\n",
      "\n",
      "      Epoch    GPU_mem   box_loss   obj_loss   cls_loss  Instances       Size\n",
      "    100/199      9.74G    0.01897    0.01327   0.002665         28        448: 100% 20/20 [00:03<00:00,  5.70it/s]\n",
      "                 Class     Images  Instances          P          R      mAP50   mAP50-95: 100% 3/3 [00:00<00:00,  4.80it/s]\n",
      "                   all         78        193      0.452      0.338      0.322      0.139\n",
      "\n",
      "      Epoch    GPU_mem   box_loss   obj_loss   cls_loss  Instances       Size\n",
      "    101/199      9.74G    0.01964    0.01311   0.002786         35        448: 100% 20/20 [00:03<00:00,  6.15it/s]\n",
      "                 Class     Images  Instances          P          R      mAP50   mAP50-95: 100% 3/3 [00:00<00:00,  4.80it/s]\n",
      "                   all         78        193      0.476      0.291      0.286       0.12\n",
      "\n",
      "      Epoch    GPU_mem   box_loss   obj_loss   cls_loss  Instances       Size\n",
      "    102/199      9.74G    0.01883    0.01251   0.002551         35        448: 100% 20/20 [00:03<00:00,  6.04it/s]\n",
      "                 Class     Images  Instances          P          R      mAP50   mAP50-95: 100% 3/3 [00:00<00:00,  4.74it/s]\n",
      "                   all         78        193      0.584      0.281       0.29      0.133\n",
      "\n",
      "      Epoch    GPU_mem   box_loss   obj_loss   cls_loss  Instances       Size\n",
      "    103/199      9.74G    0.01909    0.01354   0.002468         48        448: 100% 20/20 [00:03<00:00,  6.03it/s]\n",
      "                 Class     Images  Instances          P          R      mAP50   mAP50-95: 100% 3/3 [00:00<00:00,  4.67it/s]\n",
      "                   all         78        193      0.389      0.243      0.236      0.101\n",
      "\n",
      "      Epoch    GPU_mem   box_loss   obj_loss   cls_loss  Instances       Size\n",
      "    104/199      9.74G    0.01875    0.01208   0.002309         30        448: 100% 20/20 [00:03<00:00,  6.10it/s]\n",
      "                 Class     Images  Instances          P          R      mAP50   mAP50-95: 100% 3/3 [00:00<00:00,  4.68it/s]\n",
      "                   all         78        193       0.51      0.279      0.277      0.119\n",
      "\n",
      "      Epoch    GPU_mem   box_loss   obj_loss   cls_loss  Instances       Size\n",
      "    105/199      9.74G    0.01832    0.01278   0.002872         41        448: 100% 20/20 [00:03<00:00,  6.19it/s]\n",
      "                 Class     Images  Instances          P          R      mAP50   mAP50-95: 100% 3/3 [00:00<00:00,  4.76it/s]\n",
      "                   all         78        193      0.429      0.289      0.256      0.112\n",
      "\n",
      "      Epoch    GPU_mem   box_loss   obj_loss   cls_loss  Instances       Size\n",
      "    106/199      9.74G    0.01846    0.01274   0.003073         32        448: 100% 20/20 [00:03<00:00,  6.02it/s]\n",
      "                 Class     Images  Instances          P          R      mAP50   mAP50-95: 100% 3/3 [00:00<00:00,  4.75it/s]\n",
      "                   all         78        193      0.406      0.303      0.236      0.104\n",
      "\n",
      "      Epoch    GPU_mem   box_loss   obj_loss   cls_loss  Instances       Size\n",
      "    107/199      9.74G    0.01847    0.01268   0.002665         31        448: 100% 20/20 [00:03<00:00,  6.14it/s]\n",
      "                 Class     Images  Instances          P          R      mAP50   mAP50-95: 100% 3/3 [00:00<00:00,  4.85it/s]\n",
      "                   all         78        193      0.488      0.248      0.244       0.11\n",
      "\n",
      "      Epoch    GPU_mem   box_loss   obj_loss   cls_loss  Instances       Size\n",
      "    108/199      9.74G    0.01754    0.01233     0.0027         34        448: 100% 20/20 [00:03<00:00,  6.20it/s]\n",
      "                 Class     Images  Instances          P          R      mAP50   mAP50-95: 100% 3/3 [00:00<00:00,  4.78it/s]\n",
      "                   all         78        193      0.343      0.293      0.246      0.116\n",
      "\n",
      "      Epoch    GPU_mem   box_loss   obj_loss   cls_loss  Instances       Size\n",
      "    109/199      9.74G    0.01847    0.01188   0.002433         39        448: 100% 20/20 [00:03<00:00,  6.10it/s]\n",
      "                 Class     Images  Instances          P          R      mAP50   mAP50-95: 100% 3/3 [00:00<00:00,  4.81it/s]\n",
      "                   all         78        193      0.309      0.275      0.226      0.108\n",
      "\n",
      "      Epoch    GPU_mem   box_loss   obj_loss   cls_loss  Instances       Size\n",
      "    110/199      9.74G    0.01751     0.0122   0.002785         39        448: 100% 20/20 [00:03<00:00,  6.21it/s]\n",
      "                 Class     Images  Instances          P          R      mAP50   mAP50-95: 100% 3/3 [00:00<00:00,  4.79it/s]\n",
      "                   all         78        193        0.4      0.274      0.251      0.114\n",
      "\n",
      "      Epoch    GPU_mem   box_loss   obj_loss   cls_loss  Instances       Size\n",
      "    111/199      9.74G    0.01836    0.01219   0.002504         34        448: 100% 20/20 [00:03<00:00,  6.05it/s]\n",
      "                 Class     Images  Instances          P          R      mAP50   mAP50-95: 100% 3/3 [00:00<00:00,  4.81it/s]\n",
      "                   all         78        193      0.303       0.31      0.239      0.111\n",
      "\n",
      "      Epoch    GPU_mem   box_loss   obj_loss   cls_loss  Instances       Size\n",
      "    112/199      9.74G    0.01846    0.01222   0.002503         36        448: 100% 20/20 [00:03<00:00,  6.13it/s]\n",
      "                 Class     Images  Instances          P          R      mAP50   mAP50-95: 100% 3/3 [00:00<00:00,  4.78it/s]\n",
      "                   all         78        193      0.418      0.295       0.27      0.125\n",
      "\n",
      "      Epoch    GPU_mem   box_loss   obj_loss   cls_loss  Instances       Size\n",
      "    113/199      9.74G    0.01807    0.01253   0.001758         29        448: 100% 20/20 [00:03<00:00,  6.06it/s]\n",
      "                 Class     Images  Instances          P          R      mAP50   mAP50-95: 100% 3/3 [00:00<00:00,  4.86it/s]\n",
      "                   all         78        193      0.397      0.317      0.272       0.12\n",
      "\n",
      "      Epoch    GPU_mem   box_loss   obj_loss   cls_loss  Instances       Size\n",
      "    114/199      9.74G    0.01771    0.01178   0.002346         40        448: 100% 20/20 [00:03<00:00,  6.18it/s]\n",
      "                 Class     Images  Instances          P          R      mAP50   mAP50-95: 100% 3/3 [00:00<00:00,  4.75it/s]\n",
      "                   all         78        193      0.353       0.34      0.277      0.121\n",
      "\n",
      "      Epoch    GPU_mem   box_loss   obj_loss   cls_loss  Instances       Size\n",
      "    115/199      9.74G    0.01725    0.01146   0.002081         37        448: 100% 20/20 [00:03<00:00,  6.16it/s]\n",
      "                 Class     Images  Instances          P          R      mAP50   mAP50-95: 100% 3/3 [00:00<00:00,  4.85it/s]\n",
      "                   all         78        193      0.366       0.31      0.257      0.113\n",
      "\n",
      "      Epoch    GPU_mem   box_loss   obj_loss   cls_loss  Instances       Size\n",
      "    116/199      9.74G    0.01775    0.01117   0.002147         36        448: 100% 20/20 [00:03<00:00,  6.19it/s]\n",
      "                 Class     Images  Instances          P          R      mAP50   mAP50-95: 100% 3/3 [00:00<00:00,  4.70it/s]\n",
      "                   all         78        193      0.401       0.35      0.282      0.112\n",
      "\n",
      "      Epoch    GPU_mem   box_loss   obj_loss   cls_loss  Instances       Size\n",
      "    117/199      9.74G    0.01703    0.01191   0.002136         27        448: 100% 20/20 [00:03<00:00,  6.16it/s]\n",
      "                 Class     Images  Instances          P          R      mAP50   mAP50-95: 100% 3/3 [00:00<00:00,  4.87it/s]\n",
      "                   all         78        193      0.394      0.339      0.275      0.113\n",
      "\n",
      "      Epoch    GPU_mem   box_loss   obj_loss   cls_loss  Instances       Size\n",
      "    118/199      9.74G    0.01666    0.01151   0.001837         34        448: 100% 20/20 [00:03<00:00,  6.14it/s]\n",
      "                 Class     Images  Instances          P          R      mAP50   mAP50-95: 100% 3/3 [00:00<00:00,  4.86it/s]\n",
      "                   all         78        193      0.378      0.315      0.278      0.106\n",
      "\n",
      "      Epoch    GPU_mem   box_loss   obj_loss   cls_loss  Instances       Size\n",
      "    119/199      9.74G    0.01655    0.01187   0.002384         41        448: 100% 20/20 [00:03<00:00,  5.73it/s]\n",
      "                 Class     Images  Instances          P          R      mAP50   mAP50-95: 100% 3/3 [00:00<00:00,  4.85it/s]\n",
      "                   all         78        193      0.344      0.301       0.25     0.0959\n",
      "\n",
      "      Epoch    GPU_mem   box_loss   obj_loss   cls_loss  Instances       Size\n",
      "    120/199      9.74G    0.01684    0.01168   0.002397         38        448: 100% 20/20 [00:03<00:00,  5.94it/s]\n",
      "                 Class     Images  Instances          P          R      mAP50   mAP50-95: 100% 3/3 [00:00<00:00,  4.84it/s]\n",
      "                   all         78        193      0.333      0.254      0.226     0.0979\n",
      "\n",
      "      Epoch    GPU_mem   box_loss   obj_loss   cls_loss  Instances       Size\n",
      "    121/199      9.74G    0.01663    0.01196   0.002187         35        448: 100% 20/20 [00:03<00:00,  6.15it/s]\n",
      "                 Class     Images  Instances          P          R      mAP50   mAP50-95: 100% 3/3 [00:00<00:00,  4.94it/s]\n",
      "                   all         78        193        0.3      0.258      0.199     0.0844\n",
      "\n",
      "      Epoch    GPU_mem   box_loss   obj_loss   cls_loss  Instances       Size\n",
      "    122/199      9.74G     0.0163    0.01159   0.002209         36        448: 100% 20/20 [00:03<00:00,  6.05it/s]\n",
      "                 Class     Images  Instances          P          R      mAP50   mAP50-95: 100% 3/3 [00:00<00:00,  4.89it/s]\n",
      "                   all         78        193      0.343      0.261      0.225     0.0936\n",
      "\n",
      "      Epoch    GPU_mem   box_loss   obj_loss   cls_loss  Instances       Size\n",
      "    123/199      9.74G    0.01614    0.01152   0.002033         37        448: 100% 20/20 [00:03<00:00,  5.96it/s]\n",
      "                 Class     Images  Instances          P          R      mAP50   mAP50-95: 100% 3/3 [00:00<00:00,  4.55it/s]\n",
      "                   all         78        193      0.346      0.278      0.232     0.0989\n",
      "\n",
      "      Epoch    GPU_mem   box_loss   obj_loss   cls_loss  Instances       Size\n",
      "    124/199      9.74G    0.01658    0.01205   0.002189         43        448: 100% 20/20 [00:03<00:00,  6.17it/s]\n",
      "                 Class     Images  Instances          P          R      mAP50   mAP50-95: 100% 3/3 [00:00<00:00,  4.80it/s]\n",
      "                   all         78        193      0.365      0.306      0.275      0.114\n",
      "\n",
      "      Epoch    GPU_mem   box_loss   obj_loss   cls_loss  Instances       Size\n",
      "    125/199      9.74G    0.01587    0.01111   0.001851         28        448: 100% 20/20 [00:03<00:00,  6.09it/s]\n",
      "                 Class     Images  Instances          P          R      mAP50   mAP50-95: 100% 3/3 [00:00<00:00,  4.64it/s]\n",
      "                   all         78        193      0.361      0.319      0.261      0.105\n",
      "\n",
      "      Epoch    GPU_mem   box_loss   obj_loss   cls_loss  Instances       Size\n",
      "    126/199      9.74G     0.0162    0.01108   0.001595         27        448: 100% 20/20 [00:03<00:00,  6.20it/s]\n",
      "                 Class     Images  Instances          P          R      mAP50   mAP50-95: 100% 3/3 [00:00<00:00,  4.84it/s]\n",
      "                   all         78        193      0.394      0.313      0.267      0.108\n",
      "\n",
      "      Epoch    GPU_mem   box_loss   obj_loss   cls_loss  Instances       Size\n",
      "    127/199      9.74G    0.01512     0.0112   0.002007         33        448: 100% 20/20 [00:03<00:00,  6.12it/s]\n",
      "                 Class     Images  Instances          P          R      mAP50   mAP50-95: 100% 3/3 [00:00<00:00,  4.78it/s]\n",
      "                   all         78        193       0.37      0.292      0.274      0.113\n",
      "\n",
      "      Epoch    GPU_mem   box_loss   obj_loss   cls_loss  Instances       Size\n",
      "    128/199      9.74G    0.01605     0.0116   0.002057         40        448: 100% 20/20 [00:03<00:00,  6.12it/s]\n",
      "                 Class     Images  Instances          P          R      mAP50   mAP50-95: 100% 3/3 [00:00<00:00,  4.86it/s]\n",
      "                   all         78        193      0.395      0.294      0.268      0.112\n",
      "\n",
      "      Epoch    GPU_mem   box_loss   obj_loss   cls_loss  Instances       Size\n",
      "    129/199      9.74G    0.01563    0.01125   0.001579         33        448: 100% 20/20 [00:03<00:00,  5.95it/s]\n",
      "                 Class     Images  Instances          P          R      mAP50   mAP50-95: 100% 3/3 [00:00<00:00,  4.67it/s]\n",
      "                   all         78        193      0.443      0.268      0.279      0.114\n",
      "\n",
      "      Epoch    GPU_mem   box_loss   obj_loss   cls_loss  Instances       Size\n",
      "    130/199      9.74G    0.01487    0.01024   0.001924         49        448: 100% 20/20 [00:03<00:00,  6.03it/s]\n",
      "                 Class     Images  Instances          P          R      mAP50   mAP50-95: 100% 3/3 [00:00<00:00,  4.77it/s]\n",
      "                   all         78        193      0.493      0.275      0.303      0.124\n",
      "\n",
      "      Epoch    GPU_mem   box_loss   obj_loss   cls_loss  Instances       Size\n",
      "    131/199      9.74G    0.01507    0.01109   0.001845         44        448: 100% 20/20 [00:03<00:00,  5.89it/s]\n",
      "                 Class     Images  Instances          P          R      mAP50   mAP50-95: 100% 3/3 [00:00<00:00,  4.63it/s]\n",
      "                   all         78        193      0.353      0.299      0.276      0.116\n",
      "\n",
      "      Epoch    GPU_mem   box_loss   obj_loss   cls_loss  Instances       Size\n",
      "    132/199      9.74G    0.01487    0.01019   0.001841         36        448: 100% 20/20 [00:03<00:00,  6.01it/s]\n",
      "                 Class     Images  Instances          P          R      mAP50   mAP50-95: 100% 3/3 [00:00<00:00,  4.68it/s]\n",
      "                   all         78        193      0.377      0.298      0.287      0.126\n",
      "\n",
      "      Epoch    GPU_mem   box_loss   obj_loss   cls_loss  Instances       Size\n",
      "    133/199      9.74G    0.01502      0.011   0.001584         33        448: 100% 20/20 [00:03<00:00,  5.99it/s]\n",
      "                 Class     Images  Instances          P          R      mAP50   mAP50-95: 100% 3/3 [00:00<00:00,  4.74it/s]\n",
      "                   all         78        193      0.398      0.288      0.298      0.127\n",
      "\n",
      "      Epoch    GPU_mem   box_loss   obj_loss   cls_loss  Instances       Size\n",
      "    134/199      9.74G    0.01502     0.0105   0.001703         34        448: 100% 20/20 [00:03<00:00,  6.00it/s]\n",
      "                 Class     Images  Instances          P          R      mAP50   mAP50-95: 100% 3/3 [00:00<00:00,  4.66it/s]\n",
      "                   all         78        193       0.41      0.329      0.303      0.125\n",
      "\n",
      "      Epoch    GPU_mem   box_loss   obj_loss   cls_loss  Instances       Size\n",
      "    135/199      9.74G    0.01484    0.01045    0.00157         37        448: 100% 20/20 [00:03<00:00,  6.04it/s]\n",
      "                 Class     Images  Instances          P          R      mAP50   mAP50-95: 100% 3/3 [00:00<00:00,  4.81it/s]\n",
      "                   all         78        193      0.457      0.282      0.285      0.131\n",
      "\n",
      "      Epoch    GPU_mem   box_loss   obj_loss   cls_loss  Instances       Size\n",
      "    136/199      9.74G    0.01443    0.01081   0.001426         40        448: 100% 20/20 [00:03<00:00,  6.01it/s]\n",
      "                 Class     Images  Instances          P          R      mAP50   mAP50-95: 100% 3/3 [00:00<00:00,  4.70it/s]\n",
      "                   all         78        193      0.416      0.295      0.305      0.137\n",
      "\n",
      "      Epoch    GPU_mem   box_loss   obj_loss   cls_loss  Instances       Size\n",
      "    137/199      9.74G    0.01429    0.01061   0.001987         35        448: 100% 20/20 [00:03<00:00,  5.98it/s]\n",
      "                 Class     Images  Instances          P          R      mAP50   mAP50-95: 100% 3/3 [00:00<00:00,  4.79it/s]\n",
      "                   all         78        193      0.398      0.306      0.307      0.138\n",
      "\n",
      "      Epoch    GPU_mem   box_loss   obj_loss   cls_loss  Instances       Size\n",
      "    138/199      9.74G    0.01395    0.01052   0.001812         34        448: 100% 20/20 [00:03<00:00,  5.88it/s]\n",
      "                 Class     Images  Instances          P          R      mAP50   mAP50-95: 100% 3/3 [00:00<00:00,  4.79it/s]\n",
      "                   all         78        193      0.413      0.321      0.284      0.129\n",
      "\n",
      "      Epoch    GPU_mem   box_loss   obj_loss   cls_loss  Instances       Size\n",
      "    139/199      9.74G    0.01444    0.01045   0.001494         35        448: 100% 20/20 [00:03<00:00,  5.96it/s]\n",
      "                 Class     Images  Instances          P          R      mAP50   mAP50-95: 100% 3/3 [00:00<00:00,  4.79it/s]\n",
      "                   all         78        193      0.394      0.318        0.3      0.132\n",
      "\n",
      "      Epoch    GPU_mem   box_loss   obj_loss   cls_loss  Instances       Size\n",
      "    140/199      9.74G    0.01435    0.01004   0.001497         24        448: 100% 20/20 [00:03<00:00,  5.91it/s]\n",
      "                 Class     Images  Instances          P          R      mAP50   mAP50-95: 100% 3/3 [00:00<00:00,  4.74it/s]\n",
      "                   all         78        193      0.372      0.317      0.283      0.124\n",
      "\n",
      "      Epoch    GPU_mem   box_loss   obj_loss   cls_loss  Instances       Size\n",
      "    141/199      9.74G    0.01374   0.009918   0.001541         33        448: 100% 20/20 [00:03<00:00,  5.95it/s]\n",
      "                 Class     Images  Instances          P          R      mAP50   mAP50-95: 100% 3/3 [00:00<00:00,  4.69it/s]\n",
      "                   all         78        193      0.353      0.295       0.26      0.113\n",
      "\n",
      "      Epoch    GPU_mem   box_loss   obj_loss   cls_loss  Instances       Size\n",
      "    142/199      9.74G    0.01387    0.01038   0.001504         40        448: 100% 20/20 [00:03<00:00,  6.02it/s]\n",
      "                 Class     Images  Instances          P          R      mAP50   mAP50-95: 100% 3/3 [00:00<00:00,  4.84it/s]\n",
      "                   all         78        193      0.414      0.255      0.258      0.112\n",
      "\n",
      "      Epoch    GPU_mem   box_loss   obj_loss   cls_loss  Instances       Size\n",
      "    143/199      9.74G    0.01409   0.009702   0.001438         36        448: 100% 20/20 [00:03<00:00,  5.98it/s]\n",
      "                 Class     Images  Instances          P          R      mAP50   mAP50-95: 100% 3/3 [00:00<00:00,  4.67it/s]\n",
      "                   all         78        193      0.404       0.26      0.261      0.114\n",
      "\n",
      "      Epoch    GPU_mem   box_loss   obj_loss   cls_loss  Instances       Size\n",
      "    144/199      9.74G    0.01352   0.009287   0.001452         21        448: 100% 20/20 [00:03<00:00,  6.19it/s]\n",
      "                 Class     Images  Instances          P          R      mAP50   mAP50-95: 100% 3/3 [00:00<00:00,  4.73it/s]\n",
      "                   all         78        193      0.384      0.242      0.243      0.115\n",
      "\n",
      "      Epoch    GPU_mem   box_loss   obj_loss   cls_loss  Instances       Size\n",
      "    145/199      9.74G    0.01359    0.01003   0.001236         39        448: 100% 20/20 [00:03<00:00,  6.14it/s]\n",
      "                 Class     Images  Instances          P          R      mAP50   mAP50-95: 100% 3/3 [00:00<00:00,  4.73it/s]\n",
      "                   all         78        193      0.373      0.268      0.256      0.116\n",
      "\n",
      "      Epoch    GPU_mem   box_loss   obj_loss   cls_loss  Instances       Size\n",
      "    146/199      9.74G     0.0133    0.01016   0.001413         25        448: 100% 20/20 [00:03<00:00,  6.16it/s]\n",
      "                 Class     Images  Instances          P          R      mAP50   mAP50-95: 100% 3/3 [00:00<00:00,  4.80it/s]\n",
      "                   all         78        193      0.365      0.284      0.258      0.119\n",
      "\n",
      "      Epoch    GPU_mem   box_loss   obj_loss   cls_loss  Instances       Size\n",
      "    147/199      9.74G    0.01331     0.0103   0.002584         34        448: 100% 20/20 [00:03<00:00,  6.05it/s]\n",
      "                 Class     Images  Instances          P          R      mAP50   mAP50-95: 100% 3/3 [00:00<00:00,  4.86it/s]\n",
      "                   all         78        193      0.354      0.283      0.256      0.116\n",
      "\n",
      "      Epoch    GPU_mem   box_loss   obj_loss   cls_loss  Instances       Size\n",
      "    148/199      9.74G    0.01311   0.009905   0.001496         33        448: 100% 20/20 [00:03<00:00,  6.14it/s]\n",
      "                 Class     Images  Instances          P          R      mAP50   mAP50-95: 100% 3/3 [00:00<00:00,  4.84it/s]\n",
      "                   all         78        193      0.341      0.276      0.267      0.117\n",
      "\n",
      "      Epoch    GPU_mem   box_loss   obj_loss   cls_loss  Instances       Size\n",
      "    149/199      9.74G    0.01263   0.009463   0.001489         40        448: 100% 20/20 [00:03<00:00,  6.06it/s]\n",
      "                 Class     Images  Instances          P          R      mAP50   mAP50-95: 100% 3/3 [00:00<00:00,  4.88it/s]\n",
      "                   all         78        193      0.387      0.256      0.248      0.108\n",
      "\n",
      "      Epoch    GPU_mem   box_loss   obj_loss   cls_loss  Instances       Size\n",
      "    150/199      9.74G    0.01298   0.009879   0.001235         33        448: 100% 20/20 [00:03<00:00,  6.13it/s]\n",
      "                 Class     Images  Instances          P          R      mAP50   mAP50-95: 100% 3/3 [00:00<00:00,  4.94it/s]\n",
      "                   all         78        193      0.364      0.249      0.227      0.101\n",
      "\n",
      "      Epoch    GPU_mem   box_loss   obj_loss   cls_loss  Instances       Size\n",
      "    151/199      9.74G    0.01287   0.009323   0.001374         37        448: 100% 20/20 [00:03<00:00,  6.14it/s]\n",
      "                 Class     Images  Instances          P          R      mAP50   mAP50-95: 100% 3/3 [00:00<00:00,  4.93it/s]\n",
      "                   all         78        193       0.38      0.241      0.216     0.0991\n",
      "\n",
      "      Epoch    GPU_mem   box_loss   obj_loss   cls_loss  Instances       Size\n",
      "    152/199      9.74G    0.01317   0.009501   0.001268         38        448: 100% 20/20 [00:03<00:00,  6.07it/s]\n",
      "                 Class     Images  Instances          P          R      mAP50   mAP50-95: 100% 3/3 [00:00<00:00,  4.85it/s]\n",
      "                   all         78        193      0.357      0.255      0.233      0.101\n",
      "\n",
      "      Epoch    GPU_mem   box_loss   obj_loss   cls_loss  Instances       Size\n",
      "    153/199      9.74G    0.01273    0.00968   0.001351         30        448: 100% 20/20 [00:03<00:00,  6.10it/s]\n",
      "                 Class     Images  Instances          P          R      mAP50   mAP50-95: 100% 3/3 [00:00<00:00,  4.91it/s]\n",
      "                   all         78        193      0.421       0.24      0.244      0.107\n",
      "\n",
      "      Epoch    GPU_mem   box_loss   obj_loss   cls_loss  Instances       Size\n",
      "    154/199      9.74G    0.01267   0.009465   0.001309         22        448: 100% 20/20 [00:03<00:00,  6.10it/s]\n",
      "                 Class     Images  Instances          P          R      mAP50   mAP50-95: 100% 3/3 [00:00<00:00,  4.84it/s]\n",
      "                   all         78        193      0.367      0.246      0.236      0.108\n",
      "\n",
      "      Epoch    GPU_mem   box_loss   obj_loss   cls_loss  Instances       Size\n",
      "    155/199      9.74G    0.01196   0.009078   0.001209         44        448: 100% 20/20 [00:03<00:00,  6.08it/s]\n",
      "                 Class     Images  Instances          P          R      mAP50   mAP50-95: 100% 3/3 [00:00<00:00,  4.80it/s]\n",
      "                   all         78        193      0.386      0.281      0.262      0.117\n",
      "\n",
      "      Epoch    GPU_mem   box_loss   obj_loss   cls_loss  Instances       Size\n",
      "    156/199      9.74G    0.01287    0.00925   0.001274         23        448: 100% 20/20 [00:03<00:00,  6.11it/s]\n",
      "                 Class     Images  Instances          P          R      mAP50   mAP50-95: 100% 3/3 [00:00<00:00,  4.74it/s]\n",
      "                   all         78        193      0.356      0.272      0.255      0.124\n",
      "\n",
      "      Epoch    GPU_mem   box_loss   obj_loss   cls_loss  Instances       Size\n",
      "    157/199      9.74G    0.01167   0.008954   0.001218         36        448: 100% 20/20 [00:03<00:00,  6.10it/s]\n",
      "                 Class     Images  Instances          P          R      mAP50   mAP50-95: 100% 3/3 [00:00<00:00,  4.87it/s]\n",
      "                   all         78        193      0.349      0.285      0.256      0.127\n",
      "\n",
      "      Epoch    GPU_mem   box_loss   obj_loss   cls_loss  Instances       Size\n",
      "    158/199      9.74G    0.01219   0.009432   0.001234         38        448: 100% 20/20 [00:03<00:00,  6.15it/s]\n",
      "                 Class     Images  Instances          P          R      mAP50   mAP50-95: 100% 3/3 [00:00<00:00,  4.73it/s]\n",
      "                   all         78        193      0.346      0.263      0.262      0.126\n",
      "\n",
      "      Epoch    GPU_mem   box_loss   obj_loss   cls_loss  Instances       Size\n",
      "    159/199      9.74G    0.01183   0.009566   0.001142         33        448: 100% 20/20 [00:03<00:00,  6.12it/s]\n",
      "                 Class     Images  Instances          P          R      mAP50   mAP50-95: 100% 3/3 [00:00<00:00,  4.85it/s]\n",
      "                   all         78        193      0.361       0.27      0.265       0.12\n",
      "\n",
      "      Epoch    GPU_mem   box_loss   obj_loss   cls_loss  Instances       Size\n",
      "    160/199      9.74G    0.01177   0.008986   0.001033         35        448: 100% 20/20 [00:03<00:00,  6.11it/s]\n",
      "                 Class     Images  Instances          P          R      mAP50   mAP50-95: 100% 3/3 [00:00<00:00,  4.91it/s]\n",
      "                   all         78        193      0.413      0.289      0.263      0.117\n",
      "\n",
      "      Epoch    GPU_mem   box_loss   obj_loss   cls_loss  Instances       Size\n",
      "    161/199      9.74G    0.01159    0.00901   0.001286         33        448: 100% 20/20 [00:03<00:00,  6.18it/s]\n",
      "                 Class     Images  Instances          P          R      mAP50   mAP50-95: 100% 3/3 [00:00<00:00,  4.68it/s]\n",
      "                   all         78        193      0.387      0.255      0.249      0.114\n",
      "\n",
      "      Epoch    GPU_mem   box_loss   obj_loss   cls_loss  Instances       Size\n",
      "    162/199      9.74G    0.01146   0.008901   0.001078         35        448: 100% 20/20 [00:03<00:00,  6.08it/s]\n",
      "                 Class     Images  Instances          P          R      mAP50   mAP50-95: 100% 3/3 [00:00<00:00,  4.89it/s]\n",
      "                   all         78        193      0.374      0.253      0.251      0.114\n",
      "\n",
      "      Epoch    GPU_mem   box_loss   obj_loss   cls_loss  Instances       Size\n",
      "    163/199      9.74G    0.01131   0.009034   0.001383         36        448: 100% 20/20 [00:03<00:00,  6.14it/s]\n",
      "                 Class     Images  Instances          P          R      mAP50   mAP50-95: 100% 3/3 [00:00<00:00,  4.79it/s]\n",
      "                   all         78        193      0.347      0.254       0.24       0.11\n",
      "\n",
      "      Epoch    GPU_mem   box_loss   obj_loss   cls_loss  Instances       Size\n",
      "    164/199      9.74G    0.01127   0.008648  0.0009987         40        448: 100% 20/20 [00:03<00:00,  6.14it/s]\n",
      "                 Class     Images  Instances          P          R      mAP50   mAP50-95: 100% 3/3 [00:00<00:00,  4.91it/s]\n",
      "                   all         78        193      0.345       0.26      0.234      0.109\n",
      "\n",
      "      Epoch    GPU_mem   box_loss   obj_loss   cls_loss  Instances       Size\n",
      "    165/199      9.74G     0.0113   0.009054   0.001056         43        448: 100% 20/20 [00:03<00:00,  6.15it/s]\n",
      "                 Class     Images  Instances          P          R      mAP50   mAP50-95: 100% 3/3 [00:00<00:00,  4.75it/s]\n",
      "                   all         78        193      0.397      0.249      0.236      0.105\n",
      "\n",
      "      Epoch    GPU_mem   box_loss   obj_loss   cls_loss  Instances       Size\n",
      "    166/199      9.74G    0.01122   0.008755   0.001049         26        448: 100% 20/20 [00:03<00:00,  6.01it/s]\n",
      "                 Class     Images  Instances          P          R      mAP50   mAP50-95: 100% 3/3 [00:00<00:00,  4.89it/s]\n",
      "                   all         78        193      0.355      0.275      0.243      0.103\n",
      "\n",
      "      Epoch    GPU_mem   box_loss   obj_loss   cls_loss  Instances       Size\n",
      "    167/199      9.74G    0.01093   0.009399   0.001616         38        448: 100% 20/20 [00:03<00:00,  6.11it/s]\n",
      "                 Class     Images  Instances          P          R      mAP50   mAP50-95: 100% 3/3 [00:00<00:00,  4.86it/s]\n",
      "                   all         78        193      0.403      0.307      0.264      0.114\n",
      "\n",
      "      Epoch    GPU_mem   box_loss   obj_loss   cls_loss  Instances       Size\n",
      "    168/199      9.74G    0.01098   0.008785   0.001062         36        448: 100% 20/20 [00:03<00:00,  6.10it/s]\n",
      "                 Class     Images  Instances          P          R      mAP50   mAP50-95: 100% 3/3 [00:00<00:00,  4.87it/s]\n",
      "                   all         78        193      0.403       0.31      0.269       0.12\n",
      "\n",
      "      Epoch    GPU_mem   box_loss   obj_loss   cls_loss  Instances       Size\n",
      "    169/199      9.74G    0.01112   0.008821  0.0009944         42        448: 100% 20/20 [00:03<00:00,  5.99it/s]\n",
      "                 Class     Images  Instances          P          R      mAP50   mAP50-95: 100% 3/3 [00:00<00:00,  4.58it/s]\n",
      "                   all         78        193      0.407      0.315      0.275      0.125\n",
      "\n",
      "      Epoch    GPU_mem   box_loss   obj_loss   cls_loss  Instances       Size\n",
      "    170/199      9.74G    0.01074   0.008441   0.001082         37        448: 100% 20/20 [00:03<00:00,  5.70it/s]\n",
      "                 Class     Images  Instances          P          R      mAP50   mAP50-95: 100% 3/3 [00:00<00:00,  4.72it/s]\n",
      "                   all         78        193      0.408      0.306      0.281      0.126\n",
      "\n",
      "      Epoch    GPU_mem   box_loss   obj_loss   cls_loss  Instances       Size\n",
      "    171/199      9.74G    0.01049   0.008715  0.0009634         24        448: 100% 20/20 [00:03<00:00,  6.05it/s]\n",
      "                 Class     Images  Instances          P          R      mAP50   mAP50-95: 100% 3/3 [00:00<00:00,  4.82it/s]\n",
      "                   all         78        193      0.409      0.287      0.283      0.129\n",
      "\n",
      "      Epoch    GPU_mem   box_loss   obj_loss   cls_loss  Instances       Size\n",
      "    172/199      9.74G    0.01041   0.008114  0.0008721         35        448: 100% 20/20 [00:03<00:00,  6.20it/s]\n",
      "                 Class     Images  Instances          P          R      mAP50   mAP50-95: 100% 3/3 [00:00<00:00,  4.83it/s]\n",
      "                   all         78        193       0.39      0.292      0.287      0.132\n",
      "\n",
      "      Epoch    GPU_mem   box_loss   obj_loss   cls_loss  Instances       Size\n",
      "    173/199      9.74G    0.01053   0.008566  0.0008406         39        448: 100% 20/20 [00:03<00:00,  6.13it/s]\n",
      "                 Class     Images  Instances          P          R      mAP50   mAP50-95: 100% 3/3 [00:00<00:00,  4.88it/s]\n",
      "                   all         78        193      0.385      0.285      0.285      0.128\n",
      "\n",
      "      Epoch    GPU_mem   box_loss   obj_loss   cls_loss  Instances       Size\n",
      "    174/199      9.74G    0.01018   0.008311  0.0009098         37        448: 100% 20/20 [00:03<00:00,  6.07it/s]\n",
      "                 Class     Images  Instances          P          R      mAP50   mAP50-95: 100% 3/3 [00:00<00:00,  4.86it/s]\n",
      "                   all         78        193      0.353      0.266      0.263      0.122\n",
      "\n",
      "      Epoch    GPU_mem   box_loss   obj_loss   cls_loss  Instances       Size\n",
      "    175/199      9.74G    0.01008    0.00841   0.001027         50        448: 100% 20/20 [00:03<00:00,  6.15it/s]\n",
      "                 Class     Images  Instances          P          R      mAP50   mAP50-95: 100% 3/3 [00:00<00:00,  4.90it/s]\n",
      "                   all         78        193      0.405      0.253       0.27      0.122\n",
      "\n",
      "      Epoch    GPU_mem   box_loss   obj_loss   cls_loss  Instances       Size\n",
      "    176/199      9.74G   0.009861   0.008768  0.0008586         55        448: 100% 20/20 [00:03<00:00,  6.10it/s]\n",
      "                 Class     Images  Instances          P          R      mAP50   mAP50-95: 100% 3/3 [00:00<00:00,  4.80it/s]\n",
      "                   all         78        193      0.387      0.256      0.265      0.122\n",
      "\n",
      "      Epoch    GPU_mem   box_loss   obj_loss   cls_loss  Instances       Size\n",
      "    177/199      9.74G   0.009983   0.008516  0.0007876         32        448: 100% 20/20 [00:03<00:00,  6.20it/s]\n",
      "                 Class     Images  Instances          P          R      mAP50   mAP50-95: 100% 3/3 [00:00<00:00,  4.88it/s]\n",
      "                   all         78        193      0.349      0.272      0.259      0.123\n",
      "\n",
      "      Epoch    GPU_mem   box_loss   obj_loss   cls_loss  Instances       Size\n",
      "    178/199      9.74G   0.009555   0.008207  0.0008088         29        448: 100% 20/20 [00:03<00:00,  6.11it/s]\n",
      "                 Class     Images  Instances          P          R      mAP50   mAP50-95: 100% 3/3 [00:00<00:00,  4.88it/s]\n",
      "                   all         78        193      0.388      0.291       0.25      0.117\n",
      "\n",
      "      Epoch    GPU_mem   box_loss   obj_loss   cls_loss  Instances       Size\n",
      "    179/199      9.74G   0.009641    0.00883  0.0007628         39        448: 100% 20/20 [00:03<00:00,  6.19it/s]\n",
      "                 Class     Images  Instances          P          R      mAP50   mAP50-95: 100% 3/3 [00:00<00:00,  4.92it/s]\n",
      "                   all         78        193      0.383      0.301      0.264      0.119\n",
      "\n",
      "      Epoch    GPU_mem   box_loss   obj_loss   cls_loss  Instances       Size\n",
      "    180/199      9.74G   0.009573   0.008298  0.0007587         32        448: 100% 20/20 [00:03<00:00,  6.09it/s]\n",
      "                 Class     Images  Instances          P          R      mAP50   mAP50-95: 100% 3/3 [00:00<00:00,  4.72it/s]\n",
      "                   all         78        193      0.398       0.31      0.267      0.118\n",
      "\n",
      "      Epoch    GPU_mem   box_loss   obj_loss   cls_loss  Instances       Size\n",
      "    181/199      9.74G   0.009883   0.009273   0.000875         41        448: 100% 20/20 [00:03<00:00,  6.09it/s]\n",
      "                 Class     Images  Instances          P          R      mAP50   mAP50-95: 100% 3/3 [00:00<00:00,  4.83it/s]\n",
      "                   all         78        193      0.375      0.297      0.272      0.124\n",
      "\n",
      "      Epoch    GPU_mem   box_loss   obj_loss   cls_loss  Instances       Size\n",
      "    182/199      9.74G   0.009448    0.00869  0.0008303         43        448: 100% 20/20 [00:03<00:00,  6.07it/s]\n",
      "                 Class     Images  Instances          P          R      mAP50   mAP50-95: 100% 3/3 [00:00<00:00,  4.88it/s]\n",
      "                   all         78        193      0.397      0.294      0.278       0.13\n",
      "\n",
      "      Epoch    GPU_mem   box_loss   obj_loss   cls_loss  Instances       Size\n",
      "    183/199      9.74G   0.009186   0.008805  0.0008414         36        448: 100% 20/20 [00:03<00:00,  6.15it/s]\n",
      "                 Class     Images  Instances          P          R      mAP50   mAP50-95: 100% 3/3 [00:00<00:00,  4.80it/s]\n",
      "                   all         78        193      0.397      0.294       0.28      0.131\n",
      "\n",
      "      Epoch    GPU_mem   box_loss   obj_loss   cls_loss  Instances       Size\n",
      "    184/199      9.74G   0.009099    0.00827  0.0008934         41        448: 100% 20/20 [00:03<00:00,  6.02it/s]\n",
      "                 Class     Images  Instances          P          R      mAP50   mAP50-95: 100% 3/3 [00:00<00:00,  4.92it/s]\n",
      "                   all         78        193      0.415      0.311      0.286      0.133\n",
      "\n",
      "      Epoch    GPU_mem   box_loss   obj_loss   cls_loss  Instances       Size\n",
      "    185/199      9.74G   0.009346   0.007676  0.0008889         21        448: 100% 20/20 [00:03<00:00,  6.13it/s]\n",
      "                 Class     Images  Instances          P          R      mAP50   mAP50-95: 100% 3/3 [00:00<00:00,  4.86it/s]\n",
      "                   all         78        193      0.419       0.29      0.282      0.131\n",
      "\n",
      "      Epoch    GPU_mem   box_loss   obj_loss   cls_loss  Instances       Size\n",
      "    186/199      9.74G   0.009304    0.00802  0.0007751         43        448: 100% 20/20 [00:03<00:00,  6.11it/s]\n",
      "                 Class     Images  Instances          P          R      mAP50   mAP50-95: 100% 3/3 [00:00<00:00,  4.85it/s]\n",
      "                   all         78        193      0.421      0.319       0.28       0.13\n",
      "\n",
      "      Epoch    GPU_mem   box_loss   obj_loss   cls_loss  Instances       Size\n",
      "    187/199      9.74G   0.008823   0.007598  0.0006966         32        448: 100% 20/20 [00:03<00:00,  6.12it/s]\n",
      "                 Class     Images  Instances          P          R      mAP50   mAP50-95: 100% 3/3 [00:00<00:00,  4.72it/s]\n",
      "                   all         78        193      0.427      0.316      0.292      0.133\n",
      "\n",
      "      Epoch    GPU_mem   box_loss   obj_loss   cls_loss  Instances       Size\n",
      "    188/199      9.74G   0.009207   0.008304  0.0008117         32        448: 100% 20/20 [00:03<00:00,  6.17it/s]\n",
      "                 Class     Images  Instances          P          R      mAP50   mAP50-95: 100% 3/3 [00:00<00:00,  4.78it/s]\n",
      "                   all         78        193      0.417      0.309      0.273      0.123\n",
      "\n",
      "      Epoch    GPU_mem   box_loss   obj_loss   cls_loss  Instances       Size\n",
      "    189/199      9.74G   0.008894   0.007701  0.0007618         30        448: 100% 20/20 [00:03<00:00,  6.10it/s]\n",
      "                 Class     Images  Instances          P          R      mAP50   mAP50-95: 100% 3/3 [00:00<00:00,  4.79it/s]\n",
      "                   all         78        193      0.406      0.294      0.278       0.13\n",
      "\n",
      "      Epoch    GPU_mem   box_loss   obj_loss   cls_loss  Instances       Size\n",
      "    190/199      9.74G   0.008709   0.008237  0.0009143         29        448: 100% 20/20 [00:03<00:00,  6.17it/s]\n",
      "                 Class     Images  Instances          P          R      mAP50   mAP50-95: 100% 3/3 [00:00<00:00,  4.92it/s]\n",
      "                   all         78        193      0.394        0.3      0.275      0.128\n",
      "\n",
      "      Epoch    GPU_mem   box_loss   obj_loss   cls_loss  Instances       Size\n",
      "    191/199      9.74G   0.008559   0.008197  0.0006383         38        448: 100% 20/20 [00:03<00:00,  6.05it/s]\n",
      "                 Class     Images  Instances          P          R      mAP50   mAP50-95: 100% 3/3 [00:00<00:00,  4.80it/s]\n",
      "                   all         78        193      0.392      0.307      0.275      0.127\n",
      "\n",
      "      Epoch    GPU_mem   box_loss   obj_loss   cls_loss  Instances       Size\n",
      "    192/199      9.74G   0.008449   0.008002  0.0006874         39        448: 100% 20/20 [00:03<00:00,  6.00it/s]\n",
      "                 Class     Images  Instances          P          R      mAP50   mAP50-95: 100% 3/3 [00:00<00:00,  4.77it/s]\n",
      "                   all         78        193      0.384      0.299      0.273      0.126\n",
      "\n",
      "      Epoch    GPU_mem   box_loss   obj_loss   cls_loss  Instances       Size\n",
      "    193/199      9.74G   0.008937   0.008066    0.00077         36        448: 100% 20/20 [00:03<00:00,  6.11it/s]\n",
      "                 Class     Images  Instances          P          R      mAP50   mAP50-95: 100% 3/3 [00:00<00:00,  4.90it/s]\n",
      "                   all         78        193      0.452      0.259      0.261      0.124\n",
      "\n",
      "      Epoch    GPU_mem   box_loss   obj_loss   cls_loss  Instances       Size\n",
      "    194/199      9.74G   0.008527   0.008168  0.0005443         39        448: 100% 20/20 [00:03<00:00,  6.12it/s]\n",
      "                 Class     Images  Instances          P          R      mAP50   mAP50-95: 100% 3/3 [00:00<00:00,  4.75it/s]\n",
      "                   all         78        193      0.379      0.297      0.269      0.128\n",
      "\n",
      "      Epoch    GPU_mem   box_loss   obj_loss   cls_loss  Instances       Size\n",
      "    195/199      9.74G    0.00834    0.00765  0.0008012         30        448: 100% 20/20 [00:03<00:00,  6.15it/s]\n",
      "                 Class     Images  Instances          P          R      mAP50   mAP50-95: 100% 3/3 [00:00<00:00,  4.89it/s]\n",
      "                   all         78        193      0.389      0.313      0.264      0.128\n",
      "\n",
      "      Epoch    GPU_mem   box_loss   obj_loss   cls_loss  Instances       Size\n",
      "    196/199      9.74G   0.008282   0.008054  0.0009948         44        448: 100% 20/20 [00:03<00:00,  6.05it/s]\n",
      "                 Class     Images  Instances          P          R      mAP50   mAP50-95: 100% 3/3 [00:00<00:00,  4.84it/s]\n",
      "                   all         78        193      0.379      0.302       0.27       0.13\n",
      "\n",
      "      Epoch    GPU_mem   box_loss   obj_loss   cls_loss  Instances       Size\n",
      "    197/199      9.74G   0.008412   0.008123  0.0006371         30        448: 100% 20/20 [00:03<00:00,  6.08it/s]\n",
      "                 Class     Images  Instances          P          R      mAP50   mAP50-95: 100% 3/3 [00:00<00:00,  4.88it/s]\n",
      "                   all         78        193      0.363      0.307      0.262      0.127\n",
      "\n",
      "      Epoch    GPU_mem   box_loss   obj_loss   cls_loss  Instances       Size\n",
      "    198/199      9.74G   0.008065   0.007528  0.0006959         33        448: 100% 20/20 [00:03<00:00,  6.06it/s]\n",
      "                 Class     Images  Instances          P          R      mAP50   mAP50-95: 100% 3/3 [00:00<00:00,  4.87it/s]\n",
      "                   all         78        193       0.37      0.295      0.263      0.124\n",
      "\n",
      "      Epoch    GPU_mem   box_loss   obj_loss   cls_loss  Instances       Size\n",
      "    199/199      9.74G   0.007851   0.007617  0.0006713         42        448: 100% 20/20 [00:03<00:00,  6.17it/s]\n",
      "                 Class     Images  Instances          P          R      mAP50   mAP50-95: 100% 3/3 [00:00<00:00,  4.81it/s]\n",
      "                   all         78        193      0.363      0.293      0.271      0.126\n",
      "\n",
      "200 epochs completed in 0.392 hours.\n",
      "Optimizer stripped from runs/train/exp/weights/last.pt, 280.9MB\n",
      "Optimizer stripped from runs/train/exp/weights/best.pt, 280.9MB\n",
      "\n",
      "Validating runs/train/exp/weights/best.pt...\n",
      "Fusing layers... \n",
      "Model summary: 416 layers, 140009320 parameters, 0 gradients, 208.0 GFLOPs\n",
      "                 Class     Images  Instances          P          R      mAP50   mAP50-95: 100% 3/3 [00:01<00:00,  2.03it/s]\n",
      "                   all         78        193      0.451       0.34      0.324       0.14\n",
      "             dry_waste         78         49      0.447      0.245      0.263      0.096\n",
      "fruits - vegetables_waste         78         26      0.458      0.385      0.294      0.103\n",
      "                others         78         14      0.399      0.214      0.216      0.127\n",
      "         plastic_waste         78         31      0.467      0.581      0.569      0.292\n",
      "         stubble_waste         78         73      0.486      0.274      0.276     0.0813\n",
      "Results saved to \u001b[1mruns/train/exp\u001b[0m\n"
     ]
    }
   ],
   "source": [
    "!wandb disabled\n",
    "!python train.py --img 416 --epochs 200 --data /content/drive/MyDrive/crop/yolov5/data.yaml --weights yolov5x6.pt --cache --workers 2"
   ]
  },
  {
   "cell_type": "code",
   "execution_count": 3,
   "metadata": {
    "id": "u22tEEOkiGPr"
   },
   "outputs": [],
   "source": [
    "p_yol5 = 0.451\n",
    "r_yol5 = 0.34\n",
    "mAP_yolo5 = 0.324\n",
    "\n",
    "storeResults('YoloV5',p_yol5,r_yol5,mAP_yolo5)"
   ]
  },
  {
   "cell_type": "code",
   "execution_count": 9,
   "metadata": {
    "colab": {
     "base_uri": "https://localhost:8080/"
    },
    "executionInfo": {
     "elapsed": 51379,
     "status": "ok",
     "timestamp": 1712208083601,
     "user": {
      "displayName": "TruProjects yolo",
      "userId": "18414174829652366032"
     },
     "user_tz": -330
    },
    "id": "I3Qnx65bihv3",
    "outputId": "7ca3ebf1-de81-4a57-8eee-60a830be6eac"
   },
   "outputs": [
    {
     "name": "stdout",
     "output_type": "stream",
     "text": [
      "updating: content/yolov5/ (stored 0%)\n",
      "updating: content/yolov5/runs/ (stored 0%)\n",
      "updating: content/yolov5/runs/train/ (stored 0%)\n",
      "updating: content/yolov5/runs/train/exp/ (stored 0%)\n",
      "updating: content/yolov5/runs/train/exp/train_batch1.jpg (deflated 1%)\n",
      "updating: content/yolov5/runs/train/exp/P_curve.png (deflated 8%)\n",
      "updating: content/yolov5/runs/train/exp/val_batch0_pred.jpg (deflated 8%)\n",
      "updating: content/yolov5/runs/train/exp/opt.yaml (deflated 49%)\n",
      "updating: content/yolov5/runs/train/exp/labels_correlogram.jpg (deflated 42%)\n",
      "updating: content/yolov5/runs/train/exp/val_batch1_pred.jpg (deflated 7%)\n",
      "updating: content/yolov5/runs/train/exp/F1_curve.png (deflated 9%)\n",
      "updating: content/yolov5/runs/train/exp/train_batch0.jpg (deflated 2%)\n",
      "updating: content/yolov5/runs/train/exp/weights/ (stored 0%)\n",
      "updating: content/yolov5/runs/train/exp/weights/last.pt (deflated 8%)\n",
      "updating: content/yolov5/runs/train/exp/weights/best.pt (deflated 8%)\n",
      "updating: content/yolov5/runs/train/exp/results.png (deflated 7%)\n",
      "updating: content/yolov5/runs/train/exp/results.csv (deflated 83%)\n",
      "updating: content/yolov5/runs/train/exp/labels.jpg (deflated 24%)\n",
      "updating: content/yolov5/runs/train/exp/R_curve.png (deflated 13%)\n",
      "updating: content/yolov5/runs/train/exp/train_batch2.jpg (deflated 1%)\n",
      "updating: content/yolov5/runs/train/exp/hyp.yaml (deflated 45%)\n",
      "updating: content/yolov5/runs/train/exp/val_batch2_pred.jpg (deflated 11%)\n",
      "updating: content/yolov5/runs/train/exp/val_batch1_labels.jpg (deflated 8%)\n",
      "updating: content/yolov5/runs/train/exp/confusion_matrix.png (deflated 21%)\n",
      "updating: content/yolov5/runs/train/exp/PR_curve.png (deflated 12%)\n",
      "updating: content/yolov5/runs/train/exp/val_batch2_labels.jpg (deflated 10%)\n",
      "updating: content/yolov5/runs/train/exp/val_batch0_labels.jpg (deflated 8%)\n",
      "updating: content/yolov5/export.py (deflated 71%)\n",
      "updating: content/yolov5/yolov5x6.pt (deflated 8%)\n",
      "updating: content/yolov5/train.py (deflated 70%)\n",
      "updating: content/yolov5/.dockerignore (deflated 56%)\n",
      "updating: content/yolov5/.gitattributes (deflated 4%)\n",
      "updating: content/yolov5/pyproject.toml (deflated 59%)\n",
      "updating: content/yolov5/detect.py (deflated 69%)\n",
      "updating: content/yolov5/val.py (deflated 67%)\n",
      "updating: content/yolov5/benchmarks.py (deflated 68%)\n",
      "updating: content/yolov5/README.md (deflated 78%)\n",
      "updating: content/yolov5/hubconf.py (deflated 74%)\n",
      "updating: content/yolov5/models/ (stored 0%)\n",
      "updating: content/yolov5/models/__init__.py (stored 0%)\n",
      "updating: content/yolov5/models/yolov5x.yaml (deflated 61%)\n",
      "updating: content/yolov5/models/yolov5m.yaml (deflated 61%)\n",
      "updating: content/yolov5/models/hub/ (stored 0%)\n",
      "updating: content/yolov5/models/hub/yolov5-bifpn.yaml (deflated 60%)\n",
      "updating: content/yolov5/models/hub/yolov3.yaml (deflated 64%)\n",
      "updating: content/yolov5/models/hub/yolov5l6.yaml (deflated 66%)\n",
      "updating: content/yolov5/models/hub/yolov3-spp.yaml (deflated 63%)\n",
      "updating: content/yolov5/models/hub/yolov5-panet.yaml (deflated 61%)\n",
      "updating: content/yolov5/models/hub/yolov5m6.yaml (deflated 65%)\n",
      "updating: content/yolov5/models/hub/yolov5x6.yaml (deflated 65%)\n",
      "updating: content/yolov5/models/hub/yolov5-fpn.yaml (deflated 57%)\n",
      "updating: content/yolov5/models/hub/yolov3-tiny.yaml (deflated 60%)\n",
      "updating: content/yolov5/models/hub/yolov5s-LeakyReLU.yaml (deflated 60%)\n",
      "updating: content/yolov5/models/hub/yolov5s-transformer.yaml (deflated 60%)\n",
      "updating: content/yolov5/models/hub/yolov5s-ghost.yaml (deflated 63%)\n",
      "updating: content/yolov5/models/hub/yolov5-p34.yaml (deflated 59%)\n",
      "updating: content/yolov5/models/hub/yolov5n6.yaml (deflated 65%)\n",
      "updating: content/yolov5/models/hub/anchors.yaml (deflated 66%)\n",
      "updating: content/yolov5/models/hub/yolov5-p2.yaml (deflated 66%)\n",
      "updating: content/yolov5/models/hub/yolov5s6.yaml (deflated 65%)\n",
      "updating: content/yolov5/models/hub/yolov5-p7.yaml (deflated 70%)\n",
      "updating: content/yolov5/models/hub/yolov5-p6.yaml (deflated 66%)\n",
      "updating: content/yolov5/models/yolo.py (deflated 67%)\n",
      "updating: content/yolov5/models/yolov5n.yaml (deflated 61%)\n",
      "updating: content/yolov5/models/tf.py (deflated 73%)\n",
      "updating: content/yolov5/models/segment/ (stored 0%)\n",
      "updating: content/yolov5/models/segment/yolov5m-seg.yaml (deflated 61%)\n",
      "updating: content/yolov5/models/segment/yolov5l-seg.yaml (deflated 61%)\n",
      "updating: content/yolov5/models/segment/yolov5s-seg.yaml (deflated 61%)\n",
      "updating: content/yolov5/models/segment/yolov5n-seg.yaml (deflated 61%)\n",
      "updating: content/yolov5/models/segment/yolov5x-seg.yaml (deflated 61%)\n",
      "updating: content/yolov5/models/common.py (deflated 71%)\n",
      "updating: content/yolov5/models/experimental.py (deflated 60%)\n",
      "updating: content/yolov5/models/__pycache__/ (stored 0%)\n",
      "updating: content/yolov5/models/__pycache__/__init__.cpython-310.pyc (deflated 27%)\n",
      "updating: content/yolov5/models/__pycache__/yolo.cpython-310.pyc (deflated 49%)\n",
      "updating: content/yolov5/models/__pycache__/experimental.cpython-310.pyc (deflated 45%)\n",
      "updating: content/yolov5/models/__pycache__/common.cpython-310.pyc (deflated 55%)\n",
      "updating: content/yolov5/models/yolov5s.yaml (deflated 61%)\n",
      "updating: content/yolov5/models/yolov5l.yaml (deflated 61%)\n",
      "updating: content/yolov5/.git/ (stored 0%)\n",
      "updating: content/yolov5/.git/branches/ (stored 0%)\n",
      "updating: content/yolov5/.git/refs/ (stored 0%)\n",
      "updating: content/yolov5/.git/refs/remotes/ (stored 0%)\n",
      "updating: content/yolov5/.git/refs/remotes/origin/ (stored 0%)\n",
      "updating: content/yolov5/.git/refs/remotes/origin/HEAD (stored 0%)\n",
      "updating: content/yolov5/.git/refs/tags/ (stored 0%)\n",
      "updating: content/yolov5/.git/refs/heads/ (stored 0%)\n",
      "updating: content/yolov5/.git/refs/heads/master (stored 0%)\n",
      "updating: content/yolov5/.git/hooks/ (stored 0%)\n",
      "updating: content/yolov5/.git/hooks/pre-merge-commit.sample (deflated 39%)\n",
      "updating: content/yolov5/.git/hooks/pre-commit.sample (deflated 45%)\n",
      "updating: content/yolov5/.git/hooks/pre-rebase.sample (deflated 59%)\n",
      "updating: content/yolov5/.git/hooks/pre-receive.sample (deflated 40%)\n",
      "updating: content/yolov5/.git/hooks/pre-applypatch.sample (deflated 38%)\n",
      "updating: content/yolov5/.git/hooks/commit-msg.sample (deflated 44%)\n",
      "updating: content/yolov5/.git/hooks/pre-push.sample (deflated 49%)\n",
      "updating: content/yolov5/.git/hooks/post-update.sample (deflated 27%)\n",
      "updating: content/yolov5/.git/hooks/fsmonitor-watchman.sample (deflated 62%)\n",
      "updating: content/yolov5/.git/hooks/prepare-commit-msg.sample (deflated 50%)\n",
      "updating: content/yolov5/.git/hooks/update.sample (deflated 68%)\n",
      "updating: content/yolov5/.git/hooks/applypatch-msg.sample (deflated 42%)\n",
      "updating: content/yolov5/.git/hooks/push-to-checkout.sample (deflated 55%)\n",
      "updating: content/yolov5/.git/objects/ (stored 0%)\n",
      "updating: content/yolov5/.git/objects/info/ (stored 0%)\n",
      "updating: content/yolov5/.git/objects/pack/ (stored 0%)\n",
      "updating: content/yolov5/.git/objects/pack/pack-b6cd13264156946d718a83c25ba8c7fae1bf4c07.pack (deflated 2%)\n",
      "updating: content/yolov5/.git/objects/pack/pack-b6cd13264156946d718a83c25ba8c7fae1bf4c07.idx (deflated 2%)\n",
      "updating: content/yolov5/.git/index (deflated 55%)\n",
      "updating: content/yolov5/.git/logs/ (stored 0%)\n",
      "updating: content/yolov5/.git/logs/refs/ (stored 0%)\n",
      "updating: content/yolov5/.git/logs/refs/remotes/ (stored 0%)\n",
      "updating: content/yolov5/.git/logs/refs/remotes/origin/ (stored 0%)\n",
      "updating: content/yolov5/.git/logs/refs/remotes/origin/HEAD (deflated 28%)\n",
      "updating: content/yolov5/.git/logs/refs/heads/ (stored 0%)\n",
      "updating: content/yolov5/.git/logs/refs/heads/master (deflated 28%)\n",
      "updating: content/yolov5/.git/logs/HEAD (deflated 28%)\n",
      "updating: content/yolov5/.git/config (deflated 33%)\n",
      "updating: content/yolov5/.git/FETCH_HEAD (deflated 66%)\n",
      "updating: content/yolov5/.git/HEAD (stored 0%)\n",
      "updating: content/yolov5/.git/description (deflated 14%)\n",
      "updating: content/yolov5/.git/packed-refs (deflated 50%)\n",
      "updating: content/yolov5/.git/info/ (stored 0%)\n",
      "updating: content/yolov5/.git/info/exclude (deflated 28%)\n",
      "updating: content/yolov5/tutorial.ipynb (deflated 74%)\n",
      "updating: content/yolov5/data/ (stored 0%)\n",
      "updating: content/yolov5/data/VisDrone.yaml (deflated 58%)\n",
      "updating: content/yolov5/data/hyps/ (stored 0%)\n",
      "updating: content/yolov5/data/hyps/hyp.Objects365.yaml (deflated 39%)\n",
      "updating: content/yolov5/data/hyps/hyp.VOC.yaml (deflated 48%)\n",
      "updating: content/yolov5/data/hyps/hyp.scratch-med.yaml (deflated 53%)\n",
      "updating: content/yolov5/data/hyps/hyp.scratch-high.yaml (deflated 53%)\n",
      "updating: content/yolov5/data/hyps/hyp.no-augmentation.yaml (deflated 53%)\n",
      "updating: content/yolov5/data/hyps/hyp.scratch-low.yaml (deflated 53%)\n",
      "updating: content/yolov5/data/ImageNet1000.yaml (deflated 54%)\n",
      "updating: content/yolov5/data/Objects365.yaml (deflated 53%)\n",
      "updating: content/yolov5/data/ImageNet.yaml (deflated 54%)\n",
      "updating: content/yolov5/data/ImageNet10.yaml (deflated 42%)\n",
      "updating: content/yolov5/data/coco128-seg.yaml (deflated 47%)\n",
      "updating: content/yolov5/data/ImageNet100.yaml (deflated 48%)\n",
      "updating: content/yolov5/data/GlobalWheat2020.yaml (deflated 54%)\n",
      "updating: content/yolov5/data/scripts/ (stored 0%)\n",
      "updating: content/yolov5/data/scripts/get_imagenet10.sh (deflated 41%)\n",
      "updating: content/yolov5/data/scripts/get_coco.sh (deflated 59%)\n",
      "updating: content/yolov5/data/scripts/get_imagenet1000.sh (deflated 41%)\n",
      "updating: content/yolov5/data/scripts/get_coco128.sh (deflated 36%)\n",
      "updating: content/yolov5/data/scripts/get_imagenet100.sh (deflated 41%)\n",
      "updating: content/yolov5/data/scripts/get_imagenet.sh (deflated 53%)\n",
      "updating: content/yolov5/data/scripts/download_weights.sh (deflated 43%)\n",
      "updating: content/yolov5/data/xView.yaml (deflated 57%)\n",
      "updating: content/yolov5/data/SKU-110K.yaml (deflated 52%)\n",
      "updating: content/yolov5/data/coco128.yaml (deflated 47%)\n",
      "updating: content/yolov5/data/coco.yaml (deflated 49%)\n",
      "updating: content/yolov5/data/Argoverse.yaml (deflated 55%)\n",
      "updating: content/yolov5/data/images/ (stored 0%)\n",
      "updating: content/yolov5/data/images/zidane.jpg (deflated 0%)\n",
      "updating: content/yolov5/data/images/bus.jpg (deflated 1%)\n",
      "updating: content/yolov5/data/VOC.yaml (deflated 55%)\n",
      "updating: content/yolov5/segment/ (stored 0%)\n",
      "updating: content/yolov5/segment/train.py (deflated 69%)\n",
      "updating: content/yolov5/segment/val.py (deflated 67%)\n",
      "updating: content/yolov5/segment/tutorial.ipynb (deflated 75%)\n",
      "updating: content/yolov5/segment/predict.py (deflated 70%)\n",
      "updating: content/yolov5/CONTRIBUTING.md (deflated 57%)\n",
      "updating: content/yolov5/README.zh-CN.md (deflated 76%)\n",
      "updating: content/yolov5/LICENSE (deflated 66%)\n",
      "updating: content/yolov5/classify/ (stored 0%)\n",
      "updating: content/yolov5/classify/train.py (deflated 65%)\n",
      "updating: content/yolov5/classify/val.py (deflated 65%)\n",
      "updating: content/yolov5/classify/tutorial.ipynb (deflated 81%)\n",
      "updating: content/yolov5/classify/predict.py (deflated 68%)\n",
      "updating: content/yolov5/.gitignore (deflated 55%)\n",
      "updating: content/yolov5/utils/ (stored 0%)\n",
      "updating: content/yolov5/utils/__init__.py (deflated 55%)\n",
      "updating: content/yolov5/utils/triton.py (deflated 67%)\n",
      "updating: content/yolov5/utils/activations.py (deflated 69%)\n",
      "updating: content/yolov5/utils/augmentations.py (deflated 65%)\n",
      "updating: content/yolov5/utils/downloads.py (deflated 62%)\n",
      "updating: content/yolov5/utils/aws/ (stored 0%)\n",
      "updating: content/yolov5/utils/aws/__init__.py (stored 0%)\n",
      "updating: content/yolov5/utils/aws/mime.sh (deflated 46%)\n",
      "updating: content/yolov5/utils/aws/resume.py (deflated 46%)\n",
      "updating: content/yolov5/utils/aws/userdata.sh (deflated 47%)\n",
      "updating: content/yolov5/utils/dataloaders.py (deflated 70%)\n",
      "updating: content/yolov5/utils/flask_rest_api/ (stored 0%)\n",
      "updating: content/yolov5/utils/flask_rest_api/README.md (deflated 52%)\n",
      "updating: content/yolov5/utils/flask_rest_api/example_request.py (deflated 26%)\n",
      "updating: content/yolov5/utils/flask_rest_api/restapi.py (deflated 49%)\n",
      "updating: content/yolov5/utils/general.py (deflated 66%)\n",
      "updating: content/yolov5/utils/loggers/ (stored 0%)\n",
      "updating: content/yolov5/utils/loggers/__init__.py (deflated 73%)\n",
      "updating: content/yolov5/utils/loggers/wandb/ (stored 0%)\n",
      "updating: content/yolov5/utils/loggers/wandb/__init__.py (stored 0%)\n",
      "updating: content/yolov5/utils/loggers/wandb/wandb_utils.py (deflated 65%)\n",
      "updating: content/yolov5/utils/loggers/wandb/__pycache__/ (stored 0%)\n",
      "updating: content/yolov5/utils/loggers/wandb/__pycache__/__init__.cpython-310.pyc (deflated 24%)\n",
      "updating: content/yolov5/utils/loggers/wandb/__pycache__/wandb_utils.cpython-310.pyc (deflated 48%)\n",
      "updating: content/yolov5/utils/loggers/clearml/ (stored 0%)\n",
      "updating: content/yolov5/utils/loggers/clearml/__init__.py (stored 0%)\n",
      "updating: content/yolov5/utils/loggers/clearml/README.md (deflated 59%)\n",
      "updating: content/yolov5/utils/loggers/clearml/clearml_utils.py (deflated 65%)\n",
      "updating: content/yolov5/utils/loggers/clearml/hpo.py (deflated 70%)\n",
      "updating: content/yolov5/utils/loggers/clearml/__pycache__/ (stored 0%)\n",
      "updating: content/yolov5/utils/loggers/clearml/__pycache__/__init__.cpython-310.pyc (deflated 23%)\n",
      "updating: content/yolov5/utils/loggers/clearml/__pycache__/clearml_utils.cpython-310.pyc (deflated 48%)\n",
      "updating: content/yolov5/utils/loggers/comet/ (stored 0%)\n",
      "updating: content/yolov5/utils/loggers/comet/__init__.py (deflated 74%)\n",
      "updating: content/yolov5/utils/loggers/comet/comet_utils.py (deflated 69%)\n",
      "updating: content/yolov5/utils/loggers/comet/README.md (deflated 64%)\n",
      "updating: content/yolov5/utils/loggers/comet/hpo.py (deflated 68%)\n",
      "updating: content/yolov5/utils/loggers/comet/optimizer_config.json (deflated 82%)\n",
      "updating: content/yolov5/utils/loggers/comet/__pycache__/ (stored 0%)\n",
      "updating: content/yolov5/utils/loggers/comet/__pycache__/__init__.cpython-310.pyc (deflated 51%)\n",
      "updating: content/yolov5/utils/loggers/comet/__pycache__/comet_utils.cpython-310.pyc (deflated 48%)\n",
      "updating: content/yolov5/utils/loggers/__pycache__/ (stored 0%)\n",
      "updating: content/yolov5/utils/loggers/__pycache__/__init__.cpython-310.pyc (deflated 51%)\n",
      "updating: content/yolov5/utils/loss.py (deflated 69%)\n",
      "updating: content/yolov5/utils/autoanchor.py (deflated 60%)\n",
      "updating: content/yolov5/utils/autobatch.py (deflated 56%)\n",
      "updating: content/yolov5/utils/torch_utils.py (deflated 64%)\n",
      "updating: content/yolov5/utils/segment/ (stored 0%)\n",
      "updating: content/yolov5/utils/segment/__init__.py (stored 0%)\n",
      "updating: content/yolov5/utils/segment/augmentations.py (deflated 61%)\n",
      "updating: content/yolov5/utils/segment/dataloaders.py (deflated 70%)\n",
      "updating: content/yolov5/utils/segment/general.py (deflated 70%)\n",
      "updating: content/yolov5/utils/segment/loss.py (deflated 66%)\n",
      "updating: content/yolov5/utils/segment/metrics.py (deflated 74%)\n",
      "updating: content/yolov5/utils/segment/plots.py (deflated 64%)\n",
      "updating: content/yolov5/utils/metrics.py (deflated 66%)\n",
      "updating: content/yolov5/utils/google_app_engine/ (stored 0%)\n",
      "updating: content/yolov5/utils/google_app_engine/additional_requirements.txt (deflated 20%)\n",
      "updating: content/yolov5/utils/google_app_engine/Dockerfile (deflated 47%)\n",
      "updating: content/yolov5/utils/google_app_engine/app.yaml (deflated 26%)\n",
      "updating: content/yolov5/utils/docker/ (stored 0%)\n",
      "updating: content/yolov5/utils/docker/Dockerfile (deflated 55%)\n",
      "updating: content/yolov5/utils/docker/Dockerfile-cpu (deflated 51%)\n",
      "updating: content/yolov5/utils/docker/Dockerfile-arm64 (deflated 51%)\n",
      "updating: content/yolov5/utils/callbacks.py (deflated 68%)\n",
      "updating: content/yolov5/utils/plots.py (deflated 64%)\n",
      "updating: content/yolov5/utils/__pycache__/ (stored 0%)\n",
      "updating: content/yolov5/utils/__pycache__/loss.cpython-310.pyc (deflated 46%)\n",
      "updating: content/yolov5/utils/__pycache__/callbacks.cpython-310.pyc (deflated 52%)\n",
      "updating: content/yolov5/utils/__pycache__/augmentations.cpython-310.pyc (deflated 48%)\n",
      "updating: content/yolov5/utils/__pycache__/__init__.cpython-310.pyc (deflated 43%)\n",
      "updating: content/yolov5/utils/__pycache__/autobatch.cpython-310.pyc (deflated 37%)\n",
      "updating: content/yolov5/utils/__pycache__/dataloaders.cpython-310.pyc (deflated 51%)\n",
      "updating: content/yolov5/utils/__pycache__/plots.cpython-310.pyc (deflated 46%)\n",
      "updating: content/yolov5/utils/__pycache__/general.cpython-310.pyc (deflated 50%)\n",
      "updating: content/yolov5/utils/__pycache__/downloads.cpython-310.pyc (deflated 43%)\n",
      "updating: content/yolov5/utils/__pycache__/metrics.cpython-310.pyc (deflated 47%)\n",
      "updating: content/yolov5/utils/__pycache__/torch_utils.cpython-310.pyc (deflated 46%)\n",
      "updating: content/yolov5/utils/__pycache__/autoanchor.cpython-310.pyc (deflated 42%)\n",
      "updating: content/yolov5/CITATION.cff (deflated 31%)\n",
      "updating: content/yolov5/.github/ (stored 0%)\n",
      "updating: content/yolov5/.github/dependabot.yml (deflated 52%)\n",
      "updating: content/yolov5/.github/ISSUE_TEMPLATE/ (stored 0%)\n",
      "updating: content/yolov5/.github/ISSUE_TEMPLATE/question.yml (deflated 57%)\n",
      "updating: content/yolov5/.github/ISSUE_TEMPLATE/bug-report.yml (deflated 60%)\n",
      "updating: content/yolov5/.github/ISSUE_TEMPLATE/feature-request.yml (deflated 61%)\n",
      "updating: content/yolov5/.github/ISSUE_TEMPLATE/config.yml (deflated 49%)\n",
      "updating: content/yolov5/.github/workflows/ (stored 0%)\n",
      "updating: content/yolov5/.github/workflows/codeql-analysis.yml (deflated 51%)\n",
      "updating: content/yolov5/.github/workflows/ci-testing.yml (deflated 71%)\n",
      "updating: content/yolov5/.github/workflows/greetings.yml (deflated 61%)\n",
      "updating: content/yolov5/.github/workflows/links.yml (deflated 62%)\n",
      "updating: content/yolov5/.github/workflows/format.yml (deflated 51%)\n",
      "updating: content/yolov5/.github/workflows/stale.yml (deflated 58%)\n",
      "updating: content/yolov5/.github/workflows/docker.yml (deflated 66%)\n",
      "updating: content/yolov5/__pycache__/ (stored 0%)\n",
      "updating: content/yolov5/__pycache__/val.cpython-310.pyc (deflated 43%)\n",
      "updating: content/yolov5/requirements.txt (deflated 55%)\n",
      "  adding: content/yolov5/runs/train/exp/events.out.tfevents.1712206501.d3d32e9e6ab2.1839.0 (deflated 15%)\n"
     ]
    }
   ],
   "source": [
    "!zip -r /content/drive/MyDrive/crop/file_v5.zip /content/yolov5"
   ]
  },
  {
   "cell_type": "markdown",
   "metadata": {
    "id": "eNZzqcvvMqLY"
   },
   "source": [
    "# **YoloV7**"
   ]
  },
  {
   "cell_type": "code",
   "execution_count": 10,
   "metadata": {
    "colab": {
     "base_uri": "https://localhost:8080/"
    },
    "executionInfo": {
     "elapsed": 5,
     "status": "ok",
     "timestamp": 1712208083601,
     "user": {
      "displayName": "TruProjects yolo",
      "userId": "18414174829652366032"
     },
     "user_tz": -330
    },
    "id": "dSjmS0JYMovY",
    "outputId": "ecb00b43-6ee2-4c62-e8c8-d69501e7a2d4"
   },
   "outputs": [
    {
     "name": "stdout",
     "output_type": "stream",
     "text": [
      "/content\n"
     ]
    }
   ],
   "source": [
    "%cd .."
   ]
  },
  {
   "cell_type": "code",
   "execution_count": 11,
   "metadata": {
    "colab": {
     "base_uri": "https://localhost:8080/"
    },
    "executionInfo": {
     "elapsed": 5660,
     "status": "ok",
     "timestamp": 1712208089259,
     "user": {
      "displayName": "TruProjects yolo",
      "userId": "18414174829652366032"
     },
     "user_tz": -330
    },
    "id": "_bVh6WQIM_wR",
    "outputId": "ecf3857d-6f3c-4557-d0d1-cbcf0d8fba36"
   },
   "outputs": [
    {
     "name": "stdout",
     "output_type": "stream",
     "text": [
      "Cloning into 'yolov7'...\n",
      "remote: Enumerating objects: 1197, done.\u001b[K\n",
      "remote: Total 1197 (delta 0), reused 0 (delta 0), pack-reused 1197\u001b[K\n",
      "Receiving objects: 100% (1197/1197), 74.23 MiB | 15.26 MiB/s, done.\n",
      "Resolving deltas: 100% (519/519), done.\n"
     ]
    }
   ],
   "source": [
    "!git clone https://github.com/WongKinYiu/yolov7.git"
   ]
  },
  {
   "cell_type": "code",
   "execution_count": 12,
   "metadata": {
    "colab": {
     "base_uri": "https://localhost:8080/"
    },
    "executionInfo": {
     "elapsed": 3,
     "status": "ok",
     "timestamp": 1712208089259,
     "user": {
      "displayName": "TruProjects yolo",
      "userId": "18414174829652366032"
     },
     "user_tz": -330
    },
    "id": "FHbz3WY3M_zR",
    "outputId": "6a6730bf-9030-427f-f00b-6af573ef311f"
   },
   "outputs": [
    {
     "name": "stdout",
     "output_type": "stream",
     "text": [
      "/content/yolov7\n"
     ]
    }
   ],
   "source": [
    "%cd /content/yolov7/"
   ]
  },
  {
   "cell_type": "code",
   "execution_count": 13,
   "metadata": {
    "colab": {
     "base_uri": "https://localhost:8080/",
     "height": 1000
    },
    "executionInfo": {
     "elapsed": 12220,
     "status": "ok",
     "timestamp": 1712208101477,
     "user": {
      "displayName": "TruProjects yolo",
      "userId": "18414174829652366032"
     },
     "user_tz": -330
    },
    "id": "mjscelqkNFSS",
    "outputId": "eb5cc711-80ce-4a11-9e41-a9befe2bbc2c"
   },
   "outputs": [
    {
     "name": "stdout",
     "output_type": "stream",
     "text": [
      "Requirement already satisfied: matplotlib>=3.2.2 in /usr/local/lib/python3.10/dist-packages (from -r requirements.txt (line 4)) (3.7.1)\n",
      "Collecting numpy<1.24.0,>=1.18.5 (from -r requirements.txt (line 5))\n",
      "  Downloading numpy-1.23.5-cp310-cp310-manylinux_2_17_x86_64.manylinux2014_x86_64.whl (17.1 MB)\n",
      "\u001b[2K     \u001b[90m━━━━━━━━━━━━━━━━━━━━━━━━━━━━━━━━━━━━━━━━\u001b[0m \u001b[32m17.1/17.1 MB\u001b[0m \u001b[31m75.5 MB/s\u001b[0m eta \u001b[36m0:00:00\u001b[0m\n",
      "\u001b[?25hRequirement already satisfied: opencv-python>=4.1.1 in /usr/local/lib/python3.10/dist-packages (from -r requirements.txt (line 6)) (4.8.0.76)\n",
      "Requirement already satisfied: Pillow>=7.1.2 in /usr/local/lib/python3.10/dist-packages (from -r requirements.txt (line 7)) (9.4.0)\n",
      "Requirement already satisfied: PyYAML>=5.3.1 in /usr/local/lib/python3.10/dist-packages (from -r requirements.txt (line 8)) (6.0.1)\n",
      "Requirement already satisfied: requests>=2.23.0 in /usr/local/lib/python3.10/dist-packages (from -r requirements.txt (line 9)) (2.31.0)\n",
      "Requirement already satisfied: scipy>=1.4.1 in /usr/local/lib/python3.10/dist-packages (from -r requirements.txt (line 10)) (1.11.4)\n",
      "Requirement already satisfied: torch!=1.12.0,>=1.7.0 in /usr/local/lib/python3.10/dist-packages (from -r requirements.txt (line 11)) (2.2.1+cu121)\n",
      "Requirement already satisfied: torchvision!=0.13.0,>=0.8.1 in /usr/local/lib/python3.10/dist-packages (from -r requirements.txt (line 12)) (0.17.1+cu121)\n",
      "Requirement already satisfied: tqdm>=4.41.0 in /usr/local/lib/python3.10/dist-packages (from -r requirements.txt (line 13)) (4.66.2)\n",
      "Requirement already satisfied: protobuf<4.21.3 in /usr/local/lib/python3.10/dist-packages (from -r requirements.txt (line 14)) (3.20.3)\n",
      "Requirement already satisfied: tensorboard>=2.4.1 in /usr/local/lib/python3.10/dist-packages (from -r requirements.txt (line 17)) (2.15.2)\n",
      "Requirement already satisfied: pandas>=1.1.4 in /usr/local/lib/python3.10/dist-packages (from -r requirements.txt (line 21)) (2.0.3)\n",
      "Requirement already satisfied: seaborn>=0.11.0 in /usr/local/lib/python3.10/dist-packages (from -r requirements.txt (line 22)) (0.13.1)\n",
      "Requirement already satisfied: ipython in /usr/local/lib/python3.10/dist-packages (from -r requirements.txt (line 34)) (7.34.0)\n",
      "Requirement already satisfied: psutil in /usr/local/lib/python3.10/dist-packages (from -r requirements.txt (line 35)) (5.9.5)\n",
      "Requirement already satisfied: thop in /usr/local/lib/python3.10/dist-packages (from -r requirements.txt (line 36)) (0.1.1.post2209072238)\n",
      "Requirement already satisfied: contourpy>=1.0.1 in /usr/local/lib/python3.10/dist-packages (from matplotlib>=3.2.2->-r requirements.txt (line 4)) (1.2.0)\n",
      "Requirement already satisfied: cycler>=0.10 in /usr/local/lib/python3.10/dist-packages (from matplotlib>=3.2.2->-r requirements.txt (line 4)) (0.12.1)\n",
      "Requirement already satisfied: fonttools>=4.22.0 in /usr/local/lib/python3.10/dist-packages (from matplotlib>=3.2.2->-r requirements.txt (line 4)) (4.50.0)\n",
      "Requirement already satisfied: kiwisolver>=1.0.1 in /usr/local/lib/python3.10/dist-packages (from matplotlib>=3.2.2->-r requirements.txt (line 4)) (1.4.5)\n",
      "Requirement already satisfied: packaging>=20.0 in /usr/local/lib/python3.10/dist-packages (from matplotlib>=3.2.2->-r requirements.txt (line 4)) (24.0)\n",
      "Requirement already satisfied: pyparsing>=2.3.1 in /usr/local/lib/python3.10/dist-packages (from matplotlib>=3.2.2->-r requirements.txt (line 4)) (3.1.2)\n",
      "Requirement already satisfied: python-dateutil>=2.7 in /usr/local/lib/python3.10/dist-packages (from matplotlib>=3.2.2->-r requirements.txt (line 4)) (2.8.2)\n",
      "Requirement already satisfied: charset-normalizer<4,>=2 in /usr/local/lib/python3.10/dist-packages (from requests>=2.23.0->-r requirements.txt (line 9)) (3.3.2)\n",
      "Requirement already satisfied: idna<4,>=2.5 in /usr/local/lib/python3.10/dist-packages (from requests>=2.23.0->-r requirements.txt (line 9)) (3.6)\n",
      "Requirement already satisfied: urllib3<3,>=1.21.1 in /usr/local/lib/python3.10/dist-packages (from requests>=2.23.0->-r requirements.txt (line 9)) (2.0.7)\n",
      "Requirement already satisfied: certifi>=2017.4.17 in /usr/local/lib/python3.10/dist-packages (from requests>=2.23.0->-r requirements.txt (line 9)) (2024.2.2)\n",
      "Requirement already satisfied: filelock in /usr/local/lib/python3.10/dist-packages (from torch!=1.12.0,>=1.7.0->-r requirements.txt (line 11)) (3.13.3)\n",
      "Requirement already satisfied: typing-extensions>=4.8.0 in /usr/local/lib/python3.10/dist-packages (from torch!=1.12.0,>=1.7.0->-r requirements.txt (line 11)) (4.10.0)\n",
      "Requirement already satisfied: sympy in /usr/local/lib/python3.10/dist-packages (from torch!=1.12.0,>=1.7.0->-r requirements.txt (line 11)) (1.12)\n",
      "Requirement already satisfied: networkx in /usr/local/lib/python3.10/dist-packages (from torch!=1.12.0,>=1.7.0->-r requirements.txt (line 11)) (3.2.1)\n",
      "Requirement already satisfied: jinja2 in /usr/local/lib/python3.10/dist-packages (from torch!=1.12.0,>=1.7.0->-r requirements.txt (line 11)) (3.1.3)\n",
      "Requirement already satisfied: fsspec in /usr/local/lib/python3.10/dist-packages (from torch!=1.12.0,>=1.7.0->-r requirements.txt (line 11)) (2023.6.0)\n",
      "Requirement already satisfied: nvidia-cuda-nvrtc-cu12==12.1.105 in /usr/local/lib/python3.10/dist-packages (from torch!=1.12.0,>=1.7.0->-r requirements.txt (line 11)) (12.1.105)\n",
      "Requirement already satisfied: nvidia-cuda-runtime-cu12==12.1.105 in /usr/local/lib/python3.10/dist-packages (from torch!=1.12.0,>=1.7.0->-r requirements.txt (line 11)) (12.1.105)\n",
      "Requirement already satisfied: nvidia-cuda-cupti-cu12==12.1.105 in /usr/local/lib/python3.10/dist-packages (from torch!=1.12.0,>=1.7.0->-r requirements.txt (line 11)) (12.1.105)\n",
      "Requirement already satisfied: nvidia-cudnn-cu12==8.9.2.26 in /usr/local/lib/python3.10/dist-packages (from torch!=1.12.0,>=1.7.0->-r requirements.txt (line 11)) (8.9.2.26)\n",
      "Requirement already satisfied: nvidia-cublas-cu12==12.1.3.1 in /usr/local/lib/python3.10/dist-packages (from torch!=1.12.0,>=1.7.0->-r requirements.txt (line 11)) (12.1.3.1)\n",
      "Requirement already satisfied: nvidia-cufft-cu12==11.0.2.54 in /usr/local/lib/python3.10/dist-packages (from torch!=1.12.0,>=1.7.0->-r requirements.txt (line 11)) (11.0.2.54)\n",
      "Requirement already satisfied: nvidia-curand-cu12==10.3.2.106 in /usr/local/lib/python3.10/dist-packages (from torch!=1.12.0,>=1.7.0->-r requirements.txt (line 11)) (10.3.2.106)\n",
      "Requirement already satisfied: nvidia-cusolver-cu12==11.4.5.107 in /usr/local/lib/python3.10/dist-packages (from torch!=1.12.0,>=1.7.0->-r requirements.txt (line 11)) (11.4.5.107)\n",
      "Requirement already satisfied: nvidia-cusparse-cu12==12.1.0.106 in /usr/local/lib/python3.10/dist-packages (from torch!=1.12.0,>=1.7.0->-r requirements.txt (line 11)) (12.1.0.106)\n",
      "Requirement already satisfied: nvidia-nccl-cu12==2.19.3 in /usr/local/lib/python3.10/dist-packages (from torch!=1.12.0,>=1.7.0->-r requirements.txt (line 11)) (2.19.3)\n",
      "Requirement already satisfied: nvidia-nvtx-cu12==12.1.105 in /usr/local/lib/python3.10/dist-packages (from torch!=1.12.0,>=1.7.0->-r requirements.txt (line 11)) (12.1.105)\n",
      "Requirement already satisfied: triton==2.2.0 in /usr/local/lib/python3.10/dist-packages (from torch!=1.12.0,>=1.7.0->-r requirements.txt (line 11)) (2.2.0)\n",
      "Requirement already satisfied: nvidia-nvjitlink-cu12 in /usr/local/lib/python3.10/dist-packages (from nvidia-cusolver-cu12==11.4.5.107->torch!=1.12.0,>=1.7.0->-r requirements.txt (line 11)) (12.4.127)\n",
      "Requirement already satisfied: absl-py>=0.4 in /usr/local/lib/python3.10/dist-packages (from tensorboard>=2.4.1->-r requirements.txt (line 17)) (1.4.0)\n",
      "Requirement already satisfied: grpcio>=1.48.2 in /usr/local/lib/python3.10/dist-packages (from tensorboard>=2.4.1->-r requirements.txt (line 17)) (1.62.1)\n",
      "Requirement already satisfied: google-auth<3,>=1.6.3 in /usr/local/lib/python3.10/dist-packages (from tensorboard>=2.4.1->-r requirements.txt (line 17)) (2.27.0)\n",
      "Requirement already satisfied: google-auth-oauthlib<2,>=0.5 in /usr/local/lib/python3.10/dist-packages (from tensorboard>=2.4.1->-r requirements.txt (line 17)) (1.2.0)\n",
      "Requirement already satisfied: markdown>=2.6.8 in /usr/local/lib/python3.10/dist-packages (from tensorboard>=2.4.1->-r requirements.txt (line 17)) (3.6)\n",
      "Requirement already satisfied: setuptools>=41.0.0 in /usr/local/lib/python3.10/dist-packages (from tensorboard>=2.4.1->-r requirements.txt (line 17)) (67.7.2)\n",
      "Requirement already satisfied: six>1.9 in /usr/local/lib/python3.10/dist-packages (from tensorboard>=2.4.1->-r requirements.txt (line 17)) (1.16.0)\n",
      "Requirement already satisfied: tensorboard-data-server<0.8.0,>=0.7.0 in /usr/local/lib/python3.10/dist-packages (from tensorboard>=2.4.1->-r requirements.txt (line 17)) (0.7.2)\n",
      "Requirement already satisfied: werkzeug>=1.0.1 in /usr/local/lib/python3.10/dist-packages (from tensorboard>=2.4.1->-r requirements.txt (line 17)) (3.0.2)\n",
      "Requirement already satisfied: pytz>=2020.1 in /usr/local/lib/python3.10/dist-packages (from pandas>=1.1.4->-r requirements.txt (line 21)) (2023.4)\n",
      "Requirement already satisfied: tzdata>=2022.1 in /usr/local/lib/python3.10/dist-packages (from pandas>=1.1.4->-r requirements.txt (line 21)) (2024.1)\n",
      "Collecting jedi>=0.16 (from ipython->-r requirements.txt (line 34))\n",
      "  Downloading jedi-0.19.1-py2.py3-none-any.whl (1.6 MB)\n",
      "\u001b[2K     \u001b[90m━━━━━━━━━━━━━━━━━━━━━━━━━━━━━━━━━━━━━━━━\u001b[0m \u001b[32m1.6/1.6 MB\u001b[0m \u001b[31m83.6 MB/s\u001b[0m eta \u001b[36m0:00:00\u001b[0m\n",
      "\u001b[?25hRequirement already satisfied: decorator in /usr/local/lib/python3.10/dist-packages (from ipython->-r requirements.txt (line 34)) (4.4.2)\n",
      "Requirement already satisfied: pickleshare in /usr/local/lib/python3.10/dist-packages (from ipython->-r requirements.txt (line 34)) (0.7.5)\n",
      "Requirement already satisfied: traitlets>=4.2 in /usr/local/lib/python3.10/dist-packages (from ipython->-r requirements.txt (line 34)) (5.7.1)\n",
      "Requirement already satisfied: prompt-toolkit!=3.0.0,!=3.0.1,<3.1.0,>=2.0.0 in /usr/local/lib/python3.10/dist-packages (from ipython->-r requirements.txt (line 34)) (3.0.43)\n",
      "Requirement already satisfied: pygments in /usr/local/lib/python3.10/dist-packages (from ipython->-r requirements.txt (line 34)) (2.16.1)\n",
      "Requirement already satisfied: backcall in /usr/local/lib/python3.10/dist-packages (from ipython->-r requirements.txt (line 34)) (0.2.0)\n",
      "Requirement already satisfied: matplotlib-inline in /usr/local/lib/python3.10/dist-packages (from ipython->-r requirements.txt (line 34)) (0.1.6)\n",
      "Requirement already satisfied: pexpect>4.3 in /usr/local/lib/python3.10/dist-packages (from ipython->-r requirements.txt (line 34)) (4.9.0)\n",
      "Requirement already satisfied: cachetools<6.0,>=2.0.0 in /usr/local/lib/python3.10/dist-packages (from google-auth<3,>=1.6.3->tensorboard>=2.4.1->-r requirements.txt (line 17)) (5.3.3)\n",
      "Requirement already satisfied: pyasn1-modules>=0.2.1 in /usr/local/lib/python3.10/dist-packages (from google-auth<3,>=1.6.3->tensorboard>=2.4.1->-r requirements.txt (line 17)) (0.4.0)\n",
      "Requirement already satisfied: rsa<5,>=3.1.4 in /usr/local/lib/python3.10/dist-packages (from google-auth<3,>=1.6.3->tensorboard>=2.4.1->-r requirements.txt (line 17)) (4.9)\n",
      "Requirement already satisfied: requests-oauthlib>=0.7.0 in /usr/local/lib/python3.10/dist-packages (from google-auth-oauthlib<2,>=0.5->tensorboard>=2.4.1->-r requirements.txt (line 17)) (1.3.1)\n",
      "Requirement already satisfied: parso<0.9.0,>=0.8.3 in /usr/local/lib/python3.10/dist-packages (from jedi>=0.16->ipython->-r requirements.txt (line 34)) (0.8.3)\n",
      "Requirement already satisfied: ptyprocess>=0.5 in /usr/local/lib/python3.10/dist-packages (from pexpect>4.3->ipython->-r requirements.txt (line 34)) (0.7.0)\n",
      "Requirement already satisfied: wcwidth in /usr/local/lib/python3.10/dist-packages (from prompt-toolkit!=3.0.0,!=3.0.1,<3.1.0,>=2.0.0->ipython->-r requirements.txt (line 34)) (0.2.13)\n",
      "Requirement already satisfied: MarkupSafe>=2.1.1 in /usr/local/lib/python3.10/dist-packages (from werkzeug>=1.0.1->tensorboard>=2.4.1->-r requirements.txt (line 17)) (2.1.5)\n",
      "Requirement already satisfied: mpmath>=0.19 in /usr/local/lib/python3.10/dist-packages (from sympy->torch!=1.12.0,>=1.7.0->-r requirements.txt (line 11)) (1.3.0)\n",
      "Requirement already satisfied: pyasn1<0.7.0,>=0.4.6 in /usr/local/lib/python3.10/dist-packages (from pyasn1-modules>=0.2.1->google-auth<3,>=1.6.3->tensorboard>=2.4.1->-r requirements.txt (line 17)) (0.6.0)\n",
      "Requirement already satisfied: oauthlib>=3.0.0 in /usr/local/lib/python3.10/dist-packages (from requests-oauthlib>=0.7.0->google-auth-oauthlib<2,>=0.5->tensorboard>=2.4.1->-r requirements.txt (line 17)) (3.2.2)\n",
      "Installing collected packages: numpy, jedi\n",
      "  Attempting uninstall: numpy\n",
      "    Found existing installation: numpy 1.25.2\n",
      "    Uninstalling numpy-1.25.2:\n",
      "      Successfully uninstalled numpy-1.25.2\n",
      "\u001b[31mERROR: pip's dependency resolver does not currently take into account all the packages that are installed. This behaviour is the source of the following dependency conflicts.\n",
      "chex 0.1.86 requires numpy>=1.24.1, but you have numpy 1.23.5 which is incompatible.\n",
      "pandas-stubs 2.0.3.230814 requires numpy>=1.25.0; python_version >= \"3.9\", but you have numpy 1.23.5 which is incompatible.\u001b[0m\u001b[31m\n",
      "\u001b[0mSuccessfully installed jedi-0.19.1 numpy-1.23.5\n"
     ]
    },
    {
     "data": {
      "application/vnd.colab-display-data+json": {
       "id": "3f065832be3a42b2a2400ba9e7219ef6",
       "pip_warning": {
        "packages": [
         "numpy"
        ]
       }
      }
     },
     "metadata": {},
     "output_type": "display_data"
    }
   ],
   "source": [
    "!pip install -r requirements.txt"
   ]
  },
  {
   "cell_type": "code",
   "execution_count": 14,
   "metadata": {
    "colab": {
     "base_uri": "https://localhost:8080/"
    },
    "executionInfo": {
     "elapsed": 2510095,
     "status": "ok",
     "timestamp": 1712210611568,
     "user": {
      "displayName": "TruProjects yolo",
      "userId": "18414174829652366032"
     },
     "user_tz": -330
    },
    "id": "GkYUhCjLNFW5",
    "outputId": "9a6a9198-6a89-45d1-86ad-b3fcf09f8de0"
   },
   "outputs": [
    {
     "name": "stdout",
     "output_type": "stream",
     "text": [
      "2024-04-04 05:21:45.398979: I tensorflow/core/util/port.cc:113] oneDNN custom operations are on. You may see slightly different numerical results due to floating-point round-off errors from different computation orders. To turn them off, set the environment variable `TF_ENABLE_ONEDNN_OPTS=0`.\n",
      "2024-04-04 05:21:45.451804: E external/local_xla/xla/stream_executor/cuda/cuda_dnn.cc:9261] Unable to register cuDNN factory: Attempting to register factory for plugin cuDNN when one has already been registered\n",
      "2024-04-04 05:21:45.451847: E external/local_xla/xla/stream_executor/cuda/cuda_fft.cc:607] Unable to register cuFFT factory: Attempting to register factory for plugin cuFFT when one has already been registered\n",
      "2024-04-04 05:21:45.453819: E external/local_xla/xla/stream_executor/cuda/cuda_blas.cc:1515] Unable to register cuBLAS factory: Attempting to register factory for plugin cuBLAS when one has already been registered\n",
      "2024-04-04 05:21:45.461897: I tensorflow/core/platform/cpu_feature_guard.cc:182] This TensorFlow binary is optimized to use available CPU instructions in performance-critical operations.\n",
      "To enable the following instructions: AVX2 AVX512F AVX512_VNNI FMA, in other operations, rebuild TensorFlow with the appropriate compiler flags.\n",
      "2024-04-04 05:21:46.556646: W tensorflow/compiler/tf2tensorrt/utils/py_utils.cc:38] TF-TRT Warning: Could not find TensorRT\n",
      "YOLOR 🚀 v0.1-128-ga207844 torch 2.2.1+cu121 CUDA:0 (NVIDIA A100-SXM4-40GB, 40513.8125MB)\n",
      "\n",
      "Namespace(weights='yolov7-tiny.pt', cfg='cfg/training/yolov7.yaml', data='/content/drive/MyDrive/crop/yolov7/data.yaml', hyp='data/hyp.scratch.p5.yaml', epochs=200, batch_size=4, img_size=[416, 416], rect=False, resume=False, nosave=False, notest=False, noautoanchor=False, evolve=False, bucket='', cache_images=False, image_weights=False, device='', multi_scale=False, single_cls=False, adam=False, sync_bn=False, local_rank=-1, workers=4, project='runs/train', entity=None, name='yolov7', exist_ok=False, quad=False, linear_lr=False, label_smoothing=0.0, upload_dataset=False, bbox_interval=-1, save_period=-1, artifact_alias='latest', freeze=[0], v5_metric=False, world_size=1, global_rank=-1, save_dir='runs/train/yolov7', total_batch_size=4)\n",
      "\u001b[34m\u001b[1mtensorboard: \u001b[0mStart with 'tensorboard --logdir runs/train', view at http://localhost:6006/\n",
      "\u001b[34m\u001b[1mhyperparameters: \u001b[0mlr0=0.01, lrf=0.1, momentum=0.937, weight_decay=0.0005, warmup_epochs=3.0, warmup_momentum=0.8, warmup_bias_lr=0.1, box=0.05, cls=0.3, cls_pw=1.0, obj=0.7, obj_pw=1.0, iou_t=0.2, anchor_t=4.0, fl_gamma=0.0, hsv_h=0.015, hsv_s=0.7, hsv_v=0.4, degrees=0.0, translate=0.2, scale=0.9, shear=0.0, perspective=0.0, flipud=0.0, fliplr=0.5, mosaic=1.0, mixup=0.15, copy_paste=0.0, paste_in=0.15, loss_ota=1\n",
      "\u001b[34m\u001b[1mwandb: \u001b[0mInstall Weights & Biases for YOLOR logging with 'pip install wandb' (recommended)\n",
      "Downloading https://github.com/WongKinYiu/yolov7/releases/download/v0.1/yolov7-tiny.pt to yolov7-tiny.pt...\n",
      "100% 12.1M/12.1M [00:00<00:00, 85.2MB/s]\n",
      "\n",
      "Overriding model.yaml nc=80 with nc=5\n",
      "\n",
      "                 from  n    params  module                                  arguments                     \n",
      "  0                -1  1       928  models.common.Conv                      [3, 32, 3, 1]                 \n",
      "  1                -1  1     18560  models.common.Conv                      [32, 64, 3, 2]                \n",
      "  2                -1  1     36992  models.common.Conv                      [64, 64, 3, 1]                \n",
      "  3                -1  1     73984  models.common.Conv                      [64, 128, 3, 2]               \n",
      "  4                -1  1      8320  models.common.Conv                      [128, 64, 1, 1]               \n",
      "  5                -2  1      8320  models.common.Conv                      [128, 64, 1, 1]               \n",
      "  6                -1  1     36992  models.common.Conv                      [64, 64, 3, 1]                \n",
      "  7                -1  1     36992  models.common.Conv                      [64, 64, 3, 1]                \n",
      "  8                -1  1     36992  models.common.Conv                      [64, 64, 3, 1]                \n",
      "  9                -1  1     36992  models.common.Conv                      [64, 64, 3, 1]                \n",
      " 10  [-1, -3, -5, -6]  1         0  models.common.Concat                    [1]                           \n",
      " 11                -1  1     66048  models.common.Conv                      [256, 256, 1, 1]              \n",
      " 12                -1  1         0  models.common.MP                        []                            \n",
      " 13                -1  1     33024  models.common.Conv                      [256, 128, 1, 1]              \n",
      " 14                -3  1     33024  models.common.Conv                      [256, 128, 1, 1]              \n",
      " 15                -1  1    147712  models.common.Conv                      [128, 128, 3, 2]              \n",
      " 16          [-1, -3]  1         0  models.common.Concat                    [1]                           \n",
      " 17                -1  1     33024  models.common.Conv                      [256, 128, 1, 1]              \n",
      " 18                -2  1     33024  models.common.Conv                      [256, 128, 1, 1]              \n",
      " 19                -1  1    147712  models.common.Conv                      [128, 128, 3, 1]              \n",
      " 20                -1  1    147712  models.common.Conv                      [128, 128, 3, 1]              \n",
      " 21                -1  1    147712  models.common.Conv                      [128, 128, 3, 1]              \n",
      " 22                -1  1    147712  models.common.Conv                      [128, 128, 3, 1]              \n",
      " 23  [-1, -3, -5, -6]  1         0  models.common.Concat                    [1]                           \n",
      " 24                -1  1    263168  models.common.Conv                      [512, 512, 1, 1]              \n",
      " 25                -1  1         0  models.common.MP                        []                            \n",
      " 26                -1  1    131584  models.common.Conv                      [512, 256, 1, 1]              \n",
      " 27                -3  1    131584  models.common.Conv                      [512, 256, 1, 1]              \n",
      " 28                -1  1    590336  models.common.Conv                      [256, 256, 3, 2]              \n",
      " 29          [-1, -3]  1         0  models.common.Concat                    [1]                           \n",
      " 30                -1  1    131584  models.common.Conv                      [512, 256, 1, 1]              \n",
      " 31                -2  1    131584  models.common.Conv                      [512, 256, 1, 1]              \n",
      " 32                -1  1    590336  models.common.Conv                      [256, 256, 3, 1]              \n",
      " 33                -1  1    590336  models.common.Conv                      [256, 256, 3, 1]              \n",
      " 34                -1  1    590336  models.common.Conv                      [256, 256, 3, 1]              \n",
      " 35                -1  1    590336  models.common.Conv                      [256, 256, 3, 1]              \n",
      " 36  [-1, -3, -5, -6]  1         0  models.common.Concat                    [1]                           \n",
      " 37                -1  1   1050624  models.common.Conv                      [1024, 1024, 1, 1]            \n",
      " 38                -1  1         0  models.common.MP                        []                            \n",
      " 39                -1  1    525312  models.common.Conv                      [1024, 512, 1, 1]             \n",
      " 40                -3  1    525312  models.common.Conv                      [1024, 512, 1, 1]             \n",
      " 41                -1  1   2360320  models.common.Conv                      [512, 512, 3, 2]              \n",
      " 42          [-1, -3]  1         0  models.common.Concat                    [1]                           \n",
      " 43                -1  1    262656  models.common.Conv                      [1024, 256, 1, 1]             \n",
      " 44                -2  1    262656  models.common.Conv                      [1024, 256, 1, 1]             \n",
      " 45                -1  1    590336  models.common.Conv                      [256, 256, 3, 1]              \n",
      " 46                -1  1    590336  models.common.Conv                      [256, 256, 3, 1]              \n",
      " 47                -1  1    590336  models.common.Conv                      [256, 256, 3, 1]              \n",
      " 48                -1  1    590336  models.common.Conv                      [256, 256, 3, 1]              \n",
      " 49  [-1, -3, -5, -6]  1         0  models.common.Concat                    [1]                           \n",
      " 50                -1  1   1050624  models.common.Conv                      [1024, 1024, 1, 1]            \n",
      " 51                -1  1   7609344  models.common.SPPCSPC                   [1024, 512, 1]                \n",
      " 52                -1  1    131584  models.common.Conv                      [512, 256, 1, 1]              \n",
      " 53                -1  1         0  torch.nn.modules.upsampling.Upsample    [None, 2, 'nearest']          \n",
      " 54                37  1    262656  models.common.Conv                      [1024, 256, 1, 1]             \n",
      " 55          [-1, -2]  1         0  models.common.Concat                    [1]                           \n",
      " 56                -1  1    131584  models.common.Conv                      [512, 256, 1, 1]              \n",
      " 57                -2  1    131584  models.common.Conv                      [512, 256, 1, 1]              \n",
      " 58                -1  1    295168  models.common.Conv                      [256, 128, 3, 1]              \n",
      " 59                -1  1    147712  models.common.Conv                      [128, 128, 3, 1]              \n",
      " 60                -1  1    147712  models.common.Conv                      [128, 128, 3, 1]              \n",
      " 61                -1  1    147712  models.common.Conv                      [128, 128, 3, 1]              \n",
      " 62[-1, -2, -3, -4, -5, -6]  1         0  models.common.Concat                    [1]                           \n",
      " 63                -1  1    262656  models.common.Conv                      [1024, 256, 1, 1]             \n",
      " 64                -1  1     33024  models.common.Conv                      [256, 128, 1, 1]              \n",
      " 65                -1  1         0  torch.nn.modules.upsampling.Upsample    [None, 2, 'nearest']          \n",
      " 66                24  1     65792  models.common.Conv                      [512, 128, 1, 1]              \n",
      " 67          [-1, -2]  1         0  models.common.Concat                    [1]                           \n",
      " 68                -1  1     33024  models.common.Conv                      [256, 128, 1, 1]              \n",
      " 69                -2  1     33024  models.common.Conv                      [256, 128, 1, 1]              \n",
      " 70                -1  1     73856  models.common.Conv                      [128, 64, 3, 1]               \n",
      " 71                -1  1     36992  models.common.Conv                      [64, 64, 3, 1]                \n",
      " 72                -1  1     36992  models.common.Conv                      [64, 64, 3, 1]                \n",
      " 73                -1  1     36992  models.common.Conv                      [64, 64, 3, 1]                \n",
      " 74[-1, -2, -3, -4, -5, -6]  1         0  models.common.Concat                    [1]                           \n",
      " 75                -1  1     65792  models.common.Conv                      [512, 128, 1, 1]              \n",
      " 76                -1  1         0  models.common.MP                        []                            \n",
      " 77                -1  1     16640  models.common.Conv                      [128, 128, 1, 1]              \n",
      " 78                -3  1     16640  models.common.Conv                      [128, 128, 1, 1]              \n",
      " 79                -1  1    147712  models.common.Conv                      [128, 128, 3, 2]              \n",
      " 80      [-1, -3, 63]  1         0  models.common.Concat                    [1]                           \n",
      " 81                -1  1    131584  models.common.Conv                      [512, 256, 1, 1]              \n",
      " 82                -2  1    131584  models.common.Conv                      [512, 256, 1, 1]              \n",
      " 83                -1  1    295168  models.common.Conv                      [256, 128, 3, 1]              \n",
      " 84                -1  1    147712  models.common.Conv                      [128, 128, 3, 1]              \n",
      " 85                -1  1    147712  models.common.Conv                      [128, 128, 3, 1]              \n",
      " 86                -1  1    147712  models.common.Conv                      [128, 128, 3, 1]              \n",
      " 87[-1, -2, -3, -4, -5, -6]  1         0  models.common.Concat                    [1]                           \n",
      " 88                -1  1    262656  models.common.Conv                      [1024, 256, 1, 1]             \n",
      " 89                -1  1         0  models.common.MP                        []                            \n",
      " 90                -1  1     66048  models.common.Conv                      [256, 256, 1, 1]              \n",
      " 91                -3  1     66048  models.common.Conv                      [256, 256, 1, 1]              \n",
      " 92                -1  1    590336  models.common.Conv                      [256, 256, 3, 2]              \n",
      " 93      [-1, -3, 51]  1         0  models.common.Concat                    [1]                           \n",
      " 94                -1  1    525312  models.common.Conv                      [1024, 512, 1, 1]             \n",
      " 95                -2  1    525312  models.common.Conv                      [1024, 512, 1, 1]             \n",
      " 96                -1  1   1180160  models.common.Conv                      [512, 256, 3, 1]              \n",
      " 97                -1  1    590336  models.common.Conv                      [256, 256, 3, 1]              \n",
      " 98                -1  1    590336  models.common.Conv                      [256, 256, 3, 1]              \n",
      " 99                -1  1    590336  models.common.Conv                      [256, 256, 3, 1]              \n",
      "100[-1, -2, -3, -4, -5, -6]  1         0  models.common.Concat                    [1]                           \n",
      "101                -1  1   1049600  models.common.Conv                      [2048, 512, 1, 1]             \n",
      "102                75  1    328704  models.common.RepConv                   [128, 256, 3, 1]              \n",
      "103                88  1   1312768  models.common.RepConv                   [256, 512, 3, 1]              \n",
      "104               101  1   5246976  models.common.RepConv                   [512, 1024, 3, 1]             \n",
      "105   [102, 103, 104]  1     55732  models.yolo.IDetect                     [5, [[12, 16, 19, 36, 40, 28], [36, 75, 76, 55, 72, 146], [142, 110, 192, 243, 459, 401]], [256, 512, 1024]]\n",
      "/usr/local/lib/python3.10/dist-packages/torch/functional.py:507: UserWarning: torch.meshgrid: in an upcoming release, it will be required to pass the indexing argument. (Triggered internally at ../aten/src/ATen/native/TensorShape.cpp:3549.)\n",
      "  return _VF.meshgrid(tensors, **kwargs)  # type: ignore[attr-defined]\n",
      "Model Summary: 415 layers, 37218132 parameters, 37218132 gradients, 105.2 GFLOPS\n",
      "\n",
      "Transferred 102/566 items from yolov7-tiny.pt\n",
      "Scaled weight_decay = 0.0005\n",
      "Optimizer groups: 95 .bias, 95 conv.weight, 98 other\n",
      "\u001b[34m\u001b[1mtrain: \u001b[0mScanning '/content/drive/MyDrive/crop/yolov7/train/labels.cache' images and labels... 313 found, 0 missing, 0 empty, 0 corrupted: 100% 313/313 [00:00<?, ?it/s]\n",
      "\u001b[34m\u001b[1mval: \u001b[0mScanning '/content/drive/MyDrive/crop/yolov7/valid/labels.cache' images and labels... 78 found, 0 missing, 0 empty, 0 corrupted: 100% 78/78 [00:00<?, ?it/s]\n",
      "\n",
      "\u001b[34m\u001b[1mautoanchor: \u001b[0mAnalyzing anchors... anchors/target = 5.18, Best Possible Recall (BPR) = 1.0000\n",
      "Image sizes 416 train, 416 test\n",
      "Using 4 dataloader workers\n",
      "Logging results to runs/train/yolov7\n",
      "Starting training for 200 epochs...\n",
      "\n",
      "     Epoch   gpu_mem       box       obj       cls     total    labels  img_size\n",
      "     0/199     1.66G   0.07256   0.01221   0.02986    0.1146        10       416: 100% 79/79 [00:38<00:00,  2.03it/s]\n",
      "               Class      Images      Labels           P           R      mAP@.5  mAP@.5:.95: 100% 10/10 [00:07<00:00,  1.43it/s]\n",
      "                 all          78         193     0.00173       0.277     0.00382    0.000687\n",
      "\n",
      "     Epoch   gpu_mem       box       obj       cls     total    labels  img_size\n",
      "     1/199     1.99G   0.06986   0.01319   0.02879    0.1118        10       416: 100% 79/79 [00:12<00:00,  6.40it/s]\n",
      "               Class      Images      Labels           P           R      mAP@.5  mAP@.5:.95: 100% 10/10 [00:00<00:00, 13.34it/s]\n",
      "                 all          78         193     0.00255       0.289      0.0018    0.000294\n",
      "\n",
      "     Epoch   gpu_mem       box       obj       cls     total    labels  img_size\n",
      "     2/199     2.14G   0.06715   0.01284   0.02815    0.1081        11       416: 100% 79/79 [00:10<00:00,  7.55it/s]\n",
      "               Class      Images      Labels           P           R      mAP@.5  mAP@.5:.95: 100% 10/10 [00:00<00:00, 14.98it/s]\n",
      "                 all          78         193     0.00321       0.117     0.00297    0.000501\n",
      "\n",
      "     Epoch   gpu_mem       box       obj       cls     total    labels  img_size\n",
      "     3/199     2.16G   0.06712   0.01306   0.02835    0.1085         7       416: 100% 79/79 [00:10<00:00,  7.63it/s]\n",
      "               Class      Images      Labels           P           R      mAP@.5  mAP@.5:.95: 100% 10/10 [00:00<00:00, 14.94it/s]\n",
      "                 all          78         193     0.00307       0.305     0.00255    0.000421\n",
      "\n",
      "     Epoch   gpu_mem       box       obj       cls     total    labels  img_size\n",
      "     4/199     2.16G   0.06681   0.01178   0.02769    0.1063         7       416: 100% 79/79 [00:10<00:00,  7.86it/s]\n",
      "               Class      Images      Labels           P           R      mAP@.5  mAP@.5:.95: 100% 10/10 [00:00<00:00, 14.81it/s]\n",
      "                 all          78         193     0.00539      0.0268      0.0017     0.00029\n",
      "\n",
      "     Epoch   gpu_mem       box       obj       cls     total    labels  img_size\n",
      "     5/199     2.16G   0.06883   0.01303   0.02809      0.11         7       416: 100% 79/79 [00:10<00:00,  7.67it/s]\n",
      "               Class      Images      Labels           P           R      mAP@.5  mAP@.5:.95: 100% 10/10 [00:00<00:00, 14.03it/s]\n",
      "                 all          78         193     0.00319       0.227     0.00079    0.000128\n",
      "\n",
      "     Epoch   gpu_mem       box       obj       cls     total    labels  img_size\n",
      "     6/199     2.16G    0.0668    0.0132   0.02759    0.1076        17       416: 100% 79/79 [00:09<00:00,  7.97it/s]\n",
      "               Class      Images      Labels           P           R      mAP@.5  mAP@.5:.95: 100% 10/10 [00:00<00:00, 13.70it/s]\n",
      "                 all          78         193     0.00434      0.0736     0.00273    0.000389\n",
      "\n",
      "     Epoch   gpu_mem       box       obj       cls     total    labels  img_size\n",
      "     7/199     2.16G   0.06727   0.01301   0.02757    0.1078        14       416: 100% 79/79 [00:10<00:00,  7.79it/s]\n",
      "               Class      Images      Labels           P           R      mAP@.5  mAP@.5:.95: 100% 10/10 [00:00<00:00, 13.88it/s]\n",
      "                 all          78         193     0.00279       0.228     0.00105    0.000171\n",
      "\n",
      "     Epoch   gpu_mem       box       obj       cls     total    labels  img_size\n",
      "     8/199     2.16G   0.06532   0.01262   0.02733    0.1053         4       416: 100% 79/79 [00:10<00:00,  7.77it/s]\n",
      "               Class      Images      Labels           P           R      mAP@.5  mAP@.5:.95: 100% 10/10 [00:00<00:00, 13.45it/s]\n",
      "                 all          78         193     0.00255      0.0353    0.000916    0.000171\n",
      "\n",
      "     Epoch   gpu_mem       box       obj       cls     total    labels  img_size\n",
      "     9/199     2.16G   0.06538   0.01201   0.02673    0.1041         2       416: 100% 79/79 [00:10<00:00,  7.65it/s]\n",
      "               Class      Images      Labels           P           R      mAP@.5  mAP@.5:.95: 100% 10/10 [00:00<00:00, 15.25it/s]\n",
      "                 all          78         193      0.0022       0.203    0.000729    0.000127\n",
      "\n",
      "     Epoch   gpu_mem       box       obj       cls     total    labels  img_size\n",
      "    10/199     2.16G   0.06301   0.01306   0.02615    0.1022         2       416: 100% 79/79 [00:09<00:00,  7.93it/s]\n",
      "               Class      Images      Labels           P           R      mAP@.5  mAP@.5:.95: 100% 10/10 [00:00<00:00, 15.03it/s]\n",
      "                 all          78         193      0.0071       0.156    0.000967    0.000174\n",
      "\n",
      "     Epoch   gpu_mem       box       obj       cls     total    labels  img_size\n",
      "    11/199     2.16G   0.06449   0.01263   0.02663    0.1038         4       416: 100% 79/79 [00:10<00:00,  7.82it/s]\n",
      "               Class      Images      Labels           P           R      mAP@.5  mAP@.5:.95: 100% 10/10 [00:00<00:00, 15.61it/s]\n",
      "                 all          78         193     0.00267       0.122     0.00101    0.000169\n",
      "\n",
      "     Epoch   gpu_mem       box       obj       cls     total    labels  img_size\n",
      "    12/199     2.16G   0.06439   0.01224   0.02641     0.103         5       416: 100% 79/79 [00:10<00:00,  7.77it/s]\n",
      "               Class      Images      Labels           P           R      mAP@.5  mAP@.5:.95: 100% 10/10 [00:00<00:00, 14.37it/s]\n",
      "                 all          78         193     0.00412       0.219     0.00226     0.00037\n",
      "\n",
      "     Epoch   gpu_mem       box       obj       cls     total    labels  img_size\n",
      "    13/199     2.16G   0.06531   0.01287   0.02738    0.1055         4       416: 100% 79/79 [00:10<00:00,  7.69it/s]\n",
      "               Class      Images      Labels           P           R      mAP@.5  mAP@.5:.95: 100% 10/10 [00:00<00:00, 14.70it/s]\n",
      "                 all          78         193     0.00444        0.41     0.00463    0.000768\n",
      "\n",
      "     Epoch   gpu_mem       box       obj       cls     total    labels  img_size\n",
      "    14/199     2.16G   0.06395   0.01321   0.02652    0.1037        11       416: 100% 79/79 [00:10<00:00,  7.20it/s]\n",
      "               Class      Images      Labels           P           R      mAP@.5  mAP@.5:.95: 100% 10/10 [00:00<00:00, 14.32it/s]\n",
      "                 all          78         193       0.204       0.437     0.00416    0.000778\n",
      "\n",
      "     Epoch   gpu_mem       box       obj       cls     total    labels  img_size\n",
      "    15/199     2.16G   0.06331   0.01203   0.02595    0.1013         2       416: 100% 79/79 [00:09<00:00,  7.94it/s]\n",
      "               Class      Images      Labels           P           R      mAP@.5  mAP@.5:.95: 100% 10/10 [00:00<00:00, 14.46it/s]\n",
      "                 all          78         193       0.202        0.33     0.00236    0.000361\n",
      "\n",
      "     Epoch   gpu_mem       box       obj       cls     total    labels  img_size\n",
      "    16/199     2.16G   0.06516   0.01248   0.02592    0.1036         5       416: 100% 79/79 [00:10<00:00,  7.73it/s]\n",
      "               Class      Images      Labels           P           R      mAP@.5  mAP@.5:.95: 100% 10/10 [00:00<00:00, 14.58it/s]\n",
      "                 all          78         193     0.00194       0.325      0.0018    0.000382\n",
      "\n",
      "     Epoch   gpu_mem       box       obj       cls     total    labels  img_size\n",
      "    17/199     2.16G   0.06378   0.01291   0.02596    0.1027         1       416: 100% 79/79 [00:10<00:00,  7.77it/s]\n",
      "               Class      Images      Labels           P           R      mAP@.5  mAP@.5:.95: 100% 10/10 [00:00<00:00, 14.31it/s]\n",
      "                 all          78         193       0.414     0.00645      0.0031    0.000624\n",
      "\n",
      "     Epoch   gpu_mem       box       obj       cls     total    labels  img_size\n",
      "    18/199     2.16G   0.06543   0.01243   0.02585    0.1037        10       416: 100% 79/79 [00:10<00:00,  7.85it/s]\n",
      "               Class      Images      Labels           P           R      mAP@.5  mAP@.5:.95: 100% 10/10 [00:00<00:00, 14.63it/s]\n",
      "                 all          78         193       0.013       0.422     0.00629    0.000906\n",
      "\n",
      "     Epoch   gpu_mem       box       obj       cls     total    labels  img_size\n",
      "    19/199     2.16G   0.06531   0.01319   0.02619    0.1047         3       416: 100% 79/79 [00:11<00:00,  6.98it/s]\n",
      "               Class      Images      Labels           P           R      mAP@.5  mAP@.5:.95: 100% 10/10 [00:00<00:00, 13.68it/s]\n",
      "                 all          78         193       0.212       0.238     0.00704     0.00212\n",
      "\n",
      "     Epoch   gpu_mem       box       obj       cls     total    labels  img_size\n",
      "    20/199     2.16G   0.06441   0.01368   0.02711    0.1052        25       416: 100% 79/79 [00:10<00:00,  7.51it/s]\n",
      "               Class      Images      Labels           P           R      mAP@.5  mAP@.5:.95: 100% 10/10 [00:00<00:00, 13.65it/s]\n",
      "                 all          78         193     0.00273       0.317     0.00178    0.000332\n",
      "\n",
      "     Epoch   gpu_mem       box       obj       cls     total    labels  img_size\n",
      "    21/199     2.16G   0.06268   0.01242   0.02591     0.101        12       416: 100% 79/79 [00:10<00:00,  7.67it/s]\n",
      "               Class      Images      Labels           P           R      mAP@.5  mAP@.5:.95: 100% 10/10 [00:00<00:00, 13.35it/s]\n",
      "                 all          78         193     0.00224       0.253     0.00131    0.000216\n",
      "\n",
      "     Epoch   gpu_mem       box       obj       cls     total    labels  img_size\n",
      "    22/199     2.16G   0.06521   0.01321   0.02592    0.1043        15       416: 100% 79/79 [00:10<00:00,  7.81it/s]\n",
      "               Class      Images      Labels           P           R      mAP@.5  mAP@.5:.95: 100% 10/10 [00:00<00:00, 14.31it/s]\n",
      "                 all          78         193     0.00194       0.214    0.000785    0.000147\n",
      "\n",
      "     Epoch   gpu_mem       box       obj       cls     total    labels  img_size\n",
      "    23/199     2.16G   0.06578    0.0122   0.02594    0.1039         4       416: 100% 79/79 [00:10<00:00,  7.89it/s]\n",
      "               Class      Images      Labels           P           R      mAP@.5  mAP@.5:.95: 100% 10/10 [00:00<00:00, 15.15it/s]\n",
      "                 all          78         193     0.00326        0.23     0.00361    0.000929\n",
      "\n",
      "     Epoch   gpu_mem       box       obj       cls     total    labels  img_size\n",
      "    24/199     2.16G   0.06431   0.01335   0.02622    0.1039        12       416: 100% 79/79 [00:10<00:00,  7.84it/s]\n",
      "               Class      Images      Labels           P           R      mAP@.5  mAP@.5:.95: 100% 10/10 [00:00<00:00, 14.98it/s]\n",
      "                 all          78         193       0.213       0.142     0.00292     0.00102\n",
      "\n",
      "     Epoch   gpu_mem       box       obj       cls     total    labels  img_size\n",
      "    25/199     2.16G   0.06297   0.01362    0.0254     0.102         3       416: 100% 79/79 [00:10<00:00,  7.76it/s]\n",
      "               Class      Images      Labels           P           R      mAP@.5  mAP@.5:.95: 100% 10/10 [00:00<00:00, 14.02it/s]\n",
      "                 all          78         193     0.00617       0.234     0.00855    0.000948\n",
      "\n",
      "     Epoch   gpu_mem       box       obj       cls     total    labels  img_size\n",
      "    26/199     2.16G   0.06396    0.0136   0.02631    0.1039         3       416: 100% 79/79 [00:10<00:00,  7.61it/s]\n",
      "               Class      Images      Labels           P           R      mAP@.5  mAP@.5:.95: 100% 10/10 [00:00<00:00, 14.75it/s]\n",
      "                 all          78         193     0.00256       0.302     0.00189    0.000351\n",
      "\n",
      "     Epoch   gpu_mem       box       obj       cls     total    labels  img_size\n",
      "    27/199     2.16G   0.06329   0.01288   0.02595    0.1021         7       416: 100% 79/79 [00:10<00:00,  7.41it/s]\n",
      "               Class      Images      Labels           P           R      mAP@.5  mAP@.5:.95: 100% 10/10 [00:00<00:00, 12.43it/s]\n",
      "                 all          78         193       0.202       0.256     0.00124    0.000211\n",
      "\n",
      "     Epoch   gpu_mem       box       obj       cls     total    labels  img_size\n",
      "    28/199     2.16G   0.06376   0.01303   0.02565    0.1024         5       416: 100% 79/79 [00:10<00:00,  7.81it/s]\n",
      "               Class      Images      Labels           P           R      mAP@.5  mAP@.5:.95: 100% 10/10 [00:00<00:00, 13.57it/s]\n",
      "                 all          78         193       0.202       0.289     0.00167    0.000263\n",
      "\n",
      "     Epoch   gpu_mem       box       obj       cls     total    labels  img_size\n",
      "    29/199     2.16G   0.06064   0.01355   0.02492   0.09912         1       416: 100% 79/79 [00:10<00:00,  7.83it/s]\n",
      "               Class      Images      Labels           P           R      mAP@.5  mAP@.5:.95: 100% 10/10 [00:00<00:00, 14.28it/s]\n",
      "                 all          78         193       0.216       0.128     0.00159    0.000317\n",
      "\n",
      "     Epoch   gpu_mem       box       obj       cls     total    labels  img_size\n",
      "    30/199     2.16G   0.06335    0.0128   0.02586     0.102         2       416: 100% 79/79 [00:09<00:00,  7.93it/s]\n",
      "               Class      Images      Labels           P           R      mAP@.5  mAP@.5:.95: 100% 10/10 [00:00<00:00, 13.89it/s]\n",
      "                 all          78         193     0.00205       0.272     0.00115    0.000199\n",
      "\n",
      "     Epoch   gpu_mem       box       obj       cls     total    labels  img_size\n",
      "    31/199     2.16G   0.06305   0.01334   0.02578    0.1022         6       416: 100% 79/79 [00:10<00:00,  7.81it/s]\n",
      "               Class      Images      Labels           P           R      mAP@.5  mAP@.5:.95: 100% 10/10 [00:00<00:00, 14.88it/s]\n",
      "                 all          78         193       0.202         0.3      0.0016    0.000268\n",
      "\n",
      "     Epoch   gpu_mem       box       obj       cls     total    labels  img_size\n",
      "    32/199     2.16G   0.06269   0.01338   0.02581    0.1019        10       416: 100% 79/79 [00:10<00:00,  7.73it/s]\n",
      "               Class      Images      Labels           P           R      mAP@.5  mAP@.5:.95: 100% 10/10 [00:00<00:00, 15.07it/s]\n",
      "                 all          78         193     0.00381       0.319     0.00186    0.000304\n",
      "\n",
      "     Epoch   gpu_mem       box       obj       cls     total    labels  img_size\n",
      "    33/199     2.16G   0.06191    0.0136   0.02554     0.101         5       416: 100% 79/79 [00:09<00:00,  8.01it/s]\n",
      "               Class      Images      Labels           P           R      mAP@.5  mAP@.5:.95: 100% 10/10 [00:00<00:00, 14.98it/s]\n",
      "                 all          78         193     0.00463       0.352     0.00217    0.000395\n",
      "\n",
      "     Epoch   gpu_mem       box       obj       cls     total    labels  img_size\n",
      "    34/199     2.16G   0.06136   0.01351   0.02518    0.1001         3       416: 100% 79/79 [00:10<00:00,  7.71it/s]\n",
      "               Class      Images      Labels           P           R      mAP@.5  mAP@.5:.95: 100% 10/10 [00:00<00:00, 14.63it/s]\n",
      "                 all          78         193     0.00415        0.43     0.00313    0.000642\n",
      "\n",
      "     Epoch   gpu_mem       box       obj       cls     total    labels  img_size\n",
      "    35/199     2.16G   0.06281   0.01379   0.02574    0.1023         5       416: 100% 79/79 [00:10<00:00,  7.76it/s]\n",
      "               Class      Images      Labels           P           R      mAP@.5  mAP@.5:.95: 100% 10/10 [00:00<00:00, 14.45it/s]\n",
      "                 all          78         193      0.0062        0.47     0.00411    0.000747\n",
      "\n",
      "     Epoch   gpu_mem       box       obj       cls     total    labels  img_size\n",
      "    36/199     2.16G   0.06048   0.01372   0.02537   0.09957        20       416: 100% 79/79 [00:09<00:00,  8.00it/s]\n",
      "               Class      Images      Labels           P           R      mAP@.5  mAP@.5:.95: 100% 10/10 [00:00<00:00, 14.43it/s]\n",
      "                 all          78         193      0.0053       0.457     0.00571    0.000968\n",
      "\n",
      "     Epoch   gpu_mem       box       obj       cls     total    labels  img_size\n",
      "    37/199     2.16G   0.06093   0.01432   0.02505    0.1003         7       416: 100% 79/79 [00:10<00:00,  7.52it/s]\n",
      "               Class      Images      Labels           P           R      mAP@.5  mAP@.5:.95: 100% 10/10 [00:00<00:00, 13.85it/s]\n",
      "                 all          78         193     0.00466       0.454     0.00437    0.000872\n",
      "\n",
      "     Epoch   gpu_mem       box       obj       cls     total    labels  img_size\n",
      "    38/199     2.16G   0.06174   0.01371   0.02479    0.1002        15       416: 100% 79/79 [00:10<00:00,  7.87it/s]\n",
      "               Class      Images      Labels           P           R      mAP@.5  mAP@.5:.95: 100% 10/10 [00:00<00:00, 15.37it/s]\n",
      "                 all          78         193     0.00447       0.388     0.00318    0.000675\n",
      "\n",
      "     Epoch   gpu_mem       box       obj       cls     total    labels  img_size\n",
      "    39/199     2.16G   0.06078   0.01341   0.02551    0.0997         9       416: 100% 79/79 [00:10<00:00,  7.67it/s]\n",
      "               Class      Images      Labels           P           R      mAP@.5  mAP@.5:.95: 100% 10/10 [00:00<00:00, 14.64it/s]\n",
      "                 all          78         193     0.00447       0.386     0.00638    0.000957\n",
      "\n",
      "     Epoch   gpu_mem       box       obj       cls     total    labels  img_size\n",
      "    40/199     2.16G   0.06065   0.01364    0.0256   0.09988        14       416: 100% 79/79 [00:09<00:00,  8.06it/s]\n",
      "               Class      Images      Labels           P           R      mAP@.5  mAP@.5:.95: 100% 10/10 [00:00<00:00, 15.57it/s]\n",
      "                 all          78         193      0.0061       0.423     0.00712     0.00242\n",
      "\n",
      "     Epoch   gpu_mem       box       obj       cls     total    labels  img_size\n",
      "    41/199     2.16G   0.05848   0.01363   0.02444   0.09656         2       416: 100% 79/79 [00:11<00:00,  7.14it/s]\n",
      "               Class      Images      Labels           P           R      mAP@.5  mAP@.5:.95: 100% 10/10 [00:00<00:00, 14.60it/s]\n",
      "                 all          78         193       0.207       0.163      0.0051     0.00124\n",
      "\n",
      "     Epoch   gpu_mem       box       obj       cls     total    labels  img_size\n",
      "    42/199     2.16G    0.0602   0.01405   0.02577       0.1         3       416: 100% 79/79 [00:09<00:00,  7.94it/s]\n",
      "               Class      Images      Labels           P           R      mAP@.5  mAP@.5:.95: 100% 10/10 [00:00<00:00, 14.28it/s]\n",
      "                 all          78         193     0.00511       0.384     0.00501    0.000835\n",
      "\n",
      "     Epoch   gpu_mem       box       obj       cls     total    labels  img_size\n",
      "    43/199     2.16G   0.06091   0.01304   0.02493   0.09888         4       416: 100% 79/79 [00:09<00:00,  7.92it/s]\n",
      "               Class      Images      Labels           P           R      mAP@.5  mAP@.5:.95: 100% 10/10 [00:00<00:00, 15.02it/s]\n",
      "                 all          78         193     0.00898       0.215      0.0045     0.00101\n",
      "\n",
      "     Epoch   gpu_mem       box       obj       cls     total    labels  img_size\n",
      "    44/199     2.16G   0.06128   0.01286   0.02485   0.09899         1       416: 100% 79/79 [00:10<00:00,  7.87it/s]\n",
      "               Class      Images      Labels           P           R      mAP@.5  mAP@.5:.95: 100% 10/10 [00:00<00:00, 14.27it/s]\n",
      "                 all          78         193      0.0124       0.252     0.00438    0.000876\n",
      "\n",
      "     Epoch   gpu_mem       box       obj       cls     total    labels  img_size\n",
      "    45/199     2.16G   0.05857   0.01394    0.0244   0.09691        18       416: 100% 79/79 [00:10<00:00,  7.81it/s]\n",
      "               Class      Images      Labels           P           R      mAP@.5  mAP@.5:.95: 100% 10/10 [00:00<00:00, 14.24it/s]\n",
      "                 all          78         193       0.414       0.144     0.00632     0.00161\n",
      "\n",
      "     Epoch   gpu_mem       box       obj       cls     total    labels  img_size\n",
      "    46/199     2.16G   0.05875   0.01372   0.02451   0.09699        12       416: 100% 79/79 [00:10<00:00,  7.81it/s]\n",
      "               Class      Images      Labels           P           R      mAP@.5  mAP@.5:.95: 100% 10/10 [00:00<00:00, 14.68it/s]\n",
      "                 all          78         193     0.00513       0.425     0.00635     0.00155\n",
      "\n",
      "     Epoch   gpu_mem       box       obj       cls     total    labels  img_size\n",
      "    47/199     2.16G   0.05873   0.01434    0.0244   0.09747         5       416: 100% 79/79 [00:10<00:00,  7.78it/s]\n",
      "               Class      Images      Labels           P           R      mAP@.5  mAP@.5:.95: 100% 10/10 [00:00<00:00, 14.52it/s]\n",
      "                 all          78         193      0.0217       0.262     0.00932     0.00169\n",
      "\n",
      "     Epoch   gpu_mem       box       obj       cls     total    labels  img_size\n",
      "    48/199     2.16G   0.06013   0.01437   0.02488   0.09938         4       416: 100% 79/79 [00:09<00:00,  7.99it/s]\n",
      "               Class      Images      Labels           P           R      mAP@.5  mAP@.5:.95: 100% 10/10 [00:00<00:00, 13.99it/s]\n",
      "                 all          78         193     0.00955       0.272       0.006     0.00115\n",
      "\n",
      "     Epoch   gpu_mem       box       obj       cls     total    labels  img_size\n",
      "    49/199     2.16G   0.06058   0.01401   0.02469   0.09927        12       416: 100% 79/79 [00:10<00:00,  7.77it/s]\n",
      "               Class      Images      Labels           P           R      mAP@.5  mAP@.5:.95: 100% 10/10 [00:00<00:00, 14.59it/s]\n",
      "                 all          78         193     0.00887       0.296     0.00559    0.000924\n",
      "\n",
      "     Epoch   gpu_mem       box       obj       cls     total    labels  img_size\n",
      "    50/199     2.16G   0.05906   0.01373    0.0248   0.09759        11       416: 100% 79/79 [00:10<00:00,  7.69it/s]\n",
      "               Class      Images      Labels           P           R      mAP@.5  mAP@.5:.95: 100% 10/10 [00:00<00:00, 14.90it/s]\n",
      "                 all          78         193      0.0106       0.154     0.00593     0.00104\n",
      "\n",
      "     Epoch   gpu_mem       box       obj       cls     total    labels  img_size\n",
      "    51/199     2.16G   0.06033   0.01393   0.02457   0.09883         1       416: 100% 79/79 [00:10<00:00,  7.58it/s]\n",
      "               Class      Images      Labels           P           R      mAP@.5  mAP@.5:.95: 100% 10/10 [00:00<00:00, 13.24it/s]\n",
      "                 all          78         193     0.00667       0.308      0.0047    0.000864\n",
      "\n",
      "     Epoch   gpu_mem       box       obj       cls     total    labels  img_size\n",
      "    52/199     2.16G   0.05896   0.01472   0.02463   0.09832         1       416: 100% 79/79 [00:10<00:00,  7.23it/s]\n",
      "               Class      Images      Labels           P           R      mAP@.5  mAP@.5:.95: 100% 10/10 [00:00<00:00, 14.42it/s]\n",
      "                 all          78         193     0.00536        0.28     0.00428    0.000791\n",
      "\n",
      "     Epoch   gpu_mem       box       obj       cls     total    labels  img_size\n",
      "    53/199     2.16G   0.05875   0.01481   0.02423   0.09778         7       416: 100% 79/79 [00:10<00:00,  7.63it/s]\n",
      "               Class      Images      Labels           P           R      mAP@.5  mAP@.5:.95: 100% 10/10 [00:00<00:00, 13.68it/s]\n",
      "                 all          78         193      0.0128       0.211     0.00635     0.00161\n",
      "\n",
      "     Epoch   gpu_mem       box       obj       cls     total    labels  img_size\n",
      "    54/199     2.16G   0.05797   0.01486   0.02421   0.09704        12       416: 100% 79/79 [00:09<00:00,  8.06it/s]\n",
      "               Class      Images      Labels           P           R      mAP@.5  mAP@.5:.95: 100% 10/10 [00:00<00:00, 13.91it/s]\n",
      "                 all          78         193      0.0111       0.255      0.0112     0.00359\n",
      "\n",
      "     Epoch   gpu_mem       box       obj       cls     total    labels  img_size\n",
      "    55/199     2.16G   0.05967     0.014   0.02478   0.09845         9       416: 100% 79/79 [00:09<00:00,  7.94it/s]\n",
      "               Class      Images      Labels           P           R      mAP@.5  mAP@.5:.95: 100% 10/10 [00:00<00:00, 13.15it/s]\n",
      "                 all          78         193      0.0102       0.239     0.00722     0.00168\n",
      "\n",
      "     Epoch   gpu_mem       box       obj       cls     total    labels  img_size\n",
      "    56/199     2.16G   0.05878   0.01461   0.02443   0.09782        14       416: 100% 79/79 [00:10<00:00,  7.81it/s]\n",
      "               Class      Images      Labels           P           R      mAP@.5  mAP@.5:.95: 100% 10/10 [00:00<00:00, 15.41it/s]\n",
      "                 all          78         193       0.011       0.239     0.00738     0.00158\n",
      "\n",
      "     Epoch   gpu_mem       box       obj       cls     total    labels  img_size\n",
      "    57/199     2.16G   0.05971   0.01478   0.02446   0.09895         9       416: 100% 79/79 [00:10<00:00,  7.52it/s]\n",
      "               Class      Images      Labels           P           R      mAP@.5  mAP@.5:.95: 100% 10/10 [00:00<00:00, 15.02it/s]\n",
      "                 all          78         193      0.0222       0.169      0.0105      0.0027\n",
      "\n",
      "     Epoch   gpu_mem       box       obj       cls     total    labels  img_size\n",
      "    58/199     2.16G   0.05874   0.01319   0.02348   0.09541         1       416: 100% 79/79 [00:10<00:00,  7.60it/s]\n",
      "               Class      Images      Labels           P           R      mAP@.5  mAP@.5:.95: 100% 10/10 [00:00<00:00, 14.50it/s]\n",
      "                 all          78         193      0.0366        0.12     0.00825     0.00258\n",
      "\n",
      "     Epoch   gpu_mem       box       obj       cls     total    labels  img_size\n",
      "    59/199     2.16G   0.05925   0.01411   0.02339   0.09675         0       416: 100% 79/79 [00:10<00:00,  7.67it/s]\n",
      "               Class      Images      Labels           P           R      mAP@.5  mAP@.5:.95: 100% 10/10 [00:00<00:00, 14.42it/s]\n",
      "                 all          78         193      0.0909       0.128      0.0127      0.0025\n",
      "\n",
      "     Epoch   gpu_mem       box       obj       cls     total    labels  img_size\n",
      "    60/199     2.16G   0.05723   0.01355   0.02294   0.09371        14       416: 100% 79/79 [00:10<00:00,  7.81it/s]\n",
      "               Class      Images      Labels           P           R      mAP@.5  mAP@.5:.95: 100% 10/10 [00:00<00:00, 12.73it/s]\n",
      "                 all          78         193     0.00704       0.379     0.00416     0.00087\n",
      "\n",
      "     Epoch   gpu_mem       box       obj       cls     total    labels  img_size\n",
      "    61/199     2.16G   0.05892   0.01387   0.02314   0.09593         7       416: 100% 79/79 [00:10<00:00,  7.67it/s]\n",
      "               Class      Images      Labels           P           R      mAP@.5  mAP@.5:.95: 100% 10/10 [00:00<00:00, 13.54it/s]\n",
      "                 all          78         193     0.00791        0.35      0.0063     0.00134\n",
      "\n",
      "     Epoch   gpu_mem       box       obj       cls     total    labels  img_size\n",
      "    62/199     2.16G   0.05854   0.01344   0.02318   0.09516        10       416: 100% 79/79 [00:10<00:00,  7.87it/s]\n",
      "               Class      Images      Labels           P           R      mAP@.5  mAP@.5:.95: 100% 10/10 [00:00<00:00, 14.69it/s]\n",
      "                 all          78         193       0.657      0.0281       0.016     0.00562\n",
      "\n",
      "     Epoch   gpu_mem       box       obj       cls     total    labels  img_size\n",
      "    63/199     2.16G   0.05641   0.01292   0.02215   0.09148         3       416: 100% 79/79 [00:11<00:00,  7.18it/s]\n",
      "               Class      Images      Labels           P           R      mAP@.5  mAP@.5:.95: 100% 10/10 [00:00<00:00, 15.22it/s]\n",
      "                 all          78         193       0.211       0.196      0.0122     0.00254\n",
      "\n",
      "     Epoch   gpu_mem       box       obj       cls     total    labels  img_size\n",
      "    64/199     2.16G   0.05853   0.01304   0.02292   0.09449         3       416: 100% 79/79 [00:10<00:00,  7.79it/s]\n",
      "               Class      Images      Labels           P           R      mAP@.5  mAP@.5:.95: 100% 10/10 [00:00<00:00, 14.27it/s]\n",
      "                 all          78         193      0.0219       0.201     0.00789     0.00203\n",
      "\n",
      "     Epoch   gpu_mem       box       obj       cls     total    labels  img_size\n",
      "    65/199     2.16G   0.05682   0.01328    0.0228    0.0929        12       416: 100% 79/79 [00:10<00:00,  7.71it/s]\n",
      "               Class      Images      Labels           P           R      mAP@.5  mAP@.5:.95: 100% 10/10 [00:00<00:00, 14.57it/s]\n",
      "                 all          78         193       0.011       0.328     0.00845     0.00166\n",
      "\n",
      "     Epoch   gpu_mem       box       obj       cls     total    labels  img_size\n",
      "    66/199     2.16G   0.05754   0.01274   0.02276   0.09303         3       416: 100% 79/79 [00:10<00:00,  7.89it/s]\n",
      "               Class      Images      Labels           P           R      mAP@.5  mAP@.5:.95: 100% 10/10 [00:00<00:00, 13.51it/s]\n",
      "                 all          78         193      0.0152       0.215      0.0184     0.00377\n",
      "\n",
      "     Epoch   gpu_mem       box       obj       cls     total    labels  img_size\n",
      "    67/199     2.16G   0.05867   0.01415   0.02265   0.09547        15       416: 100% 79/79 [00:10<00:00,  7.75it/s]\n",
      "               Class      Images      Labels           P           R      mAP@.5  mAP@.5:.95: 100% 10/10 [00:00<00:00, 13.57it/s]\n",
      "                 all          78         193      0.0135       0.287      0.0119     0.00233\n",
      "\n",
      "     Epoch   gpu_mem       box       obj       cls     total    labels  img_size\n",
      "    68/199     2.16G   0.05909   0.01332   0.02289    0.0953        11       416: 100% 79/79 [00:09<00:00,  7.91it/s]\n",
      "               Class      Images      Labels           P           R      mAP@.5  mAP@.5:.95: 100% 10/10 [00:00<00:00, 12.17it/s]\n",
      "                 all          78         193      0.0394       0.167      0.0201     0.00426\n",
      "\n",
      "     Epoch   gpu_mem       box       obj       cls     total    labels  img_size\n",
      "    69/199     2.16G   0.05751    0.0142   0.02242   0.09413         4       416: 100% 79/79 [00:10<00:00,  7.73it/s]\n",
      "               Class      Images      Labels           P           R      mAP@.5  mAP@.5:.95: 100% 10/10 [00:00<00:00, 12.89it/s]\n",
      "                 all          78         193      0.0192       0.302      0.0157     0.00292\n",
      "\n",
      "     Epoch   gpu_mem       box       obj       cls     total    labels  img_size\n",
      "    70/199     2.16G    0.0566   0.01358   0.02223   0.09242         6       416: 100% 79/79 [00:10<00:00,  7.79it/s]\n",
      "               Class      Images      Labels           P           R      mAP@.5  mAP@.5:.95: 100% 10/10 [00:00<00:00, 12.53it/s]\n",
      "                 all          78         193      0.0331        0.19       0.022     0.00449\n",
      "\n",
      "     Epoch   gpu_mem       box       obj       cls     total    labels  img_size\n",
      "    71/199     2.16G   0.05611   0.01324   0.02214   0.09149         3       416: 100% 79/79 [00:10<00:00,  7.83it/s]\n",
      "               Class      Images      Labels           P           R      mAP@.5  mAP@.5:.95: 100% 10/10 [00:00<00:00, 11.73it/s]\n",
      "                 all          78         193       0.245      0.0682      0.0363     0.00532\n",
      "\n",
      "     Epoch   gpu_mem       box       obj       cls     total    labels  img_size\n",
      "    72/199     2.16G    0.0579   0.01341   0.02197   0.09328         3       416: 100% 79/79 [00:11<00:00,  7.12it/s]\n",
      "               Class      Images      Labels           P           R      mAP@.5  mAP@.5:.95: 100% 10/10 [00:00<00:00, 12.90it/s]\n",
      "                 all          78         193       0.239      0.0821       0.028     0.00993\n",
      "\n",
      "     Epoch   gpu_mem       box       obj       cls     total    labels  img_size\n",
      "    73/199     2.16G   0.05882   0.01375   0.02247   0.09505        14       416: 100% 79/79 [00:10<00:00,  7.35it/s]\n",
      "               Class      Images      Labels           P           R      mAP@.5  mAP@.5:.95: 100% 10/10 [00:00<00:00, 13.85it/s]\n",
      "                 all          78         193       0.226       0.221      0.0251        0.01\n",
      "\n",
      "     Epoch   gpu_mem       box       obj       cls     total    labels  img_size\n",
      "    74/199     2.16G    0.0567   0.01368   0.02195   0.09232         5       416: 100% 79/79 [00:10<00:00,  7.81it/s]\n",
      "               Class      Images      Labels           P           R      mAP@.5  mAP@.5:.95: 100% 10/10 [00:00<00:00, 13.70it/s]\n",
      "                 all          78         193       0.243       0.191      0.0365     0.00981\n",
      "\n",
      "     Epoch   gpu_mem       box       obj       cls     total    labels  img_size\n",
      "    75/199     2.16G   0.05559   0.01288   0.02102   0.08949         7       416: 100% 79/79 [00:11<00:00,  7.14it/s]\n",
      "               Class      Images      Labels           P           R      mAP@.5  mAP@.5:.95: 100% 10/10 [00:00<00:00, 13.81it/s]\n",
      "                 all          78         193       0.246       0.149       0.033     0.00971\n",
      "\n",
      "     Epoch   gpu_mem       box       obj       cls     total    labels  img_size\n",
      "    76/199     2.16G   0.05641   0.01369   0.02094   0.09103         8       416: 100% 79/79 [00:09<00:00,  7.96it/s]\n",
      "               Class      Images      Labels           P           R      mAP@.5  mAP@.5:.95: 100% 10/10 [00:00<00:00, 14.04it/s]\n",
      "                 all          78         193       0.261      0.0408      0.0314     0.00606\n",
      "\n",
      "     Epoch   gpu_mem       box       obj       cls     total    labels  img_size\n",
      "    77/199     2.16G   0.05683     0.014   0.02096   0.09179         3       416: 100% 79/79 [00:10<00:00,  7.52it/s]\n",
      "               Class      Images      Labels           P           R      mAP@.5  mAP@.5:.95: 100% 10/10 [00:00<00:00, 13.68it/s]\n",
      "                 all          78         193       0.244       0.217      0.0394     0.00957\n",
      "\n",
      "     Epoch   gpu_mem       box       obj       cls     total    labels  img_size\n",
      "    78/199     2.16G   0.05511   0.01374   0.02039   0.08923         3       416: 100% 79/79 [00:10<00:00,  7.28it/s]\n",
      "               Class      Images      Labels           P           R      mAP@.5  mAP@.5:.95: 100% 10/10 [00:00<00:00, 13.67it/s]\n",
      "                 all          78         193       0.304      0.0706      0.0575      0.0133\n",
      "\n",
      "     Epoch   gpu_mem       box       obj       cls     total    labels  img_size\n",
      "    79/199     2.16G   0.05478   0.01442   0.02094   0.09014         2       416: 100% 79/79 [00:10<00:00,  7.39it/s]\n",
      "               Class      Images      Labels           P           R      mAP@.5  mAP@.5:.95: 100% 10/10 [00:00<00:00, 13.95it/s]\n",
      "                 all          78         193       0.302      0.0931      0.0577      0.0174\n",
      "\n",
      "     Epoch   gpu_mem       box       obj       cls     total    labels  img_size\n",
      "    80/199     2.16G   0.05576   0.01312   0.02056   0.08944         3       416: 100% 79/79 [00:10<00:00,  7.28it/s]\n",
      "               Class      Images      Labels           P           R      mAP@.5  mAP@.5:.95: 100% 10/10 [00:00<00:00, 13.67it/s]\n",
      "                 all          78         193       0.292      0.0922        0.05      0.0164\n",
      "\n",
      "     Epoch   gpu_mem       box       obj       cls     total    labels  img_size\n",
      "    81/199     2.16G   0.05407   0.01403    0.0207   0.08879         5       416: 100% 79/79 [00:10<00:00,  7.77it/s]\n",
      "               Class      Images      Labels           P           R      mAP@.5  mAP@.5:.95: 100% 10/10 [00:00<00:00, 13.64it/s]\n",
      "                 all          78         193       0.255      0.0585      0.0211     0.00446\n",
      "\n",
      "     Epoch   gpu_mem       box       obj       cls     total    labels  img_size\n",
      "    82/199     2.16G   0.05477   0.01259   0.02063   0.08799        13       416: 100% 79/79 [00:10<00:00,  7.72it/s]\n",
      "               Class      Images      Labels           P           R      mAP@.5  mAP@.5:.95: 100% 10/10 [00:00<00:00, 14.55it/s]\n",
      "                 all          78         193        0.25      0.0982      0.0349      0.0109\n",
      "\n",
      "     Epoch   gpu_mem       box       obj       cls     total    labels  img_size\n",
      "    83/199     2.16G    0.0567   0.01353   0.02195   0.09217        10       416: 100% 79/79 [00:10<00:00,  7.46it/s]\n",
      "               Class      Images      Labels           P           R      mAP@.5  mAP@.5:.95: 100% 10/10 [00:00<00:00, 13.71it/s]\n",
      "                 all          78         193      0.0907       0.227      0.0837      0.0306\n",
      "\n",
      "     Epoch   gpu_mem       box       obj       cls     total    labels  img_size\n",
      "    84/199     2.16G   0.05586   0.01273   0.02059   0.08918        11       416: 100% 79/79 [00:11<00:00,  7.12it/s]\n",
      "               Class      Images      Labels           P           R      mAP@.5  mAP@.5:.95: 100% 10/10 [00:00<00:00, 13.99it/s]\n",
      "                 all          78         193      0.0984       0.242      0.0596      0.0165\n",
      "\n",
      "     Epoch   gpu_mem       box       obj       cls     total    labels  img_size\n",
      "    85/199     2.16G   0.05354   0.01346   0.02024   0.08724         1       416: 100% 79/79 [00:09<00:00,  7.98it/s]\n",
      "               Class      Images      Labels           P           R      mAP@.5  mAP@.5:.95: 100% 10/10 [00:00<00:00, 13.11it/s]\n",
      "                 all          78         193       0.139      0.0644      0.0489     0.00744\n",
      "\n",
      "     Epoch   gpu_mem       box       obj       cls     total    labels  img_size\n",
      "    86/199     2.16G    0.0544   0.01372   0.02036   0.08848        25       416: 100% 79/79 [00:10<00:00,  7.69it/s]\n",
      "               Class      Images      Labels           P           R      mAP@.5  mAP@.5:.95: 100% 10/10 [00:00<00:00, 13.21it/s]\n",
      "                 all          78         193       0.139      0.0898      0.0452     0.00879\n",
      "\n",
      "     Epoch   gpu_mem       box       obj       cls     total    labels  img_size\n",
      "    87/199     2.16G   0.05745   0.01315   0.02065   0.09125         2       416: 100% 79/79 [00:10<00:00,  7.77it/s]\n",
      "               Class      Images      Labels           P           R      mAP@.5  mAP@.5:.95: 100% 10/10 [00:00<00:00, 13.80it/s]\n",
      "                 all          78         193       0.308       0.112       0.037     0.00978\n",
      "\n",
      "     Epoch   gpu_mem       box       obj       cls     total    labels  img_size\n",
      "    88/199     2.16G   0.05572   0.01353   0.02072   0.08997         5       416: 100% 79/79 [00:09<00:00,  7.91it/s]\n",
      "               Class      Images      Labels           P           R      mAP@.5  mAP@.5:.95: 100% 10/10 [00:00<00:00, 14.05it/s]\n",
      "                 all          78         193      0.0888       0.145      0.0598      0.0185\n",
      "\n",
      "     Epoch   gpu_mem       box       obj       cls     total    labels  img_size\n",
      "    89/199     2.16G   0.05251   0.01205   0.01964    0.0842         1       416: 100% 79/79 [00:09<00:00,  8.16it/s]\n",
      "               Class      Images      Labels           P           R      mAP@.5  mAP@.5:.95: 100% 10/10 [00:00<00:00, 14.19it/s]\n",
      "                 all          78         193      0.0736       0.165       0.056      0.0175\n",
      "\n",
      "     Epoch   gpu_mem       box       obj       cls     total    labels  img_size\n",
      "    90/199     2.16G   0.05427   0.01285    0.0205   0.08762         4       416: 100% 79/79 [00:10<00:00,  7.71it/s]\n",
      "               Class      Images      Labels           P           R      mAP@.5  mAP@.5:.95: 100% 10/10 [00:00<00:00, 14.09it/s]\n",
      "                 all          78         193      0.0618       0.149      0.0441       0.016\n",
      "\n",
      "     Epoch   gpu_mem       box       obj       cls     total    labels  img_size\n",
      "    91/199     2.16G   0.05668   0.01427   0.02041   0.09136         4       416: 100% 79/79 [00:10<00:00,  7.51it/s]\n",
      "               Class      Images      Labels           P           R      mAP@.5  mAP@.5:.95: 100% 10/10 [00:00<00:00, 14.91it/s]\n",
      "                 all          78         193      0.0992       0.117      0.0674      0.0215\n",
      "\n",
      "     Epoch   gpu_mem       box       obj       cls     total    labels  img_size\n",
      "    92/199     2.16G    0.0547   0.01344    0.0209   0.08904         8       416: 100% 79/79 [00:10<00:00,  7.78it/s]\n",
      "               Class      Images      Labels           P           R      mAP@.5  mAP@.5:.95: 100% 10/10 [00:00<00:00, 14.39it/s]\n",
      "                 all          78         193      0.0879       0.173      0.0648      0.0222\n",
      "\n",
      "     Epoch   gpu_mem       box       obj       cls     total    labels  img_size\n",
      "    93/199     2.16G   0.05536   0.01392   0.01947   0.08875         7       416: 100% 79/79 [00:10<00:00,  7.47it/s]\n",
      "               Class      Images      Labels           P           R      mAP@.5  mAP@.5:.95: 100% 10/10 [00:00<00:00, 13.88it/s]\n",
      "                 all          78         193       0.054       0.149      0.0501      0.0121\n",
      "\n",
      "     Epoch   gpu_mem       box       obj       cls     total    labels  img_size\n",
      "    94/199     2.16G   0.05642   0.01369   0.02122   0.09134        10       416: 100% 79/79 [00:10<00:00,  7.54it/s]\n",
      "               Class      Images      Labels           P           R      mAP@.5  mAP@.5:.95: 100% 10/10 [00:00<00:00, 12.94it/s]\n",
      "                 all          78         193      0.0545       0.297       0.051      0.0161\n",
      "\n",
      "     Epoch   gpu_mem       box       obj       cls     total    labels  img_size\n",
      "    95/199     2.16G    0.0549   0.01302    0.0208   0.08873        12       416: 100% 79/79 [00:10<00:00,  7.77it/s]\n",
      "               Class      Images      Labels           P           R      mAP@.5  mAP@.5:.95: 100% 10/10 [00:00<00:00, 14.48it/s]\n",
      "                 all          78         193       0.126       0.123      0.0659      0.0154\n",
      "\n",
      "     Epoch   gpu_mem       box       obj       cls     total    labels  img_size\n",
      "    96/199     2.16G   0.05253   0.01328    0.0195   0.08532        21       416: 100% 79/79 [00:10<00:00,  7.60it/s]\n",
      "               Class      Images      Labels           P           R      mAP@.5  mAP@.5:.95: 100% 10/10 [00:00<00:00, 14.35it/s]\n",
      "                 all          78         193      0.0761       0.232      0.0503      0.0118\n",
      "\n",
      "     Epoch   gpu_mem       box       obj       cls     total    labels  img_size\n",
      "    97/199     2.16G    0.0539   0.01303   0.01964   0.08657         2       416: 100% 79/79 [00:10<00:00,  7.65it/s]\n",
      "               Class      Images      Labels           P           R      mAP@.5  mAP@.5:.95: 100% 10/10 [00:00<00:00, 12.97it/s]\n",
      "                 all          78         193      0.0524       0.138      0.0336     0.00763\n",
      "\n",
      "     Epoch   gpu_mem       box       obj       cls     total    labels  img_size\n",
      "    98/199     2.16G   0.05499   0.01331   0.01996   0.08827        13       416: 100% 79/79 [00:10<00:00,  7.75it/s]\n",
      "               Class      Images      Labels           P           R      mAP@.5  mAP@.5:.95: 100% 10/10 [00:00<00:00, 13.47it/s]\n",
      "                 all          78         193      0.0919        0.15      0.0538     0.00981\n",
      "\n",
      "     Epoch   gpu_mem       box       obj       cls     total    labels  img_size\n",
      "    99/199     2.16G   0.05452   0.01217   0.01947   0.08617         2       416: 100% 79/79 [00:10<00:00,  7.82it/s]\n",
      "               Class      Images      Labels           P           R      mAP@.5  mAP@.5:.95: 100% 10/10 [00:00<00:00, 13.80it/s]\n",
      "                 all          78         193       0.108       0.238         0.1      0.0308\n",
      "\n",
      "     Epoch   gpu_mem       box       obj       cls     total    labels  img_size\n",
      "   100/199     2.16G   0.05544   0.01339   0.01957   0.08839         2       416: 100% 79/79 [00:10<00:00,  7.55it/s]\n",
      "               Class      Images      Labels           P           R      mAP@.5  mAP@.5:.95: 100% 10/10 [00:00<00:00, 13.37it/s]\n",
      "                 all          78         193      0.0586       0.233      0.0756      0.0199\n",
      "\n",
      "     Epoch   gpu_mem       box       obj       cls     total    labels  img_size\n",
      "   101/199     2.16G   0.05455   0.01264   0.02006   0.08725         3       416: 100% 79/79 [00:09<00:00,  8.01it/s]\n",
      "               Class      Images      Labels           P           R      mAP@.5  mAP@.5:.95: 100% 10/10 [00:00<00:00, 12.94it/s]\n",
      "                 all          78         193      0.0638       0.175      0.0555       0.015\n",
      "\n",
      "     Epoch   gpu_mem       box       obj       cls     total    labels  img_size\n",
      "   102/199     2.16G   0.05387     0.013   0.02008   0.08695         4       416: 100% 79/79 [00:10<00:00,  7.54it/s]\n",
      "               Class      Images      Labels           P           R      mAP@.5  mAP@.5:.95: 100% 10/10 [00:00<00:00, 13.28it/s]\n",
      "                 all          78         193      0.0817       0.326      0.0666      0.0184\n",
      "\n",
      "     Epoch   gpu_mem       box       obj       cls     total    labels  img_size\n",
      "   103/199     2.16G   0.05559   0.01344   0.01969   0.08872        13       416: 100% 79/79 [00:09<00:00,  7.94it/s]\n",
      "               Class      Images      Labels           P           R      mAP@.5  mAP@.5:.95: 100% 10/10 [00:00<00:00, 12.93it/s]\n",
      "                 all          78         193       0.116       0.161      0.0646      0.0164\n",
      "\n",
      "     Epoch   gpu_mem       box       obj       cls     total    labels  img_size\n",
      "   104/199     2.16G   0.05365   0.01346   0.01892   0.08603        15       416: 100% 79/79 [00:09<00:00,  8.03it/s]\n",
      "               Class      Images      Labels           P           R      mAP@.5  mAP@.5:.95: 100% 10/10 [00:00<00:00, 13.39it/s]\n",
      "                 all          78         193       0.116       0.144      0.0639      0.0185\n",
      "\n",
      "     Epoch   gpu_mem       box       obj       cls     total    labels  img_size\n",
      "   105/199     2.16G   0.05442   0.01244    0.0193   0.08616         8       416: 100% 79/79 [00:10<00:00,  7.65it/s]\n",
      "               Class      Images      Labels           P           R      mAP@.5  mAP@.5:.95: 100% 10/10 [00:00<00:00, 13.52it/s]\n",
      "                 all          78         193       0.126       0.221       0.075      0.0207\n",
      "\n",
      "     Epoch   gpu_mem       box       obj       cls     total    labels  img_size\n",
      "   106/199     2.16G   0.05469   0.01288   0.01932   0.08689         4       416: 100% 79/79 [00:10<00:00,  7.87it/s]\n",
      "               Class      Images      Labels           P           R      mAP@.5  mAP@.5:.95: 100% 10/10 [00:00<00:00, 12.25it/s]\n",
      "                 all          78         193       0.134       0.214      0.0929       0.034\n",
      "\n",
      "     Epoch   gpu_mem       box       obj       cls     total    labels  img_size\n",
      "   107/199     2.16G   0.05428   0.01338   0.01991   0.08756         2       416: 100% 79/79 [00:11<00:00,  6.80it/s]\n",
      "               Class      Images      Labels           P           R      mAP@.5  mAP@.5:.95: 100% 10/10 [00:00<00:00, 14.40it/s]\n",
      "                 all          78         193       0.095       0.367      0.0882      0.0206\n",
      "\n",
      "     Epoch   gpu_mem       box       obj       cls     total    labels  img_size\n",
      "   108/199     2.16G    0.0519   0.01302   0.01869   0.08361         3       416: 100% 79/79 [00:10<00:00,  7.83it/s]\n",
      "               Class      Images      Labels           P           R      mAP@.5  mAP@.5:.95: 100% 10/10 [00:00<00:00, 13.70it/s]\n",
      "                 all          78         193      0.0612       0.359      0.0734      0.0202\n",
      "\n",
      "     Epoch   gpu_mem       box       obj       cls     total    labels  img_size\n",
      "   109/199     2.16G   0.05373   0.01375   0.01885   0.08632         1       416: 100% 79/79 [00:10<00:00,  7.64it/s]\n",
      "               Class      Images      Labels           P           R      mAP@.5  mAP@.5:.95: 100% 10/10 [00:00<00:00, 13.75it/s]\n",
      "                 all          78         193      0.0757        0.22      0.0657      0.0182\n",
      "\n",
      "     Epoch   gpu_mem       box       obj       cls     total    labels  img_size\n",
      "   110/199     2.16G   0.05195   0.01318   0.01846    0.0836         4       416: 100% 79/79 [00:10<00:00,  7.88it/s]\n",
      "               Class      Images      Labels           P           R      mAP@.5  mAP@.5:.95: 100% 10/10 [00:00<00:00, 12.78it/s]\n",
      "                 all          78         193      0.0628       0.209      0.0533      0.0143\n",
      "\n",
      "     Epoch   gpu_mem       box       obj       cls     total    labels  img_size\n",
      "   111/199     2.16G   0.05493   0.01343   0.01933   0.08769        14       416: 100% 79/79 [00:10<00:00,  7.70it/s]\n",
      "               Class      Images      Labels           P           R      mAP@.5  mAP@.5:.95: 100% 10/10 [00:00<00:00, 13.86it/s]\n",
      "                 all          78         193      0.0908       0.217      0.0758      0.0217\n",
      "\n",
      "     Epoch   gpu_mem       box       obj       cls     total    labels  img_size\n",
      "   112/199     2.16G   0.05313   0.01323   0.01969   0.08605        10       416: 100% 79/79 [00:09<00:00,  7.97it/s]\n",
      "               Class      Images      Labels           P           R      mAP@.5  mAP@.5:.95: 100% 10/10 [00:00<00:00, 13.45it/s]\n",
      "                 all          78         193       0.114       0.252       0.078      0.0241\n",
      "\n",
      "     Epoch   gpu_mem       box       obj       cls     total    labels  img_size\n",
      "   113/199     2.16G   0.05282   0.01287     0.019   0.08469         2       416: 100% 79/79 [00:10<00:00,  7.85it/s]\n",
      "               Class      Images      Labels           P           R      mAP@.5  mAP@.5:.95: 100% 10/10 [00:00<00:00, 13.21it/s]\n",
      "                 all          78         193       0.113       0.243      0.0823      0.0215\n",
      "\n",
      "     Epoch   gpu_mem       box       obj       cls     total    labels  img_size\n",
      "   114/199     2.16G   0.05073   0.01273    0.0183   0.08176         3       416: 100% 79/79 [00:09<00:00,  7.96it/s]\n",
      "               Class      Images      Labels           P           R      mAP@.5  mAP@.5:.95: 100% 10/10 [00:00<00:00, 13.28it/s]\n",
      "                 all          78         193       0.287       0.177      0.0905      0.0319\n",
      "\n",
      "     Epoch   gpu_mem       box       obj       cls     total    labels  img_size\n",
      "   115/199     2.16G   0.05045    0.0136    0.0184   0.08245         7       416: 100% 79/79 [00:10<00:00,  7.86it/s]\n",
      "               Class      Images      Labels           P           R      mAP@.5  mAP@.5:.95: 100% 10/10 [00:00<00:00, 14.25it/s]\n",
      "                 all          78         193      0.0642       0.359      0.0905      0.0263\n",
      "\n",
      "     Epoch   gpu_mem       box       obj       cls     total    labels  img_size\n",
      "   116/199     2.16G   0.05385   0.01296   0.01999    0.0868         3       416: 100% 79/79 [00:09<00:00,  8.02it/s]\n",
      "               Class      Images      Labels           P           R      mAP@.5  mAP@.5:.95: 100% 10/10 [00:00<00:00, 14.55it/s]\n",
      "                 all          78         193       0.117         0.2       0.101      0.0334\n",
      "\n",
      "     Epoch   gpu_mem       box       obj       cls     total    labels  img_size\n",
      "   117/199     2.16G   0.05246   0.01379   0.01948   0.08573         3       416: 100% 79/79 [00:10<00:00,  7.49it/s]\n",
      "               Class      Images      Labels           P           R      mAP@.5  mAP@.5:.95: 100% 10/10 [00:00<00:00, 13.78it/s]\n",
      "                 all          78         193       0.109       0.175      0.0864      0.0286\n",
      "\n",
      "     Epoch   gpu_mem       box       obj       cls     total    labels  img_size\n",
      "   118/199     2.16G   0.05034   0.01411   0.01888   0.08333        13       416: 100% 79/79 [00:09<00:00,  7.90it/s]\n",
      "               Class      Images      Labels           P           R      mAP@.5  mAP@.5:.95: 100% 10/10 [00:00<00:00, 14.15it/s]\n",
      "                 all          78         193      0.0515       0.389      0.0635      0.0194\n",
      "\n",
      "     Epoch   gpu_mem       box       obj       cls     total    labels  img_size\n",
      "   119/199     2.16G   0.05062   0.01269   0.01817   0.08148        11       416: 100% 79/79 [00:09<00:00,  8.10it/s]\n",
      "               Class      Images      Labels           P           R      mAP@.5  mAP@.5:.95: 100% 10/10 [00:00<00:00, 15.09it/s]\n",
      "                 all          78         193       0.119       0.249       0.106      0.0349\n",
      "\n",
      "     Epoch   gpu_mem       box       obj       cls     total    labels  img_size\n",
      "   120/199     2.16G   0.05159   0.01349   0.01853   0.08361        13       416: 100% 79/79 [00:10<00:00,  7.75it/s]\n",
      "               Class      Images      Labels           P           R      mAP@.5  mAP@.5:.95: 100% 10/10 [00:00<00:00, 13.66it/s]\n",
      "                 all          78         193       0.106       0.238       0.095      0.0344\n",
      "\n",
      "     Epoch   gpu_mem       box       obj       cls     total    labels  img_size\n",
      "   121/199     2.16G   0.05183   0.01346   0.01817   0.08346         2       416: 100% 79/79 [00:09<00:00,  7.99it/s]\n",
      "               Class      Images      Labels           P           R      mAP@.5  mAP@.5:.95: 100% 10/10 [00:00<00:00, 13.69it/s]\n",
      "                 all          78         193      0.0888       0.281      0.0996      0.0308\n",
      "\n",
      "     Epoch   gpu_mem       box       obj       cls     total    labels  img_size\n",
      "   122/199     2.16G   0.05219   0.01326   0.01921   0.08465         5       416: 100% 79/79 [00:10<00:00,  7.87it/s]\n",
      "               Class      Images      Labels           P           R      mAP@.5  mAP@.5:.95: 100% 10/10 [00:00<00:00, 15.29it/s]\n",
      "                 all          78         193      0.0919       0.311      0.0956      0.0359\n",
      "\n",
      "     Epoch   gpu_mem       box       obj       cls     total    labels  img_size\n",
      "   123/199     2.16G    0.0529   0.01324   0.01969   0.08582         2       416: 100% 79/79 [00:10<00:00,  7.80it/s]\n",
      "               Class      Images      Labels           P           R      mAP@.5  mAP@.5:.95: 100% 10/10 [00:00<00:00, 14.53it/s]\n",
      "                 all          78         193       0.157       0.185      0.0724      0.0215\n",
      "\n",
      "     Epoch   gpu_mem       box       obj       cls     total    labels  img_size\n",
      "   124/199     2.16G    0.0509   0.01344   0.01833   0.08266        16       416: 100% 79/79 [00:10<00:00,  7.62it/s]\n",
      "               Class      Images      Labels           P           R      mAP@.5  mAP@.5:.95: 100% 10/10 [00:00<00:00, 14.39it/s]\n",
      "                 all          78         193      0.0733       0.321      0.0819      0.0255\n",
      "\n",
      "     Epoch   gpu_mem       box       obj       cls     total    labels  img_size\n",
      "   125/199     2.16G   0.05232   0.01344   0.01984   0.08559         9       416: 100% 79/79 [00:10<00:00,  7.66it/s]\n",
      "               Class      Images      Labels           P           R      mAP@.5  mAP@.5:.95: 100% 10/10 [00:00<00:00, 15.04it/s]\n",
      "                 all          78         193       0.156       0.162      0.0796      0.0249\n",
      "\n",
      "     Epoch   gpu_mem       box       obj       cls     total    labels  img_size\n",
      "   126/199     2.16G    0.0534   0.01395   0.02029   0.08764        21       416: 100% 79/79 [00:10<00:00,  7.59it/s]\n",
      "               Class      Images      Labels           P           R      mAP@.5  mAP@.5:.95: 100% 10/10 [00:00<00:00, 14.45it/s]\n",
      "                 all          78         193       0.137       0.258       0.111      0.0302\n",
      "\n",
      "     Epoch   gpu_mem       box       obj       cls     total    labels  img_size\n",
      "   127/199     2.16G   0.05095    0.0128   0.01862   0.08238         3       416: 100% 79/79 [00:10<00:00,  7.40it/s]\n",
      "               Class      Images      Labels           P           R      mAP@.5  mAP@.5:.95: 100% 10/10 [00:00<00:00, 14.33it/s]\n",
      "                 all          78         193       0.139       0.335        0.12      0.0349\n",
      "\n",
      "     Epoch   gpu_mem       box       obj       cls     total    labels  img_size\n",
      "   128/199     2.16G   0.04755   0.01292   0.01742   0.07789         3       416: 100% 79/79 [00:09<00:00,  8.07it/s]\n",
      "               Class      Images      Labels           P           R      mAP@.5  mAP@.5:.95: 100% 10/10 [00:00<00:00, 13.71it/s]\n",
      "                 all          78         193       0.109       0.197      0.0888      0.0223\n",
      "\n",
      "     Epoch   gpu_mem       box       obj       cls     total    labels  img_size\n",
      "   129/199     2.16G   0.05376    0.0137    0.0197   0.08715        14       416: 100% 79/79 [00:10<00:00,  7.85it/s]\n",
      "               Class      Images      Labels           P           R      mAP@.5  mAP@.5:.95: 100% 10/10 [00:00<00:00, 13.99it/s]\n",
      "                 all          78         193       0.102       0.346      0.0853      0.0234\n",
      "\n",
      "     Epoch   gpu_mem       box       obj       cls     total    labels  img_size\n",
      "   130/199     2.16G    0.0522   0.01299   0.01833   0.08353         4       416: 100% 79/79 [00:09<00:00,  7.95it/s]\n",
      "               Class      Images      Labels           P           R      mAP@.5  mAP@.5:.95: 100% 10/10 [00:00<00:00, 13.90it/s]\n",
      "                 all          78         193       0.151       0.172      0.0763      0.0198\n",
      "\n",
      "     Epoch   gpu_mem       box       obj       cls     total    labels  img_size\n",
      "   131/199     2.16G   0.05088   0.01352   0.01783   0.08224         1       416: 100% 79/79 [00:10<00:00,  7.65it/s]\n",
      "               Class      Images      Labels           P           R      mAP@.5  mAP@.5:.95: 100% 10/10 [00:00<00:00, 13.94it/s]\n",
      "                 all          78         193      0.0937         0.3       0.112      0.0386\n",
      "\n",
      "     Epoch   gpu_mem       box       obj       cls     total    labels  img_size\n",
      "   132/199     2.16G   0.05263   0.01351   0.01867    0.0848        20       416: 100% 79/79 [00:11<00:00,  6.84it/s]\n",
      "               Class      Images      Labels           P           R      mAP@.5  mAP@.5:.95: 100% 10/10 [00:00<00:00, 12.94it/s]\n",
      "                 all          78         193       0.171       0.223       0.114      0.0275\n",
      "\n",
      "     Epoch   gpu_mem       box       obj       cls     total    labels  img_size\n",
      "   133/199     2.16G   0.05038   0.01276    0.0184   0.08153         6       416: 100% 79/79 [00:10<00:00,  7.89it/s]\n",
      "               Class      Images      Labels           P           R      mAP@.5  mAP@.5:.95: 100% 10/10 [00:00<00:00, 14.27it/s]\n",
      "                 all          78         193       0.119       0.261       0.111      0.0389\n",
      "\n",
      "     Epoch   gpu_mem       box       obj       cls     total    labels  img_size\n",
      "   134/199     2.16G   0.05105   0.01378   0.01906   0.08389         0       416: 100% 79/79 [00:10<00:00,  7.24it/s]\n",
      "               Class      Images      Labels           P           R      mAP@.5  mAP@.5:.95: 100% 10/10 [00:00<00:00, 13.61it/s]\n",
      "                 all          78         193       0.139       0.216        0.11       0.033\n",
      "\n",
      "     Epoch   gpu_mem       box       obj       cls     total    labels  img_size\n",
      "   135/199     2.16G   0.05036   0.01299   0.01936   0.08271         2       416: 100% 79/79 [00:09<00:00,  8.12it/s]\n",
      "               Class      Images      Labels           P           R      mAP@.5  mAP@.5:.95: 100% 10/10 [00:00<00:00, 14.03it/s]\n",
      "                 all          78         193      0.0851       0.289       0.104      0.0325\n",
      "\n",
      "     Epoch   gpu_mem       box       obj       cls     total    labels  img_size\n",
      "   136/199     2.16G    0.0512   0.01344   0.01802   0.08267         7       416: 100% 79/79 [00:10<00:00,  7.85it/s]\n",
      "               Class      Images      Labels           P           R      mAP@.5  mAP@.5:.95: 100% 10/10 [00:00<00:00, 14.60it/s]\n",
      "                 all          78         193       0.093       0.286      0.0976      0.0294\n",
      "\n",
      "     Epoch   gpu_mem       box       obj       cls     total    labels  img_size\n",
      "   137/199     2.16G   0.05104   0.01262   0.01867   0.08234         1       416: 100% 79/79 [00:10<00:00,  7.68it/s]\n",
      "               Class      Images      Labels           P           R      mAP@.5  mAP@.5:.95: 100% 10/10 [00:00<00:00, 13.66it/s]\n",
      "                 all          78         193      0.0709       0.334      0.0762      0.0295\n",
      "\n",
      "     Epoch   gpu_mem       box       obj       cls     total    labels  img_size\n",
      "   138/199     2.16G   0.05083   0.01309    0.0194   0.08333         6       416: 100% 79/79 [00:10<00:00,  7.81it/s]\n",
      "               Class      Images      Labels           P           R      mAP@.5  mAP@.5:.95: 100% 10/10 [00:00<00:00, 13.42it/s]\n",
      "                 all          78         193       0.115       0.173      0.0858      0.0264\n",
      "\n",
      "     Epoch   gpu_mem       box       obj       cls     total    labels  img_size\n",
      "   139/199     2.16G    0.0502   0.01309    0.0179   0.08119        11       416: 100% 79/79 [00:10<00:00,  7.74it/s]\n",
      "               Class      Images      Labels           P           R      mAP@.5  mAP@.5:.95: 100% 10/10 [00:00<00:00, 13.11it/s]\n",
      "                 all          78         193      0.0735       0.231      0.0803      0.0268\n",
      "\n",
      "     Epoch   gpu_mem       box       obj       cls     total    labels  img_size\n",
      "   140/199     2.16G   0.05268   0.01348   0.01811   0.08426         6       416: 100% 79/79 [00:09<00:00,  7.92it/s]\n",
      "               Class      Images      Labels           P           R      mAP@.5  mAP@.5:.95: 100% 10/10 [00:00<00:00, 13.73it/s]\n",
      "                 all          78         193      0.0944       0.236       0.092      0.0302\n",
      "\n",
      "     Epoch   gpu_mem       box       obj       cls     total    labels  img_size\n",
      "   141/199     2.16G   0.04985   0.01354   0.01832   0.08171         5       416: 100% 79/79 [00:09<00:00,  7.93it/s]\n",
      "               Class      Images      Labels           P           R      mAP@.5  mAP@.5:.95: 100% 10/10 [00:00<00:00, 15.54it/s]\n",
      "                 all          78         193      0.0908        0.34      0.0982      0.0266\n",
      "\n",
      "     Epoch   gpu_mem       box       obj       cls     total    labels  img_size\n",
      "   142/199     2.16G   0.04977   0.01253   0.01821    0.0805         2       416: 100% 79/79 [00:10<00:00,  7.76it/s]\n",
      "               Class      Images      Labels           P           R      mAP@.5  mAP@.5:.95: 100% 10/10 [00:00<00:00, 14.27it/s]\n",
      "                 all          78         193       0.146       0.252       0.103      0.0303\n",
      "\n",
      "     Epoch   gpu_mem       box       obj       cls     total    labels  img_size\n",
      "   143/199     2.16G   0.05151   0.01354   0.01838   0.08343         2       416: 100% 79/79 [00:10<00:00,  7.81it/s]\n",
      "               Class      Images      Labels           P           R      mAP@.5  mAP@.5:.95: 100% 10/10 [00:00<00:00, 14.25it/s]\n",
      "                 all          78         193       0.132       0.201      0.0906      0.0216\n",
      "\n",
      "     Epoch   gpu_mem       box       obj       cls     total    labels  img_size\n",
      "   144/199     2.16G   0.05004   0.01355   0.01738   0.08098         5       416: 100% 79/79 [00:10<00:00,  7.68it/s]\n",
      "               Class      Images      Labels           P           R      mAP@.5  mAP@.5:.95: 100% 10/10 [00:00<00:00, 14.74it/s]\n",
      "                 all          78         193       0.102       0.267       0.096      0.0262\n",
      "\n",
      "     Epoch   gpu_mem       box       obj       cls     total    labels  img_size\n",
      "   145/199     2.16G   0.05035   0.01282   0.01827   0.08143         3       416: 100% 79/79 [00:09<00:00,  7.90it/s]\n",
      "               Class      Images      Labels           P           R      mAP@.5  mAP@.5:.95: 100% 10/10 [00:00<00:00, 14.39it/s]\n",
      "                 all          78         193       0.126       0.206       0.104      0.0292\n",
      "\n",
      "     Epoch   gpu_mem       box       obj       cls     total    labels  img_size\n",
      "   146/199     2.16G   0.04969   0.01335   0.01736   0.08041         3       416: 100% 79/79 [00:10<00:00,  7.78it/s]\n",
      "               Class      Images      Labels           P           R      mAP@.5  mAP@.5:.95: 100% 10/10 [00:00<00:00, 14.07it/s]\n",
      "                 all          78         193       0.118       0.224       0.102      0.0266\n",
      "\n",
      "     Epoch   gpu_mem       box       obj       cls     total    labels  img_size\n",
      "   147/199     2.16G   0.04974   0.01353   0.01822   0.08148         8       416: 100% 79/79 [00:10<00:00,  7.80it/s]\n",
      "               Class      Images      Labels           P           R      mAP@.5  mAP@.5:.95: 100% 10/10 [00:00<00:00, 14.10it/s]\n",
      "                 all          78         193       0.143       0.184         0.1      0.0269\n",
      "\n",
      "     Epoch   gpu_mem       box       obj       cls     total    labels  img_size\n",
      "   148/199     2.16G   0.05004   0.01326   0.01807   0.08137         5       416: 100% 79/79 [00:10<00:00,  7.64it/s]\n",
      "               Class      Images      Labels           P           R      mAP@.5  mAP@.5:.95: 100% 10/10 [00:00<00:00, 13.63it/s]\n",
      "                 all          78         193       0.158       0.261       0.107      0.0324\n",
      "\n",
      "     Epoch   gpu_mem       box       obj       cls     total    labels  img_size\n",
      "   149/199     2.16G   0.05016   0.01247   0.01703   0.07966         3       416: 100% 79/79 [00:10<00:00,  7.76it/s]\n",
      "               Class      Images      Labels           P           R      mAP@.5  mAP@.5:.95: 100% 10/10 [00:00<00:00, 14.04it/s]\n",
      "                 all          78         193         0.1       0.289       0.108      0.0354\n",
      "\n",
      "     Epoch   gpu_mem       box       obj       cls     total    labels  img_size\n",
      "   150/199     2.16G   0.04896   0.01332   0.01824   0.08052         5       416: 100% 79/79 [00:10<00:00,  7.83it/s]\n",
      "               Class      Images      Labels           P           R      mAP@.5  mAP@.5:.95: 100% 10/10 [00:00<00:00, 14.38it/s]\n",
      "                 all          78         193       0.126       0.266       0.113      0.0314\n",
      "\n",
      "     Epoch   gpu_mem       box       obj       cls     total    labels  img_size\n",
      "   151/199     2.16G   0.04793   0.01329   0.01778     0.079         2       416: 100% 79/79 [00:09<00:00,  7.91it/s]\n",
      "               Class      Images      Labels           P           R      mAP@.5  mAP@.5:.95: 100% 10/10 [00:00<00:00, 13.66it/s]\n",
      "                 all          78         193       0.118       0.275       0.113      0.0306\n",
      "\n",
      "     Epoch   gpu_mem       box       obj       cls     total    labels  img_size\n",
      "   152/199     2.16G   0.04976   0.01295   0.01701   0.07972         6       416: 100% 79/79 [00:10<00:00,  7.66it/s]\n",
      "               Class      Images      Labels           P           R      mAP@.5  mAP@.5:.95: 100% 10/10 [00:00<00:00, 14.63it/s]\n",
      "                 all          78         193       0.138       0.263       0.115      0.0324\n",
      "\n",
      "     Epoch   gpu_mem       box       obj       cls     total    labels  img_size\n",
      "   153/199     2.16G   0.05062   0.01292   0.01719   0.08073         4       416: 100% 79/79 [00:11<00:00,  7.08it/s]\n",
      "               Class      Images      Labels           P           R      mAP@.5  mAP@.5:.95: 100% 10/10 [00:00<00:00, 14.25it/s]\n",
      "                 all          78         193       0.137       0.235       0.125      0.0387\n",
      "\n",
      "     Epoch   gpu_mem       box       obj       cls     total    labels  img_size\n",
      "   154/199     2.16G    0.0486   0.01278   0.01747   0.07886         9       416: 100% 79/79 [00:09<00:00,  8.10it/s]\n",
      "               Class      Images      Labels           P           R      mAP@.5  mAP@.5:.95: 100% 10/10 [00:00<00:00, 14.26it/s]\n",
      "                 all          78         193       0.128       0.234       0.108      0.0346\n",
      "\n",
      "     Epoch   gpu_mem       box       obj       cls     total    labels  img_size\n",
      "   155/199     2.16G   0.05023   0.01338   0.01798    0.0816         2       416: 100% 79/79 [00:10<00:00,  7.56it/s]\n",
      "               Class      Images      Labels           P           R      mAP@.5  mAP@.5:.95: 100% 10/10 [00:00<00:00, 14.12it/s]\n",
      "                 all          78         193       0.118       0.237       0.114      0.0287\n",
      "\n",
      "     Epoch   gpu_mem       box       obj       cls     total    labels  img_size\n",
      "   156/199     2.16G   0.04978    0.0136    0.0181   0.08148         3       416: 100% 79/79 [00:10<00:00,  7.85it/s]\n",
      "               Class      Images      Labels           P           R      mAP@.5  mAP@.5:.95: 100% 10/10 [00:00<00:00, 14.17it/s]\n",
      "                 all          78         193       0.135        0.23       0.128      0.0423\n",
      "\n",
      "     Epoch   gpu_mem       box       obj       cls     total    labels  img_size\n",
      "   157/199     2.16G    0.0504    0.0133   0.01865   0.08235        16       416: 100% 79/79 [00:10<00:00,  7.23it/s]\n",
      "               Class      Images      Labels           P           R      mAP@.5  mAP@.5:.95: 100% 10/10 [00:00<00:00, 14.33it/s]\n",
      "                 all          78         193       0.103       0.275       0.109      0.0342\n",
      "\n",
      "     Epoch   gpu_mem       box       obj       cls     total    labels  img_size\n",
      "   158/199     2.16G   0.04773   0.01353   0.01733   0.07859        12       416: 100% 79/79 [00:10<00:00,  7.75it/s]\n",
      "               Class      Images      Labels           P           R      mAP@.5  mAP@.5:.95: 100% 10/10 [00:00<00:00, 14.33it/s]\n",
      "                 all          78         193       0.154       0.231        0.11      0.0321\n",
      "\n",
      "     Epoch   gpu_mem       box       obj       cls     total    labels  img_size\n",
      "   159/199     2.16G   0.05085   0.01288   0.01764   0.08138        13       416: 100% 79/79 [00:09<00:00,  7.93it/s]\n",
      "               Class      Images      Labels           P           R      mAP@.5  mAP@.5:.95: 100% 10/10 [00:00<00:00, 13.86it/s]\n",
      "                 all          78         193       0.182       0.249       0.129      0.0411\n",
      "\n",
      "     Epoch   gpu_mem       box       obj       cls     total    labels  img_size\n",
      "   160/199     2.16G   0.04887   0.01313   0.01775   0.07976         5       416: 100% 79/79 [00:10<00:00,  7.69it/s]\n",
      "               Class      Images      Labels           P           R      mAP@.5  mAP@.5:.95: 100% 10/10 [00:00<00:00, 15.07it/s]\n",
      "                 all          78         193       0.161       0.218       0.125       0.045\n",
      "\n",
      "     Epoch   gpu_mem       box       obj       cls     total    labels  img_size\n",
      "   161/199     2.16G   0.04851   0.01275   0.01813   0.07939         5       416: 100% 79/79 [00:10<00:00,  7.41it/s]\n",
      "               Class      Images      Labels           P           R      mAP@.5  mAP@.5:.95: 100% 10/10 [00:00<00:00, 14.21it/s]\n",
      "                 all          78         193       0.124       0.276       0.123       0.042\n",
      "\n",
      "     Epoch   gpu_mem       box       obj       cls     total    labels  img_size\n",
      "   162/199     2.16G   0.05016   0.01319   0.01743   0.08078        10       416: 100% 79/79 [00:10<00:00,  7.73it/s]\n",
      "               Class      Images      Labels           P           R      mAP@.5  mAP@.5:.95: 100% 10/10 [00:00<00:00, 14.50it/s]\n",
      "                 all          78         193       0.111       0.329       0.113      0.0345\n",
      "\n",
      "     Epoch   gpu_mem       box       obj       cls     total    labels  img_size\n",
      "   163/199     2.16G   0.04857   0.01276   0.01778   0.07911         2       416: 100% 79/79 [00:10<00:00,  7.81it/s]\n",
      "               Class      Images      Labels           P           R      mAP@.5  mAP@.5:.95: 100% 10/10 [00:00<00:00, 14.83it/s]\n",
      "                 all          78         193       0.148       0.187       0.105      0.0318\n",
      "\n",
      "     Epoch   gpu_mem       box       obj       cls     total    labels  img_size\n",
      "   164/199     2.16G   0.04843   0.01329   0.01703   0.07875         7       416: 100% 79/79 [00:10<00:00,  7.74it/s]\n",
      "               Class      Images      Labels           P           R      mAP@.5  mAP@.5:.95: 100% 10/10 [00:00<00:00, 14.41it/s]\n",
      "                 all          78         193       0.159       0.235       0.122      0.0382\n",
      "\n",
      "     Epoch   gpu_mem       box       obj       cls     total    labels  img_size\n",
      "   165/199     2.16G   0.05062   0.01343   0.01782   0.08186         9       416: 100% 79/79 [00:10<00:00,  7.58it/s]\n",
      "               Class      Images      Labels           P           R      mAP@.5  mAP@.5:.95: 100% 10/10 [00:00<00:00, 14.17it/s]\n",
      "                 all          78         193       0.115       0.271       0.107      0.0332\n",
      "\n",
      "     Epoch   gpu_mem       box       obj       cls     total    labels  img_size\n",
      "   166/199     2.16G   0.05002   0.01358   0.01826   0.08186         5       416: 100% 79/79 [00:10<00:00,  7.66it/s]\n",
      "               Class      Images      Labels           P           R      mAP@.5  mAP@.5:.95: 100% 10/10 [00:00<00:00, 14.97it/s]\n",
      "                 all          78         193       0.157       0.245        0.13      0.0403\n",
      "\n",
      "     Epoch   gpu_mem       box       obj       cls     total    labels  img_size\n",
      "   167/199     2.16G   0.04869   0.01308   0.01774   0.07952         9       416: 100% 79/79 [00:10<00:00,  7.88it/s]\n",
      "               Class      Images      Labels           P           R      mAP@.5  mAP@.5:.95: 100% 10/10 [00:00<00:00, 15.24it/s]\n",
      "                 all          78         193       0.128       0.254       0.127      0.0398\n",
      "\n",
      "     Epoch   gpu_mem       box       obj       cls     total    labels  img_size\n",
      "   168/199     2.16G   0.04864   0.01378   0.01861   0.08103         6       416: 100% 79/79 [00:10<00:00,  7.83it/s]\n",
      "               Class      Images      Labels           P           R      mAP@.5  mAP@.5:.95: 100% 10/10 [00:00<00:00, 14.62it/s]\n",
      "                 all          78         193        0.13       0.312       0.129      0.0385\n",
      "\n",
      "     Epoch   gpu_mem       box       obj       cls     total    labels  img_size\n",
      "   169/199     2.16G   0.04988   0.01329   0.01774   0.08092        12       416: 100% 79/79 [00:10<00:00,  7.68it/s]\n",
      "               Class      Images      Labels           P           R      mAP@.5  mAP@.5:.95: 100% 10/10 [00:00<00:00, 14.62it/s]\n",
      "                 all          78         193       0.139       0.231       0.117      0.0347\n",
      "\n",
      "     Epoch   gpu_mem       box       obj       cls     total    labels  img_size\n",
      "   170/199     2.16G   0.04811   0.01304   0.01704   0.07819         3       416: 100% 79/79 [00:10<00:00,  7.77it/s]\n",
      "               Class      Images      Labels           P           R      mAP@.5  mAP@.5:.95: 100% 10/10 [00:00<00:00, 13.63it/s]\n",
      "                 all          78         193       0.187       0.217       0.124      0.0453\n",
      "\n",
      "     Epoch   gpu_mem       box       obj       cls     total    labels  img_size\n",
      "   171/199     2.16G   0.04642    0.0124   0.01649   0.07532         8       416: 100% 79/79 [00:10<00:00,  7.87it/s]\n",
      "               Class      Images      Labels           P           R      mAP@.5  mAP@.5:.95: 100% 10/10 [00:00<00:00, 14.35it/s]\n",
      "                 all          78         193       0.116       0.271       0.115      0.0403\n",
      "\n",
      "     Epoch   gpu_mem       box       obj       cls     total    labels  img_size\n",
      "   172/199     2.16G   0.04871   0.01354   0.01767   0.07992         3       416: 100% 79/79 [00:10<00:00,  7.64it/s]\n",
      "               Class      Images      Labels           P           R      mAP@.5  mAP@.5:.95: 100% 10/10 [00:00<00:00, 14.74it/s]\n",
      "                 all          78         193       0.176       0.245        0.14      0.0498\n",
      "\n",
      "     Epoch   gpu_mem       box       obj       cls     total    labels  img_size\n",
      "   173/199     2.16G   0.04807   0.01346   0.01702   0.07855        10       416: 100% 79/79 [00:11<00:00,  7.15it/s]\n",
      "               Class      Images      Labels           P           R      mAP@.5  mAP@.5:.95: 100% 10/10 [00:00<00:00, 14.70it/s]\n",
      "                 all          78         193        0.15       0.306       0.119      0.0436\n",
      "\n",
      "     Epoch   gpu_mem       box       obj       cls     total    labels  img_size\n",
      "   174/199     2.16G   0.04849   0.01285   0.01826    0.0796        12       416: 100% 79/79 [00:10<00:00,  7.81it/s]\n",
      "               Class      Images      Labels           P           R      mAP@.5  mAP@.5:.95: 100% 10/10 [00:00<00:00, 14.40it/s]\n",
      "                 all          78         193       0.127        0.28       0.108      0.0363\n",
      "\n",
      "     Epoch   gpu_mem       box       obj       cls     total    labels  img_size\n",
      "   175/199     2.16G   0.04679   0.01262   0.01684   0.07625        11       416: 100% 79/79 [00:09<00:00,  7.95it/s]\n",
      "               Class      Images      Labels           P           R      mAP@.5  mAP@.5:.95: 100% 10/10 [00:00<00:00, 14.54it/s]\n",
      "                 all          78         193       0.171       0.217       0.107      0.0339\n",
      "\n",
      "     Epoch   gpu_mem       box       obj       cls     total    labels  img_size\n",
      "   176/199     2.16G   0.04709   0.01291   0.01672   0.07671         3       416: 100% 79/79 [00:09<00:00,  7.92it/s]\n",
      "               Class      Images      Labels           P           R      mAP@.5  mAP@.5:.95: 100% 10/10 [00:00<00:00, 14.89it/s]\n",
      "                 all          78         193       0.162        0.25       0.112      0.0348\n",
      "\n",
      "     Epoch   gpu_mem       box       obj       cls     total    labels  img_size\n",
      "   177/199     2.16G   0.04947    0.0136   0.01789   0.08097         4       416: 100% 79/79 [00:10<00:00,  7.54it/s]\n",
      "               Class      Images      Labels           P           R      mAP@.5  mAP@.5:.95: 100% 10/10 [00:00<00:00, 12.90it/s]\n",
      "                 all          78         193       0.161         0.2       0.108      0.0333\n",
      "\n",
      "     Epoch   gpu_mem       box       obj       cls     total    labels  img_size\n",
      "   178/199     2.16G   0.04829   0.01452   0.01709   0.07989        12       416: 100% 79/79 [00:10<00:00,  7.62it/s]\n",
      "               Class      Images      Labels           P           R      mAP@.5  mAP@.5:.95: 100% 10/10 [00:00<00:00, 14.25it/s]\n",
      "                 all          78         193       0.175       0.233        0.12      0.0343\n",
      "\n",
      "     Epoch   gpu_mem       box       obj       cls     total    labels  img_size\n",
      "   179/199     2.16G   0.04722   0.01358   0.01751   0.07832         1       416: 100% 79/79 [00:10<00:00,  7.70it/s]\n",
      "               Class      Images      Labels           P           R      mAP@.5  mAP@.5:.95: 100% 10/10 [00:00<00:00, 14.04it/s]\n",
      "                 all          78         193       0.133       0.303       0.114       0.029\n",
      "\n",
      "     Epoch   gpu_mem       box       obj       cls     total    labels  img_size\n",
      "   180/199     2.16G   0.04814   0.01293   0.01724   0.07831        10       416: 100% 79/79 [00:10<00:00,  7.72it/s]\n",
      "               Class      Images      Labels           P           R      mAP@.5  mAP@.5:.95: 100% 10/10 [00:00<00:00, 13.34it/s]\n",
      "                 all          78         193       0.128       0.279       0.105      0.0285\n",
      "\n",
      "     Epoch   gpu_mem       box       obj       cls     total    labels  img_size\n",
      "   181/199     2.16G   0.04771    0.0134   0.01721   0.07832         3       416: 100% 79/79 [00:10<00:00,  7.81it/s]\n",
      "               Class      Images      Labels           P           R      mAP@.5  mAP@.5:.95: 100% 10/10 [00:00<00:00, 14.94it/s]\n",
      "                 all          78         193       0.179       0.274        0.12      0.0369\n",
      "\n",
      "     Epoch   gpu_mem       box       obj       cls     total    labels  img_size\n",
      "   182/199     2.16G   0.04748   0.01323   0.01685   0.07755         5       416: 100% 79/79 [00:10<00:00,  7.65it/s]\n",
      "               Class      Images      Labels           P           R      mAP@.5  mAP@.5:.95: 100% 10/10 [00:00<00:00, 15.14it/s]\n",
      "                 all          78         193       0.171       0.278       0.119      0.0336\n",
      "\n",
      "     Epoch   gpu_mem       box       obj       cls     total    labels  img_size\n",
      "   183/199     2.16G   0.04892    0.0128   0.01802   0.07974        11       416: 100% 79/79 [00:10<00:00,  7.88it/s]\n",
      "               Class      Images      Labels           P           R      mAP@.5  mAP@.5:.95: 100% 10/10 [00:00<00:00, 14.20it/s]\n",
      "                 all          78         193        0.18       0.286       0.133      0.0425\n",
      "\n",
      "     Epoch   gpu_mem       box       obj       cls     total    labels  img_size\n",
      "   184/199     2.16G   0.04736   0.01288   0.01733   0.07757         2       416: 100% 79/79 [00:10<00:00,  7.74it/s]\n",
      "               Class      Images      Labels           P           R      mAP@.5  mAP@.5:.95: 100% 10/10 [00:00<00:00, 14.92it/s]\n",
      "                 all          78         193       0.111       0.279       0.119      0.0342\n",
      "\n",
      "     Epoch   gpu_mem       box       obj       cls     total    labels  img_size\n",
      "   185/199     2.16G   0.04753   0.01407   0.01722   0.07882         3       416: 100% 79/79 [00:10<00:00,  7.79it/s]\n",
      "               Class      Images      Labels           P           R      mAP@.5  mAP@.5:.95: 100% 10/10 [00:00<00:00, 14.17it/s]\n",
      "                 all          78         193       0.139       0.292        0.12      0.0337\n",
      "\n",
      "     Epoch   gpu_mem       box       obj       cls     total    labels  img_size\n",
      "   186/199     2.16G   0.04781   0.01343   0.01739   0.07863         3       416: 100% 79/79 [00:10<00:00,  7.74it/s]\n",
      "               Class      Images      Labels           P           R      mAP@.5  mAP@.5:.95: 100% 10/10 [00:00<00:00, 14.37it/s]\n",
      "                 all          78         193       0.167       0.307       0.135      0.0401\n",
      "\n",
      "     Epoch   gpu_mem       box       obj       cls     total    labels  img_size\n",
      "   187/199     2.16G   0.04923    0.0142    0.0177   0.08113        13       416: 100% 79/79 [00:10<00:00,  7.60it/s]\n",
      "               Class      Images      Labels           P           R      mAP@.5  mAP@.5:.95: 100% 10/10 [00:00<00:00, 13.97it/s]\n",
      "                 all          78         193       0.187       0.253       0.129      0.0357\n",
      "\n",
      "     Epoch   gpu_mem       box       obj       cls     total    labels  img_size\n",
      "   188/199     2.16G   0.04783   0.01329   0.01641   0.07753         0       416: 100% 79/79 [00:10<00:00,  7.86it/s]\n",
      "               Class      Images      Labels           P           R      mAP@.5  mAP@.5:.95: 100% 10/10 [00:00<00:00, 14.13it/s]\n",
      "                 all          78         193       0.116       0.321       0.127      0.0381\n",
      "\n",
      "     Epoch   gpu_mem       box       obj       cls     total    labels  img_size\n",
      "   189/199     2.16G   0.05039   0.01299   0.01727   0.08064         9       416: 100% 79/79 [00:10<00:00,  7.64it/s]\n",
      "               Class      Images      Labels           P           R      mAP@.5  mAP@.5:.95: 100% 10/10 [00:00<00:00, 12.15it/s]\n",
      "                 all          78         193       0.136       0.295       0.136      0.0409\n",
      "\n",
      "     Epoch   gpu_mem       box       obj       cls     total    labels  img_size\n",
      "   190/199     2.16G   0.04802   0.01325   0.01676   0.07803         1       416: 100% 79/79 [00:10<00:00,  7.79it/s]\n",
      "               Class      Images      Labels           P           R      mAP@.5  mAP@.5:.95: 100% 10/10 [00:00<00:00, 12.78it/s]\n",
      "                 all          78         193       0.178       0.274       0.152      0.0553\n",
      "\n",
      "     Epoch   gpu_mem       box       obj       cls     total    labels  img_size\n",
      "   191/199     2.16G   0.04815   0.01366   0.01766   0.07946        15       416: 100% 79/79 [00:10<00:00,  7.27it/s]\n",
      "               Class      Images      Labels           P           R      mAP@.5  mAP@.5:.95: 100% 10/10 [00:00<00:00, 14.18it/s]\n",
      "                 all          78         193        0.15       0.299       0.137       0.049\n",
      "\n",
      "     Epoch   gpu_mem       box       obj       cls     total    labels  img_size\n",
      "   192/199     2.16G   0.04816   0.01416   0.01778   0.08009        10       416: 100% 79/79 [00:10<00:00,  7.58it/s]\n",
      "               Class      Images      Labels           P           R      mAP@.5  mAP@.5:.95: 100% 10/10 [00:00<00:00, 15.06it/s]\n",
      "                 all          78         193       0.131       0.284       0.125      0.0406\n",
      "\n",
      "     Epoch   gpu_mem       box       obj       cls     total    labels  img_size\n",
      "   193/199     2.16G   0.04822   0.01341   0.01729   0.07892         7       416: 100% 79/79 [00:10<00:00,  7.58it/s]\n",
      "               Class      Images      Labels           P           R      mAP@.5  mAP@.5:.95: 100% 10/10 [00:00<00:00, 14.47it/s]\n",
      "                 all          78         193       0.153       0.282       0.128      0.0417\n",
      "\n",
      "     Epoch   gpu_mem       box       obj       cls     total    labels  img_size\n",
      "   194/199     2.16G    0.0483   0.01331    0.0168   0.07841         6       416: 100% 79/79 [00:09<00:00,  7.99it/s]\n",
      "               Class      Images      Labels           P           R      mAP@.5  mAP@.5:.95: 100% 10/10 [00:00<00:00, 13.09it/s]\n",
      "                 all          78         193       0.162       0.274       0.135      0.0434\n",
      "\n",
      "     Epoch   gpu_mem       box       obj       cls     total    labels  img_size\n",
      "   195/199     2.16G   0.04859   0.01319   0.01829   0.08007        15       416: 100% 79/79 [00:10<00:00,  7.71it/s]\n",
      "               Class      Images      Labels           P           R      mAP@.5  mAP@.5:.95: 100% 10/10 [00:00<00:00, 13.23it/s]\n",
      "                 all          78         193       0.178       0.231       0.126      0.0406\n",
      "\n",
      "     Epoch   gpu_mem       box       obj       cls     total    labels  img_size\n",
      "   196/199     2.16G   0.04959   0.01388   0.01761   0.08109         3       416: 100% 79/79 [00:09<00:00,  7.96it/s]\n",
      "               Class      Images      Labels           P           R      mAP@.5  mAP@.5:.95: 100% 10/10 [00:00<00:00, 13.38it/s]\n",
      "                 all          78         193       0.158       0.213       0.127       0.036\n",
      "\n",
      "     Epoch   gpu_mem       box       obj       cls     total    labels  img_size\n",
      "   197/199     2.16G   0.04787   0.01451   0.01752    0.0799         2       416: 100% 79/79 [00:11<00:00,  7.14it/s]\n",
      "               Class      Images      Labels           P           R      mAP@.5  mAP@.5:.95: 100% 10/10 [00:00<00:00, 13.46it/s]\n",
      "                 all          78         193       0.183       0.214       0.129      0.0363\n",
      "\n",
      "     Epoch   gpu_mem       box       obj       cls     total    labels  img_size\n",
      "   198/199     2.16G   0.04693   0.01294    0.0166   0.07647        11       416: 100% 79/79 [00:10<00:00,  7.88it/s]\n",
      "               Class      Images      Labels           P           R      mAP@.5  mAP@.5:.95: 100% 10/10 [00:00<00:00, 15.20it/s]\n",
      "                 all          78         193       0.147       0.245        0.12       0.042\n",
      "\n",
      "     Epoch   gpu_mem       box       obj       cls     total    labels  img_size\n",
      "   199/199     2.16G   0.04764   0.01312   0.01743   0.07819         6       416: 100% 79/79 [00:12<00:00,  6.54it/s]\n",
      "               Class      Images      Labels           P           R      mAP@.5  mAP@.5:.95: 100% 10/10 [00:01<00:00,  9.85it/s]\n",
      "                 all          78         193       0.148        0.26       0.127      0.0376\n",
      "           dry_waste          78          49       0.164       0.102      0.0853        0.02\n",
      "fruits - vegetables_waste          78          26      0.0871       0.151      0.0784      0.0225\n",
      "              others          78          14       0.198       0.214      0.0542     0.00768\n",
      "       plastic_waste          78          31       0.143       0.516       0.307       0.106\n",
      "       stubble_waste          78          73       0.148       0.315       0.112      0.0318\n",
      "200 epochs completed in 0.686 hours.\n",
      "\n",
      "Optimizer stripped from runs/train/yolov7/weights/last.pt, 74.8MB\n",
      "Optimizer stripped from runs/train/yolov7/weights/best.pt, 74.8MB\n"
     ]
    }
   ],
   "source": [
    "!python train.py  --weights yolov7-tiny.pt --epochs 200 --data \"/content/drive/MyDrive/crop/yolov7/data.yaml\" --workers 4 --batch-size 4 --img 416 --cfg cfg/training/yolov7.yaml --name yolov7 --hyp data/hyp.scratch.p5.yaml"
   ]
  },
  {
   "cell_type": "code",
   "execution_count": 4,
   "metadata": {
    "id": "0tw5y_b8X3Ga"
   },
   "outputs": [],
   "source": [
    "p_yol5 = 0.148\n",
    "r_yol5 = 0.26\n",
    "mAP_yolo5 = 0.127\n",
    "\n",
    "storeResults('YoloV7',p_yol5,r_yol5,mAP_yolo5)"
   ]
  },
  {
   "cell_type": "code",
   "execution_count": 15,
   "metadata": {
    "colab": {
     "base_uri": "https://localhost:8080/"
    },
    "executionInfo": {
     "elapsed": 299675,
     "status": "ok",
     "timestamp": 1712210911220,
     "user": {
      "displayName": "TruProjects yolo",
      "userId": "18414174829652366032"
     },
     "user_tz": -330
    },
    "id": "ubvnUu_maegO",
    "outputId": "ea8acff5-d82a-47e3-b366-f7fb357d8cb1"
   },
   "outputs": [
    {
     "name": "stdout",
     "output_type": "stream",
     "text": [
      "  adding: content/yolov7/ (stored 0%)\n",
      "  adding: content/yolov7/runs/ (stored 0%)\n",
      "  adding: content/yolov7/runs/train/ (stored 0%)\n",
      "  adding: content/yolov7/runs/train/yolov7/ (stored 0%)\n",
      "  adding: content/yolov7/runs/train/yolov7/train_batch1.jpg (deflated 6%)\n",
      "  adding: content/yolov7/runs/train/yolov7/P_curve.png (deflated 10%)\n",
      "  adding: content/yolov7/runs/train/yolov7/opt.yaml (deflated 47%)\n",
      "  adding: content/yolov7/runs/train/yolov7/events.out.tfevents.1712208110.d3d32e9e6ab2.9509.0 (deflated 69%)\n",
      "  adding: content/yolov7/runs/train/yolov7/test_batch1_pred.jpg (deflated 5%)\n",
      "  adding: content/yolov7/runs/train/yolov7/test_batch2_labels.jpg (deflated 4%)\n",
      "  adding: content/yolov7/runs/train/yolov7/F1_curve.png (deflated 15%)\n",
      "  adding: content/yolov7/runs/train/yolov7/test_batch2_pred.jpg (deflated 5%)\n",
      "  adding: content/yolov7/runs/train/yolov7/train_batch0.jpg (deflated 4%)\n",
      "  adding: content/yolov7/runs/train/yolov7/train_batch4.jpg (deflated 4%)\n",
      "  adding: content/yolov7/runs/train/yolov7/weights/ (stored 0%)\n",
      "  adding: content/yolov7/runs/train/yolov7/weights/init.pt (deflated 44%)\n",
      "  adding: content/yolov7/runs/train/yolov7/weights/epoch_024.pt (deflated 9%)\n",
      "  adding: content/yolov7/runs/train/yolov7/weights/epoch_199.pt (deflated 9%)\n",
      "  adding: content/yolov7/runs/train/yolov7/weights/epoch_149.pt (deflated 9%)\n",
      "  adding: content/yolov7/runs/train/yolov7/weights/epoch_124.pt (deflated 9%)\n",
      "  adding: content/yolov7/runs/train/yolov7/weights/epoch_074.pt (deflated 9%)\n",
      "  adding: content/yolov7/runs/train/yolov7/weights/epoch_198.pt (deflated 9%)\n",
      "  adding: content/yolov7/runs/train/yolov7/weights/epoch_099.pt (deflated 9%)\n",
      "  adding: content/yolov7/runs/train/yolov7/weights/last.pt (deflated 10%)\n",
      "  adding: content/yolov7/runs/train/yolov7/weights/epoch_000.pt (deflated 8%)\n",
      "  adding: content/yolov7/runs/train/yolov7/weights/epoch_174.pt (deflated 9%)\n",
      "  adding: content/yolov7/runs/train/yolov7/weights/epoch_197.pt (deflated 9%)\n",
      "  adding: content/yolov7/runs/train/yolov7/weights/epoch_195.pt (deflated 9%)\n",
      "  adding: content/yolov7/runs/train/yolov7/weights/best.pt (deflated 10%)\n",
      "  adding: content/yolov7/runs/train/yolov7/weights/epoch_196.pt (deflated 9%)\n",
      "  adding: content/yolov7/runs/train/yolov7/weights/epoch_049.pt (deflated 9%)\n",
      "  adding: content/yolov7/runs/train/yolov7/train_batch3.jpg (deflated 2%)\n",
      "  adding: content/yolov7/runs/train/yolov7/results.png (deflated 9%)\n",
      "  adding: content/yolov7/runs/train/yolov7/train_batch9.jpg (deflated 3%)\n",
      "  adding: content/yolov7/runs/train/yolov7/test_batch0_pred.jpg (deflated 4%)\n",
      "  adding: content/yolov7/runs/train/yolov7/train_batch5.jpg (deflated 2%)\n",
      "  adding: content/yolov7/runs/train/yolov7/R_curve.png (deflated 14%)\n",
      "  adding: content/yolov7/runs/train/yolov7/train_batch6.jpg (deflated 7%)\n",
      "  adding: content/yolov7/runs/train/yolov7/train_batch2.jpg (deflated 4%)\n",
      "  adding: content/yolov7/runs/train/yolov7/hyp.yaml (deflated 44%)\n",
      "  adding: content/yolov7/runs/train/yolov7/train_batch8.jpg (deflated 1%)\n",
      "  adding: content/yolov7/runs/train/yolov7/train_batch7.jpg (deflated 5%)\n",
      "  adding: content/yolov7/runs/train/yolov7/confusion_matrix.png (deflated 25%)\n",
      "  adding: content/yolov7/runs/train/yolov7/test_batch0_labels.jpg (deflated 3%)\n",
      "  adding: content/yolov7/runs/train/yolov7/test_batch1_labels.jpg (deflated 4%)\n",
      "  adding: content/yolov7/runs/train/yolov7/PR_curve.png (deflated 15%)\n",
      "  adding: content/yolov7/runs/train/yolov7/results.txt (deflated 75%)\n",
      "  adding: content/yolov7/export.py (deflated 69%)\n",
      "  adding: content/yolov7/train.py (deflated 71%)\n",
      "  adding: content/yolov7/detect.py (deflated 65%)\n",
      "  adding: content/yolov7/deploy/ (stored 0%)\n",
      "  adding: content/yolov7/deploy/triton-inference-server/ (stored 0%)\n",
      "  adding: content/yolov7/deploy/triton-inference-server/labels.py (deflated 52%)\n",
      "  adding: content/yolov7/deploy/triton-inference-server/README.md (deflated 60%)\n",
      "  adding: content/yolov7/deploy/triton-inference-server/client.py (deflated 81%)\n",
      "  adding: content/yolov7/deploy/triton-inference-server/data/ (stored 0%)\n",
      "  adding: content/yolov7/deploy/triton-inference-server/data/dog.jpg (deflated 3%)\n",
      "  adding: content/yolov7/deploy/triton-inference-server/data/dog_result.jpg (deflated 1%)\n",
      "  adding: content/yolov7/deploy/triton-inference-server/render.py (deflated 73%)\n",
      "  adding: content/yolov7/deploy/triton-inference-server/boundingbox.py (deflated 69%)\n",
      "  adding: content/yolov7/deploy/triton-inference-server/processing.py (deflated 67%)\n",
      "  adding: content/yolov7/train_aux.py (deflated 71%)\n",
      "  adding: content/yolov7/README.md (deflated 75%)\n",
      "  adding: content/yolov7/figure/ (stored 0%)\n",
      "  adding: content/yolov7/figure/pose.png (deflated 0%)\n",
      "  adding: content/yolov7/figure/yolov7_road.jpg (deflated 97%)\n",
      "  adding: content/yolov7/figure/tennis_panoptic.png (stored 0%)\n",
      "  adding: content/yolov7/figure/tennis_caption.png (deflated 1%)\n",
      "  adding: content/yolov7/figure/tennis.jpg (deflated 2%)\n",
      "  adding: content/yolov7/figure/yolov7_city.jpg (deflated 2%)\n",
      "  adding: content/yolov7/figure/yolov7_lidar.jpg (deflated 58%)\n",
      "  adding: content/yolov7/figure/performance.png (deflated 4%)\n",
      "  adding: content/yolov7/figure/mask.png (deflated 0%)\n",
      "  adding: content/yolov7/figure/yolov7_3d.jpg (deflated 2%)\n",
      "  adding: content/yolov7/figure/horses_prediction.jpg (deflated 1%)\n",
      "  adding: content/yolov7/figure/tennis_semantic.jpg (deflated 5%)\n",
      "  adding: content/yolov7/paper/ (stored 0%)\n",
      "  adding: content/yolov7/paper/yolov7.pdf (deflated 3%)\n",
      "  adding: content/yolov7/tools/ (stored 0%)\n",
      "  adding: content/yolov7/tools/compare_YOLOv7e6_vs_YOLOv5x6.ipynb (deflated 41%)\n",
      "  adding: content/yolov7/tools/compare_YOLOv7_vs_YOLOv5s6.ipynb (deflated 42%)\n",
      "  adding: content/yolov7/tools/YOLOv7trt.ipynb (deflated 35%)\n",
      "  adding: content/yolov7/tools/instance.ipynb (deflated 25%)\n",
      "  adding: content/yolov7/tools/YOLOv7onnx.ipynb (deflated 25%)\n",
      "  adding: content/yolov7/tools/compare_YOLOv7e6_vs_YOLOv5x6_half.ipynb (deflated 41%)\n",
      "  adding: content/yolov7/tools/reparameterization.ipynb (deflated 93%)\n",
      "  adding: content/yolov7/tools/keypoint.ipynb (deflated 25%)\n",
      "  adding: content/yolov7/tools/YOLOv7CoreML.ipynb (deflated 34%)\n",
      "  adding: content/yolov7/tools/visualization.ipynb (deflated 25%)\n",
      "  adding: content/yolov7/tools/compare_YOLOv7_vs_YOLOv5m6_half.ipynb (deflated 42%)\n",
      "  adding: content/yolov7/tools/YOLOv7-Dynamic-Batch-ONNXRUNTIME.ipynb (deflated 25%)\n",
      "  adding: content/yolov7/tools/YOLOv7-Dynamic-Batch-TENSORRT.ipynb (deflated 28%)\n",
      "  adding: content/yolov7/tools/compare_YOLOv7_vs_YOLOv5m6.ipynb (deflated 42%)\n",
      "  adding: content/yolov7/hubconf.py (deflated 64%)\n",
      "  adding: content/yolov7/models/ (stored 0%)\n",
      "  adding: content/yolov7/models/__init__.py (stored 0%)\n",
      "  adding: content/yolov7/models/yolo.py (deflated 82%)\n",
      "  adding: content/yolov7/models/common.py (deflated 82%)\n",
      "  adding: content/yolov7/models/experimental.py (deflated 72%)\n",
      "  adding: content/yolov7/models/__pycache__/ (stored 0%)\n",
      "  adding: content/yolov7/models/__pycache__/__init__.cpython-310.pyc (deflated 26%)\n",
      "  adding: content/yolov7/models/__pycache__/yolo.cpython-310.pyc (deflated 59%)\n",
      "  adding: content/yolov7/models/__pycache__/experimental.cpython-310.pyc (deflated 51%)\n",
      "  adding: content/yolov7/models/__pycache__/common.cpython-310.pyc (deflated 64%)\n",
      "  adding: content/yolov7/cfg/ (stored 0%)\n",
      "  adding: content/yolov7/cfg/deploy/ (stored 0%)\n",
      "  adding: content/yolov7/cfg/deploy/yolov7x.yaml (deflated 85%)\n",
      "  adding: content/yolov7/cfg/deploy/yolov7-d6.yaml (deflated 87%)\n",
      "  adding: content/yolov7/cfg/deploy/yolov7-e6.yaml (deflated 85%)\n",
      "  adding: content/yolov7/cfg/deploy/yolov7.yaml (deflated 84%)\n",
      "  adding: content/yolov7/cfg/deploy/yolov7-tiny-silu.yaml (deflated 80%)\n",
      "  adding: content/yolov7/cfg/deploy/yolov7-w6.yaml (deflated 84%)\n",
      "  adding: content/yolov7/cfg/deploy/yolov7-e6e.yaml (deflated 90%)\n",
      "  adding: content/yolov7/cfg/deploy/yolov7-tiny.yaml (deflated 85%)\n",
      "  adding: content/yolov7/cfg/baseline/ (stored 0%)\n",
      "  adding: content/yolov7/cfg/baseline/yolov3.yaml (deflated 65%)\n",
      "  adding: content/yolov7/cfg/baseline/r50-csp.yaml (deflated 65%)\n",
      "  adding: content/yolov7/cfg/baseline/yolor-csp-x.yaml (deflated 66%)\n",
      "  adding: content/yolov7/cfg/baseline/yolov3-spp.yaml (deflated 64%)\n",
      "  adding: content/yolov7/cfg/baseline/yolov4-csp.yaml (deflated 67%)\n",
      "  adding: content/yolov7/cfg/baseline/yolor-d6.yaml (deflated 68%)\n",
      "  adding: content/yolov7/cfg/baseline/x50-csp.yaml (deflated 65%)\n",
      "  adding: content/yolov7/cfg/baseline/yolor-e6.yaml (deflated 68%)\n",
      "  adding: content/yolov7/cfg/baseline/yolor-w6.yaml (deflated 70%)\n",
      "  adding: content/yolov7/cfg/baseline/yolor-csp.yaml (deflated 67%)\n",
      "  adding: content/yolov7/cfg/baseline/yolor-p6.yaml (deflated 69%)\n",
      "  adding: content/yolov7/cfg/training/ (stored 0%)\n",
      "  adding: content/yolov7/cfg/training/yolov7x.yaml (deflated 85%)\n",
      "  adding: content/yolov7/cfg/training/yolov7-d6.yaml (deflated 86%)\n",
      "  adding: content/yolov7/cfg/training/yolov7-e6.yaml (deflated 85%)\n",
      "  adding: content/yolov7/cfg/training/yolov7.yaml (deflated 84%)\n",
      "  adding: content/yolov7/cfg/training/yolov7-w6.yaml (deflated 83%)\n",
      "  adding: content/yolov7/cfg/training/yolov7-e6e.yaml (deflated 89%)\n",
      "  adding: content/yolov7/cfg/training/yolov7-tiny.yaml (deflated 85%)\n",
      "  adding: content/yolov7/yolov7-tiny.pt (deflated 8%)\n",
      "  adding: content/yolov7/.git/ (stored 0%)\n",
      "  adding: content/yolov7/.git/branches/ (stored 0%)\n",
      "  adding: content/yolov7/.git/refs/ (stored 0%)\n",
      "  adding: content/yolov7/.git/refs/remotes/ (stored 0%)\n",
      "  adding: content/yolov7/.git/refs/remotes/origin/ (stored 0%)\n",
      "  adding: content/yolov7/.git/refs/remotes/origin/HEAD (stored 0%)\n",
      "  adding: content/yolov7/.git/refs/tags/ (stored 0%)\n",
      "  adding: content/yolov7/.git/refs/heads/ (stored 0%)\n",
      "  adding: content/yolov7/.git/refs/heads/main (stored 0%)\n",
      "  adding: content/yolov7/.git/hooks/ (stored 0%)\n",
      "  adding: content/yolov7/.git/hooks/pre-merge-commit.sample (deflated 39%)\n",
      "  adding: content/yolov7/.git/hooks/pre-commit.sample (deflated 45%)\n",
      "  adding: content/yolov7/.git/hooks/pre-rebase.sample (deflated 59%)\n",
      "  adding: content/yolov7/.git/hooks/pre-receive.sample (deflated 40%)\n",
      "  adding: content/yolov7/.git/hooks/pre-applypatch.sample (deflated 38%)\n",
      "  adding: content/yolov7/.git/hooks/commit-msg.sample (deflated 44%)\n",
      "  adding: content/yolov7/.git/hooks/pre-push.sample (deflated 49%)\n",
      "  adding: content/yolov7/.git/hooks/post-update.sample (deflated 27%)\n",
      "  adding: content/yolov7/.git/hooks/fsmonitor-watchman.sample (deflated 62%)\n",
      "  adding: content/yolov7/.git/hooks/prepare-commit-msg.sample (deflated 50%)\n",
      "  adding: content/yolov7/.git/hooks/update.sample (deflated 68%)\n",
      "  adding: content/yolov7/.git/hooks/applypatch-msg.sample (deflated 42%)\n",
      "  adding: content/yolov7/.git/hooks/push-to-checkout.sample (deflated 55%)\n",
      "  adding: content/yolov7/.git/objects/ (stored 0%)\n",
      "  adding: content/yolov7/.git/objects/info/ (stored 0%)\n",
      "  adding: content/yolov7/.git/objects/pack/ (stored 0%)\n",
      "  adding: content/yolov7/.git/objects/pack/pack-b5c34855830f6c15154a4ecb44f51a405378018b.idx (deflated 2%)\n",
      "  adding: content/yolov7/.git/objects/pack/pack-b5c34855830f6c15154a4ecb44f51a405378018b.pack (deflated 0%)\n",
      "  adding: content/yolov7/.git/index (deflated 53%)\n",
      "  adding: content/yolov7/.git/logs/ (stored 0%)\n",
      "  adding: content/yolov7/.git/logs/refs/ (stored 0%)\n",
      "  adding: content/yolov7/.git/logs/refs/remotes/ (stored 0%)\n",
      "  adding: content/yolov7/.git/logs/refs/remotes/origin/ (stored 0%)\n",
      "  adding: content/yolov7/.git/logs/refs/remotes/origin/HEAD (deflated 26%)\n",
      "  adding: content/yolov7/.git/logs/refs/heads/ (stored 0%)\n",
      "  adding: content/yolov7/.git/logs/refs/heads/main (deflated 26%)\n",
      "  adding: content/yolov7/.git/logs/HEAD (deflated 26%)\n",
      "  adding: content/yolov7/.git/config (deflated 32%)\n",
      "  adding: content/yolov7/.git/HEAD (stored 0%)\n",
      "  adding: content/yolov7/.git/description (deflated 14%)\n",
      "  adding: content/yolov7/.git/packed-refs (deflated 47%)\n",
      "  adding: content/yolov7/.git/info/ (stored 0%)\n",
      "  adding: content/yolov7/.git/info/exclude (deflated 28%)\n",
      "  adding: content/yolov7/scripts/ (stored 0%)\n",
      "  adding: content/yolov7/scripts/get_coco.sh (deflated 52%)\n",
      "  adding: content/yolov7/test.py (deflated 67%)\n",
      "  adding: content/yolov7/data/ (stored 0%)\n",
      "  adding: content/yolov7/data/hyp.scratch.p5.yaml (deflated 57%)\n",
      "  adding: content/yolov7/data/hyp.scratch.tiny.yaml (deflated 58%)\n",
      "  adding: content/yolov7/data/hyp.scratch.custom.yaml (deflated 57%)\n",
      "  adding: content/yolov7/data/hyp.scratch.p6.yaml (deflated 57%)\n",
      "  adding: content/yolov7/data/coco.yaml (deflated 50%)\n",
      "  adding: content/yolov7/inference/ (stored 0%)\n",
      "  adding: content/yolov7/inference/images/ (stored 0%)\n",
      "  adding: content/yolov7/inference/images/image3.jpg (deflated 1%)\n",
      "  adding: content/yolov7/inference/images/image1.jpg (deflated 0%)\n",
      "  adding: content/yolov7/inference/images/zidane.jpg (deflated 0%)\n",
      "  adding: content/yolov7/inference/images/image2.jpg (deflated 0%)\n",
      "  adding: content/yolov7/inference/images/bus.jpg (deflated 1%)\n",
      "  adding: content/yolov7/inference/images/horses.jpg (deflated 3%)\n",
      "  adding: content/yolov7/.gitignore (deflated 55%)\n",
      "  adding: content/yolov7/utils/ (stored 0%)\n",
      "  adding: content/yolov7/utils/google_utils.py (deflated 66%)\n",
      "  adding: content/yolov7/utils/__init__.py (stored 0%)\n",
      "  adding: content/yolov7/utils/activations.py (deflated 71%)\n",
      "  adding: content/yolov7/utils/aws/ (stored 0%)\n",
      "  adding: content/yolov7/utils/aws/__init__.py (stored 0%)\n",
      "  adding: content/yolov7/utils/aws/mime.sh (deflated 46%)\n",
      "  adding: content/yolov7/utils/aws/resume.py (deflated 47%)\n",
      "  adding: content/yolov7/utils/aws/userdata.sh (deflated 45%)\n",
      "  adding: content/yolov7/utils/general.py (deflated 72%)\n",
      "  adding: content/yolov7/utils/add_nms.py (deflated 69%)\n",
      "  adding: content/yolov7/utils/loss.py (deflated 89%)\n",
      "  adding: content/yolov7/utils/autoanchor.py (deflated 62%)\n",
      "  adding: content/yolov7/utils/datasets.py (deflated 73%)\n",
      "  adding: content/yolov7/utils/wandb_logging/ (stored 0%)\n",
      "  adding: content/yolov7/utils/wandb_logging/__init__.py (stored 0%)\n",
      "  adding: content/yolov7/utils/wandb_logging/log_dataset.py (deflated 47%)\n",
      "  adding: content/yolov7/utils/wandb_logging/wandb_utils.py (deflated 75%)\n",
      "  adding: content/yolov7/utils/wandb_logging/__pycache__/ (stored 0%)\n",
      "  adding: content/yolov7/utils/wandb_logging/__pycache__/__init__.cpython-310.pyc (deflated 23%)\n",
      "  adding: content/yolov7/utils/wandb_logging/__pycache__/wandb_utils.cpython-310.pyc (deflated 48%)\n",
      "  adding: content/yolov7/utils/torch_utils.py (deflated 63%)\n",
      "  adding: content/yolov7/utils/metrics.py (deflated 66%)\n",
      "  adding: content/yolov7/utils/google_app_engine/ (stored 0%)\n",
      "  adding: content/yolov7/utils/google_app_engine/additional_requirements.txt (deflated 10%)\n",
      "  adding: content/yolov7/utils/google_app_engine/Dockerfile (deflated 47%)\n",
      "  adding: content/yolov7/utils/google_app_engine/app.yaml (deflated 26%)\n",
      "  adding: content/yolov7/utils/plots.py (deflated 67%)\n",
      "  adding: content/yolov7/utils/__pycache__/ (stored 0%)\n",
      "  adding: content/yolov7/utils/__pycache__/loss.cpython-310.pyc (deflated 62%)\n",
      "  adding: content/yolov7/utils/__pycache__/google_utils.cpython-310.pyc (deflated 42%)\n",
      "  adding: content/yolov7/utils/__pycache__/__init__.cpython-310.pyc (deflated 25%)\n",
      "  adding: content/yolov7/utils/__pycache__/plots.cpython-310.pyc (deflated 46%)\n",
      "  adding: content/yolov7/utils/__pycache__/datasets.cpython-310.pyc (deflated 51%)\n",
      "  adding: content/yolov7/utils/__pycache__/general.cpython-310.pyc (deflated 54%)\n",
      "  adding: content/yolov7/utils/__pycache__/metrics.cpython-310.pyc (deflated 46%)\n",
      "  adding: content/yolov7/utils/__pycache__/torch_utils.cpython-310.pyc (deflated 44%)\n",
      "  adding: content/yolov7/utils/__pycache__/autoanchor.cpython-310.pyc (deflated 42%)\n",
      "  adding: content/yolov7/__pycache__/ (stored 0%)\n",
      "  adding: content/yolov7/__pycache__/test.cpython-310.pyc (deflated 41%)\n",
      "  adding: content/yolov7/requirements.txt (deflated 50%)\n",
      "  adding: content/yolov7/LICENSE.md (deflated 66%)\n"
     ]
    }
   ],
   "source": [
    "!zip -r /content/drive/MyDrive/crop/file_v7.zip /content/yolov7"
   ]
  },
  {
   "cell_type": "markdown",
   "metadata": {
    "id": "kCn_VVZpFbSN"
   },
   "source": [
    "# YoloV8"
   ]
  },
  {
   "cell_type": "code",
   "execution_count": 16,
   "metadata": {
    "colab": {
     "base_uri": "https://localhost:8080/"
    },
    "executionInfo": {
     "elapsed": 4,
     "status": "ok",
     "timestamp": 1712210911220,
     "user": {
      "displayName": "TruProjects yolo",
      "userId": "18414174829652366032"
     },
     "user_tz": -330
    },
    "id": "ra5cuCOTFbSN",
    "outputId": "4ee5c712-3991-497b-d2a6-65a47ec9cd96"
   },
   "outputs": [
    {
     "name": "stdout",
     "output_type": "stream",
     "text": [
      "/content\n"
     ]
    }
   ],
   "source": [
    "%cd /content"
   ]
  },
  {
   "cell_type": "code",
   "execution_count": 17,
   "metadata": {
    "colab": {
     "base_uri": "https://localhost:8080/"
    },
    "executionInfo": {
     "elapsed": 5836,
     "status": "ok",
     "timestamp": 1712210917055,
     "user": {
      "displayName": "TruProjects yolo",
      "userId": "18414174829652366032"
     },
     "user_tz": -330
    },
    "id": "onPwmgjoFbSN",
    "outputId": "0229675e-f22b-495f-f4c3-85e8da369d61"
   },
   "outputs": [
    {
     "name": "stdout",
     "output_type": "stream",
     "text": [
      "Requirement already satisfied: ultralytics in /usr/local/lib/python3.10/dist-packages (8.1.42)\n",
      "Requirement already satisfied: matplotlib>=3.3.0 in /usr/local/lib/python3.10/dist-packages (from ultralytics) (3.7.1)\n",
      "Requirement already satisfied: opencv-python>=4.6.0 in /usr/local/lib/python3.10/dist-packages (from ultralytics) (4.8.0.76)\n",
      "Requirement already satisfied: pillow>=7.1.2 in /usr/local/lib/python3.10/dist-packages (from ultralytics) (9.4.0)\n",
      "Requirement already satisfied: pyyaml>=5.3.1 in /usr/local/lib/python3.10/dist-packages (from ultralytics) (6.0.1)\n",
      "Requirement already satisfied: requests>=2.23.0 in /usr/local/lib/python3.10/dist-packages (from ultralytics) (2.31.0)\n",
      "Requirement already satisfied: scipy>=1.4.1 in /usr/local/lib/python3.10/dist-packages (from ultralytics) (1.11.4)\n",
      "Requirement already satisfied: torch>=1.8.0 in /usr/local/lib/python3.10/dist-packages (from ultralytics) (2.2.1+cu121)\n",
      "Requirement already satisfied: torchvision>=0.9.0 in /usr/local/lib/python3.10/dist-packages (from ultralytics) (0.17.1+cu121)\n",
      "Requirement already satisfied: tqdm>=4.64.0 in /usr/local/lib/python3.10/dist-packages (from ultralytics) (4.66.2)\n",
      "Requirement already satisfied: psutil in /usr/local/lib/python3.10/dist-packages (from ultralytics) (5.9.5)\n",
      "Requirement already satisfied: py-cpuinfo in /usr/local/lib/python3.10/dist-packages (from ultralytics) (9.0.0)\n",
      "Requirement already satisfied: thop>=0.1.1 in /usr/local/lib/python3.10/dist-packages (from ultralytics) (0.1.1.post2209072238)\n",
      "Requirement already satisfied: pandas>=1.1.4 in /usr/local/lib/python3.10/dist-packages (from ultralytics) (2.0.3)\n",
      "Requirement already satisfied: seaborn>=0.11.0 in /usr/local/lib/python3.10/dist-packages (from ultralytics) (0.13.1)\n",
      "Requirement already satisfied: contourpy>=1.0.1 in /usr/local/lib/python3.10/dist-packages (from matplotlib>=3.3.0->ultralytics) (1.2.0)\n",
      "Requirement already satisfied: cycler>=0.10 in /usr/local/lib/python3.10/dist-packages (from matplotlib>=3.3.0->ultralytics) (0.12.1)\n",
      "Requirement already satisfied: fonttools>=4.22.0 in /usr/local/lib/python3.10/dist-packages (from matplotlib>=3.3.0->ultralytics) (4.50.0)\n",
      "Requirement already satisfied: kiwisolver>=1.0.1 in /usr/local/lib/python3.10/dist-packages (from matplotlib>=3.3.0->ultralytics) (1.4.5)\n",
      "Requirement already satisfied: numpy>=1.20 in /usr/local/lib/python3.10/dist-packages (from matplotlib>=3.3.0->ultralytics) (1.23.5)\n",
      "Requirement already satisfied: packaging>=20.0 in /usr/local/lib/python3.10/dist-packages (from matplotlib>=3.3.0->ultralytics) (24.0)\n",
      "Requirement already satisfied: pyparsing>=2.3.1 in /usr/local/lib/python3.10/dist-packages (from matplotlib>=3.3.0->ultralytics) (3.1.2)\n",
      "Requirement already satisfied: python-dateutil>=2.7 in /usr/local/lib/python3.10/dist-packages (from matplotlib>=3.3.0->ultralytics) (2.8.2)\n",
      "Requirement already satisfied: pytz>=2020.1 in /usr/local/lib/python3.10/dist-packages (from pandas>=1.1.4->ultralytics) (2023.4)\n",
      "Requirement already satisfied: tzdata>=2022.1 in /usr/local/lib/python3.10/dist-packages (from pandas>=1.1.4->ultralytics) (2024.1)\n",
      "Requirement already satisfied: charset-normalizer<4,>=2 in /usr/local/lib/python3.10/dist-packages (from requests>=2.23.0->ultralytics) (3.3.2)\n",
      "Requirement already satisfied: idna<4,>=2.5 in /usr/local/lib/python3.10/dist-packages (from requests>=2.23.0->ultralytics) (3.6)\n",
      "Requirement already satisfied: urllib3<3,>=1.21.1 in /usr/local/lib/python3.10/dist-packages (from requests>=2.23.0->ultralytics) (2.0.7)\n",
      "Requirement already satisfied: certifi>=2017.4.17 in /usr/local/lib/python3.10/dist-packages (from requests>=2.23.0->ultralytics) (2024.2.2)\n",
      "Requirement already satisfied: filelock in /usr/local/lib/python3.10/dist-packages (from torch>=1.8.0->ultralytics) (3.13.3)\n",
      "Requirement already satisfied: typing-extensions>=4.8.0 in /usr/local/lib/python3.10/dist-packages (from torch>=1.8.0->ultralytics) (4.10.0)\n",
      "Requirement already satisfied: sympy in /usr/local/lib/python3.10/dist-packages (from torch>=1.8.0->ultralytics) (1.12)\n",
      "Requirement already satisfied: networkx in /usr/local/lib/python3.10/dist-packages (from torch>=1.8.0->ultralytics) (3.2.1)\n",
      "Requirement already satisfied: jinja2 in /usr/local/lib/python3.10/dist-packages (from torch>=1.8.0->ultralytics) (3.1.3)\n",
      "Requirement already satisfied: fsspec in /usr/local/lib/python3.10/dist-packages (from torch>=1.8.0->ultralytics) (2023.6.0)\n",
      "Requirement already satisfied: nvidia-cuda-nvrtc-cu12==12.1.105 in /usr/local/lib/python3.10/dist-packages (from torch>=1.8.0->ultralytics) (12.1.105)\n",
      "Requirement already satisfied: nvidia-cuda-runtime-cu12==12.1.105 in /usr/local/lib/python3.10/dist-packages (from torch>=1.8.0->ultralytics) (12.1.105)\n",
      "Requirement already satisfied: nvidia-cuda-cupti-cu12==12.1.105 in /usr/local/lib/python3.10/dist-packages (from torch>=1.8.0->ultralytics) (12.1.105)\n",
      "Requirement already satisfied: nvidia-cudnn-cu12==8.9.2.26 in /usr/local/lib/python3.10/dist-packages (from torch>=1.8.0->ultralytics) (8.9.2.26)\n",
      "Requirement already satisfied: nvidia-cublas-cu12==12.1.3.1 in /usr/local/lib/python3.10/dist-packages (from torch>=1.8.0->ultralytics) (12.1.3.1)\n",
      "Requirement already satisfied: nvidia-cufft-cu12==11.0.2.54 in /usr/local/lib/python3.10/dist-packages (from torch>=1.8.0->ultralytics) (11.0.2.54)\n",
      "Requirement already satisfied: nvidia-curand-cu12==10.3.2.106 in /usr/local/lib/python3.10/dist-packages (from torch>=1.8.0->ultralytics) (10.3.2.106)\n",
      "Requirement already satisfied: nvidia-cusolver-cu12==11.4.5.107 in /usr/local/lib/python3.10/dist-packages (from torch>=1.8.0->ultralytics) (11.4.5.107)\n",
      "Requirement already satisfied: nvidia-cusparse-cu12==12.1.0.106 in /usr/local/lib/python3.10/dist-packages (from torch>=1.8.0->ultralytics) (12.1.0.106)\n",
      "Requirement already satisfied: nvidia-nccl-cu12==2.19.3 in /usr/local/lib/python3.10/dist-packages (from torch>=1.8.0->ultralytics) (2.19.3)\n",
      "Requirement already satisfied: nvidia-nvtx-cu12==12.1.105 in /usr/local/lib/python3.10/dist-packages (from torch>=1.8.0->ultralytics) (12.1.105)\n",
      "Requirement already satisfied: triton==2.2.0 in /usr/local/lib/python3.10/dist-packages (from torch>=1.8.0->ultralytics) (2.2.0)\n",
      "Requirement already satisfied: nvidia-nvjitlink-cu12 in /usr/local/lib/python3.10/dist-packages (from nvidia-cusolver-cu12==11.4.5.107->torch>=1.8.0->ultralytics) (12.4.127)\n",
      "Requirement already satisfied: six>=1.5 in /usr/local/lib/python3.10/dist-packages (from python-dateutil>=2.7->matplotlib>=3.3.0->ultralytics) (1.16.0)\n",
      "Requirement already satisfied: MarkupSafe>=2.0 in /usr/local/lib/python3.10/dist-packages (from jinja2->torch>=1.8.0->ultralytics) (2.1.5)\n",
      "Requirement already satisfied: mpmath>=0.19 in /usr/local/lib/python3.10/dist-packages (from sympy->torch>=1.8.0->ultralytics) (1.3.0)\n"
     ]
    }
   ],
   "source": [
    "!pip install ultralytics"
   ]
  },
  {
   "cell_type": "code",
   "execution_count": 18,
   "metadata": {
    "colab": {
     "base_uri": "https://localhost:8080/"
    },
    "executionInfo": {
     "elapsed": 612926,
     "status": "ok",
     "timestamp": 1712211529979,
     "user": {
      "displayName": "TruProjects yolo",
      "userId": "18414174829652366032"
     },
     "user_tz": -330
    },
    "id": "acYiMMKjFbSN",
    "outputId": "9d201aa8-71ce-41c0-e46e-8c80ceccbaa1"
   },
   "outputs": [
    {
     "name": "stdout",
     "output_type": "stream",
     "text": [
      "Downloading https://github.com/ultralytics/assets/releases/download/v8.1.0/yolov8n.pt to 'yolov8n.pt'...\n"
     ]
    },
    {
     "name": "stderr",
     "output_type": "stream",
     "text": [
      "100%|██████████| 6.23M/6.23M [00:00<00:00, 329MB/s]\n"
     ]
    },
    {
     "name": "stdout",
     "output_type": "stream",
     "text": [
      "Ultralytics YOLOv8.1.42 🚀 Python-3.10.12 torch-2.2.1+cu121 CUDA:0 (NVIDIA A100-SXM4-40GB, 40514MiB)\n",
      "\u001b[34m\u001b[1mengine/trainer: \u001b[0mtask=detect, mode=train, model=yolov8n.pt, data=/content/drive/MyDrive/crop/yolov8/data.yaml, epochs=200, time=None, patience=100, batch=16, imgsz=416, save=True, save_period=-1, cache=False, device=None, workers=8, project=None, name=train, exist_ok=False, pretrained=True, optimizer=auto, verbose=True, seed=0, deterministic=True, single_cls=False, rect=False, cos_lr=False, close_mosaic=10, resume=False, amp=True, fraction=1.0, profile=False, freeze=None, multi_scale=False, overlap_mask=True, mask_ratio=4, dropout=0.0, val=True, split=val, save_json=False, save_hybrid=False, conf=None, iou=0.7, max_det=300, half=False, dnn=False, plots=True, source=None, vid_stride=1, stream_buffer=False, visualize=False, augment=False, agnostic_nms=False, classes=None, retina_masks=False, embed=None, show=False, save_frames=False, save_txt=False, save_conf=False, save_crop=False, show_labels=True, show_conf=True, show_boxes=True, line_width=None, format=torchscript, keras=False, optimize=False, int8=False, dynamic=False, simplify=False, opset=None, workspace=4, nms=False, lr0=0.01, lrf=0.01, momentum=0.937, weight_decay=0.0005, warmup_epochs=3.0, warmup_momentum=0.8, warmup_bias_lr=0.1, box=7.5, cls=0.5, dfl=1.5, pose=12.0, kobj=1.0, label_smoothing=0.0, nbs=64, hsv_h=0.015, hsv_s=0.7, hsv_v=0.4, degrees=0.0, translate=0.1, scale=0.5, shear=0.0, perspective=0.0, flipud=0.0, fliplr=0.5, bgr=0.0, mosaic=1.0, mixup=0.0, copy_paste=0.0, auto_augment=randaugment, erasing=0.4, crop_fraction=1.0, cfg=None, tracker=botsort.yaml, save_dir=runs/detect/train\n",
      "Overriding model.yaml nc=80 with nc=5\n",
      "\n",
      "                   from  n    params  module                                       arguments                     \n",
      "  0                  -1  1       464  ultralytics.nn.modules.conv.Conv             [3, 16, 3, 2]                 \n",
      "  1                  -1  1      4672  ultralytics.nn.modules.conv.Conv             [16, 32, 3, 2]                \n",
      "  2                  -1  1      7360  ultralytics.nn.modules.block.C2f             [32, 32, 1, True]             \n",
      "  3                  -1  1     18560  ultralytics.nn.modules.conv.Conv             [32, 64, 3, 2]                \n",
      "  4                  -1  2     49664  ultralytics.nn.modules.block.C2f             [64, 64, 2, True]             \n",
      "  5                  -1  1     73984  ultralytics.nn.modules.conv.Conv             [64, 128, 3, 2]               \n",
      "  6                  -1  2    197632  ultralytics.nn.modules.block.C2f             [128, 128, 2, True]           \n",
      "  7                  -1  1    295424  ultralytics.nn.modules.conv.Conv             [128, 256, 3, 2]              \n",
      "  8                  -1  1    460288  ultralytics.nn.modules.block.C2f             [256, 256, 1, True]           \n",
      "  9                  -1  1    164608  ultralytics.nn.modules.block.SPPF            [256, 256, 5]                 \n",
      " 10                  -1  1         0  torch.nn.modules.upsampling.Upsample         [None, 2, 'nearest']          \n",
      " 11             [-1, 6]  1         0  ultralytics.nn.modules.conv.Concat           [1]                           \n",
      " 12                  -1  1    148224  ultralytics.nn.modules.block.C2f             [384, 128, 1]                 \n",
      " 13                  -1  1         0  torch.nn.modules.upsampling.Upsample         [None, 2, 'nearest']          \n",
      " 14             [-1, 4]  1         0  ultralytics.nn.modules.conv.Concat           [1]                           \n",
      " 15                  -1  1     37248  ultralytics.nn.modules.block.C2f             [192, 64, 1]                  \n",
      " 16                  -1  1     36992  ultralytics.nn.modules.conv.Conv             [64, 64, 3, 2]                \n",
      " 17            [-1, 12]  1         0  ultralytics.nn.modules.conv.Concat           [1]                           \n",
      " 18                  -1  1    123648  ultralytics.nn.modules.block.C2f             [192, 128, 1]                 \n",
      " 19                  -1  1    147712  ultralytics.nn.modules.conv.Conv             [128, 128, 3, 2]              \n",
      " 20             [-1, 9]  1         0  ultralytics.nn.modules.conv.Concat           [1]                           \n",
      " 21                  -1  1    493056  ultralytics.nn.modules.block.C2f             [384, 256, 1]                 \n",
      " 22        [15, 18, 21]  1    752287  ultralytics.nn.modules.head.Detect           [5, [64, 128, 256]]           \n",
      "Model summary: 225 layers, 3011823 parameters, 3011807 gradients, 8.2 GFLOPs\n",
      "\n",
      "Transferred 319/355 items from pretrained weights\n",
      "\u001b[34m\u001b[1mTensorBoard: \u001b[0mStart with 'tensorboard --logdir runs/detect/train', view at http://localhost:6006/\n",
      "Freezing layer 'model.22.dfl.conv.weight'\n",
      "\u001b[34m\u001b[1mAMP: \u001b[0mrunning Automatic Mixed Precision (AMP) checks with YOLOv8n...\n",
      "\u001b[34m\u001b[1mAMP: \u001b[0mchecks passed ✅\n"
     ]
    },
    {
     "name": "stderr",
     "output_type": "stream",
     "text": [
      "\u001b[34m\u001b[1mtrain: \u001b[0mScanning /content/drive/MyDrive/crop/yolov8/train/labels... 313 images, 0 backgrounds, 0 corrupt: 100%|██████████| 313/313 [00:31<00:00,  9.86it/s]"
     ]
    },
    {
     "name": "stdout",
     "output_type": "stream",
     "text": [
      "\u001b[34m\u001b[1mtrain: \u001b[0mNew cache created: /content/drive/MyDrive/crop/yolov8/train/labels.cache\n"
     ]
    },
    {
     "name": "stderr",
     "output_type": "stream",
     "text": [
      "\n"
     ]
    },
    {
     "name": "stdout",
     "output_type": "stream",
     "text": [
      "\u001b[34m\u001b[1malbumentations: \u001b[0mBlur(p=0.01, blur_limit=(3, 7)), MedianBlur(p=0.01, blur_limit=(3, 7)), ToGray(p=0.01), CLAHE(p=0.01, clip_limit=(1, 4.0), tile_grid_size=(8, 8))\n"
     ]
    },
    {
     "name": "stderr",
     "output_type": "stream",
     "text": [
      "\u001b[34m\u001b[1mval: \u001b[0mScanning /content/drive/MyDrive/crop/yolov8/valid/labels... 78 images, 0 backgrounds, 0 corrupt: 100%|██████████| 78/78 [01:05<00:00,  1.19it/s]"
     ]
    },
    {
     "name": "stdout",
     "output_type": "stream",
     "text": [
      "\u001b[34m\u001b[1mval: \u001b[0mNew cache created: /content/drive/MyDrive/crop/yolov8/valid/labels.cache\n"
     ]
    },
    {
     "name": "stderr",
     "output_type": "stream",
     "text": [
      "\n"
     ]
    },
    {
     "name": "stdout",
     "output_type": "stream",
     "text": [
      "Plotting labels to runs/detect/train/labels.jpg... \n",
      "\u001b[34m\u001b[1moptimizer:\u001b[0m 'optimizer=auto' found, ignoring 'lr0=0.01' and 'momentum=0.937' and determining best 'optimizer', 'lr0' and 'momentum' automatically... \n",
      "\u001b[34m\u001b[1moptimizer:\u001b[0m AdamW(lr=0.001111, momentum=0.9) with parameter groups 57 weight(decay=0.0), 64 weight(decay=0.0005), 63 bias(decay=0.0)\n",
      "\u001b[34m\u001b[1mTensorBoard: \u001b[0mmodel graph visualization added ✅\n",
      "Image sizes 416 train, 416 val\n",
      "Using 8 dataloader workers\n",
      "Logging results to \u001b[1mruns/detect/train\u001b[0m\n",
      "Starting training for 200 epochs...\n",
      "\n",
      "      Epoch    GPU_mem   box_loss   cls_loss   dfl_loss  Instances       Size\n"
     ]
    },
    {
     "name": "stderr",
     "output_type": "stream",
     "text": [
      "      1/200      1.09G      2.114      3.805      2.003         38        416: 100%|██████████| 20/20 [00:04<00:00,  4.21it/s]\n",
      "                 Class     Images  Instances      Box(P          R      mAP50  mAP50-95): 100%|██████████| 3/3 [00:00<00:00,  5.28it/s]\n"
     ]
    },
    {
     "name": "stdout",
     "output_type": "stream",
     "text": [
      "                   all         78        193    0.00434      0.496     0.0392     0.0142\n",
      "\n",
      "      Epoch    GPU_mem   box_loss   cls_loss   dfl_loss  Instances       Size\n"
     ]
    },
    {
     "name": "stderr",
     "output_type": "stream",
     "text": [
      "      2/200       1.1G      1.901      3.467      1.869         36        416: 100%|██████████| 20/20 [00:01<00:00, 10.54it/s]\n",
      "                 Class     Images  Instances      Box(P          R      mAP50  mAP50-95): 100%|██████████| 3/3 [00:00<00:00,  7.44it/s]"
     ]
    },
    {
     "name": "stdout",
     "output_type": "stream",
     "text": [
      "                   all         78        193    0.00512      0.604     0.0421     0.0171\n"
     ]
    },
    {
     "name": "stderr",
     "output_type": "stream",
     "text": [
      "\n"
     ]
    },
    {
     "name": "stdout",
     "output_type": "stream",
     "text": [
      "\n",
      "      Epoch    GPU_mem   box_loss   cls_loss   dfl_loss  Instances       Size\n"
     ]
    },
    {
     "name": "stderr",
     "output_type": "stream",
     "text": [
      "      3/200      1.11G      1.955      3.101      1.915         46        416: 100%|██████████| 20/20 [00:01<00:00, 11.08it/s]\n",
      "                 Class     Images  Instances      Box(P          R      mAP50  mAP50-95): 100%|██████████| 3/3 [00:00<00:00,  7.82it/s]"
     ]
    },
    {
     "name": "stdout",
     "output_type": "stream",
     "text": [
      "                   all         78        193      0.128      0.106     0.0559     0.0235\n"
     ]
    },
    {
     "name": "stderr",
     "output_type": "stream",
     "text": [
      "\n"
     ]
    },
    {
     "name": "stdout",
     "output_type": "stream",
     "text": [
      "\n",
      "      Epoch    GPU_mem   box_loss   cls_loss   dfl_loss  Instances       Size\n"
     ]
    },
    {
     "name": "stderr",
     "output_type": "stream",
     "text": [
      "      4/200      1.12G      1.874      2.923      1.829         26        416: 100%|██████████| 20/20 [00:01<00:00, 11.83it/s]\n",
      "                 Class     Images  Instances      Box(P          R      mAP50  mAP50-95): 100%|██████████| 3/3 [00:00<00:00,  7.60it/s]"
     ]
    },
    {
     "name": "stdout",
     "output_type": "stream",
     "text": [
      "                   all         78        193      0.341       0.23     0.0852     0.0272\n"
     ]
    },
    {
     "name": "stderr",
     "output_type": "stream",
     "text": [
      "\n"
     ]
    },
    {
     "name": "stdout",
     "output_type": "stream",
     "text": [
      "\n",
      "      Epoch    GPU_mem   box_loss   cls_loss   dfl_loss  Instances       Size\n"
     ]
    },
    {
     "name": "stderr",
     "output_type": "stream",
     "text": [
      "      5/200      1.12G      1.841       2.82       1.83         48        416: 100%|██████████| 20/20 [00:01<00:00, 11.58it/s]\n",
      "                 Class     Images  Instances      Box(P          R      mAP50  mAP50-95): 100%|██████████| 3/3 [00:00<00:00,  8.14it/s]"
     ]
    },
    {
     "name": "stdout",
     "output_type": "stream",
     "text": [
      "                   all         78        193      0.172      0.162     0.0775      0.022\n"
     ]
    },
    {
     "name": "stderr",
     "output_type": "stream",
     "text": [
      "\n"
     ]
    },
    {
     "name": "stdout",
     "output_type": "stream",
     "text": [
      "\n",
      "      Epoch    GPU_mem   box_loss   cls_loss   dfl_loss  Instances       Size\n"
     ]
    },
    {
     "name": "stderr",
     "output_type": "stream",
     "text": [
      "      6/200      1.12G      1.859       2.75      1.837         47        416: 100%|██████████| 20/20 [00:01<00:00, 11.44it/s]\n",
      "                 Class     Images  Instances      Box(P          R      mAP50  mAP50-95): 100%|██████████| 3/3 [00:00<00:00,  8.32it/s]"
     ]
    },
    {
     "name": "stdout",
     "output_type": "stream",
     "text": [
      "                   all         78        193      0.417      0.266      0.106     0.0342\n"
     ]
    },
    {
     "name": "stderr",
     "output_type": "stream",
     "text": [
      "\n"
     ]
    },
    {
     "name": "stdout",
     "output_type": "stream",
     "text": [
      "\n",
      "      Epoch    GPU_mem   box_loss   cls_loss   dfl_loss  Instances       Size\n"
     ]
    },
    {
     "name": "stderr",
     "output_type": "stream",
     "text": [
      "      7/200      1.12G      1.832       2.72      1.849         37        416: 100%|██████████| 20/20 [00:01<00:00, 11.50it/s]\n",
      "                 Class     Images  Instances      Box(P          R      mAP50  mAP50-95): 100%|██████████| 3/3 [00:00<00:00,  6.98it/s]"
     ]
    },
    {
     "name": "stdout",
     "output_type": "stream",
     "text": [
      "                   all         78        193      0.134      0.178      0.121     0.0425\n"
     ]
    },
    {
     "name": "stderr",
     "output_type": "stream",
     "text": [
      "\n"
     ]
    },
    {
     "name": "stdout",
     "output_type": "stream",
     "text": [
      "\n",
      "      Epoch    GPU_mem   box_loss   cls_loss   dfl_loss  Instances       Size\n"
     ]
    },
    {
     "name": "stderr",
     "output_type": "stream",
     "text": [
      "      8/200      1.12G      1.816       2.73      1.835         34        416: 100%|██████████| 20/20 [00:01<00:00, 11.27it/s]\n",
      "                 Class     Images  Instances      Box(P          R      mAP50  mAP50-95): 100%|██████████| 3/3 [00:00<00:00,  8.42it/s]"
     ]
    },
    {
     "name": "stdout",
     "output_type": "stream",
     "text": [
      "                   all         78        193      0.157      0.247      0.133     0.0526\n"
     ]
    },
    {
     "name": "stderr",
     "output_type": "stream",
     "text": [
      "\n"
     ]
    },
    {
     "name": "stdout",
     "output_type": "stream",
     "text": [
      "\n",
      "      Epoch    GPU_mem   box_loss   cls_loss   dfl_loss  Instances       Size\n"
     ]
    },
    {
     "name": "stderr",
     "output_type": "stream",
     "text": [
      "      9/200      1.12G      1.747      2.637      1.779         55        416: 100%|██████████| 20/20 [00:01<00:00, 11.65it/s]\n",
      "                 Class     Images  Instances      Box(P          R      mAP50  mAP50-95): 100%|██████████| 3/3 [00:00<00:00,  7.53it/s]"
     ]
    },
    {
     "name": "stdout",
     "output_type": "stream",
     "text": [
      "                   all         78        193     0.0843      0.213      0.077     0.0278\n"
     ]
    },
    {
     "name": "stderr",
     "output_type": "stream",
     "text": [
      "\n"
     ]
    },
    {
     "name": "stdout",
     "output_type": "stream",
     "text": [
      "\n",
      "      Epoch    GPU_mem   box_loss   cls_loss   dfl_loss  Instances       Size\n"
     ]
    },
    {
     "name": "stderr",
     "output_type": "stream",
     "text": [
      "     10/200      1.12G      1.751      2.598      1.771         37        416: 100%|██████████| 20/20 [00:01<00:00, 11.48it/s]\n",
      "                 Class     Images  Instances      Box(P          R      mAP50  mAP50-95): 100%|██████████| 3/3 [00:00<00:00,  7.79it/s]"
     ]
    },
    {
     "name": "stdout",
     "output_type": "stream",
     "text": [
      "                   all         78        193      0.369      0.187      0.172     0.0679\n"
     ]
    },
    {
     "name": "stderr",
     "output_type": "stream",
     "text": [
      "\n"
     ]
    },
    {
     "name": "stdout",
     "output_type": "stream",
     "text": [
      "\n",
      "      Epoch    GPU_mem   box_loss   cls_loss   dfl_loss  Instances       Size\n"
     ]
    },
    {
     "name": "stderr",
     "output_type": "stream",
     "text": [
      "     11/200      1.12G       1.75       2.55      1.784         43        416: 100%|██████████| 20/20 [00:01<00:00, 11.49it/s]\n",
      "                 Class     Images  Instances      Box(P          R      mAP50  mAP50-95): 100%|██████████| 3/3 [00:00<00:00,  7.31it/s]"
     ]
    },
    {
     "name": "stdout",
     "output_type": "stream",
     "text": [
      "                   all         78        193      0.336      0.236      0.102      0.037\n"
     ]
    },
    {
     "name": "stderr",
     "output_type": "stream",
     "text": [
      "\n"
     ]
    },
    {
     "name": "stdout",
     "output_type": "stream",
     "text": [
      "\n",
      "      Epoch    GPU_mem   box_loss   cls_loss   dfl_loss  Instances       Size\n"
     ]
    },
    {
     "name": "stderr",
     "output_type": "stream",
     "text": [
      "     12/200      1.12G      1.714      2.574      1.736         27        416: 100%|██████████| 20/20 [00:01<00:00, 11.25it/s]\n",
      "                 Class     Images  Instances      Box(P          R      mAP50  mAP50-95): 100%|██████████| 3/3 [00:00<00:00,  7.83it/s]"
     ]
    },
    {
     "name": "stdout",
     "output_type": "stream",
     "text": [
      "                   all         78        193      0.161       0.26      0.175     0.0636\n"
     ]
    },
    {
     "name": "stderr",
     "output_type": "stream",
     "text": [
      "\n"
     ]
    },
    {
     "name": "stdout",
     "output_type": "stream",
     "text": [
      "\n",
      "      Epoch    GPU_mem   box_loss   cls_loss   dfl_loss  Instances       Size\n"
     ]
    },
    {
     "name": "stderr",
     "output_type": "stream",
     "text": [
      "     13/200      1.12G      1.728      2.499      1.714         33        416: 100%|██████████| 20/20 [00:01<00:00, 11.22it/s]\n",
      "                 Class     Images  Instances      Box(P          R      mAP50  mAP50-95): 100%|██████████| 3/3 [00:00<00:00,  7.96it/s]"
     ]
    },
    {
     "name": "stdout",
     "output_type": "stream",
     "text": [
      "                   all         78        193      0.216      0.207      0.148     0.0487\n"
     ]
    },
    {
     "name": "stderr",
     "output_type": "stream",
     "text": [
      "\n"
     ]
    },
    {
     "name": "stdout",
     "output_type": "stream",
     "text": [
      "\n",
      "      Epoch    GPU_mem   box_loss   cls_loss   dfl_loss  Instances       Size\n"
     ]
    },
    {
     "name": "stderr",
     "output_type": "stream",
     "text": [
      "     14/200      1.12G       1.73      2.488      1.736         35        416: 100%|██████████| 20/20 [00:01<00:00, 11.44it/s]\n",
      "                 Class     Images  Instances      Box(P          R      mAP50  mAP50-95): 100%|██████████| 3/3 [00:00<00:00,  7.76it/s]"
     ]
    },
    {
     "name": "stdout",
     "output_type": "stream",
     "text": [
      "                   all         78        193      0.459      0.209      0.168     0.0634\n"
     ]
    },
    {
     "name": "stderr",
     "output_type": "stream",
     "text": [
      "\n"
     ]
    },
    {
     "name": "stdout",
     "output_type": "stream",
     "text": [
      "\n",
      "      Epoch    GPU_mem   box_loss   cls_loss   dfl_loss  Instances       Size\n"
     ]
    },
    {
     "name": "stderr",
     "output_type": "stream",
     "text": [
      "     15/200      1.12G      1.685      2.474      1.727         32        416: 100%|██████████| 20/20 [00:01<00:00, 11.63it/s]\n",
      "                 Class     Images  Instances      Box(P          R      mAP50  mAP50-95): 100%|██████████| 3/3 [00:00<00:00,  8.28it/s]"
     ]
    },
    {
     "name": "stdout",
     "output_type": "stream",
     "text": [
      "                   all         78        193      0.218      0.213      0.183      0.072\n"
     ]
    },
    {
     "name": "stderr",
     "output_type": "stream",
     "text": [
      "\n"
     ]
    },
    {
     "name": "stdout",
     "output_type": "stream",
     "text": [
      "\n",
      "      Epoch    GPU_mem   box_loss   cls_loss   dfl_loss  Instances       Size\n"
     ]
    },
    {
     "name": "stderr",
     "output_type": "stream",
     "text": [
      "     16/200      1.12G       1.68      2.438      1.727         37        416: 100%|██████████| 20/20 [00:01<00:00, 11.84it/s]\n",
      "                 Class     Images  Instances      Box(P          R      mAP50  mAP50-95): 100%|██████████| 3/3 [00:00<00:00,  8.03it/s]"
     ]
    },
    {
     "name": "stdout",
     "output_type": "stream",
     "text": [
      "                   all         78        193      0.124      0.189      0.116     0.0403\n"
     ]
    },
    {
     "name": "stderr",
     "output_type": "stream",
     "text": [
      "\n"
     ]
    },
    {
     "name": "stdout",
     "output_type": "stream",
     "text": [
      "\n",
      "      Epoch    GPU_mem   box_loss   cls_loss   dfl_loss  Instances       Size\n"
     ]
    },
    {
     "name": "stderr",
     "output_type": "stream",
     "text": [
      "     17/200      1.12G      1.722      2.371      1.737         49        416: 100%|██████████| 20/20 [00:01<00:00, 11.57it/s]\n",
      "                 Class     Images  Instances      Box(P          R      mAP50  mAP50-95): 100%|██████████| 3/3 [00:00<00:00,  7.85it/s]"
     ]
    },
    {
     "name": "stdout",
     "output_type": "stream",
     "text": [
      "                   all         78        193      0.193      0.268      0.198     0.0656\n"
     ]
    },
    {
     "name": "stderr",
     "output_type": "stream",
     "text": [
      "\n"
     ]
    },
    {
     "name": "stdout",
     "output_type": "stream",
     "text": [
      "\n",
      "      Epoch    GPU_mem   box_loss   cls_loss   dfl_loss  Instances       Size\n"
     ]
    },
    {
     "name": "stderr",
     "output_type": "stream",
     "text": [
      "     18/200      1.11G      1.641      2.349      1.685         31        416: 100%|██████████| 20/20 [00:01<00:00, 10.97it/s]\n",
      "                 Class     Images  Instances      Box(P          R      mAP50  mAP50-95): 100%|██████████| 3/3 [00:00<00:00,  8.43it/s]"
     ]
    },
    {
     "name": "stdout",
     "output_type": "stream",
     "text": [
      "                   all         78        193      0.204      0.218      0.158     0.0624\n"
     ]
    },
    {
     "name": "stderr",
     "output_type": "stream",
     "text": [
      "\n"
     ]
    },
    {
     "name": "stdout",
     "output_type": "stream",
     "text": [
      "\n",
      "      Epoch    GPU_mem   box_loss   cls_loss   dfl_loss  Instances       Size\n"
     ]
    },
    {
     "name": "stderr",
     "output_type": "stream",
     "text": [
      "     19/200      1.11G      1.665       2.31      1.686         32        416: 100%|██████████| 20/20 [00:01<00:00, 11.48it/s]\n",
      "                 Class     Images  Instances      Box(P          R      mAP50  mAP50-95): 100%|██████████| 3/3 [00:00<00:00,  7.93it/s]"
     ]
    },
    {
     "name": "stdout",
     "output_type": "stream",
     "text": [
      "                   all         78        193      0.145      0.266      0.145     0.0592\n"
     ]
    },
    {
     "name": "stderr",
     "output_type": "stream",
     "text": [
      "\n"
     ]
    },
    {
     "name": "stdout",
     "output_type": "stream",
     "text": [
      "\n",
      "      Epoch    GPU_mem   box_loss   cls_loss   dfl_loss  Instances       Size\n"
     ]
    },
    {
     "name": "stderr",
     "output_type": "stream",
     "text": [
      "     20/200      1.11G      1.645      2.327      1.653         37        416: 100%|██████████| 20/20 [00:01<00:00, 11.43it/s]\n",
      "                 Class     Images  Instances      Box(P          R      mAP50  mAP50-95): 100%|██████████| 3/3 [00:00<00:00,  7.93it/s]"
     ]
    },
    {
     "name": "stdout",
     "output_type": "stream",
     "text": [
      "                   all         78        193      0.179      0.238      0.139     0.0526\n"
     ]
    },
    {
     "name": "stderr",
     "output_type": "stream",
     "text": [
      "\n"
     ]
    },
    {
     "name": "stdout",
     "output_type": "stream",
     "text": [
      "\n",
      "      Epoch    GPU_mem   box_loss   cls_loss   dfl_loss  Instances       Size\n"
     ]
    },
    {
     "name": "stderr",
     "output_type": "stream",
     "text": [
      "     21/200      1.12G      1.622      2.268      1.636         27        416: 100%|██████████| 20/20 [00:01<00:00, 11.39it/s]\n",
      "                 Class     Images  Instances      Box(P          R      mAP50  mAP50-95): 100%|██████████| 3/3 [00:00<00:00,  8.44it/s]"
     ]
    },
    {
     "name": "stdout",
     "output_type": "stream",
     "text": [
      "                   all         78        193      0.154      0.325       0.17     0.0636\n"
     ]
    },
    {
     "name": "stderr",
     "output_type": "stream",
     "text": [
      "\n"
     ]
    },
    {
     "name": "stdout",
     "output_type": "stream",
     "text": [
      "\n",
      "      Epoch    GPU_mem   box_loss   cls_loss   dfl_loss  Instances       Size\n"
     ]
    },
    {
     "name": "stderr",
     "output_type": "stream",
     "text": [
      "     22/200      1.12G      1.647      2.241      1.657         35        416: 100%|██████████| 20/20 [00:01<00:00, 11.56it/s]\n",
      "                 Class     Images  Instances      Box(P          R      mAP50  mAP50-95): 100%|██████████| 3/3 [00:00<00:00,  8.34it/s]"
     ]
    },
    {
     "name": "stdout",
     "output_type": "stream",
     "text": [
      "                   all         78        193      0.191      0.257       0.19     0.0756\n"
     ]
    },
    {
     "name": "stderr",
     "output_type": "stream",
     "text": [
      "\n"
     ]
    },
    {
     "name": "stdout",
     "output_type": "stream",
     "text": [
      "\n",
      "      Epoch    GPU_mem   box_loss   cls_loss   dfl_loss  Instances       Size\n"
     ]
    },
    {
     "name": "stderr",
     "output_type": "stream",
     "text": [
      "     23/200      1.12G      1.576      2.226      1.628         35        416: 100%|██████████| 20/20 [00:01<00:00, 11.21it/s]\n",
      "                 Class     Images  Instances      Box(P          R      mAP50  mAP50-95): 100%|██████████| 3/3 [00:00<00:00,  7.54it/s]"
     ]
    },
    {
     "name": "stdout",
     "output_type": "stream",
     "text": [
      "                   all         78        193      0.177      0.303       0.18     0.0709\n"
     ]
    },
    {
     "name": "stderr",
     "output_type": "stream",
     "text": [
      "\n"
     ]
    },
    {
     "name": "stdout",
     "output_type": "stream",
     "text": [
      "\n",
      "      Epoch    GPU_mem   box_loss   cls_loss   dfl_loss  Instances       Size\n"
     ]
    },
    {
     "name": "stderr",
     "output_type": "stream",
     "text": [
      "     24/200      1.12G      1.604      2.233      1.651         29        416: 100%|██████████| 20/20 [00:01<00:00, 11.26it/s]\n",
      "                 Class     Images  Instances      Box(P          R      mAP50  mAP50-95): 100%|██████████| 3/3 [00:00<00:00,  8.15it/s]"
     ]
    },
    {
     "name": "stdout",
     "output_type": "stream",
     "text": [
      "                   all         78        193      0.532      0.218       0.23     0.0945\n"
     ]
    },
    {
     "name": "stderr",
     "output_type": "stream",
     "text": [
      "\n"
     ]
    },
    {
     "name": "stdout",
     "output_type": "stream",
     "text": [
      "\n",
      "      Epoch    GPU_mem   box_loss   cls_loss   dfl_loss  Instances       Size\n"
     ]
    },
    {
     "name": "stderr",
     "output_type": "stream",
     "text": [
      "     25/200      1.12G      1.575      2.216      1.633         33        416: 100%|██████████| 20/20 [00:01<00:00, 11.14it/s]\n",
      "                 Class     Images  Instances      Box(P          R      mAP50  mAP50-95): 100%|██████████| 3/3 [00:00<00:00,  8.41it/s]"
     ]
    },
    {
     "name": "stdout",
     "output_type": "stream",
     "text": [
      "                   all         78        193      0.389      0.263      0.209     0.0825\n"
     ]
    },
    {
     "name": "stderr",
     "output_type": "stream",
     "text": [
      "\n"
     ]
    },
    {
     "name": "stdout",
     "output_type": "stream",
     "text": [
      "\n",
      "      Epoch    GPU_mem   box_loss   cls_loss   dfl_loss  Instances       Size\n"
     ]
    },
    {
     "name": "stderr",
     "output_type": "stream",
     "text": [
      "     26/200      1.12G       1.58      2.177      1.616         37        416: 100%|██████████| 20/20 [00:01<00:00, 11.55it/s]\n",
      "                 Class     Images  Instances      Box(P          R      mAP50  mAP50-95): 100%|██████████| 3/3 [00:00<00:00,  8.57it/s]"
     ]
    },
    {
     "name": "stdout",
     "output_type": "stream",
     "text": [
      "                   all         78        193       0.23      0.266      0.229     0.0966\n"
     ]
    },
    {
     "name": "stderr",
     "output_type": "stream",
     "text": [
      "\n"
     ]
    },
    {
     "name": "stdout",
     "output_type": "stream",
     "text": [
      "\n",
      "      Epoch    GPU_mem   box_loss   cls_loss   dfl_loss  Instances       Size\n"
     ]
    },
    {
     "name": "stderr",
     "output_type": "stream",
     "text": [
      "     27/200      1.12G      1.604      2.151      1.614         44        416: 100%|██████████| 20/20 [00:01<00:00, 11.61it/s]\n",
      "                 Class     Images  Instances      Box(P          R      mAP50  mAP50-95): 100%|██████████| 3/3 [00:00<00:00,  8.59it/s]"
     ]
    },
    {
     "name": "stdout",
     "output_type": "stream",
     "text": [
      "                   all         78        193      0.222      0.254        0.2     0.0839\n"
     ]
    },
    {
     "name": "stderr",
     "output_type": "stream",
     "text": [
      "\n"
     ]
    },
    {
     "name": "stdout",
     "output_type": "stream",
     "text": [
      "\n",
      "      Epoch    GPU_mem   box_loss   cls_loss   dfl_loss  Instances       Size\n"
     ]
    },
    {
     "name": "stderr",
     "output_type": "stream",
     "text": [
      "     28/200      1.11G       1.59      2.113      1.606         41        416: 100%|██████████| 20/20 [00:01<00:00, 11.01it/s]\n",
      "                 Class     Images  Instances      Box(P          R      mAP50  mAP50-95): 100%|██████████| 3/3 [00:00<00:00,  8.67it/s]"
     ]
    },
    {
     "name": "stdout",
     "output_type": "stream",
     "text": [
      "                   all         78        193      0.245      0.293      0.221     0.0973\n"
     ]
    },
    {
     "name": "stderr",
     "output_type": "stream",
     "text": [
      "\n"
     ]
    },
    {
     "name": "stdout",
     "output_type": "stream",
     "text": [
      "\n",
      "      Epoch    GPU_mem   box_loss   cls_loss   dfl_loss  Instances       Size\n"
     ]
    },
    {
     "name": "stderr",
     "output_type": "stream",
     "text": [
      "     29/200      1.12G      1.592      2.097      1.609         40        416: 100%|██████████| 20/20 [00:01<00:00, 11.41it/s]\n",
      "                 Class     Images  Instances      Box(P          R      mAP50  mAP50-95): 100%|██████████| 3/3 [00:00<00:00,  8.61it/s]"
     ]
    },
    {
     "name": "stdout",
     "output_type": "stream",
     "text": [
      "                   all         78        193      0.186      0.298      0.198     0.0774\n"
     ]
    },
    {
     "name": "stderr",
     "output_type": "stream",
     "text": [
      "\n"
     ]
    },
    {
     "name": "stdout",
     "output_type": "stream",
     "text": [
      "\n",
      "      Epoch    GPU_mem   box_loss   cls_loss   dfl_loss  Instances       Size\n"
     ]
    },
    {
     "name": "stderr",
     "output_type": "stream",
     "text": [
      "     30/200      1.11G      1.631      2.115      1.611         34        416: 100%|██████████| 20/20 [00:01<00:00, 11.71it/s]\n",
      "                 Class     Images  Instances      Box(P          R      mAP50  mAP50-95): 100%|██████████| 3/3 [00:00<00:00,  7.35it/s]"
     ]
    },
    {
     "name": "stdout",
     "output_type": "stream",
     "text": [
      "                   all         78        193      0.181       0.31      0.178     0.0675\n"
     ]
    },
    {
     "name": "stderr",
     "output_type": "stream",
     "text": [
      "\n"
     ]
    },
    {
     "name": "stdout",
     "output_type": "stream",
     "text": [
      "\n",
      "      Epoch    GPU_mem   box_loss   cls_loss   dfl_loss  Instances       Size\n"
     ]
    },
    {
     "name": "stderr",
     "output_type": "stream",
     "text": [
      "     31/200      1.12G      1.566      2.112      1.611         40        416: 100%|██████████| 20/20 [00:01<00:00, 11.56it/s]\n",
      "                 Class     Images  Instances      Box(P          R      mAP50  mAP50-95): 100%|██████████| 3/3 [00:00<00:00,  8.93it/s]"
     ]
    },
    {
     "name": "stdout",
     "output_type": "stream",
     "text": [
      "                   all         78        193      0.231      0.301      0.227     0.0831\n"
     ]
    },
    {
     "name": "stderr",
     "output_type": "stream",
     "text": [
      "\n"
     ]
    },
    {
     "name": "stdout",
     "output_type": "stream",
     "text": [
      "\n",
      "      Epoch    GPU_mem   box_loss   cls_loss   dfl_loss  Instances       Size\n"
     ]
    },
    {
     "name": "stderr",
     "output_type": "stream",
     "text": [
      "     32/200      1.12G      1.598      2.104      1.623         49        416: 100%|██████████| 20/20 [00:01<00:00, 11.51it/s]\n",
      "                 Class     Images  Instances      Box(P          R      mAP50  mAP50-95): 100%|██████████| 3/3 [00:00<00:00,  8.33it/s]"
     ]
    },
    {
     "name": "stdout",
     "output_type": "stream",
     "text": [
      "                   all         78        193      0.145      0.225      0.121     0.0498\n"
     ]
    },
    {
     "name": "stderr",
     "output_type": "stream",
     "text": [
      "\n"
     ]
    },
    {
     "name": "stdout",
     "output_type": "stream",
     "text": [
      "\n",
      "      Epoch    GPU_mem   box_loss   cls_loss   dfl_loss  Instances       Size\n"
     ]
    },
    {
     "name": "stderr",
     "output_type": "stream",
     "text": [
      "     33/200      1.11G      1.577      2.068      1.601         49        416: 100%|██████████| 20/20 [00:01<00:00, 11.23it/s]\n",
      "                 Class     Images  Instances      Box(P          R      mAP50  mAP50-95): 100%|██████████| 3/3 [00:00<00:00,  7.63it/s]"
     ]
    },
    {
     "name": "stdout",
     "output_type": "stream",
     "text": [
      "                   all         78        193      0.192      0.289      0.199     0.0878\n"
     ]
    },
    {
     "name": "stderr",
     "output_type": "stream",
     "text": [
      "\n"
     ]
    },
    {
     "name": "stdout",
     "output_type": "stream",
     "text": [
      "\n",
      "      Epoch    GPU_mem   box_loss   cls_loss   dfl_loss  Instances       Size\n"
     ]
    },
    {
     "name": "stderr",
     "output_type": "stream",
     "text": [
      "     34/200      1.11G      1.522      2.022      1.566         38        416: 100%|██████████| 20/20 [00:01<00:00, 11.37it/s]\n",
      "                 Class     Images  Instances      Box(P          R      mAP50  mAP50-95): 100%|██████████| 3/3 [00:00<00:00,  8.12it/s]"
     ]
    },
    {
     "name": "stdout",
     "output_type": "stream",
     "text": [
      "                   all         78        193       0.29      0.299      0.232     0.0912\n"
     ]
    },
    {
     "name": "stderr",
     "output_type": "stream",
     "text": [
      "\n"
     ]
    },
    {
     "name": "stdout",
     "output_type": "stream",
     "text": [
      "\n",
      "      Epoch    GPU_mem   box_loss   cls_loss   dfl_loss  Instances       Size\n"
     ]
    },
    {
     "name": "stderr",
     "output_type": "stream",
     "text": [
      "     35/200      1.11G      1.529      1.986      1.567         36        416: 100%|██████████| 20/20 [00:01<00:00, 12.00it/s]\n",
      "                 Class     Images  Instances      Box(P          R      mAP50  mAP50-95): 100%|██████████| 3/3 [00:00<00:00,  8.75it/s]\n"
     ]
    },
    {
     "name": "stdout",
     "output_type": "stream",
     "text": [
      "                   all         78        193      0.208      0.363      0.216     0.0828\n",
      "\n",
      "      Epoch    GPU_mem   box_loss   cls_loss   dfl_loss  Instances       Size\n"
     ]
    },
    {
     "name": "stderr",
     "output_type": "stream",
     "text": [
      "     36/200      1.12G      1.509      1.951      1.562         35        416: 100%|██████████| 20/20 [00:01<00:00, 11.88it/s]\n",
      "                 Class     Images  Instances      Box(P          R      mAP50  mAP50-95): 100%|██████████| 3/3 [00:00<00:00,  8.34it/s]"
     ]
    },
    {
     "name": "stdout",
     "output_type": "stream",
     "text": [
      "                   all         78        193      0.197      0.378      0.259        0.1\n"
     ]
    },
    {
     "name": "stderr",
     "output_type": "stream",
     "text": [
      "\n"
     ]
    },
    {
     "name": "stdout",
     "output_type": "stream",
     "text": [
      "\n",
      "      Epoch    GPU_mem   box_loss   cls_loss   dfl_loss  Instances       Size\n"
     ]
    },
    {
     "name": "stderr",
     "output_type": "stream",
     "text": [
      "     37/200      1.12G      1.521      1.992      1.576         33        416: 100%|██████████| 20/20 [00:01<00:00, 11.37it/s]\n",
      "                 Class     Images  Instances      Box(P          R      mAP50  mAP50-95): 100%|██████████| 3/3 [00:00<00:00,  8.77it/s]"
     ]
    },
    {
     "name": "stdout",
     "output_type": "stream",
     "text": [
      "                   all         78        193      0.189      0.287      0.198     0.0815\n"
     ]
    },
    {
     "name": "stderr",
     "output_type": "stream",
     "text": [
      "\n"
     ]
    },
    {
     "name": "stdout",
     "output_type": "stream",
     "text": [
      "\n",
      "      Epoch    GPU_mem   box_loss   cls_loss   dfl_loss  Instances       Size\n"
     ]
    },
    {
     "name": "stderr",
     "output_type": "stream",
     "text": [
      "     38/200      1.12G       1.54      1.969       1.58         24        416: 100%|██████████| 20/20 [00:01<00:00, 11.41it/s]\n",
      "                 Class     Images  Instances      Box(P          R      mAP50  mAP50-95): 100%|██████████| 3/3 [00:00<00:00,  8.00it/s]"
     ]
    },
    {
     "name": "stdout",
     "output_type": "stream",
     "text": [
      "                   all         78        193      0.276      0.286      0.219     0.0901\n"
     ]
    },
    {
     "name": "stderr",
     "output_type": "stream",
     "text": [
      "\n"
     ]
    },
    {
     "name": "stdout",
     "output_type": "stream",
     "text": [
      "\n",
      "      Epoch    GPU_mem   box_loss   cls_loss   dfl_loss  Instances       Size\n"
     ]
    },
    {
     "name": "stderr",
     "output_type": "stream",
     "text": [
      "     39/200      1.12G      1.535      1.989      1.569         28        416: 100%|██████████| 20/20 [00:01<00:00, 11.18it/s]\n",
      "                 Class     Images  Instances      Box(P          R      mAP50  mAP50-95): 100%|██████████| 3/3 [00:00<00:00,  8.15it/s]"
     ]
    },
    {
     "name": "stdout",
     "output_type": "stream",
     "text": [
      "                   all         78        193       0.19      0.306        0.2     0.0759\n"
     ]
    },
    {
     "name": "stderr",
     "output_type": "stream",
     "text": [
      "\n"
     ]
    },
    {
     "name": "stdout",
     "output_type": "stream",
     "text": [
      "\n",
      "      Epoch    GPU_mem   box_loss   cls_loss   dfl_loss  Instances       Size\n"
     ]
    },
    {
     "name": "stderr",
     "output_type": "stream",
     "text": [
      "     40/200      1.11G      1.504      2.002      1.556         38        416: 100%|██████████| 20/20 [00:01<00:00, 11.62it/s]\n",
      "                 Class     Images  Instances      Box(P          R      mAP50  mAP50-95): 100%|██████████| 3/3 [00:00<00:00,  8.49it/s]"
     ]
    },
    {
     "name": "stdout",
     "output_type": "stream",
     "text": [
      "                   all         78        193       0.18      0.317      0.164     0.0645\n"
     ]
    },
    {
     "name": "stderr",
     "output_type": "stream",
     "text": [
      "\n"
     ]
    },
    {
     "name": "stdout",
     "output_type": "stream",
     "text": [
      "\n",
      "      Epoch    GPU_mem   box_loss   cls_loss   dfl_loss  Instances       Size\n"
     ]
    },
    {
     "name": "stderr",
     "output_type": "stream",
     "text": [
      "     41/200      1.12G      1.509      1.863      1.525         32        416: 100%|██████████| 20/20 [00:01<00:00, 11.70it/s]\n",
      "                 Class     Images  Instances      Box(P          R      mAP50  mAP50-95): 100%|██████████| 3/3 [00:00<00:00,  9.26it/s]\n"
     ]
    },
    {
     "name": "stdout",
     "output_type": "stream",
     "text": [
      "                   all         78        193      0.233       0.26      0.201     0.0831\n",
      "\n",
      "      Epoch    GPU_mem   box_loss   cls_loss   dfl_loss  Instances       Size\n"
     ]
    },
    {
     "name": "stderr",
     "output_type": "stream",
     "text": [
      "     42/200      1.11G      1.437      1.839      1.511         43        416: 100%|██████████| 20/20 [00:01<00:00, 11.75it/s]\n",
      "                 Class     Images  Instances      Box(P          R      mAP50  mAP50-95): 100%|██████████| 3/3 [00:00<00:00,  8.55it/s]"
     ]
    },
    {
     "name": "stdout",
     "output_type": "stream",
     "text": [
      "                   all         78        193      0.236      0.328      0.211     0.0897\n"
     ]
    },
    {
     "name": "stderr",
     "output_type": "stream",
     "text": [
      "\n"
     ]
    },
    {
     "name": "stdout",
     "output_type": "stream",
     "text": [
      "\n",
      "      Epoch    GPU_mem   box_loss   cls_loss   dfl_loss  Instances       Size\n"
     ]
    },
    {
     "name": "stderr",
     "output_type": "stream",
     "text": [
      "     43/200      1.12G      1.471      1.793      1.505         22        416: 100%|██████████| 20/20 [00:01<00:00, 11.92it/s]\n",
      "                 Class     Images  Instances      Box(P          R      mAP50  mAP50-95): 100%|██████████| 3/3 [00:00<00:00,  7.94it/s]"
     ]
    },
    {
     "name": "stdout",
     "output_type": "stream",
     "text": [
      "                   all         78        193      0.232      0.211      0.198     0.0785\n"
     ]
    },
    {
     "name": "stderr",
     "output_type": "stream",
     "text": [
      "\n"
     ]
    },
    {
     "name": "stdout",
     "output_type": "stream",
     "text": [
      "\n",
      "      Epoch    GPU_mem   box_loss   cls_loss   dfl_loss  Instances       Size\n"
     ]
    },
    {
     "name": "stderr",
     "output_type": "stream",
     "text": [
      "     44/200      1.12G      1.482      1.853      1.524         33        416: 100%|██████████| 20/20 [00:01<00:00, 11.14it/s]\n",
      "                 Class     Images  Instances      Box(P          R      mAP50  mAP50-95): 100%|██████████| 3/3 [00:00<00:00,  7.82it/s]"
     ]
    },
    {
     "name": "stdout",
     "output_type": "stream",
     "text": [
      "                   all         78        193      0.252      0.261      0.239     0.0902\n"
     ]
    },
    {
     "name": "stderr",
     "output_type": "stream",
     "text": [
      "\n"
     ]
    },
    {
     "name": "stdout",
     "output_type": "stream",
     "text": [
      "\n",
      "      Epoch    GPU_mem   box_loss   cls_loss   dfl_loss  Instances       Size\n"
     ]
    },
    {
     "name": "stderr",
     "output_type": "stream",
     "text": [
      "     45/200      1.12G      1.475      1.847      1.505         34        416: 100%|██████████| 20/20 [00:01<00:00, 11.61it/s]\n",
      "                 Class     Images  Instances      Box(P          R      mAP50  mAP50-95): 100%|██████████| 3/3 [00:00<00:00,  8.93it/s]"
     ]
    },
    {
     "name": "stdout",
     "output_type": "stream",
     "text": [
      "                   all         78        193      0.232      0.278      0.213     0.0868\n"
     ]
    },
    {
     "name": "stderr",
     "output_type": "stream",
     "text": [
      "\n"
     ]
    },
    {
     "name": "stdout",
     "output_type": "stream",
     "text": [
      "\n",
      "      Epoch    GPU_mem   box_loss   cls_loss   dfl_loss  Instances       Size\n"
     ]
    },
    {
     "name": "stderr",
     "output_type": "stream",
     "text": [
      "     46/200      1.12G      1.467      1.815       1.52         26        416: 100%|██████████| 20/20 [00:01<00:00, 11.41it/s]\n",
      "                 Class     Images  Instances      Box(P          R      mAP50  mAP50-95): 100%|██████████| 3/3 [00:00<00:00,  8.10it/s]"
     ]
    },
    {
     "name": "stdout",
     "output_type": "stream",
     "text": [
      "                   all         78        193      0.199      0.344      0.208     0.0895\n"
     ]
    },
    {
     "name": "stderr",
     "output_type": "stream",
     "text": [
      "\n"
     ]
    },
    {
     "name": "stdout",
     "output_type": "stream",
     "text": [
      "\n",
      "      Epoch    GPU_mem   box_loss   cls_loss   dfl_loss  Instances       Size\n"
     ]
    },
    {
     "name": "stderr",
     "output_type": "stream",
     "text": [
      "     47/200      1.12G      1.438      1.742      1.487         40        416: 100%|██████████| 20/20 [00:01<00:00, 11.28it/s]\n",
      "                 Class     Images  Instances      Box(P          R      mAP50  mAP50-95): 100%|██████████| 3/3 [00:00<00:00,  8.74it/s]"
     ]
    },
    {
     "name": "stdout",
     "output_type": "stream",
     "text": [
      "                   all         78        193      0.234      0.345      0.229     0.0877\n"
     ]
    },
    {
     "name": "stderr",
     "output_type": "stream",
     "text": [
      "\n"
     ]
    },
    {
     "name": "stdout",
     "output_type": "stream",
     "text": [
      "\n",
      "      Epoch    GPU_mem   box_loss   cls_loss   dfl_loss  Instances       Size\n"
     ]
    },
    {
     "name": "stderr",
     "output_type": "stream",
     "text": [
      "     48/200      1.12G      1.446      1.742      1.501         52        416: 100%|██████████| 20/20 [00:01<00:00, 11.40it/s]\n",
      "                 Class     Images  Instances      Box(P          R      mAP50  mAP50-95): 100%|██████████| 3/3 [00:00<00:00,  8.41it/s]"
     ]
    },
    {
     "name": "stdout",
     "output_type": "stream",
     "text": [
      "                   all         78        193      0.264      0.258      0.202     0.0853\n"
     ]
    },
    {
     "name": "stderr",
     "output_type": "stream",
     "text": [
      "\n"
     ]
    },
    {
     "name": "stdout",
     "output_type": "stream",
     "text": [
      "\n",
      "      Epoch    GPU_mem   box_loss   cls_loss   dfl_loss  Instances       Size\n"
     ]
    },
    {
     "name": "stderr",
     "output_type": "stream",
     "text": [
      "     49/200      1.11G       1.41      1.702      1.447         40        416: 100%|██████████| 20/20 [00:01<00:00, 11.35it/s]\n",
      "                 Class     Images  Instances      Box(P          R      mAP50  mAP50-95): 100%|██████████| 3/3 [00:00<00:00,  7.66it/s]"
     ]
    },
    {
     "name": "stdout",
     "output_type": "stream",
     "text": [
      "                   all         78        193      0.272      0.262      0.218     0.0803\n"
     ]
    },
    {
     "name": "stderr",
     "output_type": "stream",
     "text": [
      "\n"
     ]
    },
    {
     "name": "stdout",
     "output_type": "stream",
     "text": [
      "\n",
      "      Epoch    GPU_mem   box_loss   cls_loss   dfl_loss  Instances       Size\n"
     ]
    },
    {
     "name": "stderr",
     "output_type": "stream",
     "text": [
      "     50/200      1.12G      1.394      1.675      1.441         34        416: 100%|██████████| 20/20 [00:01<00:00, 11.38it/s]\n",
      "                 Class     Images  Instances      Box(P          R      mAP50  mAP50-95): 100%|██████████| 3/3 [00:00<00:00,  7.73it/s]"
     ]
    },
    {
     "name": "stdout",
     "output_type": "stream",
     "text": [
      "                   all         78        193      0.233      0.279      0.187     0.0741\n"
     ]
    },
    {
     "name": "stderr",
     "output_type": "stream",
     "text": [
      "\n"
     ]
    },
    {
     "name": "stdout",
     "output_type": "stream",
     "text": [
      "\n",
      "      Epoch    GPU_mem   box_loss   cls_loss   dfl_loss  Instances       Size\n"
     ]
    },
    {
     "name": "stderr",
     "output_type": "stream",
     "text": [
      "     51/200      1.11G      1.455      1.736      1.486         44        416: 100%|██████████| 20/20 [00:01<00:00, 11.64it/s]\n",
      "                 Class     Images  Instances      Box(P          R      mAP50  mAP50-95): 100%|██████████| 3/3 [00:00<00:00,  8.50it/s]"
     ]
    },
    {
     "name": "stdout",
     "output_type": "stream",
     "text": [
      "                   all         78        193      0.235      0.349       0.24     0.0927\n"
     ]
    },
    {
     "name": "stderr",
     "output_type": "stream",
     "text": [
      "\n"
     ]
    },
    {
     "name": "stdout",
     "output_type": "stream",
     "text": [
      "\n",
      "      Epoch    GPU_mem   box_loss   cls_loss   dfl_loss  Instances       Size\n"
     ]
    },
    {
     "name": "stderr",
     "output_type": "stream",
     "text": [
      "     52/200      1.11G      1.429      1.701      1.462         49        416: 100%|██████████| 20/20 [00:01<00:00, 11.66it/s]\n",
      "                 Class     Images  Instances      Box(P          R      mAP50  mAP50-95): 100%|██████████| 3/3 [00:00<00:00,  8.50it/s]"
     ]
    },
    {
     "name": "stdout",
     "output_type": "stream",
     "text": [
      "                   all         78        193      0.194      0.336      0.216     0.0965\n"
     ]
    },
    {
     "name": "stderr",
     "output_type": "stream",
     "text": [
      "\n"
     ]
    },
    {
     "name": "stdout",
     "output_type": "stream",
     "text": [
      "\n",
      "      Epoch    GPU_mem   box_loss   cls_loss   dfl_loss  Instances       Size\n"
     ]
    },
    {
     "name": "stderr",
     "output_type": "stream",
     "text": [
      "     53/200      1.11G      1.428      1.677      1.458         41        416: 100%|██████████| 20/20 [00:01<00:00, 11.50it/s]\n",
      "                 Class     Images  Instances      Box(P          R      mAP50  mAP50-95): 100%|██████████| 3/3 [00:00<00:00,  8.84it/s]"
     ]
    },
    {
     "name": "stdout",
     "output_type": "stream",
     "text": [
      "                   all         78        193      0.279       0.31      0.258      0.101\n"
     ]
    },
    {
     "name": "stderr",
     "output_type": "stream",
     "text": [
      "\n"
     ]
    },
    {
     "name": "stdout",
     "output_type": "stream",
     "text": [
      "\n",
      "      Epoch    GPU_mem   box_loss   cls_loss   dfl_loss  Instances       Size\n"
     ]
    },
    {
     "name": "stderr",
     "output_type": "stream",
     "text": [
      "     54/200      1.11G      1.404      1.688      1.465         26        416: 100%|██████████| 20/20 [00:01<00:00, 11.68it/s]\n",
      "                 Class     Images  Instances      Box(P          R      mAP50  mAP50-95): 100%|██████████| 3/3 [00:00<00:00,  8.66it/s]"
     ]
    },
    {
     "name": "stdout",
     "output_type": "stream",
     "text": [
      "                   all         78        193      0.277       0.27      0.234     0.0999\n"
     ]
    },
    {
     "name": "stderr",
     "output_type": "stream",
     "text": [
      "\n"
     ]
    },
    {
     "name": "stdout",
     "output_type": "stream",
     "text": [
      "\n",
      "      Epoch    GPU_mem   box_loss   cls_loss   dfl_loss  Instances       Size\n"
     ]
    },
    {
     "name": "stderr",
     "output_type": "stream",
     "text": [
      "     55/200      1.12G      1.388      1.666      1.437         41        416: 100%|██████████| 20/20 [00:01<00:00, 11.10it/s]\n",
      "                 Class     Images  Instances      Box(P          R      mAP50  mAP50-95): 100%|██████████| 3/3 [00:00<00:00,  8.97it/s]\n"
     ]
    },
    {
     "name": "stdout",
     "output_type": "stream",
     "text": [
      "                   all         78        193       0.28      0.224       0.22     0.0983\n",
      "\n",
      "      Epoch    GPU_mem   box_loss   cls_loss   dfl_loss  Instances       Size\n"
     ]
    },
    {
     "name": "stderr",
     "output_type": "stream",
     "text": [
      "     56/200      1.11G      1.414      1.633      1.461         33        416: 100%|██████████| 20/20 [00:01<00:00, 11.39it/s]\n",
      "                 Class     Images  Instances      Box(P          R      mAP50  mAP50-95): 100%|██████████| 3/3 [00:00<00:00,  8.13it/s]"
     ]
    },
    {
     "name": "stdout",
     "output_type": "stream",
     "text": [
      "                   all         78        193      0.267      0.305      0.244        0.1\n"
     ]
    },
    {
     "name": "stderr",
     "output_type": "stream",
     "text": [
      "\n"
     ]
    },
    {
     "name": "stdout",
     "output_type": "stream",
     "text": [
      "\n",
      "      Epoch    GPU_mem   box_loss   cls_loss   dfl_loss  Instances       Size\n"
     ]
    },
    {
     "name": "stderr",
     "output_type": "stream",
     "text": [
      "     57/200      1.11G      1.394      1.642       1.43         23        416: 100%|██████████| 20/20 [00:01<00:00, 11.46it/s]\n",
      "                 Class     Images  Instances      Box(P          R      mAP50  mAP50-95): 100%|██████████| 3/3 [00:00<00:00,  7.97it/s]"
     ]
    },
    {
     "name": "stdout",
     "output_type": "stream",
     "text": [
      "                   all         78        193      0.262       0.37      0.253     0.0969\n"
     ]
    },
    {
     "name": "stderr",
     "output_type": "stream",
     "text": [
      "\n"
     ]
    },
    {
     "name": "stdout",
     "output_type": "stream",
     "text": [
      "\n",
      "      Epoch    GPU_mem   box_loss   cls_loss   dfl_loss  Instances       Size\n"
     ]
    },
    {
     "name": "stderr",
     "output_type": "stream",
     "text": [
      "     58/200      1.11G      1.407      1.604       1.45         23        416: 100%|██████████| 20/20 [00:01<00:00, 11.48it/s]\n",
      "                 Class     Images  Instances      Box(P          R      mAP50  mAP50-95): 100%|██████████| 3/3 [00:00<00:00,  9.02it/s]"
     ]
    },
    {
     "name": "stdout",
     "output_type": "stream",
     "text": [
      "                   all         78        193      0.195      0.247       0.17     0.0754\n"
     ]
    },
    {
     "name": "stderr",
     "output_type": "stream",
     "text": [
      "\n"
     ]
    },
    {
     "name": "stdout",
     "output_type": "stream",
     "text": [
      "\n",
      "      Epoch    GPU_mem   box_loss   cls_loss   dfl_loss  Instances       Size\n"
     ]
    },
    {
     "name": "stderr",
     "output_type": "stream",
     "text": [
      "     59/200      1.11G      1.347      1.532      1.397         45        416: 100%|██████████| 20/20 [00:01<00:00, 11.23it/s]\n",
      "                 Class     Images  Instances      Box(P          R      mAP50  mAP50-95): 100%|██████████| 3/3 [00:00<00:00,  8.52it/s]"
     ]
    },
    {
     "name": "stdout",
     "output_type": "stream",
     "text": [
      "                   all         78        193      0.175      0.291      0.145     0.0575\n"
     ]
    },
    {
     "name": "stderr",
     "output_type": "stream",
     "text": [
      "\n"
     ]
    },
    {
     "name": "stdout",
     "output_type": "stream",
     "text": [
      "\n",
      "      Epoch    GPU_mem   box_loss   cls_loss   dfl_loss  Instances       Size\n"
     ]
    },
    {
     "name": "stderr",
     "output_type": "stream",
     "text": [
      "     60/200      1.12G      1.368      1.575      1.422         35        416: 100%|██████████| 20/20 [00:01<00:00, 11.21it/s]\n",
      "                 Class     Images  Instances      Box(P          R      mAP50  mAP50-95): 100%|██████████| 3/3 [00:00<00:00,  9.12it/s]"
     ]
    },
    {
     "name": "stdout",
     "output_type": "stream",
     "text": [
      "                   all         78        193      0.255      0.285      0.201     0.0754\n"
     ]
    },
    {
     "name": "stderr",
     "output_type": "stream",
     "text": [
      "\n"
     ]
    },
    {
     "name": "stdout",
     "output_type": "stream",
     "text": [
      "\n",
      "      Epoch    GPU_mem   box_loss   cls_loss   dfl_loss  Instances       Size\n"
     ]
    },
    {
     "name": "stderr",
     "output_type": "stream",
     "text": [
      "     61/200      1.12G      1.325      1.501      1.387         33        416: 100%|██████████| 20/20 [00:01<00:00, 11.83it/s]\n",
      "                 Class     Images  Instances      Box(P          R      mAP50  mAP50-95): 100%|██████████| 3/3 [00:00<00:00,  8.33it/s]\n"
     ]
    },
    {
     "name": "stdout",
     "output_type": "stream",
     "text": [
      "                   all         78        193      0.303      0.187       0.19     0.0755\n",
      "\n",
      "      Epoch    GPU_mem   box_loss   cls_loss   dfl_loss  Instances       Size\n"
     ]
    },
    {
     "name": "stderr",
     "output_type": "stream",
     "text": [
      "     62/200      1.12G      1.349      1.495      1.418         25        416: 100%|██████████| 20/20 [00:01<00:00, 11.63it/s]\n",
      "                 Class     Images  Instances      Box(P          R      mAP50  mAP50-95): 100%|██████████| 3/3 [00:00<00:00,  9.68it/s]"
     ]
    },
    {
     "name": "stdout",
     "output_type": "stream",
     "text": [
      "                   all         78        193      0.292      0.316      0.221     0.0863\n"
     ]
    },
    {
     "name": "stderr",
     "output_type": "stream",
     "text": [
      "\n"
     ]
    },
    {
     "name": "stdout",
     "output_type": "stream",
     "text": [
      "\n",
      "      Epoch    GPU_mem   box_loss   cls_loss   dfl_loss  Instances       Size\n"
     ]
    },
    {
     "name": "stderr",
     "output_type": "stream",
     "text": [
      "     63/200      1.12G      1.328       1.49      1.397         39        416: 100%|██████████| 20/20 [00:01<00:00, 11.63it/s]\n",
      "                 Class     Images  Instances      Box(P          R      mAP50  mAP50-95): 100%|██████████| 3/3 [00:00<00:00,  8.66it/s]"
     ]
    },
    {
     "name": "stdout",
     "output_type": "stream",
     "text": [
      "                   all         78        193      0.461       0.26      0.291      0.112\n"
     ]
    },
    {
     "name": "stderr",
     "output_type": "stream",
     "text": [
      "\n"
     ]
    },
    {
     "name": "stdout",
     "output_type": "stream",
     "text": [
      "\n",
      "      Epoch    GPU_mem   box_loss   cls_loss   dfl_loss  Instances       Size\n"
     ]
    },
    {
     "name": "stderr",
     "output_type": "stream",
     "text": [
      "     64/200      1.11G      1.351      1.544      1.405         58        416: 100%|██████████| 20/20 [00:01<00:00, 11.77it/s]\n",
      "                 Class     Images  Instances      Box(P          R      mAP50  mAP50-95): 100%|██████████| 3/3 [00:00<00:00,  9.14it/s]\n"
     ]
    },
    {
     "name": "stdout",
     "output_type": "stream",
     "text": [
      "                   all         78        193      0.366      0.322      0.273      0.119\n",
      "\n",
      "      Epoch    GPU_mem   box_loss   cls_loss   dfl_loss  Instances       Size\n"
     ]
    },
    {
     "name": "stderr",
     "output_type": "stream",
     "text": [
      "     65/200      1.11G      1.353        1.5      1.396         30        416: 100%|██████████| 20/20 [00:01<00:00, 11.23it/s]\n",
      "                 Class     Images  Instances      Box(P          R      mAP50  mAP50-95): 100%|██████████| 3/3 [00:00<00:00,  8.20it/s]"
     ]
    },
    {
     "name": "stdout",
     "output_type": "stream",
     "text": [
      "                   all         78        193      0.354      0.245      0.243     0.0959\n"
     ]
    },
    {
     "name": "stderr",
     "output_type": "stream",
     "text": [
      "\n"
     ]
    },
    {
     "name": "stdout",
     "output_type": "stream",
     "text": [
      "\n",
      "      Epoch    GPU_mem   box_loss   cls_loss   dfl_loss  Instances       Size\n"
     ]
    },
    {
     "name": "stderr",
     "output_type": "stream",
     "text": [
      "     66/200      1.12G      1.301      1.457      1.385         30        416: 100%|██████████| 20/20 [00:01<00:00, 11.25it/s]\n",
      "                 Class     Images  Instances      Box(P          R      mAP50  mAP50-95): 100%|██████████| 3/3 [00:00<00:00,  9.84it/s]"
     ]
    },
    {
     "name": "stdout",
     "output_type": "stream",
     "text": [
      "                   all         78        193      0.271      0.366      0.278      0.107\n"
     ]
    },
    {
     "name": "stderr",
     "output_type": "stream",
     "text": [
      "\n"
     ]
    },
    {
     "name": "stdout",
     "output_type": "stream",
     "text": [
      "\n",
      "      Epoch    GPU_mem   box_loss   cls_loss   dfl_loss  Instances       Size\n"
     ]
    },
    {
     "name": "stderr",
     "output_type": "stream",
     "text": [
      "     67/200      1.12G      1.301      1.411      1.382         31        416: 100%|██████████| 20/20 [00:01<00:00, 11.58it/s]\n",
      "                 Class     Images  Instances      Box(P          R      mAP50  mAP50-95): 100%|██████████| 3/3 [00:00<00:00,  8.38it/s]"
     ]
    },
    {
     "name": "stdout",
     "output_type": "stream",
     "text": [
      "                   all         78        193      0.247      0.357      0.248      0.101\n"
     ]
    },
    {
     "name": "stderr",
     "output_type": "stream",
     "text": [
      "\n"
     ]
    },
    {
     "name": "stdout",
     "output_type": "stream",
     "text": [
      "\n",
      "      Epoch    GPU_mem   box_loss   cls_loss   dfl_loss  Instances       Size\n"
     ]
    },
    {
     "name": "stderr",
     "output_type": "stream",
     "text": [
      "     68/200      1.11G      1.298      1.433      1.383         41        416: 100%|██████████| 20/20 [00:01<00:00, 11.73it/s]\n",
      "                 Class     Images  Instances      Box(P          R      mAP50  mAP50-95): 100%|██████████| 3/3 [00:00<00:00,  9.47it/s]\n"
     ]
    },
    {
     "name": "stdout",
     "output_type": "stream",
     "text": [
      "                   all         78        193      0.254      0.357      0.261     0.0998\n",
      "\n",
      "      Epoch    GPU_mem   box_loss   cls_loss   dfl_loss  Instances       Size\n"
     ]
    },
    {
     "name": "stderr",
     "output_type": "stream",
     "text": [
      "     69/200      1.12G      1.305      1.413      1.378         33        416: 100%|██████████| 20/20 [00:01<00:00, 11.75it/s]\n",
      "                 Class     Images  Instances      Box(P          R      mAP50  mAP50-95): 100%|██████████| 3/3 [00:00<00:00,  9.03it/s]"
     ]
    },
    {
     "name": "stdout",
     "output_type": "stream",
     "text": [
      "                   all         78        193      0.396      0.299      0.293      0.113\n"
     ]
    },
    {
     "name": "stderr",
     "output_type": "stream",
     "text": [
      "\n"
     ]
    },
    {
     "name": "stdout",
     "output_type": "stream",
     "text": [
      "\n",
      "      Epoch    GPU_mem   box_loss   cls_loss   dfl_loss  Instances       Size\n"
     ]
    },
    {
     "name": "stderr",
     "output_type": "stream",
     "text": [
      "     70/200      1.12G      1.287      1.403      1.367         37        416: 100%|██████████| 20/20 [00:01<00:00, 11.60it/s]\n",
      "                 Class     Images  Instances      Box(P          R      mAP50  mAP50-95): 100%|██████████| 3/3 [00:00<00:00,  8.59it/s]\n"
     ]
    },
    {
     "name": "stdout",
     "output_type": "stream",
     "text": [
      "                   all         78        193      0.341      0.298      0.268      0.106\n",
      "\n",
      "      Epoch    GPU_mem   box_loss   cls_loss   dfl_loss  Instances       Size\n"
     ]
    },
    {
     "name": "stderr",
     "output_type": "stream",
     "text": [
      "     71/200      1.11G       1.25      1.372      1.341         31        416: 100%|██████████| 20/20 [00:01<00:00, 11.05it/s]\n",
      "                 Class     Images  Instances      Box(P          R      mAP50  mAP50-95): 100%|██████████| 3/3 [00:00<00:00,  8.78it/s]"
     ]
    },
    {
     "name": "stdout",
     "output_type": "stream",
     "text": [
      "                   all         78        193      0.301      0.347      0.248     0.0974\n"
     ]
    },
    {
     "name": "stderr",
     "output_type": "stream",
     "text": [
      "\n"
     ]
    },
    {
     "name": "stdout",
     "output_type": "stream",
     "text": [
      "\n",
      "      Epoch    GPU_mem   box_loss   cls_loss   dfl_loss  Instances       Size\n"
     ]
    },
    {
     "name": "stderr",
     "output_type": "stream",
     "text": [
      "     72/200      1.11G      1.301      1.391      1.356         44        416: 100%|██████████| 20/20 [00:01<00:00, 11.91it/s]\n",
      "                 Class     Images  Instances      Box(P          R      mAP50  mAP50-95): 100%|██████████| 3/3 [00:00<00:00,  9.79it/s]"
     ]
    },
    {
     "name": "stdout",
     "output_type": "stream",
     "text": [
      "                   all         78        193      0.255      0.231      0.215     0.0817\n"
     ]
    },
    {
     "name": "stderr",
     "output_type": "stream",
     "text": [
      "\n"
     ]
    },
    {
     "name": "stdout",
     "output_type": "stream",
     "text": [
      "\n",
      "      Epoch    GPU_mem   box_loss   cls_loss   dfl_loss  Instances       Size\n"
     ]
    },
    {
     "name": "stderr",
     "output_type": "stream",
     "text": [
      "     73/200      1.11G      1.292      1.399      1.363         27        416: 100%|██████████| 20/20 [00:01<00:00, 11.89it/s]\n",
      "                 Class     Images  Instances      Box(P          R      mAP50  mAP50-95): 100%|██████████| 3/3 [00:00<00:00,  9.04it/s]\n"
     ]
    },
    {
     "name": "stdout",
     "output_type": "stream",
     "text": [
      "                   all         78        193        0.3      0.366      0.277      0.106\n",
      "\n",
      "      Epoch    GPU_mem   box_loss   cls_loss   dfl_loss  Instances       Size\n"
     ]
    },
    {
     "name": "stderr",
     "output_type": "stream",
     "text": [
      "     74/200      1.11G      1.297      1.418      1.371         48        416: 100%|██████████| 20/20 [00:01<00:00, 11.61it/s]\n",
      "                 Class     Images  Instances      Box(P          R      mAP50  mAP50-95): 100%|██████████| 3/3 [00:00<00:00,  8.59it/s]"
     ]
    },
    {
     "name": "stdout",
     "output_type": "stream",
     "text": [
      "                   all         78        193      0.323      0.363      0.278     0.0986\n"
     ]
    },
    {
     "name": "stderr",
     "output_type": "stream",
     "text": [
      "\n"
     ]
    },
    {
     "name": "stdout",
     "output_type": "stream",
     "text": [
      "\n",
      "      Epoch    GPU_mem   box_loss   cls_loss   dfl_loss  Instances       Size\n"
     ]
    },
    {
     "name": "stderr",
     "output_type": "stream",
     "text": [
      "     75/200      1.12G      1.244      1.331      1.343         32        416: 100%|██████████| 20/20 [00:01<00:00, 11.55it/s]\n",
      "                 Class     Images  Instances      Box(P          R      mAP50  mAP50-95): 100%|██████████| 3/3 [00:00<00:00,  8.56it/s]\n"
     ]
    },
    {
     "name": "stdout",
     "output_type": "stream",
     "text": [
      "                   all         78        193       0.33      0.297      0.268        0.1\n",
      "\n",
      "      Epoch    GPU_mem   box_loss   cls_loss   dfl_loss  Instances       Size\n"
     ]
    },
    {
     "name": "stderr",
     "output_type": "stream",
     "text": [
      "     76/200      1.11G      1.252      1.339      1.346         36        416: 100%|██████████| 20/20 [00:01<00:00, 11.17it/s]\n",
      "                 Class     Images  Instances      Box(P          R      mAP50  mAP50-95): 100%|██████████| 3/3 [00:00<00:00,  9.76it/s]"
     ]
    },
    {
     "name": "stdout",
     "output_type": "stream",
     "text": [
      "                   all         78        193      0.369      0.299       0.25     0.0939\n"
     ]
    },
    {
     "name": "stderr",
     "output_type": "stream",
     "text": [
      "\n"
     ]
    },
    {
     "name": "stdout",
     "output_type": "stream",
     "text": [
      "\n",
      "      Epoch    GPU_mem   box_loss   cls_loss   dfl_loss  Instances       Size\n"
     ]
    },
    {
     "name": "stderr",
     "output_type": "stream",
     "text": [
      "     77/200      1.11G      1.271      1.308      1.348         47        416: 100%|██████████| 20/20 [00:01<00:00, 11.51it/s]\n",
      "                 Class     Images  Instances      Box(P          R      mAP50  mAP50-95): 100%|██████████| 3/3 [00:00<00:00,  9.82it/s]"
     ]
    },
    {
     "name": "stdout",
     "output_type": "stream",
     "text": [
      "                   all         78        193      0.422      0.283      0.294      0.126\n"
     ]
    },
    {
     "name": "stderr",
     "output_type": "stream",
     "text": [
      "\n"
     ]
    },
    {
     "name": "stdout",
     "output_type": "stream",
     "text": [
      "\n",
      "      Epoch    GPU_mem   box_loss   cls_loss   dfl_loss  Instances       Size\n"
     ]
    },
    {
     "name": "stderr",
     "output_type": "stream",
     "text": [
      "     78/200      1.12G      1.256      1.304      1.349         34        416: 100%|██████████| 20/20 [00:01<00:00, 11.42it/s]\n",
      "                 Class     Images  Instances      Box(P          R      mAP50  mAP50-95): 100%|██████████| 3/3 [00:00<00:00,  8.89it/s]"
     ]
    },
    {
     "name": "stdout",
     "output_type": "stream",
     "text": [
      "                   all         78        193      0.345      0.354      0.306      0.118\n"
     ]
    },
    {
     "name": "stderr",
     "output_type": "stream",
     "text": [
      "\n"
     ]
    },
    {
     "name": "stdout",
     "output_type": "stream",
     "text": [
      "\n",
      "      Epoch    GPU_mem   box_loss   cls_loss   dfl_loss  Instances       Size\n"
     ]
    },
    {
     "name": "stderr",
     "output_type": "stream",
     "text": [
      "     79/200      1.12G      1.256        1.3       1.33         43        416: 100%|██████████| 20/20 [00:01<00:00, 11.54it/s]\n",
      "                 Class     Images  Instances      Box(P          R      mAP50  mAP50-95): 100%|██████████| 3/3 [00:00<00:00,  9.21it/s]\n"
     ]
    },
    {
     "name": "stdout",
     "output_type": "stream",
     "text": [
      "                   all         78        193      0.307       0.36      0.297      0.121\n",
      "\n",
      "      Epoch    GPU_mem   box_loss   cls_loss   dfl_loss  Instances       Size\n"
     ]
    },
    {
     "name": "stderr",
     "output_type": "stream",
     "text": [
      "     80/200      1.11G      1.244       1.28      1.319         40        416: 100%|██████████| 20/20 [00:01<00:00, 11.40it/s]\n",
      "                 Class     Images  Instances      Box(P          R      mAP50  mAP50-95): 100%|██████████| 3/3 [00:00<00:00,  9.07it/s]\n"
     ]
    },
    {
     "name": "stdout",
     "output_type": "stream",
     "text": [
      "                   all         78        193      0.234      0.317      0.236     0.0902\n",
      "\n",
      "      Epoch    GPU_mem   box_loss   cls_loss   dfl_loss  Instances       Size\n"
     ]
    },
    {
     "name": "stderr",
     "output_type": "stream",
     "text": [
      "     81/200      1.12G      1.225      1.267      1.334         40        416: 100%|██████████| 20/20 [00:01<00:00, 10.96it/s]\n",
      "                 Class     Images  Instances      Box(P          R      mAP50  mAP50-95): 100%|██████████| 3/3 [00:00<00:00,  7.81it/s]"
     ]
    },
    {
     "name": "stdout",
     "output_type": "stream",
     "text": [
      "                   all         78        193      0.347      0.301      0.243     0.0981\n"
     ]
    },
    {
     "name": "stderr",
     "output_type": "stream",
     "text": [
      "\n"
     ]
    },
    {
     "name": "stdout",
     "output_type": "stream",
     "text": [
      "\n",
      "      Epoch    GPU_mem   box_loss   cls_loss   dfl_loss  Instances       Size\n"
     ]
    },
    {
     "name": "stderr",
     "output_type": "stream",
     "text": [
      "     82/200      1.12G      1.233      1.241      1.325         39        416: 100%|██████████| 20/20 [00:01<00:00, 11.39it/s]\n",
      "                 Class     Images  Instances      Box(P          R      mAP50  mAP50-95): 100%|██████████| 3/3 [00:00<00:00,  8.44it/s]"
     ]
    },
    {
     "name": "stdout",
     "output_type": "stream",
     "text": [
      "                   all         78        193      0.305      0.316      0.254     0.0969\n"
     ]
    },
    {
     "name": "stderr",
     "output_type": "stream",
     "text": [
      "\n"
     ]
    },
    {
     "name": "stdout",
     "output_type": "stream",
     "text": [
      "\n",
      "      Epoch    GPU_mem   box_loss   cls_loss   dfl_loss  Instances       Size\n"
     ]
    },
    {
     "name": "stderr",
     "output_type": "stream",
     "text": [
      "     83/200      1.11G      1.201      1.191      1.288         45        416: 100%|██████████| 20/20 [00:01<00:00, 11.52it/s]\n",
      "                 Class     Images  Instances      Box(P          R      mAP50  mAP50-95): 100%|██████████| 3/3 [00:00<00:00,  8.56it/s]"
     ]
    },
    {
     "name": "stdout",
     "output_type": "stream",
     "text": [
      "                   all         78        193      0.436      0.263      0.256     0.0928\n"
     ]
    },
    {
     "name": "stderr",
     "output_type": "stream",
     "text": [
      "\n"
     ]
    },
    {
     "name": "stdout",
     "output_type": "stream",
     "text": [
      "\n",
      "      Epoch    GPU_mem   box_loss   cls_loss   dfl_loss  Instances       Size\n"
     ]
    },
    {
     "name": "stderr",
     "output_type": "stream",
     "text": [
      "     84/200      1.12G      1.193      1.211       1.28         35        416: 100%|██████████| 20/20 [00:01<00:00, 11.61it/s]\n",
      "                 Class     Images  Instances      Box(P          R      mAP50  mAP50-95): 100%|██████████| 3/3 [00:00<00:00,  8.50it/s]"
     ]
    },
    {
     "name": "stdout",
     "output_type": "stream",
     "text": [
      "                   all         78        193      0.292      0.313      0.255      0.105\n"
     ]
    },
    {
     "name": "stderr",
     "output_type": "stream",
     "text": [
      "\n"
     ]
    },
    {
     "name": "stdout",
     "output_type": "stream",
     "text": [
      "\n",
      "      Epoch    GPU_mem   box_loss   cls_loss   dfl_loss  Instances       Size\n"
     ]
    },
    {
     "name": "stderr",
     "output_type": "stream",
     "text": [
      "     85/200      1.12G      1.202      1.253      1.297         29        416: 100%|██████████| 20/20 [00:01<00:00, 11.87it/s]\n",
      "                 Class     Images  Instances      Box(P          R      mAP50  mAP50-95): 100%|██████████| 3/3 [00:00<00:00,  8.30it/s]"
     ]
    },
    {
     "name": "stdout",
     "output_type": "stream",
     "text": [
      "                   all         78        193      0.305      0.366      0.278      0.113\n"
     ]
    },
    {
     "name": "stderr",
     "output_type": "stream",
     "text": [
      "\n"
     ]
    },
    {
     "name": "stdout",
     "output_type": "stream",
     "text": [
      "\n",
      "      Epoch    GPU_mem   box_loss   cls_loss   dfl_loss  Instances       Size\n"
     ]
    },
    {
     "name": "stderr",
     "output_type": "stream",
     "text": [
      "     86/200      1.11G      1.219      1.209      1.298         41        416: 100%|██████████| 20/20 [00:01<00:00, 10.95it/s]\n",
      "                 Class     Images  Instances      Box(P          R      mAP50  mAP50-95): 100%|██████████| 3/3 [00:00<00:00,  8.74it/s]"
     ]
    },
    {
     "name": "stdout",
     "output_type": "stream",
     "text": [
      "                   all         78        193      0.306      0.363      0.247     0.0936\n"
     ]
    },
    {
     "name": "stderr",
     "output_type": "stream",
     "text": [
      "\n"
     ]
    },
    {
     "name": "stdout",
     "output_type": "stream",
     "text": [
      "\n",
      "      Epoch    GPU_mem   box_loss   cls_loss   dfl_loss  Instances       Size\n"
     ]
    },
    {
     "name": "stderr",
     "output_type": "stream",
     "text": [
      "     87/200      1.12G      1.238      1.238      1.307         30        416: 100%|██████████| 20/20 [00:01<00:00, 11.76it/s]\n",
      "                 Class     Images  Instances      Box(P          R      mAP50  mAP50-95): 100%|██████████| 3/3 [00:00<00:00,  9.91it/s]"
     ]
    },
    {
     "name": "stdout",
     "output_type": "stream",
     "text": [
      "                   all         78        193      0.232      0.332      0.218     0.0871\n"
     ]
    },
    {
     "name": "stderr",
     "output_type": "stream",
     "text": [
      "\n"
     ]
    },
    {
     "name": "stdout",
     "output_type": "stream",
     "text": [
      "\n",
      "      Epoch    GPU_mem   box_loss   cls_loss   dfl_loss  Instances       Size\n"
     ]
    },
    {
     "name": "stderr",
     "output_type": "stream",
     "text": [
      "     88/200      1.12G      1.169      1.187      1.278         30        416: 100%|██████████| 20/20 [00:01<00:00, 11.52it/s]\n",
      "                 Class     Images  Instances      Box(P          R      mAP50  mAP50-95): 100%|██████████| 3/3 [00:00<00:00,  9.66it/s]"
     ]
    },
    {
     "name": "stdout",
     "output_type": "stream",
     "text": [
      "                   all         78        193       0.47      0.254      0.284      0.107\n"
     ]
    },
    {
     "name": "stderr",
     "output_type": "stream",
     "text": [
      "\n"
     ]
    },
    {
     "name": "stdout",
     "output_type": "stream",
     "text": [
      "\n",
      "      Epoch    GPU_mem   box_loss   cls_loss   dfl_loss  Instances       Size\n"
     ]
    },
    {
     "name": "stderr",
     "output_type": "stream",
     "text": [
      "     89/200      1.11G      1.174      1.189      1.282         34        416: 100%|██████████| 20/20 [00:01<00:00, 11.41it/s]\n",
      "                 Class     Images  Instances      Box(P          R      mAP50  mAP50-95): 100%|██████████| 3/3 [00:00<00:00,  9.65it/s]\n"
     ]
    },
    {
     "name": "stdout",
     "output_type": "stream",
     "text": [
      "                   all         78        193      0.336      0.281       0.24     0.0895\n",
      "\n",
      "      Epoch    GPU_mem   box_loss   cls_loss   dfl_loss  Instances       Size\n"
     ]
    },
    {
     "name": "stderr",
     "output_type": "stream",
     "text": [
      "     90/200      1.11G      1.151      1.109      1.254         45        416: 100%|██████████| 20/20 [00:01<00:00, 11.39it/s]\n",
      "                 Class     Images  Instances      Box(P          R      mAP50  mAP50-95): 100%|██████████| 3/3 [00:00<00:00,  9.03it/s]"
     ]
    },
    {
     "name": "stdout",
     "output_type": "stream",
     "text": [
      "                   all         78        193      0.275      0.344      0.226     0.0855\n"
     ]
    },
    {
     "name": "stderr",
     "output_type": "stream",
     "text": [
      "\n"
     ]
    },
    {
     "name": "stdout",
     "output_type": "stream",
     "text": [
      "\n",
      "      Epoch    GPU_mem   box_loss   cls_loss   dfl_loss  Instances       Size\n"
     ]
    },
    {
     "name": "stderr",
     "output_type": "stream",
     "text": [
      "     91/200      1.11G      1.151      1.142      1.269         35        416: 100%|██████████| 20/20 [00:01<00:00, 11.69it/s]\n",
      "                 Class     Images  Instances      Box(P          R      mAP50  mAP50-95): 100%|██████████| 3/3 [00:00<00:00,  8.27it/s]"
     ]
    },
    {
     "name": "stdout",
     "output_type": "stream",
     "text": [
      "                   all         78        193      0.338      0.291      0.273       0.11\n"
     ]
    },
    {
     "name": "stderr",
     "output_type": "stream",
     "text": [
      "\n"
     ]
    },
    {
     "name": "stdout",
     "output_type": "stream",
     "text": [
      "\n",
      "      Epoch    GPU_mem   box_loss   cls_loss   dfl_loss  Instances       Size\n"
     ]
    },
    {
     "name": "stderr",
     "output_type": "stream",
     "text": [
      "     92/200      1.11G      1.178      1.144      1.268         51        416: 100%|██████████| 20/20 [00:01<00:00, 10.96it/s]\n",
      "                 Class     Images  Instances      Box(P          R      mAP50  mAP50-95): 100%|██████████| 3/3 [00:00<00:00,  8.82it/s]"
     ]
    },
    {
     "name": "stdout",
     "output_type": "stream",
     "text": [
      "                   all         78        193      0.311      0.277      0.235     0.0949\n"
     ]
    },
    {
     "name": "stderr",
     "output_type": "stream",
     "text": [
      "\n"
     ]
    },
    {
     "name": "stdout",
     "output_type": "stream",
     "text": [
      "\n",
      "      Epoch    GPU_mem   box_loss   cls_loss   dfl_loss  Instances       Size\n"
     ]
    },
    {
     "name": "stderr",
     "output_type": "stream",
     "text": [
      "     93/200      1.12G      1.169      1.157      1.271         26        416: 100%|██████████| 20/20 [00:01<00:00, 11.43it/s]\n",
      "                 Class     Images  Instances      Box(P          R      mAP50  mAP50-95): 100%|██████████| 3/3 [00:00<00:00,  8.54it/s]"
     ]
    },
    {
     "name": "stdout",
     "output_type": "stream",
     "text": [
      "                   all         78        193      0.308       0.29      0.257     0.0972\n"
     ]
    },
    {
     "name": "stderr",
     "output_type": "stream",
     "text": [
      "\n"
     ]
    },
    {
     "name": "stdout",
     "output_type": "stream",
     "text": [
      "\n",
      "      Epoch    GPU_mem   box_loss   cls_loss   dfl_loss  Instances       Size\n"
     ]
    },
    {
     "name": "stderr",
     "output_type": "stream",
     "text": [
      "     94/200      1.12G      1.179      1.136      1.279         26        416: 100%|██████████| 20/20 [00:01<00:00, 11.72it/s]\n",
      "                 Class     Images  Instances      Box(P          R      mAP50  mAP50-95): 100%|██████████| 3/3 [00:00<00:00,  8.74it/s]"
     ]
    },
    {
     "name": "stdout",
     "output_type": "stream",
     "text": [
      "                   all         78        193      0.399      0.324      0.284      0.105\n"
     ]
    },
    {
     "name": "stderr",
     "output_type": "stream",
     "text": [
      "\n"
     ]
    },
    {
     "name": "stdout",
     "output_type": "stream",
     "text": [
      "\n",
      "      Epoch    GPU_mem   box_loss   cls_loss   dfl_loss  Instances       Size\n"
     ]
    },
    {
     "name": "stderr",
     "output_type": "stream",
     "text": [
      "     95/200      1.12G      1.166      1.118      1.254         29        416: 100%|██████████| 20/20 [00:01<00:00, 11.54it/s]\n",
      "                 Class     Images  Instances      Box(P          R      mAP50  mAP50-95): 100%|██████████| 3/3 [00:00<00:00,  8.60it/s]\n"
     ]
    },
    {
     "name": "stdout",
     "output_type": "stream",
     "text": [
      "                   all         78        193      0.332      0.289      0.273      0.101\n",
      "\n",
      "      Epoch    GPU_mem   box_loss   cls_loss   dfl_loss  Instances       Size\n"
     ]
    },
    {
     "name": "stderr",
     "output_type": "stream",
     "text": [
      "     96/200      1.11G      1.186      1.144      1.272         33        416: 100%|██████████| 20/20 [00:01<00:00, 11.66it/s]\n",
      "                 Class     Images  Instances      Box(P          R      mAP50  mAP50-95): 100%|██████████| 3/3 [00:00<00:00,  8.56it/s]"
     ]
    },
    {
     "name": "stdout",
     "output_type": "stream",
     "text": [
      "                   all         78        193      0.303       0.32      0.265      0.113\n"
     ]
    },
    {
     "name": "stderr",
     "output_type": "stream",
     "text": [
      "\n"
     ]
    },
    {
     "name": "stdout",
     "output_type": "stream",
     "text": [
      "\n",
      "      Epoch    GPU_mem   box_loss   cls_loss   dfl_loss  Instances       Size\n"
     ]
    },
    {
     "name": "stderr",
     "output_type": "stream",
     "text": [
      "     97/200      1.11G      1.164      1.107      1.264         47        416: 100%|██████████| 20/20 [00:01<00:00, 11.57it/s]\n",
      "                 Class     Images  Instances      Box(P          R      mAP50  mAP50-95): 100%|██████████| 3/3 [00:00<00:00,  7.88it/s]"
     ]
    },
    {
     "name": "stdout",
     "output_type": "stream",
     "text": [
      "                   all         78        193      0.345      0.353      0.319      0.129\n"
     ]
    },
    {
     "name": "stderr",
     "output_type": "stream",
     "text": [
      "\n"
     ]
    },
    {
     "name": "stdout",
     "output_type": "stream",
     "text": [
      "\n",
      "      Epoch    GPU_mem   box_loss   cls_loss   dfl_loss  Instances       Size\n"
     ]
    },
    {
     "name": "stderr",
     "output_type": "stream",
     "text": [
      "     98/200      1.11G      1.144      1.107      1.274         31        416: 100%|██████████| 20/20 [00:01<00:00, 11.46it/s]\n",
      "                 Class     Images  Instances      Box(P          R      mAP50  mAP50-95): 100%|██████████| 3/3 [00:00<00:00,  9.44it/s]"
     ]
    },
    {
     "name": "stdout",
     "output_type": "stream",
     "text": [
      "                   all         78        193      0.305      0.267      0.244      0.104\n"
     ]
    },
    {
     "name": "stderr",
     "output_type": "stream",
     "text": [
      "\n"
     ]
    },
    {
     "name": "stdout",
     "output_type": "stream",
     "text": [
      "\n",
      "      Epoch    GPU_mem   box_loss   cls_loss   dfl_loss  Instances       Size\n"
     ]
    },
    {
     "name": "stderr",
     "output_type": "stream",
     "text": [
      "     99/200      1.12G      1.124      1.129      1.249         45        416: 100%|██████████| 20/20 [00:01<00:00, 11.44it/s]\n",
      "                 Class     Images  Instances      Box(P          R      mAP50  mAP50-95): 100%|██████████| 3/3 [00:00<00:00,  9.64it/s]"
     ]
    },
    {
     "name": "stdout",
     "output_type": "stream",
     "text": [
      "                   all         78        193      0.283      0.253      0.227      0.108\n"
     ]
    },
    {
     "name": "stderr",
     "output_type": "stream",
     "text": [
      "\n"
     ]
    },
    {
     "name": "stdout",
     "output_type": "stream",
     "text": [
      "\n",
      "      Epoch    GPU_mem   box_loss   cls_loss   dfl_loss  Instances       Size\n"
     ]
    },
    {
     "name": "stderr",
     "output_type": "stream",
     "text": [
      "    100/200      1.12G      1.134      1.102       1.26         30        416: 100%|██████████| 20/20 [00:01<00:00, 11.74it/s]\n",
      "                 Class     Images  Instances      Box(P          R      mAP50  mAP50-95): 100%|██████████| 3/3 [00:00<00:00,  9.21it/s]\n"
     ]
    },
    {
     "name": "stdout",
     "output_type": "stream",
     "text": [
      "                   all         78        193      0.336      0.217      0.258      0.114\n",
      "\n",
      "      Epoch    GPU_mem   box_loss   cls_loss   dfl_loss  Instances       Size\n"
     ]
    },
    {
     "name": "stderr",
     "output_type": "stream",
     "text": [
      "    101/200      1.12G      1.126      1.079      1.232         30        416: 100%|██████████| 20/20 [00:01<00:00, 11.64it/s]\n",
      "                 Class     Images  Instances      Box(P          R      mAP50  mAP50-95): 100%|██████████| 3/3 [00:00<00:00,  8.76it/s]\n"
     ]
    },
    {
     "name": "stdout",
     "output_type": "stream",
     "text": [
      "                   all         78        193      0.239       0.28      0.247     0.0955\n",
      "\n",
      "      Epoch    GPU_mem   box_loss   cls_loss   dfl_loss  Instances       Size\n"
     ]
    },
    {
     "name": "stderr",
     "output_type": "stream",
     "text": [
      "    102/200      1.11G      1.111      1.058       1.24         34        416: 100%|██████████| 20/20 [00:01<00:00, 11.33it/s]\n",
      "                 Class     Images  Instances      Box(P          R      mAP50  mAP50-95): 100%|██████████| 3/3 [00:00<00:00,  7.87it/s]"
     ]
    },
    {
     "name": "stdout",
     "output_type": "stream",
     "text": [
      "                   all         78        193      0.409      0.271      0.303      0.123\n"
     ]
    },
    {
     "name": "stderr",
     "output_type": "stream",
     "text": [
      "\n"
     ]
    },
    {
     "name": "stdout",
     "output_type": "stream",
     "text": [
      "\n",
      "      Epoch    GPU_mem   box_loss   cls_loss   dfl_loss  Instances       Size\n"
     ]
    },
    {
     "name": "stderr",
     "output_type": "stream",
     "text": [
      "    103/200      1.11G      1.141       1.04      1.238         28        416: 100%|██████████| 20/20 [00:01<00:00, 11.04it/s]\n",
      "                 Class     Images  Instances      Box(P          R      mAP50  mAP50-95): 100%|██████████| 3/3 [00:00<00:00,  8.80it/s]"
     ]
    },
    {
     "name": "stdout",
     "output_type": "stream",
     "text": [
      "                   all         78        193      0.406      0.368      0.322      0.122\n"
     ]
    },
    {
     "name": "stderr",
     "output_type": "stream",
     "text": [
      "\n"
     ]
    },
    {
     "name": "stdout",
     "output_type": "stream",
     "text": [
      "\n",
      "      Epoch    GPU_mem   box_loss   cls_loss   dfl_loss  Instances       Size\n"
     ]
    },
    {
     "name": "stderr",
     "output_type": "stream",
     "text": [
      "    104/200      1.12G      1.111      1.067      1.239         44        416: 100%|██████████| 20/20 [00:01<00:00, 11.46it/s]\n",
      "                 Class     Images  Instances      Box(P          R      mAP50  mAP50-95): 100%|██████████| 3/3 [00:00<00:00,  9.54it/s]\n"
     ]
    },
    {
     "name": "stdout",
     "output_type": "stream",
     "text": [
      "                   all         78        193      0.305      0.425      0.301      0.112\n",
      "\n",
      "      Epoch    GPU_mem   box_loss   cls_loss   dfl_loss  Instances       Size\n"
     ]
    },
    {
     "name": "stderr",
     "output_type": "stream",
     "text": [
      "    105/200      1.12G      1.091      1.018      1.222         40        416: 100%|██████████| 20/20 [00:01<00:00, 11.40it/s]\n",
      "                 Class     Images  Instances      Box(P          R      mAP50  mAP50-95): 100%|██████████| 3/3 [00:00<00:00,  9.80it/s]"
     ]
    },
    {
     "name": "stdout",
     "output_type": "stream",
     "text": [
      "                   all         78        193      0.302      0.287      0.229     0.0958\n"
     ]
    },
    {
     "name": "stderr",
     "output_type": "stream",
     "text": [
      "\n"
     ]
    },
    {
     "name": "stdout",
     "output_type": "stream",
     "text": [
      "\n",
      "      Epoch    GPU_mem   box_loss   cls_loss   dfl_loss  Instances       Size\n"
     ]
    },
    {
     "name": "stderr",
     "output_type": "stream",
     "text": [
      "    106/200      1.11G      1.067     0.9983      1.209         29        416: 100%|██████████| 20/20 [00:01<00:00, 11.50it/s]\n",
      "                 Class     Images  Instances      Box(P          R      mAP50  mAP50-95): 100%|██████████| 3/3 [00:00<00:00,  8.78it/s]"
     ]
    },
    {
     "name": "stdout",
     "output_type": "stream",
     "text": [
      "                   all         78        193      0.383      0.315        0.3      0.126\n"
     ]
    },
    {
     "name": "stderr",
     "output_type": "stream",
     "text": [
      "\n"
     ]
    },
    {
     "name": "stdout",
     "output_type": "stream",
     "text": [
      "\n",
      "      Epoch    GPU_mem   box_loss   cls_loss   dfl_loss  Instances       Size\n"
     ]
    },
    {
     "name": "stderr",
     "output_type": "stream",
     "text": [
      "    107/200      1.11G      1.067     0.9781      1.212         27        416: 100%|██████████| 20/20 [00:01<00:00, 11.12it/s]\n",
      "                 Class     Images  Instances      Box(P          R      mAP50  mAP50-95): 100%|██████████| 3/3 [00:00<00:00,  9.16it/s]\n"
     ]
    },
    {
     "name": "stdout",
     "output_type": "stream",
     "text": [
      "                   all         78        193      0.365       0.29      0.304      0.132\n",
      "\n",
      "      Epoch    GPU_mem   box_loss   cls_loss   dfl_loss  Instances       Size\n"
     ]
    },
    {
     "name": "stderr",
     "output_type": "stream",
     "text": [
      "    108/200      1.11G      1.065      1.011      1.211         36        416: 100%|██████████| 20/20 [00:01<00:00, 11.36it/s]\n",
      "                 Class     Images  Instances      Box(P          R      mAP50  mAP50-95): 100%|██████████| 3/3 [00:00<00:00,  8.19it/s]"
     ]
    },
    {
     "name": "stdout",
     "output_type": "stream",
     "text": [
      "                   all         78        193      0.334      0.321      0.285      0.119\n"
     ]
    },
    {
     "name": "stderr",
     "output_type": "stream",
     "text": [
      "\n"
     ]
    },
    {
     "name": "stdout",
     "output_type": "stream",
     "text": [
      "\n",
      "      Epoch    GPU_mem   box_loss   cls_loss   dfl_loss  Instances       Size\n"
     ]
    },
    {
     "name": "stderr",
     "output_type": "stream",
     "text": [
      "    109/200      1.12G      1.082      1.005      1.214         30        416: 100%|██████████| 20/20 [00:01<00:00, 11.36it/s]\n",
      "                 Class     Images  Instances      Box(P          R      mAP50  mAP50-95): 100%|██████████| 3/3 [00:00<00:00,  8.24it/s]"
     ]
    },
    {
     "name": "stdout",
     "output_type": "stream",
     "text": [
      "                   all         78        193      0.264      0.384      0.264      0.104\n"
     ]
    },
    {
     "name": "stderr",
     "output_type": "stream",
     "text": [
      "\n"
     ]
    },
    {
     "name": "stdout",
     "output_type": "stream",
     "text": [
      "\n",
      "      Epoch    GPU_mem   box_loss   cls_loss   dfl_loss  Instances       Size\n"
     ]
    },
    {
     "name": "stderr",
     "output_type": "stream",
     "text": [
      "    110/200      1.11G       1.07      0.986      1.204         50        416: 100%|██████████| 20/20 [00:01<00:00, 11.67it/s]\n",
      "                 Class     Images  Instances      Box(P          R      mAP50  mAP50-95): 100%|██████████| 3/3 [00:00<00:00,  9.17it/s]\n"
     ]
    },
    {
     "name": "stdout",
     "output_type": "stream",
     "text": [
      "                   all         78        193      0.296      0.313      0.252     0.0907\n",
      "\n",
      "      Epoch    GPU_mem   box_loss   cls_loss   dfl_loss  Instances       Size\n"
     ]
    },
    {
     "name": "stderr",
     "output_type": "stream",
     "text": [
      "    111/200      1.11G      1.086     0.9973      1.225         40        416: 100%|██████████| 20/20 [00:01<00:00, 11.62it/s]\n",
      "                 Class     Images  Instances      Box(P          R      mAP50  mAP50-95): 100%|██████████| 3/3 [00:00<00:00,  9.47it/s]\n"
     ]
    },
    {
     "name": "stdout",
     "output_type": "stream",
     "text": [
      "                   all         78        193      0.362      0.247      0.238     0.0923\n",
      "\n",
      "      Epoch    GPU_mem   box_loss   cls_loss   dfl_loss  Instances       Size\n"
     ]
    },
    {
     "name": "stderr",
     "output_type": "stream",
     "text": [
      "    112/200      1.12G      1.075     0.9591       1.21         20        416: 100%|██████████| 20/20 [00:01<00:00, 11.50it/s]\n",
      "                 Class     Images  Instances      Box(P          R      mAP50  mAP50-95): 100%|██████████| 3/3 [00:00<00:00,  8.91it/s]\n"
     ]
    },
    {
     "name": "stdout",
     "output_type": "stream",
     "text": [
      "                   all         78        193      0.206      0.294      0.209     0.0895\n",
      "\n",
      "      Epoch    GPU_mem   box_loss   cls_loss   dfl_loss  Instances       Size\n"
     ]
    },
    {
     "name": "stderr",
     "output_type": "stream",
     "text": [
      "    113/200      1.12G      1.037     0.9672      1.189         42        416: 100%|██████████| 20/20 [00:01<00:00, 10.81it/s]\n",
      "                 Class     Images  Instances      Box(P          R      mAP50  mAP50-95): 100%|██████████| 3/3 [00:00<00:00,  8.54it/s]\n"
     ]
    },
    {
     "name": "stdout",
     "output_type": "stream",
     "text": [
      "                   all         78        193      0.404      0.231      0.254      0.104\n",
      "\n",
      "      Epoch    GPU_mem   box_loss   cls_loss   dfl_loss  Instances       Size\n"
     ]
    },
    {
     "name": "stderr",
     "output_type": "stream",
     "text": [
      "    114/200      1.11G      1.083     0.9896      1.219         42        416: 100%|██████████| 20/20 [00:01<00:00, 11.48it/s]\n",
      "                 Class     Images  Instances      Box(P          R      mAP50  mAP50-95): 100%|██████████| 3/3 [00:00<00:00,  9.68it/s]"
     ]
    },
    {
     "name": "stdout",
     "output_type": "stream",
     "text": [
      "                   all         78        193      0.404       0.27      0.251      0.101\n"
     ]
    },
    {
     "name": "stderr",
     "output_type": "stream",
     "text": [
      "\n"
     ]
    },
    {
     "name": "stdout",
     "output_type": "stream",
     "text": [
      "\n",
      "      Epoch    GPU_mem   box_loss   cls_loss   dfl_loss  Instances       Size\n"
     ]
    },
    {
     "name": "stderr",
     "output_type": "stream",
     "text": [
      "    115/200      1.11G      1.054     0.9718      1.193         47        416: 100%|██████████| 20/20 [00:01<00:00, 11.77it/s]\n",
      "                 Class     Images  Instances      Box(P          R      mAP50  mAP50-95): 100%|██████████| 3/3 [00:00<00:00,  9.10it/s]"
     ]
    },
    {
     "name": "stdout",
     "output_type": "stream",
     "text": [
      "                   all         78        193      0.467      0.279      0.294      0.114\n"
     ]
    },
    {
     "name": "stderr",
     "output_type": "stream",
     "text": [
      "\n"
     ]
    },
    {
     "name": "stdout",
     "output_type": "stream",
     "text": [
      "\n",
      "      Epoch    GPU_mem   box_loss   cls_loss   dfl_loss  Instances       Size\n"
     ]
    },
    {
     "name": "stderr",
     "output_type": "stream",
     "text": [
      "    116/200      1.11G       1.04     0.9556      1.188         58        416: 100%|██████████| 20/20 [00:01<00:00, 11.91it/s]\n",
      "                 Class     Images  Instances      Box(P          R      mAP50  mAP50-95): 100%|██████████| 3/3 [00:00<00:00,  9.02it/s]"
     ]
    },
    {
     "name": "stdout",
     "output_type": "stream",
     "text": [
      "                   all         78        193       0.36      0.291      0.262      0.111\n"
     ]
    },
    {
     "name": "stderr",
     "output_type": "stream",
     "text": [
      "\n"
     ]
    },
    {
     "name": "stdout",
     "output_type": "stream",
     "text": [
      "\n",
      "      Epoch    GPU_mem   box_loss   cls_loss   dfl_loss  Instances       Size\n"
     ]
    },
    {
     "name": "stderr",
     "output_type": "stream",
     "text": [
      "    117/200      1.12G      1.032     0.9476      1.174         29        416: 100%|██████████| 20/20 [00:01<00:00, 11.61it/s]\n",
      "                 Class     Images  Instances      Box(P          R      mAP50  mAP50-95): 100%|██████████| 3/3 [00:00<00:00,  8.94it/s]"
     ]
    },
    {
     "name": "stdout",
     "output_type": "stream",
     "text": [
      "                   all         78        193      0.282      0.304       0.23      0.099\n"
     ]
    },
    {
     "name": "stderr",
     "output_type": "stream",
     "text": [
      "\n"
     ]
    },
    {
     "name": "stdout",
     "output_type": "stream",
     "text": [
      "\n",
      "      Epoch    GPU_mem   box_loss   cls_loss   dfl_loss  Instances       Size\n"
     ]
    },
    {
     "name": "stderr",
     "output_type": "stream",
     "text": [
      "    118/200      1.12G       1.02     0.9274      1.165         33        416: 100%|██████████| 20/20 [00:01<00:00, 11.16it/s]\n",
      "                 Class     Images  Instances      Box(P          R      mAP50  mAP50-95): 100%|██████████| 3/3 [00:00<00:00,  7.82it/s]"
     ]
    },
    {
     "name": "stdout",
     "output_type": "stream",
     "text": [
      "                   all         78        193      0.345      0.356      0.307      0.119\n"
     ]
    },
    {
     "name": "stderr",
     "output_type": "stream",
     "text": [
      "\n"
     ]
    },
    {
     "name": "stdout",
     "output_type": "stream",
     "text": [
      "\n",
      "      Epoch    GPU_mem   box_loss   cls_loss   dfl_loss  Instances       Size\n"
     ]
    },
    {
     "name": "stderr",
     "output_type": "stream",
     "text": [
      "    119/200      1.12G      1.061     0.9529      1.209         38        416: 100%|██████████| 20/20 [00:01<00:00, 11.75it/s]\n",
      "                 Class     Images  Instances      Box(P          R      mAP50  mAP50-95): 100%|██████████| 3/3 [00:00<00:00,  8.34it/s]"
     ]
    },
    {
     "name": "stdout",
     "output_type": "stream",
     "text": [
      "                   all         78        193        0.4       0.35      0.342      0.127\n"
     ]
    },
    {
     "name": "stderr",
     "output_type": "stream",
     "text": [
      "\n"
     ]
    },
    {
     "name": "stdout",
     "output_type": "stream",
     "text": [
      "\n",
      "      Epoch    GPU_mem   box_loss   cls_loss   dfl_loss  Instances       Size\n"
     ]
    },
    {
     "name": "stderr",
     "output_type": "stream",
     "text": [
      "    120/200      1.12G     0.9958     0.8993      1.163         38        416: 100%|██████████| 20/20 [00:01<00:00, 11.37it/s]\n",
      "                 Class     Images  Instances      Box(P          R      mAP50  mAP50-95): 100%|██████████| 3/3 [00:00<00:00,  9.67it/s]"
     ]
    },
    {
     "name": "stdout",
     "output_type": "stream",
     "text": [
      "                   all         78        193      0.446      0.302      0.316      0.105\n"
     ]
    },
    {
     "name": "stderr",
     "output_type": "stream",
     "text": [
      "\n"
     ]
    },
    {
     "name": "stdout",
     "output_type": "stream",
     "text": [
      "\n",
      "      Epoch    GPU_mem   box_loss   cls_loss   dfl_loss  Instances       Size\n"
     ]
    },
    {
     "name": "stderr",
     "output_type": "stream",
     "text": [
      "    121/200      1.12G      1.032       0.95      1.181         30        416: 100%|██████████| 20/20 [00:01<00:00, 11.56it/s]\n",
      "                 Class     Images  Instances      Box(P          R      mAP50  mAP50-95): 100%|██████████| 3/3 [00:00<00:00,  8.52it/s]"
     ]
    },
    {
     "name": "stdout",
     "output_type": "stream",
     "text": [
      "                   all         78        193      0.531      0.246      0.301      0.107\n"
     ]
    },
    {
     "name": "stderr",
     "output_type": "stream",
     "text": [
      "\n"
     ]
    },
    {
     "name": "stdout",
     "output_type": "stream",
     "text": [
      "\n",
      "      Epoch    GPU_mem   box_loss   cls_loss   dfl_loss  Instances       Size\n"
     ]
    },
    {
     "name": "stderr",
     "output_type": "stream",
     "text": [
      "    122/200      1.11G      1.042     0.9765      1.188         46        416: 100%|██████████| 20/20 [00:01<00:00, 11.46it/s]\n",
      "                 Class     Images  Instances      Box(P          R      mAP50  mAP50-95): 100%|██████████| 3/3 [00:00<00:00,  8.32it/s]"
     ]
    },
    {
     "name": "stdout",
     "output_type": "stream",
     "text": [
      "                   all         78        193      0.365      0.327      0.298       0.11\n"
     ]
    },
    {
     "name": "stderr",
     "output_type": "stream",
     "text": [
      "\n"
     ]
    },
    {
     "name": "stdout",
     "output_type": "stream",
     "text": [
      "\n",
      "      Epoch    GPU_mem   box_loss   cls_loss   dfl_loss  Instances       Size\n"
     ]
    },
    {
     "name": "stderr",
     "output_type": "stream",
     "text": [
      "    123/200      1.11G      1.023     0.9225      1.192         30        416: 100%|██████████| 20/20 [00:01<00:00, 11.14it/s]\n",
      "                 Class     Images  Instances      Box(P          R      mAP50  mAP50-95): 100%|██████████| 3/3 [00:00<00:00,  8.09it/s]"
     ]
    },
    {
     "name": "stdout",
     "output_type": "stream",
     "text": [
      "                   all         78        193      0.491      0.267      0.282      0.113\n"
     ]
    },
    {
     "name": "stderr",
     "output_type": "stream",
     "text": [
      "\n"
     ]
    },
    {
     "name": "stdout",
     "output_type": "stream",
     "text": [
      "\n",
      "      Epoch    GPU_mem   box_loss   cls_loss   dfl_loss  Instances       Size\n"
     ]
    },
    {
     "name": "stderr",
     "output_type": "stream",
     "text": [
      "    124/200      1.12G      1.004     0.8873      1.148         51        416: 100%|██████████| 20/20 [00:01<00:00, 11.13it/s]\n",
      "                 Class     Images  Instances      Box(P          R      mAP50  mAP50-95): 100%|██████████| 3/3 [00:00<00:00,  8.38it/s]\n"
     ]
    },
    {
     "name": "stdout",
     "output_type": "stream",
     "text": [
      "                   all         78        193      0.504      0.241      0.275      0.107\n",
      "\n",
      "      Epoch    GPU_mem   box_loss   cls_loss   dfl_loss  Instances       Size\n"
     ]
    },
    {
     "name": "stderr",
     "output_type": "stream",
     "text": [
      "    125/200      1.12G      0.982      0.903      1.179         19        416: 100%|██████████| 20/20 [00:01<00:00, 11.07it/s]\n",
      "                 Class     Images  Instances      Box(P          R      mAP50  mAP50-95): 100%|██████████| 3/3 [00:00<00:00,  8.85it/s]"
     ]
    },
    {
     "name": "stdout",
     "output_type": "stream",
     "text": [
      "                   all         78        193      0.265      0.363      0.292       0.12\n"
     ]
    },
    {
     "name": "stderr",
     "output_type": "stream",
     "text": [
      "\n"
     ]
    },
    {
     "name": "stdout",
     "output_type": "stream",
     "text": [
      "\n",
      "      Epoch    GPU_mem   box_loss   cls_loss   dfl_loss  Instances       Size\n"
     ]
    },
    {
     "name": "stderr",
     "output_type": "stream",
     "text": [
      "    126/200      1.11G      1.042     0.8843      1.181         45        416: 100%|██████████| 20/20 [00:01<00:00, 11.94it/s]\n",
      "                 Class     Images  Instances      Box(P          R      mAP50  mAP50-95): 100%|██████████| 3/3 [00:00<00:00,  8.80it/s]"
     ]
    },
    {
     "name": "stdout",
     "output_type": "stream",
     "text": [
      "                   all         78        193      0.308      0.329      0.283      0.117\n"
     ]
    },
    {
     "name": "stderr",
     "output_type": "stream",
     "text": [
      "\n"
     ]
    },
    {
     "name": "stdout",
     "output_type": "stream",
     "text": [
      "\n",
      "      Epoch    GPU_mem   box_loss   cls_loss   dfl_loss  Instances       Size\n"
     ]
    },
    {
     "name": "stderr",
     "output_type": "stream",
     "text": [
      "    127/200      1.11G     0.9925     0.8869      1.171         33        416: 100%|██████████| 20/20 [00:01<00:00, 11.92it/s]\n",
      "                 Class     Images  Instances      Box(P          R      mAP50  mAP50-95): 100%|██████████| 3/3 [00:00<00:00,  9.55it/s]"
     ]
    },
    {
     "name": "stdout",
     "output_type": "stream",
     "text": [
      "                   all         78        193      0.332      0.279       0.27       0.11\n"
     ]
    },
    {
     "name": "stderr",
     "output_type": "stream",
     "text": [
      "\n"
     ]
    },
    {
     "name": "stdout",
     "output_type": "stream",
     "text": [
      "\n",
      "      Epoch    GPU_mem   box_loss   cls_loss   dfl_loss  Instances       Size\n"
     ]
    },
    {
     "name": "stderr",
     "output_type": "stream",
     "text": [
      "    128/200      1.11G     0.9752     0.8616      1.139         36        416: 100%|██████████| 20/20 [00:01<00:00, 11.38it/s]\n",
      "                 Class     Images  Instances      Box(P          R      mAP50  mAP50-95): 100%|██████████| 3/3 [00:00<00:00,  7.82it/s]"
     ]
    },
    {
     "name": "stdout",
     "output_type": "stream",
     "text": [
      "                   all         78        193      0.352      0.312      0.302       0.12\n"
     ]
    },
    {
     "name": "stderr",
     "output_type": "stream",
     "text": [
      "\n"
     ]
    },
    {
     "name": "stdout",
     "output_type": "stream",
     "text": [
      "\n",
      "      Epoch    GPU_mem   box_loss   cls_loss   dfl_loss  Instances       Size\n"
     ]
    },
    {
     "name": "stderr",
     "output_type": "stream",
     "text": [
      "    129/200      1.11G     0.9987     0.8939      1.174         36        416: 100%|██████████| 20/20 [00:01<00:00, 11.25it/s]\n",
      "                 Class     Images  Instances      Box(P          R      mAP50  mAP50-95): 100%|██████████| 3/3 [00:00<00:00,  9.86it/s]"
     ]
    },
    {
     "name": "stdout",
     "output_type": "stream",
     "text": [
      "                   all         78        193      0.445      0.308      0.309      0.132\n"
     ]
    },
    {
     "name": "stderr",
     "output_type": "stream",
     "text": [
      "\n"
     ]
    },
    {
     "name": "stdout",
     "output_type": "stream",
     "text": [
      "\n",
      "      Epoch    GPU_mem   box_loss   cls_loss   dfl_loss  Instances       Size\n"
     ]
    },
    {
     "name": "stderr",
     "output_type": "stream",
     "text": [
      "    130/200      1.12G      0.983     0.8508      1.159         23        416: 100%|██████████| 20/20 [00:01<00:00, 11.44it/s]\n",
      "                 Class     Images  Instances      Box(P          R      mAP50  mAP50-95): 100%|██████████| 3/3 [00:00<00:00,  9.56it/s]\n"
     ]
    },
    {
     "name": "stdout",
     "output_type": "stream",
     "text": [
      "                   all         78        193      0.317      0.349      0.305      0.115\n",
      "\n",
      "      Epoch    GPU_mem   box_loss   cls_loss   dfl_loss  Instances       Size\n"
     ]
    },
    {
     "name": "stderr",
     "output_type": "stream",
     "text": [
      "    131/200      1.11G      1.011     0.8882      1.164         47        416: 100%|██████████| 20/20 [00:01<00:00, 11.80it/s]\n",
      "                 Class     Images  Instances      Box(P          R      mAP50  mAP50-95): 100%|██████████| 3/3 [00:00<00:00,  9.15it/s]"
     ]
    },
    {
     "name": "stdout",
     "output_type": "stream",
     "text": [
      "                   all         78        193      0.359      0.304      0.292      0.113\n"
     ]
    },
    {
     "name": "stderr",
     "output_type": "stream",
     "text": [
      "\n"
     ]
    },
    {
     "name": "stdout",
     "output_type": "stream",
     "text": [
      "\n",
      "      Epoch    GPU_mem   box_loss   cls_loss   dfl_loss  Instances       Size\n"
     ]
    },
    {
     "name": "stderr",
     "output_type": "stream",
     "text": [
      "    132/200      1.12G     0.9769     0.8583      1.159         29        416: 100%|██████████| 20/20 [00:01<00:00, 11.22it/s]\n",
      "                 Class     Images  Instances      Box(P          R      mAP50  mAP50-95): 100%|██████████| 3/3 [00:00<00:00,  9.53it/s]\n"
     ]
    },
    {
     "name": "stdout",
     "output_type": "stream",
     "text": [
      "                   all         78        193      0.338      0.283      0.261      0.111\n",
      "\n",
      "      Epoch    GPU_mem   box_loss   cls_loss   dfl_loss  Instances       Size\n"
     ]
    },
    {
     "name": "stderr",
     "output_type": "stream",
     "text": [
      "    133/200      1.11G     0.9771     0.8876       1.16         30        416: 100%|██████████| 20/20 [00:01<00:00, 11.65it/s]\n",
      "                 Class     Images  Instances      Box(P          R      mAP50  mAP50-95): 100%|██████████| 3/3 [00:00<00:00,  7.87it/s]"
     ]
    },
    {
     "name": "stdout",
     "output_type": "stream",
     "text": [
      "                   all         78        193      0.321      0.334      0.277      0.113\n"
     ]
    },
    {
     "name": "stderr",
     "output_type": "stream",
     "text": [
      "\n"
     ]
    },
    {
     "name": "stdout",
     "output_type": "stream",
     "text": [
      "\n",
      "      Epoch    GPU_mem   box_loss   cls_loss   dfl_loss  Instances       Size\n"
     ]
    },
    {
     "name": "stderr",
     "output_type": "stream",
     "text": [
      "    134/200      1.12G     0.9467     0.8415      1.136         31        416: 100%|██████████| 20/20 [00:01<00:00, 11.06it/s]\n",
      "                 Class     Images  Instances      Box(P          R      mAP50  mAP50-95): 100%|██████████| 3/3 [00:00<00:00,  9.41it/s]"
     ]
    },
    {
     "name": "stdout",
     "output_type": "stream",
     "text": [
      "                   all         78        193      0.287       0.31      0.276      0.119\n"
     ]
    },
    {
     "name": "stderr",
     "output_type": "stream",
     "text": [
      "\n"
     ]
    },
    {
     "name": "stdout",
     "output_type": "stream",
     "text": [
      "\n",
      "      Epoch    GPU_mem   box_loss   cls_loss   dfl_loss  Instances       Size\n"
     ]
    },
    {
     "name": "stderr",
     "output_type": "stream",
     "text": [
      "    135/200      1.11G     0.9784     0.8735      1.143         49        416: 100%|██████████| 20/20 [00:01<00:00, 11.60it/s]\n",
      "                 Class     Images  Instances      Box(P          R      mAP50  mAP50-95): 100%|██████████| 3/3 [00:00<00:00,  9.01it/s]"
     ]
    },
    {
     "name": "stdout",
     "output_type": "stream",
     "text": [
      "                   all         78        193      0.341      0.288      0.258      0.109\n"
     ]
    },
    {
     "name": "stderr",
     "output_type": "stream",
     "text": [
      "\n"
     ]
    },
    {
     "name": "stdout",
     "output_type": "stream",
     "text": [
      "\n",
      "      Epoch    GPU_mem   box_loss   cls_loss   dfl_loss  Instances       Size\n"
     ]
    },
    {
     "name": "stderr",
     "output_type": "stream",
     "text": [
      "    136/200      1.11G     0.9668     0.8549      1.144         45        416: 100%|██████████| 20/20 [00:01<00:00, 11.62it/s]\n",
      "                 Class     Images  Instances      Box(P          R      mAP50  mAP50-95): 100%|██████████| 3/3 [00:00<00:00,  8.73it/s]"
     ]
    },
    {
     "name": "stdout",
     "output_type": "stream",
     "text": [
      "                   all         78        193      0.369      0.268      0.283      0.115\n"
     ]
    },
    {
     "name": "stderr",
     "output_type": "stream",
     "text": [
      "\n"
     ]
    },
    {
     "name": "stdout",
     "output_type": "stream",
     "text": [
      "\n",
      "      Epoch    GPU_mem   box_loss   cls_loss   dfl_loss  Instances       Size\n"
     ]
    },
    {
     "name": "stderr",
     "output_type": "stream",
     "text": [
      "    137/200      1.12G     0.9592     0.8415      1.137         28        416: 100%|██████████| 20/20 [00:01<00:00, 11.38it/s]\n",
      "                 Class     Images  Instances      Box(P          R      mAP50  mAP50-95): 100%|██████████| 3/3 [00:00<00:00,  9.82it/s]"
     ]
    },
    {
     "name": "stdout",
     "output_type": "stream",
     "text": [
      "                   all         78        193       0.42      0.267      0.291      0.123\n"
     ]
    },
    {
     "name": "stderr",
     "output_type": "stream",
     "text": [
      "\n"
     ]
    },
    {
     "name": "stdout",
     "output_type": "stream",
     "text": [
      "\n",
      "      Epoch    GPU_mem   box_loss   cls_loss   dfl_loss  Instances       Size\n"
     ]
    },
    {
     "name": "stderr",
     "output_type": "stream",
     "text": [
      "    138/200      1.11G     0.9405      0.824      1.139         34        416: 100%|██████████| 20/20 [00:01<00:00, 11.63it/s]\n",
      "                 Class     Images  Instances      Box(P          R      mAP50  mAP50-95): 100%|██████████| 3/3 [00:00<00:00,  9.10it/s]"
     ]
    },
    {
     "name": "stdout",
     "output_type": "stream",
     "text": [
      "                   all         78        193      0.377      0.303      0.307      0.125\n"
     ]
    },
    {
     "name": "stderr",
     "output_type": "stream",
     "text": [
      "\n"
     ]
    },
    {
     "name": "stdout",
     "output_type": "stream",
     "text": [
      "\n",
      "      Epoch    GPU_mem   box_loss   cls_loss   dfl_loss  Instances       Size\n"
     ]
    },
    {
     "name": "stderr",
     "output_type": "stream",
     "text": [
      "    139/200      1.11G     0.9693     0.8699      1.143         27        416: 100%|██████████| 20/20 [00:01<00:00, 10.78it/s]\n",
      "                 Class     Images  Instances      Box(P          R      mAP50  mAP50-95): 100%|██████████| 3/3 [00:00<00:00,  8.38it/s]"
     ]
    },
    {
     "name": "stdout",
     "output_type": "stream",
     "text": [
      "                   all         78        193      0.442       0.28      0.307      0.124\n"
     ]
    },
    {
     "name": "stderr",
     "output_type": "stream",
     "text": [
      "\n"
     ]
    },
    {
     "name": "stdout",
     "output_type": "stream",
     "text": [
      "\n",
      "      Epoch    GPU_mem   box_loss   cls_loss   dfl_loss  Instances       Size\n"
     ]
    },
    {
     "name": "stderr",
     "output_type": "stream",
     "text": [
      "    140/200      1.11G     0.9792     0.8938      1.166         32        416: 100%|██████████| 20/20 [00:01<00:00, 11.76it/s]\n",
      "                 Class     Images  Instances      Box(P          R      mAP50  mAP50-95): 100%|██████████| 3/3 [00:00<00:00,  8.99it/s]"
     ]
    },
    {
     "name": "stdout",
     "output_type": "stream",
     "text": [
      "                   all         78        193      0.456      0.287      0.294      0.119\n"
     ]
    },
    {
     "name": "stderr",
     "output_type": "stream",
     "text": [
      "\n"
     ]
    },
    {
     "name": "stdout",
     "output_type": "stream",
     "text": [
      "\n",
      "      Epoch    GPU_mem   box_loss   cls_loss   dfl_loss  Instances       Size\n"
     ]
    },
    {
     "name": "stderr",
     "output_type": "stream",
     "text": [
      "    141/200      1.11G      0.921     0.8242      1.129         24        416: 100%|██████████| 20/20 [00:01<00:00, 11.43it/s]\n",
      "                 Class     Images  Instances      Box(P          R      mAP50  mAP50-95): 100%|██████████| 3/3 [00:00<00:00,  9.00it/s]"
     ]
    },
    {
     "name": "stdout",
     "output_type": "stream",
     "text": [
      "                   all         78        193      0.405      0.303      0.286      0.107\n"
     ]
    },
    {
     "name": "stderr",
     "output_type": "stream",
     "text": [
      "\n"
     ]
    },
    {
     "name": "stdout",
     "output_type": "stream",
     "text": [
      "\n",
      "      Epoch    GPU_mem   box_loss   cls_loss   dfl_loss  Instances       Size\n"
     ]
    },
    {
     "name": "stderr",
     "output_type": "stream",
     "text": [
      "    142/200      1.11G     0.9354     0.8088      1.123         25        416: 100%|██████████| 20/20 [00:01<00:00, 11.62it/s]\n",
      "                 Class     Images  Instances      Box(P          R      mAP50  mAP50-95): 100%|██████████| 3/3 [00:00<00:00,  9.05it/s]"
     ]
    },
    {
     "name": "stdout",
     "output_type": "stream",
     "text": [
      "                   all         78        193      0.466      0.296      0.341      0.128\n"
     ]
    },
    {
     "name": "stderr",
     "output_type": "stream",
     "text": [
      "\n"
     ]
    },
    {
     "name": "stdout",
     "output_type": "stream",
     "text": [
      "\n",
      "      Epoch    GPU_mem   box_loss   cls_loss   dfl_loss  Instances       Size\n"
     ]
    },
    {
     "name": "stderr",
     "output_type": "stream",
     "text": [
      "    143/200      1.11G     0.9367     0.8282      1.125         27        416: 100%|██████████| 20/20 [00:01<00:00, 11.33it/s]\n",
      "                 Class     Images  Instances      Box(P          R      mAP50  mAP50-95): 100%|██████████| 3/3 [00:00<00:00,  9.12it/s]\n"
     ]
    },
    {
     "name": "stdout",
     "output_type": "stream",
     "text": [
      "                   all         78        193      0.373      0.313      0.326      0.134\n",
      "\n",
      "      Epoch    GPU_mem   box_loss   cls_loss   dfl_loss  Instances       Size\n"
     ]
    },
    {
     "name": "stderr",
     "output_type": "stream",
     "text": [
      "    144/200      1.11G     0.8858     0.7905      1.101         23        416: 100%|██████████| 20/20 [00:01<00:00, 11.53it/s]\n",
      "                 Class     Images  Instances      Box(P          R      mAP50  mAP50-95): 100%|██████████| 3/3 [00:00<00:00,  8.56it/s]"
     ]
    },
    {
     "name": "stdout",
     "output_type": "stream",
     "text": [
      "                   all         78        193      0.423      0.306      0.322      0.135\n"
     ]
    },
    {
     "name": "stderr",
     "output_type": "stream",
     "text": [
      "\n"
     ]
    },
    {
     "name": "stdout",
     "output_type": "stream",
     "text": [
      "\n",
      "      Epoch    GPU_mem   box_loss   cls_loss   dfl_loss  Instances       Size\n"
     ]
    },
    {
     "name": "stderr",
     "output_type": "stream",
     "text": [
      "    145/200      1.12G     0.9271     0.8049      1.137         33        416: 100%|██████████| 20/20 [00:01<00:00, 11.25it/s]\n",
      "                 Class     Images  Instances      Box(P          R      mAP50  mAP50-95): 100%|██████████| 3/3 [00:00<00:00,  8.62it/s]"
     ]
    },
    {
     "name": "stdout",
     "output_type": "stream",
     "text": [
      "                   all         78        193      0.344      0.333      0.301      0.122\n"
     ]
    },
    {
     "name": "stderr",
     "output_type": "stream",
     "text": [
      "\n"
     ]
    },
    {
     "name": "stdout",
     "output_type": "stream",
     "text": [
      "\n",
      "      Epoch    GPU_mem   box_loss   cls_loss   dfl_loss  Instances       Size\n"
     ]
    },
    {
     "name": "stderr",
     "output_type": "stream",
     "text": [
      "    146/200      1.11G     0.9414     0.8044      1.133         36        416: 100%|██████████| 20/20 [00:01<00:00, 11.73it/s]\n",
      "                 Class     Images  Instances      Box(P          R      mAP50  mAP50-95): 100%|██████████| 3/3 [00:00<00:00,  9.12it/s]"
     ]
    },
    {
     "name": "stdout",
     "output_type": "stream",
     "text": [
      "                   all         78        193      0.404      0.306      0.313      0.129\n"
     ]
    },
    {
     "name": "stderr",
     "output_type": "stream",
     "text": [
      "\n"
     ]
    },
    {
     "name": "stdout",
     "output_type": "stream",
     "text": [
      "\n",
      "      Epoch    GPU_mem   box_loss   cls_loss   dfl_loss  Instances       Size\n"
     ]
    },
    {
     "name": "stderr",
     "output_type": "stream",
     "text": [
      "    147/200      1.12G     0.9569     0.8218      1.124         33        416: 100%|██████████| 20/20 [00:01<00:00, 12.01it/s]\n",
      "                 Class     Images  Instances      Box(P          R      mAP50  mAP50-95): 100%|██████████| 3/3 [00:00<00:00,  8.89it/s]"
     ]
    },
    {
     "name": "stdout",
     "output_type": "stream",
     "text": [
      "                   all         78        193      0.421      0.274      0.312      0.127\n"
     ]
    },
    {
     "name": "stderr",
     "output_type": "stream",
     "text": [
      "\n"
     ]
    },
    {
     "name": "stdout",
     "output_type": "stream",
     "text": [
      "\n",
      "      Epoch    GPU_mem   box_loss   cls_loss   dfl_loss  Instances       Size\n"
     ]
    },
    {
     "name": "stderr",
     "output_type": "stream",
     "text": [
      "    148/200      1.12G     0.9186       0.79      1.122         27        416: 100%|██████████| 20/20 [00:01<00:00, 11.40it/s]\n",
      "                 Class     Images  Instances      Box(P          R      mAP50  mAP50-95): 100%|██████████| 3/3 [00:00<00:00,  8.92it/s]"
     ]
    },
    {
     "name": "stdout",
     "output_type": "stream",
     "text": [
      "                   all         78        193      0.416      0.297      0.322      0.134\n"
     ]
    },
    {
     "name": "stderr",
     "output_type": "stream",
     "text": [
      "\n"
     ]
    },
    {
     "name": "stdout",
     "output_type": "stream",
     "text": [
      "\n",
      "      Epoch    GPU_mem   box_loss   cls_loss   dfl_loss  Instances       Size\n"
     ]
    },
    {
     "name": "stderr",
     "output_type": "stream",
     "text": [
      "    149/200      1.12G     0.9011     0.7998       1.12         31        416: 100%|██████████| 20/20 [00:01<00:00, 11.56it/s]\n",
      "                 Class     Images  Instances      Box(P          R      mAP50  mAP50-95): 100%|██████████| 3/3 [00:00<00:00,  8.53it/s]"
     ]
    },
    {
     "name": "stdout",
     "output_type": "stream",
     "text": [
      "                   all         78        193      0.326      0.363      0.315      0.127\n"
     ]
    },
    {
     "name": "stderr",
     "output_type": "stream",
     "text": [
      "\n"
     ]
    },
    {
     "name": "stdout",
     "output_type": "stream",
     "text": [
      "\n",
      "      Epoch    GPU_mem   box_loss   cls_loss   dfl_loss  Instances       Size\n"
     ]
    },
    {
     "name": "stderr",
     "output_type": "stream",
     "text": [
      "    150/200      1.11G     0.9131     0.7859       1.11         22        416: 100%|██████████| 20/20 [00:01<00:00, 11.26it/s]\n",
      "                 Class     Images  Instances      Box(P          R      mAP50  mAP50-95): 100%|██████████| 3/3 [00:00<00:00,  8.91it/s]"
     ]
    },
    {
     "name": "stdout",
     "output_type": "stream",
     "text": [
      "                   all         78        193      0.258      0.362      0.291      0.122\n"
     ]
    },
    {
     "name": "stderr",
     "output_type": "stream",
     "text": [
      "\n"
     ]
    },
    {
     "name": "stdout",
     "output_type": "stream",
     "text": [
      "\n",
      "      Epoch    GPU_mem   box_loss   cls_loss   dfl_loss  Instances       Size\n"
     ]
    },
    {
     "name": "stderr",
     "output_type": "stream",
     "text": [
      "    151/200      1.12G      0.921     0.8054      1.123         35        416: 100%|██████████| 20/20 [00:01<00:00, 11.87it/s]\n",
      "                 Class     Images  Instances      Box(P          R      mAP50  mAP50-95): 100%|██████████| 3/3 [00:00<00:00,  9.29it/s]"
     ]
    },
    {
     "name": "stdout",
     "output_type": "stream",
     "text": [
      "                   all         78        193      0.554      0.253      0.312      0.123\n"
     ]
    },
    {
     "name": "stderr",
     "output_type": "stream",
     "text": [
      "\n"
     ]
    },
    {
     "name": "stdout",
     "output_type": "stream",
     "text": [
      "\n",
      "      Epoch    GPU_mem   box_loss   cls_loss   dfl_loss  Instances       Size\n"
     ]
    },
    {
     "name": "stderr",
     "output_type": "stream",
     "text": [
      "    152/200      1.12G     0.9189     0.7978      1.113         37        416: 100%|██████████| 20/20 [00:01<00:00, 11.37it/s]\n",
      "                 Class     Images  Instances      Box(P          R      mAP50  mAP50-95): 100%|██████████| 3/3 [00:00<00:00,  8.12it/s]"
     ]
    },
    {
     "name": "stdout",
     "output_type": "stream",
     "text": [
      "                   all         78        193      0.415      0.282        0.3      0.119\n"
     ]
    },
    {
     "name": "stderr",
     "output_type": "stream",
     "text": [
      "\n"
     ]
    },
    {
     "name": "stdout",
     "output_type": "stream",
     "text": [
      "\n",
      "      Epoch    GPU_mem   box_loss   cls_loss   dfl_loss  Instances       Size\n"
     ]
    },
    {
     "name": "stderr",
     "output_type": "stream",
     "text": [
      "    153/200      1.11G     0.9115     0.8032      1.104         46        416: 100%|██████████| 20/20 [00:01<00:00, 11.29it/s]\n",
      "                 Class     Images  Instances      Box(P          R      mAP50  mAP50-95): 100%|██████████| 3/3 [00:00<00:00,  9.61it/s]"
     ]
    },
    {
     "name": "stdout",
     "output_type": "stream",
     "text": [
      "                   all         78        193      0.412      0.291      0.302      0.123\n"
     ]
    },
    {
     "name": "stderr",
     "output_type": "stream",
     "text": [
      "\n"
     ]
    },
    {
     "name": "stdout",
     "output_type": "stream",
     "text": [
      "\n",
      "      Epoch    GPU_mem   box_loss   cls_loss   dfl_loss  Instances       Size\n"
     ]
    },
    {
     "name": "stderr",
     "output_type": "stream",
     "text": [
      "    154/200      1.12G     0.8759     0.7478      1.078         35        416: 100%|██████████| 20/20 [00:01<00:00, 11.86it/s]\n",
      "                 Class     Images  Instances      Box(P          R      mAP50  mAP50-95): 100%|██████████| 3/3 [00:00<00:00,  9.50it/s]\n"
     ]
    },
    {
     "name": "stdout",
     "output_type": "stream",
     "text": [
      "                   all         78        193       0.49      0.235      0.299      0.131\n",
      "\n",
      "      Epoch    GPU_mem   box_loss   cls_loss   dfl_loss  Instances       Size\n"
     ]
    },
    {
     "name": "stderr",
     "output_type": "stream",
     "text": [
      "    155/200      1.12G      0.889     0.7341      1.104         35        416: 100%|██████████| 20/20 [00:01<00:00, 11.03it/s]\n",
      "                 Class     Images  Instances      Box(P          R      mAP50  mAP50-95): 100%|██████████| 3/3 [00:00<00:00,  8.48it/s]"
     ]
    },
    {
     "name": "stdout",
     "output_type": "stream",
     "text": [
      "                   all         78        193      0.392      0.347      0.321      0.128\n"
     ]
    },
    {
     "name": "stderr",
     "output_type": "stream",
     "text": [
      "\n"
     ]
    },
    {
     "name": "stdout",
     "output_type": "stream",
     "text": [
      "\n",
      "      Epoch    GPU_mem   box_loss   cls_loss   dfl_loss  Instances       Size\n"
     ]
    },
    {
     "name": "stderr",
     "output_type": "stream",
     "text": [
      "    156/200      1.11G     0.8913     0.7787      1.102         42        416: 100%|██████████| 20/20 [00:01<00:00, 11.47it/s]\n",
      "                 Class     Images  Instances      Box(P          R      mAP50  mAP50-95): 100%|██████████| 3/3 [00:00<00:00,  9.13it/s]"
     ]
    },
    {
     "name": "stdout",
     "output_type": "stream",
     "text": [
      "                   all         78        193      0.523      0.286      0.332      0.132\n"
     ]
    },
    {
     "name": "stderr",
     "output_type": "stream",
     "text": [
      "\n"
     ]
    },
    {
     "name": "stdout",
     "output_type": "stream",
     "text": [
      "\n",
      "      Epoch    GPU_mem   box_loss   cls_loss   dfl_loss  Instances       Size\n"
     ]
    },
    {
     "name": "stderr",
     "output_type": "stream",
     "text": [
      "    157/200      1.11G      0.893     0.7588      1.097         47        416: 100%|██████████| 20/20 [00:01<00:00, 11.80it/s]\n",
      "                 Class     Images  Instances      Box(P          R      mAP50  mAP50-95): 100%|██████████| 3/3 [00:00<00:00,  8.68it/s]"
     ]
    },
    {
     "name": "stdout",
     "output_type": "stream",
     "text": [
      "                   all         78        193       0.48      0.272      0.316      0.141\n"
     ]
    },
    {
     "name": "stderr",
     "output_type": "stream",
     "text": [
      "\n"
     ]
    },
    {
     "name": "stdout",
     "output_type": "stream",
     "text": [
      "\n",
      "      Epoch    GPU_mem   box_loss   cls_loss   dfl_loss  Instances       Size\n"
     ]
    },
    {
     "name": "stderr",
     "output_type": "stream",
     "text": [
      "    158/200      1.12G     0.8824     0.7608      1.105         36        416: 100%|██████████| 20/20 [00:01<00:00, 11.86it/s]\n",
      "                 Class     Images  Instances      Box(P          R      mAP50  mAP50-95): 100%|██████████| 3/3 [00:00<00:00,  8.79it/s]"
     ]
    },
    {
     "name": "stdout",
     "output_type": "stream",
     "text": [
      "                   all         78        193      0.424      0.294      0.311      0.142\n"
     ]
    },
    {
     "name": "stderr",
     "output_type": "stream",
     "text": [
      "\n"
     ]
    },
    {
     "name": "stdout",
     "output_type": "stream",
     "text": [
      "\n",
      "      Epoch    GPU_mem   box_loss   cls_loss   dfl_loss  Instances       Size\n"
     ]
    },
    {
     "name": "stderr",
     "output_type": "stream",
     "text": [
      "    159/200      1.11G     0.9087     0.7846      1.111         23        416: 100%|██████████| 20/20 [00:01<00:00, 11.50it/s]\n",
      "                 Class     Images  Instances      Box(P          R      mAP50  mAP50-95): 100%|██████████| 3/3 [00:00<00:00,  9.20it/s]\n"
     ]
    },
    {
     "name": "stdout",
     "output_type": "stream",
     "text": [
      "                   all         78        193      0.374      0.307      0.298      0.127\n",
      "\n",
      "      Epoch    GPU_mem   box_loss   cls_loss   dfl_loss  Instances       Size\n"
     ]
    },
    {
     "name": "stderr",
     "output_type": "stream",
     "text": [
      "    160/200      1.12G     0.8791      0.746      1.095         31        416: 100%|██████████| 20/20 [00:01<00:00, 11.18it/s]\n",
      "                 Class     Images  Instances      Box(P          R      mAP50  mAP50-95): 100%|██████████| 3/3 [00:00<00:00,  8.66it/s]"
     ]
    },
    {
     "name": "stdout",
     "output_type": "stream",
     "text": [
      "                   all         78        193      0.481      0.266      0.291      0.128\n"
     ]
    },
    {
     "name": "stderr",
     "output_type": "stream",
     "text": [
      "\n"
     ]
    },
    {
     "name": "stdout",
     "output_type": "stream",
     "text": [
      "\n",
      "      Epoch    GPU_mem   box_loss   cls_loss   dfl_loss  Instances       Size\n"
     ]
    },
    {
     "name": "stderr",
     "output_type": "stream",
     "text": [
      "    161/200      1.11G     0.8693     0.7256      1.086         40        416: 100%|██████████| 20/20 [00:01<00:00, 11.19it/s]\n",
      "                 Class     Images  Instances      Box(P          R      mAP50  mAP50-95): 100%|██████████| 3/3 [00:00<00:00,  9.13it/s]"
     ]
    },
    {
     "name": "stdout",
     "output_type": "stream",
     "text": [
      "                   all         78        193      0.441      0.316      0.316      0.144\n"
     ]
    },
    {
     "name": "stderr",
     "output_type": "stream",
     "text": [
      "\n"
     ]
    },
    {
     "name": "stdout",
     "output_type": "stream",
     "text": [
      "\n",
      "      Epoch    GPU_mem   box_loss   cls_loss   dfl_loss  Instances       Size\n"
     ]
    },
    {
     "name": "stderr",
     "output_type": "stream",
     "text": [
      "    162/200      1.12G     0.8883     0.7404      1.112         28        416: 100%|██████████| 20/20 [00:01<00:00, 11.40it/s]\n",
      "                 Class     Images  Instances      Box(P          R      mAP50  mAP50-95): 100%|██████████| 3/3 [00:00<00:00,  8.75it/s]"
     ]
    },
    {
     "name": "stdout",
     "output_type": "stream",
     "text": [
      "                   all         78        193      0.413      0.327      0.319      0.135\n"
     ]
    },
    {
     "name": "stderr",
     "output_type": "stream",
     "text": [
      "\n"
     ]
    },
    {
     "name": "stdout",
     "output_type": "stream",
     "text": [
      "\n",
      "      Epoch    GPU_mem   box_loss   cls_loss   dfl_loss  Instances       Size\n"
     ]
    },
    {
     "name": "stderr",
     "output_type": "stream",
     "text": [
      "    163/200      1.11G     0.8681     0.7383      1.088         35        416: 100%|██████████| 20/20 [00:01<00:00, 11.68it/s]\n",
      "                 Class     Images  Instances      Box(P          R      mAP50  mAP50-95): 100%|██████████| 3/3 [00:00<00:00,  8.89it/s]"
     ]
    },
    {
     "name": "stdout",
     "output_type": "stream",
     "text": [
      "                   all         78        193      0.328      0.376      0.314      0.131\n"
     ]
    },
    {
     "name": "stderr",
     "output_type": "stream",
     "text": [
      "\n"
     ]
    },
    {
     "name": "stdout",
     "output_type": "stream",
     "text": [
      "\n",
      "      Epoch    GPU_mem   box_loss   cls_loss   dfl_loss  Instances       Size\n"
     ]
    },
    {
     "name": "stderr",
     "output_type": "stream",
     "text": [
      "    164/200      1.11G     0.8638     0.7371      1.104         39        416: 100%|██████████| 20/20 [00:01<00:00, 11.57it/s]\n",
      "                 Class     Images  Instances      Box(P          R      mAP50  mAP50-95): 100%|██████████| 3/3 [00:00<00:00,  8.15it/s]"
     ]
    },
    {
     "name": "stdout",
     "output_type": "stream",
     "text": [
      "                   all         78        193      0.461      0.279      0.317      0.139\n"
     ]
    },
    {
     "name": "stderr",
     "output_type": "stream",
     "text": [
      "\n"
     ]
    },
    {
     "name": "stdout",
     "output_type": "stream",
     "text": [
      "\n",
      "      Epoch    GPU_mem   box_loss   cls_loss   dfl_loss  Instances       Size\n"
     ]
    },
    {
     "name": "stderr",
     "output_type": "stream",
     "text": [
      "    165/200      1.12G     0.8682     0.7263      1.079         39        416: 100%|██████████| 20/20 [00:01<00:00, 11.34it/s]\n",
      "                 Class     Images  Instances      Box(P          R      mAP50  mAP50-95): 100%|██████████| 3/3 [00:00<00:00,  8.91it/s]\n"
     ]
    },
    {
     "name": "stdout",
     "output_type": "stream",
     "text": [
      "                   all         78        193      0.509       0.28      0.323      0.143\n",
      "\n",
      "      Epoch    GPU_mem   box_loss   cls_loss   dfl_loss  Instances       Size\n"
     ]
    },
    {
     "name": "stderr",
     "output_type": "stream",
     "text": [
      "    166/200      1.11G     0.8585     0.7445      1.088         31        416: 100%|██████████| 20/20 [00:01<00:00, 10.79it/s]\n",
      "                 Class     Images  Instances      Box(P          R      mAP50  mAP50-95): 100%|██████████| 3/3 [00:00<00:00,  8.26it/s]"
     ]
    },
    {
     "name": "stdout",
     "output_type": "stream",
     "text": [
      "                   all         78        193      0.559      0.263      0.336       0.14\n"
     ]
    },
    {
     "name": "stderr",
     "output_type": "stream",
     "text": [
      "\n"
     ]
    },
    {
     "name": "stdout",
     "output_type": "stream",
     "text": [
      "\n",
      "      Epoch    GPU_mem   box_loss   cls_loss   dfl_loss  Instances       Size\n"
     ]
    },
    {
     "name": "stderr",
     "output_type": "stream",
     "text": [
      "    167/200      1.12G     0.8646     0.7636      1.102         26        416: 100%|██████████| 20/20 [00:01<00:00, 11.71it/s]\n",
      "                 Class     Images  Instances      Box(P          R      mAP50  mAP50-95): 100%|██████████| 3/3 [00:00<00:00,  8.00it/s]"
     ]
    },
    {
     "name": "stdout",
     "output_type": "stream",
     "text": [
      "                   all         78        193      0.354      0.334      0.322      0.135\n"
     ]
    },
    {
     "name": "stderr",
     "output_type": "stream",
     "text": [
      "\n"
     ]
    },
    {
     "name": "stdout",
     "output_type": "stream",
     "text": [
      "\n",
      "      Epoch    GPU_mem   box_loss   cls_loss   dfl_loss  Instances       Size\n"
     ]
    },
    {
     "name": "stderr",
     "output_type": "stream",
     "text": [
      "    168/200      1.12G     0.8274     0.6952      1.059         38        416: 100%|██████████| 20/20 [00:01<00:00, 11.54it/s]\n",
      "                 Class     Images  Instances      Box(P          R      mAP50  mAP50-95): 100%|██████████| 3/3 [00:00<00:00,  9.09it/s]\n"
     ]
    },
    {
     "name": "stdout",
     "output_type": "stream",
     "text": [
      "                   all         78        193      0.459      0.274      0.297      0.122\n",
      "\n",
      "      Epoch    GPU_mem   box_loss   cls_loss   dfl_loss  Instances       Size\n"
     ]
    },
    {
     "name": "stderr",
     "output_type": "stream",
     "text": [
      "    169/200      1.12G     0.8868     0.7553      1.106         42        416: 100%|██████████| 20/20 [00:01<00:00, 11.58it/s]\n",
      "                 Class     Images  Instances      Box(P          R      mAP50  mAP50-95): 100%|██████████| 3/3 [00:00<00:00,  9.70it/s]"
     ]
    },
    {
     "name": "stdout",
     "output_type": "stream",
     "text": [
      "                   all         78        193      0.458      0.268      0.294      0.119\n"
     ]
    },
    {
     "name": "stderr",
     "output_type": "stream",
     "text": [
      "\n"
     ]
    },
    {
     "name": "stdout",
     "output_type": "stream",
     "text": [
      "\n",
      "      Epoch    GPU_mem   box_loss   cls_loss   dfl_loss  Instances       Size\n"
     ]
    },
    {
     "name": "stderr",
     "output_type": "stream",
     "text": [
      "    170/200      1.12G     0.8329     0.7046      1.068         32        416: 100%|██████████| 20/20 [00:01<00:00, 11.60it/s]\n",
      "                 Class     Images  Instances      Box(P          R      mAP50  mAP50-95): 100%|██████████| 3/3 [00:00<00:00,  8.08it/s]"
     ]
    },
    {
     "name": "stdout",
     "output_type": "stream",
     "text": [
      "                   all         78        193      0.543      0.263      0.316      0.124\n"
     ]
    },
    {
     "name": "stderr",
     "output_type": "stream",
     "text": [
      "\n"
     ]
    },
    {
     "name": "stdout",
     "output_type": "stream",
     "text": [
      "\n",
      "      Epoch    GPU_mem   box_loss   cls_loss   dfl_loss  Instances       Size\n"
     ]
    },
    {
     "name": "stderr",
     "output_type": "stream",
     "text": [
      "    171/200      1.12G     0.8461     0.7115      1.088         29        416: 100%|██████████| 20/20 [00:01<00:00, 10.91it/s]\n",
      "                 Class     Images  Instances      Box(P          R      mAP50  mAP50-95): 100%|██████████| 3/3 [00:00<00:00,  9.66it/s]\n"
     ]
    },
    {
     "name": "stdout",
     "output_type": "stream",
     "text": [
      "                   all         78        193      0.362       0.33      0.304      0.123\n",
      "\n",
      "      Epoch    GPU_mem   box_loss   cls_loss   dfl_loss  Instances       Size\n"
     ]
    },
    {
     "name": "stderr",
     "output_type": "stream",
     "text": [
      "    172/200      1.12G     0.8236     0.6932      1.062         29        416: 100%|██████████| 20/20 [00:01<00:00, 11.71it/s]\n",
      "                 Class     Images  Instances      Box(P          R      mAP50  mAP50-95): 100%|██████████| 3/3 [00:00<00:00,  8.66it/s]"
     ]
    },
    {
     "name": "stdout",
     "output_type": "stream",
     "text": [
      "                   all         78        193      0.328      0.352      0.302       0.12\n"
     ]
    },
    {
     "name": "stderr",
     "output_type": "stream",
     "text": [
      "\n"
     ]
    },
    {
     "name": "stdout",
     "output_type": "stream",
     "text": [
      "\n",
      "      Epoch    GPU_mem   box_loss   cls_loss   dfl_loss  Instances       Size\n"
     ]
    },
    {
     "name": "stderr",
     "output_type": "stream",
     "text": [
      "    173/200      1.11G     0.8517     0.7034      1.073         35        416: 100%|██████████| 20/20 [00:01<00:00, 11.69it/s]\n",
      "                 Class     Images  Instances      Box(P          R      mAP50  mAP50-95): 100%|██████████| 3/3 [00:00<00:00,  9.09it/s]"
     ]
    },
    {
     "name": "stdout",
     "output_type": "stream",
     "text": [
      "                   all         78        193      0.505      0.269      0.309      0.124\n"
     ]
    },
    {
     "name": "stderr",
     "output_type": "stream",
     "text": [
      "\n"
     ]
    },
    {
     "name": "stdout",
     "output_type": "stream",
     "text": [
      "\n",
      "      Epoch    GPU_mem   box_loss   cls_loss   dfl_loss  Instances       Size\n"
     ]
    },
    {
     "name": "stderr",
     "output_type": "stream",
     "text": [
      "    174/200      1.11G     0.8508     0.7127       1.08         56        416: 100%|██████████| 20/20 [00:01<00:00, 11.47it/s]\n",
      "                 Class     Images  Instances      Box(P          R      mAP50  mAP50-95): 100%|██████████| 3/3 [00:00<00:00,  9.25it/s]"
     ]
    },
    {
     "name": "stdout",
     "output_type": "stream",
     "text": [
      "                   all         78        193      0.546      0.265      0.315      0.133\n"
     ]
    },
    {
     "name": "stderr",
     "output_type": "stream",
     "text": [
      "\n"
     ]
    },
    {
     "name": "stdout",
     "output_type": "stream",
     "text": [
      "\n",
      "      Epoch    GPU_mem   box_loss   cls_loss   dfl_loss  Instances       Size\n"
     ]
    },
    {
     "name": "stderr",
     "output_type": "stream",
     "text": [
      "    175/200      1.11G     0.8186     0.6831      1.067         38        416: 100%|██████████| 20/20 [00:01<00:00, 11.65it/s]\n",
      "                 Class     Images  Instances      Box(P          R      mAP50  mAP50-95): 100%|██████████| 3/3 [00:00<00:00,  8.09it/s]"
     ]
    },
    {
     "name": "stdout",
     "output_type": "stream",
     "text": [
      "                   all         78        193      0.516      0.272      0.327      0.131\n"
     ]
    },
    {
     "name": "stderr",
     "output_type": "stream",
     "text": [
      "\n"
     ]
    },
    {
     "name": "stdout",
     "output_type": "stream",
     "text": [
      "\n",
      "      Epoch    GPU_mem   box_loss   cls_loss   dfl_loss  Instances       Size\n"
     ]
    },
    {
     "name": "stderr",
     "output_type": "stream",
     "text": [
      "    176/200      1.12G     0.8384     0.7269      1.074         36        416: 100%|██████████| 20/20 [00:01<00:00, 11.21it/s]\n",
      "                 Class     Images  Instances      Box(P          R      mAP50  mAP50-95): 100%|██████████| 3/3 [00:00<00:00,  8.30it/s]"
     ]
    },
    {
     "name": "stdout",
     "output_type": "stream",
     "text": [
      "                   all         78        193      0.565      0.254      0.317      0.128\n"
     ]
    },
    {
     "name": "stderr",
     "output_type": "stream",
     "text": [
      "\n"
     ]
    },
    {
     "name": "stdout",
     "output_type": "stream",
     "text": [
      "\n",
      "      Epoch    GPU_mem   box_loss   cls_loss   dfl_loss  Instances       Size\n"
     ]
    },
    {
     "name": "stderr",
     "output_type": "stream",
     "text": [
      "    177/200      1.12G     0.8203     0.7087      1.074         42        416: 100%|██████████| 20/20 [00:01<00:00, 11.49it/s]\n",
      "                 Class     Images  Instances      Box(P          R      mAP50  mAP50-95): 100%|██████████| 3/3 [00:00<00:00,  8.62it/s]"
     ]
    },
    {
     "name": "stdout",
     "output_type": "stream",
     "text": [
      "                   all         78        193      0.591      0.271      0.304      0.124\n"
     ]
    },
    {
     "name": "stderr",
     "output_type": "stream",
     "text": [
      "\n"
     ]
    },
    {
     "name": "stdout",
     "output_type": "stream",
     "text": [
      "\n",
      "      Epoch    GPU_mem   box_loss   cls_loss   dfl_loss  Instances       Size\n"
     ]
    },
    {
     "name": "stderr",
     "output_type": "stream",
     "text": [
      "    178/200      1.11G     0.8237     0.6857      1.079         47        416: 100%|██████████| 20/20 [00:01<00:00, 11.71it/s]\n",
      "                 Class     Images  Instances      Box(P          R      mAP50  mAP50-95): 100%|██████████| 3/3 [00:00<00:00,  9.10it/s]\n"
     ]
    },
    {
     "name": "stdout",
     "output_type": "stream",
     "text": [
      "                   all         78        193      0.534      0.286      0.307      0.122\n",
      "\n",
      "      Epoch    GPU_mem   box_loss   cls_loss   dfl_loss  Instances       Size\n"
     ]
    },
    {
     "name": "stderr",
     "output_type": "stream",
     "text": [
      "    179/200      1.12G     0.8199     0.6813      1.077         40        416: 100%|██████████| 20/20 [00:01<00:00, 11.48it/s]\n",
      "                 Class     Images  Instances      Box(P          R      mAP50  mAP50-95): 100%|██████████| 3/3 [00:00<00:00,  9.03it/s]"
     ]
    },
    {
     "name": "stdout",
     "output_type": "stream",
     "text": [
      "                   all         78        193      0.601      0.262      0.328      0.124\n"
     ]
    },
    {
     "name": "stderr",
     "output_type": "stream",
     "text": [
      "\n"
     ]
    },
    {
     "name": "stdout",
     "output_type": "stream",
     "text": [
      "\n",
      "      Epoch    GPU_mem   box_loss   cls_loss   dfl_loss  Instances       Size\n"
     ]
    },
    {
     "name": "stderr",
     "output_type": "stream",
     "text": [
      "    180/200      1.11G     0.8451     0.7153      1.073         37        416: 100%|██████████| 20/20 [00:01<00:00, 11.82it/s]\n",
      "                 Class     Images  Instances      Box(P          R      mAP50  mAP50-95): 100%|██████████| 3/3 [00:00<00:00,  8.70it/s]"
     ]
    },
    {
     "name": "stdout",
     "output_type": "stream",
     "text": [
      "                   all         78        193      0.388      0.356      0.331      0.131\n"
     ]
    },
    {
     "name": "stderr",
     "output_type": "stream",
     "text": [
      "\n"
     ]
    },
    {
     "name": "stdout",
     "output_type": "stream",
     "text": [
      "\n",
      "      Epoch    GPU_mem   box_loss   cls_loss   dfl_loss  Instances       Size\n"
     ]
    },
    {
     "name": "stderr",
     "output_type": "stream",
     "text": [
      "    181/200      1.11G     0.8046     0.6724      1.072         28        416: 100%|██████████| 20/20 [00:01<00:00, 11.15it/s]\n",
      "                 Class     Images  Instances      Box(P          R      mAP50  mAP50-95): 100%|██████████| 3/3 [00:00<00:00,  7.68it/s]"
     ]
    },
    {
     "name": "stdout",
     "output_type": "stream",
     "text": [
      "                   all         78        193      0.501        0.3      0.322      0.127\n"
     ]
    },
    {
     "name": "stderr",
     "output_type": "stream",
     "text": [
      "\n"
     ]
    },
    {
     "name": "stdout",
     "output_type": "stream",
     "text": [
      "\n",
      "      Epoch    GPU_mem   box_loss   cls_loss   dfl_loss  Instances       Size\n"
     ]
    },
    {
     "name": "stderr",
     "output_type": "stream",
     "text": [
      "    182/200      1.11G     0.8169     0.6944       1.07         20        416: 100%|██████████| 20/20 [00:01<00:00, 11.06it/s]\n",
      "                 Class     Images  Instances      Box(P          R      mAP50  mAP50-95): 100%|██████████| 3/3 [00:00<00:00,  9.59it/s]\n"
     ]
    },
    {
     "name": "stdout",
     "output_type": "stream",
     "text": [
      "                   all         78        193      0.504      0.311      0.308       0.12\n",
      "\n",
      "      Epoch    GPU_mem   box_loss   cls_loss   dfl_loss  Instances       Size\n"
     ]
    },
    {
     "name": "stderr",
     "output_type": "stream",
     "text": [
      "    183/200      1.11G     0.8239     0.6809      1.071         26        416: 100%|██████████| 20/20 [00:01<00:00, 11.35it/s]\n",
      "                 Class     Images  Instances      Box(P          R      mAP50  mAP50-95): 100%|██████████| 3/3 [00:00<00:00,  8.84it/s]\n"
     ]
    },
    {
     "name": "stdout",
     "output_type": "stream",
     "text": [
      "                   all         78        193      0.536      0.285      0.309      0.124\n",
      "\n",
      "      Epoch    GPU_mem   box_loss   cls_loss   dfl_loss  Instances       Size\n"
     ]
    },
    {
     "name": "stderr",
     "output_type": "stream",
     "text": [
      "    184/200      1.12G     0.7865     0.6838      1.056         30        416: 100%|██████████| 20/20 [00:01<00:00, 11.60it/s]\n",
      "                 Class     Images  Instances      Box(P          R      mAP50  mAP50-95): 100%|██████████| 3/3 [00:00<00:00,  8.98it/s]"
     ]
    },
    {
     "name": "stdout",
     "output_type": "stream",
     "text": [
      "                   all         78        193      0.544       0.27      0.308      0.124\n"
     ]
    },
    {
     "name": "stderr",
     "output_type": "stream",
     "text": [
      "\n"
     ]
    },
    {
     "name": "stdout",
     "output_type": "stream",
     "text": [
      "\n",
      "      Epoch    GPU_mem   box_loss   cls_loss   dfl_loss  Instances       Size\n"
     ]
    },
    {
     "name": "stderr",
     "output_type": "stream",
     "text": [
      "    185/200      1.12G      0.826     0.6711       1.07         35        416: 100%|██████████| 20/20 [00:01<00:00, 11.64it/s]\n",
      "                 Class     Images  Instances      Box(P          R      mAP50  mAP50-95): 100%|██████████| 3/3 [00:00<00:00,  8.76it/s]"
     ]
    },
    {
     "name": "stdout",
     "output_type": "stream",
     "text": [
      "                   all         78        193      0.437      0.314       0.31      0.129\n"
     ]
    },
    {
     "name": "stderr",
     "output_type": "stream",
     "text": [
      "\n"
     ]
    },
    {
     "name": "stdout",
     "output_type": "stream",
     "text": [
      "\n",
      "      Epoch    GPU_mem   box_loss   cls_loss   dfl_loss  Instances       Size\n"
     ]
    },
    {
     "name": "stderr",
     "output_type": "stream",
     "text": [
      "    186/200      1.12G     0.7926      0.676       1.05         27        416: 100%|██████████| 20/20 [00:01<00:00, 11.00it/s]\n",
      "                 Class     Images  Instances      Box(P          R      mAP50  mAP50-95): 100%|██████████| 3/3 [00:00<00:00,  8.43it/s]"
     ]
    },
    {
     "name": "stdout",
     "output_type": "stream",
     "text": [
      "                   all         78        193      0.488      0.276      0.314       0.13\n"
     ]
    },
    {
     "name": "stderr",
     "output_type": "stream",
     "text": [
      "\n"
     ]
    },
    {
     "name": "stdout",
     "output_type": "stream",
     "text": [
      "\n",
      "      Epoch    GPU_mem   box_loss   cls_loss   dfl_loss  Instances       Size\n"
     ]
    },
    {
     "name": "stderr",
     "output_type": "stream",
     "text": [
      "    187/200      1.12G     0.8056      0.683      1.059         32        416: 100%|██████████| 20/20 [00:01<00:00, 11.07it/s]\n",
      "                 Class     Images  Instances      Box(P          R      mAP50  mAP50-95): 100%|██████████| 3/3 [00:00<00:00,  9.48it/s]"
     ]
    },
    {
     "name": "stdout",
     "output_type": "stream",
     "text": [
      "                   all         78        193      0.406      0.304      0.318      0.128\n"
     ]
    },
    {
     "name": "stderr",
     "output_type": "stream",
     "text": [
      "\n"
     ]
    },
    {
     "name": "stdout",
     "output_type": "stream",
     "text": [
      "\n",
      "      Epoch    GPU_mem   box_loss   cls_loss   dfl_loss  Instances       Size\n"
     ]
    },
    {
     "name": "stderr",
     "output_type": "stream",
     "text": [
      "    188/200      1.11G     0.7841     0.6339      1.046         50        416: 100%|██████████| 20/20 [00:01<00:00, 11.23it/s]\n",
      "                 Class     Images  Instances      Box(P          R      mAP50  mAP50-95): 100%|██████████| 3/3 [00:00<00:00,  9.80it/s]"
     ]
    },
    {
     "name": "stdout",
     "output_type": "stream",
     "text": [
      "                   all         78        193      0.419      0.312      0.314      0.126\n"
     ]
    },
    {
     "name": "stderr",
     "output_type": "stream",
     "text": [
      "\n"
     ]
    },
    {
     "name": "stdout",
     "output_type": "stream",
     "text": [
      "\n",
      "      Epoch    GPU_mem   box_loss   cls_loss   dfl_loss  Instances       Size\n"
     ]
    },
    {
     "name": "stderr",
     "output_type": "stream",
     "text": [
      "    189/200      1.11G     0.7824     0.6501      1.058         47        416: 100%|██████████| 20/20 [00:01<00:00, 11.76it/s]\n",
      "                 Class     Images  Instances      Box(P          R      mAP50  mAP50-95): 100%|██████████| 3/3 [00:00<00:00,  9.47it/s]"
     ]
    },
    {
     "name": "stdout",
     "output_type": "stream",
     "text": [
      "                   all         78        193      0.402      0.305      0.316      0.131\n"
     ]
    },
    {
     "name": "stderr",
     "output_type": "stream",
     "text": [
      "\n"
     ]
    },
    {
     "name": "stdout",
     "output_type": "stream",
     "text": [
      "\n",
      "      Epoch    GPU_mem   box_loss   cls_loss   dfl_loss  Instances       Size\n"
     ]
    },
    {
     "name": "stderr",
     "output_type": "stream",
     "text": [
      "    190/200      1.12G     0.7741     0.6525      1.066         31        416: 100%|██████████| 20/20 [00:01<00:00, 11.29it/s]\n",
      "                 Class     Images  Instances      Box(P          R      mAP50  mAP50-95): 100%|██████████| 3/3 [00:00<00:00,  9.92it/s]"
     ]
    },
    {
     "name": "stdout",
     "output_type": "stream",
     "text": [
      "                   all         78        193      0.448      0.261      0.313      0.131\n"
     ]
    },
    {
     "name": "stderr",
     "output_type": "stream",
     "text": [
      "\n"
     ]
    },
    {
     "name": "stdout",
     "output_type": "stream",
     "text": [
      "Closing dataloader mosaic\n",
      "\u001b[34m\u001b[1malbumentations: \u001b[0mBlur(p=0.01, blur_limit=(3, 7)), MedianBlur(p=0.01, blur_limit=(3, 7)), ToGray(p=0.01), CLAHE(p=0.01, clip_limit=(1, 4.0), tile_grid_size=(8, 8))\n",
      "\n",
      "      Epoch    GPU_mem   box_loss   cls_loss   dfl_loss  Instances       Size\n"
     ]
    },
    {
     "name": "stderr",
     "output_type": "stream",
     "text": [
      "    191/200      1.11G     0.7613     0.6112      1.021         21        416: 100%|██████████| 20/20 [00:03<00:00,  5.88it/s]\n",
      "                 Class     Images  Instances      Box(P          R      mAP50  mAP50-95): 100%|██████████| 3/3 [00:00<00:00,  8.12it/s]"
     ]
    },
    {
     "name": "stdout",
     "output_type": "stream",
     "text": [
      "                   all         78        193      0.449      0.271      0.311      0.126\n"
     ]
    },
    {
     "name": "stderr",
     "output_type": "stream",
     "text": [
      "\n"
     ]
    },
    {
     "name": "stdout",
     "output_type": "stream",
     "text": [
      "\n",
      "      Epoch    GPU_mem   box_loss   cls_loss   dfl_loss  Instances       Size\n"
     ]
    },
    {
     "name": "stderr",
     "output_type": "stream",
     "text": [
      "    192/200      1.11G     0.7038     0.5621     0.9936         24        416: 100%|██████████| 20/20 [00:01<00:00, 11.29it/s]\n",
      "                 Class     Images  Instances      Box(P          R      mAP50  mAP50-95): 100%|██████████| 3/3 [00:00<00:00,  8.74it/s]"
     ]
    },
    {
     "name": "stdout",
     "output_type": "stream",
     "text": [
      "                   all         78        193      0.465      0.278      0.309      0.124\n"
     ]
    },
    {
     "name": "stderr",
     "output_type": "stream",
     "text": [
      "\n"
     ]
    },
    {
     "name": "stdout",
     "output_type": "stream",
     "text": [
      "\n",
      "      Epoch    GPU_mem   box_loss   cls_loss   dfl_loss  Instances       Size\n"
     ]
    },
    {
     "name": "stderr",
     "output_type": "stream",
     "text": [
      "    193/200      1.11G     0.7062     0.5876     0.9908         22        416: 100%|██████████| 20/20 [00:01<00:00, 11.44it/s]\n",
      "                 Class     Images  Instances      Box(P          R      mAP50  mAP50-95): 100%|██████████| 3/3 [00:00<00:00,  9.32it/s]"
     ]
    },
    {
     "name": "stdout",
     "output_type": "stream",
     "text": [
      "                   all         78        193      0.501      0.261      0.311      0.124\n"
     ]
    },
    {
     "name": "stderr",
     "output_type": "stream",
     "text": [
      "\n"
     ]
    },
    {
     "name": "stdout",
     "output_type": "stream",
     "text": [
      "\n",
      "      Epoch    GPU_mem   box_loss   cls_loss   dfl_loss  Instances       Size\n"
     ]
    },
    {
     "name": "stderr",
     "output_type": "stream",
     "text": [
      "    194/200      1.12G     0.6853     0.5142     0.9712         20        416: 100%|██████████| 20/20 [00:01<00:00, 11.47it/s]\n",
      "                 Class     Images  Instances      Box(P          R      mAP50  mAP50-95): 100%|██████████| 3/3 [00:00<00:00,  8.22it/s]"
     ]
    },
    {
     "name": "stdout",
     "output_type": "stream",
     "text": [
      "                   all         78        193      0.454      0.243      0.292      0.119\n"
     ]
    },
    {
     "name": "stderr",
     "output_type": "stream",
     "text": [
      "\n"
     ]
    },
    {
     "name": "stdout",
     "output_type": "stream",
     "text": [
      "\n",
      "      Epoch    GPU_mem   box_loss   cls_loss   dfl_loss  Instances       Size\n"
     ]
    },
    {
     "name": "stderr",
     "output_type": "stream",
     "text": [
      "    195/200      1.11G     0.6689     0.5298     0.9864         21        416: 100%|██████████| 20/20 [00:01<00:00, 11.49it/s]\n",
      "                 Class     Images  Instances      Box(P          R      mAP50  mAP50-95): 100%|██████████| 3/3 [00:00<00:00,  9.84it/s]"
     ]
    },
    {
     "name": "stdout",
     "output_type": "stream",
     "text": [
      "                   all         78        193      0.356       0.31      0.306      0.122\n"
     ]
    },
    {
     "name": "stderr",
     "output_type": "stream",
     "text": [
      "\n"
     ]
    },
    {
     "name": "stdout",
     "output_type": "stream",
     "text": [
      "\n",
      "      Epoch    GPU_mem   box_loss   cls_loss   dfl_loss  Instances       Size\n"
     ]
    },
    {
     "name": "stderr",
     "output_type": "stream",
     "text": [
      "    196/200      1.11G       0.67     0.5379     0.9806         20        416: 100%|██████████| 20/20 [00:01<00:00, 11.26it/s]\n",
      "                 Class     Images  Instances      Box(P          R      mAP50  mAP50-95): 100%|██████████| 3/3 [00:00<00:00,  7.89it/s]"
     ]
    },
    {
     "name": "stdout",
     "output_type": "stream",
     "text": [
      "                   all         78        193      0.493      0.247      0.304      0.125\n"
     ]
    },
    {
     "name": "stderr",
     "output_type": "stream",
     "text": [
      "\n"
     ]
    },
    {
     "name": "stdout",
     "output_type": "stream",
     "text": [
      "\n",
      "      Epoch    GPU_mem   box_loss   cls_loss   dfl_loss  Instances       Size\n"
     ]
    },
    {
     "name": "stderr",
     "output_type": "stream",
     "text": [
      "    197/200      1.11G     0.6614     0.4999     0.9711         24        416: 100%|██████████| 20/20 [00:01<00:00, 11.36it/s]\n",
      "                 Class     Images  Instances      Box(P          R      mAP50  mAP50-95): 100%|██████████| 3/3 [00:00<00:00,  9.69it/s]"
     ]
    },
    {
     "name": "stdout",
     "output_type": "stream",
     "text": [
      "                   all         78        193       0.54      0.243      0.306      0.125\n"
     ]
    },
    {
     "name": "stderr",
     "output_type": "stream",
     "text": [
      "\n"
     ]
    },
    {
     "name": "stdout",
     "output_type": "stream",
     "text": [
      "\n",
      "      Epoch    GPU_mem   box_loss   cls_loss   dfl_loss  Instances       Size\n"
     ]
    },
    {
     "name": "stderr",
     "output_type": "stream",
     "text": [
      "    198/200      1.11G     0.6482     0.5096     0.9836         18        416: 100%|██████████| 20/20 [00:01<00:00, 11.62it/s]\n",
      "                 Class     Images  Instances      Box(P          R      mAP50  mAP50-95): 100%|██████████| 3/3 [00:00<00:00,  9.24it/s]"
     ]
    },
    {
     "name": "stdout",
     "output_type": "stream",
     "text": [
      "                   all         78        193      0.404        0.3      0.311      0.124\n"
     ]
    },
    {
     "name": "stderr",
     "output_type": "stream",
     "text": [
      "\n"
     ]
    },
    {
     "name": "stdout",
     "output_type": "stream",
     "text": [
      "\n",
      "      Epoch    GPU_mem   box_loss   cls_loss   dfl_loss  Instances       Size\n"
     ]
    },
    {
     "name": "stderr",
     "output_type": "stream",
     "text": [
      "    199/200      1.11G     0.6591     0.5043     0.9749         15        416: 100%|██████████| 20/20 [00:01<00:00, 11.53it/s]\n",
      "                 Class     Images  Instances      Box(P          R      mAP50  mAP50-95): 100%|██████████| 3/3 [00:00<00:00,  9.43it/s]"
     ]
    },
    {
     "name": "stdout",
     "output_type": "stream",
     "text": [
      "                   all         78        193      0.538      0.256      0.304      0.124\n"
     ]
    },
    {
     "name": "stderr",
     "output_type": "stream",
     "text": [
      "\n"
     ]
    },
    {
     "name": "stdout",
     "output_type": "stream",
     "text": [
      "\n",
      "      Epoch    GPU_mem   box_loss   cls_loss   dfl_loss  Instances       Size\n"
     ]
    },
    {
     "name": "stderr",
     "output_type": "stream",
     "text": [
      "    200/200      1.12G     0.6583     0.5036     0.9611         16        416: 100%|██████████| 20/20 [00:01<00:00, 11.43it/s]\n",
      "                 Class     Images  Instances      Box(P          R      mAP50  mAP50-95): 100%|██████████| 3/3 [00:00<00:00,  9.09it/s]\n"
     ]
    },
    {
     "name": "stdout",
     "output_type": "stream",
     "text": [
      "                   all         78        193      0.489      0.263      0.303      0.124\n",
      "\n",
      "200 epochs completed in 0.135 hours.\n",
      "Optimizer stripped from runs/detect/train/weights/last.pt, 6.2MB\n",
      "Optimizer stripped from runs/detect/train/weights/best.pt, 6.2MB\n",
      "\n",
      "Validating runs/detect/train/weights/best.pt...\n",
      "Ultralytics YOLOv8.1.42 🚀 Python-3.10.12 torch-2.2.1+cu121 CUDA:0 (NVIDIA A100-SXM4-40GB, 40514MiB)\n",
      "Model summary (fused): 168 layers, 3006623 parameters, 0 gradients, 8.1 GFLOPs\n"
     ]
    },
    {
     "name": "stderr",
     "output_type": "stream",
     "text": [
      "                 Class     Images  Instances      Box(P          R      mAP50  mAP50-95): 100%|██████████| 3/3 [00:01<00:00,  2.55it/s]\n"
     ]
    },
    {
     "name": "stdout",
     "output_type": "stream",
     "text": [
      "                   all         78        193      0.507       0.28      0.323      0.143\n",
      "             dry_waste         78         49      0.315      0.143     0.0986     0.0316\n",
      "fruits - vegetables_waste         78         26      0.595      0.308       0.41       0.16\n",
      "                others         78         14      0.565      0.214       0.26      0.122\n",
      "         plastic_waste         78         31      0.605      0.516       0.61      0.324\n",
      "         stubble_waste         78         73      0.456      0.219      0.235     0.0793\n",
      "Speed: 0.1ms preprocess, 0.7ms inference, 0.0ms loss, 1.1ms postprocess per image\n",
      "Results saved to \u001b[1mruns/detect/train\u001b[0m\n"
     ]
    }
   ],
   "source": [
    "from ultralytics import YOLO\n",
    "\n",
    "# Load a model\n",
    "# model = YOLO(\"yolov8m.yaml\")  # build a new model from scratch\n",
    "model = YOLO(\"yolov8n.pt\")  # load a pretrained model (recommended for training)\n",
    "\n",
    "# Use the model\n",
    "results = model.train(data=\"/content/drive/MyDrive/crop/yolov8/data.yaml\", epochs=200, imgsz=416)  # train the model"
   ]
  },
  {
   "cell_type": "code",
   "execution_count": 5,
   "metadata": {
    "id": "DEsLN7wFiGPr"
   },
   "outputs": [],
   "source": [
    "p_yol5 = 0.507\n",
    "r_yol5 = 0.288\n",
    "mAP_yolo5 = 0.323\n",
    "\n",
    "storeResults('YoloV8',p_yol5,r_yol5,mAP_yolo5)"
   ]
  },
  {
   "cell_type": "code",
   "execution_count": 19,
   "metadata": {
    "executionInfo": {
     "elapsed": 4,
     "status": "ok",
     "timestamp": 1712211529980,
     "user": {
      "displayName": "TruProjects yolo",
      "userId": "18414174829652366032"
     },
     "user_tz": -330
    },
    "id": "cSOzykKJdeFR"
   },
   "outputs": [],
   "source": [
    "import locale\n",
    "locale.getpreferredencoding = lambda: \"UTF-8\""
   ]
  },
  {
   "cell_type": "code",
   "execution_count": 20,
   "metadata": {
    "colab": {
     "base_uri": "https://localhost:8080/"
    },
    "executionInfo": {
     "elapsed": 1273,
     "status": "ok",
     "timestamp": 1712211531249,
     "user": {
      "displayName": "TruProjects yolo",
      "userId": "18414174829652366032"
     },
     "user_tz": -330
    },
    "id": "Qff3KiHDFbSO",
    "outputId": "a078b3d2-f52c-4d45-f5ae-fce8ca963373"
   },
   "outputs": [
    {
     "name": "stdout",
     "output_type": "stream",
     "text": [
      "  adding: content/runs/ (stored 0%)\n",
      "  adding: content/runs/detect/ (stored 0%)\n",
      "  adding: content/runs/detect/train/ (stored 0%)\n",
      "  adding: content/runs/detect/train/train_batch1.jpg (deflated 2%)\n",
      "  adding: content/runs/detect/train/P_curve.png (deflated 7%)\n",
      "  adding: content/runs/detect/train/events.out.tfevents.1712210927.d3d32e9e6ab2.1002.0 (deflated 84%)\n",
      "  adding: content/runs/detect/train/val_batch0_pred.jpg (deflated 6%)\n",
      "  adding: content/runs/detect/train/labels_correlogram.jpg (deflated 42%)\n",
      "  adding: content/runs/detect/train/val_batch1_pred.jpg (deflated 6%)\n",
      "  adding: content/runs/detect/train/F1_curve.png (deflated 10%)\n",
      "  adding: content/runs/detect/train/train_batch0.jpg (deflated 2%)\n",
      "  adding: content/runs/detect/train/train_batch3802.jpg (deflated 3%)\n",
      "  adding: content/runs/detect/train/weights/ (stored 0%)\n",
      "  adding: content/runs/detect/train/weights/last.pt (deflated 9%)\n",
      "  adding: content/runs/detect/train/weights/best.pt (deflated 9%)\n",
      "  adding: content/runs/detect/train/results.png (deflated 6%)\n",
      "  adding: content/runs/detect/train/train_batch3800.jpg (deflated 3%)\n",
      "  adding: content/runs/detect/train/results.csv (deflated 85%)\n",
      "  adding: content/runs/detect/train/args.yaml (deflated 52%)\n",
      "  adding: content/runs/detect/train/labels.jpg (deflated 24%)\n",
      "  adding: content/runs/detect/train/train_batch3801.jpg (deflated 5%)\n",
      "  adding: content/runs/detect/train/R_curve.png (deflated 12%)\n",
      "  adding: content/runs/detect/train/train_batch2.jpg (deflated 2%)\n",
      "  adding: content/runs/detect/train/val_batch2_pred.jpg (deflated 7%)\n",
      "  adding: content/runs/detect/train/val_batch1_labels.jpg (deflated 6%)\n",
      "  adding: content/runs/detect/train/confusion_matrix.png (deflated 24%)\n",
      "  adding: content/runs/detect/train/PR_curve.png (deflated 12%)\n",
      "  adding: content/runs/detect/train/val_batch2_labels.jpg (deflated 7%)\n",
      "  adding: content/runs/detect/train/val_batch0_labels.jpg (deflated 5%)\n",
      "  adding: content/runs/detect/train/confusion_matrix_normalized.png (deflated 21%)\n"
     ]
    }
   ],
   "source": [
    "!zip -r /content/drive/MyDrive/crop/file_v8zip /content/runs"
   ]
  },
  {
   "cell_type": "markdown",
   "metadata": {
    "id": "9yIjSak9PYOv"
   },
   "source": [
    "# Comparison"
   ]
  },
  {
   "cell_type": "code",
   "execution_count": 6,
   "metadata": {
    "id": "VkwqFsoVPYOv"
   },
   "outputs": [],
   "source": [
    "#creating dataframe\n",
    "import pandas as pd\n",
    "result = pd.DataFrame({ 'ML Model' : ML_Model,\n",
    "\n",
    "                       'Precision': precision,\n",
    "                       'Recall'   : recall,\n",
    "                       'mAP' : mAP,\n",
    "\n",
    "\n",
    "                      })"
   ]
  },
  {
   "cell_type": "code",
   "execution_count": 7,
   "metadata": {
    "id": "9tJYlqfKPYOv",
    "outputId": "c512c477-5e23-45ac-e690-69a3b7736ba6"
   },
   "outputs": [
    {
     "data": {
      "text/html": [
       "<div>\n",
       "<style scoped>\n",
       "    .dataframe tbody tr th:only-of-type {\n",
       "        vertical-align: middle;\n",
       "    }\n",
       "\n",
       "    .dataframe tbody tr th {\n",
       "        vertical-align: top;\n",
       "    }\n",
       "\n",
       "    .dataframe thead th {\n",
       "        text-align: right;\n",
       "    }\n",
       "</style>\n",
       "<table border=\"1\" class=\"dataframe\">\n",
       "  <thead>\n",
       "    <tr style=\"text-align: right;\">\n",
       "      <th></th>\n",
       "      <th>ML Model</th>\n",
       "      <th>Precision</th>\n",
       "      <th>Recall</th>\n",
       "      <th>mAP</th>\n",
       "    </tr>\n",
       "  </thead>\n",
       "  <tbody>\n",
       "    <tr>\n",
       "      <th>0</th>\n",
       "      <td>YoloV5</td>\n",
       "      <td>0.451</td>\n",
       "      <td>0.340</td>\n",
       "      <td>0.324</td>\n",
       "    </tr>\n",
       "    <tr>\n",
       "      <th>1</th>\n",
       "      <td>YoloV7</td>\n",
       "      <td>0.148</td>\n",
       "      <td>0.260</td>\n",
       "      <td>0.127</td>\n",
       "    </tr>\n",
       "    <tr>\n",
       "      <th>2</th>\n",
       "      <td>YoloV8</td>\n",
       "      <td>0.507</td>\n",
       "      <td>0.288</td>\n",
       "      <td>0.323</td>\n",
       "    </tr>\n",
       "  </tbody>\n",
       "</table>\n",
       "</div>"
      ],
      "text/plain": [
       "  ML Model  Precision  Recall    mAP\n",
       "0   YoloV5      0.451   0.340  0.324\n",
       "1   YoloV7      0.148   0.260  0.127\n",
       "2   YoloV8      0.507   0.288  0.323"
      ]
     },
     "execution_count": 7,
     "metadata": {},
     "output_type": "execute_result"
    }
   ],
   "source": [
    "result"
   ]
  },
  {
   "cell_type": "markdown",
   "metadata": {
    "id": "fA-3IaUtiGPx"
   },
   "source": [
    "# Graph"
   ]
  },
  {
   "cell_type": "code",
   "execution_count": 8,
   "metadata": {
    "id": "JwSMDed5Po92"
   },
   "outputs": [],
   "source": [
    "import numpy as np"
   ]
  },
  {
   "cell_type": "code",
   "execution_count": 9,
   "metadata": {
    "id": "PtRug0ZwPYOv"
   },
   "outputs": [],
   "source": [
    "classifier = ML_Model\n",
    "y_pos = np.arange(len(classifier))"
   ]
  },
  {
   "cell_type": "markdown",
   "metadata": {
    "id": "Aq6p0t1oPYOv"
   },
   "source": [
    "# Precision"
   ]
  },
  {
   "cell_type": "code",
   "execution_count": 11,
   "metadata": {
    "id": "BIDpPQyYPYOv",
    "outputId": "f9364175-0b71-44c8-d025-76bd520a1f84"
   },
   "outputs": [
    {
     "data": {
      "image/png": "[encoded data removed]",
      "text/plain": [
       "<Figure size 432x288 with 1 Axes>"
      ]
     },
     "metadata": {
      "needs_background": "light"
     },
     "output_type": "display_data"
    }
   ],
   "source": [
    "import matplotlib.pyplot as plt2\n",
    "plt2.barh(y_pos, precision, align='center', alpha=0.5,color='red')\n",
    "plt2.yticks(y_pos, classifier)\n",
    "plt2.xlabel('Precision Score')\n",
    "plt2.title('Classification Performance')\n",
    "plt2.show()"
   ]
  },
  {
   "cell_type": "markdown",
   "metadata": {
    "id": "SniG0ejzPYOv"
   },
   "source": [
    "# Recall"
   ]
  },
  {
   "cell_type": "code",
   "execution_count": 12,
   "metadata": {
    "id": "rVvcgE6RPYOv",
    "outputId": "495fd221-3de8-4828-c2d5-88815218e62b"
   },
   "outputs": [
    {
     "data": {
      "image/png": "[encoded data removed]",
      "text/plain": [
       "<Figure size 432x288 with 1 Axes>"
      ]
     },
     "metadata": {
      "needs_background": "light"
     },
     "output_type": "display_data"
    }
   ],
   "source": [
    "import matplotlib.pyplot as plt2\n",
    "plt2.barh(y_pos, recall, align='center', alpha=0.5,color='yellow')\n",
    "plt2.yticks(y_pos, classifier)\n",
    "plt2.xlabel('Recall Score')\n",
    "plt2.title('Classification Performance')\n",
    "plt2.show()"
   ]
  },
  {
   "cell_type": "markdown",
   "metadata": {
    "id": "b1X9tGGIPYOv"
   },
   "source": [
    "# mAP"
   ]
  },
  {
   "cell_type": "code",
   "execution_count": 13,
   "metadata": {
    "id": "nkkzqEalPo93",
    "outputId": "35db334e-b4cb-421f-d775-3b58b974b049"
   },
   "outputs": [
    {
     "data": {
      "image/png": "[encoded data removed]",
      "text/plain": [
       "<Figure size 432x288 with 1 Axes>"
      ]
     },
     "metadata": {
      "needs_background": "light"
     },
     "output_type": "display_data"
    }
   ],
   "source": [
    "import matplotlib.pyplot as plt2\n",
    "plt2.barh(y_pos, mAP, align='center', alpha=0.5,color='navy')\n",
    "plt2.yticks(y_pos, classifier)\n",
    "plt2.xlabel('mAP')\n",
    "plt2.title('Classification Performance')\n",
    "plt2.show()"
   ]
  },
  {
   "cell_type": "code",
   "execution_count": null,
   "metadata": {
    "id": "77d6c2wqPo93"
   },
   "outputs": [],
   "source": []
  }
 ],
 "metadata": {
  "accelerator": "GPU",
  "colab": {
   "gpuType": "A100",
   "machine_shape": "hm",
   "provenance": []
  },
  "kernelspec": {
   "display_name": "Python 3",
   "language": "python",
   "name": "python3"
  },
  "language_info": {
   "codemirror_mode": {
    "name": "ipython",
    "version": 3
   },
   "file_extension": ".py",
   "mimetype": "text/x-python",
   "name": "python",
   "nbconvert_exporter": "python",
   "pygments_lexer": "ipython3",
   "version": "3.7.4"
  }
 },
 "nbformat": 4,
 "nbformat_minor": 1
}
